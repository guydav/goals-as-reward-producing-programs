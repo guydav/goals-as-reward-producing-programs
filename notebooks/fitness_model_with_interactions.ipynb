{
 "cells": [
  {
   "cell_type": "code",
   "execution_count": null,
   "metadata": {},
   "outputs": [],
   "source": [
    "%autoreload 2"
   ]
  },
  {
   "cell_type": "code",
   "execution_count": null,
   "metadata": {},
   "outputs": [],
   "source": [
    "from argparse import Namespace\n",
    "from collections import defaultdict\n",
    "import copy\n",
    "import difflib\n",
    "import gzip\n",
    "import itertools\n",
    "import os\n",
    "import pickle\n",
    "import sys\n",
    "import typing\n",
    "\n",
    "from IPython.display import display, Markdown, HTML\n",
    "import matplotlib\n",
    "import matplotlib.pyplot as plt\n",
    "import numpy as np\n",
    "import pandas as pd\n",
    "import sklearn\n",
    "from sklearn.model_selection import GridSearchCV, train_test_split, KFold\n",
    "from sklearn.pipeline import Pipeline\n",
    "import tatsu\n",
    "import torch\n",
    "import torch.nn as nn\n",
    "import torch.nn.functional as F\n",
    "from torch.utils.data import TensorDataset, DataLoader\n",
    "import tqdm.notebook as tqdm\n",
    "\n",
    "\n",
    "sys.path.append(os.path.abspath('..'))\n",
    "sys.path.append(os.path.abspath('../src'))\n",
    "from src import fitness_energy_utils as utils\n",
    "from src.fitness_energy_utils import NON_FEATURE_COLUMNS\n",
    "from src.ast_counter_sampler import *\n",
    "from src.ast_utils import cached_load_and_parse_games_from_file, load_games_from_file, _extract_game_id\n",
    "from src.room_and_object_types import CATEGORIES_TO_TYPES, EMPTY_OBJECT\n",
    "from src.fitness_features import COMMON_SENSE_PREDICATES_FUNCTIONS, PREDICATE_FUNCTION_ARITY_MAP\n",
    "from src import ast_printer"
   ]
  },
  {
   "cell_type": "code",
   "execution_count": null,
   "metadata": {},
   "outputs": [],
   "source": [
    "grammar = open('../dsl/dsl.ebnf').read()\n",
    "grammar_parser = tatsu.compile(grammar)\n",
    "game_asts = cached_load_and_parse_games_from_file('../dsl/interactive-beta.pddl', grammar_parser, False, relative_path='..')\n",
    "real_game_texts = [ast_printer.ast_to_string(ast, '\\n') for ast in game_asts]\n",
    "regrown_game_texts = list(load_games_from_file('../dsl/ast-real-regrowth-samples.pddl'))\n"
   ]
  },
  {
   "cell_type": "code",
   "execution_count": null,
   "metadata": {},
   "outputs": [],
   "source": [
    "fitness_df = utils.load_fitness_data()\n",
    "fitness_df = fitness_df.assign(real=fitness_df.real.astype('int'))\n",
    "fitness_df = fitness_df[list(fitness_df.columns[:4]) + list(fitness_df.columns[-2:]) + list(fitness_df.columns[4:-2])]\n",
    "print(fitness_df.src_file.unique())\n",
    "fitness_df.head()"
   ]
  },
  {
   "cell_type": "code",
   "execution_count": null,
   "metadata": {},
   "outputs": [],
   "source": [
    "with open('../data/features_with_weight_above_threshold_2023_01_31.txt', 'r') as f:\n",
    "    features_with_weight_above_threshold = f.read().splitlines()"
   ]
  },
  {
   "cell_type": "code",
   "execution_count": null,
   "metadata": {},
   "outputs": [],
   "source": [
    "def create_interaction_features_df(df: pd.DataFrame, relevant_features: typing.Iterable[str], interaction_function: typing.Callable = np.multiply) -> pd.DataFrame:\n",
    "    interaction_features_df = pd.concat([df[key] for key in list(NON_FEATURE_COLUMNS) + list(relevant_features)], axis=1)\n",
    "\n",
    "    interaction_features = [interaction_features_df]\n",
    "\n",
    "    for f1, f2 in itertools.combinations(relevant_features, 2):\n",
    "        feature = interaction_function(df[f1], df[f2])\n",
    "        feature.name = f'{f1}_x_{f2}'\n",
    "        interaction_features.append(feature)\n",
    "\n",
    "    interaction_features_df = pd.concat(interaction_features, axis=1)\n",
    "    return interaction_features_df"
   ]
  },
  {
   "cell_type": "code",
   "execution_count": null,
   "metadata": {},
   "outputs": [],
   "source": [
    "interactions_df = create_interaction_features_df(fitness_df, features_with_weight_above_threshold)\n",
    "print(interactions_df.shape)\n",
    "interactions_df.head()"
   ]
  },
  {
   "cell_type": "code",
   "execution_count": null,
   "metadata": {},
   "outputs": [],
   "source": [
    "test_param_grid = [\n",
    "    {\n",
    "        'fitness__loss_function': [utils.fitness_square_square_loss], # [utils.fitness_hinge_loss_with_cross_example],\n",
    "        'fitness__weight_decay': [0.0, 0.25, 1, 2],  \n",
    "        'fitness__margin': [1, 2, 4, 8],\n",
    "        # 'fitness__beta': [0.25, 1, 2, 4],\n",
    "        'fitness__lr':  [1e-1, 3e-2, 1e-2, 3e-3],  # [1e-1, 3e-2, 1e-2, 3e-3],\n",
    "        'fitness__k': [4, 8, 16, 32, 64],\n",
    "        'fitness__batch_size': [2, 4, 8, 16],  # [1, 4, 8, 16],\n",
    "        # 'fitness__alpha': [0, 0.25, 0.5, 0.75, 1], # [0, 0.1, 0.2, 0.3],  #\n",
    "    },\n",
    "    # {\n",
    "    # #     'fitness__loss_function': [utils.fitness_log_loss],\n",
    "    # #     'fitness__weight_decay': [0.0, 0.125, 0.25, 0.5, 1],  \n",
    "    # #     'fitness__lr': [1e-2, 3e-3, 1e-3, 3e-4],\n",
    "    # #     'fitness__k': [16, 32, 64, 128],\n",
    "    # #     'fitness__batch_size': [1, 4, 8, 16],\n",
    "    # # },\n",
    "    # # {\n",
    "    # #     'fitness__loss_function': [utils.fitness_square_square_loss],\n",
    "    # #     'fitness__weight_decay': [0.0, 0.125, 0.25, 0.5, 1],  \n",
    "    # #     'fitness__margin': [1, 2, 4],\n",
    "    # #     'fitness__lr': [1e-2, 3e-3, 1e-3, 3e-4],\n",
    "    # #     'fitness__k': [16, 32, 64, 128],\n",
    "    # #     'fitness__batch_size': [1, 4, 8, 16],\n",
    "    # },   \n",
    "]\n",
    "\n",
    "scaler_kwargs = dict(passthrough=True)\n",
    "model_kwargs = dict(output_activation=nn.Identity())\n",
    "train_kwargs = dict(negative_score_reduction='none')\n",
    "cv_kwargs = dict(refit='single_game_rank')\n",
    "scoring = utils.build_multiple_scoring_function(\n",
    "    [utils.evaluate_fitness_overall_ecdf, utils.evaluate_fitness_single_game_rank],\n",
    "    ['overall_ecdf', 'single_game_rank'],\n",
    ")\n",
    "\n",
    "cv_interactions_sq_sq, (train_tensor_interactions_sq_sq, test_tensor_interactions_sq_sq), test_results_interactions_sq_sq = utils.model_fitting_experiment(interactions_df, test_param_grid,\n",
    "    scoring_function=scoring, verbose=1, scaler_kwargs=scaler_kwargs,\n",
    "    model_kwargs=model_kwargs, train_kwargs=train_kwargs, cv_kwargs=cv_kwargs)\n",
    "\n",
    "\n",
    "utils.visualize_cv_outputs(cv_interactions_sq_sq, train_tensor_interactions_sq_sq, test_tensor_interactions_sq_sq, test_results_interactions_sq_sq, histogram_title_note='with interaction features')"
   ]
  },
  {
   "cell_type": "code",
   "execution_count": null,
   "metadata": {},
   "outputs": [],
   "source": [
    "weights = cv_interactions_sq_sq.best_estimator_.named_steps['fitness'].model.fc1.weight.data.detach().squeeze()  # type: ignore\n",
    "feature_columns = [c for c in interactions_df.columns if c not in NON_FEATURE_COLUMNS]\n",
    "\n",
    "K = 20\n",
    "top_features = torch.topk(weights, K)\n",
    "bottom_features = torch.topk(weights, K, largest=False)\n",
    "\n",
    "lines = []\n",
    "\n",
    "lines.append('### Features with largest negative weights (most predictive of real games:')\n",
    "for i in range(K):\n",
    "    lines.append(f'{i+1}. {feature_columns[bottom_features.indices[i]]} ({bottom_features.values[i]:.4f})')\n",
    "\n",
    "lines.append('### Features with largest positive weights (most predictive of fake games:')\n",
    "for i in range(K):\n",
    "    lines.append((f'{i+1}. {feature_columns[top_features.indices[i]]} ({top_features.values[i]:.4f})'))\n",
    "\n",
    "display(Markdown('\\n'.join(lines)))\n"
   ]
  },
  {
   "cell_type": "code",
   "execution_count": null,
   "metadata": {},
   "outputs": [],
   "source": []
  }
 ],
 "metadata": {
  "kernelspec": {
   "display_name": "game-gen",
   "language": "python",
   "name": "python3"
  },
  "language_info": {
   "codemirror_mode": {
    "name": "ipython",
    "version": 3
   },
   "file_extension": ".py",
   "mimetype": "text/x-python",
   "name": "python",
   "nbconvert_exporter": "python",
   "pygments_lexer": "ipython3",
   "version": "3.10.8"
  },
  "orig_nbformat": 4,
  "vscode": {
   "interpreter": {
    "hash": "a8b8c8d5c21b7aee7bd0053f69e9c255c013bbea7031fbef7e66d58dd46c0fa6"
   }
  }
 },
 "nbformat": 4,
 "nbformat_minor": 2
}
