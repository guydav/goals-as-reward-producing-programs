{
 "cells": [
  {
   "cell_type": "code",
   "execution_count": 1,
   "metadata": {},
   "outputs": [],
   "source": [
    "%autoreload 2"
   ]
  },
  {
   "cell_type": "code",
   "execution_count": 2,
   "metadata": {},
   "outputs": [
    {
     "name": "stderr",
     "output_type": "stream",
     "text": [
      "2023-06-08 15:12:58 - ast_utils - DEBUG    - Using cache folder: /tmp/game_generation_cache\n",
      "2023-06-08 15:12:58 - src.ast_utils - DEBUG    - Using cache folder: /tmp/game_generation_cache\n",
      "/Users/guydavidson/opt/anaconda3/envs/game-gen/lib/python3.10/site-packages/umap/distances.py:1063: NumbaDeprecationWarning: The 'nopython' keyword argument was not supplied to the 'numba.jit' decorator. The implicit default value for this argument is currently False, but it will be changed to True in Numba 0.59.0. See https://numba.readthedocs.io/en/stable/reference/deprecation.html#deprecation-of-object-mode-fall-back-behaviour-when-using-jit for details.\n",
      "  @numba.jit()\n",
      "/Users/guydavidson/opt/anaconda3/envs/game-gen/lib/python3.10/site-packages/umap/distances.py:1071: NumbaDeprecationWarning: The 'nopython' keyword argument was not supplied to the 'numba.jit' decorator. The implicit default value for this argument is currently False, but it will be changed to True in Numba 0.59.0. See https://numba.readthedocs.io/en/stable/reference/deprecation.html#deprecation-of-object-mode-fall-back-behaviour-when-using-jit for details.\n",
      "  @numba.jit()\n",
      "/Users/guydavidson/opt/anaconda3/envs/game-gen/lib/python3.10/site-packages/umap/distances.py:1086: NumbaDeprecationWarning: The 'nopython' keyword argument was not supplied to the 'numba.jit' decorator. The implicit default value for this argument is currently False, but it will be changed to True in Numba 0.59.0. See https://numba.readthedocs.io/en/stable/reference/deprecation.html#deprecation-of-object-mode-fall-back-behaviour-when-using-jit for details.\n",
      "  @numba.jit()\n",
      "/Users/guydavidson/opt/anaconda3/envs/game-gen/lib/python3.10/site-packages/umap/umap_.py:660: NumbaDeprecationWarning: The 'nopython' keyword argument was not supplied to the 'numba.jit' decorator. The implicit default value for this argument is currently False, but it will be changed to True in Numba 0.59.0. See https://numba.readthedocs.io/en/stable/reference/deprecation.html#deprecation-of-object-mode-fall-back-behaviour-when-using-jit for details.\n",
      "  @numba.jit()\n"
     ]
    }
   ],
   "source": [
    "from argparse import Namespace\n",
    "from collections import defaultdict\n",
    "import copy\n",
    "from datetime import datetime\n",
    "import difflib\n",
    "import gzip\n",
    "import itertools\n",
    "import os\n",
    "import pickle\n",
    "import sys\n",
    "import typing\n",
    "\n",
    "from IPython.display import display, Markdown, HTML  # type: ignore\n",
    "import matplotlib\n",
    "import matplotlib.pyplot as plt\n",
    "import numpy as np\n",
    "import pandas as pd\n",
    "import swifter\n",
    "import sklearn\n",
    "from sklearn.model_selection import GridSearchCV, train_test_split, KFold\n",
    "from sklearn.pipeline import Pipeline\n",
    "import tatsu\n",
    "import torch\n",
    "import torch.nn as nn\n",
    "import torch.nn.functional as F\n",
    "from torch.utils.data import TensorDataset, DataLoader\n",
    "import tqdm.notebook as tqdmn\n",
    "\n",
    "import logging\n",
    "logging.getLogger('matplotlib').setLevel(logging.WARNING)\n",
    "logging.getLogger('numba').setLevel(logging.WARNING)\n",
    "\n",
    "sys.path.append(os.path.abspath('..'))\n",
    "sys.path.append(os.path.abspath('../src'))\n",
    "from src import fitness_energy_utils as utils\n",
    "from src.ast_mcmc_regrowth import _load_pickle_gzip\n",
    "from src.fitness_features import *\n",
    "from src.fitness_energy_utils import NON_FEATURE_COLUMNS\n",
    "from src.latest_model_paths import LATEST_FITNESS_FEATURIZER_PATH, LATEST_FITNESS_FUNCTION_DATE_ID, LATEST_FITNESS_FEATURES\n",
    "from src.ast_counter_sampler import *\n",
    "from src.ast_utils import cached_load_and_parse_games_from_file, load_games_from_file, _extract_game_id\n",
    "from src import ast_printer\n",
    "from src.fitness_features_preprocessing import NGRAM_SCORE_PATTERN\n",
    "from src.evolutionary_sampler import *"
   ]
  },
  {
   "cell_type": "code",
   "execution_count": 3,
   "metadata": {},
   "outputs": [],
   "source": [
    "grammar = open('../dsl/dsl.ebnf').read()\n",
    "grammar_parser = tatsu.compile(grammar)\n",
    "real_game_asts = list(cached_load_and_parse_games_from_file('../dsl/interactive-beta.pddl', grammar_parser, False, relative_path='..'))  # type: ignore\n",
    "\n",
    "FEATURIZER_PATH = LATEST_FITNESS_FEATURIZER_PATH\n",
    "MODEL_DATE_ID = LATEST_FITNESS_FUNCTION_DATE_ID\n",
    "MODEL_NAME = DEFAULT_SAVE_MODEL_NAME\n",
    "MAP_ELITES_PATH_SPECS = [\n",
    "    ('2023_05_23', 'samples', 'map_elites_fitness_rank_node_count_specific_predicates_crossover_cognitive_ops_experiment_final'),\n",
    "    ('2023_06_02', 'samples', 'map_elites_fitness_rank_node_count_specific_predicates_crossover_cognitive_ops_experiment_final'),\n",
    "    ('2023_06_05', 'samples', 'map_elites_fitness_rank_node_count_specific_predicates_crossover_cognitive_ops_experiment_final'),\n",
    "    ('2023_05_23', 'samples', 'map_elites_fitness_rank_specific_predicates_setup_crossover_cognitive_ops_experiment_final'),\n",
    "    ('2023_06_02', 'samples', 'map_elites_fitness_rank_specific_predicates_setup_crossover_cognitive_ops_experiment_final'),\n",
    "    ('2023_06_05', 'samples', 'map_elites_fitness_rank_specific_predicates_setup_crossover_cognitive_ops_experiment_final'),\n",
    "]\n",
    "\n",
    "fitness_featurizer = _load_pickle_gzip(FEATURIZER_PATH)\n",
    "fitness_function, feature_names = load_model_and_feature_columns(MODEL_DATE_ID, name=MODEL_NAME, relative_path='..')  # type: ignore\n",
    "original_fitness_function, _ = load_model_and_feature_columns(MODEL_DATE_ID, name=MODEL_NAME, relative_path='..')  # type: ignore"
   ]
  },
  {
   "cell_type": "code",
   "execution_count": 4,
   "metadata": {},
   "outputs": [],
   "source": [
    "DEFAULT_MIN_FITNESS = 0.0\n",
    "\n",
    "def load_map_elites_games(map_elites_path_specs: typing.List[typing.Tuple[str, str, str]], min_fitness: float = DEFAULT_MIN_FITNESS):\n",
    "    map_elites_games = []\n",
    "    for date_id, folder, filename in map_elites_path_specs:\n",
    "        map_elites = typing.cast(MAPElitesSampler, utils.load_data(date_id, folder, filename))\n",
    "        for key in map_elites.population:\n",
    "            if map_elites.fitness_values[key] > min_fitness:\n",
    "                map_elites_games.append((map_elites.population[key], filename))\n",
    "        \n",
    "    return map_elites_games\n",
    "\n",
    "\n",
    "MAP_ELITES_GAMES = load_map_elites_games(MAP_ELITES_PATH_SPECS)"
   ]
  },
  {
   "cell_type": "code",
   "execution_count": 5,
   "metadata": {},
   "outputs": [
    {
     "name": "stdout",
     "output_type": "stream",
     "text": [
      "['interactive-beta.pddl' 'ast-real-regrowth-samples-1024.pddl.gz']\n",
      "(100450, 396)\n"
     ]
    }
   ],
   "source": [
    "fitness_df = utils.load_fitness_data(LATEST_FITNESS_FEATURES)\n",
    "print(fitness_df.src_file.unique())\n",
    "print(fitness_df.shape)\n",
    "\n",
    "fitness_featurizer.preprocessors[1].forced_output_keys = set([c for c in fitness_df.columns if 'arg_types' in c])"
   ]
  },
  {
   "cell_type": "code",
   "execution_count": 6,
   "metadata": {},
   "outputs": [],
   "source": [
    "def create_fitness_df_with_map_elites_games(\n",
    "    fitness_featurizer: ASTFitnessFeaturizer,\n",
    "    map_elites_games: typing.List[tuple], \n",
    "):\n",
    "\n",
    "    for game, filename in tqdmn.tqdm(map_elites_games):\n",
    "        fitness_featurizer.parse(game, filename)\n",
    "\n",
    "    map_elites_fitness_df = fitness_featurizer.to_df(use_prior_values=[True, False])\n",
    "    return utils.process_fitness_df(pd.concat([map_elites_fitness_df], ignore_index=True))"
   ]
  },
  {
   "cell_type": "code",
   "execution_count": 7,
   "metadata": {},
   "outputs": [
    {
     "data": {
      "application/vnd.jupyter.widget-view+json": {
       "model_id": "6741c9dfaea24805a589d00d01ffc5d2",
       "version_major": 2,
       "version_minor": 0
      },
      "text/plain": [
       "  0%|          | 0/3076 [00:00<?, ?it/s]"
      ]
     },
     "metadata": {},
     "output_type": "display_data"
    },
    {
     "name": "stderr",
     "output_type": "stream",
     "text": [
      "2023-06-08 15:15:46 - root - INFO     - No features found for prefix adjacent_side_3_arg_types and suffix setup\n",
      "2023-06-08 15:15:46 - root - INFO     - No features found for prefix agent_holds_arg_types and suffix setup\n",
      "2023-06-08 15:15:46 - root - INFO     - No features to merge for prefix distance_arg_types and suffix setup\n",
      "2023-06-08 15:15:46 - root - INFO     - No features found for prefix in_arg_types and suffix setup\n",
      "2023-06-08 15:15:46 - root - INFO     - No features found for prefix in_motion_arg_types and suffix setup\n",
      "2023-06-08 15:15:46 - root - INFO     - No features to merge for prefix object_orientation_arg_types and suffix setup\n",
      "2023-06-08 15:15:46 - root - INFO     - No features found for prefix touch_arg_types and suffix setup\n",
      "2023-06-08 15:15:46 - root - INFO     - No features to merge for prefix adjacent_arg_types and suffix constraints\n",
      "2023-06-08 15:15:46 - root - INFO     - No features found for prefix adjacent_side_3_arg_types and suffix constraints\n",
      "2023-06-08 15:15:46 - root - INFO     - No features to merge for prefix agent_holds_arg_types and suffix constraints\n",
      "2023-06-08 15:15:46 - root - INFO     - No features to merge for prefix distance_arg_types and suffix constraints\n",
      "2023-06-08 15:15:46 - root - INFO     - No features to merge for prefix in_arg_types and suffix constraints\n",
      "2023-06-08 15:15:46 - root - INFO     - No features to merge for prefix in_motion_arg_types and suffix constraints\n",
      "2023-06-08 15:15:46 - root - INFO     - No features to merge for prefix object_orientation_arg_types and suffix constraints\n",
      "2023-06-08 15:15:46 - root - INFO     - No features to merge for prefix touch_arg_types and suffix constraints\n"
     ]
    },
    {
     "name": "stdout",
     "output_type": "stream",
     "text": [
      "(3076, 310) (100450, 396)\n",
      "Missing columns: {'distance_arg_types_blocks_receptacles_constraints', 'agent_holds_arg_types_furniture_constraints', 'agent_holds_arg_types_agent_constraints', 'in_arg_types_building_receptacles_constraints', 'in_motion_arg_types_furniture_constraints', 'agent_holds_arg_types_small_objects_constraints', 'distance_arg_types_blocks_furniture_setup', 'adjacent_arg_types_furniture_large_objects_setup', 'adjacent_side_3_arg_types_furniture_sides_large_objects_setup', 'distance_arg_types_large_objects_room_features_constraints', 'in_arg_types_balls_balls_constraints', 'on_arg_types_furniture_balls_setup', 'object_orientation_arg_types_other_constraints', 'adjacent_arg_types_other_constraints', 'in_arg_types_receptacles_large_objects_constraints', 'distance_arg_types_blocks_room_features_setup', 'distance_arg_types_large_objects_room_features_setup', 'on_arg_types_blocks_blocks_constraints', 'agent_holds_arg_types_other_constraints', 'on_arg_types_large_objects_balls_constraints', 'distance_arg_types_balls_room_features_setup', 'distance_arg_types_blocks_furniture_constraints', 'in_arg_types_building_blocks_setup', 'touch_arg_types_balls_balls_constraints', 'distance_arg_types_furniture_receptacles_setup', 'touch_arg_types_any_object_balls_constraints', 'on_arg_types_furniture_any_object_setup', 'distance_arg_types_blocks_receptacles_setup', 'adjacent_arg_types_blocks_furniture_setup', 'in_arg_types_any_object_any_object_constraints', 'on_arg_types_blocks_balls_constraints', 'adjacent_arg_types_balls_furniture_setup', 'distance_arg_types_blocks_blocks_constraints', 'distance_arg_types_agent_furniture_constraints', 'touch_arg_types_balls_furniture_constraints', 'adjacent_arg_types_agent_blocks_constraints', 'on_arg_types_any_object_any_object_constraints', 'on_arg_types_furniture_blocks_setup', 'distance_arg_types_other_setup', 'in_arg_types_other_constraints', 'on_arg_types_room_features_large_objects_constraints', 'touch_arg_types_balls_blocks_constraints', 'distance_arg_types_balls_furniture_setup', 'adjacent_arg_types_blocks_room_features_setup', 'in_arg_types_receptacles_receptacles_constraints', 'in_arg_types_building_any_object_constraints', 'object_orientation_arg_types_other_setup', 'on_arg_types_room_features_balls_setup', 'on_arg_types_large_objects_large_objects_setup', 'touch_arg_types_any_object_blocks_constraints', 'in_arg_types_building_blocks_constraints', 'in_motion_arg_types_receptacles_constraints', 'distance_arg_types_other_constraints', 'on_arg_types_balls_balls_constraints', 'adjacent_side_3_arg_types_receptacles_sides_blocks_setup', 'distance_arg_types_agent_balls_constraints', 'distance_arg_types_any_object_room_features_constraints', 'in_arg_types_receptacles_blocks_constraints', 'object_orientation_arg_types_large_objects_orientations_setup', 'on_arg_types_furniture_small_objects_constraints', 'touch_arg_types_blocks_blocks_constraints', 'in_arg_types_receptacles_small_objects_constraints', 'in_motion_arg_types_other_constraints', 'on_arg_types_receptacles_receptacles_constraints', 'object_orientation_arg_types_large_objects_orientations_constraints', 'on_arg_types_receptacles_balls_setup', 'distance_arg_types_balls_blocks_constraints', 'in_motion_arg_types_room_features_constraints', 'touch_arg_types_balls_large_objects_constraints', 'on_arg_types_large_objects_large_objects_constraints', 'in_arg_types_receptacles_building_constraints', 'on_arg_types_room_features_blocks_setup', 'in_motion_arg_types_agent_constraints', 'on_arg_types_blocks_blocks_setup', 'adjacent_arg_types_room_features_room_features_constraints', 'Index', 'agent_holds_arg_types_room_features_constraints', 'distance_arg_types_blocks_blocks_setup', 'distance_arg_types_agent_room_features_constraints', 'on_arg_types_large_objects_receptacles_constraints', 'distance_arg_types_ramps_room_features_setup', 'on_arg_types_receptacles_agent_constraints', 'in_arg_types_furniture_small_objects_constraints', 'adjacent_arg_types_furniture_ramps_setup', 'touch_arg_types_other_constraints', 'on_arg_types_furniture_large_objects_setup'}\n",
      "(3076, 396)\n",
      "0\n"
     ]
    }
   ],
   "source": [
    "map_elites_fitness_df = create_fitness_df_with_map_elites_games(fitness_featurizer, MAP_ELITES_GAMES)\n",
    "print(map_elites_fitness_df.shape, fitness_df.shape)\n",
    "\n",
    "unexpected_columns = set(map_elites_fitness_df.columns) - set(fitness_df.columns)\n",
    "missing_columns = set(fitness_df.columns) - set(map_elites_fitness_df.columns)\n",
    "\n",
    "if len(unexpected_columns) > 0:\n",
    "    raise ValueError(f'Unexpected columns: {unexpected_columns}')\n",
    "\n",
    "if len(missing_columns) > 0:\n",
    "    print(f'Missing columns: {missing_columns}')\n",
    "    map_elites_fitness_df = map_elites_fitness_df.reindex(columns=fitness_df.columns, fill_value=0.0)\n",
    "\n",
    "missing_columns = set(fitness_df.columns) - set(map_elites_fitness_df.columns)\n",
    "if len(missing_columns) > 0:\n",
    "    raise ValueError(f'Failed to fill missing columns: {missing_columns}')\n",
    "\n",
    "print(map_elites_fitness_df.shape)\n",
    "print(map_elites_fitness_df.isna().sum().sum())"
   ]
  },
  {
   "cell_type": "code",
   "execution_count": 8,
   "metadata": {},
   "outputs": [
    {
     "name": "stdout",
     "output_type": "stream",
     "text": [
      "(103526, 395) 98\n"
     ]
    }
   ],
   "source": [
    "combined_fitness_df = pd.concat([fitness_df, map_elites_fitness_df], ignore_index=True).drop(columns=['Index'])\n",
    "print(combined_fitness_df.shape, combined_fitness_df.real.sum())\n"
   ]
  },
  {
   "cell_type": "code",
   "execution_count": 9,
   "metadata": {},
   "outputs": [
    {
     "name": "stdout",
     "output_type": "stream",
     "text": [
      "(3174, 395) 98\n"
     ]
    }
   ],
   "source": [
    "no_regrowths_df = combined_fitness_df[combined_fitness_df.src_file != 'ast-real-regrowth-samples-1024.pddl.gz']\n",
    "\n",
    "print(no_regrowths_df.shape, no_regrowths_df.real.sum())\n"
   ]
  },
  {
   "attachments": {},
   "cell_type": "markdown",
   "metadata": {},
   "source": [
    "## TODO:\n",
    "* Split this dataset into train and test\n",
    "* Fine-tune the existing energy function on this (probably adjusting the value of `k`)\n",
    "* Evaluate the fine-tuned model\n",
    "* Print the changes in feature weights?"
   ]
  },
  {
   "cell_type": "code",
   "execution_count": 10,
   "metadata": {},
   "outputs": [
    {
     "name": "stdout",
     "output_type": "stream",
     "text": [
      "Train tensor shape: torch.Size([78, 1056, 371]) | Test tensor shape: torch.Size([20, 1056, 371])\n"
     ]
    }
   ],
   "source": [
    "RANDOM_SEED = DEFAULT_RANDOM_SEED \n",
    "\n",
    "\n",
    "data_tensor, _ = utils._input_data_to_train_test_tensors(input_data=combined_fitness_df, feature_columns=feature_names,\n",
    "        split_test_set=False, random_seed=RANDOM_SEED, train_prop=utils.DEFAULT_TRAINING_PROP, ignore_original_game=True)\n",
    "\n",
    "train_tensor, test_tensor = utils.train_test_split(data_tensor, random_state=RANDOM_SEED,\n",
    "                train_size=utils.DEFAULT_TRAINING_PROP)\n",
    "\n",
    "\n",
    "if test_tensor is not None:\n",
    "    print(f'Train tensor shape: {train_tensor.shape} | Test tensor shape: {test_tensor.shape}')  # type: ignore\n",
    "else:\n",
    "    print(f'Train tensor shape: {train_tensor.shape}')\n",
    "\n"
   ]
  },
  {
   "cell_type": "code",
   "execution_count": 11,
   "metadata": {},
   "outputs": [
    {
     "data": {
      "text/plain": [
       "(torch.Size([98, 1025, 371]),\n",
       " torch.Size([78, 1025, 371]),\n",
       " torch.Size([20, 1025, 371]))"
      ]
     },
     "execution_count": 11,
     "metadata": {},
     "output_type": "execute_result"
    }
   ],
   "source": [
    "data_tensor_by_original_game, _ = utils._input_data_to_train_test_tensors(input_data=combined_fitness_df, feature_columns=feature_names,\n",
    "        split_test_set=False, random_seed=RANDOM_SEED, train_prop=utils.DEFAULT_TRAINING_PROP, ignore_original_game=False)\n",
    "\n",
    "\n",
    "train_tensor_by_original_game, test_tensor_by_original_game = utils.train_test_split(data_tensor_by_original_game, random_state=RANDOM_SEED,\n",
    "                train_size=utils.DEFAULT_TRAINING_PROP)\n",
    "\n",
    "\n",
    "data_tensor_by_original_game.shape, train_tensor_by_original_game.shape, test_tensor_by_original_game.shape"
   ]
  },
  {
   "cell_type": "code",
   "execution_count": 12,
   "metadata": {},
   "outputs": [
    {
     "name": "stderr",
     "output_type": "stream",
     "text": [
      "  1%|          | 112/20000 [00:17<51:04,  6.49it/s, train_loss=1.69, val_loss=2.07, min_loss=1.66, patience_update_epoch=11]  \n"
     ]
    }
   ],
   "source": [
    "# k = train_tensor.shape[1] - 1\n",
    "# print(f'Using k={k} for fitness function')\n",
    "# fitness_function.named_steps['fitness'].train_kwargs['k'] = k  # type: ignore\n",
    "fitness_function.named_steps['fitness'].init_model = False\n",
    "fitness_function.named_steps['fitness'].train_kwargs['device'] = 'cpu'  # type: ignore\n",
    "fitness_function.named_steps['fitness'].train_kwargs['lr'] = fitness_function.named_steps['fitness'].train_kwargs['lr'] / 10  # type: ignore\n",
    "fitness_function.named_steps['fitness'].train_kwargs['should_tqdm'] = True  # type: ignore\n",
    "fitness_function.named_steps['fitness'].train_kwargs['split_validation_from_train'] = True  # type: ignore\n",
    "fitness_function.named_steps['fitness'].train_kwargs['shuffle_negatives'] = True  # type: ignore\n",
    "fitness_function.named_steps['fitness'].train_kwargs['shuffle_validation_negatives'] = False  # type: ignore\n",
    "fitness_function.named_steps['fitness'].train_kwargs['patience_epochs'] = 100  # type: ignore\n",
    "\n",
    "fine_tuned_fitness_function = fitness_function.fit(train_tensor)"
   ]
  },
  {
   "cell_type": "code",
   "execution_count": 13,
   "metadata": {},
   "outputs": [
    {
     "name": "stdout",
     "output_type": "stream",
     "text": [
      "Before tuning, training set:\n",
      "{'loss': -3.247014284133911, 'overall_ecdf': -0.008316492090530554, 'single_game_rank': 0.9902296662330627, 'single_game_min_rank': 0.9658767580986023, 'energy_of_negative@1%': 90.32298278808594, 'energy_of_negative@5%': 88.08563995361328}\n",
      "After tuning, training set:\n",
      "{'loss': -3.215593099594116, 'overall_ecdf': -0.007906200814854662, 'single_game_rank': 0.991007387638092, 'single_game_min_rank': 0.963981032371521, 'energy_of_negative@1%': 90.47285461425781, 'energy_of_negative@5%': 88.191162109375}\n",
      "Before tuning, test set:\n",
      "{'loss': -3.2634761333465576, 'overall_ecdf': -0.008750000000000003, 'single_game_rank': 0.9912322163581848, 'single_game_min_rank': 0.964928925037384, 'energy_of_negative@1%': 90.46813201904297, 'energy_of_negative@5%': 88.24662017822266}\n",
      "After tuning, test set:\n",
      "{'loss': -3.344238758087158, 'overall_ecdf': -0.009618844696969695, 'single_game_rank': 0.9911373853683472, 'single_game_min_rank': 0.9620853066444397, 'energy_of_negative@1%': 90.56398010253906, 'energy_of_negative@5%': 88.44822692871094}\n"
     ]
    }
   ],
   "source": [
    "print('Before tuning, training set:')\n",
    "print(utils.default_multiple_scoring(original_fitness_function, train_tensor))\n",
    "\n",
    "print('After tuning, training set:')\n",
    "print(utils.default_multiple_scoring(fitness_function, train_tensor))\n",
    "\n",
    "if test_tensor is not None:\n",
    "    print('Before tuning, test set:')\n",
    "    print(utils.default_multiple_scoring(original_fitness_function, test_tensor))\n",
    "\n",
    "    print('After tuning, test set:')\n",
    "    print(utils.default_multiple_scoring(fitness_function, test_tensor))\n"
   ]
  },
  {
   "cell_type": "code",
   "execution_count": null,
   "metadata": {},
   "outputs": [],
   "source": [
    "original_data_tensor, _ = utils._input_data_to_train_test_tensors(input_data=fitness_df, feature_columns=feature_names,\n",
    "        split_test_set=False, random_seed=RANDOM_SEED, train_prop=utils.DEFAULT_TRAINING_PROP, ignore_original_game=True)\n",
    "\n",
    "print(original_data_tensor.shape)\n",
    "\n",
    "print('Before tuning, original full dataset:')\n",
    "print(utils.default_multiple_scoring(original_fitness_function, original_data_tensor))\n",
    "\n",
    "print('After tuning, original full dataset:')\n",
    "print(utils.default_multiple_scoring(fitness_function, original_data_tensor))"
   ]
  },
  {
   "cell_type": "code",
   "execution_count": null,
   "metadata": {},
   "outputs": [],
   "source": [
    "K = 10\n",
    "\n",
    "original_weights = original_fitness_function.named_steps['fitness'].model.fc1.weight.data.detach().squeeze()\n",
    "post_fine_tune_weights = fitness_function.named_steps['fitness'].model.fc1.weight.data.detach().squeeze()\n",
    "\n",
    "weight_changed = original_weights - post_fine_tune_weights\n",
    "larger_in_original = torch.topk(weight_changed, k=K, largest=True)\n",
    "larger_in_fine_tuned = torch.topk(weight_changed, k=K, largest=False)\n",
    "\n",
    "lines = []\n",
    "\n",
    "lines.append('### Features whose weights dropped the most in fine-tuning (lower = more predictive of real games):')\n",
    "for i in range(K):\n",
    "    idx = larger_in_original.indices[i]\n",
    "    lines.append(f'{i+1}. {feature_names[idx]} (Δ{larger_in_original.values[i]:.4f}, {original_weights[idx]:.4f} -> {post_fine_tune_weights[idx]:.4f})')\n",
    "\n",
    "lines.append('### Features whose weights increased the most in fine-tuning (higher = less predictive of real games):')\n",
    "for i in range(K):\n",
    "    idx = larger_in_fine_tuned.indices[i]\n",
    "    lines.append(f'{i+1}. {feature_names[idx]} (Δ{larger_in_original.values[i]:.4f}, {original_weights[idx]:.4f} -> {post_fine_tune_weights[idx]:.4f})')\n",
    "\n",
    "display(Markdown('\\n'.join(lines)))"
   ]
  },
  {
   "cell_type": "code",
   "execution_count": null,
   "metadata": {},
   "outputs": [],
   "source": [
    "K = 20\n",
    "top_features = torch.topk(post_fine_tune_weights, K)\n",
    "bottom_features = torch.topk(post_fine_tune_weights, K, largest=False)\n",
    "\n",
    "lines = []\n",
    "\n",
    "lines.append('### Features with largest negative weights post-fine-tuning (most predictive of real games):')\n",
    "for i in range(K):\n",
    "    lines.append(f'{i+1}. {feature_names[bottom_features.indices[i]]} ({bottom_features.values[i]:.4f})')\n",
    "\n",
    "lines.append('### Features with largest positive weights post-fine-tuning (most predictive of fake games):')\n",
    "for i in range(K):\n",
    "    lines.append((f'{i+1}. {feature_names[top_features.indices[i]]} ({top_features.values[i]:.4f})'))\n",
    "\n",
    "display(Markdown('\\n'.join(lines)))\n"
   ]
  },
  {
   "cell_type": "code",
   "execution_count": null,
   "metadata": {},
   "outputs": [],
   "source": []
  }
 ],
 "metadata": {
  "kernelspec": {
   "display_name": "game-gen",
   "language": "python",
   "name": "python3"
  },
  "language_info": {
   "codemirror_mode": {
    "name": "ipython",
    "version": 3
   },
   "file_extension": ".py",
   "mimetype": "text/x-python",
   "name": "python",
   "nbconvert_exporter": "python",
   "pygments_lexer": "ipython3",
   "version": "3.10.8"
  },
  "orig_nbformat": 4
 },
 "nbformat": 4,
 "nbformat_minor": 2
}
