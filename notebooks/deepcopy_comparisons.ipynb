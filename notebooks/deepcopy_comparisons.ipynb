{
 "cells": [
  {
   "cell_type": "code",
   "execution_count": 6,
   "metadata": {},
   "outputs": [],
   "source": [
    "%autoreload 2"
   ]
  },
  {
   "cell_type": "code",
   "execution_count": 7,
   "metadata": {},
   "outputs": [
    {
     "name": "stderr",
     "output_type": "stream",
     "text": [
      "2023-06-15 13:46:45 - ast_utils - DEBUG    - Using cache folder: /misc/vlgscratch4/LakeGroup/guy/game_generation_cache\n",
      "2023-06-15 13:46:45 - src.ast_utils - DEBUG    - Using cache folder: /misc/vlgscratch4/LakeGroup/guy/game_generation_cache\n"
     ]
    }
   ],
   "source": [
    "from argparse import Namespace\n",
    "import copy\n",
    "import enum\n",
    "import gzip\n",
    "import json\n",
    "import logging\n",
    "import marshal\n",
    "import os\n",
    "import pickle\n",
    "import sys\n",
    "import timeit\n",
    "import typing\n",
    "\n",
    "logging.getLogger('matplotlib').setLevel(logging.WARNING)\n",
    "logging.getLogger('numba').setLevel(logging.WARNING)\n",
    "\n",
    "import dill\n",
    "import msgpack\n",
    "import numpy as np\n",
    "import tatsu\n",
    "import simplejson\n",
    "\n",
    "sys.path.append(os.path.abspath('..'))\n",
    "sys.path.append(os.path.abspath('../src'))\n",
    "from src import fitness_energy_utils as utils\n",
    "from src.fitness_energy_utils import NON_FEATURE_COLUMNS\n",
    "from src.ast_counter_sampler import *\n",
    "from src.fitness_ngram_models import *\n",
    "from src.ast_utils import cached_load_and_parse_games_from_file, load_games_from_file, _extract_game_id\n",
    "from src import ast_printer, ast_parser, ast_mcmc_regrowth, latest_model_paths"
   ]
  },
  {
   "cell_type": "code",
   "execution_count": 8,
   "metadata": {},
   "outputs": [
    {
     "name": "stderr",
     "output_type": "stream",
     "text": [
      "2023-06-15 13:46:57 - src.ast_utils - DEBUG    - Updating cache with 98 new games\n",
      "2023-06-15 13:46:57 - src.ast_utils - DEBUG    - About to finally update the cache\n"
     ]
    },
    {
     "name": "stdout",
     "output_type": "stream",
     "text": [
      "98\n"
     ]
    }
   ],
   "source": [
    "grammar = open('../dsl/dsl.ebnf').read()\n",
    "grammar_parser = tatsu.compile(grammar)\n",
    "game_asts = list(cached_load_and_parse_games_from_file('../dsl/interactive-beta.pddl', grammar_parser, False, relative_path='..', force_rebuild=True))\n",
    "# real_game_texts = [ast_printer.ast_to_string(ast, '\\n') for ast in game_asts]\n",
    "# regrown_game_texts = list(load_games_from_file('../dsl/ast-real-regrowth-samples.pddl'))\n",
    "\n",
    "# regrown_game_asts = list(cached_load_and_parse_games_from_file('../dsl/ast-real-regrowth-samples-1024.pddl.gz', grammar_parser, True, relative_path='..'))\n",
    "\n",
    "print(len(game_asts))\n"
   ]
  },
  {
   "cell_type": "code",
   "execution_count": 5,
   "metadata": {},
   "outputs": [],
   "source": [
    "def original_deepcopy(ast):\n",
    "    return copy.deepcopy(ast)\n",
    "\n",
    "\n",
    "def pickle_deepcopy(ast):\n",
    "    return pickle.loads(pickle.dumps(ast))\n",
    "\n",
    "\n",
    "def dill_deepcopy(ast):\n",
    "    return dill.loads(dill.dumps(ast))\n",
    "\n",
    "\n",
    "def json_deepcopy(ast):\n",
    "    return json.loads(json.dumps(ast))\n",
    "\n",
    "\n",
    "def simplejson_deepcopy(ast):\n",
    "    return simplejson.loads(simplejson.dumps(ast))\n",
    "\n",
    "\n",
    "def marshal_deepcopy(ast):\n",
    "    return marshal.loads(marshal.dumps(ast))\n",
    "\n",
    "\n",
    "class ExtTypeID(enum.IntEnum):\n",
    "    AST = 0\n",
    "    PARSE_INFO = 1\n",
    "    TUPLE = 2\n",
    "    CLOSURE = 3\n",
    "\n",
    "\n",
    "\n",
    "def msgpack_default(obj):\n",
    "    if isinstance(obj, tatsu.ast.AST):\n",
    "        return msgpack.ExtType(ExtTypeID.AST, msgpack.packb(dict(obj), default=msgpack_default, strict_types=True))\n",
    "    elif isinstance(obj, tatsu.infos.ParseInfo):\n",
    "        return msgpack.ExtType(ExtTypeID.PARSE_INFO, msgpack.packb(list(obj), default=msgpack_default, strict_types=True))\n",
    "    elif isinstance(obj, tuple):\n",
    "        return msgpack.ExtType(ExtTypeID.TUPLE, msgpack.packb(list(obj), default=msgpack_default, strict_types=True))\n",
    "    elif isinstance(obj, tatsu.contexts.closure):\n",
    "        return msgpack.ExtType(ExtTypeID.CLOSURE, msgpack.packb(list(obj), default=msgpack_default, strict_types=True))\n",
    "    else:\n",
    "        raise ValueError(f'Unknown type in msgpack_default: {type(obj)}')\n",
    "\n",
    "    return obj\n",
    "\n",
    "\n",
    "def msgpack_ext_hook(code, data):\n",
    "    if code == ExtTypeID.AST:\n",
    "        return tatsu.ast.AST(msgpack.unpackb(data, ext_hook=msgpack_ext_hook))\n",
    "    elif code == ExtTypeID.PARSE_INFO:\n",
    "        return tatsu.infos.ParseInfo(*msgpack.unpackb(data, ext_hook=msgpack_ext_hook))\n",
    "    elif code == ExtTypeID.TUPLE:\n",
    "        return tuple(msgpack.unpackb(data, ext_hook=msgpack_ext_hook))\n",
    "    elif code == ExtTypeID.CLOSURE:\n",
    "        return tatsu.contexts.closure(msgpack.unpackb(data, ext_hook=msgpack_ext_hook))\n",
    "\n",
    "    return data\n",
    "\n",
    "\n",
    "def msgpack_deepcopy(ast):\n",
    "    return msgpack.unpackb(msgpack.packb(ast, default=msgpack_default, strict_types=True), ext_hook=msgpack_ext_hook)\n",
    "\n",
    "\n",
    "def msgpack_ast_restore(obj, depth: int = 0):\n",
    "    if depth == 0:\n",
    "        return tuple([msgpack_ast_restore(item, depth + 1) for item in obj])\n",
    "\n",
    "    if isinstance(obj, list):\n",
    "        out = [msgpack_ast_restore(item, depth + 1) for item in obj]\n",
    "        if depth == 1:\n",
    "            return tuple(out)\n",
    "        \n",
    "        return out\n",
    "\n",
    "    if isinstance(obj, dict):\n",
    "        out = {}\n",
    "        for key, val in obj.items():\n",
    "            if key == 'parseinfo':\n",
    "                val = tatsu.infos.ParseInfo(*val)\n",
    "\n",
    "            out[key] = msgpack_ast_restore(val, depth + 1)\n",
    "\n",
    "        return tatsu.ast.AST(out)\n",
    "        \n",
    "    return obj\n",
    "\n",
    "\n",
    "def msgpack_restore_deepcopy(ast):\n",
    "    return msgpack_ast_restore(msgpack.unpackb(msgpack.packb(ast)))\n",
    "\n",
    "\n",
    "def json_restore_deepcopy(ast):\n",
    "    return msgpack_ast_restore(json_deepcopy(ast))\n",
    "\n",
    "\n",
    "def simplejson_restore_deepcopy(ast):\n",
    "    return msgpack_ast_restore(simplejson_deepcopy(ast))\n",
    "\n",
    "\n",
    "def ast_printer_deepcopy(ast):\n",
    "    # TODO: think about multiprocessing issues\n",
    "    ast_printer.BUFFER = []\n",
    "    ast_printer.pretty_print_ast(ast)\n",
    "    return grammar_parser.parse(''.join(ast_printer.BUFFER))\n",
    "\n",
    "\n",
    "DEEPCOPY_METHODS = {\n",
    "    # 'original': original_deepcopy,  # also quite slow\n",
    "    'pickle': pickle_deepcopy,\n",
    "    # 'dill': dill_deepcopy,  # incredibly slow\n",
    "    'json': json_deepcopy,\n",
    "    'json_restore': json_restore_deepcopy,\n",
    "    # 'simplejson': simplejson_deepcopy,  # strictly slower than regular json\n",
    "    # 'simplejson_restore': simplejson_restore_deepcopy,  # strictly slower than built-in json\n",
    "    # 'marshal': marshal_deepcopy,  # unmarshalable\n",
    "    # 'msgpack': msgpack_deepcopy,  # too slow with ext types\n",
    "    'msgpack_restore': msgpack_restore_deepcopy,\n",
    "    # 'ast_printer': ast_printer_deepcopy,  # really slow\n",
    "}"
   ]
  },
  {
   "attachments": {},
   "cell_type": "markdown",
   "metadata": {},
   "source": [
    "## TODO\n",
    "* Pure-python messagepack with ext_types\n",
    "* simplejson with default or with deepcopy restore?\n",
    "* ...?"
   ]
  },
  {
   "cell_type": "code",
   "execution_count": 12,
   "metadata": {},
   "outputs": [
    {
     "name": "stdout",
     "output_type": "stream",
     "text": [
      "pickle: 31.912119068205357\n",
      "json: 19.5588649045676\n",
      "json_restore: 36.88173092715442\n",
      "msgpack_restore: 26.70975672453642\n"
     ]
    }
   ],
   "source": [
    "def time_methods(methods=DEEPCOPY_METHODS, asts=game_asts, number=1000):\n",
    "    for name, method in methods.items():\n",
    "        try:\n",
    "            time = timeit.timeit(lambda: [method(ast) for ast in asts], number=number)\n",
    "            print(f'{name}: {time}')\n",
    "        except Exception as e:\n",
    "            print(f'{name}: {e}')\n",
    "\n",
    "time_methods(number=500)"
   ]
  },
  {
   "cell_type": "code",
   "execution_count": null,
   "metadata": {},
   "outputs": [],
   "source": [
    "for ast in game_asts:\n",
    "    frontier = [ast]\n",
    "    while frontier:\n",
    "        item = frontier.pop(0)\n",
    "        if isinstance(item, (list, tuple)):\n",
    "            frontier.extend(item)\n",
    "\n",
    "        if isinstance(item, (dict, tatsu.ast.AST)):\n",
    "            for key, value in item.items():\n",
    "                if isinstance(value, tatsu.buffering.Buffer):\n",
    "                    print(key, value)\n",
    "                else:\n",
    "                    frontier.append(value)"
   ]
  },
  {
   "cell_type": "code",
   "execution_count": null,
   "metadata": {},
   "outputs": [],
   "source": [
    "def msgpack_default(obj):\n",
    "    print(f'msgpack_default: {type(obj)}')\n",
    "    if isinstance(obj, tatsu.ast.AST):\n",
    "        return msgpack.ExtType(0, msgpack.packb(obj))\n",
    "\n",
    "    if isinstance(obj, tatsu.infos.ParseInfo):\n",
    "        return msgpack.ExtType(1, msgpack.packb(obj))\n",
    "\n",
    "    return obj\n",
    "\n",
    "\n",
    "def msgpack_ext_hook(code, data):\n",
    "    print(f'msgpack_ext_hook: {code}')\n",
    "    if code == 0:\n",
    "        return tatsu.ast.AST(msgpack.unpackb(data))\n",
    "    if code == 1:\n",
    "        return tatsu.infos.ParseInfo(msgpack.unpackb(data))\n",
    "\n",
    "    return data\n",
    "\n",
    "\n",
    "def msgpack_deepcopy(ast):\n",
    "    return msgpack.unpackb(msgpack.packb(ast, default=msgpack_default), ext_hook=msgpack_ext_hook)\n",
    "\n",
    "\n",
    "\n",
    "\n",
    "\n",
    "msgpack.packb(game_asts[0][3][1], default=msgpack_default, strict_types=True)"
   ]
  },
  {
   "cell_type": "code",
   "execution_count": null,
   "metadata": {},
   "outputs": [],
   "source": [
    "import enum\n",
    "\n",
    "\n",
    "class ExtTypeID(enum.IntEnum):\n",
    "    AST = 0\n",
    "    PARSE_INFO = 1\n",
    "    TUPLE = 2\n",
    "    CLOSURE = 3\n",
    "\n",
    "\n",
    "def msgpack_default(obj):\n",
    "    if isinstance(obj, tatsu.ast.AST):\n",
    "        return msgpack.ExtType(ExtTypeID.AST, msgpack.packb(dict(obj), default=msgpack_default, strict_types=True))\n",
    "    elif isinstance(obj, tatsu.infos.ParseInfo):\n",
    "        return msgpack.ExtType(ExtTypeID.PARSE_INFO, msgpack.packb(list(obj), default=msgpack_default, strict_types=True))\n",
    "    elif isinstance(obj, tuple):\n",
    "        return msgpack.ExtType(ExtTypeID.TUPLE, msgpack.packb(list(obj), default=msgpack_default, strict_types=True))\n",
    "    elif isinstance(obj, tatsu.contexts.closure):\n",
    "        return msgpack.ExtType(ExtTypeID.CLOSURE, msgpack.packb(list(obj), default=msgpack_default, strict_types=True))\n",
    "    else:\n",
    "        raise ValueError(f'Unknown type in msgpack_default: {type(obj)}')\n",
    "\n",
    "    return obj\n",
    "\n",
    "\n",
    "def msgpack_ext_hook(code, data):\n",
    "    if code == ExtTypeID.AST:\n",
    "        return tatsu.ast.AST(msgpack.unpackb(data, ext_hook=msgpack_ext_hook))\n",
    "    elif code == ExtTypeID.PARSE_INFO:\n",
    "        return tatsu.infos.ParseInfo(*msgpack.unpackb(data, ext_hook=msgpack_ext_hook))\n",
    "    elif code == ExtTypeID.TUPLE:\n",
    "        return tuple(msgpack.unpackb(data, ext_hook=msgpack_ext_hook))\n",
    "    elif code == ExtTypeID.CLOSURE:\n",
    "        return tatsu.contexts.closure(msgpack.unpackb(data, ext_hook=msgpack_ext_hook))\n",
    "\n",
    "    return data\n",
    "\n",
    "\n",
    "def msgpack_deepcopy(ast):\n",
    "    return msgpack.unpackb(msgpack.packb(ast, default=msgpack_default, strict_types=True), ext_hook=msgpack_ext_hook)\n",
    "\n",
    "\n",
    "for ast in game_asts:\n",
    "    copied_ast = msgpack_deepcopy(ast)\n",
    "    sample_str = ast_printer.ast_to_string(ast, '\\n')\n",
    "    copied_sample_str = ast_printer.ast_to_string(copied_ast, '\\n')\n",
    "    print(sample_str == copied_sample_str)\n",
    " \n"
   ]
  },
  {
   "cell_type": "code",
   "execution_count": null,
   "metadata": {},
   "outputs": [],
   "source": [
    "def msgpack_ast_restore(obj, depth: int = 0):\n",
    "    if depth == 0:\n",
    "        return tuple([msgpack_ast_restore(item, depth + 1) for item in obj])\n",
    "\n",
    "    if isinstance(obj, list):\n",
    "        out = [msgpack_ast_restore(item, depth + 1) for item in obj]\n",
    "        if depth == 1:\n",
    "            return tuple(out)\n",
    "        \n",
    "        return out\n",
    "\n",
    "    if isinstance(obj, dict):\n",
    "        out = {}\n",
    "        for key, val in obj.items():\n",
    "            if key == 'parseinfo':\n",
    "                val = tatsu.infos.ParseInfo(*val)\n",
    "\n",
    "            out[key] = msgpack_ast_restore(val, depth + 1)\n",
    "\n",
    "        return tatsu.ast.AST(out)\n",
    "        \n",
    "    return obj\n",
    "\n",
    "\n",
    "def msgpack_restore_deepcopy(ast):\n",
    "    return msgpack_ast_restore(msgpack.unpackb(msgpack.packb(ast)))\n",
    "\n",
    "for ast in game_asts:\n",
    "    copied_ast = msgpack_restore_deepcopy(ast)\n",
    "    sample_str = ast_printer.ast_to_string(ast, '\\n')\n",
    "    copied_sample_str = ast_printer.ast_to_string(copied_ast, '\\n')\n",
    "    if sample_str != copied_sample_str:\n",
    "        print(sample_str)\n",
    "        print(copied_sample_str)\n",
    "        break"
   ]
  },
  {
   "cell_type": "code",
   "execution_count": 8,
   "metadata": {},
   "outputs": [],
   "source": [
    "class TestParser(ast_parser.ASTParser):\n",
    "    def __init__(self):\n",
    "        self.game_name = ''\n",
    "\n",
    "    def _handle_ast(self, ast, **kwargs):\n",
    "        if ast.parseinfo.rule == 'game_def':\n",
    "            self.game_name = ast.game_name\n",
    "\n",
    "        elif ast.parseinfo.rule == 'then':\n",
    "            if any(not isinstance(sf, tatsu.ast.AST) for sf in ast.then_funcs):\n",
    "                print(self.game_name, ast.then_funcs)\n",
    "            \n",
    "        super()._handle_ast(ast, **kwargs)\n",
    "\n",
    "\n",
    "tp = TestParser()\n",
    "for ast in game_asts:\n",
    "    tp(ast)"
   ]
  },
  {
   "cell_type": "code",
   "execution_count": 9,
   "metadata": {},
   "outputs": [],
   "source": [
    "DEFAULT_ARGS = argparse.Namespace(\n",
    "    grammar_file=os.path.join('..', DEFAULT_GRAMMAR_FILE),\n",
    "    parse_counter=False,\n",
    "    counter_output_path=os.path.join('..', DEFAULT_COUNTER_OUTPUT_PATH),\n",
    "    random_seed=DEFAULT_RANDOM_SEED,\n",
    ")\n",
    "\n",
    "grammar = open(DEFAULT_ARGS.grammar_file).read()\n",
    "grammar_parser = typing.cast(tatsu.grammars.Grammar, tatsu.compile(grammar))  # type: ignore\n",
    "counter = parse_or_load_counter(DEFAULT_ARGS, grammar_parser)\n",
    "\n",
    "sampler = ASTSampler(grammar_parser, counter, seed=DEFAULT_RANDOM_SEED) \n",
    "regrowth_sampler = RegrowthSampler(sampler, seed=DEFAULT_RANDOM_SEED, rng=sampler.rng)\n",
    "\n",
    "initial_sampler = ast_mcmc_regrowth.create_initial_proposal_sampler(\n",
    "    ast_mcmc_regrowth.InitialProposalSamplerType.SECTION_SAMPLER,\n",
    "    sampler, \n",
    "    latest_model_paths.LATEST_AST_N_GRAM_MODEL_PATH,\n",
    ")"
   ]
  },
  {
   "cell_type": "code",
   "execution_count": 20,
   "metadata": {},
   "outputs": [],
   "source": [
    "N_SAMPLES = 100\n",
    "\n",
    "def generate_and_duplicate_sample(idx):\n",
    "    sample = None\n",
    "    while sample is None:\n",
    "        try:\n",
    "            sample = initial_sampler.sample(global_context=dict(original_game_id=f'evo-{idx}'))\n",
    "\n",
    "        except RecursionError:\n",
    "            continue\n",
    "        except SamplingException:\n",
    "            continue\n",
    "\n",
    "    copied_sample = msgpack_restore_deepcopy(sample)\n",
    "    if copied_sample is sample:\n",
    "        raise ValueError('Sample is not copied')\n",
    "    \n",
    "    sample_str = ast_printer.ast_to_string(sample, '\\n')\n",
    "    copied_sample_str = ast_printer.ast_to_string(copied_sample, '\\n')\n",
    "    return sample_str, copied_sample_str\n",
    "\n",
    "\n",
    "for idx in range(N_SAMPLES):\n",
    "    sample_str, copied_sample_str = generate_and_duplicate_sample(idx)\n",
    "    if sample_str != copied_sample_str:\n",
    "        print(sample_str)\n",
    "        print(copied_sample_str)\n",
    "        break"
   ]
  },
  {
   "cell_type": "code",
   "execution_count": 2,
   "metadata": {},
   "outputs": [
    {
     "ename": "NameError",
     "evalue": "name 'generate_and_duplicate_sample' is not defined",
     "output_type": "error",
     "traceback": [
      "\u001b[0;31m---------------------------------------------------------------------------\u001b[0m",
      "\u001b[0;31mNameError\u001b[0m                                 Traceback (most recent call last)",
      "Cell \u001b[0;32mIn[2], line 5\u001b[0m\n\u001b[1;32m      2\u001b[0m \u001b[39mfrom\u001b[39;00m \u001b[39mmultiprocess\u001b[39;00m \u001b[39mimport\u001b[39;00m pool \u001b[39mas\u001b[39;00m mpp\n\u001b[1;32m      4\u001b[0m \u001b[39mwith\u001b[39;00m mpp\u001b[39m.\u001b[39mPool(\u001b[39m12\u001b[39m) \u001b[39mas\u001b[39;00m pool:\n\u001b[0;32m----> 5\u001b[0m     \u001b[39mfor\u001b[39;00m (sample_str, copied_sample_str) \u001b[39min\u001b[39;00m pool\u001b[39m.\u001b[39mmap(generate_and_duplicate_sample, \u001b[39mrange\u001b[39m(\u001b[39m2000\u001b[39m)):\n\u001b[1;32m      6\u001b[0m         \u001b[39mif\u001b[39;00m sample_str \u001b[39m!=\u001b[39m copied_sample_str:\n\u001b[1;32m      7\u001b[0m             \u001b[39mprint\u001b[39m(sample_str)\n",
      "\u001b[0;31mNameError\u001b[0m: name 'generate_and_duplicate_sample' is not defined"
     ]
    }
   ],
   "source": [
    "import multiprocess as multiprocessing\n",
    "from multiprocess import pool as mpp\n",
    "\n",
    "with mpp.Pool(12) as pool:\n",
    "    for (sample_str, copied_sample_str) in pool.map(generate_and_duplicate_sample, range(2000)):\n",
    "        if sample_str != copied_sample_str:\n",
    "            print(sample_str)\n",
    "            print(copied_sample_str)\n",
    "            break"
   ]
  },
  {
   "cell_type": "code",
   "execution_count": 11,
   "metadata": {},
   "outputs": [],
   "source": [
    "from itertools import chain\n",
    "from collections import deque\n",
    "\n",
    "def total_size(o, handlers={}, verbose=False):\n",
    "    \"\"\" Returns the approximate memory footprint an object and all of its contents.\n",
    "\n",
    "    Automatically finds the contents of the following builtin containers and\n",
    "    their subclasses:  tuple, list, deque, dict, set and frozenset.\n",
    "    To search other containers, add handlers to iterate over their contents:\n",
    "\n",
    "        handlers = {SomeContainerClass: iter,\n",
    "                    OtherContainerClass: OtherContainerClass.get_elements}\n",
    "\n",
    "    \"\"\"\n",
    "    dict_handler = lambda d: chain.from_iterable(d.items())\n",
    "    all_handlers = {tuple: iter,\n",
    "                    list: iter,\n",
    "                    deque: iter,\n",
    "                    dict: dict_handler,\n",
    "                    set: iter,\n",
    "                    frozenset: iter,\n",
    "                   }\n",
    "    all_handlers.update(handlers)     # user handlers take precedence\n",
    "    seen = set()                      # track which object id's have already been seen\n",
    "    default_size = sys.getsizeof(0)       # estimate sizeof object without __sizeof__\n",
    "\n",
    "    def sizeof(o):\n",
    "        if id(o) in seen:       # do not double count the same object\n",
    "            return 0\n",
    "        seen.add(id(o))\n",
    "        s = sys.getsizeof(o, default_size)\n",
    "\n",
    "        if verbose:\n",
    "            print(s, type(o), repr(o), file=sys.stderr)\n",
    "\n",
    "        for typ, handler in all_handlers.items():\n",
    "            if isinstance(o, typ):\n",
    "                s += sum(map(sizeof, handler(o)))\n",
    "                break\n",
    "        return s\n",
    "\n",
    "    return sizeof(o)"
   ]
  },
  {
   "cell_type": "code",
   "execution_count": 13,
   "metadata": {},
   "outputs": [
    {
     "name": "stdout",
     "output_type": "stream",
     "text": [
      "278818\n"
     ]
    }
   ],
   "source": [
    "max_size = 0\n",
    "for ast in game_asts:\n",
    "    max_size = max(max_size, total_size(ast))\n",
    "\n",
    "print(max_size)"
   ]
  },
  {
   "cell_type": "code",
   "execution_count": 15,
   "metadata": {},
   "outputs": [
    {
     "name": "stdout",
     "output_type": "stream",
     "text": [
      "94.38803822919726\n"
     ]
    }
   ],
   "source": [
    "time = timeit.timeit(lambda: [total_size(ast) for ast in game_asts], number=1000)\n",
    "print(time)"
   ]
  },
  {
   "cell_type": "code",
   "execution_count": 18,
   "metadata": {},
   "outputs": [],
   "source": [
    "import pebble"
   ]
  },
  {
   "cell_type": "code",
   "execution_count": 19,
   "metadata": {},
   "outputs": [
    {
     "ename": "AttributeError",
     "evalue": "module 'pebble' has no attribute 'current_process'",
     "output_type": "error",
     "traceback": [
      "\u001b[0;31m---------------------------------------------------------------------------\u001b[0m",
      "\u001b[0;31mAttributeError\u001b[0m                            Traceback (most recent call last)",
      "Cell \u001b[0;32mIn[19], line 1\u001b[0m\n\u001b[0;32m----> 1\u001b[0m pebble\u001b[39m.\u001b[39;49mcurrent_process()\n",
      "\u001b[0;31mAttributeError\u001b[0m: module 'pebble' has no attribute 'current_process'"
     ]
    }
   ],
   "source": [
    "pebble.current_process()"
   ]
  }
 ],
 "metadata": {
  "kernelspec": {
   "display_name": "game-gen",
   "language": "python",
   "name": "python3"
  },
  "language_info": {
   "codemirror_mode": {
    "name": "ipython",
    "version": 3
   },
   "file_extension": ".py",
   "mimetype": "text/x-python",
   "name": "python",
   "nbconvert_exporter": "python",
   "pygments_lexer": "ipython3",
   "version": "3.10.8"
  },
  "orig_nbformat": 4
 },
 "nbformat": 4,
 "nbformat_minor": 2
}
