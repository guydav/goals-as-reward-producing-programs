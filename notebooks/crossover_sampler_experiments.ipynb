{
 "cells": [
  {
   "cell_type": "code",
   "execution_count": null,
   "metadata": {},
   "outputs": [],
   "source": [
    "%autoreload 2|"
   ]
  },
  {
   "cell_type": "code",
   "execution_count": null,
   "metadata": {},
   "outputs": [],
   "source": [
    "from collections import defaultdict\n",
    "from argparse import Namespace\n",
    "import copy\n",
    "import difflib\n",
    "import gzip\n",
    "import itertools\n",
    "import os\n",
    "import pickle\n",
    "import sys\n",
    "import typing\n",
    "\n",
    "from IPython.display import display, Markdown, HTML\n",
    "import matplotlib\n",
    "import matplotlib.pyplot as plt\n",
    "import numpy as np\n",
    "import pandas as pd\n",
    "import tatsu\n",
    "import tatsu.ast\n",
    "import torch\n",
    "import torch.nn as nn\n",
    "import torch.nn.functional as F\n",
    "from torch.utils.data import TensorDataset, DataLoader\n",
    "import tqdm\n",
    "import sklearn\n",
    "from sklearn.model_selection import GridSearchCV, train_test_split, KFold\n",
    "from sklearn.pipeline import Pipeline\n",
    "\n",
    "sys.path.append(os.path.abspath('..'))\n",
    "sys.path.append(os.path.abspath('../src'))\n",
    "from src import fitness_energy_utils as utils\n",
    "from src.fitness_energy_utils import NON_FEATURE_COLUMNS\n",
    "from src.fitness_features import build_fitness_featurizer, ASTFitnessFeaturizer\n",
    "from src.ast_counter_sampler import *\n",
    "from src.ast_mcmc_regrowth import *\n",
    "from src import ast_printer"
   ]
  },
  {
   "cell_type": "code",
   "execution_count": null,
   "metadata": {},
   "outputs": [],
   "source": [
    "DEFAULT_ARGS = argparse.Namespace(\n",
    "    grammar_file=os.path.join('..', DEFAULT_GRAMMAR_FILE),\n",
    "    parse_counter=False,\n",
    "    counter_output_path=os.path.join('..', DEFAULT_COUNTER_OUTPUT_PATH),\n",
    "    random_seed=DEFUALT_RANDOM_SEED,\n",
    ")"
   ]
  },
  {
   "cell_type": "code",
   "execution_count": null,
   "metadata": {},
   "outputs": [],
   "source": [
    "import ast_crossover_sampler\n",
    "from ast_counter_sampler import DEFAULT_GRAMMAR_FILE\n",
    "from ast_utils import cached_load_and_parse_games_from_file\n",
    "grammar = open(DEFAULT_ARGS.grammar_file).read()\n",
    "grammar_parser = tatsu.compile(grammar)\n",
    "counter = parse_or_load_counter(DEFAULT_ARGS, grammar_parser)\n",
    "sampler = ASTSampler(grammar_parser, counter, seed=DEFAULT_ARGS.random_seed)\n",
    "asts = [ast for ast in cached_load_and_parse_games_from_file('../dsl/interactive-beta.pddl', \n",
    "    grammar_parser, False, relative_path='..')]\n"
   ]
  },
  {
   "cell_type": "code",
   "execution_count": null,
   "metadata": {},
   "outputs": [],
   "source": [
    "crossover_sampler = ast_crossover_sampler.CrossoverSampler(\n",
    "    ast_crossover_sampler.CrossoverType.SAME_RULE, \n",
    "    asts[1:],\n",
    "    sampler,\n",
    "    DEFAULT_ARGS.random_seed,\n",
    "    use_tqdm=True,\n",
    ")\n",
    "crossover_sampler.set_source_ast(asts[0])"
   ]
  },
  {
   "cell_type": "code",
   "execution_count": 1,
   "metadata": {},
   "outputs": [
    {
     "ename": "NameError",
     "evalue": "name 'crossover_sampler' is not defined",
     "output_type": "error",
     "traceback": [
      "\u001b[0;31m---------------------------------------------------------------------------\u001b[0m",
      "\u001b[0;31mNameError\u001b[0m                                 Traceback (most recent call last)",
      "Cell \u001b[0;32mIn[1], line 3\u001b[0m\n\u001b[1;32m      1\u001b[0m samples \u001b[39m=\u001b[39m []\n\u001b[1;32m      2\u001b[0m \u001b[39mfor\u001b[39;00m i \u001b[39min\u001b[39;00m \u001b[39mrange\u001b[39m(\u001b[39m10\u001b[39m):\n\u001b[0;32m----> 3\u001b[0m     s \u001b[39m=\u001b[39m crossover_sampler\u001b[39m.\u001b[39msample(i, crossover_key_to_use\u001b[39m=\u001b[39m\u001b[39m'\u001b[39m\u001b[39mvariable_list\u001b[39m\u001b[39m'\u001b[39m)\n\u001b[1;32m      4\u001b[0m     samples\u001b[39m.\u001b[39mappend(s)\n\u001b[1;32m      5\u001b[0m     \u001b[39mprint\u001b[39m(ast_printer\u001b[39m.\u001b[39mast_to_string(s, \u001b[39m'\u001b[39m\u001b[39m\\n\u001b[39;00m\u001b[39m'\u001b[39m))\n",
      "\u001b[0;31mNameError\u001b[0m: name 'crossover_sampler' is not defined"
     ]
    }
   ],
   "source": [
    "samples = []\n",
    "for i in range(10):\n",
    "    s = crossover_sampler.sample(i, crossover_key_to_use='variable_list')\n",
    "    samples.append(s)\n",
    "    print(ast_printer.ast_to_string(s, '\\n'))\n",
    "    print('=' * 80)"
   ]
  },
  {
   "cell_type": "code",
   "execution_count": null,
   "metadata": {},
   "outputs": [],
   "source": [
    "html_diff = difflib.HtmlDiff(wrapcolumn=60)\n",
    "\n",
    "def diff_by_index(index: int):\n",
    "    src = crossover_sampler.source_ast\n",
    "    mod = samples[index]\n",
    "    src_str = ast_printer.ast_to_string(src, '\\n')\n",
    "    mod_str = ast_printer.ast_to_string(mod, '\\n')\n",
    "\n",
    "    diff = html_diff.make_file(src_str.splitlines(), mod_str.splitlines())  #, context=True, numlines=0)\n",
    "    display(HTML(diff))"
   ]
  },
  {
   "cell_type": "code",
   "execution_count": null,
   "metadata": {},
   "outputs": [],
   "source": [
    "diff_by_index(3)"
   ]
  },
  {
   "cell_type": "code",
   "execution_count": null,
   "metadata": {},
   "outputs": [],
   "source": []
  }
 ],
 "metadata": {
  "kernelspec": {
   "display_name": "game-gen",
   "language": "python",
   "name": "python3"
  },
  "language_info": {
   "codemirror_mode": {
    "name": "ipython",
    "version": 3
   },
   "file_extension": ".py",
   "mimetype": "text/x-python",
   "name": "python",
   "nbconvert_exporter": "python",
   "pygments_lexer": "ipython3",
   "version": "3.10.8 | packaged by conda-forge | (main, Nov 22 2022, 08:27:35) [Clang 14.0.6 ]"
  },
  "orig_nbformat": 4,
  "vscode": {
   "interpreter": {
    "hash": "d207b42274502bc006609ff0f580407f35ab20e7889cda7ddd92e73aeb06c569"
   }
  }
 },
 "nbformat": 4,
 "nbformat_minor": 2
}
