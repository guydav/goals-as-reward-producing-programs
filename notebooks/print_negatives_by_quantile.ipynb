{
 "cells": [
  {
   "cell_type": "code",
   "execution_count": null,
   "metadata": {},
   "outputs": [],
   "source": [
    "%load_ext autoreload\n",
    "%autoreload 2\n"
   ]
  },
  {
   "cell_type": "code",
   "execution_count": null,
   "metadata": {},
   "outputs": [],
   "source": [
    "from argparse import Namespace\n",
    "from collections import defaultdict\n",
    "import copy\n",
    "import difflib\n",
    "import gzip\n",
    "import itertools\n",
    "import os\n",
    "import pickle\n",
    "import sys\n",
    "import typing\n",
    "\n",
    "import logging\n",
    "logging.getLogger('matplotlib').setLevel(logging.WARNING)\n",
    "\n",
    "from IPython.display import display, Markdown, HTML\n",
    "import matplotlib\n",
    "import matplotlib.pyplot as plt\n",
    "import numpy as np\n",
    "import pandas as pd\n",
    "import sklearn\n",
    "from sklearn.model_selection import GridSearchCV, train_test_split, KFold\n",
    "from sklearn.pipeline import Pipeline\n",
    "import tatsu\n",
    "import torch\n",
    "import torch.nn as nn\n",
    "import torch.nn.functional as F\n",
    "from torch.utils.data import TensorDataset, DataLoader\n",
    "import tqdm.notebook as tqdm\n",
    "\n",
    "\n",
    "sys.path.append(os.path.abspath('..'))\n",
    "sys.path.append(os.path.abspath('../src'))\n",
    "sys.path.append(os.path.abspath('../reward-machine'))\n",
    "from src import fitness_energy_utils as utils\n",
    "from src.fitness_energy_utils import NON_FEATURE_COLUMNS\n",
    "from src.ast_counter_sampler import *\n",
    "from src.evolutionary_sampler import *\n",
    "from src.ast_utils import cached_load_and_parse_games_from_file, load_games_from_file, _extract_game_id\n",
    "from src import ast_printer\n",
    "from latest_model_paths import MAP_ELIETS_MODELS, LATEST_FITNESS_FUNCTION_DATE_ID"
   ]
  },
  {
   "cell_type": "code",
   "execution_count": null,
   "metadata": {},
   "outputs": [],
   "source": [
    "grammar = open('../dsl/dsl.ebnf').read()\n",
    "grammar_parser = tatsu.compile(grammar)\n",
    "game_asts = list(cached_load_and_parse_games_from_file('../dsl/interactive-beta.pddl', grammar_parser, False, relative_path='..'))\n",
    "real_game_texts = [ast_printer.ast_to_string(ast, '\\n') for ast in game_asts]\n",
    "regrown_game_1024_texts = list(load_games_from_file('../dsl/ast-real-regrowth-samples-1024.pddl.gz'))\n",
    "print(len(real_game_texts), len(regrown_game_1024_texts), len(regrown_game_1024_texts) / 98)\n"
   ]
  },
  {
   "cell_type": "code",
   "execution_count": null,
   "metadata": {},
   "outputs": [],
   "source": [
    "def extract_game_index(game_name: str):\n",
    "    first_dash = game_name.find('-')\n",
    "    second_dash = game_name.find('-', first_dash + 1)\n",
    "    index = game_name[first_dash + 1:second_dash] if second_dash != -1 else game_name[first_dash + 1:]\n",
    "    return int(index)\n",
    "\n",
    "\n",
    "def extract_negative_index(game_name: str):\n",
    "    first_dash = game_name.find('-')\n",
    "    second_dash = game_name.find('-', first_dash + 1)\n",
    "    if second_dash == -1:\n",
    "        return -1\n",
    "    \n",
    "    third_dash = game_name.find('-', second_dash + 1)\n",
    "    index = game_name[second_dash + 1:third_dash]\n",
    "    return int(index)\n",
    "\n",
    "\n",
    "fitness_df = utils.load_fitness_data('../data/fitness_features_1024_regrowths.csv.gz')\n",
    "\n",
    "# fitness_df = fitness_df.assign(real=fitness_df.real.astype('int'), game_index=fitness_df.game_name.apply(extract_game_index), \n",
    "#                                negative_index= fitness_df.game_name.apply(extract_negative_index), fake=~fitness_df.real.astype('int'))\n",
    "# fitness_df = fitness_df.sort_values(by=['fake', 'game_index', 'negative_index'], ignore_index=True).reset_index(drop=True)\n",
    "# fitness_df.drop(columns=['Index', 'fake', 'game_index', 'negative_index'], inplace=True)\n",
    "print(fitness_df.src_file.unique())\n",
    "fitness_df.head()"
   ]
  },
  {
   "cell_type": "code",
   "execution_count": null,
   "metadata": {},
   "outputs": [],
   "source": [
    "# Change here if you want to use a different model\n",
    "model_date_id = LATEST_FITNESS_FUNCTION_DATE_ID\n",
    "data_df = fitness_df\n",
    "cv_energy_model, feature_columns = utils.load_model_and_feature_columns(model_date_id)\n",
    "print(len(feature_columns))\n"
   ]
  },
  {
   "cell_type": "markdown",
   "metadata": {},
   "source": [
    "## Real Games"
   ]
  },
  {
   "cell_type": "code",
   "execution_count": null,
   "metadata": {},
   "outputs": [],
   "source": [
    "def _display_game(title: str, game_text: str):\n",
    "    display(Markdown(f'### {title}:'))\n",
    "    display(Markdown(f'```pddl\\n{game_text}\\n```'))\n",
    "\n",
    "\n",
    "def dispaly_real_game(index: int):\n",
    "    title = f'Game #{index} ({game_asts[index][1].game_name})'\n",
    "    game_text = real_game_texts[index]\n",
    "    _display_game(title, game_text)\n",
    "\n",
    "\n",
    "dispaly_real_game(0)"
   ]
  },
  {
   "cell_type": "markdown",
   "metadata": {},
   "source": [
    "## MAP-Elites Games"
   ]
  },
  {
   "cell_type": "code",
   "execution_count": null,
   "metadata": {},
   "outputs": [],
   "source": [
    "# keys and specs defined in `latest_model_paths.MAP_ELIETS_MODELS`\n",
    "\n",
    "map_elites_model_key = 'previous_object_and_predicates_with_expected_values_bc'\n",
    "map_elites_model_spec = MAP_ELIETS_MODELS[map_elites_model_key]\n",
    "map_elites_model = typing.cast(MAPElitesSampler, map_elites_model_spec.load())\n",
    "\n",
    "\n",
    "display_overall_features = False   # set to true to show which features drive energy most up/down\n",
    "\n",
    "# If you want one of the top samples, by descending index\n",
    "map_elites_model.visualize_top_sample(1, display_overall_features=display_overall_features)\n",
    "\n",
    "# If you want a random sample\n",
    "# map_elites_model.visualize_random_sample(display_overall_features=display_overall_features)\n",
    "\n",
    "# If you want a specific sample by key\n",
    "# key = (1, 0, 1, 1, 1, 0, 1, 0, 0, 0, 1)\n",
    "# map_elites_model._visualize_sample_by_key(key, display_overall_features=display_overall_features)\n"
   ]
  },
  {
   "cell_type": "markdown",
   "metadata": {},
   "source": [
    "## Regrown negatives"
   ]
  },
  {
   "cell_type": "code",
   "execution_count": null,
   "metadata": {},
   "outputs": [],
   "source": [
    "full_tensor = utils.df_to_tensor(data_df, feature_columns)\n",
    "if 'wrapper' in cv_energy_model.named_steps: cv_energy_model.named_steps['wrapper'].eval()\n",
    "full_tensor_scores = cv_energy_model.transform(full_tensor).detach()\n",
    "\n",
    "real_game_scores = full_tensor_scores[:, 0]\n",
    "\n",
    "print(f'Real game scores: {real_game_scores.mean():.4f} ± {real_game_scores.std():.4f}, min = {real_game_scores.min():.4f}, max = {real_game_scores.max():.4f}')\n",
    "\n",
    "negatives_scores = full_tensor_scores[:, 1:]\n",
    "torch.quantile(negatives_scores.ravel(), torch.linspace(0, 1, 11))\n",
    "print(f'20th percentile negative energy: {torch.quantile(negatives_scores.ravel(), 0.2)}')"
   ]
  },
  {
   "cell_type": "code",
   "execution_count": null,
   "metadata": {},
   "outputs": [],
   "source": [
    "steps = torch.linspace(0, 1, 101)\n",
    "percentiles = torch.quantile(negatives_scores.ravel(), steps)\n",
    "print(steps)\n",
    "print(f'Energy percentiles: {steps}')"
   ]
  },
  {
   "cell_type": "code",
   "execution_count": null,
   "metadata": {},
   "outputs": [],
   "source": [
    "def print_negatives_from_quantile(quantile: int, n_games: int, output_dir: str = './temp_outputs/'):\n",
    "    min_energy = percentiles[20 * quantile]\n",
    "    max_energy = percentiles[20 * (quantile + 1)]\n",
    "    quantile_indices = ((negatives_scores >= min_energy) & (negatives_scores <= max_energy)).nonzero()\n",
    "    game_indices = torch.randperm(quantile_indices.shape[0])[:n_games]\n",
    "    lines = [f'; Games from quantile #{quantile} with energies in the range [{min_energy:.4f} ({int(steps[2 * quantile] * 100)}%), {max_energy:.4f} ({int(steps[2 * (quantile + 1)] * 100)}%) ]']\n",
    "    for idx in game_indices:\n",
    "        overall_index = 98 * quantile_indices[idx, 0] + quantile_indices[idx, 1]\n",
    "        lines.append(f'; Game with index {overall_index} and energy {negatives_scores[quantile_indices[idx, 0], quantile_indices[idx, 1], quantile_indices[idx, 2]]:.4f}')\n",
    "        lines.append(regrown_game_1024_texts[overall_index])\n",
    "        lines.append('')\n",
    "\n",
    "    with open(os.path.join(output_dir, f'quantile_{quantile}.txt'), 'w') as f:\n",
    "        f.write('\\n'.join(lines))\n",
    "\n",
    "\n",
    "# n_games_to_print = 25\n",
    "# for q in range(5):\n",
    "#     print_negatives_from_quantile(q, n_games_to_print)\n",
    "    \n"
   ]
  },
  {
   "cell_type": "code",
   "execution_count": null,
   "metadata": {},
   "outputs": [],
   "source": [
    "RANDOM_SEED = 33\n",
    "torch.manual_seed(RANDOM_SEED)\n",
    "\n",
    "N_GAMES = 20\n",
    "N_GAMES_PER_QUANTILE = 10\n",
    "N_QUANTILES = 4\n",
    "\n",
    "original_game_indices = list(torch.randperm(full_tensor.shape[0])[:N_GAMES].numpy())\n",
    "regrowths_by_original_game_index_and_quantile = {idx: {} for idx in original_game_indices}\n",
    "\n",
    "for game_idx in original_game_indices:\n",
    "    for q in range(N_QUANTILES):\n",
    "        quantile_step = int(100 / N_QUANTILES)\n",
    "        min_energy = percentiles[quantile_step * q]\n",
    "        max_energy = percentiles[quantile_step * (q + 1)]\n",
    "        game_negatives = negatives_scores[game_idx].squeeze()\n",
    "        quantile_indices = ((game_negatives >= min_energy) & (game_negatives <= max_energy)).nonzero().squeeze()\n",
    "        negatives_in_quantile_indices = torch.randperm(quantile_indices.shape[0])[:N_GAMES_PER_QUANTILE]\n",
    "        regrowths_by_original_game_index_and_quantile[game_idx][q] = list(quantile_indices[negatives_in_quantile_indices].numpy())\n",
    "\n",
    "        "
   ]
  },
  {
   "cell_type": "code",
   "execution_count": null,
   "metadata": {},
   "outputs": [],
   "source": [
    "import csv\n",
    "from game_describer import GameDescriber\n",
    "describer = GameDescriber(grammar_path='../dsl/dsl.ebnf')\n"
   ]
  },
  {
   "cell_type": "code",
   "execution_count": null,
   "metadata": {},
   "outputs": [],
   "source": [
    "game_idx = 0  # 0 to N_GAMES - 1\n",
    "quantile = 3  # 0 to N_QUANTILES - 1\n",
    "negative_idx = 0  # 0 to N_GAMES_PER_QUANTILE - 1\n",
    "\n",
    "with open(\"./test.csv\", 'w') as f:\n",
    "    writer = csv.writer(f)\n",
    "    writer.writerow([\"SECTION\", \"STAGE 0\", \"STAGE 1\", \"STAGE 2\"])\n",
    "    for game_idx in range(0, 20):\n",
    "        # for quantile in range(0, 4):\n",
    "        quantile = game_idx % 4\n",
    "        print(f\"Testing game {game_idx}, quantile {quantile}\")\n",
    "        original_game_index = original_game_indices[game_idx]\n",
    "        original_game = real_game_texts[original_game_index]\n",
    "        regrowth_game = regrown_game_1024_texts[original_game_index * 1024 + regrowths_by_original_game_index_and_quantile[original_game_index][quantile][negative_idx]]\n",
    "\n",
    "        stage_0 = describer.describe_stage_0(regrowth_game)\n",
    "        stage_1 = describer.describe_stage_1(regrowth_game)\n",
    "\n",
    "        for section_idx, section in enumerate([\"SETUP\", \"PREFERENCES\", \"TERMINAL\", \"SCORING\"]):\n",
    "            writer.writerow([f\"[Game {game_idx}] [Quantile {quantile}] {section}\", stage_0[section_idx], stage_1[section_idx], \"\"])\n",
    "\n",
    "        writer.writerow([\"\", \"\", \"\", \"\"])\n",
    "\n",
    "        "
   ]
  },
  {
   "cell_type": "code",
   "execution_count": null,
   "metadata": {},
   "outputs": [],
   "source": [
    "def visualize_game_diff(game_idx: int, quantile: int, negative_idx: int, output_dir: str = './temp_outputs/'):\n",
    "    original_game_index = original_game_indices[game_idx]\n",
    "    original_game = real_game_texts[original_game_index]\n",
    "    regrowth_game = regrown_game_1024_texts[original_game_index * 1024 + regrowths_by_original_game_index_and_quantile[original_game_index][quantile][negative_idx]]\n",
    "\n",
    "    utils.display_game_diff_html(original_game, regrowth_game)\n",
    "\n",
    "\n",
    "game_index = 0  # 0 to N_GAMES - 1\n",
    "quantile = 3  # 0 to N_QUANTILES - 1\n",
    "negative_index = 0  # 0 to N_GAMES_PER_QUANTILE - 1\n",
    "\n",
    "visualize_game_diff(game_index, quantile, negative_index)\n",
    "    "
   ]
  }
 ],
 "metadata": {
  "kernelspec": {
   "display_name": "game-gen",
   "language": "python",
   "name": "python3"
  },
  "language_info": {
   "codemirror_mode": {
    "name": "ipython",
    "version": 3
   },
   "file_extension": ".py",
   "mimetype": "text/x-python",
   "name": "python",
   "nbconvert_exporter": "python",
   "pygments_lexer": "ipython3",
   "version": "3.10.8"
  },
  "orig_nbformat": 4
 },
 "nbformat": 4,
 "nbformat_minor": 2
}
