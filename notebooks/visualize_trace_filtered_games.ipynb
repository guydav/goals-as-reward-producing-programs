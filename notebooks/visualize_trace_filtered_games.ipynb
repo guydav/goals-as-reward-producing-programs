{
 "cells": [
  {
   "cell_type": "code",
   "execution_count": 1,
   "metadata": {},
   "outputs": [],
   "source": [
    "%autoreload 2"
   ]
  },
  {
   "cell_type": "code",
   "execution_count": 2,
   "metadata": {},
   "outputs": [
    {
     "name": "stderr",
     "output_type": "stream",
     "text": [
      "2023-08-23 14:42:01 - ast_utils - DEBUG    - Using cache folder: /misc/vlgscratch4/LakeGroup/guy/game_generation_cache\n",
      "2023-08-23 14:42:01 - src.ast_utils - DEBUG    - Using cache folder: /misc/vlgscratch4/LakeGroup/guy/game_generation_cache\n"
     ]
    }
   ],
   "source": [
    "from collections import defaultdict, Counter\n",
    "from argparse import Namespace\n",
    "import copy\n",
    "import gzip\n",
    "import itertools\n",
    "import math\n",
    "import os\n",
    "import pickle\n",
    "import sys\n",
    "import typing\n",
    "\n",
    "import logging\n",
    "logging.getLogger('matplotlib').setLevel(logging.WARNING)\n",
    "\n",
    "from IPython.display import display, Markdown, HTML  # type: ignore\n",
    "import matplotlib\n",
    "import matplotlib.axes\n",
    "import matplotlib.pyplot as plt\n",
    "from Levenshtein import distance as _edit_distance\n",
    "import numpy as np\n",
    "import pandas as pd\n",
    "import tabulate\n",
    "import tatsu\n",
    "import tatsu.ast\n",
    "import torch\n",
    "import torch.nn as nn\n",
    "import torch.nn.functional as F\n",
    "from torch.utils.data import TensorDataset, DataLoader\n",
    "import tabulate\n",
    "from tqdm.notebook import tqdm\n",
    "from scipy import stats\n",
    "import sklearn\n",
    "from sklearn.model_selection import GridSearchCV, train_test_split, KFold\n",
    "from sklearn.pipeline import Pipeline\n",
    "\n",
    "sys.path.append(os.path.abspath('..'))\n",
    "sys.path.append(os.path.abspath('../src'))\n",
    "from src.ast_utils import _extract_game_id, deepcopy_ast\n",
    "from src import fitness_energy_utils as utils\n",
    "from src.fitness_energy_utils import NON_FEATURE_COLUMNS\n",
    "from src.fitness_features import *\n",
    "from src.ast_counter_sampler import *\n",
    "from src.evolutionary_sampler import *"
   ]
  },
  {
   "cell_type": "code",
   "execution_count": 3,
   "metadata": {},
   "outputs": [
    {
     "name": "stderr",
     "output_type": "stream",
     "text": [
      "2023-08-23 14:42:05 - ast_utils - INFO     - Loading from cache file: /misc/vlgscratch4/LakeGroup/guy/game_generation_cache/interactive-beta-cache.pkl.gz\n",
      "2023-08-23 14:42:06 - ast_utils - INFO     - Finished loading cache file: /misc/vlgscratch4/LakeGroup/guy/game_generation_cache/interactive-beta-cache.pkl.gz\n"
     ]
    }
   ],
   "source": [
    "\n",
    "grammar = open('../dsl/dsl.ebnf').read()\n",
    "grammar_parser = tatsu.compile(grammar)\n",
    "game_asts = list(cached_load_and_parse_games_from_file('../dsl/interactive-beta.pddl', grammar_parser, False, relative_path='..'))\n",
    "real_game_texts = [ast_printer.ast_to_string(ast, '\\n') for ast in game_asts]\n",
    "# regrown_game_texts = list(load_games_from_file('../dsl/ast-real-regrowth-samples.pddl'))\n",
    "# regrown_game_1024_texts = list(load_games_from_file('../dsl/ast-real-regrowth-samples-1024.pddl'))\n",
    "# print(len(real_game_texts), len(regrown_game_texts), len(regrown_game_texts) / 98, len(regrown_game_1024_texts), len(regrown_game_1024_texts) / 98)\n"
   ]
  },
  {
   "cell_type": "code",
   "execution_count": 4,
   "metadata": {},
   "outputs": [],
   "source": [
    "postprocessor = ast_parser.ASTSamplePostprocessor()\n",
    "postprocessed_real_game_texts = [ast_printer.ast_to_string(postprocessor(ast), '\\n') for ast in game_asts]  # type: ignore\n",
    "\n",
    "real_game_edit_distances = np.zeros((len(game_asts), len(game_asts)), dtype=int)\n",
    "for i, j in itertools.combinations(range(len(game_asts)), 2):\n",
    "    real_game_edit_distances[i, j] = real_game_edit_distances[j, i] = edit_distance(postprocessed_real_game_texts[i], postprocessed_real_game_texts[j])\n",
    "\n",
    "\n",
    "def edit_distance(first_game_text: str, second_game_text: str):\n",
    "    first_game_text = first_game_text[first_game_text.find(')', first_game_text.find('(:domain')) + 1:]\n",
    "    second_game_text = second_game_text[second_game_text.find(')', second_game_text.find('(:domain')) + 1:]\n",
    "    return _edit_distance(first_game_text, second_game_text)\n",
    "\n",
    "\n",
    "def find_nearest_real_game_indices(game, k: int = 3) -> typing.Tuple[np.ndarray, np.ndarray]:\n",
    "    game_str = ast_printer.ast_to_string(game, '\\n')\n",
    "    distances = np.array([edit_distance(game_str, real_game) for real_game in postprocessed_real_game_texts])\n",
    "    nearest_real_game_indices = np.argsort(distances)[:k]\n",
    "    return nearest_real_game_indices, distances[nearest_real_game_indices]\n",
    "\n",
    "\n",
    "def print_nearest_real_games(game, k: int = 3):\n",
    "    indices, distances = find_nearest_real_game_indices(game, k)\n",
    "    for i, (idx, d) in enumerate(zip(indices, distances)):\n",
    "        real_game_distances = real_game_edit_distances[idx]\n",
    "        nearest_distance_indices = np.argsort(real_game_distances)[1:k + 1]  # index 0 is the game itself\n",
    "        display(Markdown(f'### Nearest real game #{i + 1}:'))\n",
    "        display(Markdown(f'Edit distance to sample {d}, real game nearest neighbor distances {np.array2string(real_game_distances[nearest_distance_indices], separator=\", \")}):\\n'))\n",
    "        display(Markdown(f'```pddl\\n{real_game_texts[idx]}\\n```'))\n"
   ]
  },
  {
   "cell_type": "code",
   "execution_count": 5,
   "metadata": {},
   "outputs": [],
   "source": [
    "SUBPLOTS_ADJUST_PARAMS = dict(top=0.925)\n",
    "DEFAULT_IGNORE_METRICS = ['Timestamp']\n",
    "\n",
    "def plot_sampler_fitness_trajectory(\n",
    "        evo: PopulationBasedSampler, title: typing.Optional[str] = None, \n",
    "        axsize: typing.Tuple[int, int] = (8, 6),\n",
    "        plot_metrics: typing.Optional[bool] = None, \n",
    "        ignore_metrics: typing.Optional[typing.List[str]] = DEFAULT_IGNORE_METRICS,\n",
    "        subplots_adjust_params: typing.Dict[str, float] = SUBPLOTS_ADJUST_PARAMS,\n",
    "        min_real_game_fitness: float = 57.9193, max_real_game_fitness: float = 62.9249): \n",
    "\n",
    "    if plot_metrics is None:\n",
    "        plot_metrics = hasattr(evo, 'archive_metrics_history') and len(evo.archive_metrics_history) > 0  # type: ignore\n",
    "\n",
    "    if ignore_metrics is None:\n",
    "        ignore_metrics = []\n",
    "            \n",
    "    layout = (1, 2) if plot_metrics else (1, 1)\n",
    "    figsize = (axsize[0] * layout[1], axsize[1])\n",
    "\n",
    "    fig, axes = plt.subplots(*layout, figsize=figsize)\n",
    "\n",
    "    mean, max_fit, std = [], [], []\n",
    "    for step_dict in evo.fitness_metrics_history:\n",
    "        mean.append(step_dict['mean'])\n",
    "        max_fit.append(step_dict['max'])\n",
    "        std.append(step_dict['std'])\n",
    "\n",
    "    mean = np.array(mean)\n",
    "    max_fit = np.array(max_fit)\n",
    "    std = np.array(std)\n",
    "\n",
    "    fitness_ax = typing.cast(matplotlib.axes.Axes, axes[0] if plot_metrics else axes)\n",
    "\n",
    "    fitness_ax.plot(mean, label='mean fitness')\n",
    "    fitness_ax.fill_between(np.arange(len(mean)), mean - std, mean + std, alpha=0.2, label='std')  # type; ignore\n",
    "    fitness_ax.plot(max_fit, label='max fitness')\n",
    "\n",
    "    fitness_ax.hlines(min_real_game_fitness, 0, len(mean), label='min real game fitness', color='black', ls='--')\n",
    "    fitness_ax.hlines(max_real_game_fitness, 0, len(mean), label='max real game fitness', color='black', ls='--')\n",
    "\n",
    "    fitness_ax.set_xlabel('Generation')\n",
    "    fitness_ax.set_ylabel('Fitness')\n",
    "\n",
    "    fitness_ax.legend(loc='best')\n",
    "    \n",
    "    if plot_metrics:\n",
    "        metrics = {key: [] for key in evo.archive_metrics_history[0].keys() if key not in ignore_metrics}  # type: ignore\n",
    "        for step_dict in evo.archive_metrics_history:  # type: ignore\n",
    "            for key, value in step_dict.items():\n",
    "                if key in metrics:\n",
    "                    metrics[key].append(value)\n",
    "\n",
    "        metrics_ax = typing.cast(matplotlib.axes.Axes, axes[1])\n",
    "        for key, values in metrics.items():\n",
    "            metrics_ax.plot(values, label=key)\n",
    "\n",
    "        metrics_ax.set_xlabel('Generation')\n",
    "        metrics_ax.set_ylabel('Metric Value')\n",
    "\n",
    "        metrics_ax.legend(loc='best')\n",
    "\n",
    "        plt.subplots_adjust(**subplots_adjust_params)\n",
    "        \n",
    "    if title is not None:\n",
    "        if plot_metrics:\n",
    "            plt.suptitle(title)\n",
    "        else:\n",
    "            plt.title(title)\n",
    "\n",
    "    plt.show()\n",
    "\n",
    "\n",
    "def count_games_above_fitness_threshold(evo: PopulationBasedSampler, threshold: float) -> int:\n",
    "    if isinstance(evo.fitness_values, dict):\n",
    "        fitness_values = evo.fitness_values.values()\n",
    "    else:\n",
    "        fitness_values = evo.fitness_values\n",
    "\n",
    "    return sum(1 for fitness in fitness_values if fitness >= threshold)"
   ]
  },
  {
   "cell_type": "code",
   "execution_count": 6,
   "metadata": {},
   "outputs": [
    {
     "name": "stderr",
     "output_type": "stream",
     "text": [
      "2023-08-23 14:42:07 - compile_predicate_statistics_full_database - INFO     - Loading data from files\n",
      "2023-08-23 14:42:23 - compile_predicate_statistics_full_database - INFO     - Creating DuckDB table...\n",
      "2023-08-23 14:42:25 - compile_predicate_statistics_full_database - INFO     - Loaded data, found 1708171 rows\n"
     ]
    },
    {
     "data": {
      "image/png": "[encoded data removed]",
      "text/plain": [
       "<Figure size 1600x600 with 2 Axes>"
      ]
     },
     "metadata": {},
     "output_type": "display_data"
    }
   ],
   "source": [
    "min_real_game_fitness = 95.1030 \n",
    "max_real_game_fitness = 100.7051\n",
    "\n",
    "predicate_and_object_groups_bb_go = typing.cast(MAPElitesSampler, utils.load_data('2023_08_11', 'samples', 'map_elites_longer_predicate_and_object_groups_bb_go_seed_33_final'))\n",
    "plot_sampler_fitness_trajectory(predicate_and_object_groups_bb_go, 'MAP-Elites, Category-level ngram using predicate and object group bins + split balls/receptacles + add any_object feature',\n",
    "                                min_real_game_fitness=min_real_game_fitness, max_real_game_fitness=max_real_game_fitness)"
   ]
  },
  {
   "cell_type": "code",
   "execution_count": 9,
   "metadata": {},
   "outputs": [
    {
     "name": "stdout",
     "output_type": "stream",
     "text": [
      "dict_keys(['summary', 'full'])\n"
     ]
    }
   ],
   "source": [
    "trace_filter_results = utils.load_data('2023_08_23', 'samples', 'trace_filter_results_map_elites_longer_predicate_and_object_groups_bb_go_seed_33_final_2023_08_11')\n",
    "print(trace_filter_results.keys())\n",
    "trace_filter_results_summary = trace_filter_results['summary']\n",
    "trace_filter_results_full = trace_filter_results['full']"
   ]
  },
  {
   "cell_type": "code",
   "execution_count": 10,
   "metadata": {},
   "outputs": [
    {
     "name": "stdout",
     "output_type": "stream",
     "text": [
      "-1: 29\n",
      "0: 323\n",
      "1: 106\n",
      "2: 27\n",
      "3: 27\n",
      "4: 40\n",
      "5: 472\n",
      "672\n"
     ]
    }
   ],
   "source": [
    "result_counts = Counter(trace_filter_results_summary.values())\n",
    "for key in sorted(result_counts.keys()):\n",
    "    print(f'{key}: {result_counts[key]}')\n",
    "\n",
    "print(sum(v for k, v in result_counts.items() if k > 0))"
   ]
  },
  {
   "cell_type": "code",
   "execution_count": 26,
   "metadata": {},
   "outputs": [],
   "source": [
    "zero_values_keys = [k for k, v in trace_filter_results_summary.items() if v == 0]\n",
    "keys_by_value = defaultdict(list)\n",
    "for k, v in trace_filter_results_summary.items():\n",
    "    keys_by_value[v].append(k)"
   ]
  },
  {
   "cell_type": "code",
   "execution_count": 48,
   "metadata": {},
   "outputs": [
    {
     "name": "stdout",
     "output_type": "stream",
     "text": [
      "Preference satisfaction counts:\n",
      "(:setup: 57\n",
      "preference0: 101\n",
      "preference1: 1\n",
      "preference2: 13\n",
      "\n",
      "Sample features for key (0, 1, 0, 1, 0, 1, 1, 1, 1, 1):\n",
      "predicate_used_agent_holds|in_motion: 0\n",
      "predicate_used_in: 1\n",
      "predicate_used_on|touch: 0\n",
      "predicate_used_adjacent|between: 1\n",
      "object_category_used_balls: 0\n",
      "object_category_used_receptacles: 1\n",
      "object_category_used_blocks|building: 1\n",
      "object_category_used_furniture|room_features: 1\n",
      "object_category_used_small_objects|large_objects: 1\n",
      "object_category_used_any_object: 1\n"
     ]
    },
    {
     "data": {
      "text/markdown": [
       "### Energy of visualized game: -92.090"
      ],
      "text/plain": [
       "<IPython.core.display.Markdown object>"
      ]
     },
     "metadata": {},
     "output_type": "display_data"
    },
    {
     "data": {
      "text/markdown": [
       "### Top features contributing to the game's energy\n",
       "feature name: **value** = (original feature value => regrown feature value) * weight"
      ],
      "text/plain": [
       "<IPython.core.display.Markdown object>"
      ]
     },
     "metadata": {},
     "output_type": "display_data"
    },
    {
     "data": {
      "text/markdown": [
       "| Features increasing energy (= more fake)                                        | Features decreasing energy (= more real)                                         |\n",
       "|---------------------------------------------------------------------------------|----------------------------------------------------------------------------------|\n",
       "| mean_depth_constraints_1: **1.332** = (1.000) * 1.332                           | ast_ngram_full_n_5_score: **-30.704** = (0.848) * -36.207                        |\n",
       "| node_count_setup_2: **1.002** = (1.000) * 1.002                                 | ast_ngram_constraints_n_5_score: **-19.484** = (0.844) * -23.081                 |\n",
       "| mean_depth_setup_3: **0.974** = (1.000) * 0.974                                 | ast_ngram_setup_n_5_score: **-10.365** = (0.947) * -10.940                       |\n",
       "| max_depth_setup_3: **0.477** = (1.000) * 0.477                                  | ast_ngram_scoring_n_5_score: **-6.166** = (0.934) * -6.605                       |\n",
       "| mean_depth_scoring_4: **0.354** = (1.000) * 0.354                               | variables_used_all: **-5.471** = (1.000) * -5.471                                |\n",
       "| predicate_under_modal_at_end_in: **0.295** = (1.000) * 0.295                    | predicate_found_in_data_constraints_prop: **-5.067** = (1.000) * -5.067          |\n",
       "| scoring_count_expression_repetitions_exist: **0.292** = (1.000) * 0.292         | preferences_used_all: **-4.886** = (1.000) * -4.886                              |\n",
       "| max_depth_scoring_4: **0.271** = (1.000) * 0.271                                | variables_defined_all: **-1.887** = (1.000) * -1.887                             |\n",
       "| in_arg_types_receptacles_large_objects_constraints: **0.262** = (1.000) * 0.262 | num_preferences_defined_3: **-1.403** = (1.000) * -1.403                         |\n",
       "| adjacent_arg_types_receptacles_room_features_setup: **0.041** = (1.000) * 0.041 | node_count_terminal_0: **-0.994** = (1.000) * -0.994                             |\n",
       "|                                                                                 | section_doesnt_exist_terminal: **-0.983** = (1.000) * -0.983                     |\n",
       "|                                                                                 | in_arg_types_building_blocks_constraints: **-0.968** = (1.000) * -0.968          |\n",
       "|                                                                                 | setup_objects_used: **-0.932** = (0.500) * -1.864                                |\n",
       "|                                                                                 | max_quantification_count_constraints_1: **-0.928** = (1.000) * -0.928            |\n",
       "|                                                                                 | node_count_scoring_3: **-0.902** = (1.000) * -0.902                              |\n",
       "|                                                                                 | predicate_found_in_data_setup_prop: **-0.878** = (1.000) * -0.878                |\n",
       "|                                                                                 | setup_quantified_objects_used: **-0.854** = (0.500) * -1.708                     |\n",
       "|                                                                                 | max_depth_terminal_0: **-0.837** = (1.000) * -0.837                              |\n",
       "|                                                                                 | max_number_variables_types_quantified_variables_1: **-0.827** = (1.000) * -0.827 |\n",
       "|                                                                                 | mean_depth_terminal_0: **-0.825** = (1.000) * -0.825                             |"
      ],
      "text/plain": [
       "<IPython.core.display.Markdown object>"
      ]
     },
     "metadata": {},
     "output_type": "display_data"
    },
    {
     "data": {
      "text/markdown": [
       "### Game:"
      ],
      "text/plain": [
       "<IPython.core.display.Markdown object>"
      ]
     },
     "metadata": {},
     "output_type": "display_data"
    },
    {
     "data": {
      "text/markdown": [
       "```pddl\n",
       "(define (game evo-4094-323-0) (:domain medium-objects-room-v1)\n",
       "(:setup\n",
       "  (and\n",
       "    (exists (?v0 - hexagonal_bin)\n",
       "      (game-conserved\n",
       "        (not\n",
       "          (exists (?v1 - wall)\n",
       "            (adjacent ?v1 ?v0)\n",
       "         )\n",
       "       )\n",
       "     )\n",
       "   )\n",
       " )\n",
       ")\n",
       "(:constraints\n",
       "  (and\n",
       "    (preference preference0\n",
       "      (exists (?v0 - building ?v1 - (either cube_block pyramid_block))\n",
       "        (at-end\n",
       "          (and\n",
       "            (in ?v0 ?v1)\n",
       "         )\n",
       "       )\n",
       "     )\n",
       "   )\n",
       "    (preference preference1\n",
       "      (exists (?v1 - pillow ?v2 - hexagonal_bin)\n",
       "        (at-end\n",
       "          (in ?v2 ?v1)\n",
       "       )\n",
       "     )\n",
       "   )\n",
       "    (preference preference2\n",
       "      (exists (?v0 - game_object)\n",
       "        (at-end\n",
       "          (broken ?v0)\n",
       "       )\n",
       "     )\n",
       "   )\n",
       " )\n",
       ")\n",
       "(:scoring\n",
       "  (* 100 (count-once-per-objects preference0) (* 100 (count-once-per-objects preference0) (* 3 (count preference1))\n",
       "      (* 4 (* 100 (count preference2) (* (- 2)\n",
       "            (count preference0)\n",
       "            2\n",
       "            (* 100 (count-once-per-objects preference0) (* 3 (count-once-per-objects preference0))\n",
       "              (* 4 (count-once-per-objects preference0))\n",
       "           )\n",
       "         )\n",
       "          (* 4 (count-once-per-objects preference2))\n",
       "       )\n",
       "     )\n",
       "   )\n",
       "    (* 100 (count-once-per-objects preference0) (* 4 (count-once-per-objects preference0))\n",
       "      (* 4 (count preference2))\n",
       "   )\n",
       " )\n",
       ")\n",
       ")\n",
       "```"
      ],
      "text/plain": [
       "<IPython.core.display.Markdown object>"
      ]
     },
     "metadata": {},
     "output_type": "display_data"
    }
   ],
   "source": [
    "model = predicate_and_object_groups_bb_go\n",
    "key =  keys_by_value[1][14]\n",
    "n_features_on = None\n",
    "feature_keywords_to_print = None  # ['max_depth', 'mean_depth', 'node_count']\n",
    "n_similar_real_games_to_print = 3\n",
    "key_features = None  # dict(section_doesnt_exist_setup=0)\n",
    "\n",
    "print('Preference satisfaction counts:')\n",
    "for preference_name in sorted(trace_filter_results_full[key]):\n",
    "    preference_count = sum(trace_filter_results_full[key][preference_name].values())\n",
    "    print(f'{preference_name}: {\"**\" if preference_count == 0 else \"\"}{preference_count}{\"**\" if preference_count == 0 else \"\"}')\n",
    "\n",
    "print()\n",
    "model._visualize_sample_by_key(key, feature_keywords_to_print=feature_keywords_to_print, postprocess_sample=True)\n",
    "sample = model.population[key] "
   ]
  },
  {
   "cell_type": "code",
   "execution_count": 41,
   "metadata": {},
   "outputs": [
    {
     "data": {
      "text/plain": [
       "{'xMUrxzK3fXjgitdzPKsm-gameplay-attempt-1-rerecorded': 1}"
      ]
     },
     "execution_count": 41,
     "metadata": {},
     "output_type": "execute_result"
    }
   ],
   "source": [
    "preference_name = 'preference2'\n",
    "{k: v for k, v in trace_filter_results_full[key][preference_name].items() if v > 0}"
   ]
  },
  {
   "cell_type": "code",
   "execution_count": 53,
   "metadata": {},
   "outputs": [
    {
     "data": {
      "text/plain": [
       "{'door': 0.06818181818181818,\n",
       " 'desk': 0.2,\n",
       " 'room_center': 0.14545454545454545,\n",
       " 'bed': 0.08181818181818182,\n",
       " 'agent': 0.004545454545454545,\n",
       " 'green_golfball': 0.00909090909090909,\n",
       " 'side_table': 0.00909090909090909,\n",
       " 'rug': 0.01818181818181818,\n",
       " 'east_sliding_door': 0.004545454545454545,\n",
       " 'south_wall': 0.004545454545454545,\n",
       " 'west_wall': 0.004545454545454545,\n",
       " 'variable': 0.45}"
      ]
     },
     "execution_count": 53,
     "metadata": {},
     "output_type": "execute_result"
    }
   ],
   "source": [
    "model.samplers['prior2'].rules['predicate_or_function_location_term']['term']['token_posterior']"
   ]
  },
  {
   "cell_type": "code",
   "execution_count": 57,
   "metadata": {},
   "outputs": [
    {
     "data": {
      "text/plain": [
       "{'type_posterior': {'rule': 0.0, 'token': 1.0},\n",
       " 'token_posterior': {'back': 0.2,\n",
       "  'front': 0.2,\n",
       "  'front_left_corner': 0.2,\n",
       "  'left': 0.2,\n",
       "  'right': 0.2},\n",
       " 'production': (('token', 'SAMPLE'),)}"
      ]
     },
     "execution_count": 57,
     "metadata": {},
     "output_type": "execute_result"
    }
   ],
   "source": [
    "model.samplers['prior2'].rules['side']"
   ]
  },
  {
   "cell_type": "code",
   "execution_count": null,
   "metadata": {},
   "outputs": [],
   "source": []
  },
  {
   "cell_type": "code",
   "execution_count": 54,
   "metadata": {},
   "outputs": [
    {
     "data": {
      "text/plain": [
       "{'agent': 0.06425233644859812,\n",
       " 'top_drawer': 0.002336448598130841,\n",
       " 'bed': 0.01985981308411215,\n",
       " 'floor': 0.014018691588785047,\n",
       " 'rug': 0.018107476635514017,\n",
       " 'desk': 0.012266355140186916,\n",
       " 'main_light_switch': 0.0005841121495327102,\n",
       " 'desktop': 0.0005841121495327102,\n",
       " 'west_wall': 0.0011682242990654205,\n",
       " 'south_wall': 0.0005841121495327102,\n",
       " 'side_table': 0.0011682242990654205,\n",
       " 'green_golfball': 0.0011682242990654205,\n",
       " 'bottom_shelf': 0.0005841121495327102,\n",
       " 'top_shelf': 0.0029205607476635513,\n",
       " 'pink': 0.0035046728971962616,\n",
       " 'blue': 0.0029205607476635513,\n",
       " 'brown': 0.002336448598130841,\n",
       " 'green': 0.0011682242990654205,\n",
       " 'tan': 0.0005841121495327102,\n",
       " 'north_wall': 0.0005841121495327102,\n",
       " 'variable': 0.8492990654205608}"
      ]
     },
     "execution_count": 54,
     "metadata": {},
     "output_type": "execute_result"
    }
   ],
   "source": [
    "model.samplers['prior2'].rules['predicate_or_function_term']['term']['token_posterior']"
   ]
  }
 ],
 "metadata": {
  "kernelspec": {
   "display_name": "game-gen",
   "language": "python",
   "name": "python3"
  },
  "language_info": {
   "codemirror_mode": {
    "name": "ipython",
    "version": 3
   },
   "file_extension": ".py",
   "mimetype": "text/x-python",
   "name": "python",
   "nbconvert_exporter": "python",
   "pygments_lexer": "ipython3",
   "version": "3.10.8"
  },
  "orig_nbformat": 4
 },
 "nbformat": 4,
 "nbformat_minor": 2
}
