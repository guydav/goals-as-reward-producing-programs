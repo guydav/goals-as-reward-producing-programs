{
 "cells": [
  {
   "cell_type": "code",
   "execution_count": null,
   "metadata": {},
   "outputs": [],
   "source": [
    "from collections import defaultdict\n",
    "import csv\n",
    "from argparse import Namespace\n",
    "from ast import literal_eval\n",
    "import copy\n",
    "import gzip\n",
    "import itertools\n",
    "import json\n",
    "import math\n",
    "import os\n",
    "import pickle\n",
    "import sys\n",
    "import textwrap\n",
    "import typing\n",
    "\n",
    "import logging\n",
    "logging.getLogger('matplotlib').setLevel(logging.WARNING)\n",
    "\n",
    "import duckdb\n",
    "from IPython.display import display, Markdown, HTML  # type: ignore\n",
    "import matplotlib\n",
    "import matplotlib.axes\n",
    "import matplotlib.pyplot as plt\n",
    "from Levenshtein import distance as _edit_distance\n",
    "import numpy as np\n",
    "import pandas as pd\n",
    "import tabulate\n",
    "import tatsu\n",
    "import tatsu.ast\n",
    "import torch\n",
    "import torch.nn as nn\n",
    "import torch.nn.functional as F\n",
    "from torch.utils.data import TensorDataset, DataLoader\n",
    "import tabulate\n",
    "from tqdm.notebook import tqdm\n",
    "from scipy import stats\n",
    "from scipy.special import comb\n",
    "import seaborn as sns\n",
    "import sklearn\n",
    "from sklearn.model_selection import GridSearchCV, train_test_split, KFold\n",
    "from sklearn.pipeline import Pipeline\n",
    "from tqdm import tqdm\n",
    "\n",
    "sys.path.append(os.path.abspath('..'))\n",
    "sys.path.append(os.path.abspath('../src'))\n",
    "from src.ast_utils import _extract_game_id, deepcopy_ast, replace_child\n",
    "from src.ast_printer import ast_to_lines\n",
    "from src import fitness_energy_utils as utils\n",
    "from src.fitness_energy_utils import NON_FEATURE_COLUMNS, load_data\n",
    "from src.fitness_features import *\n",
    "from src.ast_counter_sampler import *\n",
    "from src.evolutionary_sampler import *\n",
    "from src import fitness_features_by_category, latest_model_paths"
   ]
  },
  {
   "cell_type": "code",
   "execution_count": null,
   "metadata": {},
   "outputs": [],
   "source": [
    "grammar = open('../dsl/dsl.ebnf').read()\n",
    "grammar_parser = tatsu.compile(grammar)\n",
    "game_asts = list(cached_load_and_parse_games_from_file('../dsl/interactive-beta.pddl', grammar_parser, False, relative_path='..'))"
   ]
  },
  {
   "cell_type": "code",
   "execution_count": null,
   "metadata": {},
   "outputs": [],
   "source": [
    "model_key = 'max_exemplar_preferences_by_bcs_with_expected_values'\n",
    "model_spec = latest_model_paths.MAP_ELITES_MODELS[model_key]\n",
    "model = typing.cast(MAPElitesSampler, model_spec.load())\n",
    "\n",
    "key_to_real_game_index = defaultdict(list)\n",
    "real_game_index_to_key = {}\n",
    "real_game_fitness_scores = []\n",
    "ALL_REAL_GAME_KEYS = []\n",
    "for i, ast in enumerate(game_asts):\n",
    "    fitness_score, features = model._score_proposal(ast, return_features=True)  # type: ignore\n",
    "    real_game_fitness_scores.append(fitness_score)\n",
    "    key = model._features_to_key(ast, features)\n",
    "    key_to_real_game_index[key].append(i)\n",
    "    real_game_index_to_key[i] = key\n",
    "    ALL_REAL_GAME_KEYS.append(key)"
   ]
  },
  {
   "cell_type": "code",
   "execution_count": null,
   "metadata": {},
   "outputs": [],
   "source": [
    "trace_filter_results = model_spec.load_trace_filter_data()\n",
    "human_games_trace_filter_data = load_data('', 'samples', f'/trace_filter_results_interactive-beta.pddl_2024_03_19', relative_path='..')"
   ]
  },
  {
   "cell_type": "code",
   "execution_count": null,
   "metadata": {},
   "outputs": [],
   "source": [
    "human_games_trace_filter_data['full'][10].keys()"
   ]
  },
  {
   "cell_type": "code",
   "execution_count": null,
   "metadata": {},
   "outputs": [],
   "source": [
    "print(\"\\n\".join(ast_to_lines(real_game_key_to_ast[real_game_index_to_key[10]])))"
   ]
  },
  {
   "cell_type": "code",
   "execution_count": null,
   "metadata": {},
   "outputs": [],
   "source": [
    "REAL_GAME_INDICES_TO_INCLUDE = [\n",
    "    0, 4, 6, 7, 11,\n",
    "    14, 17, 23, 26, 28,\n",
    "    31, 32, 35, 37, 40,\n",
    "    41, 42, 45, 49, 51,\n",
    "    52, 55, 58, 59, 64,\n",
    "    74, 88, 90, 94, 96,\n",
    "]\n",
    "\n",
    "# REAL_GAME_INDICES_TO_INCLUDE = list(range(98))\n",
    "\n",
    "REAL_GAME_KEY_LIST = [real_game_index_to_key[i] for i in REAL_GAME_INDICES_TO_INCLUDE]\n",
    "REAL_GAME_KEY_DICT = {key: i for i, key in enumerate(REAL_GAME_KEY_LIST)}\n",
    "REAL_GAME_KEYS = set(REAL_GAME_KEY_LIST)\n",
    "\n",
    "UNMATCHED_TOP_30_KEYS = [\n",
    "    (1, 0, 1, 0, 0, 0, 0, 0, 1, 0, 0, 0),\n",
    "    (1, 1, 1, 0, 0, 0, 0, 0, 0, 0, 0, 1),\n",
    "    (1, 1, 1, 1, 0, 0, 0, 0, 0, 0, 0, 0),\n",
    "    (1, 0, 1, 0, 0, 0, 0, 0, 0, 1, 0, 0),\n",
    "    (1, 1, 1, 0, 1, 0, 0, 0, 0, 0, 0, 0),\n",
    "    (1, 1, 1, 0, 0, 0, 0, 0, 1, 0, 0, 0),\n",
    "    (1, 0, 1, 1, 0, 0, 0, 0, 0, 0, 0, 0),\n",
    "    (1, 1, 2, 0, 0, 0, 0, 0, 1, 0, 0, 0),\n",
    "    (1, 0, 2, 0, 1, 0, 0, 0, 0, 1, 0, 0),\n",
    "    (1, 1, 2, 0, 0, 1, 0, 0, 0, 0, 0, 1),\n",
    "    (1, 0, 2, 0, 0, 0, 0, 1, 0, 0, 0, 0),\n",
    "    (1, 0, 2, 1, 0, 0, 1, 0, 0, 0, 0, 0),\n",
    "    (1, 1, 2, 0, 0, 0, 0, 0, 0, 0, 1, 0),\n",
    "    (1, 1, 2, 0, 0, 0, 1, 0, 1, 0, 0, 0),\n",
    "    (1, 1, 2, 0, 1, 1, 0, 0, 0, 0, 0, 0),\n",
    "    (1, 1, 3, 1, 0, 0, 1, 0, 0, 0, 1, 0),\n",
    "    (1, 1, 3, 0, 0, 2, 0, 0, 0, 0, 0, 0),\n",
    "    (1, 1, 3, 0, 0, 0, 0, 0, 0, 3, 0, 0),\n",
    "    (1, 0, 3, 0, 0, 0, 0, 0, 1, 0, 0, 0),\n",
    "    (1, 1, 3, 0, 0, 0, 0, 0, 0, 0, 0, 0),\n",
    "    (1, 1, 3, 0, 1, 0, 0, 0, 0, 0, 0, 0),\n",
    "    (1, 1, 3, 0, 0, 1, 0, 0, 1, 0, 0, 0),\n",
    "    (1, 0, 4, 0, 1, 1, 0, 1, 0, 1, 0, 0),\n",
    "    (1, 0, 4, 0, 0, 0, 0, 0, 3, 0, 0, 0),\n",
    "    (1, 1, 4, 2, 0, 0, 0, 0, 0, 0, 0, 0),\n",
    "    (1, 1, 4, 0, 0, 1, 1, 1, 0, 1, 0, 0),\n",
    "    (1, 0, 4, 2, 0, 0, 0, 0, 0, 0, 0, 1),\n",
    "    (1, 1, 4, 0, 2, 0, 0, 0, 1, 0, 0, 0),\n",
    "    (1, 1, 4, 0, 0, 0, 0, 0, 0, 0, 0, 0),\n",
    "    (1, 0, 4, 0, 0, 0, 0, 0, 0, 0, 0, 0)\n",
    "]"
   ]
  },
  {
   "cell_type": "code",
   "execution_count": null,
   "metadata": {},
   "outputs": [],
   "source": [
    "TRANSLATIONS_DIR = '../llm_tests/translations'\n",
    "TRANSLATION_DATE = '2024_01_12'\n",
    "UNMATCHED_ONLY_TOP_30 = True\n",
    "\n",
    "with open(f'{TRANSLATIONS_DIR}/human_games_translations_split_{TRANSLATION_DATE}.json') as f:\n",
    "    human_game_texts = json.load(f)\n",
    "    human_game_texts = {literal_eval(k): v for k, v in human_game_texts.items()}\n",
    "\n",
    "with open(f'{TRANSLATIONS_DIR}/human_cell_archive_games_translations_split_{TRANSLATION_DATE}.json') as f:\n",
    "    human_cell_archive_game_texts = json.load(f)\n",
    "    human_cell_archive_game_texts = {literal_eval(k): v for k, v in human_cell_archive_game_texts.items()}\n",
    "\n",
    "with open(f'{TRANSLATIONS_DIR}/novel_archive_cell_games_translations_split_{TRANSLATION_DATE}.json') as f:\n",
    "    novel_archive_cell_game_texts = json.load(f)\n",
    "    novel_archive_cell_game_texts = {literal_eval(k): v for k, v in novel_archive_cell_game_texts.items()}\n",
    "    if UNMATCHED_ONLY_TOP_30:\n",
    "        novel_archive_cell_game_texts = {k: v for k, v in novel_archive_cell_game_texts.items() if k in UNMATCHED_TOP_30_KEYS}"
   ]
  },
  {
   "cell_type": "code",
   "execution_count": null,
   "metadata": {},
   "outputs": [],
   "source": [
    "real_game_key_to_ast = {key: game_asts[i] for key, i in REAL_GAME_KEY_DICT.items()}\n",
    "matched_game_key_to_ast = {key: model.population[key] for key in human_cell_archive_game_texts.keys()}\n",
    "unmatched_game_key_to_ast = {key: model.population[key] for key in novel_archive_cell_game_texts.keys()}"
   ]
  },
  {
   "cell_type": "code",
   "execution_count": null,
   "metadata": {},
   "outputs": [],
   "source": [
    "def get_activating_traces(filter_info, key, exclude_setup=False):\n",
    "    sub_ast_to_trace_activations = filter_info['full'][key]\n",
    "    \n",
    "    sub_ast_to_activating_traces = {}\n",
    "    for sub_ast, trace_activations in sub_ast_to_trace_activations.items():\n",
    "        activating_traces = [trace for trace, activation in trace_activations.items() if activation > 0]\n",
    "        sub_ast_to_activating_traces[sub_ast] = set(activating_traces)\n",
    "\n",
    "    if exclude_setup:\n",
    "        sub_ast_to_activating_traces = {sub_ast: traces for sub_ast, traces in sub_ast_to_activating_traces.items() if 'setup' not in sub_ast}\n",
    "\n",
    "    sub_ast_to_activating_traces['all'] = set.intersection(*[sub_ast_to_activating_traces[sub_ast] for sub_ast in sub_ast_to_activating_traces.keys()])\n",
    "    sub_ast_to_activating_traces['any'] = set.union(*[sub_ast_to_activating_traces[sub_ast] for sub_ast in sub_ast_to_activating_traces.keys()])\n",
    "\n",
    "\n",
    "    return sub_ast_to_activating_traces"
   ]
  },
  {
   "cell_type": "code",
   "execution_count": null,
   "metadata": {},
   "outputs": [],
   "source": [
    "# Remap the human_games_trace_filter_data according to the key instead of the index\n",
    "remapped_human_games_trace_filter_data = {\"full\": {}}\n",
    "\n",
    "for real_game_idx in human_games_trace_filter_data['full'].keys():    \n",
    "    real_game_key = real_game_index_to_key[real_game_idx]\n",
    "    remapped_human_games_trace_filter_data['full'][real_game_key] = human_games_trace_filter_data['full'][real_game_idx]"
   ]
  },
  {
   "cell_type": "markdown",
   "metadata": {},
   "source": [
    "## Actual Analysis"
   ]
  },
  {
   "cell_type": "code",
   "execution_count": null,
   "metadata": {},
   "outputs": [],
   "source": [
    "generated_keys_mapping = {\n",
    "    \"matched\": list(matched_game_key_to_ast.keys()),\n",
    "    \"unmatched\": list(unmatched_game_key_to_ast.keys())\n",
    "}\n",
    "all_human_game_keys = real_game_index_to_key.values()"
   ]
  },
  {
   "cell_type": "code",
   "execution_count": null,
   "metadata": {},
   "outputs": [],
   "source": [
    "def jaccard(a, b, aggregation):\n",
    "    if len(a[aggregation]) == 0 and len(b[aggregation]) == 0:\n",
    "        return 0\n",
    "    \n",
    "    return len(a[aggregation].intersection(b[aggregation])) / len(a[aggregation].union(b[aggregation]))"
   ]
  },
  {
   "cell_type": "code",
   "execution_count": null,
   "metadata": {},
   "outputs": [],
   "source": [
    "data = []\n",
    "for exclude_setup in [False, True]:\n",
    "    # human_game_activating_traces = [\n",
    "    #     get_activating_traces(remapped_human_games_trace_filter_data, key, exclude_setup=exclude_setup)\n",
    "    #     for key in all_human_game_keys\n",
    "    # ]\n",
    "\n",
    "    human_game_activating_traces = [\n",
    "        get_activating_traces(human_games_trace_filter_data, idx, exclude_setup=exclude_setup)\n",
    "        for idx in range(98)\n",
    "    ]\n",
    "\n",
    "    for aggregation in ['all', 'any']:\n",
    "        for key_type in generated_keys_mapping.keys():\n",
    "            closest_similarities = []\n",
    "            for key in generated_keys_mapping[key_type]:\n",
    "                activating_traces = get_activating_traces(trace_filter_results, key, exclude_setup)\n",
    "                similarities = [jaccard(activating_traces, human_game, aggregation) for human_game in human_game_activating_traces]\n",
    "                closest_similarities.append(max(similarities))\n",
    "\n",
    "            data.append({\n",
    "                \"exclude_setup\": exclude_setup,\n",
    "                \"aggregation\": aggregation,\n",
    "                \"key_type\": key_type,\n",
    "                \"avg_closest_similarity\": np.mean(closest_similarities)\n",
    "            })\n",
    "            print(f\"\\n{key_type} games, '{aggregation}' aggregation, exclude_setup={exclude_setup}:\")\n",
    "            print(f\"Average Jaccard similarity between generated game and closest human game: {np.mean(closest_similarities)}\")"
   ]
  },
  {
   "cell_type": "code",
   "execution_count": null,
   "metadata": {},
   "outputs": [],
   "source": [
    "print(pd.DataFrame(data))"
   ]
  },
  {
   "cell_type": "markdown",
   "metadata": {},
   "source": [
    "## Code for Supplemental Figure"
   ]
  },
  {
   "cell_type": "code",
   "execution_count": null,
   "metadata": {},
   "outputs": [],
   "source": [
    "# The keys of the real games for which we want to know the most similar generated game\n",
    "TARGET_KEYS = [\n",
    "    (1, 1, 1, 0, 0, 0, 0, 0, 0, 1, 0, 0), # matched 14\n",
    "    (1, 1, 1, 0, 0, 1, 0, 0, 0, 0, 0, 0), # matched 31\n",
    "    (1, 0, 2, 0, 0, 1, 0, 0, 0, 0, 1, 0), # matched 40\n",
    "\n",
    "    (1, 0, 2, 0, 1, 0, 0, 0, 0, 1, 0, 0), # unmatched (place the bin near the north wall...)\n",
    "    (1, 1, 3, 1, 0, 0, 1, 0, 0, 0, 1, 0), # unmatched (credit cards and CDs)\n",
    "    (1, 1, 3, 0, 0, 0, 0, 0, 0, 3, 0, 0), # unmatched (block stacking)\n",
    "]\n"
   ]
  },
  {
   "cell_type": "code",
   "execution_count": null,
   "metadata": {},
   "outputs": [],
   "source": [
    "len(all_human_game_keys)\n",
    "len(real_game_key_to_ast.values())"
   ]
  },
  {
   "cell_type": "code",
   "execution_count": null,
   "metadata": {},
   "outputs": [],
   "source": [
    "for exclude_setup in [False, True]:\n",
    "    # human_game_activating_traces = [\n",
    "    #     get_activating_traces(remapped_human_games_trace_filter_data, key, exclude_setup=exclude_setup)\n",
    "    #     for key in all_human_game_keys if key in remapped_human_games_trace_filter_data['full']\n",
    "    # ]\n",
    "\n",
    "    human_game_activating_traces = [\n",
    "        get_activating_traces(human_games_trace_filter_data, idx, exclude_setup=exclude_setup)\n",
    "        for idx in range(98)\n",
    "    ]\n",
    "\n",
    "    for aggregation in ['all', 'any']:\n",
    "        data = []\n",
    "        for idx, key in enumerate(TARGET_KEYS):\n",
    "            activating_traces = get_activating_traces(trace_filter_results, key, exclude_setup)\n",
    "            similarities = [jaccard(activating_traces, human_game, aggregation) for human_game in human_game_activating_traces]\n",
    "            \n",
    "            closest_human_game_idx = np.argmax(similarities)\n",
    "            closest_human_game = \"\\n\".join(ast_to_lines(game_asts[closest_human_game_idx]))\n",
    "\n",
    "            target_ast = matched_game_key_to_ast[key] if idx <= 2 else unmatched_game_key_to_ast[key]\n",
    "            target_game = \"\\n\".join(ast_to_lines(target_ast))\n",
    "            \n",
    "            data.append((key, closest_human_game_idx, target_game, closest_human_game, np.max(similarities)))\n",
    "\n",
    "        filename = f\"./temp_outputs/supplemental_figure_closest_games_{'exclude_setup' if exclude_setup else 'include_setup'}_aggregation-{aggregation}.csv\"\n",
    "        with open(filename, 'w') as f:\n",
    "            writer = csv.writer(f)\n",
    "            writer.writerow([\"key\", \"closest_human_game_idx\", \"target_game\", \"closest_human_game\", \"similarity\"])\n",
    "            writer.writerows(data)\n",
    "\n",
    "        print(f\"\\nexclude_setup={exclude_setup}, aggregation={aggregation}: {[i[1] for i in data]}\")"
   ]
  },
  {
   "cell_type": "code",
   "execution_count": null,
   "metadata": {},
   "outputs": [],
   "source": [
    "TARGET = (1, 1, 3, 1, 0, 0, 1, 0, 0, 0, 1, 0)\n",
    "# CLOSEST = (1, 0, 2, 1, 0, 0, 0, 0, 0, 0, 1, 0)\n",
    "CLOSEST = (1, 1, 3, 0, 0, 0, 0, 0, 0, 0, 1, 0)\n",
    "\n",
    "t = get_activating_traces(trace_filter_results, TARGET, exclude_setup=False)\n",
    "c = get_activating_traces(remapped_human_games_trace_filter_data, CLOSEST, exclude_setup=False)"
   ]
  },
  {
   "cell_type": "code",
   "execution_count": null,
   "metadata": {},
   "outputs": [],
   "source": [
    "print(\"\\n\".join(ast_to_lines(real_game_key_to_ast[CLOSEST])))"
   ]
  },
  {
   "cell_type": "code",
   "execution_count": null,
   "metadata": {},
   "outputs": [],
   "source": [
    "print(\"For target game:\")\n",
    "for k, v in t.items():\n",
    "    print(f\"- {k} -> {len(v)}\")\n",
    "\n",
    "print(\"For closest game:\")\n",
    "for k, v in c.items():\n",
    "    print(f\"- {k} -> {len(v)}\")"
   ]
  },
  {
   "cell_type": "code",
   "execution_count": null,
   "metadata": {},
   "outputs": [],
   "source": [
    "aggregation = 'any'\n",
    "len(t[aggregation].intersection(c[aggregation])), len(t[aggregation].union(c[aggregation]))"
   ]
  },
  {
   "cell_type": "code",
   "execution_count": null,
   "metadata": {},
   "outputs": [],
   "source": [
    "human_games_trace_filter_data['full']"
   ]
  }
 ],
 "metadata": {
  "kernelspec": {
   "display_name": "game-gen",
   "language": "python",
   "name": "python3"
  },
  "language_info": {
   "codemirror_mode": {
    "name": "ipython",
    "version": 3
   },
   "file_extension": ".py",
   "mimetype": "text/x-python",
   "name": "python",
   "nbconvert_exporter": "python",
   "pygments_lexer": "ipython3",
   "version": "3.10.8"
  }
 },
 "nbformat": 4,
 "nbformat_minor": 2
}
