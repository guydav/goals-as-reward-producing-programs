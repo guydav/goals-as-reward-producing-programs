{
 "cells": [
  {
   "cell_type": "code",
   "execution_count": 19,
   "metadata": {},
   "outputs": [],
   "source": [
    "from collections import defaultdict\n",
    "import csv\n",
    "from argparse import Namespace\n",
    "from ast import literal_eval\n",
    "import copy\n",
    "import gzip\n",
    "import itertools\n",
    "import json\n",
    "import math\n",
    "import os\n",
    "import pickle\n",
    "import sys\n",
    "import textwrap\n",
    "import typing\n",
    "\n",
    "import logging\n",
    "logging.getLogger('matplotlib').setLevel(logging.WARNING)\n",
    "\n",
    "import duckdb\n",
    "from IPython.display import display, Markdown, HTML  # type: ignore\n",
    "import matplotlib\n",
    "import matplotlib.axes\n",
    "import matplotlib.pyplot as plt\n",
    "from Levenshtein import distance as _edit_distance\n",
    "import numpy as np\n",
    "import pandas as pd\n",
    "import tabulate\n",
    "import tatsu\n",
    "import tatsu.ast\n",
    "import torch\n",
    "import torch.nn as nn\n",
    "import torch.nn.functional as F\n",
    "from torch.utils.data import TensorDataset, DataLoader\n",
    "import tabulate\n",
    "from tqdm.notebook import tqdm\n",
    "from scipy import stats\n",
    "from scipy.special import comb\n",
    "import seaborn as sns\n",
    "import sklearn\n",
    "from sklearn.model_selection import GridSearchCV, train_test_split, KFold\n",
    "from sklearn.pipeline import Pipeline\n",
    "from tqdm import tqdm\n",
    "\n",
    "sys.path.append(os.path.abspath('..'))\n",
    "sys.path.append(os.path.abspath('../src'))\n",
    "from src.ast_utils import _extract_game_id, deepcopy_ast, replace_child\n",
    "from src.ast_printer import ast_to_lines\n",
    "from src import fitness_energy_utils as utils\n",
    "from src.fitness_energy_utils import NON_FEATURE_COLUMNS, load_data\n",
    "from src.fitness_features import *\n",
    "from src.ast_counter_sampler import *\n",
    "from src.evolutionary_sampler import *\n",
    "from src import fitness_features_by_category, latest_model_paths\n",
    "from src import ast_parser"
   ]
  },
  {
   "cell_type": "code",
   "execution_count": 2,
   "metadata": {},
   "outputs": [
    {
     "name": "stderr",
     "output_type": "stream",
     "text": [
      "2024-05-09 10:09:41 - ast_utils - INFO     - Loading from cache file: /Users/guydavidson/tmp/game_generation_cache/interactive-beta-cache.pkl.gz\n",
      "2024-05-09 10:09:41 - ast_utils - INFO     - Finished loading cache file: /Users/guydavidson/tmp/game_generation_cache/interactive-beta-cache.pkl.gz\n"
     ]
    }
   ],
   "source": [
    "grammar = open('../dsl/dsl.ebnf').read()\n",
    "grammar_parser = tatsu.compile(grammar)\n",
    "game_asts = list(cached_load_and_parse_games_from_file('../dsl/interactive-beta.pddl', grammar_parser, False, relative_path='..'))"
   ]
  },
  {
   "cell_type": "code",
   "execution_count": 3,
   "metadata": {},
   "outputs": [
    {
     "name": "stderr",
     "output_type": "stream",
     "text": [
      "2024-05-09 10:09:41 - compile_predicate_statistics_full_database - INFO     - Loading data from files with query timeout 15\n",
      "2024-05-09 10:10:02 - compile_predicate_statistics_full_database - INFO     - Creating DuckDB table...\n",
      "2024-05-09 10:10:04 - compile_predicate_statistics_full_database - INFO     - Creating data table indices...\n",
      "2024-05-09 10:10:24 - compile_predicate_statistics_full_database - INFO     - Loaded data, found 843825 rows\n"
     ]
    }
   ],
   "source": [
    "model_key = 'max_exemplar_preferences_by_bcs_with_expected_values'\n",
    "model_spec = latest_model_paths.MAP_ELITES_MODELS[model_key]\n",
    "model = typing.cast(MAPElitesSampler, model_spec.load())\n",
    "\n",
    "key_to_real_game_index = defaultdict(list)\n",
    "real_game_index_to_key = {}\n",
    "real_game_fitness_scores = []\n",
    "ALL_REAL_GAME_KEYS = []\n",
    "for i, ast in enumerate(game_asts):\n",
    "    fitness_score, features = model._score_proposal(ast, return_features=True)  # type: ignore\n",
    "    real_game_fitness_scores.append(fitness_score)\n",
    "    key = model._features_to_key(ast, features)\n",
    "    key_to_real_game_index[key].append(i)\n",
    "    real_game_index_to_key[i] = key\n",
    "    ALL_REAL_GAME_KEYS.append(key)"
   ]
  },
  {
   "cell_type": "code",
   "execution_count": 4,
   "metadata": {},
   "outputs": [],
   "source": [
    "trace_filter_results = model_spec.load_trace_filter_data()\n",
    "human_games_trace_filter_data = load_data('', 'samples', f'/trace_filter_results_interactive-beta.pddl_2024_03_19', relative_path='..')"
   ]
  },
  {
   "cell_type": "code",
   "execution_count": 5,
   "metadata": {},
   "outputs": [],
   "source": [
    "REAL_GAME_INDICES_TO_INCLUDE = [\n",
    "    0, 4, 6, 7, 11,\n",
    "    14, 17, 23, 26, 28,\n",
    "    31, 32, 35, 37, 40,\n",
    "    41, 42, 45, 49, 51,\n",
    "    52, 55, 58, 59, 64,\n",
    "    74, 88, 90, 94, 96,\n",
    "]\n",
    "\n",
    "# REAL_GAME_INDICES_TO_INCLUDE = list(range(98))\n",
    "\n",
    "REAL_GAME_KEY_LIST = [real_game_index_to_key[i] for i in REAL_GAME_INDICES_TO_INCLUDE]\n",
    "REAL_GAME_KEY_DICT = {key: i for i, key in enumerate(REAL_GAME_KEY_LIST)}\n",
    "REAL_GAME_KEYS = set(REAL_GAME_KEY_LIST)\n",
    "\n",
    "UNMATCHED_TOP_30_KEYS = [\n",
    "    (1, 0, 1, 0, 0, 0, 0, 0, 1, 0, 0, 0),\n",
    "    (1, 1, 1, 0, 0, 0, 0, 0, 0, 0, 0, 1),\n",
    "    (1, 1, 1, 1, 0, 0, 0, 0, 0, 0, 0, 0),\n",
    "    (1, 0, 1, 0, 0, 0, 0, 0, 0, 1, 0, 0),\n",
    "    (1, 1, 1, 0, 1, 0, 0, 0, 0, 0, 0, 0),\n",
    "    (1, 1, 1, 0, 0, 0, 0, 0, 1, 0, 0, 0),\n",
    "    (1, 0, 1, 1, 0, 0, 0, 0, 0, 0, 0, 0),\n",
    "    (1, 1, 2, 0, 0, 0, 0, 0, 1, 0, 0, 0),\n",
    "    (1, 0, 2, 0, 1, 0, 0, 0, 0, 1, 0, 0),\n",
    "    (1, 1, 2, 0, 0, 1, 0, 0, 0, 0, 0, 1),\n",
    "    (1, 0, 2, 0, 0, 0, 0, 1, 0, 0, 0, 0),\n",
    "    (1, 0, 2, 1, 0, 0, 1, 0, 0, 0, 0, 0),\n",
    "    (1, 1, 2, 0, 0, 0, 0, 0, 0, 0, 1, 0),\n",
    "    (1, 1, 2, 0, 0, 0, 1, 0, 1, 0, 0, 0),\n",
    "    (1, 1, 2, 0, 1, 1, 0, 0, 0, 0, 0, 0),\n",
    "    (1, 1, 3, 1, 0, 0, 1, 0, 0, 0, 1, 0),\n",
    "    (1, 1, 3, 0, 0, 2, 0, 0, 0, 0, 0, 0),\n",
    "    (1, 1, 3, 0, 0, 0, 0, 0, 0, 3, 0, 0),\n",
    "    (1, 0, 3, 0, 0, 0, 0, 0, 1, 0, 0, 0),\n",
    "    (1, 1, 3, 0, 0, 0, 0, 0, 0, 0, 0, 0),\n",
    "    (1, 1, 3, 0, 1, 0, 0, 0, 0, 0, 0, 0),\n",
    "    (1, 1, 3, 0, 0, 1, 0, 0, 1, 0, 0, 0),\n",
    "    (1, 0, 4, 0, 1, 1, 0, 1, 0, 1, 0, 0),\n",
    "    (1, 0, 4, 0, 0, 0, 0, 0, 3, 0, 0, 0),\n",
    "    (1, 1, 4, 2, 0, 0, 0, 0, 0, 0, 0, 0),\n",
    "    (1, 1, 4, 0, 0, 1, 1, 1, 0, 1, 0, 0),\n",
    "    (1, 0, 4, 2, 0, 0, 0, 0, 0, 0, 0, 1),\n",
    "    (1, 1, 4, 0, 2, 0, 0, 0, 1, 0, 0, 0),\n",
    "    (1, 1, 4, 0, 0, 0, 0, 0, 0, 0, 0, 0),\n",
    "    (1, 0, 4, 0, 0, 0, 0, 0, 0, 0, 0, 0)\n",
    "]"
   ]
  },
  {
   "cell_type": "code",
   "execution_count": 6,
   "metadata": {},
   "outputs": [],
   "source": [
    "TRANSLATIONS_DIR = '../llm_tests/translations'\n",
    "TRANSLATION_DATE = '2024_01_12'\n",
    "UNMATCHED_ONLY_TOP_30 = True\n",
    "\n",
    "with open(f'{TRANSLATIONS_DIR}/human_games_translations_split_{TRANSLATION_DATE}.json') as f:\n",
    "    human_game_texts = json.load(f)\n",
    "    human_game_texts = {literal_eval(k): v for k, v in human_game_texts.items()}\n",
    "\n",
    "with open(f'{TRANSLATIONS_DIR}/human_cell_archive_games_translations_split_{TRANSLATION_DATE}.json') as f:\n",
    "    human_cell_archive_game_texts = json.load(f)\n",
    "    human_cell_archive_game_texts = {literal_eval(k): v for k, v in human_cell_archive_game_texts.items()}\n",
    "\n",
    "with open(f'{TRANSLATIONS_DIR}/novel_archive_cell_games_translations_split_{TRANSLATION_DATE}.json') as f:\n",
    "    novel_archive_cell_game_texts = json.load(f)\n",
    "    novel_archive_cell_game_texts = {literal_eval(k): v for k, v in novel_archive_cell_game_texts.items()}\n",
    "    if UNMATCHED_ONLY_TOP_30:\n",
    "        novel_archive_cell_game_texts = {k: v for k, v in novel_archive_cell_game_texts.items() if k in UNMATCHED_TOP_30_KEYS}"
   ]
  },
  {
   "cell_type": "code",
   "execution_count": 7,
   "metadata": {},
   "outputs": [],
   "source": [
    "real_game_key_to_ast = {key: game_asts[i] for key, i in REAL_GAME_KEY_DICT.items()}\n",
    "matched_game_key_to_ast = {key: model.population[key] for key in human_cell_archive_game_texts.keys()}\n",
    "unmatched_game_key_to_ast = {key: model.population[key] for key in novel_archive_cell_game_texts.keys()}"
   ]
  },
  {
   "cell_type": "code",
   "execution_count": 8,
   "metadata": {},
   "outputs": [],
   "source": [
    "def get_activating_traces(filter_info, key, exclude_setup=False):\n",
    "    sub_ast_to_trace_activations = filter_info['full'][key]\n",
    "    \n",
    "    sub_ast_to_activating_traces = {}\n",
    "    for sub_ast, trace_activations in sub_ast_to_trace_activations.items():\n",
    "        activating_traces = [trace for trace, activation in trace_activations.items() if activation > 0]\n",
    "        sub_ast_to_activating_traces[sub_ast] = set(activating_traces)\n",
    "\n",
    "    if exclude_setup:\n",
    "        sub_ast_to_activating_traces = {sub_ast: traces for sub_ast, traces in sub_ast_to_activating_traces.items() if 'setup' not in sub_ast}\n",
    "\n",
    "    sub_ast_to_activating_traces['all'] = set.intersection(*[sub_ast_to_activating_traces[sub_ast] for sub_ast in sub_ast_to_activating_traces.keys()])\n",
    "    sub_ast_to_activating_traces['any'] = set.union(*[sub_ast_to_activating_traces[sub_ast] for sub_ast in sub_ast_to_activating_traces.keys()])\n",
    "\n",
    "\n",
    "    return sub_ast_to_activating_traces"
   ]
  },
  {
   "cell_type": "markdown",
   "metadata": {},
   "source": [
    "## Actual Analysis"
   ]
  },
  {
   "cell_type": "code",
   "execution_count": 9,
   "metadata": {},
   "outputs": [],
   "source": [
    "generated_keys_mapping = {\n",
    "    \"matched\": list(matched_game_key_to_ast.keys()),\n",
    "    \"unmatched\": list(unmatched_game_key_to_ast.keys())\n",
    "}\n",
    "all_human_game_keys = real_game_index_to_key.values()"
   ]
  },
  {
   "cell_type": "code",
   "execution_count": 10,
   "metadata": {},
   "outputs": [],
   "source": [
    "def jaccard(a, b, aggregation):\n",
    "    if len(a[aggregation]) == 0 and len(b[aggregation]) == 0:\n",
    "        return 0\n",
    "    \n",
    "    return len(a[aggregation].intersection(b[aggregation])) / len(a[aggregation].union(b[aggregation]))"
   ]
  },
  {
   "cell_type": "code",
   "execution_count": 11,
   "metadata": {},
   "outputs": [
    {
     "name": "stdout",
     "output_type": "stream",
     "text": [
      "\n",
      "matched games, 'all' aggregation, exclude_setup=False:\n",
      "Average Jaccard similarity between generated game and closest human game: 0.25328159603044526\n",
      "\n",
      "unmatched games, 'all' aggregation, exclude_setup=False:\n",
      "Average Jaccard similarity between generated game and closest human game: 0.2566130396475719\n",
      "\n",
      "matched games, 'any' aggregation, exclude_setup=False:\n",
      "Average Jaccard similarity between generated game and closest human game: 0.7600344981838728\n",
      "\n",
      "unmatched games, 'any' aggregation, exclude_setup=False:\n",
      "Average Jaccard similarity between generated game and closest human game: 0.7366754939634391\n",
      "\n",
      "matched games, 'all' aggregation, exclude_setup=True:\n",
      "Average Jaccard similarity between generated game and closest human game: 0.3826242941482416\n",
      "\n",
      "unmatched games, 'all' aggregation, exclude_setup=True:\n",
      "Average Jaccard similarity between generated game and closest human game: 0.3020031489692554\n",
      "\n",
      "matched games, 'any' aggregation, exclude_setup=True:\n",
      "Average Jaccard similarity between generated game and closest human game: 0.8003547841485584\n",
      "\n",
      "unmatched games, 'any' aggregation, exclude_setup=True:\n",
      "Average Jaccard similarity between generated game and closest human game: 0.7250371793448438\n"
     ]
    }
   ],
   "source": [
    "data = []\n",
    "for exclude_setup in [False, True]:\n",
    "    # human_game_activating_traces = [\n",
    "    #     get_activating_traces(remapped_human_games_trace_filter_data, key, exclude_setup=exclude_setup)\n",
    "    #     for key in all_human_game_keys\n",
    "    # ]\n",
    "\n",
    "    human_game_activating_traces = [\n",
    "        get_activating_traces(human_games_trace_filter_data, idx, exclude_setup=exclude_setup)\n",
    "        for idx in range(98)\n",
    "    ]\n",
    "\n",
    "    for aggregation in ['all', 'any']:\n",
    "        for key_type in generated_keys_mapping.keys():\n",
    "            closest_similarities = []\n",
    "            for key in generated_keys_mapping[key_type]:\n",
    "                activating_traces = get_activating_traces(trace_filter_results, key, exclude_setup)\n",
    "                similarities = [jaccard(activating_traces, human_game, aggregation) for human_game in human_game_activating_traces]\n",
    "                closest_similarities.append(max(similarities))\n",
    "\n",
    "            data.append({\n",
    "                \"exclude_setup\": exclude_setup,\n",
    "                \"aggregation\": aggregation,\n",
    "                \"key_type\": key_type,\n",
    "                \"avg_closest_similarity\": np.mean(closest_similarities)\n",
    "            })\n",
    "            print(f\"\\n{key_type} games, '{aggregation}' aggregation, exclude_setup={exclude_setup}:\")\n",
    "            print(f\"Average Jaccard similarity between generated game and closest human game: {np.mean(closest_similarities)}\")"
   ]
  },
  {
   "cell_type": "code",
   "execution_count": 12,
   "metadata": {},
   "outputs": [
    {
     "name": "stdout",
     "output_type": "stream",
     "text": [
      "   exclude_setup aggregation   key_type  avg_closest_similarity\n",
      "0          False         all    matched                0.253282\n",
      "1          False         all  unmatched                0.256613\n",
      "2          False         any    matched                0.760034\n",
      "3          False         any  unmatched                0.736675\n",
      "4           True         all    matched                0.382624\n",
      "5           True         all  unmatched                0.302003\n",
      "6           True         any    matched                0.800355\n",
      "7           True         any  unmatched                0.725037\n"
     ]
    }
   ],
   "source": [
    "print(pd.DataFrame(data))"
   ]
  },
  {
   "cell_type": "markdown",
   "metadata": {},
   "source": [
    "## Code for Supplemental Figure"
   ]
  },
  {
   "cell_type": "code",
   "execution_count": 13,
   "metadata": {},
   "outputs": [],
   "source": [
    "# The keys of the real games for which we want to know the most similar generated game\n",
    "TARGET_KEYS = [\n",
    "    (1, 1, 1, 0, 0, 0, 0, 0, 0, 1, 0, 0), # matched 14\n",
    "    (1, 1, 1, 0, 0, 1, 0, 0, 0, 0, 0, 0), # matched 31\n",
    "    (1, 0, 2, 0, 0, 1, 0, 0, 0, 0, 1, 0), # matched 40\n",
    "\n",
    "    (1, 0, 2, 0, 1, 0, 0, 0, 0, 1, 0, 0), # unmatched (place the bin near the north wall...)\n",
    "    (1, 1, 3, 1, 0, 0, 1, 0, 0, 0, 1, 0), # unmatched (credit cards and CDs)\n",
    "    (1, 1, 3, 0, 0, 0, 0, 0, 0, 3, 0, 0), # unmatched (block stacking)\n",
    "]\n"
   ]
  },
  {
   "cell_type": "code",
   "execution_count": 14,
   "metadata": {},
   "outputs": [
    {
     "data": {
      "text/plain": [
       "30"
      ]
     },
     "execution_count": 14,
     "metadata": {},
     "output_type": "execute_result"
    }
   ],
   "source": [
    "len(all_human_game_keys)\n",
    "len(real_game_key_to_ast.values())"
   ]
  },
  {
   "cell_type": "code",
   "execution_count": 24,
   "metadata": {},
   "outputs": [],
   "source": [
    "postprocessor = ast_parser.ASTSamplePostprocessor()\n",
    "\n",
    "def ast_to_standardized_string(ast):\n",
    "    ast_str = ast_printer.ast_to_string(postprocessor(ast))\n",
    "    domain_index = ast_str.find('(:domain')\n",
    "    close_paren_index = ast_str.find(')', domain_index)\n",
    "    return re.sub(r'\\s+', ' ', ast_str[close_paren_index + 1:-1])\n",
    "\n",
    "\n",
    "standardized_real_game_strings = [ast_to_standardized_string(ast) for ast in game_asts]"
   ]
  },
  {
   "cell_type": "code",
   "execution_count": 29,
   "metadata": {},
   "outputs": [],
   "source": [
    "from thefuzz import fuzz"
   ]
  },
  {
   "cell_type": "code",
   "execution_count": 31,
   "metadata": {},
   "outputs": [
    {
     "name": "stdout",
     "output_type": "stream",
     "text": [
      "[446, 679, 179, 166, 605, 624, 671, 271, 450, 278, 372, 286, 845, 411, 107, 1141, 610, 1081, 922, 267, 811, 817, 693, 139, 516, 1259, 201, 766, 439, 338, 158, 146, 387, 605, 564, 590, 729, 490, 248, 1141, 635, 231, 145, 233, 347, 336, 267, 300, 721, 1041, 304, 860, 633, 704, 237, 160, 1426, 1067, 276, 1134, 764, 386, 304, 400, 358, 1258, 164, 1002, 143, 2153, 381, 143, 415, 648, 303, 1037, 375, 255, 145, 380, 163, 462, 313, 361, 1079, 653, 261, 735, 287, 1619, 518, 1001, 454, 232, 591, 405, 806, 457]\n",
      "14 107\n",
      "[394, 638, 187, 95, 580, 593, 639, 199, 494, 253, 366, 218, 806, 386, 159, 1107, 602, 1062, 879, 212, 768, 837, 657, 135, 493, 1235, 197, 740, 372, 281, 93, 87, 345, 552, 499, 560, 698, 458, 234, 1140, 595, 175, 62, 191, 366, 294, 228, 229, 747, 1051, 243, 833, 605, 691, 191, 161, 1409, 1050, 217, 1124, 739, 354, 272, 356, 314, 1248, 95, 982, 66, 2151, 335, 61, 393, 628, 278, 996, 337, 191, 62, 334, 66, 430, 260, 335, 1058, 614, 194, 715, 220, 1606, 488, 970, 414, 236, 568, 337, 776, 464]\n",
      "71 61\n",
      "[223, 480, 396, 284, 334, 399, 384, 164, 433, 264, 331, 190, 627, 314, 353, 940, 430, 816, 681, 153, 609, 684, 487, 393, 343, 1002, 359, 527, 188, 220, 285, 318, 316, 481, 321, 324, 546, 239, 338, 928, 430, 236, 292, 302, 397, 300, 238, 190, 648, 869, 248, 682, 418, 575, 317, 421, 1165, 891, 263, 884, 549, 358, 269, 269, 295, 1058, 290, 736, 296, 1923, 291, 325, 369, 573, 279, 793, 335, 277, 292, 294, 313, 412, 268, 317, 862, 382, 294, 628, 188, 1372, 278, 770, 321, 288, 367, 204, 510, 445]\n",
      "19 153\n",
      "[254, 558, 410, 349, 409, 454, 448, 243, 433, 276, 365, 261, 662, 381, 334, 978, 476, 856, 716, 232, 634, 682, 517, 409, 431, 1054, 373, 578, 255, 293, 346, 331, 301, 513, 387, 399, 572, 291, 340, 927, 438, 269, 326, 332, 389, 337, 269, 272, 642, 824, 279, 676, 486, 598, 318, 435, 1196, 924, 313, 912, 573, 393, 339, 287, 344, 1067, 353, 771, 326, 1933, 368, 343, 378, 575, 343, 812, 331, 324, 326, 314, 354, 397, 289, 368, 895, 437, 313, 641, 264, 1421, 386, 808, 396, 297, 381, 255, 565, 443]\n",
      "19 232\n",
      "[358, 415, 432, 343, 440, 393, 494, 183, 426, 382, 371, 196, 656, 397, 384, 883, 422, 764, 648, 170, 638, 665, 472, 440, 464, 976, 411, 491, 330, 243, 342, 352, 379, 521, 398, 383, 581, 345, 350, 935, 480, 351, 356, 322, 330, 320, 357, 202, 566, 846, 315, 667, 358, 485, 347, 463, 1195, 860, 361, 900, 609, 395, 351, 347, 279, 989, 346, 812, 356, 1873, 367, 354, 396, 474, 326, 777, 360, 309, 356, 323, 349, 425, 264, 326, 879, 379, 347, 636, 169, 1364, 241, 765, 427, 379, 430, 319, 483, 416]\n",
      "88 169\n",
      "[434, 598, 484, 439, 508, 566, 588, 374, 399, 422, 424, 364, 681, 443, 404, 996, 533, 878, 789, 369, 737, 674, 583, 492, 495, 1075, 471, 578, 411, 366, 439, 450, 448, 547, 468, 546, 614, 470, 415, 967, 539, 429, 453, 414, 349, 435, 424, 367, 583, 839, 444, 703, 466, 558, 423, 521, 1196, 917, 420, 932, 609, 435, 431, 413, 387, 1031, 439, 831, 453, 1881, 438, 444, 476, 583, 424, 842, 442, 411, 453, 442, 443, 479, 364, 437, 886, 515, 435, 607, 384, 1417, 389, 849, 459, 411, 477, 420, 649, 432]\n",
      "44 349\n"
     ]
    }
   ],
   "source": [
    "data = []\n",
    "for idx, key in enumerate(TARGET_KEYS):\n",
    "    target_game_standardized_string = ast_to_standardized_string(model.population[key])\n",
    "    edit_distances = [_edit_distance(target_game_standardized_string, real_game_standardized_str) for real_game_standardized_str in standardized_real_game_strings]\n",
    "    print(edit_distances)\n",
    "    # Print games in their non-standardized forms\n",
    "\n",
    "    closest_human_game_idx = np.argmin(edit_distances)\n",
    "    print(closest_human_game_idx, edit_distances[closest_human_game_idx])\n",
    "    closest_human_game = \"\\n\".join(ast_to_lines(game_asts[closest_human_game_idx]))\n",
    "\n",
    "    target_ast = matched_game_key_to_ast[key] if idx <= 2 else unmatched_game_key_to_ast[key]\n",
    "    target_game = \"\\n\".join(ast_to_lines(target_ast))\n",
    "    \n",
    "    data.append((key, closest_human_game_idx, target_game, closest_human_game, edit_distances[closest_human_game_idx]))\n",
    "\n",
    "filename = f\"./temp_outputs/supplemental_figure_closest_games_string_edit_distance.csv\"\n",
    "with open(filename, 'w') as f:\n",
    "    writer = csv.writer(f)\n",
    "    writer.writerow([\"key\", \"closest_human_game_idx\", \"target_game\", \"closest_human_game\", \"edit_distance\"])\n",
    "    writer.writerows(data)\n",
    "\n",
    "        "
   ]
  },
  {
   "cell_type": "code",
   "execution_count": null,
   "metadata": {},
   "outputs": [],
   "source": [
    "14, 42, 19 28, 19, 44"
   ]
  }
 ],
 "metadata": {
  "kernelspec": {
   "display_name": "game-gen",
   "language": "python",
   "name": "python3"
  },
  "language_info": {
   "codemirror_mode": {
    "name": "ipython",
    "version": 3
   },
   "file_extension": ".py",
   "mimetype": "text/x-python",
   "name": "python",
   "nbconvert_exporter": "python",
   "pygments_lexer": "ipython3",
   "version": "3.10.8"
  }
 },
 "nbformat": 4,
 "nbformat_minor": 2
}
