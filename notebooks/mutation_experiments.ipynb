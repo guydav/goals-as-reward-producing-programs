{
 "metadata": {
  "language_info": {
   "codemirror_mode": {
    "name": "ipython",
    "version": 3
   },
   "file_extension": ".py",
   "mimetype": "text/x-python",
   "name": "python",
   "nbconvert_exporter": "python",
   "pygments_lexer": "ipython3",
   "version": "3.8.5"
  },
  "orig_nbformat": 4,
  "kernelspec": {
   "name": "python3",
   "display_name": "Python 3.8.5 64-bit ('torch': conda)"
  },
  "interpreter": {
   "hash": "a100aa1876e5ac3363f19f1f1b65f414bec22fc629749747bbf4df88caa32aa2"
  }
 },
 "nbformat": 4,
 "nbformat_minor": 2,
 "cells": [
  {
   "cell_type": "code",
   "execution_count": 20,
   "metadata": {},
   "outputs": [],
   "source": [
    "%autoreload 2"
   ]
  },
  {
   "cell_type": "code",
   "execution_count": 30,
   "metadata": {},
   "outputs": [],
   "source": [
    "from collections import defaultdict\n",
    "from glob import glob\n",
    "import pathlib\n",
    "import random\n",
    "\n",
    "from IPython.core.display import display, HTML, Markdown\n",
    "import pandas as pd\n",
    "from tqdm.notebook import tnrange, tqdm\n",
    "\n",
    "from mutation_experiments import *\n",
    "import ast_printer"
   ]
  },
  {
   "cell_type": "code",
   "execution_count": 22,
   "metadata": {},
   "outputs": [],
   "source": [
    "args = parser.parse_args([])\n",
    "\n",
    "grammar = open(args.grammar_file).read()\n",
    "grammar_parser = tatsu.compile(grammar) \n",
    "\n",
    "asts = load_asts(args, grammar_parser)"
   ]
  },
  {
   "cell_type": "code",
   "execution_count": 46,
   "metadata": {},
   "outputs": [
    {
     "output_type": "display_data",
     "data": {
      "text/plain": "HBox(children=(FloatProgress(value=0.0), HTML(value='')))",
      "application/vnd.jupyter.widget-view+json": {
       "version_major": 2,
       "version_minor": 0,
       "model_id": "3b5abee022564e34b2ffe8c8707071a9"
      }
     },
     "metadata": {}
    },
    {
     "output_type": "stream",
     "name": "stdout",
     "text": [
      "\n"
     ]
    }
   ],
   "source": [
    "NUM_GAMES = 100\n",
    "\n",
    "regrwoth_mutated_asts = []\n",
    "\n",
    "for seed in tnrange(NUM_GAMES):\n",
    "    validators = [ASTVariableValidator(), ASTScoringPreferenceValidator()]\n",
    "    sampler = ASTRegrowthSampler(grammar_parser, asts, mutation_prob=0.5, validators=validators)\n",
    "    random.seed(seed)\n",
    "    try:\n",
    "        mutated_ast = sampler.sample_regrowth()\n",
    "    except SamplingFailedException:\n",
    "        continue\n",
    "    regrwoth_mutated_asts.append((mutated_ast, seed))\n",
    "        \n"
   ]
  },
  {
   "cell_type": "code",
   "execution_count": 47,
   "metadata": {},
   "outputs": [
    {
     "output_type": "display_data",
     "data": {
      "text/plain": "HBox(children=(FloatProgress(value=0.0), HTML(value='')))",
      "application/vnd.jupyter.widget-view+json": {
       "version_major": 2,
       "version_minor": 0,
       "model_id": "174c31b7fe4749f792cbb304071396e9"
      }
     },
     "metadata": {}
    },
    {
     "output_type": "stream",
     "name": "stdout",
     "text": [
      "\n"
     ]
    }
   ],
   "source": [
    "NUM_GAMES = 100\n",
    "START = 100\n",
    "single_step_mutated_asts = []\n",
    "\n",
    "for seed in tnrange(NUM_GAMES):\n",
    "    validators = [ASTVariableValidator(), ASTScoringPreferenceValidator()]\n",
    "    sampler = ASTRegrowthSampler(grammar_parser, asts, mutation_prob=0.5, validators=validators)\n",
    "    random.seed(START + seed)\n",
    "    try:\n",
    "        mutated_ast = sampler.sample_single_step()\n",
    "    except:\n",
    "        continue\n",
    "    single_step_mutated_asts.append((mutated_ast, START + seed))\n",
    "        \n"
   ]
  },
  {
   "cell_type": "code",
   "execution_count": 115,
   "metadata": {},
   "outputs": [],
   "source": [
    "DATA_COLUMNS = ('date', 'setup', 'gameplay', 'scoring', 'difficulty', 'first_score', 'strategy', 'technical_difficulties', 'other_comments')\n",
    "PARTICIPANT_DATA_DFS = dict()\n",
    "for p in glob('./data/*'):\n",
    "    path = pathlib.Path(p)\n",
    "    df = pd.read_csv(path)\n",
    "    df.columns = DATA_COLUMNS\n",
    "    PARTICIPANT_DATA_DFS[path.name.replace(path.suffix, '').replace('_', '-')] = df\n",
    "\n",
    "\n",
    "def display_description(game_or_name):\n",
    "    if isinstance(game_or_name, tuple):\n",
    "        name = game_or_name[1].game_name\n",
    "\n",
    "    else:\n",
    "        name = game_or_name\n",
    "\n",
    "    last_dash_idx = name.rfind('-')\n",
    "    name, game_id = name[:last_dash_idx], int(name[last_dash_idx + 1:])\n",
    "    original_data = PARTICIPANT_DATA_DFS[name].iloc[game_id - 2,1:4]  # -2 because my count starts at 2 and the first row is 0\n",
    "\n",
    "    display(Markdown('### Original Description:'))\n",
    "    for header, data in original_data.items():\n",
    "        display(Markdown(f'**{header.capitalize()}:** {data}'))\n",
    "\n",
    "    display(Markdown('----------'))\n",
    "    display(Markdown('### Game:'))\n"
   ]
  },
  {
   "cell_type": "code",
   "execution_count": 116,
   "metadata": {},
   "outputs": [],
   "source": [
    "def ast_to_buffer(ast, html=True):\n",
    "    ast_printer.reset_buffers(True)\n",
    "    context = dict()\n",
    "    if html:\n",
    "        context['html'] = True\n",
    "    ast_printer.pretty_print_ast(ast, context=context)\n",
    "\n",
    "\n",
    "def new_ast_to_buffer(new_asts, index, html=True):\n",
    "    mutated_ast, _ = new_asts[index]\n",
    "    ast_to_buffer(ast, html=html)\n",
    "\n",
    "\n",
    "def visualize_ast(ast, html=True, original_description=True):\n",
    "    ast_to_buffer(ast, html=html)\n",
    "    out_str = '\\r\\n'.join(ast_printer.BUFFER)\n",
    "\n",
    "    if original_description:\n",
    "        display_description(ast)\n",
    "\n",
    "    if html:\n",
    "        display(HTML(out_str))\n",
    "    else:\n",
    "        print(out_str)\n",
    "\n",
    "\n",
    "def visualize(new_asts, index, html=True, original_description=True):\n",
    "    mutated_ast, seed = new_asts[index]\n",
    "    print(f'With random seed {seed}, mutated:\\r\\n')\n",
    "    visualize_ast(mutated_ast, html=html, original_description=original_description)\n",
    "    \n"
   ]
  },
  {
   "source": [
    "# Games generated with full regrwoth\n",
    "\n",
    "I'll pring out some interesting games, and try to explain the game and the change that was made. \n",
    "\n",
    "The color-coding on these is perhaps not the most informative, but:\n",
    "* <span style=\"color: #AA00FF;\">Purple:</span> the original node substituted in\n",
    "* <span style=\"color: #FF6A00;\">Orange:</span> any nodes sampled under the original node from another game\n",
    "* <span style=\"color: #00FF80;\">Green:</span> nodes from the substituted subtree (the purple one) where we replaced at least one value under the node, but not the entire node.\n",
    "\n",
    "**TL;DR: if it's colored, it was't in the original game**\n"
   ],
   "cell_type": "markdown",
   "metadata": {}
  },
  {
   "source": [
    "In the game below, it changed the quantification and type from `?g - game_object` to `?g - dodgeball`.\n",
    "\n",
    "Originally, that clause was marking keeping the beachball (`?b`) in the air for 20 counts -- by providing it's not or touching any other object.\n",
    "\n",
    "Now it stipulates the beachball can't touch or be in the dodgeball, which is rather more trivial\n"
   ],
   "cell_type": "markdown",
   "metadata": {}
  },
  {
   "cell_type": "code",
   "execution_count": 117,
   "metadata": {},
   "outputs": [
    {
     "output_type": "stream",
     "name": "stdout",
     "text": [
      "With random seed 0, mutated:\n\n"
     ]
    },
    {
     "output_type": "display_data",
     "data": {
      "text/plain": "<IPython.core.display.Markdown object>",
      "text/markdown": "### Original Description:"
     },
     "metadata": {}
    },
    {
     "output_type": "display_data",
     "data": {
      "text/plain": "<IPython.core.display.Markdown object>",
      "text/markdown": "**Setup:** The two large triangular ramps are placed next to each other in the middle of the room."
     },
     "metadata": {}
    },
    {
     "output_type": "display_data",
     "data": {
      "text/plain": "<IPython.core.display.Markdown object>",
      "text/markdown": "**Gameplay:** The two large triangular ramps are placed next to each other in the middle of the room. The player must slide through them, sit in one of the chairs, spin 4 times, throw all the 3 dodgeballs into the hexagonal bin and then keep the beachball in the air for 20 seconds. The circuit will be timed by the cellphone on the desk. "
     },
     "metadata": {}
    },
    {
     "output_type": "display_data",
     "data": {
      "text/plain": "<IPython.core.display.Markdown object>",
      "text/markdown": "**Scoring:** Circuit done under 40 seconds: 20 points \nCircuit done in 50 seconds:18 points\nCircuit done in 60 seconds: 15 points\nCircuit done over 60 seconds:13 points"
     },
     "metadata": {}
    },
    {
     "output_type": "display_data",
     "data": {
      "text/plain": "<IPython.core.display.Markdown object>",
      "text/markdown": "----------"
     },
     "metadata": {}
    },
    {
     "output_type": "display_data",
     "data": {
      "text/plain": "<IPython.core.display.Markdown object>",
      "text/markdown": "### Game:"
     },
     "metadata": {}
    },
    {
     "output_type": "display_data",
     "data": {
      "text/plain": "<IPython.core.display.HTML object>",
      "text/html": "<div style=\"margin-left: 0px\">(define (game many-objects-7) (:domain many-objects-room-v1) </div>\r\n<div style=\"margin-left: 0px\">(:setup </div>\r\n<div style=\"margin-left: 20px\">(and </div>\r\n<div style=\"margin-left: 40px\"><span style=\"\">(exists</span> <span style=\"\">(<span style=\"\">?r1 ?r2 - large_triangular_ramp</span>)</span> </div>\r\n<div style=\"margin-left: 60px\">(game-conserved </div>\r\n<div style=\"margin-left: 80px\">(and </div>\r\n<div style=\"margin-left: 100px\">(<= <span style=\"\">(distance ?r1 ?r2)</span> 0.5) </div>\r\n<div style=\"margin-left: 80px\">) </div>\r\n<div style=\"margin-left: 60px\">) </div>\r\n<div style=\"margin-left: 40px\"><span style=\"\">)</span> </div>\r\n<div style=\"margin-left: 20px\">) </div>\r\n<div style=\"margin-left: 0px\">) </div>\r\n<div style=\"margin-left: 0px\">(:constraints </div>\r\n<div style=\"margin-left: 20px\">(and </div>\r\n<div style=\"margin-left: 40px\">(preference circuit </div>\r\n<div style=\"margin-left: 60px\"><span style=\"\">(exists</span> <span style=\"\">(<span style=\"\">?r1 - large_triangular_ramp</span> <span style=\"\">?r2 - large_triangular_ramp</span> <span style=\"\">?c - chair</span> <span style=\"\">?h - hexagonal_bin</span> <span style=\"\">?b - beachball</span>)</span> </div>\r\n<div style=\"margin-left: 80px\">(then </div>\r\n<div style=\"margin-left: 100px\">(once <span style=\"\"> (not <span style=\"\">(between ?r1 agent ?r2)</span> ) </span> ) </div>\r\n<div style=\"margin-left: 100px\">(any) </div>\r\n<div style=\"margin-left: 100px\">(once <span style=\"\">(between ?r1 agent ?r2)</span> ) </div>\r\n<div style=\"margin-left: 100px\">(any) </div>\r\n<div style=\"margin-left: 100px\">(once <span style=\"\"> (not <span style=\"\">(between ?r1 agent ?r2)</span> ) </span> ) </div>\r\n<div style=\"margin-left: 100px\">(any) </div>\r\n<div style=\"margin-left: 100px\">(hold-while <span style=\"\">(on ?c agent)</span> <span style=\"\">(agent_finished_spin )</span> <span style=\"\">(agent_finished_spin )</span> <span style=\"\">(agent_finished_spin )</span> <span style=\"\">(agent_finished_spin )</span> ) </div>\r\n<div style=\"margin-left: 100px\">(any) </div>\r\n<div style=\"margin-left: 100px\">(forall-sequence (<span style=\"\">?d - dodgeball</span>) </div>\r\n<div style=\"margin-left: 120px\">(then </div>\r\n<div style=\"margin-left: 140px\">(once <span style=\"\">(agent_holds ?d)</span> ) </div>\r\n<div style=\"margin-left: 140px\">(hold <span style=\"\"> (and <span style=\"\"> (not <span style=\"\">(agent_holds ?d)</span> ) </span> <span style=\"\">(in_motion ?d)</span> ) </span> ) </div>\r\n<div style=\"margin-left: 140px\">(once <span style=\"\"> (and <span style=\"\">(on ?h ?d)</span> <span style=\"\"> (not <span style=\"\">(in_motion ?d)</span> ) </span> ) </span> ) </div>\r\n<div style=\"margin-left: 140px\">(any) </div>\r\n<div style=\"margin-left: 120px\">) </div>\r\n<div style=\"margin-left: 100px\">) </div>\r\n<div style=\"margin-left: 100px\">(hold-for 20 <span style=\"\"> (not <span style=\"\">(exists</span> <span style=\"color: #AA00FF\">(<span style=\"color: #AA00FF\">?g - dodgeball</span>)</span> <span style=\"\"> (or <span style=\"\">(on ?g ?b)</span> <span style=\"\">(touch ?g ?b)</span> ) </span> <span style=\"\">)</span> ) </span> ) </div>\r\n<div style=\"margin-left: 80px\">) </div>\r\n<div style=\"margin-left: 60px\"><span style=\"\">)</span> </div>\r\n<div style=\"margin-left: 40px\">) </div>\r\n<div style=\"margin-left: 20px\">) </div>\r\n<div style=\"margin-left: 0px\">) </div>\r\n<div style=\"margin-left: 0px\">(:scoring </div>\r\n<div style=\"margin-left: 20px\">maximize </div>\r\n<div style=\"margin-left: 40px\">(+ (* 13 <span style=\"\">(count-once circuit)</span> ) </div>\r\n<div style=\"margin-left: 60px\">(* 2 (<= <span style=\"\">(count-shortest circuit)</span> 60 ) </div>\r\n<div style=\"margin-left: 60px\">) </div>\r\n<div style=\"margin-left: 60px\">(* 3 (<= <span style=\"\">(count-shortest circuit)</span> 50 ) </div>\r\n<div style=\"margin-left: 60px\">) </div>\r\n<div style=\"margin-left: 60px\">(* 2 (<= <span style=\"\">(count-shortest circuit)</span> 40 ) </div>\r\n<div style=\"margin-left: 60px\">) </div>\r\n<div style=\"margin-left: 40px\">) </div>\r\n<div style=\"margin-left: 0px\">) </div>\r\n<div style=\"margin-left: 0px\">) </div>"
     },
     "metadata": {}
    }
   ],
   "source": [
    "visualize(regrwoth_mutated_asts, 0)"
   ]
  },
  {
   "source": [
    "This is another similar change. Originally, this quantified `?b - bed` like in the previous game, to mark that the player should make the throw from the bed. \n",
    "\n",
    "With this change, it marks that the player should make the throw while standing on a block, which is cute."
   ],
   "cell_type": "markdown",
   "metadata": {}
  },
  {
   "cell_type": "code",
   "execution_count": 118,
   "metadata": {},
   "outputs": [
    {
     "output_type": "stream",
     "name": "stdout",
     "text": [
      "With random seed 2, mutated:\n\n"
     ]
    },
    {
     "output_type": "display_data",
     "data": {
      "text/plain": "<IPython.core.display.Markdown object>",
      "text/markdown": "### Original Description:"
     },
     "metadata": {}
    },
    {
     "output_type": "display_data",
     "data": {
      "text/plain": "<IPython.core.display.Markdown object>",
      "text/markdown": "**Setup:** 2 chairs,pillow,doggie bed, bed"
     },
     "metadata": {}
    },
    {
     "output_type": "display_data",
     "data": {
      "text/plain": "<IPython.core.display.Markdown object>",
      "text/markdown": "**Gameplay:**  you have to hit the 2 chairs with the doggie bed and the pillow while sitting on the bed"
     },
     "metadata": {}
    },
    {
     "output_type": "display_data",
     "data": {
      "text/plain": "<IPython.core.display.Markdown object>",
      "text/markdown": "**Scoring:** 20 score each pillow or doggie bed hit the 2chairs 10 times in a row\n "
     },
     "metadata": {}
    },
    {
     "output_type": "display_data",
     "data": {
      "text/plain": "<IPython.core.display.Markdown object>",
      "text/markdown": "----------"
     },
     "metadata": {}
    },
    {
     "output_type": "display_data",
     "data": {
      "text/plain": "<IPython.core.display.Markdown object>",
      "text/markdown": "### Game:"
     },
     "metadata": {}
    },
    {
     "output_type": "display_data",
     "data": {
      "text/plain": "<IPython.core.display.HTML object>",
      "text/html": "<div style=\"margin-left: 0px\">(define (game few-objects-10) (:domain few-objects-room-v1) </div>\r\n<div style=\"margin-left: 0px\">(:setup </div>\r\n<div style=\"margin-left: 20px\">) </div>\r\n<div style=\"margin-left: 0px\">(:constraints </div>\r\n<div style=\"margin-left: 20px\">(and </div>\r\n<div style=\"margin-left: 40px\">(preference chairHitFromBedWithDoggieBed </div>\r\n<div style=\"margin-left: 60px\"><span style=\"\">(exists</span> <span style=\"\">(<span style=\"color: #AA00FF\">?x1 ?x2 - block</span> <span style=\"\">?c - chair</span> <span style=\"\">?d - doggie_bed</span>)</span> </div>\r\n<div style=\"margin-left: 80px\">(then </div>\r\n<div style=\"margin-left: 100px\">(once <span style=\"\"> (and <span style=\"\">(agent_holds ?d)</span> <span style=\"\">(on ?x1 agent)</span> ) </span> ) </div>\r\n<div style=\"margin-left: 100px\">(hold <span style=\"\"> (and <span style=\"\"> (not <span style=\"\">(agent_holds ?d)</span> ) </span> <span style=\"\">(in_motion ?d)</span> ) </span> ) </div>\r\n<div style=\"margin-left: 100px\">(once <span style=\"\">(touch ?d ?c)</span> ) </div>\r\n<div style=\"margin-left: 80px\">) </div>\r\n<div style=\"margin-left: 60px\"><span style=\"\">)</span> </div>\r\n<div style=\"margin-left: 40px\">) </div>\r\n<div style=\"margin-left: 40px\">(preference chairHitFromBedWithPillow </div>\r\n<div style=\"margin-left: 60px\"><span style=\"\">(exists</span> <span style=\"\">(<span style=\"\">?b - bed</span> <span style=\"\">?c - chair</span> <span style=\"\">?p - pillow</span>)</span> </div>\r\n<div style=\"margin-left: 80px\">(then </div>\r\n<div style=\"margin-left: 100px\">(once <span style=\"\"> (and <span style=\"\">(agent_holds ?p)</span> <span style=\"\">(on ?b agent)</span> ) </span> ) </div>\r\n<div style=\"margin-left: 100px\">(hold <span style=\"\"> (and <span style=\"\"> (not <span style=\"\">(agent_holds ?p)</span> ) </span> <span style=\"\">(in_motion ?p)</span> ) </span> ) </div>\r\n<div style=\"margin-left: 100px\">(once <span style=\"\">(touch ?p ?c)</span> ) </div>\r\n<div style=\"margin-left: 80px\">) </div>\r\n<div style=\"margin-left: 60px\"><span style=\"\">)</span> </div>\r\n<div style=\"margin-left: 40px\">) </div>\r\n<div style=\"margin-left: 20px\">) </div>\r\n<div style=\"margin-left: 0px\">) </div>\r\n<div style=\"margin-left: 0px\">(:scoring </div>\r\n<div style=\"margin-left: 20px\">maximize </div>\r\n<div style=\"margin-left: 40px\">(+ (* 20 <span style=\"\">(count-nonoverlapping chairHitFromBedWithDoggieBed)</span> ) </div>\r\n<div style=\"margin-left: 60px\">(* 20 <span style=\"\">(count-nonoverlapping chairHitFromBedWithPillow)</span> ) </div>\r\n<div style=\"margin-left: 40px\">) </div>\r\n<div style=\"margin-left: 0px\">) </div>\r\n<div style=\"margin-left: 0px\">) </div>"
     },
     "metadata": {}
    }
   ],
   "source": [
    "visualize(regrwoth_mutated_asts, 2)"
   ]
  },
  {
   "source": [
    "Funny failure mode -- regardless of what this attempted to convey originally, this can never occur, obviously."
   ],
   "cell_type": "markdown",
   "metadata": {}
  },
  {
   "cell_type": "code",
   "execution_count": 119,
   "metadata": {},
   "outputs": [
    {
     "output_type": "stream",
     "name": "stdout",
     "text": [
      "With random seed 4, mutated:\n\n"
     ]
    },
    {
     "output_type": "display_data",
     "data": {
      "text/plain": "<IPython.core.display.Markdown object>",
      "text/markdown": "### Original Description:"
     },
     "metadata": {}
    },
    {
     "output_type": "display_data",
     "data": {
      "text/plain": "<IPython.core.display.Markdown object>",
      "text/markdown": "**Setup:** 2 tall cylindrical blocks, basketball, teddy bear"
     },
     "metadata": {}
    },
    {
     "output_type": "display_data",
     "data": {
      "text/plain": "<IPython.core.display.Markdown object>",
      "text/markdown": "**Gameplay:** place 2 tall cylindrical blocks as a target to throw the basketball in between them and after passing between them there will be the teddy bear."
     },
     "metadata": {}
    },
    {
     "output_type": "display_data",
     "data": {
      "text/plain": "<IPython.core.display.Markdown object>",
      "text/markdown": "**Scoring:** 5 rounds - 1 basketball roll each round. 15 points if you roll the ball between the 2 tall cylindrical blocks without hitting them, and then hitting the teddy bear. You lose 5 points for each tall cylindrical block you hit."
     },
     "metadata": {}
    },
    {
     "output_type": "display_data",
     "data": {
      "text/plain": "<IPython.core.display.Markdown object>",
      "text/markdown": "----------"
     },
     "metadata": {}
    },
    {
     "output_type": "display_data",
     "data": {
      "text/plain": "<IPython.core.display.Markdown object>",
      "text/markdown": "### Game:"
     },
     "metadata": {}
    },
    {
     "output_type": "display_data",
     "data": {
      "text/plain": "<IPython.core.display.HTML object>",
      "text/html": "<div style=\"margin-left: 0px\">(define (game medium-objects-8) (:domain medium-objects-room-v1) </div>\r\n<div style=\"margin-left: 0px\">(:setup </div>\r\n<div style=\"margin-left: 20px\">(and </div>\r\n<div style=\"margin-left: 40px\"><span style=\"\">(exists</span> <span style=\"\">(<span style=\"\">?t1 ?t2 - tall_cylindrical_block</span> <span style=\"\">?tb - teddy_bear</span>)</span> </div>\r\n<div style=\"margin-left: 60px\">(game-conserved </div>\r\n<div style=\"margin-left: 80px\">(and </div>\r\n<div style=\"margin-left: 100px\">(<= <span style=\"\">(distance ?t1 ?t2)</span> 2) </div>\r\n<div style=\"margin-left: 100px\">(= <span style=\"\">(distance ?tb ?t1)</span> <span style=\"\">(distance ?tb ?t2)</span>) </div>\r\n<div style=\"margin-left: 80px\">) </div>\r\n<div style=\"margin-left: 60px\">) </div>\r\n<div style=\"margin-left: 40px\"><span style=\"\">)</span> </div>\r\n<div style=\"margin-left: 20px\">) </div>\r\n<div style=\"margin-left: 0px\">) </div>\r\n<div style=\"margin-left: 0px\">(:constraints </div>\r\n<div style=\"margin-left: 20px\">(and </div>\r\n<div style=\"margin-left: 40px\">(preference throwBetweenBlocksToBear </div>\r\n<div style=\"margin-left: 60px\"><span style=\"\">(exists</span> <span style=\"\">(<span style=\"\">?b - basketball</span> <span style=\"\">?t1 - tall_cylindrical_block</span> <span style=\"\">?t2 - tall_cylindrical_block</span> <span style=\"\">?tb - teddy_bear</span>)</span> </div>\r\n<div style=\"margin-left: 80px\">(then </div>\r\n<div style=\"margin-left: 100px\">(once <span style=\"\">(agent_holds ?b)</span> ) </div>\r\n<div style=\"margin-left: 100px\">(hold-while <span style=\"\"> (and <span style=\"\"> (not <span style=\"\">(agent_holds ?b)</span> ) </span> <span style=\"\">(in_motion ?b)</span> ) </span> <span style=\"\">(between ?t1 ?b ?t2)</span> ) </div>\r\n<div style=\"margin-left: 100px\">(once <span style=\"\">(touch ?b ?tb)</span> ) </div>\r\n<div style=\"margin-left: 80px\">) </div>\r\n<div style=\"margin-left: 60px\"><span style=\"\">)</span> </div>\r\n<div style=\"margin-left: 40px\">) </div>\r\n<div style=\"margin-left: 40px\">(preference thrownBallHitBlock </div>\r\n<div style=\"margin-left: 60px\"><span style=\"\">(exists</span> <span style=\"\">(<span style=\"\">?b - basketball</span> <span style=\"\">?t - tall_cylindrical_block</span>)</span> </div>\r\n<div style=\"margin-left: 80px\">(then </div>\r\n<div style=\"margin-left: 100px; color: #AA00FF\">(once <span style=\"color: #FF6A00\"> (and <span style=\"color: #FF6A00\"> (not <span style=\"color: #00FF80\">(in_motion ?t)</span> ) </span> <span style=\"color: #FF6A00\">(in_motion ?t)</span> ) </span> ) </div>\r\n<div style=\"margin-left: 100px\">(hold <span style=\"\"> (and <span style=\"\"> (not <span style=\"\">(agent_holds ?b)</span> ) </span> <span style=\"\">(in_motion ?b)</span> ) </span> ) </div>\r\n<div style=\"margin-left: 100px\">(once <span style=\"\">(touch ?b ?t)</span> ) </div>\r\n<div style=\"margin-left: 80px\">) </div>\r\n<div style=\"margin-left: 60px\"><span style=\"\">)</span> </div>\r\n<div style=\"margin-left: 40px\">) </div>\r\n<div style=\"margin-left: 40px\">(preference throwAttempt </div>\r\n<div style=\"margin-left: 60px\"><span style=\"\">(exists</span> <span style=\"\">(<span style=\"\">?b - basketball</span>)</span> </div>\r\n<div style=\"margin-left: 80px\">(then </div>\r\n<div style=\"margin-left: 100px\">(once <span style=\"\">(agent_holds ?b)</span> ) </div>\r\n<div style=\"margin-left: 100px\">(hold <span style=\"\"> (and <span style=\"\"> (not <span style=\"\">(agent_holds ?b)</span> ) </span> <span style=\"\">(in_motion ?b)</span> ) </span> ) </div>\r\n<div style=\"margin-left: 100px\">(once <span style=\"\"> (not <span style=\"\">(in_motion ?b)</span> ) </span> ) </div>\r\n<div style=\"margin-left: 80px\">) </div>\r\n<div style=\"margin-left: 60px\"><span style=\"\">)</span> </div>\r\n<div style=\"margin-left: 40px\">) </div>\r\n<div style=\"margin-left: 20px\">) </div>\r\n<div style=\"margin-left: 0px\">) </div>\r\n<div style=\"margin-left: 0px\">(:terminal </div>\r\n<div style=\"margin-left: 20px\">(>= <span style=\"\">(count-nonoverlapping throwAttempt)</span> 5 ) </div>\r\n<div style=\"margin-left: 0px\">) </div>\r\n<div style=\"margin-left: 0px\">(:scoring </div>\r\n<div style=\"margin-left: 20px\">maximize </div>\r\n<div style=\"margin-left: 40px\">(+ (* 15 <span style=\"\">(count-nonoverlapping throwBetweenBlocksToBear)</span> ) </div>\r\n<div style=\"margin-left: 60px\">(* (- 5 ) </div>\r\n<div style=\"margin-left: 80px\"><span style=\"\">(count-nonoverlapping thrownBallHitBlock)</span> </div>\r\n<div style=\"margin-left: 60px\">) </div>\r\n<div style=\"margin-left: 40px\">) </div>\r\n<div style=\"margin-left: 0px\">) </div>\r\n<div style=\"margin-left: 0px\">) </div>"
     },
     "metadata": {}
    }
   ],
   "source": [
    "visualize(regrwoth_mutated_asts, 4)"
   ]
  },
  {
   "source": [
    "Another amusing failure mode -- ths mutation performed substituted in the predicate `(on ?1 ?2)`, and renaming variables to match the local context created an identical predicate to the one that's already there. "
   ],
   "cell_type": "markdown",
   "metadata": {}
  },
  {
   "cell_type": "code",
   "execution_count": 120,
   "metadata": {},
   "outputs": [
    {
     "output_type": "stream",
     "name": "stdout",
     "text": [
      "With random seed 9, mutated:\n\n"
     ]
    },
    {
     "output_type": "display_data",
     "data": {
      "text/plain": "<IPython.core.display.Markdown object>",
      "text/markdown": "### Original Description:"
     },
     "metadata": {}
    },
    {
     "output_type": "display_data",
     "data": {
      "text/plain": "<IPython.core.display.Markdown object>",
      "text/markdown": "**Setup:** In this game all the objects start at the same point design in the picture. All you need is the 3 golfballs, 3 tall cylindrical blocks, 3 cube blocks, 3 short cylindrical blocks, 3 pyramidal blocks, 3 triangular blocks, 3 tall cylindrical blocks, 3 flat rectangular blocks, 3 bridge blocks,  2 large triangular ramps, curved wooden ramp,  3 dodgeballs, beachball."
     },
     "metadata": {}
    },
    {
     "output_type": "display_data",
     "data": {
      "text/plain": "<IPython.core.display.Markdown object>",
      "text/markdown": "**Gameplay:** In this game you will have to make an bowling alley with the object provided. Then you use the balls to play in your bowling alley. This give infinite solutions to the game."
     },
     "metadata": {}
    },
    {
     "output_type": "display_data",
     "data": {
      "text/plain": "<IPython.core.display.Markdown object>",
      "text/markdown": "**Scoring:** If you use the 3 dodgeballs to strike the blocks you will get lesser points than when you use the 3 golfballs and more than when you use the beachball. Striking the bigger objects give you lesser points than if you strike bigger objects. Striking with the golfballs will multiply by 3 the score you got by striking the objects. If you strike using the dodgeballs it will multiply by 2 and the beachball by 1. Striking the short cylindrical blocks will give 5 points each. Striking the pyramid and bigger cylindrical block will give you 3 points. Striking 3 flat rectangular blocks and using the 3 bridge blocks will give you 1 points each. The final scores is calculated by the strike points and the multiplying that to the score of each ball."
     },
     "metadata": {}
    },
    {
     "output_type": "display_data",
     "data": {
      "text/plain": "<IPython.core.display.Markdown object>",
      "text/markdown": "----------"
     },
     "metadata": {}
    },
    {
     "output_type": "display_data",
     "data": {
      "text/plain": "<IPython.core.display.Markdown object>",
      "text/markdown": "### Game:"
     },
     "metadata": {}
    },
    {
     "output_type": "display_data",
     "data": {
      "text/plain": "<IPython.core.display.HTML object>",
      "text/html": "<div style=\"margin-left: 0px\">(define (game many-objects-22) (:domain many-objects-room-v1) </div>\r\n<div style=\"margin-left: 0px\">(:setup </div>\r\n<div style=\"margin-left: 20px\">) </div>\r\n<div style=\"margin-left: 0px\">(:constraints </div>\r\n<div style=\"margin-left: 20px\">(and </div>\r\n<div style=\"margin-left: 40px\">(preference beachballMovesSquareBlock </div>\r\n<div style=\"margin-left: 60px\"><span style=\"\">(exists</span> <span style=\"\">(<span style=\"\">?b - beachball</span> <span style=\"\">?c - (either flat_block bridge_block)</span> <span style=\"\">?f - floor</span>)</span> </div>\r\n<div style=\"margin-left: 80px\">(then </div>\r\n<div style=\"margin-left: 100px\">(once <span style=\"\"> (and <span style=\"\">(agent_holds ?b)</span> <span style=\"\">(on ?f ?c)</span> ) </span> ) </div>\r\n<div style=\"margin-left: 100px\">(hold-while <span style=\"\"> (and <span style=\"\"> (not <span style=\"\">(agent_holds ?b)</span> ) </span> <span style=\"\">(in_motion ?b)</span> <span style=\"\"> (not <span style=\"\">(agent_holds ?c)</span> ) </span> ) </span> <span style=\"\">(touch ?b ?c)</span> <span style=\"\">(in_motion ?c)</span> ) </div>\r\n<div style=\"margin-left: 80px\">) </div>\r\n<div style=\"margin-left: 60px\"><span style=\"\">)</span> </div>\r\n<div style=\"margin-left: 40px\">) </div>\r\n<div style=\"margin-left: 40px\">(preference beachballMovesTallBlock </div>\r\n<div style=\"margin-left: 60px\"><span style=\"\">(exists</span> <span style=\"\">(<span style=\"\">?b - beachball</span> <span style=\"\">?c - (either pyramid_block tall_cylindrical_block)</span> <span style=\"\">?f - floor</span>)</span> </div>\r\n<div style=\"margin-left: 80px\">(then </div>\r\n<div style=\"margin-left: 100px\">(once <span style=\"\"> (and <span style=\"\">(agent_holds ?b)</span> <span style=\"\">(on ?f ?c)</span> ) </span> ) </div>\r\n<div style=\"margin-left: 100px\">(hold-while <span style=\"\"> (and <span style=\"\"> (not <span style=\"\">(agent_holds ?b)</span> ) </span> <span style=\"\">(in_motion ?b)</span> <span style=\"\"> (not <span style=\"\">(agent_holds ?c)</span> ) </span> ) </span> <span style=\"\">(touch ?b ?c)</span> <span style=\"\">(in_motion ?c)</span> ) </div>\r\n<div style=\"margin-left: 80px\">) </div>\r\n<div style=\"margin-left: 60px\"><span style=\"\">)</span> </div>\r\n<div style=\"margin-left: 40px\">) </div>\r\n<div style=\"margin-left: 40px\">(preference beachballMovesShortBlock </div>\r\n<div style=\"margin-left: 60px\"><span style=\"\">(exists</span> <span style=\"\">(<span style=\"\">?b - beachball</span> <span style=\"\">?c - short_cylindrical_block</span> <span style=\"\">?f - floor</span>)</span> </div>\r\n<div style=\"margin-left: 80px\">(then </div>\r\n<div style=\"margin-left: 100px\">(once <span style=\"\"> (and <span style=\"\">(agent_holds ?b)</span> <span style=\"\">(on ?f ?c)</span> ) </span> ) </div>\r\n<div style=\"margin-left: 100px\">(hold-while <span style=\"\"> (and <span style=\"\"> (not <span style=\"\">(agent_holds ?b)</span> ) </span> <span style=\"\">(in_motion ?b)</span> <span style=\"\"> (not <span style=\"\">(agent_holds ?c)</span> ) </span> ) </span> <span style=\"\">(touch ?b ?c)</span> <span style=\"\">(in_motion ?c)</span> ) </div>\r\n<div style=\"margin-left: 80px\">) </div>\r\n<div style=\"margin-left: 60px\"><span style=\"\">)</span> </div>\r\n<div style=\"margin-left: 40px\">) </div>\r\n<div style=\"margin-left: 40px\">(preference dodgeballMovesSquareBlock </div>\r\n<div style=\"margin-left: 60px\"><span style=\"\">(exists</span> <span style=\"\">(<span style=\"\">?b - dodgeball</span> <span style=\"\">?c - (either flat_block bridge_block)</span> <span style=\"\">?f - floor</span>)</span> </div>\r\n<div style=\"margin-left: 80px\">(then </div>\r\n<div style=\"margin-left: 100px\">(once <span style=\"\"> (and <span style=\"\">(agent_holds ?b)</span> <span style=\"\">(on ?f ?c)</span> ) </span> ) </div>\r\n<div style=\"margin-left: 100px\">(hold-while <span style=\"\"> (and <span style=\"\"> (not <span style=\"\">(agent_holds ?b)</span> ) </span> <span style=\"\">(in_motion ?b)</span> <span style=\"\"> (not <span style=\"\">(agent_holds ?c)</span> ) </span> ) </span> <span style=\"\">(touch ?b ?c)</span> <span style=\"\">(in_motion ?c)</span> ) </div>\r\n<div style=\"margin-left: 80px\">) </div>\r\n<div style=\"margin-left: 60px\"><span style=\"\">)</span> </div>\r\n<div style=\"margin-left: 40px\">) </div>\r\n<div style=\"margin-left: 40px\">(preference dodgeballMovesTallBlock </div>\r\n<div style=\"margin-left: 60px\"><span style=\"\">(exists</span> <span style=\"\">(<span style=\"\">?b - dodgeball</span> <span style=\"\">?c - (either pyramid_block tall_cylindrical_block)</span> <span style=\"\">?f - floor</span>)</span> </div>\r\n<div style=\"margin-left: 80px\">(then </div>\r\n<div style=\"margin-left: 100px\">(once <span style=\"\"> (and <span style=\"\">(agent_holds ?b)</span> <span style=\"\">(on ?f ?c)</span> ) </span> ) </div>\r\n<div style=\"margin-left: 100px\">(hold-while <span style=\"\"> (and <span style=\"\"> (not <span style=\"\">(agent_holds ?b)</span> ) </span> <span style=\"\">(in_motion ?b)</span> <span style=\"\"> (not <span style=\"\">(agent_holds ?c)</span> ) </span> ) </span> <span style=\"\">(touch ?b ?c)</span> <span style=\"\">(in_motion ?c)</span> ) </div>\r\n<div style=\"margin-left: 80px\">) </div>\r\n<div style=\"margin-left: 60px\"><span style=\"\">)</span> </div>\r\n<div style=\"margin-left: 40px\">) </div>\r\n<div style=\"margin-left: 40px\">(preference dodgeballMovesShortBlock </div>\r\n<div style=\"margin-left: 60px\"><span style=\"\">(exists</span> <span style=\"\">(<span style=\"\">?b - dodgeball</span> <span style=\"\">?c - short_cylindrical_block</span>)</span> </div>\r\n<div style=\"margin-left: 80px\">(then </div>\r\n<div style=\"margin-left: 100px\">(once <span style=\"\"> (and <span style=\"\">(agent_holds ?b)</span> <span style=\"\">(on floor ?c)</span> ) </span> ) </div>\r\n<div style=\"margin-left: 100px\">(hold-while <span style=\"\"> (and <span style=\"\"> (not <span style=\"\">(agent_holds ?b)</span> ) </span> <span style=\"\">(in_motion ?b)</span> <span style=\"\"> (not <span style=\"\">(agent_holds ?c)</span> ) </span> ) </span> <span style=\"\">(touch ?b ?c)</span> <span style=\"\">(in_motion ?c)</span> ) </div>\r\n<div style=\"margin-left: 80px\">) </div>\r\n<div style=\"margin-left: 60px\"><span style=\"\">)</span> </div>\r\n<div style=\"margin-left: 40px\">) </div>\r\n<div style=\"margin-left: 40px\">(preference golfballMovesSquareBlock </div>\r\n<div style=\"margin-left: 60px\"><span style=\"\">(exists</span> <span style=\"\">(<span style=\"\">?b - golfball</span> <span style=\"\">?c - (either flat_block bridge_block)</span> <span style=\"\">?f - floor</span>)</span> </div>\r\n<div style=\"margin-left: 80px\">(then </div>\r\n<div style=\"margin-left: 100px\">(once <span style=\"\"> (and <span style=\"\">(agent_holds ?b)</span> <span style=\"\">(on ?f ?c)</span> ) </span> ) </div>\r\n<div style=\"margin-left: 100px\">(hold-while <span style=\"\"> (and <span style=\"\"> (not <span style=\"\">(agent_holds ?b)</span> ) </span> <span style=\"\">(in_motion ?b)</span> <span style=\"\"> (not <span style=\"\">(agent_holds ?c)</span> ) </span> ) </span> <span style=\"\">(touch ?b ?c)</span> <span style=\"\">(in_motion ?c)</span> ) </div>\r\n<div style=\"margin-left: 80px\">) </div>\r\n<div style=\"margin-left: 60px\"><span style=\"\">)</span> </div>\r\n<div style=\"margin-left: 40px\">) </div>\r\n<div style=\"margin-left: 40px\">(preference golfballMovesTallBlock </div>\r\n<div style=\"margin-left: 60px\"><span style=\"\">(exists</span> <span style=\"\">(<span style=\"\">?b - golfball</span> <span style=\"\">?c - (either pyramid_block tall_cylindrical_block)</span> <span style=\"\">?f - floor</span>)</span> </div>\r\n<div style=\"margin-left: 80px\">(then </div>\r\n<div style=\"margin-left: 100px\">(once <span style=\"\"> (and <span style=\"color: #AA00FF\">(on ?f ?c)</span> <span style=\"\">(on ?f ?c)</span> ) </span> ) </div>\r\n<div style=\"margin-left: 100px\">(hold-while <span style=\"\"> (and <span style=\"\"> (not <span style=\"\">(agent_holds ?b)</span> ) </span> <span style=\"\">(in_motion ?b)</span> <span style=\"\"> (not <span style=\"\">(agent_holds ?c)</span> ) </span> ) </span> <span style=\"\">(touch ?b ?c)</span> <span style=\"\">(in_motion ?c)</span> ) </div>\r\n<div style=\"margin-left: 80px\">) </div>\r\n<div style=\"margin-left: 60px\"><span style=\"\">)</span> </div>\r\n<div style=\"margin-left: 40px\">) </div>\r\n<div style=\"margin-left: 40px\">(preference golfballMovesShortBlock </div>\r\n<div style=\"margin-left: 60px\"><span style=\"\">(exists</span> <span style=\"\">(<span style=\"\">?b - golfball</span> <span style=\"\">?c - short_cylindrical_block</span> <span style=\"\">?f - floor</span>)</span> </div>\r\n<div style=\"margin-left: 80px\">(then </div>\r\n<div style=\"margin-left: 100px\">(once <span style=\"\"> (and <span style=\"\">(agent_holds ?b)</span> <span style=\"\">(on ?f ?c)</span> ) </span> ) </div>\r\n<div style=\"margin-left: 100px\">(hold-while <span style=\"\"> (and <span style=\"\"> (not <span style=\"\">(agent_holds ?b)</span> ) </span> <span style=\"\">(in_motion ?b)</span> <span style=\"\"> (not <span style=\"\">(agent_holds ?c)</span> ) </span> ) </span> <span style=\"\">(touch ?b ?c)</span> <span style=\"\">(in_motion ?c)</span> ) </div>\r\n<div style=\"margin-left: 80px\">) </div>\r\n<div style=\"margin-left: 60px\"><span style=\"\">)</span> </div>\r\n<div style=\"margin-left: 40px\">) </div>\r\n<div style=\"margin-left: 20px\">) </div>\r\n<div style=\"margin-left: 0px\">) </div>\r\n<div style=\"margin-left: 0px\">(:scoring </div>\r\n<div style=\"margin-left: 20px\">maximize </div>\r\n<div style=\"margin-left: 40px\">(+ (* 1 <span style=\"\">(count-nonoverlapping beachballMovesSquareBlock)</span> ) </div>\r\n<div style=\"margin-left: 60px\">(* 3 <span style=\"\">(count-nonoverlapping beachballMovesTallBlock)</span> ) </div>\r\n<div style=\"margin-left: 60px\">(* 5 <span style=\"\">(count-nonoverlapping beachballMovesShortBlock)</span> ) </div>\r\n<div style=\"margin-left: 60px\">(* 2 <span style=\"\">(count-nonoverlapping golfballMovesSquareBlock)</span> ) </div>\r\n<div style=\"margin-left: 60px\">(* 6 <span style=\"\">(count-nonoverlapping dodgeballMovesTallBlock)</span> ) </div>\r\n<div style=\"margin-left: 60px\">(* 10 <span style=\"\">(count-nonoverlapping dodgeballMovesShortBlock)</span> ) </div>\r\n<div style=\"margin-left: 60px\">(* 3 <span style=\"\">(count-nonoverlapping golfballMovesSquareBlock)</span> ) </div>\r\n<div style=\"margin-left: 60px\">(* 9 <span style=\"\">(count-nonoverlapping golfballMovesTallBlock)</span> ) </div>\r\n<div style=\"margin-left: 60px\">(* 15 <span style=\"\">(count-nonoverlapping golfballMovesShortBlock)</span> ) </div>\r\n<div style=\"margin-left: 40px\">) </div>\r\n<div style=\"margin-left: 0px\">) </div>\r\n<div style=\"margin-left: 0px\">) </div>"
     },
     "metadata": {}
    }
   ],
   "source": [
    "visualize(regrwoth_mutated_asts, 9)"
   ]
  },
  {
   "source": [
    "Changes the scoring from awarding five points for each succesful throw (`throwLandsInTarget`) to five points for each throw. Makes the game easier?"
   ],
   "cell_type": "markdown",
   "metadata": {}
  },
  {
   "cell_type": "code",
   "execution_count": 121,
   "metadata": {},
   "outputs": [
    {
     "output_type": "stream",
     "name": "stdout",
     "text": [
      "With random seed 11, mutated:\n\n"
     ]
    },
    {
     "output_type": "display_data",
     "data": {
      "text/plain": "<IPython.core.display.Markdown object>",
      "text/markdown": "### Original Description:"
     },
     "metadata": {}
    },
    {
     "output_type": "display_data",
     "data": {
      "text/plain": "<IPython.core.display.Markdown object>",
      "text/markdown": "**Setup:** 3 golfballs, a large triangular ramp, the 3 triangular blocks and the 3 bridge block"
     },
     "metadata": {}
    },
    {
     "output_type": "display_data",
     "data": {
      "text/plain": "<IPython.core.display.Markdown object>",
      "text/markdown": "**Gameplay:** First, it'd be ideal to clear out the rug. Second, you set up the 3 triangular blocks so that they make a triangular shape from above (as big as you want it to be). That will be your main target. Then, you put the bridge blocks around the shape, a fair distance from it, creating sort of a perimeter; that's another target. Now that you've got your targets, you imagine where you want to throw the golf balls from, and put the large triangular ramp between you and the targets. Now the only thing left to do is to throw them as if they were bowling balls, and using the ramp, make it land in one of the goals."
     },
     "metadata": {}
    },
    {
     "output_type": "display_data",
     "data": {
      "text/plain": "<IPython.core.display.Markdown object>",
      "text/markdown": "**Scoring:** You only get 3 throws, and a throw that lands in the main target gives you 5 points. A throw that misses the target, but gets caught by the perimeter will give you 2 points. Otherwise, if the ball leaves the perimeter, you'll get no points."
     },
     "metadata": {}
    },
    {
     "output_type": "display_data",
     "data": {
      "text/plain": "<IPython.core.display.Markdown object>",
      "text/markdown": "----------"
     },
     "metadata": {}
    },
    {
     "output_type": "display_data",
     "data": {
      "text/plain": "<IPython.core.display.Markdown object>",
      "text/markdown": "### Game:"
     },
     "metadata": {}
    },
    {
     "output_type": "display_data",
     "data": {
      "text/plain": "<IPython.core.display.HTML object>",
      "text/html": "<div style=\"margin-left: 0px\">(define (game many-objects-20) (:domain many-objects-room-v1) </div>\r\n<div style=\"margin-left: 0px\">(:setup </div>\r\n<div style=\"margin-left: 20px\">(and </div>\r\n<div style=\"margin-left: 40px\"><span style=\"\">(exists</span> <span style=\"\">(<span style=\"\">?t1 ?t2 ?t3 - triangular_block</span>)</span> </div>\r\n<div style=\"margin-left: 60px\">(game-conserved </div>\r\n<div style=\"margin-left: 80px\">(and </div>\r\n<div style=\"margin-left: 100px\">(= <span style=\"\">(distance ?t1 ?t2)</span> <span style=\"\">(distance ?t1 ?t3)</span>) </div>\r\n<div style=\"margin-left: 100px\">(= <span style=\"\">(distance ?t1 ?t2)</span> <span style=\"\">(distance ?t2 ?t3)</span>) </div>\r\n<div style=\"margin-left: 80px\">) </div>\r\n<div style=\"margin-left: 60px\">) </div>\r\n<div style=\"margin-left: 40px\"><span style=\"\">)</span> </div>\r\n<div style=\"margin-left: 40px\"><span style=\"\">(forall</span> <span style=\"\">(<span style=\"\">?b - bridge_block</span>)</span> </div>\r\n<div style=\"margin-left: 60px\"><span style=\"\">(forall</span> <span style=\"\">(<span style=\"\">?b2 - bridge_block</span> <span style=\"\">?t - triangular_block</span>)</span> </div>\r\n<div style=\"margin-left: 80px\">(game-conserved </div>\r\n<div style=\"margin-left: 100px\">(and </div>\r\n<div style=\"margin-left: 120px\">(not </div>\r\n<div style=\"margin-left: 140px\"><span style=\"\">(= ?b ?b2)</span> </div>\r\n<div style=\"margin-left: 120px\">) </div>\r\n<div style=\"margin-left: 120px\">(< <span style=\"\">(distance ?b ?t)</span> <span style=\"\">(distance ?b ?b2)</span>) </div>\r\n<div style=\"margin-left: 100px\">) </div>\r\n<div style=\"margin-left: 80px\">) </div>\r\n<div style=\"margin-left: 60px\"><span style=\"\">)</span> </div>\r\n<div style=\"margin-left: 40px\"><span style=\"\">)</span> </div>\r\n<div style=\"margin-left: 40px\"><span style=\"\">(exists</span> <span style=\"\">(<span style=\"\">?r - large_triangular_ramp</span> <span style=\"\">?b - bridge_block</span> <span style=\"\">?t - triangular_block</span>)</span> </div>\r\n<div style=\"margin-left: 60px\">(game-conserved </div>\r\n<div style=\"margin-left: 80px\"><span style=\"\">(between ?r ?b ?t)</span> </div>\r\n<div style=\"margin-left: 60px\">) </div>\r\n<div style=\"margin-left: 40px\"><span style=\"\">)</span> </div>\r\n<div style=\"margin-left: 20px\">) </div>\r\n<div style=\"margin-left: 0px\">) </div>\r\n<div style=\"margin-left: 0px\">(:constraints </div>\r\n<div style=\"margin-left: 20px\">(and </div>\r\n<div style=\"margin-left: 40px\">(preference throwLandsInTarget </div>\r\n<div style=\"margin-left: 60px\"><span style=\"\">(exists</span> <span style=\"\">(<span style=\"\">?g - golfball</span> <span style=\"\">?r - large_triangular_ramp</span>)</span> </div>\r\n<div style=\"margin-left: 80px\">(then </div>\r\n<div style=\"margin-left: 100px\">(once <span style=\"\"> (and <span style=\"\">(agent_holds ?g)</span> <span style=\"\">(exists</span> <span style=\"\">(<span style=\"\">?t - triangular_block</span>)</span> <span style=\"\">(between agent ?r ?t)</span> <span style=\"\">)</span> ) </span> ) </div>\r\n<div style=\"margin-left: 100px\">(hold-while <span style=\"\"> (and <span style=\"\"> (not <span style=\"\">(agent_holds ?g)</span> ) </span> <span style=\"\">(in_motion ?g)</span> ) </span> <span style=\"\">(touch ?r ?g)</span> ) </div>\r\n<div style=\"margin-left: 100px\">(once <span style=\"\"> (and <span style=\"\"> (not <span style=\"\">(in_motion ?g)</span> ) </span> <span style=\"\">(on floor ?g)</span> <span style=\"\">(exists</span> <span style=\"\">(<span style=\"\">?t1 ?t2 - triangular_block</span>)</span> <span style=\"\">(between ?t1 ?r ?t2)</span> <span style=\"\">)</span> ) </span> ) </div>\r\n<div style=\"margin-left: 80px\">) </div>\r\n<div style=\"margin-left: 60px\"><span style=\"\">)</span> </div>\r\n<div style=\"margin-left: 40px\">) </div>\r\n<div style=\"margin-left: 40px\">(preference throwLandsInPerimeter </div>\r\n<div style=\"margin-left: 60px\"><span style=\"\">(exists</span> <span style=\"\">(<span style=\"\">?g - golfball</span> <span style=\"\">?r - large_triangular_ramp</span>)</span> </div>\r\n<div style=\"margin-left: 80px\">(then </div>\r\n<div style=\"margin-left: 100px\">(once <span style=\"\"> (and <span style=\"\">(agent_holds ?g)</span> <span style=\"\">(exists</span> <span style=\"\">(<span style=\"\">?t - triangular_block</span>)</span> <span style=\"\">(between agent ?r ?t)</span> <span style=\"\">)</span> ) </span> ) </div>\r\n<div style=\"margin-left: 100px\">(hold-while <span style=\"\"> (and <span style=\"\"> (not <span style=\"\">(agent_holds ?g)</span> ) </span> <span style=\"\">(in_motion ?g)</span> ) </span> <span style=\"\">(touch ?r ?g)</span> ) </div>\r\n<div style=\"margin-left: 100px\">(once <span style=\"\"> (and <span style=\"\"> (not <span style=\"\">(in_motion ?g)</span> ) </span> <span style=\"\">(on floor ?g)</span> <span style=\"\">(exists</span> <span style=\"\">(<span style=\"\">?b1 ?b2 - bridge_block</span>)</span> <span style=\"\">(between ?b1 ?r ?b2)</span> <span style=\"\">)</span> ) </span> ) </div>\r\n<div style=\"margin-left: 80px\">) </div>\r\n<div style=\"margin-left: 60px\"><span style=\"\">)</span> </div>\r\n<div style=\"margin-left: 40px\">) </div>\r\n<div style=\"margin-left: 40px\">(preference throwAttempt </div>\r\n<div style=\"margin-left: 60px\"><span style=\"\">(exists</span> <span style=\"\">(<span style=\"\">?g - golfball</span>)</span> </div>\r\n<div style=\"margin-left: 80px\">(then </div>\r\n<div style=\"margin-left: 100px\">(once <span style=\"\">(agent_holds ?g)</span> ) </div>\r\n<div style=\"margin-left: 100px\">(hold <span style=\"\"> (and <span style=\"\"> (not <span style=\"\">(agent_holds ?g)</span> ) </span> <span style=\"\">(in_motion ?g)</span> ) </span> ) </div>\r\n<div style=\"margin-left: 100px\">(once <span style=\"\"> (not <span style=\"\">(in_motion ?g)</span> ) </span> ) </div>\r\n<div style=\"margin-left: 80px\">) </div>\r\n<div style=\"margin-left: 60px\"><span style=\"\">)</span> </div>\r\n<div style=\"margin-left: 40px\">) </div>\r\n<div style=\"margin-left: 20px\">) </div>\r\n<div style=\"margin-left: 0px\">) </div>\r\n<div style=\"margin-left: 0px\">(:terminal </div>\r\n<div style=\"margin-left: 20px\">(>= <span style=\"\">(count-nonoverlapping throwAttempt)</span> 3 ) </div>\r\n<div style=\"margin-left: 0px\">) </div>\r\n<div style=\"margin-left: 0px\">(:scoring </div>\r\n<div style=\"margin-left: 20px\">maximize </div>\r\n<div style=\"margin-left: 40px\">(+ (* 5 <span style=\"color: #AA00FF\">(count-nonoverlapping throwAttempt)</span> ) </div>\r\n<div style=\"margin-left: 60px\">(* 2 <span style=\"\">(count-nonoverlapping throwLandsInPerimeter)</span> ) </div>\r\n<div style=\"margin-left: 40px\">) </div>\r\n<div style=\"margin-left: 0px\">) </div>\r\n<div style=\"margin-left: 0px\">) </div>"
     },
     "metadata": {}
    }
   ],
   "source": [
    "visualize(regrwoth_mutated_asts, 11)"
   ]
  },
  {
   "source": [
    "Another amusing failure mode that occurs a bunch -- a predicate being called with the wrong number of arguments as result of a mutation.\n",
    "\n",
    "Semantically, I considered `(agent_holds ?1)` to accept one argument, and `(on ?1 ?2)` to accept two, and here they ended up flipped."
   ],
   "cell_type": "markdown",
   "metadata": {}
  },
  {
   "cell_type": "code",
   "execution_count": 122,
   "metadata": {},
   "outputs": [
    {
     "output_type": "stream",
     "name": "stdout",
     "text": [
      "With random seed 15, mutated:\n\n"
     ]
    },
    {
     "output_type": "display_data",
     "data": {
      "text/plain": "<IPython.core.display.Markdown object>",
      "text/markdown": "### Original Description:"
     },
     "metadata": {}
    },
    {
     "output_type": "display_data",
     "data": {
      "text/plain": "<IPython.core.display.Markdown object>",
      "text/markdown": "**Setup:** I would perch the hexagonal bin on top of the shelve furthest from the desk and sit on one of the chairs, looking at the desk"
     },
     "metadata": {}
    },
    {
     "output_type": "display_data",
     "data": {
      "text/plain": "<IPython.core.display.Markdown object>",
      "text/markdown": "**Gameplay:** The game would consist on trying to get the basketball into the hexagonal bin by throwing it over your head and looking upside down, with your neck hanging from the back of the chair"
     },
     "metadata": {}
    },
    {
     "output_type": "display_data",
     "data": {
      "text/plain": "<IPython.core.display.Markdown object>",
      "text/markdown": "**Scoring:** You would get a point for every time the ball got into the bin"
     },
     "metadata": {}
    },
    {
     "output_type": "display_data",
     "data": {
      "text/plain": "<IPython.core.display.Markdown object>",
      "text/markdown": "----------"
     },
     "metadata": {}
    },
    {
     "output_type": "display_data",
     "data": {
      "text/plain": "<IPython.core.display.Markdown object>",
      "text/markdown": "### Game:"
     },
     "metadata": {}
    },
    {
     "output_type": "display_data",
     "data": {
      "text/plain": "<IPython.core.display.HTML object>",
      "text/html": "<div style=\"margin-left: 0px\">(define (game medium-objects-3) (:domain medium-objects-room-v1) </div>\r\n<div style=\"margin-left: 0px\">(:setup </div>\r\n<div style=\"margin-left: 20px\">(and </div>\r\n<div style=\"margin-left: 40px\"><span style=\"\">(exists</span> <span style=\"\">(<span style=\"\">?s - shelf</span> <span style=\"\">?h - hexagonal_bin</span> <span style=\"\">?d - desk</span>)</span> </div>\r\n<div style=\"margin-left: 60px\">(and </div>\r\n<div style=\"margin-left: 80px\">(game-conserved </div>\r\n<div style=\"margin-left: 100px\"><span style=\"\">(on ?s ?h)</span> </div>\r\n<div style=\"margin-left: 80px\">) </div>\r\n<div style=\"margin-left: 80px\"><span style=\"\">(forall</span> <span style=\"\">(<span style=\"\">?s2 - shelf</span>)</span> </div>\r\n<div style=\"margin-left: 100px\">(game-conserved </div>\r\n<div style=\"margin-left: 120px\">(>= <span style=\"\">(distance ?s d)</span> <span style=\"\">(distance ?s2 ?d)</span>) </div>\r\n<div style=\"margin-left: 100px\">) </div>\r\n<div style=\"margin-left: 80px\"><span style=\"\">)</span> </div>\r\n<div style=\"margin-left: 60px\">) </div>\r\n<div style=\"margin-left: 40px\"><span style=\"\">)</span> </div>\r\n<div style=\"margin-left: 20px\">) </div>\r\n<div style=\"margin-left: 0px\">) </div>\r\n<div style=\"margin-left: 0px\">(:constraints </div>\r\n<div style=\"margin-left: 20px\">(and </div>\r\n<div style=\"margin-left: 40px\">(preference throwBallFromChairToBin </div>\r\n<div style=\"margin-left: 60px\"><span style=\"\">(exists</span> <span style=\"\">(<span style=\"\">?b - basketball</span> <span style=\"\">?c - chair</span> <span style=\"\">?h - hexagonal_bin</span> <span style=\"\">?d - desk</span>)</span> </div>\r\n<div style=\"margin-left: 80px\">(then </div>\r\n<div style=\"margin-left: 100px\">(once <span style=\"\"> (and <span style=\"\">(agent_holds ?b)</span> <span style=\"\">(on ?c agent)</span> <span style=\"\">(adjacent ?c ?d)</span> <span style=\"\">(agent_perspective looking_upside_down)</span> ) </span> ) </div>\r\n<div style=\"margin-left: 100px\">(hold <span style=\"color: #AA00FF\"> (and <span style=\"color: #FF6A00\"> (not <span style=\"color: #00FF80\">(agent_holds ?h ?b)</span> ) </span> <span style=\"color: #00FF80\">(on ?d)</span> ) </span> ) </div>\r\n<div style=\"margin-left: 100px\">(once <span style=\"\"> (and <span style=\"\">(on ?h ?b)</span> <span style=\"\"> (not <span style=\"\">(in_motion ?b)</span> ) </span> ) </span> ) </div>\r\n<div style=\"margin-left: 80px\">) </div>\r\n<div style=\"margin-left: 60px\"><span style=\"\">)</span> </div>\r\n<div style=\"margin-left: 40px\">) </div>\r\n<div style=\"margin-left: 20px\">) </div>\r\n<div style=\"margin-left: 0px\">) </div>\r\n<div style=\"margin-left: 0px\">(:scoring </div>\r\n<div style=\"margin-left: 20px\">maximize </div>\r\n<div style=\"margin-left: 40px\"><span style=\"\">(count-nonoverlapping throwBallFromChairToBin)</span> </div>\r\n<div style=\"margin-left: 0px\">) </div>\r\n<div style=\"margin-left: 0px\">) </div>"
     },
     "metadata": {}
    }
   ],
   "source": [
    "visualize(regrwoth_mutated_asts, 15)"
   ]
  },
  {
   "source": [
    "This game originally was something like \"consturct a a tunnel from the flat and bridge blocks, then throw the ball under the bridge.\n",
    "\n",
    "The change essentially makes it such that you have to construct a tunnel from the ramp and bridge blocks, but it doesn't enforce the first setup term, which was designed to make sure this bridge is constructed on the floor."
   ],
   "cell_type": "markdown",
   "metadata": {}
  },
  {
   "cell_type": "code",
   "execution_count": 123,
   "metadata": {},
   "outputs": [
    {
     "output_type": "stream",
     "name": "stdout",
     "text": [
      "With random seed 26, mutated:\n\n"
     ]
    },
    {
     "output_type": "display_data",
     "data": {
      "text/plain": "<IPython.core.display.Markdown object>",
      "text/markdown": "### Original Description:"
     },
     "metadata": {}
    },
    {
     "output_type": "display_data",
     "data": {
      "text/plain": "<IPython.core.display.Markdown object>",
      "text/markdown": "**Setup:** 2 bridge blocks, 2 flat rectangular blocks, basketball"
     },
     "metadata": {}
    },
    {
     "output_type": "display_data",
     "data": {
      "text/plain": "<IPython.core.display.Markdown object>",
      "text/markdown": "**Gameplay:** create tunnels with the brigde blocks and throw the balls"
     },
     "metadata": {}
    },
    {
     "output_type": "display_data",
     "data": {
      "text/plain": "<IPython.core.display.Markdown object>",
      "text/markdown": "**Scoring:** 1 point for teach"
     },
     "metadata": {}
    },
    {
     "output_type": "display_data",
     "data": {
      "text/plain": "<IPython.core.display.Markdown object>",
      "text/markdown": "----------"
     },
     "metadata": {}
    },
    {
     "output_type": "display_data",
     "data": {
      "text/plain": "<IPython.core.display.Markdown object>",
      "text/markdown": "### Game:"
     },
     "metadata": {}
    },
    {
     "output_type": "display_data",
     "data": {
      "text/plain": "<IPython.core.display.HTML object>",
      "text/html": "<div style=\"margin-left: 0px\">(define (game medium-objects-2) (:domain medium-objects-room-v1) </div>\r\n<div style=\"margin-left: 0px\">(:setup </div>\r\n<div style=\"margin-left: 20px\">(and </div>\r\n<div style=\"margin-left: 40px\"><span style=\"\">(forall</span> <span style=\"\">(<span style=\"\">?f - flat_block</span>)</span> </div>\r\n<div style=\"margin-left: 60px\">(game-conserved </div>\r\n<div style=\"margin-left: 80px\"><span style=\"\">(on floor ?f)</span> </div>\r\n<div style=\"margin-left: 60px\">) </div>\r\n<div style=\"margin-left: 40px\"><span style=\"\">)</span> </div>\r\n<div style=\"margin-left: 40px\"><span style=\"\">(forall</span> <span style=\"\">(<span style=\"\">?b - bridge_block</span>)</span> </div>\r\n<div style=\"margin-left: 60px\"><span style=\"\">(exists</span> <span style=\"color: #AA00FF\">(<span style=\"color: #AA00FF\">?h - large_triangular_ramp</span>)</span> </div>\r\n<div style=\"margin-left: 80px\">(game-conserved </div>\r\n<div style=\"margin-left: 100px\"><span style=\"\">(on ?h ?b)</span> </div>\r\n<div style=\"margin-left: 80px\">) </div>\r\n<div style=\"margin-left: 60px\"><span style=\"\">)</span> </div>\r\n<div style=\"margin-left: 40px\"><span style=\"\">)</span> </div>\r\n<div style=\"margin-left: 20px\">) </div>\r\n<div style=\"margin-left: 0px\">) </div>\r\n<div style=\"margin-left: 0px\">(:constraints </div>\r\n<div style=\"margin-left: 20px\">(and </div>\r\n<div style=\"margin-left: 40px\">(preference throwBallUnderBridge </div>\r\n<div style=\"margin-left: 60px\"><span style=\"\">(exists</span> <span style=\"\">(<span style=\"\">?b - basketball</span> <span style=\"\">?bb - bridge_block</span>)</span> </div>\r\n<div style=\"margin-left: 80px\">(then </div>\r\n<div style=\"margin-left: 100px\">(once <span style=\"\"> (and <span style=\"\">(agent_holds ?b)</span> <span style=\"\"> (not <span style=\"\">(under ?bb ?b)</span> ) </span> ) </span> ) </div>\r\n<div style=\"margin-left: 100px\">(hold-while <span style=\"\"> (and <span style=\"\">(in_motion ?b)</span> <span style=\"\"> (not <span style=\"\">(agent_holds ?b)</span> ) </span> <span style=\"\"> (not <span style=\"\">(agent_holds ?bb)</span> ) </span> ) </span> <span style=\"\">(under ?bb ?b)</span> ) </div>\r\n<div style=\"margin-left: 100px\">(once <span style=\"\"> (not <span style=\"\">(under ?bb ?b)</span> ) </span> ) </div>\r\n<div style=\"margin-left: 80px\">) </div>\r\n<div style=\"margin-left: 60px\"><span style=\"\">)</span> </div>\r\n<div style=\"margin-left: 40px\">) </div>\r\n<div style=\"margin-left: 20px\">) </div>\r\n<div style=\"margin-left: 0px\">) </div>\r\n<div style=\"margin-left: 0px\">(:scoring </div>\r\n<div style=\"margin-left: 20px\">maximize </div>\r\n<div style=\"margin-left: 40px\"><span style=\"\">(count-nonoverlapping throwBallUnderBridge)</span> </div>\r\n<div style=\"margin-left: 0px\">) </div>\r\n<div style=\"margin-left: 0px\">) </div>"
     },
     "metadata": {}
    }
   ],
   "source": [
    "visualize(regrwoth_mutated_asts, 25)"
   ]
  },
  {
   "source": [
    "Changes the terminal conditions, which were originally `chairStoppedRotating` happening once (that is, the chair stops rotating), to `objectLandsOnRotatingChair` happening once, that is, ending at the first succesful shot. \n",
    "\n",
    "Not nonsense, but doesn't make too much sense either."
   ],
   "cell_type": "markdown",
   "metadata": {}
  },
  {
   "cell_type": "code",
   "execution_count": 124,
   "metadata": {},
   "outputs": [
    {
     "output_type": "stream",
     "name": "stdout",
     "text": [
      "With random seed 28, mutated:\n\n"
     ]
    },
    {
     "output_type": "display_data",
     "data": {
      "text/plain": "<IPython.core.display.Markdown object>",
      "text/markdown": "### Original Description:"
     },
     "metadata": {}
    },
    {
     "output_type": "display_data",
     "data": {
      "text/plain": "<IPython.core.display.Markdown object>",
      "text/markdown": "**Setup:** One of the chairs has to be still in the same spot rotating."
     },
     "metadata": {}
    },
    {
     "output_type": "display_data",
     "data": {
      "text/plain": "<IPython.core.display.Markdown object>",
      "text/markdown": "**Gameplay:** The game uses the chair rotating as it was prepared you will have to throw items into the rotating in the chair forming a stack of items. it ends when an item falls from the chair."
     },
     "metadata": {}
    },
    {
     "output_type": "display_data",
     "data": {
      "text/plain": "<IPython.core.display.Markdown object>",
      "text/markdown": "**Scoring:** 10 points per item and 10 points per 5 centimeters."
     },
     "metadata": {}
    },
    {
     "output_type": "display_data",
     "data": {
      "text/plain": "<IPython.core.display.Markdown object>",
      "text/markdown": "----------"
     },
     "metadata": {}
    },
    {
     "output_type": "display_data",
     "data": {
      "text/plain": "<IPython.core.display.Markdown object>",
      "text/markdown": "### Game:"
     },
     "metadata": {}
    },
    {
     "output_type": "display_data",
     "data": {
      "text/plain": "<IPython.core.display.HTML object>",
      "text/html": "<div style=\"margin-left: 0px\">(define (game few-objects-18) (:domain few-objects-room-v1) </div>\r\n<div style=\"margin-left: 0px\">(:setup </div>\r\n<div style=\"margin-left: 20px\">) </div>\r\n<div style=\"margin-left: 0px\">(:constraints </div>\r\n<div style=\"margin-left: 20px\">(and </div>\r\n<div style=\"margin-left: 40px\">(preference objectLandsOnRotatingChair </div>\r\n<div style=\"margin-left: 60px\"><span style=\"\">(exists</span> <span style=\"\">(<span style=\"\">?o - game_object</span> <span style=\"\">?c - chair</span>)</span> </div>\r\n<div style=\"margin-left: 80px\">(then </div>\r\n<div style=\"margin-left: 100px\">(once <span style=\"\"> (and <span style=\"\">(agent_holds ?o)</span> <span style=\"\">(is_rotating ?c)</span> ) </span> ) </div>\r\n<div style=\"margin-left: 100px\">(hold <span style=\"\"> (and <span style=\"\"> (not <span style=\"\">(agent_holds ?o)</span> ) </span> <span style=\"\">(in_motion ?o)</span> <span style=\"\">(is_rotating ?c)</span> ) </span> ) </div>\r\n<div style=\"margin-left: 100px\">(once <span style=\"\"> (and <span style=\"\">(is_rotating ?c)</span> <span style=\"\"> (not <span style=\"\">(in_motion ?o)</span> ) </span> <span style=\"\"> (or <span style=\"\">(on ?c ?o)</span> <span style=\"\">(exists</span> <span style=\"\">(<span style=\"\">?o2 - game_object</span>)</span> <span style=\"\"> (and <span style=\"\"> (not <span style=\"\">(= ?o ?o2)</span> ) </span> <span style=\"\">(in_building ?o2)</span> <span style=\"\">(on ?o2 ?o)</span> ) </span> <span style=\"\">)</span> ) </span> ) </span> ) </div>\r\n<div style=\"margin-left: 80px\">) </div>\r\n<div style=\"margin-left: 60px\"><span style=\"\">)</span> </div>\r\n<div style=\"margin-left: 40px\">) </div>\r\n<div style=\"margin-left: 40px\">(preference chairStoppedRotating </div>\r\n<div style=\"margin-left: 60px\"><span style=\"\">(exists</span> <span style=\"\">(<span style=\"\">?c - chair</span>)</span> </div>\r\n<div style=\"margin-left: 80px\">(then </div>\r\n<div style=\"margin-left: 100px\">(once <span style=\"\"> (not <span style=\"\">(is_rotating ?c)</span> ) </span> ) </div>\r\n<div style=\"margin-left: 100px\">(hold <span style=\"\">(is_rotating ?c)</span> ) </div>\r\n<div style=\"margin-left: 100px\">(once <span style=\"\"> (not <span style=\"\">(is_rotating ?c)</span> ) </span> ) </div>\r\n<div style=\"margin-left: 80px\">) </div>\r\n<div style=\"margin-left: 60px\"><span style=\"\">)</span> </div>\r\n<div style=\"margin-left: 40px\">) </div>\r\n<div style=\"margin-left: 20px\">) </div>\r\n<div style=\"margin-left: 0px\">) </div>\r\n<div style=\"margin-left: 0px\">(:terminal </div>\r\n<div style=\"margin-left: 20px\">(> <span style=\"color: #AA00FF\">(count-once objectLandsOnRotatingChair)</span> 0 ) </div>\r\n<div style=\"margin-left: 0px\">) </div>\r\n<div style=\"margin-left: 0px\">(:scoring </div>\r\n<div style=\"margin-left: 20px\">maximize </div>\r\n<div style=\"margin-left: 40px\">(* 10 <span style=\"\">(count-once-per-objects objectLandsOnRotatingChair)</span> ) </div>\r\n<div style=\"margin-left: 0px\">) </div>\r\n<div style=\"margin-left: 0px\">) </div>"
     },
     "metadata": {}
    }
   ],
   "source": [
    "visualize(regrwoth_mutated_asts, 27)"
   ]
  },
  {
   "source": [
    "Changes this game from balancing on the large triangular ramp (what it was before) to balancing on a cube block, which sounds like it would be rather harder?"
   ],
   "cell_type": "markdown",
   "metadata": {}
  },
  {
   "cell_type": "code",
   "execution_count": 125,
   "metadata": {},
   "outputs": [
    {
     "output_type": "stream",
     "name": "stdout",
     "text": [
      "With random seed 41, mutated:\n\n"
     ]
    },
    {
     "output_type": "display_data",
     "data": {
      "text/plain": "<IPython.core.display.Markdown object>",
      "text/markdown": "### Original Description:"
     },
     "metadata": {}
    },
    {
     "output_type": "display_data",
     "data": {
      "text/plain": "<IPython.core.display.Markdown object>",
      "text/markdown": "**Setup:** Prepare one of the large triangular ramps and place it in the doggie bed."
     },
     "metadata": {}
    },
    {
     "output_type": "display_data",
     "data": {
      "text/plain": "<IPython.core.display.Markdown object>",
      "text/markdown": "**Gameplay:** Try to stand on the hypotenuse side of the large triangular ramp while balancing it on its right-angled edge."
     },
     "metadata": {}
    },
    {
     "output_type": "display_data",
     "data": {
      "text/plain": "<IPython.core.display.Markdown object>",
      "text/markdown": "**Scoring:** Have a stopwatch in one hand while balancing and time it. Seconds balanced = score."
     },
     "metadata": {}
    },
    {
     "output_type": "display_data",
     "data": {
      "text/plain": "<IPython.core.display.Markdown object>",
      "text/markdown": "----------"
     },
     "metadata": {}
    },
    {
     "output_type": "display_data",
     "data": {
      "text/plain": "<IPython.core.display.Markdown object>",
      "text/markdown": "### Game:"
     },
     "metadata": {}
    },
    {
     "output_type": "display_data",
     "data": {
      "text/plain": "<IPython.core.display.HTML object>",
      "text/html": "<div style=\"margin-left: 0px\">(define (game many-objects-5) (:domain many-objects-room-v1) </div>\r\n<div style=\"margin-left: 0px\">(:setup </div>\r\n<div style=\"margin-left: 20px\">) </div>\r\n<div style=\"margin-left: 0px\">(:constraints </div>\r\n<div style=\"margin-left: 20px\">(and </div>\r\n<div style=\"margin-left: 40px\">(preference agentOnRampOnEdge </div>\r\n<div style=\"margin-left: 60px\"><span style=\"\">(exists</span> <span style=\"color: #AA00FF\">(<span style=\"color: #AA00FF\">?h - cube_block</span>)</span> </div>\r\n<div style=\"margin-left: 80px\">(then </div>\r\n<div style=\"margin-left: 100px\">(hold <span style=\"\"> (and <span style=\"\">(object_orientation ?h edge)</span> <span style=\"\">(on ?h agent)</span> ) </span> ) </div>\r\n<div style=\"margin-left: 80px\">) </div>\r\n<div style=\"margin-left: 60px\"><span style=\"\">)</span> </div>\r\n<div style=\"margin-left: 40px\">) </div>\r\n<div style=\"margin-left: 20px\">) </div>\r\n<div style=\"margin-left: 0px\">) </div>\r\n<div style=\"margin-left: 0px\">(:scoring </div>\r\n<div style=\"margin-left: 20px\">maximize </div>\r\n<div style=\"margin-left: 40px\"><span style=\"\">(count-longest agentOnRampOnEdge)</span> </div>\r\n<div style=\"margin-left: 0px\">) </div>\r\n<div style=\"margin-left: 0px\">) </div>"
     },
     "metadata": {}
    }
   ],
   "source": [
    "visualize(regrwoth_mutated_asts, 40)"
   ]
  },
  {
   "source": [
    "Game changed from bowling a dodgeball to bowling a cube block"
   ],
   "cell_type": "markdown",
   "metadata": {}
  },
  {
   "cell_type": "code",
   "execution_count": 126,
   "metadata": {},
   "outputs": [
    {
     "output_type": "stream",
     "name": "stdout",
     "text": [
      "With random seed 43, mutated:\n\n"
     ]
    },
    {
     "output_type": "display_data",
     "data": {
      "text/plain": "<IPython.core.display.Markdown object>",
      "text/markdown": "### Original Description:"
     },
     "metadata": {}
    },
    {
     "output_type": "display_data",
     "data": {
      "text/plain": "<IPython.core.display.Markdown object>",
      "text/markdown": "**Setup:** The curved wooden ramp is placed in the center of the room and so is the hexagonal bin, next to it."
     },
     "metadata": {}
    },
    {
     "output_type": "display_data",
     "data": {
      "text/plain": "<IPython.core.display.Markdown object>",
      "text/markdown": "**Gameplay:** The goal in this game is to get the dodgeballs to go through the curved wooden ramp into the hexagonal bin, like bowling with a twist."
     },
     "metadata": {}
    },
    {
     "output_type": "display_data",
     "data": {
      "text/plain": "<IPython.core.display.Markdown object>",
      "text/markdown": "**Scoring:** Everytime the player scores the dodgeball into the hexagonal bin, wins 5 points."
     },
     "metadata": {}
    },
    {
     "output_type": "display_data",
     "data": {
      "text/plain": "<IPython.core.display.Markdown object>",
      "text/markdown": "----------"
     },
     "metadata": {}
    },
    {
     "output_type": "display_data",
     "data": {
      "text/plain": "<IPython.core.display.Markdown object>",
      "text/markdown": "### Game:"
     },
     "metadata": {}
    },
    {
     "output_type": "display_data",
     "data": {
      "text/plain": "<IPython.core.display.HTML object>",
      "text/html": "<div style=\"margin-left: 0px\">(define (game few-objects-7) (:domain few-objects-room-v1) </div>\r\n<div style=\"margin-left: 0px\">(:setup </div>\r\n<div style=\"margin-left: 20px\">(and </div>\r\n<div style=\"margin-left: 40px\"><span style=\"\">(exists</span> <span style=\"\">(<span style=\"\">?c - curved_wooden_ramp</span> <span style=\"\">?h - hexagonal_bin</span>)</span> </div>\r\n<div style=\"margin-left: 60px\">(and </div>\r\n<div style=\"margin-left: 80px\">(game-conserved </div>\r\n<div style=\"margin-left: 100px\"><span style=\"\">(adjacent <span style=\"\">(side ?h front)</span> <span style=\"\">(side ?c back)</span>)</span> </div>\r\n<div style=\"margin-left: 80px\">) </div>\r\n<div style=\"margin-left: 80px\">(game-conserved </div>\r\n<div style=\"margin-left: 100px\">(= <span style=\"\">(distance ?c room_center)</span> 1) </div>\r\n<div style=\"margin-left: 80px\">) </div>\r\n<div style=\"margin-left: 60px\">) </div>\r\n<div style=\"margin-left: 40px\"><span style=\"\">)</span> </div>\r\n<div style=\"margin-left: 20px\">) </div>\r\n<div style=\"margin-left: 0px\">) </div>\r\n<div style=\"margin-left: 0px\">(:constraints </div>\r\n<div style=\"margin-left: 20px\">(and </div>\r\n<div style=\"margin-left: 40px\">(preference bowlBallToBin </div>\r\n<div style=\"margin-left: 60px\"><span style=\"\">(exists</span> <span style=\"\">(<span style=\"color: #AA00FF\">?d - cube_block</span> <span style=\"\">?r - curved_wooden_ramp</span> <span style=\"\">?h - hexagonal_bin</span>)</span> </div>\r\n<div style=\"margin-left: 80px\">(then </div>\r\n<div style=\"margin-left: 100px\">(once <span style=\"\">(agent_holds ?d)</span> ) </div>\r\n<div style=\"margin-left: 100px\">(hold-while <span style=\"\"> (and <span style=\"\"> (not <span style=\"\">(agent_holds ?d)</span> ) </span> <span style=\"\">(in_motion ?d)</span> ) </span> <span style=\"\">(on ?r ?d)</span> ) </div>\r\n<div style=\"margin-left: 100px\">(once <span style=\"\"> (and <span style=\"\">(on ?h ?d)</span> <span style=\"\"> (not <span style=\"\">(in_motion ?d)</span> ) </span> ) </span> ) </div>\r\n<div style=\"margin-left: 80px\">) </div>\r\n<div style=\"margin-left: 60px\"><span style=\"\">)</span> </div>\r\n<div style=\"margin-left: 40px\">) </div>\r\n<div style=\"margin-left: 20px\">) </div>\r\n<div style=\"margin-left: 0px\">) </div>\r\n<div style=\"margin-left: 0px\">(:scoring </div>\r\n<div style=\"margin-left: 20px\">maximize </div>\r\n<div style=\"margin-left: 40px\">(* 5 <span style=\"\">(count-nonoverlapping bowlBallToBin)</span> ) </div>\r\n<div style=\"margin-left: 0px\">) </div>\r\n<div style=\"margin-left: 0px\">) </div>"
     },
     "metadata": {}
    }
   ],
   "source": [
    "visualize(regrwoth_mutated_asts, 42)"
   ]
  },
  {
   "source": [
    "Another minor semantic change, from bouncing a ball off the wall and catching it, to bouncing a ball off the curved wooden ramp and catching it."
   ],
   "cell_type": "markdown",
   "metadata": {}
  },
  {
   "cell_type": "code",
   "execution_count": 127,
   "metadata": {},
   "outputs": [
    {
     "output_type": "stream",
     "name": "stdout",
     "text": [
      "With random seed 55, mutated:\n\n"
     ]
    },
    {
     "output_type": "display_data",
     "data": {
      "text/plain": "<IPython.core.display.Markdown object>",
      "text/markdown": "### Original Description:"
     },
     "metadata": {}
    },
    {
     "output_type": "display_data",
     "data": {
      "text/plain": "<IPython.core.display.Markdown object>",
      "text/markdown": "**Setup:** All that is need for this game is one of the dodgeballs and the wall."
     },
     "metadata": {}
    },
    {
     "output_type": "display_data",
     "data": {
      "text/plain": "<IPython.core.display.Markdown object>",
      "text/markdown": "**Gameplay:** The player can bounce the dodge ball off of the wall and catch it. "
     },
     "metadata": {}
    },
    {
     "output_type": "display_data",
     "data": {
      "text/plain": "<IPython.core.display.Markdown object>",
      "text/markdown": "**Scoring:** Each time the player catches the ball, it's one point. Each time they step back further and the points that can be gained increase by one. "
     },
     "metadata": {}
    },
    {
     "output_type": "display_data",
     "data": {
      "text/plain": "<IPython.core.display.Markdown object>",
      "text/markdown": "----------"
     },
     "metadata": {}
    },
    {
     "output_type": "display_data",
     "data": {
      "text/plain": "<IPython.core.display.Markdown object>",
      "text/markdown": "### Game:"
     },
     "metadata": {}
    },
    {
     "output_type": "display_data",
     "data": {
      "text/plain": "<IPython.core.display.HTML object>",
      "text/html": "<div style=\"margin-left: 0px\">(define (game few-objects-15) (:domain few-objects-room-v1) </div>\r\n<div style=\"margin-left: 0px\">(:setup </div>\r\n<div style=\"margin-left: 20px\">) </div>\r\n<div style=\"margin-left: 0px\">(:constraints </div>\r\n<div style=\"margin-left: 20px\">(and </div>\r\n<div style=\"margin-left: 40px\">(preference throwToWallAndBack </div>\r\n<div style=\"margin-left: 60px\"><span style=\"\">(exists</span> <span style=\"color: #AA00FF\">(<span style=\"\">?d - dodgeball</span> <span style=\"color: #AA00FF\">?r - curved_wooden_ramp</span>)</span> </div>\r\n<div style=\"margin-left: 80px\">(then </div>\r\n<div style=\"margin-left: 100px\">(once <span style=\"\">(agent_holds ?d)</span> ) </div>\r\n<div style=\"margin-left: 100px\">(hold-while <span style=\"\"> (and <span style=\"\"> (not <span style=\"\">(agent_holds ?d)</span> ) </span> <span style=\"\">(in_motion ?d)</span> ) </span> <span style=\"\">(touch ?d ?r)</span> ) </div>\r\n<div style=\"margin-left: 100px\">(once-measure <span style=\"\">(agent_holds ?d)</span> <span style=\"\">(distance agent ?d)</span> ) </div>\r\n<div style=\"margin-left: 80px\">) </div>\r\n<div style=\"margin-left: 60px\"><span style=\"\">)</span> </div>\r\n<div style=\"margin-left: 40px\">) </div>\r\n<div style=\"margin-left: 20px\">) </div>\r\n<div style=\"margin-left: 0px\">) </div>\r\n<div style=\"margin-left: 0px\">(:scoring </div>\r\n<div style=\"margin-left: 20px\">maximize </div>\r\n<div style=\"margin-left: 40px\"><span style=\"\">(count-increasing-measure throwToWallAndBack)</span> </div>\r\n<div style=\"margin-left: 0px\">) </div>\r\n<div style=\"margin-left: 0px\">) </div>"
     },
     "metadata": {}
    }
   ],
   "source": [
    "visualize(regrwoth_mutated_asts, 53)"
   ]
  },
  {
   "source": [
    "# Games generated by making a single step\n",
    "\n",
    "In these the color scheme is simpler -- the mutation is in blue (first color in a equential colormap, assuming I might want to eventually mark each mutation, or something)"
   ],
   "cell_type": "markdown",
   "metadata": {}
  },
  {
   "source": [
    "Changed the setup slightly -- before it was `(game-conserved (= (distance ?b ?r) 2))`, that is, the ramp is 2 meters from the bed, and now it's that the ramp is on the bed. This works."
   ],
   "cell_type": "markdown",
   "metadata": {}
  },
  {
   "cell_type": "code",
   "execution_count": 128,
   "metadata": {},
   "outputs": [
    {
     "output_type": "stream",
     "name": "stdout",
     "text": [
      "With random seed 103, mutated:\n\n"
     ]
    },
    {
     "output_type": "display_data",
     "data": {
      "text/plain": "<IPython.core.display.Markdown object>",
      "text/markdown": "### Original Description:"
     },
     "metadata": {}
    },
    {
     "output_type": "display_data",
     "data": {
      "text/plain": "<IPython.core.display.Markdown object>",
      "text/markdown": "**Setup:** bed\nhexagonal bin on the bed\ncurved wooden ramp about 2m to the bed\n3 dodgballs"
     },
     "metadata": {}
    },
    {
     "output_type": "display_data",
     "data": {
      "text/plain": "<IPython.core.display.Markdown object>",
      "text/markdown": "**Gameplay:** On the bed i'd place the hexagonal bin. About 2m of the bed i'd place the curved wooden ramp. Then, close to the wall of the opposite side of the bed i'd throw 1 dodge ball at a time through the curved wooden ramp trying to place the dodgball in the hexagonal bin"
     },
     "metadata": {}
    },
    {
     "output_type": "display_data",
     "data": {
      "text/plain": "<IPython.core.display.Markdown object>",
      "text/markdown": "**Scoring:** for each dodgeball place inside the bin i'd get 1 point"
     },
     "metadata": {}
    },
    {
     "output_type": "display_data",
     "data": {
      "text/plain": "<IPython.core.display.Markdown object>",
      "text/markdown": "----------"
     },
     "metadata": {}
    },
    {
     "output_type": "display_data",
     "data": {
      "text/plain": "<IPython.core.display.Markdown object>",
      "text/markdown": "### Game:"
     },
     "metadata": {}
    },
    {
     "output_type": "display_data",
     "data": {
      "text/plain": "<IPython.core.display.HTML object>",
      "text/html": "<div style=\"margin-left: 0px\">(define (game many-objects-21) (:domain many-objects-room-v1) </div>\r\n<div style=\"margin-left: 0px\">(:setup </div>\r\n<div style=\"margin-left: 20px\">(and </div>\r\n<div style=\"margin-left: 40px\"><span style=\"\">(exists</span> <span style=\"\">(<span style=\"\">?h - hexagonal_bin</span> <span style=\"\">?b - bed</span>)</span> </div>\r\n<div style=\"margin-left: 60px\">(game-conserved </div>\r\n<div style=\"margin-left: 80px\"><span style=\"\">(on ?b ?h)</span> </div>\r\n<div style=\"margin-left: 60px\">) </div>\r\n<div style=\"margin-left: 40px\"><span style=\"\">)</span> </div>\r\n<div style=\"margin-left: 40px\"><span style=\"\">(exists</span> <span style=\"\">(<span style=\"\">?r - curved_wooden_ramp</span> <span style=\"\">?b - bed</span>)</span> </div>\r\n<div style=\"color: #1f77b4; margin-left: 60px\">(game-conserved </div>\r\n<div style=\"color: #1f77b4; margin-left: 80px\"><span style=\"color: #1f77b4\">(on ?b ?r)</span> </div>\r\n<div style=\"color: #1f77b4; margin-left: 60px\">) </div>\r\n<div style=\"margin-left: 40px\"><span style=\"color: #1f77b4\">)</span> </div>\r\n<div style=\"margin-left: 20px\">) </div>\r\n<div style=\"margin-left: 0px\">) </div>\r\n<div style=\"margin-left: 0px\">(:constraints </div>\r\n<div style=\"margin-left: 20px\">(and </div>\r\n<div style=\"margin-left: 40px\">(preference throwBallToBinThroughRamp </div>\r\n<div style=\"margin-left: 60px\"><span style=\"\">(exists</span> <span style=\"\">(<span style=\"\">?d - dodgeball</span> <span style=\"\">?h - hexagonal_bin</span> <span style=\"\">?r - curved_wooden_ramp</span> <span style=\"\">?w - north_wall</span>)</span> </div>\r\n<div style=\"margin-left: 80px\">(then </div>\r\n<div style=\"margin-left: 100px\">(once <span style=\"\"> (and <span style=\"\">(agent_holds ?d)</span> (< <span style=\"\">(distance agent ?w)</span> 1) ) </span> ) </div>\r\n<div style=\"margin-left: 100px\">(hold-while <span style=\"\"> (and <span style=\"\"> (not <span style=\"\">(agent_holds ?d)</span> ) </span> <span style=\"\">(in_motion ?d)</span> ) </span> <span style=\"\">(touch ?d ?r)</span> ) </div>\r\n<div style=\"margin-left: 100px\">(once <span style=\"\"> (and <span style=\"\">(on ?h ?d)</span> <span style=\"\"> (not <span style=\"\">(in_motion ?d)</span> ) </span> ) </span> ) </div>\r\n<div style=\"margin-left: 80px\">) </div>\r\n<div style=\"margin-left: 60px\"><span style=\"\">)</span> </div>\r\n<div style=\"margin-left: 40px\">) </div>\r\n<div style=\"margin-left: 20px\">) </div>\r\n<div style=\"margin-left: 0px\">) </div>\r\n<div style=\"margin-left: 0px\">(:scoring </div>\r\n<div style=\"margin-left: 20px\">maximize </div>\r\n<div style=\"margin-left: 40px\"><span style=\"\">(count-nonoverlapping throwBallToBinThroughRamp)</span> </div>\r\n<div style=\"margin-left: 0px\">) </div>\r\n<div style=\"margin-left: 0px\">) </div>"
     },
     "metadata": {}
    }
   ],
   "source": [
    "visualize(single_step_mutated_asts, 3)"
   ]
  },
  {
   "source": [
    "Another minor semantic difference -- from ending the game after three roll attempts, to ending it after three succesful rolls."
   ],
   "cell_type": "markdown",
   "metadata": {}
  },
  {
   "cell_type": "code",
   "execution_count": 129,
   "metadata": {},
   "outputs": [
    {
     "output_type": "stream",
     "name": "stdout",
     "text": [
      "With random seed 106, mutated:\n\n"
     ]
    },
    {
     "output_type": "display_data",
     "data": {
      "text/plain": "<IPython.core.display.Markdown object>",
      "text/markdown": "### Original Description:"
     },
     "metadata": {}
    },
    {
     "output_type": "display_data",
     "data": {
      "text/plain": "<IPython.core.display.Markdown object>",
      "text/markdown": "**Setup:** nan"
     },
     "metadata": {}
    },
    {
     "output_type": "display_data",
     "data": {
      "text/plain": "<IPython.core.display.Markdown object>",
      "text/markdown": "**Gameplay:** The player will use all of the different blocks available to create a course for the golf balls that starts from the bottom self that is located in front of the bed and leads to the hexagonal bin (the inside of which, is the finish-line). The player has 3 attempts (using the 3 gold balls) to perfect his course. For each attempt the player will also be using the cellphone to time how long it takes for the golf ball to make it inside the hexagonal bin or untill the golf ball falls down to the floor."
     },
     "metadata": {}
    },
    {
     "output_type": "display_data",
     "data": {
      "text/plain": "<IPython.core.display.Markdown object>",
      "text/markdown": "**Scoring:** The score is calculated by adding the seconds timed in all 3 attempts and multiplying the total number of seconds by 10."
     },
     "metadata": {}
    },
    {
     "output_type": "display_data",
     "data": {
      "text/plain": "<IPython.core.display.Markdown object>",
      "text/markdown": "----------"
     },
     "metadata": {}
    },
    {
     "output_type": "display_data",
     "data": {
      "text/plain": "<IPython.core.display.Markdown object>",
      "text/markdown": "### Game:"
     },
     "metadata": {}
    },
    {
     "output_type": "display_data",
     "data": {
      "text/plain": "<IPython.core.display.HTML object>",
      "text/html": "<div style=\"margin-left: 0px\">(define (game many-objects-24) (:domain many-objects-room-v1) </div>\r\n<div style=\"margin-left: 0px\">(:setup </div>\r\n<div style=\"margin-left: 20px\">(and </div>\r\n<div style=\"margin-left: 40px\"><span style=\"\">(exists</span> <span style=\"\">(<span style=\"\">?h - hexagonal_bin</span>)</span> </div>\r\n<div style=\"margin-left: 60px\"><span style=\"\">(forall</span> <span style=\"\">(<span style=\"\">?b - block</span>)</span> </div>\r\n<div style=\"margin-left: 80px\">(or </div>\r\n<div style=\"margin-left: 100px\">(game-optional </div>\r\n<div style=\"margin-left: 120px\"><span style=\"\">(adjacent ?b bed)</span> </div>\r\n<div style=\"margin-left: 100px\">) </div>\r\n<div style=\"margin-left: 100px\">(game-optional </div>\r\n<div style=\"margin-left: 120px\"><span style=\"\">(adjacent ?b ?h)</span> </div>\r\n<div style=\"margin-left: 100px\">) </div>\r\n<div style=\"margin-left: 100px\"><span style=\"\">(exists</span> <span style=\"\">(<span style=\"\">?b2 - block</span>)</span> </div>\r\n<div style=\"margin-left: 120px\">(game-optional </div>\r\n<div style=\"margin-left: 140px\">(and </div>\r\n<div style=\"margin-left: 160px\">(not </div>\r\n<div style=\"margin-left: 180px\"><span style=\"\">(= ?b ?b2)</span> </div>\r\n<div style=\"margin-left: 160px\">) </div>\r\n<div style=\"margin-left: 160px\">(or </div>\r\n<div style=\"margin-left: 180px\"><span style=\"\">(on ?b2 ?b)</span> </div>\r\n<div style=\"margin-left: 180px\"><span style=\"\">(adjacent ?b2 ?b)</span> </div>\r\n<div style=\"margin-left: 160px\">) </div>\r\n<div style=\"margin-left: 140px\">) </div>\r\n<div style=\"margin-left: 120px\">) </div>\r\n<div style=\"margin-left: 100px\"><span style=\"\">)</span> </div>\r\n<div style=\"margin-left: 80px\">) </div>\r\n<div style=\"margin-left: 60px\"><span style=\"\">)</span> </div>\r\n<div style=\"margin-left: 40px\"><span style=\"\">)</span> </div>\r\n<div style=\"margin-left: 20px\">) </div>\r\n<div style=\"margin-left: 0px\">) </div>\r\n<div style=\"margin-left: 0px\">(:constraints </div>\r\n<div style=\"margin-left: 20px\">(and </div>\r\n<div style=\"margin-left: 40px\">(preference rollBallToBin </div>\r\n<div style=\"margin-left: 60px\"><span style=\"\">(exists</span> <span style=\"\">(<span style=\"\">?g - golfball</span> <span style=\"\">?h - hexagonal_bin</span> <span style=\"\">?b - bed</span> <span style=\"\">?f - floor</span>)</span> </div>\r\n<div style=\"margin-left: 80px\">(then </div>\r\n<div style=\"margin-left: 100px\">(once <span style=\"\"> (and <span style=\"\">(agent_holds ?g)</span> <span style=\"\">(on ?b agent)</span> ) </span> ) </div>\r\n<div style=\"margin-left: 100px\">(hold <span style=\"\"> (and <span style=\"\">(in_motion ?g)</span> <span style=\"\"> (not <span style=\"\">(agent_holds ?g)</span> ) </span> <span style=\"\">(exists</span> <span style=\"\">(<span style=\"\">?z - block</span>)</span> <span style=\"\">(touch ?g ?b)</span> <span style=\"\">)</span> ) </span> ) </div>\r\n<div style=\"margin-left: 100px\">(once <span style=\"\"> (and <span style=\"\"> (or <span style=\"\">(on ?h ?g)</span> <span style=\"\">(on ?f ?g)</span> ) </span> <span style=\"\"> (not <span style=\"\">(in_motion ?g)</span> ) </span> ) </span> ) </div>\r\n<div style=\"margin-left: 80px\">) </div>\r\n<div style=\"margin-left: 60px\"><span style=\"\">)</span> </div>\r\n<div style=\"margin-left: 40px\">) </div>\r\n<div style=\"margin-left: 40px\">(preference rollAttempt </div>\r\n<div style=\"margin-left: 60px\"><span style=\"\">(exists</span> <span style=\"\">(<span style=\"\">?g - golfball</span> <span style=\"\">?b - block</span> <span style=\"\">?c - bed</span>)</span> </div>\r\n<div style=\"margin-left: 80px\">(then </div>\r\n<div style=\"margin-left: 100px\">(once <span style=\"\"> (and <span style=\"\">(agent_holds ?g)</span> <span style=\"\">(on ?b agent)</span> ) </span> ) </div>\r\n<div style=\"margin-left: 100px\">(hold <span style=\"\"> (and <span style=\"\">(in_motion ?g)</span> <span style=\"\"> (not <span style=\"\">(agent_holds ?g)</span> ) </span> ) </span> ) </div>\r\n<div style=\"margin-left: 100px\">(once <span style=\"\">(touch ?g ?b)</span> ) </div>\r\n<div style=\"margin-left: 80px\">) </div>\r\n<div style=\"margin-left: 60px\"><span style=\"\">)</span> </div>\r\n<div style=\"margin-left: 40px\">) </div>\r\n<div style=\"margin-left: 20px\">) </div>\r\n<div style=\"margin-left: 0px\">) </div>\r\n<div style=\"margin-left: 0px\">(:terminal </div>\r\n<div style=\"margin-left: 20px\">(>= <span style=\"color: #1f77b4\">(count-nonoverlapping rollBallToBin)</span> 3 ) </div>\r\n<div style=\"margin-left: 0px\">) </div>\r\n<div style=\"margin-left: 0px\">(:scoring </div>\r\n<div style=\"margin-left: 20px\">maximize </div>\r\n<div style=\"margin-left: 40px\">(* 10 <span style=\"\">(count-total rollBallToBin)</span> ) </div>\r\n<div style=\"margin-left: 0px\">) </div>\r\n<div style=\"margin-left: 0px\">) </div>"
     },
     "metadata": {}
    }
   ],
   "source": [
    "visualize(single_step_mutated_asts, 6)"
   ]
  },
  {
   "source": [
    "A small change to the scoring -- if you manage to knock off the desk lamp at least once, you get an extra point for each time you manage to knock off the desktop."
   ],
   "cell_type": "markdown",
   "metadata": {}
  },
  {
   "cell_type": "code",
   "execution_count": 130,
   "metadata": {},
   "outputs": [
    {
     "output_type": "stream",
     "name": "stdout",
     "text": [
      "With random seed 107, mutated:\n\n"
     ]
    },
    {
     "output_type": "display_data",
     "data": {
      "text/plain": "<IPython.core.display.Markdown object>",
      "text/markdown": "### Original Description:"
     },
     "metadata": {}
    },
    {
     "output_type": "display_data",
     "data": {
      "text/plain": "<IPython.core.display.Markdown object>",
      "text/markdown": "**Setup:** Desktop computer, desk lamp, CD, pillow, beachball and dodgeball."
     },
     "metadata": {}
    },
    {
     "output_type": "display_data",
     "data": {
      "text/plain": "<IPython.core.display.Markdown object>",
      "text/markdown": "**Gameplay:** In this game you need to knock down the objects that are on the desk with three projectile objects at your disposal; a pillow, a beachball and a dodgeball. You have to knock down a desktop computer, a desk lamp, and a CD. "
     },
     "metadata": {}
    },
    {
     "output_type": "display_data",
     "data": {
      "text/plain": "<IPython.core.display.Markdown object>",
      "text/markdown": "**Scoring:** Knocking down the desktop computer gives you 5 points, the desk lamp 10 points and the CD 15 points."
     },
     "metadata": {}
    },
    {
     "output_type": "display_data",
     "data": {
      "text/plain": "<IPython.core.display.Markdown object>",
      "text/markdown": "----------"
     },
     "metadata": {}
    },
    {
     "output_type": "display_data",
     "data": {
      "text/plain": "<IPython.core.display.Markdown object>",
      "text/markdown": "### Game:"
     },
     "metadata": {}
    },
    {
     "output_type": "display_data",
     "data": {
      "text/plain": "<IPython.core.display.HTML object>",
      "text/html": "<div style=\"margin-left: 0px\">(define (game medium-objects-9) (:domain medium-objects-room-v1) </div>\r\n<div style=\"margin-left: 0px\">(:setup </div>\r\n<div style=\"margin-left: 20px\">) </div>\r\n<div style=\"margin-left: 0px\">(:constraints </div>\r\n<div style=\"margin-left: 20px\">(and </div>\r\n<div style=\"margin-left: 40px\">(preference thrownObjectKnocksDesktop </div>\r\n<div style=\"margin-left: 60px\"><span style=\"\">(exists</span> <span style=\"\">(<span style=\"\">?o - (either pillow beachball dodgeball)</span> <span style=\"\">?d - desktop</span> <span style=\"\">?e - desk</span>)</span> </div>\r\n<div style=\"margin-left: 80px\">(then </div>\r\n<div style=\"margin-left: 100px\">(once <span style=\"\">(agent_holds ?o)</span> ) </div>\r\n<div style=\"margin-left: 100px\">(hold-while <span style=\"\"> (and <span style=\"\"> (not <span style=\"\">(agent_holds ?o)</span> ) </span> <span style=\"\">(in_motion ?o)</span> <span style=\"\"> (not <span style=\"\">(agent_holds ?d)</span> ) </span> ) </span> <span style=\"\">(touch ?o ?d)</span> ) </div>\r\n<div style=\"margin-left: 100px\">(once <span style=\"\"> (and <span style=\"\"> (not <span style=\"\">(on ?e ?d)</span> ) </span> <span style=\"\"> (not <span style=\"\">(in_motion ?d)</span> ) </span> ) </span> ) </div>\r\n<div style=\"margin-left: 80px\">) </div>\r\n<div style=\"margin-left: 60px\"><span style=\"\">)</span> </div>\r\n<div style=\"margin-left: 40px\">) </div>\r\n<div style=\"margin-left: 40px\">(preference thrownObjectKnocksDeskLamp </div>\r\n<div style=\"margin-left: 60px\"><span style=\"\">(exists</span> <span style=\"\">(<span style=\"\">?o - (either pillow beachball dodgeball)</span> <span style=\"\">?d - desk_lamp</span> <span style=\"\">?e - desk</span>)</span> </div>\r\n<div style=\"margin-left: 80px\">(then </div>\r\n<div style=\"margin-left: 100px\">(once <span style=\"\">(agent_holds ?o)</span> ) </div>\r\n<div style=\"margin-left: 100px\">(hold-while <span style=\"\"> (and <span style=\"\"> (not <span style=\"\">(agent_holds ?o)</span> ) </span> <span style=\"\">(in_motion ?o)</span> <span style=\"\"> (not <span style=\"\">(agent_holds ?d)</span> ) </span> ) </span> <span style=\"\">(touch ?o ?d)</span> ) </div>\r\n<div style=\"margin-left: 100px\">(once <span style=\"\"> (and <span style=\"\"> (not <span style=\"\">(on ?e ?d)</span> ) </span> <span style=\"\"> (not <span style=\"\">(in_motion ?d)</span> ) </span> ) </span> ) </div>\r\n<div style=\"margin-left: 80px\">) </div>\r\n<div style=\"margin-left: 60px\"><span style=\"\">)</span> </div>\r\n<div style=\"margin-left: 40px\">) </div>\r\n<div style=\"margin-left: 40px\">(preference thrownObjectKnocksCD </div>\r\n<div style=\"margin-left: 60px\"><span style=\"\">(exists</span> <span style=\"\">(<span style=\"\">?o - (either pillow beachball dodgeball)</span> <span style=\"\">?c - cd</span> <span style=\"\">?e - desk</span>)</span> </div>\r\n<div style=\"margin-left: 80px\">(then </div>\r\n<div style=\"margin-left: 100px\">(once <span style=\"\">(agent_holds ?o)</span> ) </div>\r\n<div style=\"margin-left: 100px\">(hold-while <span style=\"\"> (and <span style=\"\"> (not <span style=\"\">(agent_holds ?o)</span> ) </span> <span style=\"\">(in_motion ?o)</span> <span style=\"\"> (not <span style=\"\">(agent_holds ?c)</span> ) </span> ) </span> <span style=\"\">(touch ?o ?c)</span> ) </div>\r\n<div style=\"margin-left: 100px\">(once <span style=\"\"> (and <span style=\"\"> (not <span style=\"\">(on ?e ?c)</span> ) </span> <span style=\"\"> (not <span style=\"\">(in_motion ?c)</span> ) </span> ) </span> ) </div>\r\n<div style=\"margin-left: 80px\">) </div>\r\n<div style=\"margin-left: 60px\"><span style=\"\">)</span> </div>\r\n<div style=\"margin-left: 40px\">) </div>\r\n<div style=\"margin-left: 20px\">) </div>\r\n<div style=\"margin-left: 0px\">) </div>\r\n<div style=\"margin-left: 0px\">(:scoring </div>\r\n<div style=\"margin-left: 20px\">maximize </div>\r\n<div style=\"margin-left: 40px\">(+ (* 5 <span style=\"\">(count-nonoverlapping thrownObjectKnocksDesktop)</span> ) </div>\r\n<div style=\"margin-left: 60px\">(* 10 <span style=\"\">(count-nonoverlapping thrownObjectKnocksDeskLamp)</span> ) </div>\r\n<div style=\"color: #1f77b4; margin-left: 60px\">(* <span style=\"color: #1f77b4\">(count-once thrownObjectKnocksDeskLamp)</span> <span style=\"color: #1f77b4\">(count-once-per-objects thrownObjectKnocksDesktop)</span> ) </div>\r\n<div style=\"margin-left: 40px\">) </div>\r\n<div style=\"margin-left: 0px\">) </div>\r\n<div style=\"margin-left: 0px\">) </div>"
     },
     "metadata": {}
    }
   ],
   "source": [
    "visualize(single_step_mutated_asts, 7)"
   ]
  },
  {
   "source": [
    "I think the other substitution method also did something like this -- though it bounced it off the curved ramp, and this bounces it off the hexagonal bin"
   ],
   "cell_type": "markdown",
   "metadata": {}
  },
  {
   "cell_type": "code",
   "execution_count": 131,
   "metadata": {},
   "outputs": [
    {
     "output_type": "stream",
     "name": "stdout",
     "text": [
      "With random seed 121, mutated:\n\n"
     ]
    },
    {
     "output_type": "display_data",
     "data": {
      "text/plain": "<IPython.core.display.Markdown object>",
      "text/markdown": "### Original Description:"
     },
     "metadata": {}
    },
    {
     "output_type": "display_data",
     "data": {
      "text/plain": "<IPython.core.display.Markdown object>",
      "text/markdown": "**Setup:** All that is need for this game is one of the dodgeballs and the wall."
     },
     "metadata": {}
    },
    {
     "output_type": "display_data",
     "data": {
      "text/plain": "<IPython.core.display.Markdown object>",
      "text/markdown": "**Gameplay:** The player can bounce the dodge ball off of the wall and catch it. "
     },
     "metadata": {}
    },
    {
     "output_type": "display_data",
     "data": {
      "text/plain": "<IPython.core.display.Markdown object>",
      "text/markdown": "**Scoring:** Each time the player catches the ball, it's one point. Each time they step back further and the points that can be gained increase by one. "
     },
     "metadata": {}
    },
    {
     "output_type": "display_data",
     "data": {
      "text/plain": "<IPython.core.display.Markdown object>",
      "text/markdown": "----------"
     },
     "metadata": {}
    },
    {
     "output_type": "display_data",
     "data": {
      "text/plain": "<IPython.core.display.Markdown object>",
      "text/markdown": "### Game:"
     },
     "metadata": {}
    },
    {
     "output_type": "display_data",
     "data": {
      "text/plain": "<IPython.core.display.HTML object>",
      "text/html": "<div style=\"margin-left: 0px\">(define (game few-objects-15) (:domain few-objects-room-v1) </div>\r\n<div style=\"margin-left: 0px\">(:setup </div>\r\n<div style=\"margin-left: 20px\">) </div>\r\n<div style=\"margin-left: 0px\">(:constraints </div>\r\n<div style=\"margin-left: 20px\">(and </div>\r\n<div style=\"margin-left: 40px\">(preference throwToWallAndBack </div>\r\n<div style=\"margin-left: 60px\"><span style=\"\">(exists</span> <span style=\"color: #1f77b4\">(<span style=\"\">?d - dodgeball</span> <span style=\"color: #1f77b4\">?w - hexagonal_bin</span>)</span> </div>\r\n<div style=\"margin-left: 80px\">(then </div>\r\n<div style=\"margin-left: 100px\">(once <span style=\"\">(agent_holds ?d)</span> ) </div>\r\n<div style=\"margin-left: 100px\">(hold-while <span style=\"\"> (and <span style=\"\"> (not <span style=\"\">(agent_holds ?d)</span> ) </span> <span style=\"\">(in_motion ?d)</span> ) </span> <span style=\"\">(touch ?d ?w)</span> ) </div>\r\n<div style=\"margin-left: 100px\">(once-measure <span style=\"\">(agent_holds ?d)</span> <span style=\"\">(distance agent ?w)</span> ) </div>\r\n<div style=\"margin-left: 80px\">) </div>\r\n<div style=\"margin-left: 60px\"><span style=\"\">)</span> </div>\r\n<div style=\"margin-left: 40px\">) </div>\r\n<div style=\"margin-left: 20px\">) </div>\r\n<div style=\"margin-left: 0px\">) </div>\r\n<div style=\"margin-left: 0px\">(:scoring </div>\r\n<div style=\"margin-left: 20px\">maximize </div>\r\n<div style=\"margin-left: 40px\"><span style=\"\">(count-increasing-measure throwToWallAndBack)</span> </div>\r\n<div style=\"margin-left: 0px\">) </div>\r\n<div style=\"margin-left: 0px\">) </div>"
     },
     "metadata": {}
    }
   ],
   "source": [
    "visualize(single_step_mutated_asts, 19)"
   ]
  },
  {
   "source": [
    "Throw the cellphone such that it is adjacent to the doggie bed, rather than such that it lands on it. Cute and valid."
   ],
   "cell_type": "markdown",
   "metadata": {}
  },
  {
   "cell_type": "code",
   "execution_count": 132,
   "metadata": {},
   "outputs": [
    {
     "output_type": "stream",
     "name": "stdout",
     "text": [
      "With random seed 123, mutated:\n\n"
     ]
    },
    {
     "output_type": "display_data",
     "data": {
      "text/plain": "<IPython.core.display.Markdown object>",
      "text/markdown": "### Original Description:"
     },
     "metadata": {}
    },
    {
     "output_type": "display_data",
     "data": {
      "text/plain": "<IPython.core.display.Markdown object>",
      "text/markdown": "**Setup:** Textbook, laptop, cellphone and doggie bed. "
     },
     "metadata": {}
    },
    {
     "output_type": "display_data",
     "data": {
      "text/plain": "<IPython.core.display.Markdown object>",
      "text/markdown": "**Gameplay:** The game consists of throwing objects on the doggie bed. You have three objects to throw a textbook, laptop and a cellphone. Landing any of the aforementioned objects on the bed gives you points; 15 points the cellphone, 10 the textbook and 5 the laptop."
     },
     "metadata": {}
    },
    {
     "output_type": "display_data",
     "data": {
      "text/plain": "<IPython.core.display.Markdown object>",
      "text/markdown": "**Scoring:** Landing the cellphone on the bed gives you 15 points, the textbook 10 points and the laptop 5 points."
     },
     "metadata": {}
    },
    {
     "output_type": "display_data",
     "data": {
      "text/plain": "<IPython.core.display.Markdown object>",
      "text/markdown": "----------"
     },
     "metadata": {}
    },
    {
     "output_type": "display_data",
     "data": {
      "text/plain": "<IPython.core.display.Markdown object>",
      "text/markdown": "### Game:"
     },
     "metadata": {}
    },
    {
     "output_type": "display_data",
     "data": {
      "text/plain": "<IPython.core.display.HTML object>",
      "text/html": "<div style=\"margin-left: 0px\">(define (game few-objects-9) (:domain few-objects-room-v1) </div>\r\n<div style=\"margin-left: 0px\">(:setup </div>\r\n<div style=\"margin-left: 20px\">) </div>\r\n<div style=\"margin-left: 0px\">(:constraints </div>\r\n<div style=\"margin-left: 20px\">(and </div>\r\n<div style=\"margin-left: 40px\">(preference cellPhoneThrownOnDoggieBed </div>\r\n<div style=\"margin-left: 60px\"><span style=\"\">(exists</span> <span style=\"\">(<span style=\"\">?d - doggie_bed</span> <span style=\"\">?c - cellphone</span>)</span> </div>\r\n<div style=\"margin-left: 80px\">(then </div>\r\n<div style=\"margin-left: 100px\">(once <span style=\"\">(agent_holds ?c)</span> ) </div>\r\n<div style=\"margin-left: 100px\">(hold <span style=\"\"> (and <span style=\"\"> (not <span style=\"\">(agent_holds ?c)</span> ) </span> <span style=\"\">(in_motion ?c)</span> ) </span> ) </div>\r\n<div style=\"margin-left: 100px\">(once <span style=\"\"> (and <span style=\"color: #1f77b4\">(adjacent ?d ?c)</span> <span style=\"\"> (not <span style=\"\">(in_motion ?c)</span> ) </span> ) </span> ) </div>\r\n<div style=\"margin-left: 80px\">) </div>\r\n<div style=\"margin-left: 60px\"><span style=\"\">)</span> </div>\r\n<div style=\"margin-left: 40px\">) </div>\r\n<div style=\"margin-left: 40px\">(preference textbookThrownOnDoggieBed </div>\r\n<div style=\"margin-left: 60px\"><span style=\"\">(exists</span> <span style=\"\">(<span style=\"\">?d - doggie_bed</span> <span style=\"\">?t - textbook</span>)</span> </div>\r\n<div style=\"margin-left: 80px\">(then </div>\r\n<div style=\"margin-left: 100px\">(once <span style=\"\">(agent_holds ?t)</span> ) </div>\r\n<div style=\"margin-left: 100px\">(hold <span style=\"\"> (and <span style=\"\"> (not <span style=\"\">(agent_holds ?t)</span> ) </span> <span style=\"\">(in_motion ?t)</span> ) </span> ) </div>\r\n<div style=\"margin-left: 100px\">(once <span style=\"\"> (and <span style=\"\">(on ?d ?t)</span> <span style=\"\"> (not <span style=\"\">(in_motion ?t)</span> ) </span> ) </span> ) </div>\r\n<div style=\"margin-left: 80px\">) </div>\r\n<div style=\"margin-left: 60px\"><span style=\"\">)</span> </div>\r\n<div style=\"margin-left: 40px\">) </div>\r\n<div style=\"margin-left: 40px\">(preference laptopThrownOnDoggieBed </div>\r\n<div style=\"margin-left: 60px\"><span style=\"\">(exists</span> <span style=\"\">(<span style=\"\">?d - doggie_bed</span> <span style=\"\">?l - laptop</span>)</span> </div>\r\n<div style=\"margin-left: 80px\">(then </div>\r\n<div style=\"margin-left: 100px\">(once <span style=\"\">(agent_holds ?l)</span> ) </div>\r\n<div style=\"margin-left: 100px\">(hold <span style=\"\"> (and <span style=\"\"> (not <span style=\"\">(agent_holds ?l)</span> ) </span> <span style=\"\">(in_motion ?l)</span> ) </span> ) </div>\r\n<div style=\"margin-left: 100px\">(once <span style=\"\"> (and <span style=\"\">(on ?d ?l)</span> <span style=\"\"> (not <span style=\"\">(in_motion ?d)</span> ) </span> ) </span> ) </div>\r\n<div style=\"margin-left: 80px\">) </div>\r\n<div style=\"margin-left: 60px\"><span style=\"\">)</span> </div>\r\n<div style=\"margin-left: 40px\">) </div>\r\n<div style=\"margin-left: 20px\">) </div>\r\n<div style=\"margin-left: 0px\">) </div>\r\n<div style=\"margin-left: 0px\">(:scoring </div>\r\n<div style=\"margin-left: 20px\">maximize </div>\r\n<div style=\"margin-left: 40px\">(+ (* 15 <span style=\"\">(count-nonoverlapping cellPhoneThrownOnDoggieBed)</span> ) </div>\r\n<div style=\"margin-left: 60px\">(* 10 <span style=\"\">(count-nonoverlapping textbookThrownOnDoggieBed)</span> ) </div>\r\n<div style=\"margin-left: 60px\">(* 5 <span style=\"\">(count-nonoverlapping laptopThrownOnDoggieBed)</span> ) </div>\r\n<div style=\"margin-left: 40px\">) </div>\r\n<div style=\"margin-left: 0px\">) </div>\r\n<div style=\"margin-left: 0px\">) </div>"
     },
     "metadata": {}
    }
   ],
   "source": [
    "visualize(single_step_mutated_asts, 21)"
   ]
  },
  {
   "source": [
    "Originally, that preference asked to to the chair with the pillow. Now it asks that after throwing the pillow, and before the pillow stops moving (or the agent picks it up again), the chair will move. Presumably this could happen because the agent moves it, or the pillow hits it. Totally valid."
   ],
   "cell_type": "markdown",
   "metadata": {}
  },
  {
   "cell_type": "code",
   "execution_count": 133,
   "metadata": {},
   "outputs": [
    {
     "output_type": "stream",
     "name": "stdout",
     "text": [
      "With random seed 126, mutated:\n\n"
     ]
    },
    {
     "output_type": "display_data",
     "data": {
      "text/plain": "<IPython.core.display.Markdown object>",
      "text/markdown": "### Original Description:"
     },
     "metadata": {}
    },
    {
     "output_type": "display_data",
     "data": {
      "text/plain": "<IPython.core.display.Markdown object>",
      "text/markdown": "**Setup:** 2 chairs,pillow,doggie bed, bed"
     },
     "metadata": {}
    },
    {
     "output_type": "display_data",
     "data": {
      "text/plain": "<IPython.core.display.Markdown object>",
      "text/markdown": "**Gameplay:**  you have to hit the 2 chairs with the doggie bed and the pillow while sitting on the bed"
     },
     "metadata": {}
    },
    {
     "output_type": "display_data",
     "data": {
      "text/plain": "<IPython.core.display.Markdown object>",
      "text/markdown": "**Scoring:** 20 score each pillow or doggie bed hit the 2chairs 10 times in a row\n "
     },
     "metadata": {}
    },
    {
     "output_type": "display_data",
     "data": {
      "text/plain": "<IPython.core.display.Markdown object>",
      "text/markdown": "----------"
     },
     "metadata": {}
    },
    {
     "output_type": "display_data",
     "data": {
      "text/plain": "<IPython.core.display.Markdown object>",
      "text/markdown": "### Game:"
     },
     "metadata": {}
    },
    {
     "output_type": "display_data",
     "data": {
      "text/plain": "<IPython.core.display.HTML object>",
      "text/html": "<div style=\"margin-left: 0px\">(define (game few-objects-10) (:domain few-objects-room-v1) </div>\r\n<div style=\"margin-left: 0px\">(:setup </div>\r\n<div style=\"margin-left: 20px\">) </div>\r\n<div style=\"margin-left: 0px\">(:constraints </div>\r\n<div style=\"margin-left: 20px\">(and </div>\r\n<div style=\"margin-left: 40px\">(preference chairHitFromBedWithDoggieBed </div>\r\n<div style=\"margin-left: 60px\"><span style=\"\">(exists</span> <span style=\"\">(<span style=\"\">?b - bed</span> <span style=\"\">?c - chair</span> <span style=\"\">?d - doggie_bed</span>)</span> </div>\r\n<div style=\"margin-left: 80px\">(then </div>\r\n<div style=\"margin-left: 100px\">(once <span style=\"\"> (and <span style=\"\">(agent_holds ?d)</span> <span style=\"\">(on ?b agent)</span> ) </span> ) </div>\r\n<div style=\"margin-left: 100px\">(hold <span style=\"\"> (and <span style=\"\"> (not <span style=\"\">(agent_holds ?d)</span> ) </span> <span style=\"\">(in_motion ?d)</span> ) </span> ) </div>\r\n<div style=\"margin-left: 100px\">(once <span style=\"\">(touch ?d ?c)</span> ) </div>\r\n<div style=\"margin-left: 80px\">) </div>\r\n<div style=\"margin-left: 60px\"><span style=\"\">)</span> </div>\r\n<div style=\"margin-left: 40px\">) </div>\r\n<div style=\"margin-left: 40px\">(preference chairHitFromBedWithPillow </div>\r\n<div style=\"margin-left: 60px\"><span style=\"\">(exists</span> <span style=\"\">(<span style=\"\">?b - bed</span> <span style=\"\">?c - chair</span> <span style=\"\">?p - pillow</span>)</span> </div>\r\n<div style=\"margin-left: 80px\">(then </div>\r\n<div style=\"margin-left: 100px\">(once <span style=\"\"> (and <span style=\"\">(agent_holds ?p)</span> <span style=\"\">(on ?b agent)</span> ) </span> ) </div>\r\n<div style=\"margin-left: 100px\">(hold <span style=\"\"> (and <span style=\"\"> (not <span style=\"\">(agent_holds ?p)</span> ) </span> <span style=\"\">(in_motion ?p)</span> ) </span> ) </div>\r\n<div style=\"margin-left: 100px\">(once <span style=\"color: #1f77b4\">(in_motion ?c)</span> ) </div>\r\n<div style=\"margin-left: 80px\">) </div>\r\n<div style=\"margin-left: 60px\"><span style=\"\">)</span> </div>\r\n<div style=\"margin-left: 40px\">) </div>\r\n<div style=\"margin-left: 20px\">) </div>\r\n<div style=\"margin-left: 0px\">) </div>\r\n<div style=\"margin-left: 0px\">(:scoring </div>\r\n<div style=\"margin-left: 20px\">maximize </div>\r\n<div style=\"margin-left: 40px\">(+ (* 20 <span style=\"\">(count-nonoverlapping chairHitFromBedWithDoggieBed)</span> ) </div>\r\n<div style=\"margin-left: 60px\">(* 20 <span style=\"\">(count-nonoverlapping chairHitFromBedWithPillow)</span> ) </div>\r\n<div style=\"margin-left: 40px\">) </div>\r\n<div style=\"margin-left: 0px\">) </div>\r\n<div style=\"margin-left: 0px\">) </div>"
     },
     "metadata": {}
    }
   ],
   "source": [
    "visualize(single_step_mutated_asts, 24)"
   ]
  },
  {
   "source": [
    "I'm mildly stunned this worked, but it worked -- this is what was there before: `(exists (?b2 - (either cube_block tall_cylindrical_block short_cylindrical_block)) (on ?b1 ?b2))`\n",
    "\n",
    "\n",
    "Now it asks if there's another game object, that is in the building, and `?b1` is on the game object `?o2` -- it basically changes the game from \"build a tower with the blocks\" to \"build a tower, starting from a block, and using any object you want, but you only get points for each block you use\" -- so you could use other objects to stabilize, for example."
   ],
   "cell_type": "markdown",
   "metadata": {}
  },
  {
   "cell_type": "code",
   "execution_count": 134,
   "metadata": {},
   "outputs": [
    {
     "output_type": "stream",
     "name": "stdout",
     "text": [
      "With random seed 145, mutated:\n\n"
     ]
    },
    {
     "output_type": "display_data",
     "data": {
      "text/plain": "<IPython.core.display.Markdown object>",
      "text/markdown": "### Original Description:"
     },
     "metadata": {}
    },
    {
     "output_type": "display_data",
     "data": {
      "text/plain": "<IPython.core.display.Markdown object>",
      "text/markdown": "**Setup:** The 3 cube blocks, 3 tall cylindrical blocks and the 3 short cylindrical blocks should be moved to the center of the room in an area that the player can see the clock. "
     },
     "metadata": {}
    },
    {
     "output_type": "display_data",
     "data": {
      "text/plain": "<IPython.core.display.Markdown object>",
      "text/markdown": "**Gameplay:** In this game, the player can use the clock to keep track of time. Each round, the player has one minute to build a tower using the blocks as tall as they can without it falling over."
     },
     "metadata": {}
    },
    {
     "output_type": "display_data",
     "data": {
      "text/plain": "<IPython.core.display.Markdown object>",
      "text/markdown": "**Scoring:** Each block that is added to the tower before the time runs out and it falls over is one point gained by the player. "
     },
     "metadata": {}
    },
    {
     "output_type": "display_data",
     "data": {
      "text/plain": "<IPython.core.display.Markdown object>",
      "text/markdown": "----------"
     },
     "metadata": {}
    },
    {
     "output_type": "display_data",
     "data": {
      "text/plain": "<IPython.core.display.Markdown object>",
      "text/markdown": "### Game:"
     },
     "metadata": {}
    },
    {
     "output_type": "display_data",
     "data": {
      "text/plain": "<IPython.core.display.HTML object>",
      "text/html": "<div style=\"margin-left: 0px\">(define (game many-objects-15) (:domain many-objects-room-v1) </div>\r\n<div style=\"margin-left: 0px\">(:setup </div>\r\n<div style=\"margin-left: 20px\">(and </div>\r\n<div style=\"margin-left: 40px\"><span style=\"\">(forall</span> <span style=\"\">(<span style=\"\">?b - (either cube_block tall_cylindrical_block short_cylindrical_block)</span> <span style=\"\">?r - room_center</span>)</span> </div>\r\n<div style=\"margin-left: 60px\">(game-optional </div>\r\n<div style=\"margin-left: 80px\">(< <span style=\"\">(distance ?r ?b)</span> 1) </div>\r\n<div style=\"margin-left: 60px\">) </div>\r\n<div style=\"margin-left: 40px\"><span style=\"\">)</span> </div>\r\n<div style=\"margin-left: 20px\">) </div>\r\n<div style=\"margin-left: 0px\">) </div>\r\n<div style=\"margin-left: 0px\">(:constraints </div>\r\n<div style=\"margin-left: 20px\">(and </div>\r\n<div style=\"margin-left: 40px\">(preference blockOnFloor </div>\r\n<div style=\"margin-left: 60px\"><span style=\"\">(exists</span> <span style=\"\">(<span style=\"\">?b - (either cube_block tall_cylindrical_block short_cylindrical_block)</span>)</span> </div>\r\n<div style=\"margin-left: 80px\">(at-end </div>\r\n<div style=\"margin-left: 100px\">(and </div>\r\n<div style=\"margin-left: 120px\"><span style=\"\">(in_building ?b)</span> </div>\r\n<div style=\"margin-left: 120px\"><span style=\"\">(on floor ?b)</span> </div>\r\n<div style=\"margin-left: 100px\">) </div>\r\n<div style=\"margin-left: 80px\">) </div>\r\n<div style=\"margin-left: 60px\"><span style=\"\">)</span> </div>\r\n<div style=\"margin-left: 40px\">) </div>\r\n<div style=\"margin-left: 40px\">(preference blockOnBlock </div>\r\n<div style=\"margin-left: 60px\"><span style=\"\">(exists</span> <span style=\"\">(<span style=\"\">?b1 - (either cube_block tall_cylindrical_block short_cylindrical_block)</span>)</span> </div>\r\n<div style=\"margin-left: 80px\">(at-end </div>\r\n<div style=\"margin-left: 100px\">(and </div>\r\n<div style=\"margin-left: 120px\"><span style=\"\">(in_building ?b1)</span> </div>\r\n<div style=\"margin-left: 120px; color: #1f77b4\"><span style=\"color: #1f77b4\">(exists</span> <span style=\"color: #1f77b4\">(<span style=\"color: #1f77b4\">?o2 - game_object</span>)</span> </div>\r\n<div style=\"margin-left: 140px; color: #1f77b4\">(and </div>\r\n<div style=\"color: #1f77b4; margin-left: 160px\">(not </div>\r\n<div style=\"color: #1f77b4; margin-left: 180px\"><span style=\"color: #1f77b4\">(= ?b1 ?o2)</span> </div>\r\n<div style=\"color: #1f77b4; margin-left: 160px\">) </div>\r\n<div style=\"color: #1f77b4; margin-left: 160px\"><span style=\"color: #1f77b4\">(in_building ?o2)</span> </div>\r\n<div style=\"color: #1f77b4; margin-left: 160px\"><span style=\"color: #1f77b4\">(on ?o2 ?b1)</span> </div>\r\n<div style=\"margin-left: 140px; color: #1f77b4\">) </div>\r\n<div style=\"margin-left: 120px; color: #1f77b4\"><span style=\"color: #1f77b4\">)</span> </div>\r\n<div style=\"margin-left: 100px\">) </div>\r\n<div style=\"margin-left: 80px\">) </div>\r\n<div style=\"margin-left: 60px\"><span style=\"\">)</span> </div>\r\n<div style=\"margin-left: 40px\">) </div>\r\n<div style=\"margin-left: 20px\">) </div>\r\n<div style=\"margin-left: 0px\">) </div>\r\n<div style=\"margin-left: 0px\">(:scoring </div>\r\n<div style=\"margin-left: 20px\">maximize </div>\r\n<div style=\"margin-left: 40px\">(+ <span style=\"\">(count-once blockOnFloor)</span> <span style=\"\">(count-once-per-objects blockOnBlock)</span> ) </div>\r\n<div style=\"margin-left: 0px\">) </div>\r\n<div style=\"margin-left: 0px\">) </div>"
     },
     "metadata": {}
    }
   ],
   "source": [
    "visualize(single_step_mutated_asts, 38)"
   ]
  },
  {
   "source": [],
   "cell_type": "markdown",
   "metadata": {}
  },
  {
   "source": [
    "This change to the setup is mostly coherent (even if one of the terms is repeated, although with the arguments in the other order), but I don't know how much semantic sense it makes. If I were to try to describe it in natural language:\n",
    "\n",
    "\"Place two blocks next to the chair and to each other. One of those blocks should be on another block. Place yet another block next to the block you put on top, and place another block next to the block you just placed. Finally, place the last block on the floor, next to the block you placed other blocks on.\""
   ],
   "cell_type": "markdown",
   "metadata": {}
  },
  {
   "cell_type": "code",
   "execution_count": 135,
   "metadata": {},
   "outputs": [
    {
     "output_type": "stream",
     "name": "stdout",
     "text": [
      "With random seed 146, mutated:\n\n"
     ]
    },
    {
     "output_type": "display_data",
     "data": {
      "text/plain": "<IPython.core.display.Markdown object>",
      "text/markdown": "### Original Description:"
     },
     "metadata": {}
    },
    {
     "output_type": "display_data",
     "data": {
      "text/plain": "<IPython.core.display.Markdown object>",
      "text/markdown": "**Setup:** 6 cube blocks, in the middle of the room\n1 dodgball\n1 chair"
     },
     "metadata": {}
    },
    {
     "output_type": "display_data",
     "data": {
      "text/plain": "<IPython.core.display.Markdown object>",
      "text/markdown": "**Gameplay:** i'd place the 6 cube blocks in the middle of the room, 1 on top of other, in pairs, making 3 collumns, 1 up front and 2 behind it. Then i'd be sitted in 1 chair and would try to strike the 6 cube blocks with 1 dodgeball to make them all be at the same level (all 6 cube blocks on the floor)"
     },
     "metadata": {}
    },
    {
     "output_type": "display_data",
     "data": {
      "text/plain": "<IPython.core.display.Markdown object>",
      "text/markdown": "**Scoring:** Being 3 collumns, there would be 3 top cubes that could be dethroned to the floor; each cube that fell from the top of the collumn would make 1 point"
     },
     "metadata": {}
    },
    {
     "output_type": "display_data",
     "data": {
      "text/plain": "<IPython.core.display.Markdown object>",
      "text/markdown": "----------"
     },
     "metadata": {}
    },
    {
     "output_type": "display_data",
     "data": {
      "text/plain": "<IPython.core.display.Markdown object>",
      "text/markdown": "### Game:"
     },
     "metadata": {}
    },
    {
     "output_type": "display_data",
     "data": {
      "text/plain": "<IPython.core.display.HTML object>",
      "text/html": "<div style=\"margin-left: 0px\">(define (game few-objects-21) (:domain few-objects-room-v1) </div>\r\n<div style=\"margin-left: 0px\">(:setup </div>\r\n<div style=\"margin-left: 20px\">(and </div>\r\n<div style=\"margin-left: 40px\"><span style=\"\">(exists</span> <span style=\"\">(<span style=\"\">?b1 ?b2 ?b3 ?b4 ?b5 ?b6 - cube_block</span> <span style=\"\">?c - chair</span> <span style=\"\">?f - floor</span>)</span> </div>\r\n<div style=\"margin-left: 60px\">(game-optional </div>\r\n<div style=\"color: #1f77b4; margin-left: 80px\">(and </div>\r\n<div style=\"margin-left: 100px; color: #1f77b4\"><span style=\"color: #1f77b4\">(adjacent ?b1 ?b2)</span> </div>\r\n<div style=\"margin-left: 100px; color: #1f77b4\"><span style=\"color: #1f77b4\">(adjacent ?b1 ?c)</span> </div>\r\n<div style=\"margin-left: 100px; color: #1f77b4\"><span style=\"color: #1f77b4\">(adjacent ?b2 ?c)</span> </div>\r\n<div style=\"margin-left: 100px; color: #1f77b4\"><span style=\"color: #1f77b4\">(adjacent ?b3 ?b4)</span> </div>\r\n<div style=\"margin-left: 100px; color: #1f77b4\"><span style=\"color: #1f77b4\">(adjacent ?b3 ?b1)</span> </div>\r\n<div style=\"margin-left: 100px; color: #1f77b4\"><span style=\"color: #1f77b4\">(adjacent ?b4 ?b3)</span> </div>\r\n<div style=\"margin-left: 100px; color: #1f77b4\"><span style=\"color: #1f77b4\">(adjacent ?b5 ?b6)</span> </div>\r\n<div style=\"margin-left: 100px; color: #1f77b4\"><span style=\"color: #1f77b4\">(on ?b5 ?f)</span> </div>\r\n<div style=\"margin-left: 100px; color: #1f77b4\"><span style=\"color: #1f77b4\">(on ?b6 ?b1)</span> </div>\r\n<div style=\"color: #1f77b4; margin-left: 80px\">) </div>\r\n<div style=\"margin-left: 60px\">) </div>\r\n<div style=\"margin-left: 40px\"><span style=\"\">)</span> </div>\r\n<div style=\"margin-left: 20px\">) </div>\r\n<div style=\"margin-left: 0px\">) </div>\r\n<div style=\"margin-left: 0px\">(:constraints </div>\r\n<div style=\"margin-left: 20px\">(and </div>\r\n<div style=\"margin-left: 40px\">(preference blockKnockedFromBlock </div>\r\n<div style=\"margin-left: 60px\"><span style=\"\">(exists</span> <span style=\"\">(<span style=\"\">?d - dodgeball</span> <span style=\"\">?b1 ?b2 - cube_block</span> <span style=\"\">?c - chair</span> <span style=\"\">?f - floor</span>)</span> </div>\r\n<div style=\"margin-left: 80px\">(then </div>\r\n<div style=\"margin-left: 100px\">(once <span style=\"\"> (and <span style=\"\">(agent_holds ?d)</span> <span style=\"\">(on ?c agent)</span> <span style=\"\">(on ?f ?b1)</span> <span style=\"\">(on ?b1 ?b2)</span> ) </span> ) </div>\r\n<div style=\"margin-left: 100px\">(hold <span style=\"\"> (and <span style=\"\"> (not <span style=\"\">(agent_holds ?d)</span> ) </span> <span style=\"\">(in_motion ?d)</span> <span style=\"\"> (not <span style=\"\">(touch agent ?b1)</span> ) </span> <span style=\"\"> (not <span style=\"\">(touch agent ?b2)</span> ) </span> ) </span> ) </div>\r\n<div style=\"margin-left: 100px\">(once <span style=\"\"> (and <span style=\"\">(on ?f ?b1)</span> <span style=\"\">(on ?f ?b2)</span> ) </span> ) </div>\r\n<div style=\"margin-left: 80px\">) </div>\r\n<div style=\"margin-left: 60px\"><span style=\"\">)</span> </div>\r\n<div style=\"margin-left: 40px\">) </div>\r\n<div style=\"margin-left: 20px\">) </div>\r\n<div style=\"margin-left: 0px\">) </div>\r\n<div style=\"margin-left: 0px\">(:scoring </div>\r\n<div style=\"margin-left: 20px\">maximize </div>\r\n<div style=\"margin-left: 40px\"><span style=\"\">(count-once-per-objects blockKnockedFromBlock)</span> </div>\r\n<div style=\"margin-left: 0px\">) </div>\r\n<div style=\"margin-left: 0px\">) </div>"
     },
     "metadata": {}
    }
   ],
   "source": [
    "visualize(single_step_mutated_asts, 39)"
   ]
  },
  {
   "source": [
    "Slightly changed how the preference is specified -- previously it was `(hold (and (not (agent_holds ?d)) (in_motion ?d))) `, that is, the agent doesn't touch the ball while it's in motion, and now it specifies that the block can't move while the ball is in motion, until they touch. \n",
    "\n",
    "In other words, previously you could move the block to make the moving ball touch it, and now you can make contact with the ball (while not stopping its motion) but not the block."
   ],
   "cell_type": "markdown",
   "metadata": {}
  },
  {
   "cell_type": "code",
   "execution_count": 136,
   "metadata": {},
   "outputs": [
    {
     "output_type": "stream",
     "name": "stdout",
     "text": [
      "With random seed 147, mutated:\n\n"
     ]
    },
    {
     "output_type": "display_data",
     "data": {
      "text/plain": "<IPython.core.display.Markdown object>",
      "text/markdown": "### Original Description:"
     },
     "metadata": {}
    },
    {
     "output_type": "display_data",
     "data": {
      "text/plain": "<IPython.core.display.Markdown object>",
      "text/markdown": "**Setup:** The 6 cube blocks will have to be placed in different places all around the room(ex. inside hexagonal bin, in front of curved wooden ramp, one on top and one on bottom selves that are located above the hexagonal bin, to the corner of the room at the right side of the desk and on top on the chair that is located at the left of the desk) Finally, the player will use the 2 dodgeballs to play the game so he should retrieve them from the self."
     },
     "metadata": {}
    },
    {
     "output_type": "display_data",
     "data": {
      "text/plain": "<IPython.core.display.Markdown object>",
      "text/markdown": "**Gameplay:** The player will sit on the bed with the 2 dodgeballs and his cellphone. He will then set a 60 second countdown on his cellphone. Once the countdown begins, the player will attempt to hit the 6 cube blocks by throwing the 2 dodge balls. If the dodge ball makes contact with the cube, then the player can get up from the bed to retrieve the dodgeball. The player can only throw the dodgeball if he is sitting on the bed. The player is also not allowed to move the cube blocks by hand (if a cube block falls from the self for example, it shall stay there for the rest of the game). The games ends once the countdown is finished. The player earns score points by hitting the cube blocks with the 2 dodgeballs."
     },
     "metadata": {}
    },
    {
     "output_type": "display_data",
     "data": {
      "text/plain": "<IPython.core.display.Markdown object>",
      "text/markdown": "**Scoring:** If the thrown dodgeball simply touches the cube block, then the player earns 5 points.\nIf the cube block flips or move a long distance when hit by the dodge ball, then the player earns 10 points.\nOnly the first time that a cube block gets hit counts towards the score."
     },
     "metadata": {}
    },
    {
     "output_type": "display_data",
     "data": {
      "text/plain": "<IPython.core.display.Markdown object>",
      "text/markdown": "----------"
     },
     "metadata": {}
    },
    {
     "output_type": "display_data",
     "data": {
      "text/plain": "<IPython.core.display.Markdown object>",
      "text/markdown": "### Game:"
     },
     "metadata": {}
    },
    {
     "output_type": "display_data",
     "data": {
      "text/plain": "<IPython.core.display.HTML object>",
      "text/html": "<div style=\"margin-left: 0px\">(define (game few-objects-24) (:domain few-objects-room-v1) </div>\r\n<div style=\"margin-left: 0px\">(:setup </div>\r\n<div style=\"margin-left: 20px\"><span style=\"\">(forall</span> <span style=\"\">(<span style=\"\">?b - cube_block</span>)</span> </div>\r\n<div style=\"margin-left: 40px\">(not </div>\r\n<div style=\"margin-left: 60px\"><span style=\"\">(exists</span> <span style=\"\">(<span style=\"\">?b2 - cube_block</span>)</span> </div>\r\n<div style=\"margin-left: 80px\">(game-optional </div>\r\n<div style=\"margin-left: 100px\">(and </div>\r\n<div style=\"margin-left: 120px\">(not </div>\r\n<div style=\"margin-left: 140px\"><span style=\"\">(= ?b ?b2)</span> </div>\r\n<div style=\"margin-left: 120px\">) </div>\r\n<div style=\"margin-left: 120px\">(< <span style=\"\">(distance ?b ?b2)</span> 1) </div>\r\n<div style=\"margin-left: 100px\">) </div>\r\n<div style=\"margin-left: 80px\">) </div>\r\n<div style=\"margin-left: 60px\"><span style=\"\">)</span> </div>\r\n<div style=\"margin-left: 40px\">) </div>\r\n<div style=\"margin-left: 20px\"><span style=\"\">)</span> </div>\r\n<div style=\"margin-left: 0px\">) </div>\r\n<div style=\"margin-left: 0px\">(:constraints </div>\r\n<div style=\"margin-left: 20px\">(and </div>\r\n<div style=\"margin-left: 40px\">(preference throwHitsBlock </div>\r\n<div style=\"margin-left: 60px\"><span style=\"\">(exists</span> <span style=\"\">(<span style=\"\">?d - dodgeball</span> <span style=\"\">?b - cube_block</span>)</span> </div>\r\n<div style=\"margin-left: 80px\">(then </div>\r\n<div style=\"margin-left: 100px\">(once <span style=\"\">(agent_holds ?d)</span> ) </div>\r\n<div style=\"margin-left: 100px\">(hold <span style=\"\"> (and <span style=\"\"> (not <span style=\"color: #1f77b4\">(in_motion ?b)</span> ) </span> <span style=\"\">(in_motion ?d)</span> ) </span> ) </div>\r\n<div style=\"margin-left: 100px\">(once <span style=\"\">(touch ?d ?b)</span> ) </div>\r\n<div style=\"margin-left: 80px\">) </div>\r\n<div style=\"margin-left: 60px\"><span style=\"\">)</span> </div>\r\n<div style=\"margin-left: 40px\">) </div>\r\n<div style=\"margin-left: 40px\">(preference throwHitsBlockAndFlips </div>\r\n<div style=\"margin-left: 60px\"><span style=\"\">(exists</span> <span style=\"\">(<span style=\"\">?d - dodgeball</span> <span style=\"\">?b - cube_block</span>)</span> </div>\r\n<div style=\"margin-left: 80px\">(then </div>\r\n<div style=\"margin-left: 100px\">(once <span style=\"\">(agent_holds ?d)</span> ) </div>\r\n<div style=\"margin-left: 100px\">(hold-while <span style=\"\">(not <span style=\"\">(agent_holds ?d)</span> <span style=\"\">(not <span style=\"\">(agent_holds ?b)</span>)</span>)</span> <span style=\"\">(touch ?d ?b)</span> <span style=\"\"> (not <span style=\"\">(object_orientation ?b face)</span> ) </span> ) </div>\r\n<div style=\"margin-left: 80px\">) </div>\r\n<div style=\"margin-left: 60px\"><span style=\"\">)</span> </div>\r\n<div style=\"margin-left: 40px\">) </div>\r\n<div style=\"margin-left: 20px\">) </div>\r\n<div style=\"margin-left: 0px\">) </div>\r\n<div style=\"margin-left: 0px\">(:scoring </div>\r\n<div style=\"margin-left: 20px\">maximize </div>\r\n<div style=\"margin-left: 40px\">(+ (* 5 <span style=\"\">(count-once-per-objects throwHitsBlock)</span> ) </div>\r\n<div style=\"margin-left: 60px\">(* 10 <span style=\"\">(count-once-per-objects throwHitsBlockAndFlips)</span> ) </div>\r\n<div style=\"margin-left: 40px\">) </div>\r\n<div style=\"margin-left: 0px\">) </div>\r\n<div style=\"margin-left: 0px\">) </div>"
     },
     "metadata": {}
    }
   ],
   "source": [
    "visualize(single_step_mutated_asts, 40)"
   ]
  },
  {
   "source": [
    "Changed from a \"throw after dribbling game\" to simpler \"throw in the bin\" game."
   ],
   "cell_type": "markdown",
   "metadata": {}
  },
  {
   "cell_type": "code",
   "execution_count": 137,
   "metadata": {},
   "outputs": [
    {
     "output_type": "stream",
     "name": "stdout",
     "text": [
      "With random seed 150, mutated:\n\n"
     ]
    },
    {
     "output_type": "display_data",
     "data": {
      "text/plain": "<IPython.core.display.Markdown object>",
      "text/markdown": "### Original Description:"
     },
     "metadata": {}
    },
    {
     "output_type": "display_data",
     "data": {
      "text/plain": "<IPython.core.display.Markdown object>",
      "text/markdown": "**Setup:** alarm clock, basketball, hexagonal bin\n2 cube blocks, 2 short cylindrical blocks, placed in a square, about 2m in distance between every one of this 4 blocks\nbasketball to drible"
     },
     "metadata": {}
    },
    {
     "output_type": "display_data",
     "data": {
      "text/plain": "<IPython.core.display.Markdown object>",
      "text/markdown": "**Gameplay:** I'd place 2 cube blocks and 2 short cylindrical blocks in a square, about 2m in distance between every one of this 4 blocks, in the middle of the room. I'd put the hexagonal bin slightly further from the wall that has the empty shelves. Then, i'd use the clock to time 2 minutes that the game would last. I'd drible with the basketball around each of the 4 blocks used and shoot the basketball to the hexagonal bin as many times I could during the 2 minutes."
     },
     "metadata": {}
    },
    {
     "output_type": "display_data",
     "data": {
      "text/plain": "<IPython.core.display.Markdown object>",
      "text/markdown": "**Scoring:** Each shot getting in the hexagonal bin would count as 1 point"
     },
     "metadata": {}
    },
    {
     "output_type": "display_data",
     "data": {
      "text/plain": "<IPython.core.display.Markdown object>",
      "text/markdown": "----------"
     },
     "metadata": {}
    },
    {
     "output_type": "display_data",
     "data": {
      "text/plain": "<IPython.core.display.Markdown object>",
      "text/markdown": "### Game:"
     },
     "metadata": {}
    },
    {
     "output_type": "display_data",
     "data": {
      "text/plain": "<IPython.core.display.HTML object>",
      "text/html": "<div style=\"margin-left: 0px\">(define (game medium-objects-21) (:domain medium-objects-room-v1) </div>\r\n<div style=\"margin-left: 0px\">(:setup </div>\r\n<div style=\"margin-left: 20px\"><span style=\"\">(exists</span> <span style=\"\">(<span style=\"\">?b1 ?b2 - cube_block</span> <span style=\"\">?c1 ?c2 - short_cylindrical_block</span> <span style=\"\">?h - hexagonal_bin</span> <span style=\"\">?w - south_wall</span>)</span> </div>\r\n<div style=\"margin-left: 40px\">(game-conserved </div>\r\n<div style=\"margin-left: 60px\">(and </div>\r\n<div style=\"margin-left: 80px\">(= 2 <span style=\"\">(distance ?b1 ?b2)</span>) </div>\r\n<div style=\"margin-left: 80px\">(= 2 <span style=\"\">(distance ?c1 ?c2)</span>) </div>\r\n<div style=\"margin-left: 80px\">(= 2 <span style=\"\">(distance ?b1 ?c1)</span>) </div>\r\n<div style=\"margin-left: 80px\">(= 2 <span style=\"\">(distance ?b2 ?c2)</span>) </div>\r\n<div style=\"margin-left: 80px\">(= 0.5 <span style=\"\">(distance ?h ?w)</span>) </div>\r\n<div style=\"margin-left: 60px\">) </div>\r\n<div style=\"margin-left: 40px\">) </div>\r\n<div style=\"margin-left: 20px\"><span style=\"\">)</span> </div>\r\n<div style=\"margin-left: 0px\">) </div>\r\n<div style=\"margin-left: 0px\">(:constraints </div>\r\n<div style=\"margin-left: 20px\">(and </div>\r\n<div style=\"margin-left: 40px\">(preference throwBasketballToBinAfterDribbling </div>\r\n<div style=\"margin-left: 60px\"><span style=\"\">(exists</span> <span style=\"\">(<span style=\"\">?b - basketball</span> <span style=\"\">?h - hexagonal_bin</span>)</span> </div>\r\n<div style=\"color: #1f77b4; margin-left: 80px\">(then </div>\r\n<div style=\"margin-left: 100px; color: #1f77b4\">(once <span style=\"color: #1f77b4\">(agent_holds ?b)</span> ) </div>\r\n<div style=\"margin-left: 100px; color: #1f77b4\">(hold <span style=\"color: #1f77b4\"> (and <span style=\"color: #1f77b4\"> (not <span style=\"color: #1f77b4\">(agent_holds ?b)</span> ) </span> <span style=\"color: #1f77b4\">(in_motion ?b)</span> ) </span> ) </div>\r\n<div style=\"margin-left: 100px; color: #1f77b4\">(once <span style=\"color: #1f77b4\"> (and <span style=\"color: #1f77b4\">(on ?h ?b)</span> <span style=\"color: #1f77b4\"> (not <span style=\"color: #1f77b4\">(in_motion ?b)</span> ) </span> ) </span> ) </div>\r\n<div style=\"color: #1f77b4; margin-left: 80px\">) </div>\r\n<div style=\"margin-left: 60px\"><span style=\"color: #1f77b4\">)</span> </div>\r\n<div style=\"margin-left: 40px\">) </div>\r\n<div style=\"margin-left: 20px\">) </div>\r\n<div style=\"margin-left: 0px\">) </div>\r\n<div style=\"margin-left: 0px\">(:terminal </div>\r\n<div style=\"margin-left: 20px\">(>= (total-time) 120 ) </div>\r\n<div style=\"margin-left: 0px\">) </div>\r\n<div style=\"margin-left: 0px\">(:scoring </div>\r\n<div style=\"margin-left: 20px\">maximize </div>\r\n<div style=\"margin-left: 40px\"><span style=\"\">(count-nonoverlapping throwBasketballToBinAfterDribbling)</span> </div>\r\n<div style=\"margin-left: 0px\">) </div>\r\n<div style=\"margin-left: 0px\">) </div>"
     },
     "metadata": {}
    }
   ],
   "source": [
    "visualize(single_step_mutated_asts, 42)"
   ]
  },
  {
   "source": [
    "Originally that predicate was a much more complicated one to count an object landing on the chair, or on another object on the chair: \n",
    "```\n",
    "(or \n",
    "    (on ?c ?o)\n",
    "    (exists (?o2 - game_object) (and \n",
    "        (not (= ?o ?o2))\n",
    "        (in_building ?o2)\n",
    "        (on ?o2 ?o)\n",
    "    ))\n",
    ")\n",
    "```\n",
    "Now, it counts simpler occurences -- either the chair ending up on object, which is a little nonsensical, or an object touching the chair, which makes more sense."
   ],
   "cell_type": "markdown",
   "metadata": {}
  },
  {
   "cell_type": "code",
   "execution_count": 138,
   "metadata": {},
   "outputs": [
    {
     "output_type": "stream",
     "name": "stdout",
     "text": [
      "With random seed 168, mutated:\n\n"
     ]
    },
    {
     "output_type": "display_data",
     "data": {
      "text/plain": "<IPython.core.display.Markdown object>",
      "text/markdown": "### Original Description:"
     },
     "metadata": {}
    },
    {
     "output_type": "display_data",
     "data": {
      "text/plain": "<IPython.core.display.Markdown object>",
      "text/markdown": "**Setup:** One of the chairs has to be still in the same spot rotating."
     },
     "metadata": {}
    },
    {
     "output_type": "display_data",
     "data": {
      "text/plain": "<IPython.core.display.Markdown object>",
      "text/markdown": "**Gameplay:** The game uses the chair rotating as it was prepared you will have to throw items into the rotating in the chair forming a stack of items. it ends when an item falls from the chair."
     },
     "metadata": {}
    },
    {
     "output_type": "display_data",
     "data": {
      "text/plain": "<IPython.core.display.Markdown object>",
      "text/markdown": "**Scoring:** 10 points per item and 10 points per 5 centimeters."
     },
     "metadata": {}
    },
    {
     "output_type": "display_data",
     "data": {
      "text/plain": "<IPython.core.display.Markdown object>",
      "text/markdown": "----------"
     },
     "metadata": {}
    },
    {
     "output_type": "display_data",
     "data": {
      "text/plain": "<IPython.core.display.Markdown object>",
      "text/markdown": "### Game:"
     },
     "metadata": {}
    },
    {
     "output_type": "display_data",
     "data": {
      "text/plain": "<IPython.core.display.HTML object>",
      "text/html": "<div style=\"margin-left: 0px\">(define (game few-objects-18) (:domain few-objects-room-v1) </div>\r\n<div style=\"margin-left: 0px\">(:setup </div>\r\n<div style=\"margin-left: 20px\">) </div>\r\n<div style=\"margin-left: 0px\">(:constraints </div>\r\n<div style=\"margin-left: 20px\">(and </div>\r\n<div style=\"margin-left: 40px\">(preference objectLandsOnRotatingChair </div>\r\n<div style=\"margin-left: 60px\"><span style=\"\">(exists</span> <span style=\"\">(<span style=\"\">?o - game_object</span> <span style=\"\">?c - chair</span>)</span> </div>\r\n<div style=\"margin-left: 80px\">(then </div>\r\n<div style=\"margin-left: 100px\">(once <span style=\"\"> (and <span style=\"\">(agent_holds ?o)</span> <span style=\"\">(is_rotating ?c)</span> ) </span> ) </div>\r\n<div style=\"margin-left: 100px\">(hold <span style=\"\"> (and <span style=\"\"> (not <span style=\"\">(agent_holds ?o)</span> ) </span> <span style=\"\">(in_motion ?o)</span> <span style=\"\">(is_rotating ?c)</span> ) </span> ) </div>\r\n<div style=\"margin-left: 100px\">(once <span style=\"\"> (and <span style=\"\">(is_rotating ?c)</span> <span style=\"\"> (not <span style=\"\">(in_motion ?o)</span> ) </span> <span style=\"color: #1f77b4\"> (or <span style=\"color: #1f77b4\">(on ?o ?c)</span> <span style=\"color: #1f77b4\">(touch ?c ?o)</span> ) </span> ) </span> ) </div>\r\n<div style=\"margin-left: 80px\">) </div>\r\n<div style=\"margin-left: 60px\"><span style=\"\">)</span> </div>\r\n<div style=\"margin-left: 40px\">) </div>\r\n<div style=\"margin-left: 40px\">(preference chairStoppedRotating </div>\r\n<div style=\"margin-left: 60px\"><span style=\"\">(exists</span> <span style=\"\">(<span style=\"\">?c - chair</span>)</span> </div>\r\n<div style=\"margin-left: 80px\">(then </div>\r\n<div style=\"margin-left: 100px\">(once <span style=\"\"> (not <span style=\"\">(is_rotating ?c)</span> ) </span> ) </div>\r\n<div style=\"margin-left: 100px\">(hold <span style=\"\">(is_rotating ?c)</span> ) </div>\r\n<div style=\"margin-left: 100px\">(once <span style=\"\"> (not <span style=\"\">(is_rotating ?c)</span> ) </span> ) </div>\r\n<div style=\"margin-left: 80px\">) </div>\r\n<div style=\"margin-left: 60px\"><span style=\"\">)</span> </div>\r\n<div style=\"margin-left: 40px\">) </div>\r\n<div style=\"margin-left: 20px\">) </div>\r\n<div style=\"margin-left: 0px\">) </div>\r\n<div style=\"margin-left: 0px\">(:terminal </div>\r\n<div style=\"margin-left: 20px\">(> <span style=\"\">(count-once chairStoppedRotating)</span> 0 ) </div>\r\n<div style=\"margin-left: 0px\">) </div>\r\n<div style=\"margin-left: 0px\">(:scoring </div>\r\n<div style=\"margin-left: 20px\">maximize </div>\r\n<div style=\"margin-left: 40px\">(* 10 <span style=\"\">(count-once-per-objects objectLandsOnRotatingChair)</span> ) </div>\r\n<div style=\"margin-left: 0px\">) </div>\r\n<div style=\"margin-left: 0px\">) </div>"
     },
     "metadata": {}
    }
   ],
   "source": [
    "visualize(single_step_mutated_asts, 56)"
   ]
  },
  {
   "source": [
    "Changed from the agent dribbling around a cube block, to the agent dribbling around those items quantified."
   ],
   "cell_type": "markdown",
   "metadata": {}
  },
  {
   "cell_type": "code",
   "execution_count": 139,
   "metadata": {},
   "outputs": [
    {
     "output_type": "stream",
     "name": "stdout",
     "text": [
      "With random seed 174, mutated:\n\n"
     ]
    },
    {
     "output_type": "display_data",
     "data": {
      "text/plain": "<IPython.core.display.Markdown object>",
      "text/markdown": "### Original Description:"
     },
     "metadata": {}
    },
    {
     "output_type": "display_data",
     "data": {
      "text/plain": "<IPython.core.display.Markdown object>",
      "text/markdown": "**Setup:** 2 dodgeballs, hexagonal bin, 2 chairs "
     },
     "metadata": {}
    },
    {
     "output_type": "display_data",
     "data": {
      "text/plain": "<IPython.core.display.Markdown object>",
      "text/markdown": "**Gameplay:** \ninsert the dodgeballs into the hexagonal bin, and then use the chair to move and make more dificult to insert the balls."
     },
     "metadata": {}
    },
    {
     "output_type": "display_data",
     "data": {
      "text/plain": "<IPython.core.display.Markdown object>",
      "text/markdown": "**Scoring:** each basket is worth 2 points"
     },
     "metadata": {}
    },
    {
     "output_type": "display_data",
     "data": {
      "text/plain": "<IPython.core.display.Markdown object>",
      "text/markdown": "----------"
     },
     "metadata": {}
    },
    {
     "output_type": "display_data",
     "data": {
      "text/plain": "<IPython.core.display.Markdown object>",
      "text/markdown": "### Game:"
     },
     "metadata": {}
    },
    {
     "output_type": "display_data",
     "data": {
      "text/plain": "<IPython.core.display.HTML object>",
      "text/html": "<div style=\"margin-left: 0px\">(define (game few-objects-2) (:domain few-objects-room-v1) </div>\r\n<div style=\"margin-left: 0px\">(:setup </div>\r\n<div style=\"margin-left: 20px\"><span style=\"\">(exists</span> <span style=\"\">(<span style=\"\">?h - hexagonal_bin</span> <span style=\"\">?c - chair</span>)</span> </div>\r\n<div style=\"margin-left: 40px\">(game-conserved </div>\r\n<div style=\"margin-left: 60px\">(< <span style=\"\">(distance ?h ?c)</span> 1) </div>\r\n<div style=\"margin-left: 40px\">) </div>\r\n<div style=\"margin-left: 20px\"><span style=\"\">)</span> </div>\r\n<div style=\"margin-left: 0px\">) </div>\r\n<div style=\"margin-left: 0px\">(:constraints </div>\r\n<div style=\"margin-left: 20px\">(and </div>\r\n<div style=\"margin-left: 40px\">(preference basketWithChairInTheWay </div>\r\n<div style=\"margin-left: 60px\"><span style=\"\">(exists</span> <span style=\"\">(<span style=\"\">?c - chair</span> <span style=\"\">?h - hexagonal_bin</span> <span style=\"\">?d - dodgeball</span>)</span> </div>\r\n<div style=\"margin-left: 80px\">(then </div>\r\n<div style=\"margin-left: 100px\">(once <span style=\"\">(agent_holds ?d)</span> ) </div>\r\n<div style=\"margin-left: 100px\">(hold <span style=\"\">(between agent ?c ?h)</span> ) </div>\r\n<div style=\"margin-left: 100px\">(once <span style=\"\"> (and <span style=\"\">(on ?h ?d)</span> <span style=\"\"> (not <span style=\"\">(agent_holds ?d)</span> ) </span> ) </span> ) </div>\r\n<div style=\"margin-left: 80px\">) </div>\r\n<div style=\"margin-left: 60px\"><span style=\"\">)</span> </div>\r\n<div style=\"margin-left: 40px\">) </div>\r\n<div style=\"margin-left: 40px\">(preference basketMade </div>\r\n<div style=\"margin-left: 60px\"><span style=\"\">(exists</span> <span style=\"\">(<span style=\"color: #1f77b4\">?b - (either triangular_block cube_block)</span> <span style=\"\">?d - dodgeball</span>)</span> </div>\r\n<div style=\"margin-left: 80px\">(then </div>\r\n<div style=\"margin-left: 100px\">(once <span style=\"\">(agent_holds ?d)</span> ) </div>\r\n<div style=\"margin-left: 100px\">(any) </div>\r\n<div style=\"margin-left: 100px\">(once <span style=\"\"> (and <span style=\"\">(on ?b ?d)</span> <span style=\"\"> (not <span style=\"\">(agent_holds ?d)</span> ) </span> ) </span> ) </div>\r\n<div style=\"margin-left: 80px\">) </div>\r\n<div style=\"margin-left: 60px\"><span style=\"\">)</span> </div>\r\n<div style=\"margin-left: 40px\">) </div>\r\n<div style=\"margin-left: 20px\">) </div>\r\n<div style=\"margin-left: 0px\">) </div>\r\n<div style=\"margin-left: 0px\">(:scoring </div>\r\n<div style=\"margin-left: 20px\">maximize </div>\r\n<div style=\"margin-left: 40px\">(+ (* 2 <span style=\"\">(count-nonoverlapping basketWithChairInTheWay)</span> ) </div>\r\n<div style=\"margin-left: 60px\">(* 1 <span style=\"\">(count-nonoverlapping basketWithChairInTheWay)</span> ) </div>\r\n<div style=\"margin-left: 40px\">) </div>\r\n<div style=\"margin-left: 0px\">) </div>\r\n<div style=\"margin-left: 0px\">) </div>"
     },
     "metadata": {}
    }
   ],
   "source": [
    "visualize(single_step_mutated_asts, 62)"
   ]
  },
  {
   "source": [
    "# Second mutation of interesting games"
   ],
   "cell_type": "markdown",
   "metadata": {}
  },
  {
   "cell_type": "code",
   "execution_count": 140,
   "metadata": {},
   "outputs": [
    {
     "output_type": "display_data",
     "data": {
      "text/plain": "HBox(children=(FloatProgress(value=0.0, max=12.0), HTML(value='')))",
      "application/vnd.jupyter.widget-view+json": {
       "version_major": 2,
       "version_minor": 0,
       "model_id": "a5695056447c4f34a9a0aad5f760924d"
      }
     },
     "metadata": {}
    },
    {
     "output_type": "stream",
     "name": "stdout",
     "text": [
      "\n"
     ]
    }
   ],
   "source": [
    "INDICES_TO_MUTATE = (3, 6, 7, 19, 21, 24, 38, 39, 40, 42, 56, 62,)\n",
    "NUM_MUTATIONS_TO_GENERATE = 10\n",
    "MAX_GENERATION_ATTEMPTS = 100\n",
    "\n",
    "second_step_mutations_dict = defaultdict(list)\n",
    "\n",
    "validators = [ASTVariableValidator(), ASTScoringPreferenceValidator()]\n",
    "sampler = ASTRegrowthSampler(grammar_parser, asts, mutation_prob=0.5, validators=validators)\n",
    "\n",
    "for idx in tqdm(INDICES_TO_MUTATE):\n",
    "    src_ast = single_step_mutated_asts[idx][0]\n",
    "    seed = -1\n",
    "    while seed < MAX_GENERATION_ATTEMPTS and len(second_step_mutations_dict[idx]) < NUM_MUTATIONS_TO_GENERATE:\n",
    "        seed += 1\n",
    "        random.seed(seed)\n",
    "        try:\n",
    "            src_ast_copy = copy_ast(grammar_parser, src_ast)\n",
    "            copy_mutation_tags(src_ast, src_ast_copy)\n",
    "            mutated_ast = sampler.sample_single_step(src_ast_copy, n_mutations=1)\n",
    "        except:\n",
    "            continue\n",
    "        second_step_mutations_dict[idx].append((mutated_ast, seed))\n",
    "        \n",
    "\n",
    "\n"
   ]
  },
  {
   "source": [
    "# Visualizing choice second mutations\n",
    "The second mutation will be in orange"
   ],
   "cell_type": "markdown",
   "metadata": {}
  },
  {
   "source": [
    "**Original note**: Changed the setup slightly -- before it was `(game-conserved (= (distance ?b ?r) 2))`, that is, the ramp is 2 meters from the bed, and now it's that the ramp is on the bed. This works.\n",
    "\n",
    "**Second mutation**: changed from landing the ball in/on the hexagonal bin, to landing the dodgeball on the golfball, which is rather difficult (if not impossible), but still valid"
   ],
   "cell_type": "markdown",
   "metadata": {}
  },
  {
   "cell_type": "code",
   "execution_count": 141,
   "metadata": {},
   "outputs": [
    {
     "output_type": "stream",
     "name": "stdout",
     "text": [
      "With random seed 4, mutated:\n\n"
     ]
    },
    {
     "output_type": "display_data",
     "data": {
      "text/plain": "<IPython.core.display.Markdown object>",
      "text/markdown": "### Original Description:"
     },
     "metadata": {}
    },
    {
     "output_type": "display_data",
     "data": {
      "text/plain": "<IPython.core.display.Markdown object>",
      "text/markdown": "**Setup:** bed\nhexagonal bin on the bed\ncurved wooden ramp about 2m to the bed\n3 dodgballs"
     },
     "metadata": {}
    },
    {
     "output_type": "display_data",
     "data": {
      "text/plain": "<IPython.core.display.Markdown object>",
      "text/markdown": "**Gameplay:** On the bed i'd place the hexagonal bin. About 2m of the bed i'd place the curved wooden ramp. Then, close to the wall of the opposite side of the bed i'd throw 1 dodge ball at a time through the curved wooden ramp trying to place the dodgball in the hexagonal bin"
     },
     "metadata": {}
    },
    {
     "output_type": "display_data",
     "data": {
      "text/plain": "<IPython.core.display.Markdown object>",
      "text/markdown": "**Scoring:** for each dodgeball place inside the bin i'd get 1 point"
     },
     "metadata": {}
    },
    {
     "output_type": "display_data",
     "data": {
      "text/plain": "<IPython.core.display.Markdown object>",
      "text/markdown": "----------"
     },
     "metadata": {}
    },
    {
     "output_type": "display_data",
     "data": {
      "text/plain": "<IPython.core.display.Markdown object>",
      "text/markdown": "### Game:"
     },
     "metadata": {}
    },
    {
     "output_type": "display_data",
     "data": {
      "text/plain": "<IPython.core.display.HTML object>",
      "text/html": "<div style=\"margin-left: 0px\">(define (game many-objects-21) (:domain many-objects-room-v1) </div>\r\n<div style=\"margin-left: 0px\">(:setup </div>\r\n<div style=\"margin-left: 20px\">(and </div>\r\n<div style=\"margin-left: 40px\"><span style=\"\">(exists</span> <span style=\"\">(<span style=\"\">?h - hexagonal_bin</span> <span style=\"\">?b - bed</span>)</span> </div>\r\n<div style=\"margin-left: 60px\">(game-conserved </div>\r\n<div style=\"margin-left: 80px\"><span style=\"\">(on ?b ?h)</span> </div>\r\n<div style=\"margin-left: 60px\">) </div>\r\n<div style=\"margin-left: 40px\"><span style=\"\">)</span> </div>\r\n<div style=\"margin-left: 40px\"><span style=\"\">(exists</span> <span style=\"\">(<span style=\"\">?r - curved_wooden_ramp</span> <span style=\"\">?b - bed</span>)</span> </div>\r\n<div style=\"color: #1f77b4; margin-left: 60px\">(game-conserved </div>\r\n<div style=\"color: #1f77b4; margin-left: 80px\"><span style=\"color: #1f77b4\">(on ?b ?r)</span> </div>\r\n<div style=\"color: #1f77b4; margin-left: 60px\">) </div>\r\n<div style=\"margin-left: 40px\"><span style=\"color: #1f77b4\">)</span> </div>\r\n<div style=\"margin-left: 20px\">) </div>\r\n<div style=\"margin-left: 0px\">) </div>\r\n<div style=\"margin-left: 0px\">(:constraints </div>\r\n<div style=\"margin-left: 20px\">(and </div>\r\n<div style=\"margin-left: 40px\">(preference throwBallToBinThroughRamp </div>\r\n<div style=\"margin-left: 60px\"><span style=\"\">(exists</span> <span style=\"\">(<span style=\"\">?d - dodgeball</span> <span style=\"color: #ff7f0e\">?g - golfball</span> <span style=\"\">?r - curved_wooden_ramp</span> <span style=\"\">?w - north_wall</span>)</span> </div>\r\n<div style=\"margin-left: 80px\">(then </div>\r\n<div style=\"margin-left: 100px\">(once <span style=\"\"> (and <span style=\"\">(agent_holds ?d)</span> (< <span style=\"\">(distance agent ?w)</span> 1) ) </span> ) </div>\r\n<div style=\"margin-left: 100px\">(hold-while <span style=\"\"> (and <span style=\"\"> (not <span style=\"\">(agent_holds ?d)</span> ) </span> <span style=\"\">(in_motion ?d)</span> ) </span> <span style=\"\">(touch ?d ?r)</span> ) </div>\r\n<div style=\"margin-left: 100px\">(once <span style=\"\"> (and <span style=\"\">(on ?g ?d)</span> <span style=\"\"> (not <span style=\"\">(in_motion ?d)</span> ) </span> ) </span> ) </div>\r\n<div style=\"margin-left: 80px\">) </div>\r\n<div style=\"margin-left: 60px\"><span style=\"\">)</span> </div>\r\n<div style=\"margin-left: 40px\">) </div>\r\n<div style=\"margin-left: 20px\">) </div>\r\n<div style=\"margin-left: 0px\">) </div>\r\n<div style=\"margin-left: 0px\">(:scoring </div>\r\n<div style=\"margin-left: 20px\">maximize </div>\r\n<div style=\"margin-left: 40px\"><span style=\"\">(count-nonoverlapping throwBallToBinThroughRamp)</span> </div>\r\n<div style=\"margin-left: 0px\">) </div>\r\n<div style=\"margin-left: 0px\">) </div>"
     },
     "metadata": {}
    }
   ],
   "source": [
    "visualize(second_step_mutations_dict[INDICES_TO_MUTATE[0]], 4)"
   ]
  },
  {
   "source": [
    "**Original note**: Changed the setup slightly -- before it was `(game-conserved (= (distance ?b ?r) 2))`, that is, the ramp is 2 meters from the bed, and now it's that the ramp is on the bed. This works.\n",
    "\n",
    "**Second mutation**: changed from landing on the in/on the hexagonal bin, to catching it and holding it again. Totally valid."
   ],
   "cell_type": "markdown",
   "metadata": {}
  },
  {
   "cell_type": "code",
   "execution_count": 142,
   "metadata": {},
   "outputs": [
    {
     "output_type": "stream",
     "name": "stdout",
     "text": [
      "With random seed 6, mutated:\n\n"
     ]
    },
    {
     "output_type": "display_data",
     "data": {
      "text/plain": "<IPython.core.display.Markdown object>",
      "text/markdown": "### Original Description:"
     },
     "metadata": {}
    },
    {
     "output_type": "display_data",
     "data": {
      "text/plain": "<IPython.core.display.Markdown object>",
      "text/markdown": "**Setup:** bed\nhexagonal bin on the bed\ncurved wooden ramp about 2m to the bed\n3 dodgballs"
     },
     "metadata": {}
    },
    {
     "output_type": "display_data",
     "data": {
      "text/plain": "<IPython.core.display.Markdown object>",
      "text/markdown": "**Gameplay:** On the bed i'd place the hexagonal bin. About 2m of the bed i'd place the curved wooden ramp. Then, close to the wall of the opposite side of the bed i'd throw 1 dodge ball at a time through the curved wooden ramp trying to place the dodgball in the hexagonal bin"
     },
     "metadata": {}
    },
    {
     "output_type": "display_data",
     "data": {
      "text/plain": "<IPython.core.display.Markdown object>",
      "text/markdown": "**Scoring:** for each dodgeball place inside the bin i'd get 1 point"
     },
     "metadata": {}
    },
    {
     "output_type": "display_data",
     "data": {
      "text/plain": "<IPython.core.display.Markdown object>",
      "text/markdown": "----------"
     },
     "metadata": {}
    },
    {
     "output_type": "display_data",
     "data": {
      "text/plain": "<IPython.core.display.Markdown object>",
      "text/markdown": "### Game:"
     },
     "metadata": {}
    },
    {
     "output_type": "display_data",
     "data": {
      "text/plain": "<IPython.core.display.HTML object>",
      "text/html": "<div style=\"margin-left: 0px\">(define (game many-objects-21) (:domain many-objects-room-v1) </div>\r\n<div style=\"margin-left: 0px\">(:setup </div>\r\n<div style=\"margin-left: 20px\">(and </div>\r\n<div style=\"margin-left: 40px\"><span style=\"\">(exists</span> <span style=\"\">(<span style=\"\">?h - hexagonal_bin</span> <span style=\"\">?b - bed</span>)</span> </div>\r\n<div style=\"margin-left: 60px\">(game-conserved </div>\r\n<div style=\"margin-left: 80px\"><span style=\"\">(on ?b ?h)</span> </div>\r\n<div style=\"margin-left: 60px\">) </div>\r\n<div style=\"margin-left: 40px\"><span style=\"\">)</span> </div>\r\n<div style=\"margin-left: 40px\"><span style=\"\">(exists</span> <span style=\"\">(<span style=\"\">?r - curved_wooden_ramp</span> <span style=\"\">?b - bed</span>)</span> </div>\r\n<div style=\"color: #1f77b4; margin-left: 60px\">(game-conserved </div>\r\n<div style=\"color: #1f77b4; margin-left: 80px\"><span style=\"color: #1f77b4\">(on ?b ?r)</span> </div>\r\n<div style=\"color: #1f77b4; margin-left: 60px\">) </div>\r\n<div style=\"margin-left: 40px\"><span style=\"color: #1f77b4\">)</span> </div>\r\n<div style=\"margin-left: 20px\">) </div>\r\n<div style=\"margin-left: 0px\">) </div>\r\n<div style=\"margin-left: 0px\">(:constraints </div>\r\n<div style=\"margin-left: 20px\">(and </div>\r\n<div style=\"margin-left: 40px\">(preference throwBallToBinThroughRamp </div>\r\n<div style=\"margin-left: 60px\"><span style=\"\">(exists</span> <span style=\"\">(<span style=\"\">?d - dodgeball</span> <span style=\"\">?h - hexagonal_bin</span> <span style=\"\">?r - curved_wooden_ramp</span> <span style=\"\">?w - north_wall</span>)</span> </div>\r\n<div style=\"margin-left: 80px\">(then </div>\r\n<div style=\"margin-left: 100px\">(once <span style=\"\"> (and <span style=\"\">(agent_holds ?d)</span> (< <span style=\"\">(distance agent ?w)</span> 1) ) </span> ) </div>\r\n<div style=\"margin-left: 100px\">(hold-while <span style=\"\"> (and <span style=\"\"> (not <span style=\"\">(agent_holds ?d)</span> ) </span> <span style=\"\">(in_motion ?d)</span> ) </span> <span style=\"\">(touch ?d ?r)</span> ) </div>\r\n<div style=\"margin-left: 100px\">(once <span style=\"\"> (and <span style=\"color: #ff7f0e\">(agent_holds ?d)</span> <span style=\"\"> (not <span style=\"\">(in_motion ?d)</span> ) </span> ) </span> ) </div>\r\n<div style=\"margin-left: 80px\">) </div>\r\n<div style=\"margin-left: 60px\"><span style=\"\">)</span> </div>\r\n<div style=\"margin-left: 40px\">) </div>\r\n<div style=\"margin-left: 20px\">) </div>\r\n<div style=\"margin-left: 0px\">) </div>\r\n<div style=\"margin-left: 0px\">(:scoring </div>\r\n<div style=\"margin-left: 20px\">maximize </div>\r\n<div style=\"margin-left: 40px\"><span style=\"\">(count-nonoverlapping throwBallToBinThroughRamp)</span> </div>\r\n<div style=\"margin-left: 0px\">) </div>\r\n<div style=\"margin-left: 0px\">) </div>"
     },
     "metadata": {}
    }
   ],
   "source": [
    "visualize(second_step_mutations_dict[INDICES_TO_MUTATE[0]], 6)"
   ]
  },
  {
   "source": [
    "**Original note:** I think the other substitution method also did something like this -- though it bounced it off the curved ramp, and this bounces it off the hexagonal bin\n",
    "\n",
    "**Second mutation:** this changes the objects the game is played with again, from the dodgeball and bin to the basketball and bin"
   ],
   "cell_type": "markdown",
   "metadata": {}
  },
  {
   "cell_type": "code",
   "execution_count": 143,
   "metadata": {},
   "outputs": [
    {
     "output_type": "stream",
     "name": "stdout",
     "text": [
      "With random seed 1, mutated:\n\n"
     ]
    },
    {
     "output_type": "display_data",
     "data": {
      "text/plain": "<IPython.core.display.Markdown object>",
      "text/markdown": "### Original Description:"
     },
     "metadata": {}
    },
    {
     "output_type": "display_data",
     "data": {
      "text/plain": "<IPython.core.display.Markdown object>",
      "text/markdown": "**Setup:** All that is need for this game is one of the dodgeballs and the wall."
     },
     "metadata": {}
    },
    {
     "output_type": "display_data",
     "data": {
      "text/plain": "<IPython.core.display.Markdown object>",
      "text/markdown": "**Gameplay:** The player can bounce the dodge ball off of the wall and catch it. "
     },
     "metadata": {}
    },
    {
     "output_type": "display_data",
     "data": {
      "text/plain": "<IPython.core.display.Markdown object>",
      "text/markdown": "**Scoring:** Each time the player catches the ball, it's one point. Each time they step back further and the points that can be gained increase by one. "
     },
     "metadata": {}
    },
    {
     "output_type": "display_data",
     "data": {
      "text/plain": "<IPython.core.display.Markdown object>",
      "text/markdown": "----------"
     },
     "metadata": {}
    },
    {
     "output_type": "display_data",
     "data": {
      "text/plain": "<IPython.core.display.Markdown object>",
      "text/markdown": "### Game:"
     },
     "metadata": {}
    },
    {
     "output_type": "display_data",
     "data": {
      "text/plain": "<IPython.core.display.HTML object>",
      "text/html": "<div style=\"margin-left: 0px\">(define (game few-objects-15) (:domain few-objects-room-v1) </div>\r\n<div style=\"margin-left: 0px\">(:setup </div>\r\n<div style=\"margin-left: 20px\">) </div>\r\n<div style=\"margin-left: 0px\">(:constraints </div>\r\n<div style=\"margin-left: 20px\">(and </div>\r\n<div style=\"margin-left: 40px\">(preference throwToWallAndBack </div>\r\n<div style=\"margin-left: 60px\"><span style=\"\">(exists</span> <span style=\"color: #ff7f0e\">(<span style=\"\">?b - basketball</span> <span style=\"\">?h - hexagonal_bin</span>)</span> </div>\r\n<div style=\"margin-left: 80px\">(then </div>\r\n<div style=\"margin-left: 100px\">(once <span style=\"\">(agent_holds ?h)</span> ) </div>\r\n<div style=\"margin-left: 100px\">(hold-while <span style=\"\"> (and <span style=\"\"> (not <span style=\"\">(agent_holds ?h)</span> ) </span> <span style=\"\">(in_motion ?h)</span> ) </span> <span style=\"\">(touch ?h ?b)</span> ) </div>\r\n<div style=\"margin-left: 100px\">(once-measure <span style=\"\">(agent_holds ?b)</span> <span style=\"\">(distance agent ?h)</span> ) </div>\r\n<div style=\"margin-left: 80px\">) </div>\r\n<div style=\"margin-left: 60px\"><span style=\"\">)</span> </div>\r\n<div style=\"margin-left: 40px\">) </div>\r\n<div style=\"margin-left: 20px\">) </div>\r\n<div style=\"margin-left: 0px\">) </div>\r\n<div style=\"margin-left: 0px\">(:scoring </div>\r\n<div style=\"margin-left: 20px\">maximize </div>\r\n<div style=\"margin-left: 40px\"><span style=\"\">(count-increasing-measure throwToWallAndBack)</span> </div>\r\n<div style=\"margin-left: 0px\">) </div>\r\n<div style=\"margin-left: 0px\">) </div>"
     },
     "metadata": {}
    }
   ],
   "source": [
    "visualize(second_step_mutations_dict[INDICES_TO_MUTATE[3]], 1)"
   ]
  },
  {
   "source": [
    "**Original note:** I think the other substitution method also did something like this -- though it bounced it off the curved ramp, and this bounces it off the hexagonal bin\n",
    "\n",
    "**Second mutation:** Another minor change that seems to work -- instead of measuring the distance to the agent when the ball is caught, measure the distance to the wall"
   ],
   "cell_type": "markdown",
   "metadata": {}
  },
  {
   "cell_type": "code",
   "execution_count": 144,
   "metadata": {},
   "outputs": [
    {
     "output_type": "stream",
     "name": "stdout",
     "text": [
      "With random seed 6, mutated:\n\n"
     ]
    },
    {
     "output_type": "display_data",
     "data": {
      "text/plain": "<IPython.core.display.Markdown object>",
      "text/markdown": "### Original Description:"
     },
     "metadata": {}
    },
    {
     "output_type": "display_data",
     "data": {
      "text/plain": "<IPython.core.display.Markdown object>",
      "text/markdown": "**Setup:** All that is need for this game is one of the dodgeballs and the wall."
     },
     "metadata": {}
    },
    {
     "output_type": "display_data",
     "data": {
      "text/plain": "<IPython.core.display.Markdown object>",
      "text/markdown": "**Gameplay:** The player can bounce the dodge ball off of the wall and catch it. "
     },
     "metadata": {}
    },
    {
     "output_type": "display_data",
     "data": {
      "text/plain": "<IPython.core.display.Markdown object>",
      "text/markdown": "**Scoring:** Each time the player catches the ball, it's one point. Each time they step back further and the points that can be gained increase by one. "
     },
     "metadata": {}
    },
    {
     "output_type": "display_data",
     "data": {
      "text/plain": "<IPython.core.display.Markdown object>",
      "text/markdown": "----------"
     },
     "metadata": {}
    },
    {
     "output_type": "display_data",
     "data": {
      "text/plain": "<IPython.core.display.Markdown object>",
      "text/markdown": "### Game:"
     },
     "metadata": {}
    },
    {
     "output_type": "display_data",
     "data": {
      "text/plain": "<IPython.core.display.HTML object>",
      "text/html": "<div style=\"margin-left: 0px\">(define (game few-objects-15) (:domain few-objects-room-v1) </div>\r\n<div style=\"margin-left: 0px\">(:setup </div>\r\n<div style=\"margin-left: 20px\">) </div>\r\n<div style=\"margin-left: 0px\">(:constraints </div>\r\n<div style=\"margin-left: 20px\">(and </div>\r\n<div style=\"margin-left: 40px\">(preference throwToWallAndBack </div>\r\n<div style=\"margin-left: 60px\"><span style=\"\">(exists</span> <span style=\"color: #1f77b4\">(<span style=\"\">?d - dodgeball</span> <span style=\"color: #1f77b4\">?w - hexagonal_bin</span>)</span> </div>\r\n<div style=\"margin-left: 80px\">(then </div>\r\n<div style=\"margin-left: 100px\">(once <span style=\"\">(agent_holds ?d)</span> ) </div>\r\n<div style=\"margin-left: 100px\">(hold-while <span style=\"\"> (and <span style=\"\"> (not <span style=\"\">(agent_holds ?d)</span> ) </span> <span style=\"\">(in_motion ?d)</span> ) </span> <span style=\"\">(touch ?d ?w)</span> ) </div>\r\n<div style=\"margin-left: 100px\">(once-measure <span style=\"\">(agent_holds ?d)</span> <span style=\"color: #ff7f0e\">(distance ?w ?d)</span> ) </div>\r\n<div style=\"margin-left: 80px\">) </div>\r\n<div style=\"margin-left: 60px\"><span style=\"\">)</span> </div>\r\n<div style=\"margin-left: 40px\">) </div>\r\n<div style=\"margin-left: 20px\">) </div>\r\n<div style=\"margin-left: 0px\">) </div>\r\n<div style=\"margin-left: 0px\">(:scoring </div>\r\n<div style=\"margin-left: 20px\">maximize </div>\r\n<div style=\"margin-left: 40px\"><span style=\"\">(count-increasing-measure throwToWallAndBack)</span> </div>\r\n<div style=\"margin-left: 0px\">) </div>\r\n<div style=\"margin-left: 0px\">) </div>"
     },
     "metadata": {}
    }
   ],
   "source": [
    "visualize(second_step_mutations_dict[INDICES_TO_MUTATE[3]], 6)"
   ]
  },
  {
   "source": [
    "**Original note:** I think the other substitution method also did something like this -- though it bounced it off the curved ramp, and this bounces it off the hexagonal bin\n",
    "\n",
    "**Second mutation:** Changed from bouncing the ball off the wall to landing it on the bin."
   ],
   "cell_type": "markdown",
   "metadata": {}
  },
  {
   "cell_type": "code",
   "execution_count": 145,
   "metadata": {},
   "outputs": [
    {
     "output_type": "stream",
     "name": "stdout",
     "text": [
      "With random seed 8, mutated:\n\n"
     ]
    },
    {
     "output_type": "display_data",
     "data": {
      "text/plain": "<IPython.core.display.Markdown object>",
      "text/markdown": "### Original Description:"
     },
     "metadata": {}
    },
    {
     "output_type": "display_data",
     "data": {
      "text/plain": "<IPython.core.display.Markdown object>",
      "text/markdown": "**Setup:** All that is need for this game is one of the dodgeballs and the wall."
     },
     "metadata": {}
    },
    {
     "output_type": "display_data",
     "data": {
      "text/plain": "<IPython.core.display.Markdown object>",
      "text/markdown": "**Gameplay:** The player can bounce the dodge ball off of the wall and catch it. "
     },
     "metadata": {}
    },
    {
     "output_type": "display_data",
     "data": {
      "text/plain": "<IPython.core.display.Markdown object>",
      "text/markdown": "**Scoring:** Each time the player catches the ball, it's one point. Each time they step back further and the points that can be gained increase by one. "
     },
     "metadata": {}
    },
    {
     "output_type": "display_data",
     "data": {
      "text/plain": "<IPython.core.display.Markdown object>",
      "text/markdown": "----------"
     },
     "metadata": {}
    },
    {
     "output_type": "display_data",
     "data": {
      "text/plain": "<IPython.core.display.Markdown object>",
      "text/markdown": "### Game:"
     },
     "metadata": {}
    },
    {
     "output_type": "display_data",
     "data": {
      "text/plain": "<IPython.core.display.HTML object>",
      "text/html": "<div style=\"margin-left: 0px\">(define (game few-objects-15) (:domain few-objects-room-v1) </div>\r\n<div style=\"margin-left: 0px\">(:setup </div>\r\n<div style=\"margin-left: 20px\">) </div>\r\n<div style=\"margin-left: 0px\">(:constraints </div>\r\n<div style=\"margin-left: 20px\">(and </div>\r\n<div style=\"margin-left: 40px\">(preference throwToWallAndBack </div>\r\n<div style=\"margin-left: 60px\"><span style=\"\">(exists</span> <span style=\"color: #1f77b4\">(<span style=\"\">?d - dodgeball</span> <span style=\"color: #1f77b4\">?w - hexagonal_bin</span>)</span> </div>\r\n<div style=\"color: #ff7f0e; margin-left: 80px\">(then </div>\r\n<div style=\"margin-left: 100px; color: #ff7f0e\">(once <span style=\"color: #ff7f0e\">(agent_holds ?d)</span> ) </div>\r\n<div style=\"margin-left: 100px; color: #ff7f0e\">(hold-while <span style=\"color: #ff7f0e\"> (and <span style=\"color: #ff7f0e\"> (not <span style=\"color: #ff7f0e\">(agent_holds ?d)</span> ) </span> <span style=\"color: #ff7f0e\">(in_motion ?d)</span> ) </span> <span style=\"color: #ff7f0e\">(on ?w ?d)</span> ) </div>\r\n<div style=\"margin-left: 100px; color: #ff7f0e\">(once <span style=\"color: #ff7f0e\"> (and <span style=\"color: #ff7f0e\">(on ?w ?d)</span> <span style=\"color: #ff7f0e\"> (not <span style=\"color: #ff7f0e\">(in_motion ?d)</span> ) </span> ) </span> ) </div>\r\n<div style=\"color: #ff7f0e; margin-left: 80px\">) </div>\r\n<div style=\"margin-left: 60px\"><span style=\"color: #ff7f0e\">)</span> </div>\r\n<div style=\"margin-left: 40px\">) </div>\r\n<div style=\"margin-left: 20px\">) </div>\r\n<div style=\"margin-left: 0px\">) </div>\r\n<div style=\"margin-left: 0px\">(:scoring </div>\r\n<div style=\"margin-left: 20px\">maximize </div>\r\n<div style=\"margin-left: 40px\"><span style=\"\">(count-increasing-measure throwToWallAndBack)</span> </div>\r\n<div style=\"margin-left: 0px\">) </div>\r\n<div style=\"margin-left: 0px\">) </div>"
     },
     "metadata": {}
    }
   ],
   "source": [
    "visualize(second_step_mutations_dict[INDICES_TO_MUTATE[3]], 7)"
   ]
  },
  {
   "source": [
    "**Original note:** Throw the cellphone such that it is adjacent to the doggie bed, rather than such that it lands on it. Cute and valid.\n",
    "\n",
    "**Second mutation:** Added the constraint that the cellphone must be thrown with the agent's eyes closed."
   ],
   "cell_type": "markdown",
   "metadata": {}
  },
  {
   "cell_type": "code",
   "execution_count": 146,
   "metadata": {},
   "outputs": [
    {
     "output_type": "stream",
     "name": "stdout",
     "text": [
      "With random seed 1, mutated:\n\n"
     ]
    },
    {
     "output_type": "display_data",
     "data": {
      "text/plain": "<IPython.core.display.Markdown object>",
      "text/markdown": "### Original Description:"
     },
     "metadata": {}
    },
    {
     "output_type": "display_data",
     "data": {
      "text/plain": "<IPython.core.display.Markdown object>",
      "text/markdown": "**Setup:** Textbook, laptop, cellphone and doggie bed. "
     },
     "metadata": {}
    },
    {
     "output_type": "display_data",
     "data": {
      "text/plain": "<IPython.core.display.Markdown object>",
      "text/markdown": "**Gameplay:** The game consists of throwing objects on the doggie bed. You have three objects to throw a textbook, laptop and a cellphone. Landing any of the aforementioned objects on the bed gives you points; 15 points the cellphone, 10 the textbook and 5 the laptop."
     },
     "metadata": {}
    },
    {
     "output_type": "display_data",
     "data": {
      "text/plain": "<IPython.core.display.Markdown object>",
      "text/markdown": "**Scoring:** Landing the cellphone on the bed gives you 15 points, the textbook 10 points and the laptop 5 points."
     },
     "metadata": {}
    },
    {
     "output_type": "display_data",
     "data": {
      "text/plain": "<IPython.core.display.Markdown object>",
      "text/markdown": "----------"
     },
     "metadata": {}
    },
    {
     "output_type": "display_data",
     "data": {
      "text/plain": "<IPython.core.display.Markdown object>",
      "text/markdown": "### Game:"
     },
     "metadata": {}
    },
    {
     "output_type": "display_data",
     "data": {
      "text/plain": "<IPython.core.display.HTML object>",
      "text/html": "<div style=\"margin-left: 0px\">(define (game few-objects-9) (:domain few-objects-room-v1) </div>\r\n<div style=\"margin-left: 0px\">(:setup </div>\r\n<div style=\"margin-left: 20px\">) </div>\r\n<div style=\"margin-left: 0px\">(:constraints </div>\r\n<div style=\"margin-left: 20px\">(and </div>\r\n<div style=\"margin-left: 40px\">(preference cellPhoneThrownOnDoggieBed </div>\r\n<div style=\"margin-left: 60px\"><span style=\"\">(exists</span> <span style=\"\">(<span style=\"\">?d - doggie_bed</span> <span style=\"\">?c - cellphone</span>)</span> </div>\r\n<div style=\"margin-left: 80px\">(then </div>\r\n<div style=\"margin-left: 100px; color: #ff7f0e\">(once <span style=\"color: #ff7f0e\"> (and <span style=\"color: #ff7f0e\">(agent_holds ?c)</span> <span style=\"color: #ff7f0e\">(agent_perspective eyes_closed)</span> ) </span> ) </div>\r\n<div style=\"margin-left: 100px\">(hold <span style=\"\"> (and <span style=\"\"> (not <span style=\"\">(agent_holds ?c)</span> ) </span> <span style=\"\">(in_motion ?c)</span> ) </span> ) </div>\r\n<div style=\"margin-left: 100px\">(once <span style=\"\"> (and <span style=\"color: #1f77b4\">(adjacent ?d ?c)</span> <span style=\"\"> (not <span style=\"\">(in_motion ?c)</span> ) </span> ) </span> ) </div>\r\n<div style=\"margin-left: 80px\">) </div>\r\n<div style=\"margin-left: 60px\"><span style=\"\">)</span> </div>\r\n<div style=\"margin-left: 40px\">) </div>\r\n<div style=\"margin-left: 40px\">(preference textbookThrownOnDoggieBed </div>\r\n<div style=\"margin-left: 60px\"><span style=\"\">(exists</span> <span style=\"\">(<span style=\"\">?d - doggie_bed</span> <span style=\"\">?t - textbook</span>)</span> </div>\r\n<div style=\"margin-left: 80px\">(then </div>\r\n<div style=\"margin-left: 100px\">(once <span style=\"\">(agent_holds ?t)</span> ) </div>\r\n<div style=\"margin-left: 100px\">(hold <span style=\"\"> (and <span style=\"\"> (not <span style=\"\">(agent_holds ?t)</span> ) </span> <span style=\"\">(in_motion ?t)</span> ) </span> ) </div>\r\n<div style=\"margin-left: 100px\">(once <span style=\"\"> (and <span style=\"\">(on ?d ?t)</span> <span style=\"\"> (not <span style=\"\">(in_motion ?t)</span> ) </span> ) </span> ) </div>\r\n<div style=\"margin-left: 80px\">) </div>\r\n<div style=\"margin-left: 60px\"><span style=\"\">)</span> </div>\r\n<div style=\"margin-left: 40px\">) </div>\r\n<div style=\"margin-left: 40px\">(preference laptopThrownOnDoggieBed </div>\r\n<div style=\"margin-left: 60px\"><span style=\"\">(exists</span> <span style=\"\">(<span style=\"\">?d - doggie_bed</span> <span style=\"\">?l - laptop</span>)</span> </div>\r\n<div style=\"margin-left: 80px\">(then </div>\r\n<div style=\"margin-left: 100px\">(once <span style=\"\">(agent_holds ?l)</span> ) </div>\r\n<div style=\"margin-left: 100px\">(hold <span style=\"\"> (and <span style=\"\"> (not <span style=\"\">(agent_holds ?l)</span> ) </span> <span style=\"\">(in_motion ?l)</span> ) </span> ) </div>\r\n<div style=\"margin-left: 100px\">(once <span style=\"\"> (and <span style=\"\">(on ?d ?l)</span> <span style=\"\"> (not <span style=\"\">(in_motion ?d)</span> ) </span> ) </span> ) </div>\r\n<div style=\"margin-left: 80px\">) </div>\r\n<div style=\"margin-left: 60px\"><span style=\"\">)</span> </div>\r\n<div style=\"margin-left: 40px\">) </div>\r\n<div style=\"margin-left: 20px\">) </div>\r\n<div style=\"margin-left: 0px\">) </div>\r\n<div style=\"margin-left: 0px\">(:scoring </div>\r\n<div style=\"margin-left: 20px\">maximize </div>\r\n<div style=\"margin-left: 40px\">(+ (* 15 <span style=\"\">(count-nonoverlapping cellPhoneThrownOnDoggieBed)</span> ) </div>\r\n<div style=\"margin-left: 60px\">(* 10 <span style=\"\">(count-nonoverlapping textbookThrownOnDoggieBed)</span> ) </div>\r\n<div style=\"margin-left: 60px\">(* 5 <span style=\"\">(count-nonoverlapping laptopThrownOnDoggieBed)</span> ) </div>\r\n<div style=\"margin-left: 40px\">) </div>\r\n<div style=\"margin-left: 0px\">) </div>\r\n<div style=\"margin-left: 0px\">) </div>"
     },
     "metadata": {}
    }
   ],
   "source": [
    "visualize(second_step_mutations_dict[INDICES_TO_MUTATE[4]], 1)"
   ]
  },
  {
   "source": [
    "**Original comment:** I'm mildly stunned this worked, but it worked -- this is what was there before: `(exists (?b2 - (either cube_block tall_cylindrical_block short_cylindrical_block)) (on ?b1 ?b2))`. Now it asks if there's another game object, that is in the building, and `?b1` is on the game object `?o2` -- it basically changes the game from \"build a tower with the blocks\" to \"build a tower, starting from a block, and using any object you want, but you only get points for each block you use\" -- so you could use other objects to stabilize, for example.\n",
    "\n",
    "**Second mutation:** This time it changes the rules of consturction again, starting from a block (and counting at most one block), but then scoring for every ball (dodgeball or beachball) in the structure."
   ],
   "cell_type": "markdown",
   "metadata": {}
  },
  {
   "cell_type": "code",
   "execution_count": 147,
   "metadata": {},
   "outputs": [
    {
     "output_type": "stream",
     "name": "stdout",
     "text": [
      "With random seed 0, mutated:\n\n"
     ]
    },
    {
     "output_type": "display_data",
     "data": {
      "text/plain": "<IPython.core.display.Markdown object>",
      "text/markdown": "### Original Description:"
     },
     "metadata": {}
    },
    {
     "output_type": "display_data",
     "data": {
      "text/plain": "<IPython.core.display.Markdown object>",
      "text/markdown": "**Setup:** The 3 cube blocks, 3 tall cylindrical blocks and the 3 short cylindrical blocks should be moved to the center of the room in an area that the player can see the clock. "
     },
     "metadata": {}
    },
    {
     "output_type": "display_data",
     "data": {
      "text/plain": "<IPython.core.display.Markdown object>",
      "text/markdown": "**Gameplay:** In this game, the player can use the clock to keep track of time. Each round, the player has one minute to build a tower using the blocks as tall as they can without it falling over."
     },
     "metadata": {}
    },
    {
     "output_type": "display_data",
     "data": {
      "text/plain": "<IPython.core.display.Markdown object>",
      "text/markdown": "**Scoring:** Each block that is added to the tower before the time runs out and it falls over is one point gained by the player. "
     },
     "metadata": {}
    },
    {
     "output_type": "display_data",
     "data": {
      "text/plain": "<IPython.core.display.Markdown object>",
      "text/markdown": "----------"
     },
     "metadata": {}
    },
    {
     "output_type": "display_data",
     "data": {
      "text/plain": "<IPython.core.display.Markdown object>",
      "text/markdown": "### Game:"
     },
     "metadata": {}
    },
    {
     "output_type": "display_data",
     "data": {
      "text/plain": "<IPython.core.display.HTML object>",
      "text/html": "<div style=\"margin-left: 0px\">(define (game many-objects-15) (:domain many-objects-room-v1) </div>\r\n<div style=\"margin-left: 0px\">(:setup </div>\r\n<div style=\"margin-left: 20px\">(and </div>\r\n<div style=\"margin-left: 40px\"><span style=\"\">(forall</span> <span style=\"\">(<span style=\"\">?b - (either cube_block tall_cylindrical_block short_cylindrical_block)</span> <span style=\"\">?r - room_center</span>)</span> </div>\r\n<div style=\"margin-left: 60px\">(game-optional </div>\r\n<div style=\"margin-left: 80px\">(< <span style=\"\">(distance ?r ?b)</span> 1) </div>\r\n<div style=\"margin-left: 60px\">) </div>\r\n<div style=\"margin-left: 40px\"><span style=\"\">)</span> </div>\r\n<div style=\"margin-left: 20px\">) </div>\r\n<div style=\"margin-left: 0px\">) </div>\r\n<div style=\"margin-left: 0px\">(:constraints </div>\r\n<div style=\"margin-left: 20px\">(and </div>\r\n<div style=\"margin-left: 40px\">(preference blockOnFloor </div>\r\n<div style=\"margin-left: 60px\"><span style=\"\">(exists</span> <span style=\"\">(<span style=\"\">?b - (either cube_block tall_cylindrical_block short_cylindrical_block)</span>)</span> </div>\r\n<div style=\"margin-left: 80px\">(at-end </div>\r\n<div style=\"margin-left: 100px\">(and </div>\r\n<div style=\"margin-left: 120px\"><span style=\"\">(in_building ?b)</span> </div>\r\n<div style=\"margin-left: 120px\"><span style=\"\">(on floor ?b)</span> </div>\r\n<div style=\"margin-left: 100px\">) </div>\r\n<div style=\"margin-left: 80px\">) </div>\r\n<div style=\"margin-left: 60px\"><span style=\"\">)</span> </div>\r\n<div style=\"margin-left: 40px\">) </div>\r\n<div style=\"margin-left: 40px\">(preference blockOnBlock </div>\r\n<div style=\"margin-left: 60px\"><span style=\"\">(exists</span> <span style=\"\">(<span style=\"\">?b1 - <span style=\"color: #ff7f0e\">(either dodgeball beachball)</span></span>)</span> </div>\r\n<div style=\"margin-left: 80px\">(at-end </div>\r\n<div style=\"margin-left: 100px\">(and </div>\r\n<div style=\"margin-left: 120px\"><span style=\"\">(in_building ?b1)</span> </div>\r\n<div style=\"margin-left: 120px; color: #1f77b4\"><span style=\"color: #1f77b4\">(exists</span> <span style=\"color: #1f77b4\">(<span style=\"color: #1f77b4\">?o2 - game_object</span>)</span> </div>\r\n<div style=\"margin-left: 140px; color: #1f77b4\">(and </div>\r\n<div style=\"color: #1f77b4; margin-left: 160px\">(not </div>\r\n<div style=\"color: #1f77b4; margin-left: 180px\"><span style=\"color: #1f77b4\">(= ?b1 ?o2)</span> </div>\r\n<div style=\"color: #1f77b4; margin-left: 160px\">) </div>\r\n<div style=\"color: #1f77b4; margin-left: 160px\"><span style=\"color: #1f77b4\">(in_building ?o2)</span> </div>\r\n<div style=\"color: #1f77b4; margin-left: 160px\"><span style=\"color: #1f77b4\">(on ?o2 ?b1)</span> </div>\r\n<div style=\"margin-left: 140px; color: #1f77b4\">) </div>\r\n<div style=\"margin-left: 120px; color: #1f77b4\"><span style=\"color: #1f77b4\">)</span> </div>\r\n<div style=\"margin-left: 100px\">) </div>\r\n<div style=\"margin-left: 80px\">) </div>\r\n<div style=\"margin-left: 60px\"><span style=\"\">)</span> </div>\r\n<div style=\"margin-left: 40px\">) </div>\r\n<div style=\"margin-left: 20px\">) </div>\r\n<div style=\"margin-left: 0px\">) </div>\r\n<div style=\"margin-left: 0px\">(:scoring </div>\r\n<div style=\"margin-left: 20px\">maximize </div>\r\n<div style=\"margin-left: 40px\">(+ <span style=\"\">(count-once blockOnFloor)</span> <span style=\"\">(count-once-per-objects blockOnBlock)</span> ) </div>\r\n<div style=\"margin-left: 0px\">) </div>\r\n<div style=\"margin-left: 0px\">) </div>"
     },
     "metadata": {}
    }
   ],
   "source": [
    "visualize(second_step_mutations_dict[INDICES_TO_MUTATE[6]], 0)"
   ]
  },
  {
   "source": [
    "**Original comment:** I'm mildly stunned this worked, but it worked -- this is what was there before: `(exists (?b2 - (either cube_block tall_cylindrical_block short_cylindrical_block)) (on ?b1 ?b2))`. Now it asks if there's another game object, that is in the building, and `?b1` is on the game object `?o2` -- it basically changes the game from \"build a tower with the blocks\" to \"build a tower, starting from a block, and using any object you want, but you only get points for each block you use\" -- so you could use other objects to stabilize, for example.\n",
    "\n",
    "**Second mutation:** Another change to the construction rules, this time to start building from a ball touching the floor."
   ],
   "cell_type": "markdown",
   "metadata": {}
  },
  {
   "cell_type": "code",
   "execution_count": 148,
   "metadata": {},
   "outputs": [
    {
     "output_type": "stream",
     "name": "stdout",
     "text": [
      "With random seed 3, mutated:\n\n"
     ]
    },
    {
     "output_type": "display_data",
     "data": {
      "text/plain": "<IPython.core.display.Markdown object>",
      "text/markdown": "### Original Description:"
     },
     "metadata": {}
    },
    {
     "output_type": "display_data",
     "data": {
      "text/plain": "<IPython.core.display.Markdown object>",
      "text/markdown": "**Setup:** The 3 cube blocks, 3 tall cylindrical blocks and the 3 short cylindrical blocks should be moved to the center of the room in an area that the player can see the clock. "
     },
     "metadata": {}
    },
    {
     "output_type": "display_data",
     "data": {
      "text/plain": "<IPython.core.display.Markdown object>",
      "text/markdown": "**Gameplay:** In this game, the player can use the clock to keep track of time. Each round, the player has one minute to build a tower using the blocks as tall as they can without it falling over."
     },
     "metadata": {}
    },
    {
     "output_type": "display_data",
     "data": {
      "text/plain": "<IPython.core.display.Markdown object>",
      "text/markdown": "**Scoring:** Each block that is added to the tower before the time runs out and it falls over is one point gained by the player. "
     },
     "metadata": {}
    },
    {
     "output_type": "display_data",
     "data": {
      "text/plain": "<IPython.core.display.Markdown object>",
      "text/markdown": "----------"
     },
     "metadata": {}
    },
    {
     "output_type": "display_data",
     "data": {
      "text/plain": "<IPython.core.display.Markdown object>",
      "text/markdown": "### Game:"
     },
     "metadata": {}
    },
    {
     "output_type": "display_data",
     "data": {
      "text/plain": "<IPython.core.display.HTML object>",
      "text/html": "<div style=\"margin-left: 0px\">(define (game many-objects-15) (:domain many-objects-room-v1) </div>\r\n<div style=\"margin-left: 0px\">(:setup </div>\r\n<div style=\"margin-left: 20px\">(and </div>\r\n<div style=\"margin-left: 40px\"><span style=\"\">(forall</span> <span style=\"\">(<span style=\"\">?b - (either cube_block tall_cylindrical_block short_cylindrical_block)</span> <span style=\"\">?r - room_center</span>)</span> </div>\r\n<div style=\"margin-left: 60px\">(game-optional </div>\r\n<div style=\"margin-left: 80px\">(< <span style=\"\">(distance ?r ?b)</span> 1) </div>\r\n<div style=\"margin-left: 60px\">) </div>\r\n<div style=\"margin-left: 40px\"><span style=\"\">)</span> </div>\r\n<div style=\"margin-left: 20px\">) </div>\r\n<div style=\"margin-left: 0px\">) </div>\r\n<div style=\"margin-left: 0px\">(:constraints </div>\r\n<div style=\"margin-left: 20px\">(and </div>\r\n<div style=\"margin-left: 40px\">(preference blockOnFloor </div>\r\n<div style=\"margin-left: 60px\"><span style=\"\">(exists</span> <span style=\"\">(<span style=\"\">?b - <span style=\"color: #ff7f0e\">(either beachball dodgeball golfball)</span></span>)</span> </div>\r\n<div style=\"margin-left: 80px\">(at-end </div>\r\n<div style=\"margin-left: 100px\">(and </div>\r\n<div style=\"margin-left: 120px\"><span style=\"\">(in_building ?b)</span> </div>\r\n<div style=\"margin-left: 120px\"><span style=\"\">(on floor ?b)</span> </div>\r\n<div style=\"margin-left: 100px\">) </div>\r\n<div style=\"margin-left: 80px\">) </div>\r\n<div style=\"margin-left: 60px\"><span style=\"\">)</span> </div>\r\n<div style=\"margin-left: 40px\">) </div>\r\n<div style=\"margin-left: 40px\">(preference blockOnBlock </div>\r\n<div style=\"margin-left: 60px\"><span style=\"\">(exists</span> <span style=\"\">(<span style=\"\">?b1 - (either cube_block tall_cylindrical_block short_cylindrical_block)</span>)</span> </div>\r\n<div style=\"margin-left: 80px\">(at-end </div>\r\n<div style=\"margin-left: 100px\">(and </div>\r\n<div style=\"margin-left: 120px\"><span style=\"\">(in_building ?b1)</span> </div>\r\n<div style=\"margin-left: 120px; color: #1f77b4\"><span style=\"color: #1f77b4\">(exists</span> <span style=\"color: #1f77b4\">(<span style=\"color: #1f77b4\">?o2 - game_object</span>)</span> </div>\r\n<div style=\"margin-left: 140px; color: #1f77b4\">(and </div>\r\n<div style=\"color: #1f77b4; margin-left: 160px\">(not </div>\r\n<div style=\"color: #1f77b4; margin-left: 180px\"><span style=\"color: #1f77b4\">(= ?b1 ?o2)</span> </div>\r\n<div style=\"color: #1f77b4; margin-left: 160px\">) </div>\r\n<div style=\"color: #1f77b4; margin-left: 160px\"><span style=\"color: #1f77b4\">(in_building ?o2)</span> </div>\r\n<div style=\"color: #1f77b4; margin-left: 160px\"><span style=\"color: #1f77b4\">(on ?o2 ?b1)</span> </div>\r\n<div style=\"margin-left: 140px; color: #1f77b4\">) </div>\r\n<div style=\"margin-left: 120px; color: #1f77b4\"><span style=\"color: #1f77b4\">)</span> </div>\r\n<div style=\"margin-left: 100px\">) </div>\r\n<div style=\"margin-left: 80px\">) </div>\r\n<div style=\"margin-left: 60px\"><span style=\"\">)</span> </div>\r\n<div style=\"margin-left: 40px\">) </div>\r\n<div style=\"margin-left: 20px\">) </div>\r\n<div style=\"margin-left: 0px\">) </div>\r\n<div style=\"margin-left: 0px\">(:scoring </div>\r\n<div style=\"margin-left: 20px\">maximize </div>\r\n<div style=\"margin-left: 40px\">(+ <span style=\"\">(count-once blockOnFloor)</span> <span style=\"\">(count-once-per-objects blockOnBlock)</span> ) </div>\r\n<div style=\"margin-left: 0px\">) </div>\r\n<div style=\"margin-left: 0px\">) </div>"
     },
     "metadata": {}
    }
   ],
   "source": [
    "visualize(second_step_mutations_dict[INDICES_TO_MUTATE[6]], 2)"
   ]
  },
  {
   "source": [
    "**Original comment:** I'm mildly stunned this worked, but it worked -- this is what was there before: `(exists (?b2 - (either cube_block tall_cylindrical_block short_cylindrical_block)) (on ?b1 ?b2))`. Now it asks if there's another game object, that is in the building, and `?b1` is on the game object `?o2` -- it basically changes the game from \"build a tower with the blocks\" to \"build a tower, starting from a block, and using any object you want, but you only get points for each block you use\" -- so you could use other objects to stabilize, for example.\n",
    "\n",
    "**Second mutation:** This time the initial block (which is the base of the construction, theoretically) must be adjacent to the agent and touched by the agent when the game ends. "
   ],
   "cell_type": "markdown",
   "metadata": {}
  },
  {
   "cell_type": "code",
   "execution_count": 149,
   "metadata": {},
   "outputs": [
    {
     "output_type": "stream",
     "name": "stdout",
     "text": [
      "With random seed 5, mutated:\n\n"
     ]
    },
    {
     "output_type": "display_data",
     "data": {
      "text/plain": "<IPython.core.display.Markdown object>",
      "text/markdown": "### Original Description:"
     },
     "metadata": {}
    },
    {
     "output_type": "display_data",
     "data": {
      "text/plain": "<IPython.core.display.Markdown object>",
      "text/markdown": "**Setup:** The 3 cube blocks, 3 tall cylindrical blocks and the 3 short cylindrical blocks should be moved to the center of the room in an area that the player can see the clock. "
     },
     "metadata": {}
    },
    {
     "output_type": "display_data",
     "data": {
      "text/plain": "<IPython.core.display.Markdown object>",
      "text/markdown": "**Gameplay:** In this game, the player can use the clock to keep track of time. Each round, the player has one minute to build a tower using the blocks as tall as they can without it falling over."
     },
     "metadata": {}
    },
    {
     "output_type": "display_data",
     "data": {
      "text/plain": "<IPython.core.display.Markdown object>",
      "text/markdown": "**Scoring:** Each block that is added to the tower before the time runs out and it falls over is one point gained by the player. "
     },
     "metadata": {}
    },
    {
     "output_type": "display_data",
     "data": {
      "text/plain": "<IPython.core.display.Markdown object>",
      "text/markdown": "----------"
     },
     "metadata": {}
    },
    {
     "output_type": "display_data",
     "data": {
      "text/plain": "<IPython.core.display.Markdown object>",
      "text/markdown": "### Game:"
     },
     "metadata": {}
    },
    {
     "output_type": "display_data",
     "data": {
      "text/plain": "<IPython.core.display.HTML object>",
      "text/html": "<div style=\"margin-left: 0px\">(define (game many-objects-15) (:domain many-objects-room-v1) </div>\r\n<div style=\"margin-left: 0px\">(:setup </div>\r\n<div style=\"margin-left: 20px\">(and </div>\r\n<div style=\"margin-left: 40px\"><span style=\"\">(forall</span> <span style=\"\">(<span style=\"\">?b - (either cube_block tall_cylindrical_block short_cylindrical_block)</span> <span style=\"\">?r - room_center</span>)</span> </div>\r\n<div style=\"margin-left: 60px\">(game-optional </div>\r\n<div style=\"margin-left: 80px\">(< <span style=\"\">(distance ?r ?b)</span> 1) </div>\r\n<div style=\"margin-left: 60px\">) </div>\r\n<div style=\"margin-left: 40px\"><span style=\"\">)</span> </div>\r\n<div style=\"margin-left: 20px\">) </div>\r\n<div style=\"margin-left: 0px\">) </div>\r\n<div style=\"margin-left: 0px\">(:constraints </div>\r\n<div style=\"margin-left: 20px\">(and </div>\r\n<div style=\"margin-left: 40px\">(preference blockOnFloor </div>\r\n<div style=\"margin-left: 60px\"><span style=\"\">(exists</span> <span style=\"\">(<span style=\"\">?b - (either cube_block tall_cylindrical_block short_cylindrical_block)</span>)</span> </div>\r\n<div style=\"margin-left: 80px\">(at-end </div>\r\n<div style=\"margin-left: 100px; color: #ff7f0e\">(and </div>\r\n<div style=\"margin-left: 120px; color: #ff7f0e\"><span style=\"color: #ff7f0e\">(adjacent agent ?b)</span> </div>\r\n<div style=\"margin-left: 120px; color: #ff7f0e\"><span style=\"color: #ff7f0e\">(touch agent ?b)</span> </div>\r\n<div style=\"margin-left: 100px; color: #ff7f0e\">) </div>\r\n<div style=\"margin-left: 80px\">) </div>\r\n<div style=\"margin-left: 60px\"><span style=\"\">)</span> </div>\r\n<div style=\"margin-left: 40px\">) </div>\r\n<div style=\"margin-left: 40px\">(preference blockOnBlock </div>\r\n<div style=\"margin-left: 60px\"><span style=\"\">(exists</span> <span style=\"\">(<span style=\"\">?b1 - (either cube_block tall_cylindrical_block short_cylindrical_block)</span>)</span> </div>\r\n<div style=\"margin-left: 80px\">(at-end </div>\r\n<div style=\"margin-left: 100px\">(and </div>\r\n<div style=\"margin-left: 120px\"><span style=\"\">(in_building ?b1)</span> </div>\r\n<div style=\"margin-left: 120px; color: #1f77b4\"><span style=\"color: #1f77b4\">(exists</span> <span style=\"color: #1f77b4\">(<span style=\"color: #1f77b4\">?o2 - game_object</span>)</span> </div>\r\n<div style=\"margin-left: 140px; color: #1f77b4\">(and </div>\r\n<div style=\"color: #1f77b4; margin-left: 160px\">(not </div>\r\n<div style=\"color: #1f77b4; margin-left: 180px\"><span style=\"color: #1f77b4\">(= ?b1 ?o2)</span> </div>\r\n<div style=\"color: #1f77b4; margin-left: 160px\">) </div>\r\n<div style=\"color: #1f77b4; margin-left: 160px\"><span style=\"color: #1f77b4\">(in_building ?o2)</span> </div>\r\n<div style=\"color: #1f77b4; margin-left: 160px\"><span style=\"color: #1f77b4\">(on ?o2 ?b1)</span> </div>\r\n<div style=\"margin-left: 140px; color: #1f77b4\">) </div>\r\n<div style=\"margin-left: 120px; color: #1f77b4\"><span style=\"color: #1f77b4\">)</span> </div>\r\n<div style=\"margin-left: 100px\">) </div>\r\n<div style=\"margin-left: 80px\">) </div>\r\n<div style=\"margin-left: 60px\"><span style=\"\">)</span> </div>\r\n<div style=\"margin-left: 40px\">) </div>\r\n<div style=\"margin-left: 20px\">) </div>\r\n<div style=\"margin-left: 0px\">) </div>\r\n<div style=\"margin-left: 0px\">(:scoring </div>\r\n<div style=\"margin-left: 20px\">maximize </div>\r\n<div style=\"margin-left: 40px\">(+ <span style=\"\">(count-once blockOnFloor)</span> <span style=\"\">(count-once-per-objects blockOnBlock)</span> ) </div>\r\n<div style=\"margin-left: 0px\">) </div>\r\n<div style=\"margin-left: 0px\">) </div>"
     },
     "metadata": {}
    }
   ],
   "source": [
    "visualize(second_step_mutations_dict[INDICES_TO_MUTATE[6]], 4)"
   ]
  },
  {
   "cell_type": "code",
   "execution_count": 150,
   "metadata": {},
   "outputs": [
    {
     "output_type": "stream",
     "name": "stdout",
     "text": [
      "With random seed 2, mutated:\n\n"
     ]
    },
    {
     "output_type": "display_data",
     "data": {
      "text/plain": "<IPython.core.display.Markdown object>",
      "text/markdown": "### Original Description:"
     },
     "metadata": {}
    },
    {
     "output_type": "display_data",
     "data": {
      "text/plain": "<IPython.core.display.Markdown object>",
      "text/markdown": "**Setup:** Textbook, laptop, cellphone and doggie bed. "
     },
     "metadata": {}
    },
    {
     "output_type": "display_data",
     "data": {
      "text/plain": "<IPython.core.display.Markdown object>",
      "text/markdown": "**Gameplay:** The game consists of throwing objects on the doggie bed. You have three objects to throw a textbook, laptop and a cellphone. Landing any of the aforementioned objects on the bed gives you points; 15 points the cellphone, 10 the textbook and 5 the laptop."
     },
     "metadata": {}
    },
    {
     "output_type": "display_data",
     "data": {
      "text/plain": "<IPython.core.display.Markdown object>",
      "text/markdown": "**Scoring:** Landing the cellphone on the bed gives you 15 points, the textbook 10 points and the laptop 5 points."
     },
     "metadata": {}
    },
    {
     "output_type": "display_data",
     "data": {
      "text/plain": "<IPython.core.display.Markdown object>",
      "text/markdown": "----------"
     },
     "metadata": {}
    },
    {
     "output_type": "display_data",
     "data": {
      "text/plain": "<IPython.core.display.Markdown object>",
      "text/markdown": "### Game:"
     },
     "metadata": {}
    },
    {
     "output_type": "display_data",
     "data": {
      "text/plain": "<IPython.core.display.HTML object>",
      "text/html": "<div style=\"margin-left: 0px\">(define (game few-objects-9) (:domain few-objects-room-v1) </div>\r\n<div style=\"margin-left: 0px\">(:setup </div>\r\n<div style=\"margin-left: 20px\">) </div>\r\n<div style=\"margin-left: 0px\">(:constraints </div>\r\n<div style=\"margin-left: 20px\">(and </div>\r\n<div style=\"margin-left: 40px\">(preference cellPhoneThrownOnDoggieBed </div>\r\n<div style=\"margin-left: 60px\"><span style=\"\">(exists</span> <span style=\"\">(<span style=\"\">?d - doggie_bed</span> <span style=\"\">?c - cellphone</span>)</span> </div>\r\n<div style=\"margin-left: 80px\">(then </div>\r\n<div style=\"margin-left: 100px\">(once <span style=\"\">(agent_holds ?c)</span> ) </div>\r\n<div style=\"margin-left: 100px\">(hold <span style=\"\"> (and <span style=\"\"> (not <span style=\"\">(agent_holds ?c)</span> ) </span> <span style=\"\">(in_motion ?c)</span> ) </span> ) </div>\r\n<div style=\"margin-left: 100px\">(once <span style=\"\"> (and <span style=\"color: #1f77b4\">(adjacent ?d ?c)</span> <span style=\"\"> (not <span style=\"\">(in_motion ?c)</span> ) </span> ) </span> ) </div>\r\n<div style=\"margin-left: 80px\">) </div>\r\n<div style=\"margin-left: 60px\"><span style=\"\">)</span> </div>\r\n<div style=\"margin-left: 40px\">) </div>\r\n<div style=\"margin-left: 40px\">(preference textbookThrownOnDoggieBed </div>\r\n<div style=\"margin-left: 60px\"><span style=\"\">(exists</span> <span style=\"\">(<span style=\"\">?d - doggie_bed</span> <span style=\"\">?t - textbook</span>)</span> </div>\r\n<div style=\"margin-left: 80px\">(then </div>\r\n<div style=\"margin-left: 100px\">(once <span style=\"\">(agent_holds ?t)</span> ) </div>\r\n<div style=\"margin-left: 100px\">(hold <span style=\"\"> (and <span style=\"\"> (not <span style=\"\">(agent_holds ?t)</span> ) </span> <span style=\"\">(in_motion ?t)</span> ) </span> ) </div>\r\n<div style=\"margin-left: 100px\">(once <span style=\"\"> (and <span style=\"\">(on ?d ?t)</span> <span style=\"\"> (not <span style=\"\">(in_motion ?t)</span> ) </span> ) </span> ) </div>\r\n<div style=\"margin-left: 80px\">) </div>\r\n<div style=\"margin-left: 60px\"><span style=\"\">)</span> </div>\r\n<div style=\"margin-left: 40px\">) </div>\r\n<div style=\"margin-left: 40px\">(preference laptopThrownOnDoggieBed </div>\r\n<div style=\"margin-left: 60px\"><span style=\"\">(exists</span> <span style=\"\">(<span style=\"\">?d - doggie_bed</span> <span style=\"\">?l - laptop</span>)</span> </div>\r\n<div style=\"margin-left: 80px\">(then </div>\r\n<div style=\"margin-left: 100px\">(once <span style=\"\">(agent_holds ?l)</span> ) </div>\r\n<div style=\"margin-left: 100px\">(hold <span style=\"\"> (and <span style=\"\"> (not <span style=\"\">(agent_holds ?l)</span> ) </span> <span style=\"\">(in_motion ?l)</span> ) </span> ) </div>\r\n<div style=\"margin-left: 100px\">(once <span style=\"\"> (and <span style=\"\">(on ?d ?l)</span> <span style=\"\"> (not <span style=\"\">(in_motion ?d)</span> ) </span> ) </span> ) </div>\r\n<div style=\"margin-left: 80px\">) </div>\r\n<div style=\"margin-left: 60px\"><span style=\"\">)</span> </div>\r\n<div style=\"margin-left: 40px\">) </div>\r\n<div style=\"margin-left: 20px\">) </div>\r\n<div style=\"margin-left: 0px\">) </div>\r\n<div style=\"margin-left: 0px\">(:scoring </div>\r\n<div style=\"margin-left: 20px\">maximize </div>\r\n<div style=\"margin-left: 40px\">(+ (* 15 <span style=\"\">(count-nonoverlapping cellPhoneThrownOnDoggieBed)</span> ) </div>\r\n<div style=\"margin-left: 60px\">(* 10 <span style=\"\">(count-nonoverlapping textbookThrownOnDoggieBed)</span> ) </div>\r\n<div style=\"color: #ff7f0e; margin-left: 60px\">(* 5 <span style=\"color: #ff7f0e\">(count-once-per-objects laptopThrownOnDoggieBed)</span> ) </div>\r\n<div style=\"margin-left: 40px\">) </div>\r\n<div style=\"margin-left: 0px\">) </div>\r\n<div style=\"margin-left: 0px\">) </div>"
     },
     "metadata": {}
    }
   ],
   "source": [
    "visualize(second_step_mutations_dict[INDICES_TO_MUTATE[4]], 2)"
   ]
  },
  {
   "source": [
    "# Selected games with longer mutations\n",
    "\n",
    "They tend to be less coherent, so I didn't prioritize them early, but here are a couple:"
   ],
   "cell_type": "markdown",
   "metadata": {}
  },
  {
   "source": [
    "Here's one where an entire (then ...) block is replaced, but the main problem arises from the variable replacement. Any variable defined in the original block that doesn't exist in the current block (say, `?b`) gets randomly replaced with a variable that is valid in the current context (say, `?h`).\n",
    "\n",
    "So here, we end up with a game that starts with the agent holding a dodgeball, and then continue to the agent not holding the dodgeball while the hexagonal bin is in motion, and ending with the wall not being in motion. That's not quite right. "
   ],
   "cell_type": "markdown",
   "metadata": {}
  },
  {
   "cell_type": "code",
   "execution_count": 158,
   "metadata": {},
   "outputs": [
    {
     "output_type": "stream",
     "name": "stdout",
     "text": [
      "With random seed 109, mutated:\n\n"
     ]
    },
    {
     "output_type": "display_data",
     "data": {
      "text/plain": "<IPython.core.display.Markdown object>",
      "text/markdown": "### Original Description:"
     },
     "metadata": {}
    },
    {
     "output_type": "display_data",
     "data": {
      "text/plain": "<IPython.core.display.Markdown object>",
      "text/markdown": "**Setup:** Place the hexagonal bin at one end of the room "
     },
     "metadata": {}
    },
    {
     "output_type": "display_data",
     "data": {
      "text/plain": "<IPython.core.display.Markdown object>",
      "text/markdown": "**Gameplay:** Use the dodgeball to aim into the hexagonal\nBin from the other side of the room. Like shooting hoops. "
     },
     "metadata": {}
    },
    {
     "output_type": "display_data",
     "data": {
      "text/plain": "<IPython.core.display.Markdown object>",
      "text/markdown": "**Scoring:** 1 point for every dodgeball in the hexagonal bin. "
     },
     "metadata": {}
    },
    {
     "output_type": "display_data",
     "data": {
      "text/plain": "<IPython.core.display.Markdown object>",
      "text/markdown": "----------"
     },
     "metadata": {}
    },
    {
     "output_type": "display_data",
     "data": {
      "text/plain": "<IPython.core.display.Markdown object>",
      "text/markdown": "### Game:"
     },
     "metadata": {}
    },
    {
     "output_type": "display_data",
     "data": {
      "text/plain": "<IPython.core.display.HTML object>",
      "text/html": "<div style=\"margin-left: 0px\">(define (game medium-objects-14) (:domain medium-objects-room-v1) </div>\r\n<div style=\"margin-left: 0px\">(:setup </div>\r\n<div style=\"margin-left: 20px\"><span style=\"\">(exists</span> <span style=\"\">(<span style=\"\">?w - wall</span> <span style=\"\">?h - hexagonal_bin</span>)</span> </div>\r\n<div style=\"margin-left: 40px\">(game-conserved </div>\r\n<div style=\"margin-left: 60px\"><span style=\"\">(adjacent ?w ?h)</span> </div>\r\n<div style=\"margin-left: 40px\">) </div>\r\n<div style=\"margin-left: 20px\"><span style=\"\">)</span> </div>\r\n<div style=\"margin-left: 0px\">) </div>\r\n<div style=\"margin-left: 0px\">(:constraints </div>\r\n<div style=\"margin-left: 20px\">(and </div>\r\n<div style=\"margin-left: 40px\">(preference throwDodgeballToBin </div>\r\n<div style=\"margin-left: 60px\"><span style=\"\">(exists</span> <span style=\"\">(<span style=\"\">?d - dodgeball</span> <span style=\"\">?h - hexagonal_bin</span> <span style=\"\">?w1 ?w2 - wall</span>)</span> </div>\r\n<div style=\"color: #1f77b4; margin-left: 80px\">(then </div>\r\n<div style=\"margin-left: 100px; color: #1f77b4\">(once <span style=\"color: #1f77b4\">(agent_holds ?d)</span> ) </div>\r\n<div style=\"margin-left: 100px; color: #1f77b4\">(hold <span style=\"color: #1f77b4\"> (and <span style=\"color: #1f77b4\"> (not <span style=\"color: #1f77b4\">(agent_holds ?d)</span> ) </span> <span style=\"color: #1f77b4\">(in_motion ?h)</span> ) </span> ) </div>\r\n<div style=\"margin-left: 100px; color: #1f77b4\">(once <span style=\"color: #1f77b4\"> (not <span style=\"color: #1f77b4\">(in_motion ?w2)</span> ) </span> ) </div>\r\n<div style=\"color: #1f77b4; margin-left: 80px\">) </div>\r\n<div style=\"margin-left: 60px\"><span style=\"color: #1f77b4\">)</span> </div>\r\n<div style=\"margin-left: 40px\">) </div>\r\n<div style=\"margin-left: 20px\">) </div>\r\n<div style=\"margin-left: 0px\">) </div>\r\n<div style=\"margin-left: 0px\">(:scoring </div>\r\n<div style=\"margin-left: 20px\">maximize </div>\r\n<div style=\"margin-left: 40px\"><span style=\"\">(count-nonoverlapping throwDodgeballToBin)</span> </div>\r\n<div style=\"margin-left: 0px\">) </div>\r\n<div style=\"margin-left: 0px\">) </div>"
     },
     "metadata": {}
    }
   ],
   "source": [
    "visualize(single_step_mutated_asts, 8)"
   ]
  },
  {
   "source": [
    "Here's one where we replace effectively the entire setup, but the new setup makes no sense context in the of the gameplay constraints -- there's no mention of the large triangular ramps anywhere in gameplay."
   ],
   "cell_type": "markdown",
   "metadata": {}
  },
  {
   "cell_type": "code",
   "execution_count": 174,
   "metadata": {},
   "outputs": [
    {
     "output_type": "stream",
     "name": "stdout",
     "text": [
      "With random seed 176, mutated:\n\n"
     ]
    },
    {
     "output_type": "display_data",
     "data": {
      "text/plain": "<IPython.core.display.Markdown object>",
      "text/markdown": "### Original Description:"
     },
     "metadata": {}
    },
    {
     "output_type": "display_data",
     "data": {
      "text/plain": "<IPython.core.display.Markdown object>",
      "text/markdown": "**Setup:** Set up, in the room's open space, the curved wooden ramp to be directly facing the hexagonal bin. Place the dodgeball roughly 1 metre away from the base of the curved wooden ramp. Use the textbook to mark a distance for the dodgeball."
     },
     "metadata": {}
    },
    {
     "output_type": "display_data",
     "data": {
      "text/plain": "<IPython.core.display.Markdown object>",
      "text/markdown": "**Gameplay:** Attempt to kick the dodgeball into the hexagonal bin, using the ramp as a way to lift the ball. Do this 10 times."
     },
     "metadata": {}
    },
    {
     "output_type": "display_data",
     "data": {
      "text/plain": "<IPython.core.display.Markdown object>",
      "text/markdown": "**Scoring:** Count how many times, out of 10, you manage to get the dodgeball into the hexagonal bin."
     },
     "metadata": {}
    },
    {
     "output_type": "display_data",
     "data": {
      "text/plain": "<IPython.core.display.Markdown object>",
      "text/markdown": "----------"
     },
     "metadata": {}
    },
    {
     "output_type": "display_data",
     "data": {
      "text/plain": "<IPython.core.display.Markdown object>",
      "text/markdown": "### Game:"
     },
     "metadata": {}
    },
    {
     "output_type": "display_data",
     "data": {
      "text/plain": "<IPython.core.display.HTML object>",
      "text/html": "<div style=\"margin-left: 0px\">(define (game few-objects-5) (:domain few-objects-room-v1) </div>\r\n<div style=\"margin-left: 0px\">(:setup </div>\r\n<div style=\"margin-left: 20px\">(and </div>\r\n<div style=\"color: #1f77b4; margin-left: 40px\"><span style=\"color: #1f77b4\">(exists</span> <span style=\"color: #1f77b4\">(<span style=\"color: #1f77b4\">?r1 ?r2 - large_triangular_ramp</span>)</span> </div>\r\n<div style=\"color: #1f77b4; margin-left: 60px\">(game-conserved </div>\r\n<div style=\"color: #1f77b4; margin-left: 80px\">(and </div>\r\n<div style=\"margin-left: 100px; color: #1f77b4\">(<= <span style=\"color: #1f77b4\">(distance ?r1 ?r2)</span> 0.5) </div>\r\n<div style=\"color: #1f77b4; margin-left: 80px\">) </div>\r\n<div style=\"color: #1f77b4; margin-left: 60px\">) </div>\r\n<div style=\"color: #1f77b4; margin-left: 40px\"><span style=\"color: #1f77b4\">)</span> </div>\r\n<div style=\"margin-left: 20px\">) </div>\r\n<div style=\"margin-left: 0px\">) </div>\r\n<div style=\"margin-left: 0px\">(:constraints </div>\r\n<div style=\"margin-left: 20px\">(and </div>\r\n<div style=\"margin-left: 40px\">(preference kickBallToBin </div>\r\n<div style=\"margin-left: 60px\"><span style=\"\">(exists</span> <span style=\"\">(<span style=\"\">?d - dodgeball</span> <span style=\"\">?r - curved_wooden_ramp</span> <span style=\"\">?h - hexagonal_bin</span> <span style=\"\">?t - textbook</span>)</span> </div>\r\n<div style=\"margin-left: 80px\">(then </div>\r\n<div style=\"margin-left: 100px\">(once <span style=\"\"> (and <span style=\"\">(adjacent agent ?t)</span> <span style=\"\">(touch agent ?d)</span> ) </span> ) </div>\r\n<div style=\"margin-left: 100px\">(hold-while <span style=\"\"> (and <span style=\"\"> (not <span style=\"\">(agent_holds ?d)</span> ) </span> <span style=\"\">(in_motion ?d)</span> ) </span> <span style=\"\">(on ?r ?d)</span> ) </div>\r\n<div style=\"margin-left: 100px\">(once <span style=\"\"> (and <span style=\"\">(on ?h ?d)</span> <span style=\"\"> (not <span style=\"\">(in_motion ?d)</span> ) </span> ) </span> ) </div>\r\n<div style=\"margin-left: 80px\">) </div>\r\n<div style=\"margin-left: 60px\"><span style=\"\">)</span> </div>\r\n<div style=\"margin-left: 40px\">) </div>\r\n<div style=\"margin-left: 40px\">(preference ballKicked </div>\r\n<div style=\"margin-left: 60px\"><span style=\"\">(exists</span> <span style=\"\">(<span style=\"\">?d - dodgeball</span>)</span> </div>\r\n<div style=\"margin-left: 80px\">(then </div>\r\n<div style=\"margin-left: 100px\">(once <span style=\"\"> (and <span style=\"\">(adjacent agent ?d)</span> <span style=\"\">(touch agent ?d)</span> ) </span> ) </div>\r\n<div style=\"margin-left: 100px\">(hold <span style=\"\"> (and <span style=\"\"> (not <span style=\"\">(agent_holds ?d)</span> ) </span> <span style=\"\">(in_motion ?d)</span> ) </span> ) </div>\r\n<div style=\"margin-left: 100px\">(once <span style=\"\"> (not <span style=\"\">(in_motion ?d)</span> ) </span> ) </div>\r\n<div style=\"margin-left: 80px\">) </div>\r\n<div style=\"margin-left: 60px\"><span style=\"\">)</span> </div>\r\n<div style=\"margin-left: 40px\">) </div>\r\n<div style=\"margin-left: 20px\">) </div>\r\n<div style=\"margin-left: 0px\">) </div>\r\n<div style=\"margin-left: 0px\">(:terminal </div>\r\n<div style=\"margin-left: 20px\">(>= <span style=\"\">(count-nonoverlapping ballKicked)</span> 10 ) </div>\r\n<div style=\"margin-left: 0px\">) </div>\r\n<div style=\"margin-left: 0px\">(:scoring </div>\r\n<div style=\"margin-left: 20px\">maximize </div>\r\n<div style=\"margin-left: 40px\"><span style=\"\">(count-nonoverlapping kickBallToBin)</span> </div>\r\n<div style=\"margin-left: 0px\">) </div>\r\n<div style=\"margin-left: 0px\">) </div>"
     },
     "metadata": {}
    }
   ],
   "source": [
    "visualize(single_step_mutated_asts, 64)"
   ]
  },
  {
   "source": [
    "Here's another example -- the preference `ballEndedonCD` ended up being repurposed for the agent throwing a beachball and knocking over a block (agent starts holding ball while block is on the floro, and then the block is touched by the ball and becomes in motion).\n",
    "\n",
    "I guess that it works by itself, but doesn't necesarily make semantic sense within the context of the rest of the game? Definitely valid, though."
   ],
   "cell_type": "markdown",
   "metadata": {}
  },
  {
   "cell_type": "code",
   "execution_count": 182,
   "metadata": {},
   "outputs": [
    {
     "output_type": "stream",
     "name": "stdout",
     "text": [
      "With random seed 120, mutated:\n\n"
     ]
    },
    {
     "output_type": "display_data",
     "data": {
      "text/plain": "<IPython.core.display.Markdown object>",
      "text/markdown": "### Original Description:"
     },
     "metadata": {}
    },
    {
     "output_type": "display_data",
     "data": {
      "text/plain": "<IPython.core.display.Markdown object>",
      "text/markdown": "**Setup:** 3 golfballs, CD, poster, rug"
     },
     "metadata": {}
    },
    {
     "output_type": "display_data",
     "data": {
      "text/plain": "<IPython.core.display.Markdown object>",
      "text/markdown": "**Gameplay:** This game is really simple, place your rug away from you, put your poster on it, and then put your CD in the middle of your poster. Your goal is to roll a ball into that cd. You have 3 balls, and 3 areas that give you points. You can roll 1 ball only once, however when your first ball is on the rug, you can move it by hitting it with the next ball, so it moves into the poster. The game ends when you already used your 3 balls."
     },
     "metadata": {}
    },
    {
     "output_type": "display_data",
     "data": {
      "text/plain": "<IPython.core.display.Markdown object>",
      "text/markdown": "**Scoring:** If the ball is on the tug, you gain 1 point, if the ball is on the poster, you gain 2 points, and if your ball is on CD you gain 3 points. You gain 0 points for the ball that is on the floor instead of this 3 areas."
     },
     "metadata": {}
    },
    {
     "output_type": "display_data",
     "data": {
      "text/plain": "<IPython.core.display.Markdown object>",
      "text/markdown": "----------"
     },
     "metadata": {}
    },
    {
     "output_type": "display_data",
     "data": {
      "text/plain": "<IPython.core.display.Markdown object>",
      "text/markdown": "### Game:"
     },
     "metadata": {}
    },
    {
     "output_type": "display_data",
     "data": {
      "text/plain": "<IPython.core.display.HTML object>",
      "text/html": "<div style=\"margin-left: 0px\">(define (game many-objects-29) (:domain many-objects-room-v1) </div>\r\n<div style=\"margin-left: 0px\">(:setup </div>\r\n<div style=\"margin-left: 20px\">(and </div>\r\n<div style=\"margin-left: 40px\"><span style=\"\">(exists</span> <span style=\"\">(<span style=\"\">?r - rug</span> <span style=\"\">?p - poster</span> <span style=\"\">?c - cd</span>)</span> </div>\r\n<div style=\"margin-left: 60px\">(game-conserved </div>\r\n<div style=\"margin-left: 80px\">(and </div>\r\n<div style=\"margin-left: 100px\"><span style=\"\">(on ?r ?p)</span> </div>\r\n<div style=\"margin-left: 100px\"><span style=\"\">(on ?p ?c)</span> </div>\r\n<div style=\"margin-left: 80px\">) </div>\r\n<div style=\"margin-left: 60px\">) </div>\r\n<div style=\"margin-left: 40px\"><span style=\"\">)</span> </div>\r\n<div style=\"margin-left: 20px\">) </div>\r\n<div style=\"margin-left: 0px\">) </div>\r\n<div style=\"margin-left: 0px\">(:constraints </div>\r\n<div style=\"margin-left: 20px\">(and </div>\r\n<div style=\"margin-left: 40px\">(preference golfballThrown </div>\r\n<div style=\"margin-left: 60px\"><span style=\"\">(exists</span> <span style=\"\">(<span style=\"\">?g - golfball</span> <span style=\"\">?b - bed</span>)</span> </div>\r\n<div style=\"margin-left: 80px\">(then </div>\r\n<div style=\"margin-left: 100px\">(once <span style=\"\"> (and <span style=\"\">(agent_holds ?g)</span> <span style=\"\">(on ?b agent)</span> ) </span> ) </div>\r\n<div style=\"margin-left: 100px\">(hold <span style=\"\"> (and <span style=\"\"> (not <span style=\"\">(agent_holds ?g)</span> ) </span> <span style=\"\">(in_motion ?g)</span> ) </span> ) </div>\r\n<div style=\"margin-left: 100px\">(hold-to-end <span style=\"\"> (not <span style=\"\">(agent_holds ?g)</span> ) </span> ) </div>\r\n<div style=\"margin-left: 80px\">) </div>\r\n<div style=\"margin-left: 60px\"><span style=\"\">)</span> </div>\r\n<div style=\"margin-left: 40px\">) </div>\r\n<div style=\"margin-left: 40px\">(preference ballEndedOnCD </div>\r\n<div style=\"color: #1f77b4; margin-left: 60px\"><span style=\"color: #1f77b4\">(exists</span> <span style=\"color: #1f77b4\">(<span style=\"color: #1f77b4\">?b - beachball</span> <span style=\"color: #1f77b4\">?c - (either pyramid_block tall_cylindrical_block)</span> <span style=\"color: #1f77b4\">?f - floor</span>)</span> </div>\r\n<div style=\"color: #1f77b4; margin-left: 80px\">(then </div>\r\n<div style=\"margin-left: 100px; color: #1f77b4\">(once <span style=\"color: #1f77b4\"> (and <span style=\"color: #1f77b4\">(agent_holds ?b)</span> <span style=\"color: #1f77b4\">(on ?f ?c)</span> ) </span> ) </div>\r\n<div style=\"margin-left: 100px; color: #1f77b4\">(hold-while <span style=\"color: #1f77b4\"> (and <span style=\"color: #1f77b4\"> (not <span style=\"color: #1f77b4\">(agent_holds ?b)</span> ) </span> <span style=\"color: #1f77b4\">(in_motion ?b)</span> <span style=\"color: #1f77b4\"> (not <span style=\"color: #1f77b4\">(agent_holds ?c)</span> ) </span> ) </span> <span style=\"color: #1f77b4\">(touch ?b ?c)</span> <span style=\"color: #1f77b4\">(in_motion ?c)</span> ) </div>\r\n<div style=\"color: #1f77b4; margin-left: 80px\">) </div>\r\n<div style=\"color: #1f77b4; margin-left: 60px\"><span style=\"color: #1f77b4\">)</span> </div>\r\n<div style=\"margin-left: 40px\">) </div>\r\n<div style=\"margin-left: 40px\">(preference ballEndedOnPoster </div>\r\n<div style=\"margin-left: 60px\"><span style=\"\">(exists</span> <span style=\"\">(<span style=\"\">?g - golfball</span>)</span> </div>\r\n<div style=\"margin-left: 80px\">(at-end </div>\r\n<div style=\"margin-left: 100px\"><span style=\"\">(on poster ?g)</span> </div>\r\n<div style=\"margin-left: 80px\">) </div>\r\n<div style=\"margin-left: 60px\"><span style=\"\">)</span> </div>\r\n<div style=\"margin-left: 40px\">) </div>\r\n<div style=\"margin-left: 40px\">(preference ballEndedOnRug </div>\r\n<div style=\"margin-left: 60px\"><span style=\"\">(exists</span> <span style=\"\">(<span style=\"\">?g - golfball</span>)</span> </div>\r\n<div style=\"margin-left: 80px\">(at-end </div>\r\n<div style=\"margin-left: 100px\"><span style=\"\">(on rug ?g)</span> </div>\r\n<div style=\"margin-left: 80px\">) </div>\r\n<div style=\"margin-left: 60px\"><span style=\"\">)</span> </div>\r\n<div style=\"margin-left: 40px\">) </div>\r\n<div style=\"margin-left: 40px\">(preference throwAttempt </div>\r\n<div style=\"margin-left: 60px\"><span style=\"\">(exists</span> <span style=\"\">(<span style=\"\">?g - golfball</span>)</span> </div>\r\n<div style=\"margin-left: 80px\">(then </div>\r\n<div style=\"margin-left: 100px\">(once <span style=\"\">(agent_holds ?g)</span> ) </div>\r\n<div style=\"margin-left: 100px\">(hold <span style=\"\"> (and <span style=\"\"> (not <span style=\"\">(agent_holds ?g)</span> ) </span> <span style=\"\">(in_motion ?g)</span> ) </span> ) </div>\r\n<div style=\"margin-left: 100px\">(once <span style=\"\"> (not <span style=\"\">(in_motion ?g)</span> ) </span> ) </div>\r\n<div style=\"margin-left: 80px\">) </div>\r\n<div style=\"margin-left: 60px\"><span style=\"\">)</span> </div>\r\n<div style=\"margin-left: 40px\">) </div>\r\n<div style=\"margin-left: 20px\">) </div>\r\n<div style=\"margin-left: 0px\">) </div>\r\n<div style=\"margin-left: 0px\">(:terminal </div>\r\n<div style=\"margin-left: 20px\">(>= <span style=\"\">(count-once-per-objects throwAttempt)</span> 3 ) </div>\r\n<div style=\"margin-left: 0px\">) </div>\r\n<div style=\"margin-left: 0px\">(:scoring </div>\r\n<div style=\"margin-left: 20px\">maximize </div>\r\n<div style=\"margin-left: 40px\">(+ (* 1 <span style=\"\">(count-nonoverlapping ballEndedOnRug)</span> ) </div>\r\n<div style=\"margin-left: 60px\">(* 2 <span style=\"\">(count-nonoverlapping ballEndedOnPoster)</span> ) </div>\r\n<div style=\"margin-left: 60px\">(* 3 <span style=\"\">(count-nonoverlapping ballEndedOnCD)</span> ) </div>\r\n<div style=\"margin-left: 40px\">) </div>\r\n<div style=\"margin-left: 0px\">) </div>\r\n<div style=\"margin-left: 0px\">) </div>"
     },
     "metadata": {}
    }
   ],
   "source": [
    "visualize(single_step_mutated_asts, 18)"
   ]
  },
  {
   "source": [
    "Another example of replacing an entire preference (then ...) block going awry. It's broken from the first term, which claims the preference starts from a state where the agent holds the ramp and is standing on the ramp..."
   ],
   "cell_type": "markdown",
   "metadata": {}
  },
  {
   "cell_type": "code",
   "execution_count": 188,
   "metadata": {},
   "outputs": [
    {
     "output_type": "stream",
     "name": "stdout",
     "text": [
      "With random seed 172, mutated:\n\n"
     ]
    },
    {
     "output_type": "display_data",
     "data": {
      "text/plain": "<IPython.core.display.Markdown object>",
      "text/markdown": "### Original Description:"
     },
     "metadata": {}
    },
    {
     "output_type": "display_data",
     "data": {
      "text/plain": "<IPython.core.display.Markdown object>",
      "text/markdown": "**Setup:** nan"
     },
     "metadata": {}
    },
    {
     "output_type": "display_data",
     "data": {
      "text/plain": "<IPython.core.display.Markdown object>",
      "text/markdown": "**Gameplay:** Sort the geometrical shapes (pyramidal blocks, bridge blocks, golfballs, tall cylindrical blocks, triangle ramps, cube blocks, tall cylindrical blocks, short cylindrical blocks, flat rectangular blocks, dodgeballs) by shape and colour, from smallest to largest and by colour in a particular order decided beforehand; the order can differ from game to game, but it must be decided before starting the game."
     },
     "metadata": {}
    },
    {
     "output_type": "display_data",
     "data": {
      "text/plain": "<IPython.core.display.Markdown object>",
      "text/markdown": "**Scoring:** For each item correctly placed before the time runs out the player gets 1 point. The maximum allowed time is 2 minutes and the aim is to sort as many items as possible in that time and when the participant sorts all of the items in less than 2 minutes, he can try to beat his score by decreasing the allowed time."
     },
     "metadata": {}
    },
    {
     "output_type": "display_data",
     "data": {
      "text/plain": "<IPython.core.display.Markdown object>",
      "text/markdown": "----------"
     },
     "metadata": {}
    },
    {
     "output_type": "display_data",
     "data": {
      "text/plain": "<IPython.core.display.Markdown object>",
      "text/markdown": "### Game:"
     },
     "metadata": {}
    },
    {
     "output_type": "display_data",
     "data": {
      "text/plain": "<IPython.core.display.HTML object>",
      "text/html": "<div style=\"margin-left: 0px\">(define (game many-objects-31) (:domain many-objects-room-v1) </div>\r\n<div style=\"margin-left: 0px\">(:setup </div>\r\n<div style=\"margin-left: 20px\">) </div>\r\n<div style=\"margin-left: 0px\">(:constraints </div>\r\n<div style=\"margin-left: 20px\">(and </div>\r\n<div style=\"margin-left: 40px\">(preference agentOnRampOnEdge </div>\r\n<div style=\"margin-left: 60px\"><span style=\"\">(exists</span> <span style=\"\">(<span style=\"\">?r - large_triangular_ramp</span>)</span> </div>\r\n<div style=\"color: #1f77b4; margin-left: 80px\">(then </div>\r\n<div style=\"margin-left: 100px; color: #1f77b4\">(once <span style=\"color: #1f77b4\"> (and <span style=\"color: #1f77b4\">(agent_holds ?r)</span> <span style=\"color: #1f77b4\">(on ?r agent)</span> ) </span> ) </div>\r\n<div style=\"margin-left: 100px; color: #1f77b4\">(hold <span style=\"color: #1f77b4\"> (and <span style=\"color: #1f77b4\"> (not <span style=\"color: #1f77b4\">(agent_holds ?r)</span> ) </span> <span style=\"color: #1f77b4\">(in_motion ?r)</span> ) </span> ) </div>\r\n<div style=\"margin-left: 100px; color: #1f77b4\">(once <span style=\"color: #1f77b4\"> (and <span style=\"color: #1f77b4\"> (not <span style=\"color: #1f77b4\">(in_motion ?r)</span> ) </span> <span style=\"color: #1f77b4\">(forall</span> <span style=\"color: #1f77b4\">(<span style=\"color: #1f77b4\">?h - hexagonal_bin</span>)</span> <span style=\"color: #1f77b4\"> (not <span style=\"color: #1f77b4\">(on ?h ?r)</span> ) </span> <span style=\"color: #1f77b4\">)</span> ) </span> ) </div>\r\n<div style=\"color: #1f77b4; margin-left: 80px\">) </div>\r\n<div style=\"margin-left: 60px\"><span style=\"color: #1f77b4\">)</span> </div>\r\n<div style=\"margin-left: 40px\">) </div>\r\n<div style=\"margin-left: 20px\">) </div>\r\n<div style=\"margin-left: 0px\">) </div>\r\n<div style=\"margin-left: 0px\">(:scoring </div>\r\n<div style=\"margin-left: 20px\">maximize </div>\r\n<div style=\"margin-left: 40px\">(+ (* 10 (> <span style=\"\">(count-longest agentOnRampOnEdge)</span> 10 ) </div>\r\n<div style=\"margin-left: 60px\">) </div>\r\n<div style=\"margin-left: 60px\">(* 10 (> <span style=\"\">(count-longest agentOnRampOnEdge)</span> 20 ) </div>\r\n<div style=\"margin-left: 60px\">) </div>\r\n<div style=\"margin-left: 60px\">(* 10 (> <span style=\"\">(count-longest agentOnRampOnEdge)</span> 30 ) </div>\r\n<div style=\"margin-left: 60px\">) </div>\r\n<div style=\"margin-left: 60px\">(* 10 (> <span style=\"\">(count-longest agentOnRampOnEdge)</span> 40 ) </div>\r\n<div style=\"margin-left: 60px\">) </div>\r\n<div style=\"margin-left: 60px\">(* 10 (> <span style=\"\">(count-longest agentOnRampOnEdge)</span> 50 ) </div>\r\n<div style=\"margin-left: 60px\">) </div>\r\n<div style=\"margin-left: 60px\">(* 10 (> <span style=\"\">(count-longest agentOnRampOnEdge)</span> 60 ) </div>\r\n<div style=\"margin-left: 60px\">) </div>\r\n<div style=\"margin-left: 40px\">) </div>\r\n<div style=\"margin-left: 0px\">) </div>\r\n<div style=\"margin-left: 0px\">) </div>"
     },
     "metadata": {}
    }
   ],
   "source": [
    "visualize(single_step_mutated_asts, 60)"
   ]
  },
  {
   "source": [
    "# Debugging\n"
   ],
   "cell_type": "markdown",
   "metadata": {}
  },
  {
   "cell_type": "code",
   "execution_count": 171,
   "metadata": {
    "tags": []
   },
   "outputs": [
    {
     "output_type": "execute_result",
     "data": {
      "text/plain": [
       "array([ 6, 50, 64, 63, 49, 84, 47, 33, 37, 85,  3, 54,  7, 18, 26, 23, 39,\n",
       "       60, 32, 66, 42, 67, 68, 44,  8,  4, 81, 25, 36, 41, 83, 51, 45, 62,\n",
       "       28, 78, 22, 19, 17, 13, 69, 31, 55, 79, 53, 72, 73, 74, 38, 76, 46,\n",
       "       75, 12, 15, 24, 48, 20, 35,  9,  1,  2, 71, 77, 10, 11, 21, 27, 29,\n",
       "       59, 57, 56, 34, 52, 80, 65, 43, 82, 87, 61, 86, 40, 16,  5, 70, 58,\n",
       "       30, 14,  0])"
      ]
     },
     "metadata": {},
     "execution_count": 171
    }
   ],
   "source": [
    "import numpy as np\n",
    "mutations = [find_mutations(ast, should_print=False)[0][0] for ast in single_step_mutated_asts]\n",
    "np.argsort(mutations)"
   ]
  },
  {
   "cell_type": "code",
   "execution_count": 167,
   "metadata": {},
   "outputs": [
    {
     "output_type": "stream",
     "name": "stdout",
     "text": [
      "7 {'variables': [{'var_names': ['?r'], 'var_type': 'large_triangular_ramp', 'parseinfo': [None, 'variable_type_def', 137, 163, 0, 0]}], 'parseinfo': [None, 'variable_list', 135, 164, 0, 0], 'mutation': 0}\n"
     ]
    },
    {
     "output_type": "execute_result",
     "data": {
      "text/plain": [
       "[(7,\n",
       "  {'variables': [{'var_names': ['?r'], 'var_type': 'large_triangular_ramp', 'parseinfo': [None, 'variable_type_def', 137, 163, 0, 0]}], 'parseinfo': [None, 'variable_list', 135, 164, 0, 0], 'mutation': 0})]"
      ]
     },
     "metadata": {},
     "execution_count": 167
    }
   ],
   "source": []
  },
  {
   "cell_type": "code",
   "execution_count": 32,
   "metadata": {},
   "outputs": [
    {
     "output_type": "execute_result",
     "data": {
      "text/plain": [
       "['<div style=\"margin-left: 60px\"><span style=\"\">(exists</span> <span style=\"color: #1f77b4\">(<span style=\"\">?r - large_triangular_ramp</span>)</span> </div>']"
      ]
     },
     "metadata": {},
     "execution_count": 32
    }
   ],
   "source": [
    "new_ast_to_buffer(single_step_mutated_asts, 44)\n",
    "[line for line in ast_printer.BUFFER if 'color' in line]"
   ]
  },
  {
   "cell_type": "code",
   "execution_count": 33,
   "metadata": {},
   "outputs": [],
   "source": [
    "for idx, ast in enumerate(single_step_mutated_asts):\n",
    "    new_ast_to_buffer(single_step_mutated_asts, idx)\n",
    "    if sum(['color' in line for line in ast_printer.BUFFER]) == 0:\n",
    "        print(idx)"
   ]
  },
  {
   "cell_type": "code",
   "execution_count": null,
   "metadata": {},
   "outputs": [],
   "source": [
    "random.seed(0)\n",
    "src_ast = single_step_mutated_asts[INDICES_TO_MUTATE[0]][0]\n",
    "src_ast_copy = copy_ast(grammar_parser, src_ast)\n",
    "copy_mutation_tags(src_ast, src_ast_copy)"
   ]
  }
 ]
}
