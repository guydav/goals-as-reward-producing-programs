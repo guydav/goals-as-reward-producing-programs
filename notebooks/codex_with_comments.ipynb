{
 "cells": [
  {
   "cell_type": "code",
   "execution_count": 1,
   "metadata": {},
   "outputs": [],
   "source": [
    "%autoreload 2"
   ]
  },
  {
   "cell_type": "code",
   "execution_count": 2,
   "metadata": {},
   "outputs": [],
   "source": [
    "from collections import defaultdict\n",
    "import difflib\n",
    "import gzip\n",
    "import os\n",
    "import pickle\n",
    "import sys\n",
    "import time\n",
    "import typing\n",
    "\n",
    "from IPython.display import display, Markdown, HTML\n",
    "import numpy as np\n",
    "import tqdm.notebook as tqdm\n",
    "\n",
    "sys.path.append(os.path.abspath('..'))\n",
    "sys.path.append(os.path.abspath('../src'))\n",
    "from src.ast_utils import load_games_from_file, _extract_game_id"
   ]
  },
  {
   "cell_type": "code",
   "execution_count": 3,
   "metadata": {},
   "outputs": [],
   "source": [
    "import openai\n",
    "openai.api_key = os.getenv('OPENAI_API_KEY')"
   ]
  },
  {
   "cell_type": "code",
   "execution_count": 13,
   "metadata": {},
   "outputs": [],
   "source": [
    "game_texts = list(load_games_from_file('../dsl/interactive-beta.pddl'))\n",
    "game_texts_with_comments = list(load_games_from_file('../dsl/interactive-beta-with-comments.pddl'))"
   ]
  },
  {
   "cell_type": "code",
   "execution_count": null,
   "metadata": {},
   "outputs": [],
   "source": [
    "html_diff = difflib.HtmlDiff(wrapcolumn=60)\n",
    "\n",
    "def diff_by_index(index: int):\n",
    "    diff = html_diff.make_file(game_texts[index].splitlines(), game_texts_with_comments[index].splitlines())  #, context=True, numlines=0)\n",
    "    display(HTML(diff))\n",
    "\n",
    "\n",
    "for i in range(len(game_texts)):\n",
    "    if game_texts[i] != game_texts_with_comments[i]:\n",
    "        print(i)\n",
    "        print(game_texts[i][:42])\n",
    "        diff_by_index(i)"
   ]
  },
  {
   "cell_type": "code",
   "execution_count": 15,
   "metadata": {},
   "outputs": [],
   "source": [
    "SETUP_COMMENNT = '; SETUP:'\n",
    "PREFERENCE_COMMENT = '; PREFERENCE:'\n",
    "TERMINAL_COMMENT = '; TERMINAL:'\n",
    "SCORING_COMMENT = '; SCORING:'\n",
    "COMMENT_PREFIXES = [SETUP_COMMENNT, PREFERENCE_COMMENT, TERMINAL_COMMENT, SCORING_COMMENT]\n",
    "\n",
    "\n",
    "game_texts_with_comments = list(load_games_from_file('../dsl/interactive-beta-with-comments.pddl',\n",
    "    remove_comments=False, comment_prefixes_to_keep=COMMENT_PREFIXES))\n"
   ]
  },
  {
   "cell_type": "code",
   "execution_count": 16,
   "metadata": {},
   "outputs": [],
   "source": [
    "comments_by_type = defaultdict(list)\n",
    "for game_text in game_texts_with_comments:\n",
    "    for comment_prefix in COMMENT_PREFIXES:\n",
    "        comment_start_index = game_text.find(comment_prefix)\n",
    "        while comment_start_index != -1:\n",
    "            commend_end_index = game_text.find('\\n', comment_start_index)\n",
    "            comment = game_text[comment_start_index:commend_end_index]\n",
    "            comment_type = comment_prefix[2:-1]\n",
    "            comments_by_type[comment_type].append(comment)\n",
    "            comment_start_index = game_text.find(comment_prefix, commend_end_index)\n"
   ]
  },
  {
   "cell_type": "code",
   "execution_count": 61,
   "metadata": {},
   "outputs": [],
   "source": [
    "GAME_START = '(define'\n",
    "SETUP_SECTION = '(:setup'\n",
    "PREFERENCES_SECTION = '(:constraints'\n",
    "TERMINAL_SECTION = '(:terminal'\n",
    "SCORING_SECTION = '(:scoring'\n",
    "\n",
    "DEFAULT_CODEX_MODEL = \"code-davinci-002\"\n",
    "DEFAULT_TEMPERATURE = 0.67\n",
    "DEFAULT_MAX_TOKENS = 512\n",
    "DEFAULT_STOP_SEQUENCES = [';', PREFERENCES_SECTION, TERMINAL_SECTION, SCORING_SECTION]\n",
    "MAX_N = 10\n",
    "\n",
    "\n",
    "DEFAULT_COMPLETION_KWARGS = dict(\n",
    "    model=DEFAULT_CODEX_MODEL,\n",
    "    temperature=DEFAULT_TEMPERATURE,\n",
    "    max_tokens=DEFAULT_MAX_TOKENS,\n",
    "    stop=DEFAULT_STOP_SEQUENCES,\n",
    ")\n",
    "\n",
    "\n",
    "def generate_codex_completions(prompt: str, suffix: str, n: int, \n",
    "    completion_kwargs: typing.Optional[typing.Dict[str, typing.Any]],\n",
    "    ):\n",
    "\n",
    "    if n > MAX_N:\n",
    "        raise ValueError(f'n must be <= {MAX_N}')\n",
    "\n",
    "    if completion_kwargs is None:\n",
    "        completion_kwargs = DEFAULT_COMPLETION_KWARGS\n",
    "\n",
    "    else:\n",
    "        kwargs = DEFAULT_COMPLETION_KWARGS.copy()\n",
    "        kwargs.update(completion_kwargs)\n",
    "        completion_kwargs = kwargs\n",
    "\n",
    "    completion_kwargs['prompt'] = prompt\n",
    "    completion_kwargs['suffix'] = suffix\n",
    "    completion_kwargs['n'] = n\n",
    "\n",
    "    return openai.Completion.create(**completion_kwargs)"
   ]
  },
  {
   "cell_type": "code",
   "execution_count": 99,
   "metadata": {},
   "outputs": [],
   "source": [
    "GAMES_WITH_SETUP = set([i for i, g in enumerate(game_texts_with_comments) if SETUP_SECTION in g])\n",
    "GAMES_WITH_SETUP_LIST = list(GAMES_WITH_SETUP)\n",
    "GAMES_WITH_TERMINAL = set([i for i, g in enumerate(game_texts_with_comments) if TERMINAL_SECTION in g])\n",
    "GAMES_WITH_TERMINAL_LIST = list(GAMES_WITH_TERMINAL)\n",
    "\n",
    "\n",
    "def _verify_valid_comment(comment: str, section_comment_key: str) -> str:\n",
    "    if not comment.startswith(section_comment_key):\n",
    "        comment = f'{section_comment_key} {comment}'\n",
    "    return comment\n",
    "\n",
    "\n",
    "def generate_setup_prompt_and_suffix(comment: str, include_terminal: bool = False):\n",
    "    prompt = f'(define (game {np.random.randint(16 ** 12):012x}{np.random.randint(16 ** 12):012x}-{np.random.randint(120, 300)}) (:domain {np.random.choice([\"few\", \"medium\", \"many\"])}-objects-room-v1)\\n'\n",
    "    comment = _verify_valid_comment(comment, SETUP_COMMENNT)\n",
    "    prompt += comment + '\\n'\n",
    "    prompt += SETUP_SECTION + ' '\n",
    "\n",
    "    suffix = \\\n",
    "f''')\n",
    "{PREFERENCES_SECTION} (and <preferences> ))\n",
    "{TERMINAL_SECTION + \" <terminal> )\" if include_terminal else ''}\n",
    "{SCORING_SECTION} <scoring> )\n",
    ")'''\n",
    "\n",
    "    return prompt, suffix\n",
    "\n",
    "\n",
    "def generate_preference_prompts_and_suffixes(comment_or_comments: typing.Union[str, typing.List[str]], include_terminal: bool = False):\n",
    "    if isinstance(comment_or_comments, str):\n",
    "        comment_or_comments = [comment_or_comments]\n",
    "\n",
    "    prompts = []\n",
    "    suffixes = []\n",
    "\n",
    "    for i, comment in enumerate(comment_or_comments):\n",
    "        comment = _verify_valid_comment(comment, PREFERENCE_COMMENT)\n",
    "\n",
    "        if i == 0:\n",
    "            prompt = f'{PREFERENCES_SECTION} (and\\n\\t{comment}\\n\\t'\n",
    "        else:\n",
    "            prompt = f'\\t{comment}\\n\\t'        \n",
    "\n",
    "        prompts.append(prompt)\n",
    "\n",
    "    for i in range(len(comment_or_comments)):\n",
    "        if i == 0:\n",
    "            suffix = f'''))\n",
    "{TERMINAL_SECTION + \" <terminal> )\" if include_terminal else ''}\n",
    "{SCORING_SECTION} <scoring> )\n",
    ")'''\n",
    "        else:\n",
    "            relevant_prompt = prompts[-i]\n",
    "            suffix = f'{relevant_prompt}<preference>\\n{suffixes[i - 1]}'\n",
    "        \n",
    "        suffixes.append(suffix)\n",
    "\n",
    "    suffixes.reverse()\n",
    "    return prompts, suffixes\n",
    "\n",
    "\n",
    "def fix_parentheses(text: str) -> str:\n",
    "    while text.count('(') > text.count(')'):\n",
    "        text += ')'\n",
    "\n",
    "    while text.count(')') > text.count('('):\n",
    "        last_close_paren = text.rfind(')')\n",
    "        text = text[:last_close_paren] + text[last_close_paren+1:]\n",
    "\n",
    "    return text\n"
   ]
  },
  {
   "cell_type": "code",
   "execution_count": 67,
   "metadata": {},
   "outputs": [],
   "source": [
    "setup_game_indices = np.random.choice(GAMES_WITH_SETUP_LIST, 3)\n",
    "setup_prompt, setup_suffix = generate_setup_prompt_and_suffix('place the hexagonal bin on a chair in the middle of the room')\n",
    "\n",
    "full_prompt = '\\n'.join([game_texts_with_comments[i] for i in setup_game_indices] + [setup_prompt])"
   ]
  },
  {
   "cell_type": "code",
   "execution_count": 68,
   "metadata": {},
   "outputs": [],
   "source": [
    "setup_result = generate_codex_completions(full_prompt, setup_suffix, 1, {'temperature': 0.95})\n",
    "setup_text = fix_parentheses(setup_result['choices'][0]['text'])\n",
    "game_in_progress = setup_prompt + setup_text\n",
    "print(game_in_progress)"
   ]
  },
  {
   "cell_type": "code",
   "execution_count": 73,
   "metadata": {},
   "outputs": [
    {
     "name": "stdout",
     "output_type": "stream",
     "text": [
      "(define (game 8936caf9bc001d51a78ae1b9-252) (:domain many-objects-room-v1)\n",
      "; SETUP: place the hexagonal bin on a chair in the middle of the room\n",
      "(:setup (and \n",
      "    (exists (?c - chair ?h - hexagonal_bin) (and \n",
      "        (game-conserved (and \n",
      "            (on ?c ?h)\n",
      "            (adjacent_side ?c front room_center)\n",
      "        ))\n",
      "    ))\n",
      ")\n",
      "\n"
     ]
    }
   ],
   "source": [
    "setup_text = fix_parentheses(setup_result['choices'][0]['text'])\n",
    "game_in_progress = setup_prompt + setup_text\n",
    "print(game_in_progress)"
   ]
  },
  {
   "cell_type": "code",
   "execution_count": 103,
   "metadata": {},
   "outputs": [
    {
     "name": "stdout",
     "output_type": "stream",
     "text": [
      "(preference ballThrownThroughBin:basketball (exists (?a - basketball ?c - chair ?h - hexagonal_bin)\n",
      "\t(then \n",
      "\t\t(once (agent_holds ?a))\n",
      "\t\t(hold (and (in_motion ?a) (not (agent_holds ?a))))\n",
      "\t\t(once (and\n",
      "\t\t\t(not (in_motion ?a))\n",
      "\t\t\t(touch ?a ?h)\n",
      "\t\t\t)\n",
      "\t\t))\n",
      "\t))\n",
      "\t\n",
      "\t\n"
     ]
    }
   ],
   "source": [
    "pref_prompts, pref_suffixes = generate_preference_prompts_and_suffixes(['count throws of a basketball that hit the bin', \"count throws of a basketball that hit the chair\"])\n",
    "preference_game_indices = np.random.choice(np.arange(len(game_texts_with_comments)), 3)\n",
    "full_pref_0_prompt = '\\n'.join([game_texts_with_comments[i] for i in preference_game_indices] + [game_in_progress, pref_prompts[0]])\n",
    "pref_0_suffix = pref_suffixes[1]\n",
    "pref_0_result = generate_codex_completions(full_pref_0_prompt, pref_0_suffix, 1, {'temperature': 0.8})\n",
    "pref_0_text = fix_parentheses(pref_0_result['choices'][0]['text'])\n",
    "print(pref_0_text)"
   ]
  },
  {
   "cell_type": "code",
   "execution_count": null,
   "metadata": {},
   "outputs": [],
   "source": []
  }
 ],
 "metadata": {
  "kernelspec": {
   "display_name": "game-gen",
   "language": "python",
   "name": "python3"
  },
  "language_info": {
   "codemirror_mode": {
    "name": "ipython",
    "version": 3
   },
   "file_extension": ".py",
   "mimetype": "text/x-python",
   "name": "python",
   "nbconvert_exporter": "python",
   "pygments_lexer": "ipython3",
   "version": "3.10.8"
  },
  "orig_nbformat": 4,
  "vscode": {
   "interpreter": {
    "hash": "d207b42274502bc006609ff0f580407f35ab20e7889cda7ddd92e73aeb06c569"
   }
  }
 },
 "nbformat": 4,
 "nbformat_minor": 2
}
