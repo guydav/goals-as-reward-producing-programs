{
 "cells": [
  {
   "cell_type": "code",
   "execution_count": 117,
   "metadata": {
    "vscode": {
     "languageId": "r"
    }
   },
   "outputs": [
    {
     "name": "stderr",
     "output_type": "stream",
     "text": [
      "*** Package RVAideMemoire v 0.9-83-7 ***\n",
      "\n",
      "\n",
      "Attaching package: 'RVAideMemoire'\n",
      "\n",
      "\n",
      "The following object is masked from 'package:lme4':\n",
      "\n",
      "    dummy\n",
      "\n",
      "\n"
     ]
    }
   ],
   "source": [
    "library(lme4)\n",
    "library(lmerTest)\n",
    "library(emmeans)\n",
    "library(repr)\n",
    "library(glue)\n",
    "library(performance)\n",
    "library(IRdisplay)\n",
    "library(comprehenr)\n",
    "library(GLMMadaptive)\n",
    "library(multilevelTools)\n",
    "library(data.table)\n",
    "library(dplyr)\n",
    "library(ggplot2)\n",
    "library(ordinal)\n",
    "library(tibble)\n",
    "library(tidyr)\n",
    "library(data.table)\n",
    "library(xtable)\n",
    "library(RVAideMemoire)\n"
   ]
  },
  {
   "cell_type": "code",
   "execution_count": 8,
   "metadata": {
    "vscode": {
     "languageId": "r"
    }
   },
   "outputs": [],
   "source": [
    "options(width = 160, repr.plot.width = 20, repr.plot.height = 8)"
   ]
  },
  {
   "cell_type": "code",
   "execution_count": 9,
   "metadata": {
    "vscode": {
     "languageId": "r"
    }
   },
   "outputs": [
    {
     "name": "stdout",
     "output_type": "stream",
     "text": [
      "[1] 1292   48\n"
     ]
    },
    {
     "data": {
      "text/html": [
       "<table class=\"dataframe\">\n",
       "<caption>A data.frame: 2 x 48</caption>\n",
       "<thead>\n",
       "\t<tr><th></th><th scope=col>participant_id</th><th scope=col>game_id</th><th scope=col>real</th><th scope=col>matched</th><th scope=col>confident</th><th scope=col>fun_play</th><th scope=col>fun_watch</th><th scope=col>capability</th><th scope=col>goldilocks</th><th scope=col>creativity</th><th scope=col>...</th><th scope=col>centered_goldilocks</th><th scope=col>centered_creativity</th><th scope=col>centered_human_likeness</th><th scope=col>full_normalized_confident</th><th scope=col>full_normalized_fun_play</th><th scope=col>full_normalized_fun_watch</th><th scope=col>full_normalized_capability</th><th scope=col>full_normalized_goldilocks</th><th scope=col>full_normalized_creativity</th><th scope=col>full_normalized_human_likeness</th></tr>\n",
       "\t<tr><th></th><th scope=col>&lt;fct&gt;</th><th scope=col>&lt;fct&gt;</th><th scope=col>&lt;lgl&gt;</th><th scope=col>&lt;lgl&gt;</th><th scope=col>&lt;int&gt;</th><th scope=col>&lt;int&gt;</th><th scope=col>&lt;int&gt;</th><th scope=col>&lt;int&gt;</th><th scope=col>&lt;int&gt;</th><th scope=col>&lt;int&gt;</th><th scope=col>...</th><th scope=col>&lt;dbl&gt;</th><th scope=col>&lt;dbl&gt;</th><th scope=col>&lt;dbl&gt;</th><th scope=col>&lt;dbl&gt;</th><th scope=col>&lt;dbl&gt;</th><th scope=col>&lt;dbl&gt;</th><th scope=col>&lt;dbl&gt;</th><th scope=col>&lt;dbl&gt;</th><th scope=col>&lt;dbl&gt;</th><th scope=col>&lt;dbl&gt;</th></tr>\n",
       "</thead>\n",
       "<tbody>\n",
       "\t<tr><th scope=row>1</th><td>00c9bf44-28f3-469a-8a71-ea972af61bab-p102</td><td>(1, 1, 4, 0, 2, 0, 0, 0, 1, 0, 0, 0)</td><td>FALSE</td><td>FALSE</td><td>4</td><td>3</td><td>3</td><td>5</td><td>3</td><td>2</td><td>...</td><td>0</td><td>-1</td><td>-1</td><td>0.3349299</td><td>0.685856</td><td>0.736462</td><td>1.7028050</td><td>0.3154651</td><td>-0.1941839</td><td>-0.3231405</td></tr>\n",
       "\t<tr><th scope=row>2</th><td>00c9bf44-28f3-469a-8a71-ea972af61bab-p102</td><td>(1, 0, 2, 0, 1, 0, 0, 0, 0, 1, 0, 0)</td><td>FALSE</td><td>FALSE</td><td>4</td><td>3</td><td>3</td><td>4</td><td>3</td><td>3</td><td>...</td><td>0</td><td> 0</td><td>-1</td><td>0.3349299</td><td>0.685856</td><td>0.736462</td><td>0.8894874</td><td>0.3154651</td><td> 0.7489952</td><td>-0.3231405</td></tr>\n",
       "</tbody>\n",
       "</table>\n"
      ],
      "text/latex": [
       "A data.frame: 2 x 48\n",
       "\\begin{tabular}{r|lllllllllllllllllllll}\n",
       "  & participant\\_id & game\\_id & real & matched & confident & fun\\_play & fun\\_watch & capability & goldilocks & creativity & ... & centered\\_goldilocks & centered\\_creativity & centered\\_human\\_likeness & full\\_normalized\\_confident & full\\_normalized\\_fun\\_play & full\\_normalized\\_fun\\_watch & full\\_normalized\\_capability & full\\_normalized\\_goldilocks & full\\_normalized\\_creativity & full\\_normalized\\_human\\_likeness\\\\\n",
       "  & <fct> & <fct> & <lgl> & <lgl> & <int> & <int> & <int> & <int> & <int> & <int> & ... & <dbl> & <dbl> & <dbl> & <dbl> & <dbl> & <dbl> & <dbl> & <dbl> & <dbl> & <dbl>\\\\\n",
       "\\hline\n",
       "\t1 & 00c9bf44-28f3-469a-8a71-ea972af61bab-p102 & (1, 1, 4, 0, 2, 0, 0, 0, 1, 0, 0, 0) & FALSE & FALSE & 4 & 3 & 3 & 5 & 3 & 2 & ... & 0 & -1 & -1 & 0.3349299 & 0.685856 & 0.736462 & 1.7028050 & 0.3154651 & -0.1941839 & -0.3231405\\\\\n",
       "\t2 & 00c9bf44-28f3-469a-8a71-ea972af61bab-p102 & (1, 0, 2, 0, 1, 0, 0, 0, 0, 1, 0, 0) & FALSE & FALSE & 4 & 3 & 3 & 4 & 3 & 3 & ... & 0 &  0 & -1 & 0.3349299 & 0.685856 & 0.736462 & 0.8894874 & 0.3154651 &  0.7489952 & -0.3231405\\\\\n",
       "\\end{tabular}\n"
      ],
      "text/markdown": [
       "\n",
       "A data.frame: 2 x 48\n",
       "\n",
       "| <!--/--> | participant_id &lt;fct&gt; | game_id &lt;fct&gt; | real &lt;lgl&gt; | matched &lt;lgl&gt; | confident &lt;int&gt; | fun_play &lt;int&gt; | fun_watch &lt;int&gt; | capability &lt;int&gt; | goldilocks &lt;int&gt; | creativity &lt;int&gt; | ... ... | centered_goldilocks &lt;dbl&gt; | centered_creativity &lt;dbl&gt; | centered_human_likeness &lt;dbl&gt; | full_normalized_confident &lt;dbl&gt; | full_normalized_fun_play &lt;dbl&gt; | full_normalized_fun_watch &lt;dbl&gt; | full_normalized_capability &lt;dbl&gt; | full_normalized_goldilocks &lt;dbl&gt; | full_normalized_creativity &lt;dbl&gt; | full_normalized_human_likeness &lt;dbl&gt; |\n",
       "|---|---|---|---|---|---|---|---|---|---|---|---|---|---|---|---|---|---|---|---|---|---|\n",
       "| 1 | 00c9bf44-28f3-469a-8a71-ea972af61bab-p102 | (1, 1, 4, 0, 2, 0, 0, 0, 1, 0, 0, 0) | FALSE | FALSE | 4 | 3 | 3 | 5 | 3 | 2 | ... | 0 | -1 | -1 | 0.3349299 | 0.685856 | 0.736462 | 1.7028050 | 0.3154651 | -0.1941839 | -0.3231405 |\n",
       "| 2 | 00c9bf44-28f3-469a-8a71-ea972af61bab-p102 | (1, 0, 2, 0, 1, 0, 0, 0, 0, 1, 0, 0) | FALSE | FALSE | 4 | 3 | 3 | 4 | 3 | 3 | ... | 0 |  0 | -1 | 0.3349299 | 0.685856 | 0.736462 | 0.8894874 | 0.3154651 |  0.7489952 | -0.3231405 |\n",
       "\n"
      ],
      "text/plain": [
       "  participant_id                            game_id                              real  matched confident fun_play fun_watch capability goldilocks creativity\n",
       "1 00c9bf44-28f3-469a-8a71-ea972af61bab-p102 (1, 1, 4, 0, 2, 0, 0, 0, 1, 0, 0, 0) FALSE FALSE   4         3        3         5          3          2         \n",
       "2 00c9bf44-28f3-469a-8a71-ea972af61bab-p102 (1, 0, 2, 0, 1, 0, 0, 0, 0, 1, 0, 0) FALSE FALSE   4         3        3         4          3          3         \n",
       "  ... centered_goldilocks centered_creativity centered_human_likeness full_normalized_confident full_normalized_fun_play full_normalized_fun_watch\n",
       "1 ... 0                   -1                  -1                      0.3349299                 0.685856                 0.736462                 \n",
       "2 ... 0                    0                  -1                      0.3349299                 0.685856                 0.736462                 \n",
       "  full_normalized_capability full_normalized_goldilocks full_normalized_creativity full_normalized_human_likeness\n",
       "1 1.7028050                  0.3154651                  -0.1941839                 -0.3231405                    \n",
       "2 0.8894874                  0.3154651                   0.7489952                 -0.3231405                    "
      ]
     },
     "metadata": {},
     "output_type": "display_data"
    }
   ],
   "source": [
    "current_participants_df <- read.csv('./human_evals_data/current_participants_df.csv')\n",
    "\n",
    "# Set columns as categorical\n",
    "current_participants_df$participant_id <- as.factor(current_participants_df$participant_id)\n",
    "current_participants_df$game_id <- as.factor(current_participants_df$game_id)\n",
    "current_participants_df$game_type <- as.factor(current_participants_df$game_type)\n",
    "current_participants_df$full_game_id <- as.factor(current_participants_df$full_game_id)\n",
    "\n",
    "# Change the order of game_type levels\n",
    "current_participants_df$game_type <- factor(current_participants_df$game_type, levels = c('unmatched', 'unmatched_top_30', 'matched', 'real'))\n",
    "\n",
    "\n",
    "# Set columns as booleans\n",
    "current_participants_df$real <- as.logical(current_participants_df$real)\n",
    "current_participants_df$matched <- as.logical(current_participants_df$matched)\n",
    "current_participants_df$model_game <- (!current_participants_df$real)\n",
    "\n",
    "ATTRIBUTES <- c(\"confident\", \"fun_play\", \"fun_watch\", \"capability\", \"goldilocks\", \"creativity\", \"human_likeness\")\n",
    "NORMALIZED_ATTRIBUTES <- to_vec(for (attr in ATTRIBUTES) { glue(\"normalized_{attr}\") } )\n",
    "CENTERED_ATTRIBUTES <- to_vec(for (attr in ATTRIBUTES) { glue(\"centered_{attr}\") } )\n",
    "FULL_NORMALIZED_ATTRIBUTES <- to_vec(for (attr in ATTRIBUTES) { glue(\"full_normalized_{attr}\") })\n",
    "\n",
    "for (i in seq_along(CENTERED_ATTRIBUTES)) {\n",
    "    current_participants_df[[CENTERED_ATTRIBUTES[i]]] <- current_participants_df[[ATTRIBUTES[i]]] - 3\n",
    "}\n",
    "\n",
    "for (i in seq_along(FULL_NORMALIZED_ATTRIBUTES)) {\n",
    "    current_participants_df[[FULL_NORMALIZED_ATTRIBUTES[i]]] <- (current_participants_df[[ATTRIBUTES[i]]] - mean(current_participants_df[[ATTRIBUTES[i]]])) / sd(current_participants_df[[ATTRIBUTES[i]]])\n",
    "}\n",
    "\n",
    "\n",
    "\n",
    "print(dim(current_participants_df))\n",
    "head(current_participants_df, 2)"
   ]
  },
  {
   "cell_type": "code",
   "execution_count": 10,
   "metadata": {
    "vscode": {
     "languageId": "r"
    }
   },
   "outputs": [
    {
     "name": "stdout",
     "output_type": "stream",
     "text": [
      "[1] 892  48\n"
     ]
    },
    {
     "data": {
      "text/html": [
       "<table class=\"dataframe\">\n",
       "<caption>A data.frame: 2 x 48</caption>\n",
       "<thead>\n",
       "\t<tr><th></th><th scope=col>participant_id</th><th scope=col>game_id</th><th scope=col>real</th><th scope=col>matched</th><th scope=col>confident</th><th scope=col>fun_play</th><th scope=col>fun_watch</th><th scope=col>capability</th><th scope=col>goldilocks</th><th scope=col>creativity</th><th scope=col>...</th><th scope=col>centered_goldilocks</th><th scope=col>centered_creativity</th><th scope=col>centered_human_likeness</th><th scope=col>full_normalized_confident</th><th scope=col>full_normalized_fun_play</th><th scope=col>full_normalized_fun_watch</th><th scope=col>full_normalized_capability</th><th scope=col>full_normalized_goldilocks</th><th scope=col>full_normalized_creativity</th><th scope=col>full_normalized_human_likeness</th></tr>\n",
       "\t<tr><th></th><th scope=col>&lt;fct&gt;</th><th scope=col>&lt;fct&gt;</th><th scope=col>&lt;lgl&gt;</th><th scope=col>&lt;lgl&gt;</th><th scope=col>&lt;int&gt;</th><th scope=col>&lt;int&gt;</th><th scope=col>&lt;int&gt;</th><th scope=col>&lt;int&gt;</th><th scope=col>&lt;int&gt;</th><th scope=col>&lt;int&gt;</th><th scope=col>...</th><th scope=col>&lt;dbl&gt;</th><th scope=col>&lt;dbl&gt;</th><th scope=col>&lt;dbl&gt;</th><th scope=col>&lt;dbl&gt;</th><th scope=col>&lt;dbl&gt;</th><th scope=col>&lt;dbl&gt;</th><th scope=col>&lt;dbl&gt;</th><th scope=col>&lt;dbl&gt;</th><th scope=col>&lt;dbl&gt;</th><th scope=col>&lt;dbl&gt;</th></tr>\n",
       "</thead>\n",
       "<tbody>\n",
       "\t<tr><th scope=row>3</th><td>00c9bf44-28f3-469a-8a71-ea972af61bab-p102</td><td>(1, 0, 2, 0, 0, 0, 0, 0, 0, 0, 2, 0)</td><td> TRUE</td><td>TRUE</td><td>4</td><td>2</td><td>2</td><td>5</td><td>4</td><td>3</td><td>...</td><td> 1</td><td> 0</td><td>-1</td><td>0.3349299</td><td>-0.2092207</td><td>-0.1445648</td><td>1.70280498</td><td> 1.2524326</td><td> 0.7489952</td><td>-0.3231405</td></tr>\n",
       "\t<tr><th scope=row>4</th><td>00c9bf44-28f3-469a-8a71-ea972af61bab-p102</td><td>(1, 0, 2, 0, 0, 0, 0, 0, 0, 0, 2, 0)</td><td>FALSE</td><td>TRUE</td><td>5</td><td>4</td><td>4</td><td>3</td><td>2</td><td>2</td><td>...</td><td>-1</td><td>-1</td><td>-1</td><td>1.1049113</td><td> 1.5809328</td><td> 1.6174888</td><td>0.07616983</td><td>-0.6215025</td><td>-0.1941839</td><td>-0.3231405</td></tr>\n",
       "</tbody>\n",
       "</table>\n"
      ],
      "text/latex": [
       "A data.frame: 2 x 48\n",
       "\\begin{tabular}{r|lllllllllllllllllllll}\n",
       "  & participant\\_id & game\\_id & real & matched & confident & fun\\_play & fun\\_watch & capability & goldilocks & creativity & ... & centered\\_goldilocks & centered\\_creativity & centered\\_human\\_likeness & full\\_normalized\\_confident & full\\_normalized\\_fun\\_play & full\\_normalized\\_fun\\_watch & full\\_normalized\\_capability & full\\_normalized\\_goldilocks & full\\_normalized\\_creativity & full\\_normalized\\_human\\_likeness\\\\\n",
       "  & <fct> & <fct> & <lgl> & <lgl> & <int> & <int> & <int> & <int> & <int> & <int> & ... & <dbl> & <dbl> & <dbl> & <dbl> & <dbl> & <dbl> & <dbl> & <dbl> & <dbl> & <dbl>\\\\\n",
       "\\hline\n",
       "\t3 & 00c9bf44-28f3-469a-8a71-ea972af61bab-p102 & (1, 0, 2, 0, 0, 0, 0, 0, 0, 0, 2, 0) &  TRUE & TRUE & 4 & 2 & 2 & 5 & 4 & 3 & ... &  1 &  0 & -1 & 0.3349299 & -0.2092207 & -0.1445648 & 1.70280498 &  1.2524326 &  0.7489952 & -0.3231405\\\\\n",
       "\t4 & 00c9bf44-28f3-469a-8a71-ea972af61bab-p102 & (1, 0, 2, 0, 0, 0, 0, 0, 0, 0, 2, 0) & FALSE & TRUE & 5 & 4 & 4 & 3 & 2 & 2 & ... & -1 & -1 & -1 & 1.1049113 &  1.5809328 &  1.6174888 & 0.07616983 & -0.6215025 & -0.1941839 & -0.3231405\\\\\n",
       "\\end{tabular}\n"
      ],
      "text/markdown": [
       "\n",
       "A data.frame: 2 x 48\n",
       "\n",
       "| <!--/--> | participant_id &lt;fct&gt; | game_id &lt;fct&gt; | real &lt;lgl&gt; | matched &lt;lgl&gt; | confident &lt;int&gt; | fun_play &lt;int&gt; | fun_watch &lt;int&gt; | capability &lt;int&gt; | goldilocks &lt;int&gt; | creativity &lt;int&gt; | ... ... | centered_goldilocks &lt;dbl&gt; | centered_creativity &lt;dbl&gt; | centered_human_likeness &lt;dbl&gt; | full_normalized_confident &lt;dbl&gt; | full_normalized_fun_play &lt;dbl&gt; | full_normalized_fun_watch &lt;dbl&gt; | full_normalized_capability &lt;dbl&gt; | full_normalized_goldilocks &lt;dbl&gt; | full_normalized_creativity &lt;dbl&gt; | full_normalized_human_likeness &lt;dbl&gt; |\n",
       "|---|---|---|---|---|---|---|---|---|---|---|---|---|---|---|---|---|---|---|---|---|---|\n",
       "| 3 | 00c9bf44-28f3-469a-8a71-ea972af61bab-p102 | (1, 0, 2, 0, 0, 0, 0, 0, 0, 0, 2, 0) |  TRUE | TRUE | 4 | 2 | 2 | 5 | 4 | 3 | ... |  1 |  0 | -1 | 0.3349299 | -0.2092207 | -0.1445648 | 1.70280498 |  1.2524326 |  0.7489952 | -0.3231405 |\n",
       "| 4 | 00c9bf44-28f3-469a-8a71-ea972af61bab-p102 | (1, 0, 2, 0, 0, 0, 0, 0, 0, 0, 2, 0) | FALSE | TRUE | 5 | 4 | 4 | 3 | 2 | 2 | ... | -1 | -1 | -1 | 1.1049113 |  1.5809328 |  1.6174888 | 0.07616983 | -0.6215025 | -0.1941839 | -0.3231405 |\n",
       "\n"
      ],
      "text/plain": [
       "  participant_id                            game_id                              real  matched confident fun_play fun_watch capability goldilocks creativity\n",
       "3 00c9bf44-28f3-469a-8a71-ea972af61bab-p102 (1, 0, 2, 0, 0, 0, 0, 0, 0, 0, 2, 0)  TRUE TRUE    4         2        2         5          4          3         \n",
       "4 00c9bf44-28f3-469a-8a71-ea972af61bab-p102 (1, 0, 2, 0, 0, 0, 0, 0, 0, 0, 2, 0) FALSE TRUE    5         4        4         3          2          2         \n",
       "  ... centered_goldilocks centered_creativity centered_human_likeness full_normalized_confident full_normalized_fun_play full_normalized_fun_watch\n",
       "3 ...  1                   0                  -1                      0.3349299                 -0.2092207               -0.1445648               \n",
       "4 ... -1                  -1                  -1                      1.1049113                  1.5809328                1.6174888               \n",
       "  full_normalized_capability full_normalized_goldilocks full_normalized_creativity full_normalized_human_likeness\n",
       "3 1.70280498                  1.2524326                  0.7489952                 -0.3231405                    \n",
       "4 0.07616983                 -0.6215025                 -0.1941839                 -0.3231405                    "
      ]
     },
     "metadata": {},
     "output_type": "display_data"
    }
   ],
   "source": [
    "filtered_df <- current_participants_df[current_participants_df$game_type != 'unmatched', ]\n",
    "filtered_df$game_type <- droplevels(filtered_df$game_type)\n",
    "\n",
    "print(dim(filtered_df))\n",
    "head(filtered_df, 2)"
   ]
  },
  {
   "cell_type": "code",
   "execution_count": 11,
   "metadata": {
    "vscode": {
     "languageId": "r"
    }
   },
   "outputs": [],
   "source": [
    "N_POINTS = 50\n",
    "\n",
    "\n",
    "buildFitnessData <- function() {\n",
    "    # Get the min and max of the normalized fitness\n",
    "    fitness.min <- min(filtered_df$normalized_fitness);\n",
    "    fitness.max <- max(filtered_df$normalized_fitness);\n",
    "    fitness.seq <- seq(fitness.min, fitness.max, length.out = N_POINTS);\n",
    "    # Create a data frame with a row for each sequence of fitness values for each game type\n",
    "    predict_data_df <- expand.grid(normalized_fitness = fitness.seq, game_type = levels(filtered_df$game_type));\n",
    "    # replicate each row 3 times (once for each percentile)\n",
    "    predict_data_df <- predict_data_df[rep(row.names(predict_data_df), each = 3),];\n",
    "\n",
    "    predict_data_df <- predict_data_df %>%\n",
    "        mutate(percentile = rep(c(20, 50, 80), times = N_POINTS * 3)) %>%\n",
    "        mutate(percentile = as.factor(percentile));\n",
    "\n",
    "    return(predict_data_df);\n",
    "}\n",
    "\n",
    "\n",
    "extractGameEffects <- function(model) {\n",
    "    if (missing(model)) {\n",
    "        model = attr.mm;\n",
    "    }\n",
    "\n",
    "    attr.game_effects_df <- ranef(model)$full_game_id;\n",
    "    colnames(attr.game_effects_df)[1] <- c(\"effect\");\n",
    "    attr.game_effects_df <- rownames_to_column(attr.game_effects_df, var = \"full_game_id\");\n",
    "    attr.game_effects_df$full_game_id <- factor(attr.game_effects_df$full_game_id, levels = levels(filtered_df$full_game_id));\n",
    "\n",
    "    limited_filtered_df <- filtered_df %>%\n",
    "        select(full_game_id, game_type) %>%\n",
    "        distinct();\n",
    "\n",
    "    attr.game_effects_df <- left_join(attr.game_effects_df, limited_filtered_df, by = \"full_game_id\");\n",
    "\n",
    "\n",
    "    percentiles <- attr.game_effects_df %>%\n",
    "        group_by(game_type) %>%\n",
    "        summarize(percentile_20 = quantile(effect, 0.20),\n",
    "                percentile_50 = quantile(effect, 0.50),\n",
    "                percentile_80 = quantile(effect, 0.80)) %>%\n",
    "        pivot_longer(cols = starts_with(\"percentile\"),\n",
    "                    names_to = \"percentile\",\n",
    "                    values_to = \"game_effect\") %>%\n",
    "        mutate(percentile = gsub(\"percentile_\", \"\", percentile)) %>%\n",
    "        mutate(percentile = as.factor(percentile));\n",
    "\n",
    "    return(percentiles);\n",
    "}\n",
    "\n",
    "\n",
    "extractParticipantEffects <- function(model) {\n",
    "    if (missing(model)) {\n",
    "        model = attr.mm;\n",
    "    }\n",
    "\n",
    "    attr.participant_effects_df <- ranef(model)$participant_id;\n",
    "    colnames(attr.participant_effects_df)[1] <- c(\"effect\");\n",
    "    attr.participant_effects_df <- rownames_to_column(attr.participant_effects_df, var = \"participant_id\");\n",
    "    attr.participant_effects_df$participant_id <- factor(attr.participant_effects_df$participant_id, levels = levels(filtered_df$participant_id));\n",
    "\n",
    "    percentiles <- attr.participant_effects_df %>%\n",
    "        summarize(percentile_20 = quantile(effect, 0.20),\n",
    "                percentile_50 = quantile(effect, 0.50),\n",
    "                percentile_80 = quantile(effect, 0.80)) %>%\n",
    "        pivot_longer(cols = starts_with(\"percentile\"),\n",
    "                    names_to = \"percentile\",\n",
    "                    values_to = \"participant_effect\") %>%\n",
    "        mutate(percentile = gsub(\"percentile_\", \"\", percentile)) %>%\n",
    "        mutate(percentile = as.factor(percentile)) %>%\n",
    "        rename(participant_percentile = percentile);\n",
    "\n",
    "    return(percentiles);\n",
    "}\n",
    "\n",
    "\n",
    "extractCoefData <- function(model) {\n",
    "    if (missing(model)) {\n",
    "        model = attr.mm;\n",
    "    }\n",
    "\n",
    "    attr.coef <- coef(attr.mm);\n",
    "    fitness_coef <- attr.coef[length(attr.coef)];\n",
    "    coef.df <- as.data.frame(attr.coef[5:(length(attr.coef) - 1)])\n",
    "    colnames(coef.df)[1] <- \"game_type_intercept\";\n",
    "    row_names <- rownames(coef.df);\n",
    "    row_names <- gsub(\"C\\\\(game_type\\\\)\", \"\", row_names);\n",
    "    rownames(coef.df) <- row_names;\n",
    "\n",
    "    coef.df <- rownames_to_column(coef.df, var = \"game_type\");\n",
    "    coef.df <- rbind(coef.df, c(game_type = \"unmatched_top_30\", game_type_intercept = 0));\n",
    "    coef.df$game_type <- as.factor(coef.df$game_type);\n",
    "    coef.df$game_type_intercept <- as.numeric(coef.df$game_type_intercept);\n",
    "\n",
    "    return(coef.df);\n",
    "}\n",
    "\n",
    "plotPredictData <- function(merged_predict_df) {\n",
    "    participant_titles <- to_vec(for (p in levels(merged_predict_df$participant_percentile)) { glue(\"{p}th Percentile Participant\") } );\n",
    "    names(participant_titles) <- levels(merged_predict_df$participant_percentile);\n",
    "\n",
    "    return(print(ggplot(merged_predict_df, aes(x = normalized_fitness, y = bin, color = game_type, linetype = percentile)) +\n",
    "        facet_wrap(vars(participant_percentile), nrow = 1, labeller = labeller(cyl = participant_titles)) +\n",
    "        geom_line(size = 1.25) +\n",
    "        labs(x = \"Normalized Fitness\", y = attr) +\n",
    "        scale_color_manual(values = c(\"unmatched\" = \"red\", \"unmatched_top_30\" = \"blue\", \"matched\" = \"green\", \"real\" = \"purple\")) +\n",
    "        scale_linetype_manual(values = c(\"20\" = \"dashed\", \"50\" = \"solid\", \"80\" = \"dotted\")) +\n",
    "        theme_minimal() +\n",
    "        theme(\n",
    "            plot.margin = margin(2, 2, 2, 2, \"cm\"),\n",
    "            text = element_text(size = 16),\n",
    "            axis.text = element_text(size = 14),\n",
    "        ) + \n",
    "        ggtitle(glue(\"{attr} by Game Type and Percentile\")) \n",
    "        ));\n",
    "\n",
    "    # return(print(ggplot(merged_predict_df, aes(x = normalized_fitness, y = bin, color = game_type, linetype = percentile)) +\n",
    "    #     geom_line(size = 1.25) +\n",
    "    #     labs(x = \"Normalized Fitness\", y = attr) +\n",
    "    #     scale_color_manual(values = c(\"unmatched\" = \"red\", \"unmatched_top_30\" = \"blue\", \"matched\" = \"green\", \"real\" = \"purple\")) +\n",
    "    #     scale_linetype_manual(values = c(\"20\" = \"dashed\", \"50\" = \"solid\", \"80\" = \"dotted\")) +\n",
    "    #     theme_minimal() +\n",
    "    #     theme(\n",
    "    #         plot.margin = margin(2, 2, 2, 2, \"cm\"),\n",
    "    #         text = element_text(size = 16),\n",
    "    #         axis.text = element_text(size = 14),\n",
    "    #     ) + \n",
    "    #     ggtitle(glue(\"{attr} by Game Type and Percentile\"))))\n",
    "}\n",
    "\n",
    "plotModelPredictions <- function(model) {\n",
    "    if (missing(model)) {\n",
    "        model = attr.mm;\n",
    "    }\n",
    "\n",
    "    predict_data_df <- buildFitnessData();\n",
    "    percentiles_df <- extractGameEffects(model);\n",
    "\n",
    "    predict_data_df <-\n",
    "        left_join(predict_data_df, percentiles_df, by = c(\"game_type\", \"percentile\"));\n",
    "    \n",
    "    coef_df <- extractCoefData(model);\n",
    "    attr.coef <- coef(attr.mm);\n",
    "    fitness_coef <- attr.coef[length(attr.coef)];\n",
    "\n",
    "    participant_effects_df <- extractParticipantEffects(model);\n",
    "    predict_data_df <- merge(predict_data_df, participant_effects_df, by = NULL);\n",
    "\n",
    "    merged_predict_df <- \n",
    "        merge(predict_data_df, coef_df, by = \"game_type\", all.x = TRUE) %>%\n",
    "        # add the prediction\n",
    "        mutate(prediction = (merged_predict_df$game_type_intercept + (fitness_coef * merged_predict_df$normalized_fitness) + merged_predict_df$game_effect + merged_predict_df$participant_effect)) %>%\n",
    "        # bin the prediction\n",
    "        mutate(bin = cut(prediction, breaks = c(-Inf, attr.coef[1:4], Inf), labels = 1:5, include.lowest = TRUE)) %>%\n",
    "        mutate(bin = as.double(bin)) %>%\n",
    "        # Add 0.1 if game type is 'matched' and 0.2 if game type is 'real'\n",
    "        mutate(bin = ifelse(game_type == 'unmatched_top_30', bin - 0.15, bin)) %>%\n",
    "        mutate(bin = ifelse(game_type == 'real', bin + 0.15, bin)) %>%\n",
    "        mutate(bin = ifelse(percentile == 20, bin - 0.05, bin)) %>%\n",
    "        mutate(bin = ifelse(percentile == 80, bin + 0.05, bin));\n",
    "\n",
    "    return(plotPredictData(merged_predict_df));\n",
    "}"
   ]
  },
  {
   "cell_type": "markdown",
   "metadata": {},
   "source": [
    "## Comparing some models explicitly"
   ]
  },
  {
   "cell_type": "code",
   "execution_count": 12,
   "metadata": {
    "vscode": {
     "languageId": "r"
    }
   },
   "outputs": [
    {
     "ename": "ERROR",
     "evalue": "Error in data.frame(attribute = character(), model = character(), aic = numeric(), : argument is missing, with no default\n",
     "output_type": "error",
     "traceback": [
      "Error in data.frame(attribute = character(), model = character(), aic = numeric(), : argument is missing, with no default\nTraceback:\n",
      "1. data.frame(attribute = character(), model = character(), aic = numeric(), \n .     bic = numeric(), )"
     ]
    }
   ],
   "source": [
    "## Do we need a mixed effect for the games?\n",
    "\n",
    "game_id_results_df <- data.frame(\n",
    "    attribute = character(),\n",
    "    model = character(),\n",
    "    aic = numeric(),\n",
    "    bic = numeric(),\n",
    "    # aic_diff = numeric(),\n",
    "    # chisq = numeric(),\n",
    "    # pvalue = numeric()\n",
    ")\n",
    "\n",
    "# Iterate through attributes\n",
    "for (attr in ATTRIBUTES) {\n",
    "\n",
    "\n",
    "}    "
   ]
  },
  {
   "cell_type": "markdown",
   "metadata": {},
   "source": [
    "## Do we need a random effect for games?"
   ]
  },
  {
   "cell_type": "code",
   "execution_count": 13,
   "metadata": {
    "vscode": {
     "languageId": "r"
    }
   },
   "outputs": [
    {
     "data": {
      "text/html": [
       "<table class=\"dataframe\">\n",
       "<caption>A data.frame: 6 x 6</caption>\n",
       "<thead>\n",
       "\t<tr><th></th><th scope=col>model</th><th scope=col>aic</th><th scope=col>aic_rank</th><th scope=col>bic</th><th scope=col>bic_rank</th><th scope=col>attribute</th></tr>\n",
       "\t<tr><th></th><th scope=col>&lt;chr&gt;</th><th scope=col>&lt;dbl&gt;</th><th scope=col>&lt;dbl&gt;</th><th scope=col>&lt;dbl&gt;</th><th scope=col>&lt;dbl&gt;</th><th scope=col>&lt;chr&gt;</th></tr>\n",
       "</thead>\n",
       "<tbody>\n",
       "\t<tr><th scope=row>1</th><td>game_type_no_game_effect                          </td><td>2431.622</td><td>5</td><td>2469.970</td><td>5</td><td>confident</td></tr>\n",
       "\t<tr><th scope=row>2</th><td>game_type_game_effect                             </td><td>2382.587</td><td>2</td><td>2425.728</td><td>3</td><td>confident</td></tr>\n",
       "\t<tr><th scope=row>3</th><td>game_type_game_effect_no_participant_effect       </td><td>2481.368</td><td>7</td><td>2519.715</td><td>8</td><td>confident</td></tr>\n",
       "\t<tr><th scope=row>4</th><td>archive_distance_no_game_effect                   </td><td>2441.334</td><td>6</td><td>2474.888</td><td>6</td><td>confident</td></tr>\n",
       "\t<tr><th scope=row>5</th><td>archive_distance_game_effect                      </td><td>2385.506</td><td>3</td><td>2423.854</td><td>1</td><td>confident</td></tr>\n",
       "\t<tr><th scope=row>6</th><td>archive_distance_game_effect_no_participant_effect</td><td>2485.772</td><td>8</td><td>2519.327</td><td>7</td><td>confident</td></tr>\n",
       "</tbody>\n",
       "</table>\n"
      ],
      "text/latex": [
       "A data.frame: 6 x 6\n",
       "\\begin{tabular}{r|llllll}\n",
       "  & model & aic & aic\\_rank & bic & bic\\_rank & attribute\\\\\n",
       "  & <chr> & <dbl> & <dbl> & <dbl> & <dbl> & <chr>\\\\\n",
       "\\hline\n",
       "\t1 & game\\_type\\_no\\_game\\_effect                           & 2431.622 & 5 & 2469.970 & 5 & confident\\\\\n",
       "\t2 & game\\_type\\_game\\_effect                              & 2382.587 & 2 & 2425.728 & 3 & confident\\\\\n",
       "\t3 & game\\_type\\_game\\_effect\\_no\\_participant\\_effect        & 2481.368 & 7 & 2519.715 & 8 & confident\\\\\n",
       "\t4 & archive\\_distance\\_no\\_game\\_effect                    & 2441.334 & 6 & 2474.888 & 6 & confident\\\\\n",
       "\t5 & archive\\_distance\\_game\\_effect                       & 2385.506 & 3 & 2423.854 & 1 & confident\\\\\n",
       "\t6 & archive\\_distance\\_game\\_effect\\_no\\_participant\\_effect & 2485.772 & 8 & 2519.327 & 7 & confident\\\\\n",
       "\\end{tabular}\n"
      ],
      "text/markdown": [
       "\n",
       "A data.frame: 6 x 6\n",
       "\n",
       "| <!--/--> | model &lt;chr&gt; | aic &lt;dbl&gt; | aic_rank &lt;dbl&gt; | bic &lt;dbl&gt; | bic_rank &lt;dbl&gt; | attribute &lt;chr&gt; |\n",
       "|---|---|---|---|---|---|---|\n",
       "| 1 | game_type_no_game_effect                           | 2431.622 | 5 | 2469.970 | 5 | confident |\n",
       "| 2 | game_type_game_effect                              | 2382.587 | 2 | 2425.728 | 3 | confident |\n",
       "| 3 | game_type_game_effect_no_participant_effect        | 2481.368 | 7 | 2519.715 | 8 | confident |\n",
       "| 4 | archive_distance_no_game_effect                    | 2441.334 | 6 | 2474.888 | 6 | confident |\n",
       "| 5 | archive_distance_game_effect                       | 2385.506 | 3 | 2423.854 | 1 | confident |\n",
       "| 6 | archive_distance_game_effect_no_participant_effect | 2485.772 | 8 | 2519.327 | 7 | confident |\n",
       "\n"
      ],
      "text/plain": [
       "  model                                              aic      aic_rank bic      bic_rank attribute\n",
       "1 game_type_no_game_effect                           2431.622 5        2469.970 5        confident\n",
       "2 game_type_game_effect                              2382.587 2        2425.728 3        confident\n",
       "3 game_type_game_effect_no_participant_effect        2481.368 7        2519.715 8        confident\n",
       "4 archive_distance_no_game_effect                    2441.334 6        2474.888 6        confident\n",
       "5 archive_distance_game_effect                       2385.506 3        2423.854 1        confident\n",
       "6 archive_distance_game_effect_no_participant_effect 2485.772 8        2519.327 7        confident"
      ]
     },
     "metadata": {},
     "output_type": "display_data"
    }
   ],
   "source": [
    "model_comparison_df <- data.frame(\n",
    "    model = character(),\n",
    "    attribute = character(),\n",
    "    aic = numeric(),\n",
    "    aic_rank = numeric(),\n",
    "    bic = numeric(),\n",
    "    bic_rank = numeric()\n",
    ");\n",
    "\n",
    "\n",
    "CANDIDATE_MODELS = c(\n",
    "    game_type_no_game_effect = \"C({attr}) ~ 1 + C(game_type) + normalized_fitness + (1 | participant_id)\",\n",
    "    game_type_game_effect = \"C({attr}) ~ 1 + C(game_type) + normalized_fitness + (1 | participant_id) + (1 | full_game_id)\",\n",
    "    game_type_game_effect_no_participant_effect = \"C({attr}) ~ 1 + C(game_type) + normalized_fitness + (1 | full_game_id)\",\n",
    "    archive_distance_no_game_effect = \"C({attr}) ~ 1 + normalized_archive_distance + normalized_fitness + (1 | participant_id)\",\n",
    "    archive_distance_game_effect = \"C({attr}) ~ 1 + normalized_archive_distance + normalized_fitness + (1 | participant_id) + (1 | full_game_id)\",\n",
    "    archive_distance_game_effect_no_participant_effect = \"C({attr}) ~ 1 + normalized_archive_distance + normalized_fitness + (1 | full_game_id)\",\n",
    "    archive_distance_model_game_no_game_effect = \"C({attr}) ~ 1 + normalized_archive_distance + normalized_fitness + model_game + (1 | participant_id)\",\n",
    "    archive_distance_model_game_game_effect = \"C({attr}) ~ 1 + normalized_archive_distance + normalized_fitness + model_game + (1 | participant_id) + (1 | full_game_id)\"\n",
    ");\n",
    "\n",
    "for (attr in ATTRIBUTES) {\n",
    "    attribute_df <- data.frame(\n",
    "        model = character(),\n",
    "        aic = numeric(),\n",
    "        aic_rank = numeric(),\n",
    "        bic = numeric(),\n",
    "        bic_rank = numeric()\n",
    "    );\n",
    "\n",
    "    # iterate through the candidate models\n",
    "    for (model_name in names(CANDIDATE_MODELS)) {\n",
    "        model_formula <- CANDIDATE_MODELS[[model_name]];\n",
    "        model <- clmm(as.formula(glue(model_formula)), data = filtered_df);\n",
    "        aic <- AIC(model);\n",
    "        bic <- BIC(model);\n",
    "        \n",
    "        attribute_df <- rbind(attribute_df, data.frame(\n",
    "            model = model_name,\n",
    "            aic = aic,\n",
    "            aic_rank = NA,\n",
    "            bic = bic,\n",
    "            bic_rank = NA\n",
    "        ));\n",
    "    }\n",
    "\n",
    "    # rank the models\n",
    "    attribute_df$aic_rank <- rank(attribute_df$aic);    \n",
    "    attribute_df$bic_rank <- rank(attribute_df$bic);\n",
    "    attribute_df$attribute <- attr;\n",
    "\n",
    "    model_comparison_df <- rbind(model_comparison_df, attribute_df);\n",
    "}\n",
    "\n",
    "head(model_comparison_df)"
   ]
  },
  {
   "cell_type": "code",
   "execution_count": 14,
   "metadata": {
    "vscode": {
     "languageId": "r"
    }
   },
   "outputs": [
    {
     "data": {
      "text/html": [
       "<table class=\"dataframe\">\n",
       "<caption>A tibble: 8 x 5</caption>\n",
       "<thead>\n",
       "\t<tr><th scope=col>model</th><th scope=col>mean_aic</th><th scope=col>mean_aic_rank</th><th scope=col>mean_bic</th><th scope=col>mean_bic_rank</th></tr>\n",
       "\t<tr><th scope=col>&lt;chr&gt;</th><th scope=col>&lt;dbl&gt;</th><th scope=col>&lt;dbl&gt;</th><th scope=col>&lt;dbl&gt;</th><th scope=col>&lt;dbl&gt;</th></tr>\n",
       "</thead>\n",
       "<tbody>\n",
       "\t<tr><td>archive_distance_game_effect                      </td><td>2301.782</td><td>2.714286</td><td>2340.129</td><td>1.714286</td></tr>\n",
       "\t<tr><td>game_type_game_effect                             </td><td>2299.193</td><td>1.571429</td><td>2342.335</td><td>2.571429</td></tr>\n",
       "\t<tr><td>archive_distance_model_game_game_effect           </td><td>2300.796</td><td>2.714286</td><td>2343.938</td><td>3.000000</td></tr>\n",
       "\t<tr><td>game_type_no_game_effect                          </td><td>2342.645</td><td>4.285714</td><td>2380.993</td><td>4.428571</td></tr>\n",
       "\t<tr><td>archive_distance_no_game_effect                   </td><td>2351.116</td><td>5.571429</td><td>2384.670</td><td>5.000000</td></tr>\n",
       "\t<tr><td>archive_distance_model_game_no_game_effect        </td><td>2345.565</td><td>5.000000</td><td>2383.913</td><td>5.142857</td></tr>\n",
       "\t<tr><td>archive_distance_game_effect_no_participant_effect</td><td>2531.014</td><td>7.428571</td><td>2564.568</td><td>6.714286</td></tr>\n",
       "\t<tr><td>game_type_game_effect_no_participant_effect       </td><td>2529.042</td><td>6.714286</td><td>2567.389</td><td>7.428571</td></tr>\n",
       "</tbody>\n",
       "</table>\n"
      ],
      "text/latex": [
       "A tibble: 8 x 5\n",
       "\\begin{tabular}{lllll}\n",
       " model & mean\\_aic & mean\\_aic\\_rank & mean\\_bic & mean\\_bic\\_rank\\\\\n",
       " <chr> & <dbl> & <dbl> & <dbl> & <dbl>\\\\\n",
       "\\hline\n",
       "\t archive\\_distance\\_game\\_effect                       & 2301.782 & 2.714286 & 2340.129 & 1.714286\\\\\n",
       "\t game\\_type\\_game\\_effect                              & 2299.193 & 1.571429 & 2342.335 & 2.571429\\\\\n",
       "\t archive\\_distance\\_model\\_game\\_game\\_effect            & 2300.796 & 2.714286 & 2343.938 & 3.000000\\\\\n",
       "\t game\\_type\\_no\\_game\\_effect                           & 2342.645 & 4.285714 & 2380.993 & 4.428571\\\\\n",
       "\t archive\\_distance\\_no\\_game\\_effect                    & 2351.116 & 5.571429 & 2384.670 & 5.000000\\\\\n",
       "\t archive\\_distance\\_model\\_game\\_no\\_game\\_effect         & 2345.565 & 5.000000 & 2383.913 & 5.142857\\\\\n",
       "\t archive\\_distance\\_game\\_effect\\_no\\_participant\\_effect & 2531.014 & 7.428571 & 2564.568 & 6.714286\\\\\n",
       "\t game\\_type\\_game\\_effect\\_no\\_participant\\_effect        & 2529.042 & 6.714286 & 2567.389 & 7.428571\\\\\n",
       "\\end{tabular}\n"
      ],
      "text/markdown": [
       "\n",
       "A tibble: 8 x 5\n",
       "\n",
       "| model &lt;chr&gt; | mean_aic &lt;dbl&gt; | mean_aic_rank &lt;dbl&gt; | mean_bic &lt;dbl&gt; | mean_bic_rank &lt;dbl&gt; |\n",
       "|---|---|---|---|---|\n",
       "| archive_distance_game_effect                       | 2301.782 | 2.714286 | 2340.129 | 1.714286 |\n",
       "| game_type_game_effect                              | 2299.193 | 1.571429 | 2342.335 | 2.571429 |\n",
       "| archive_distance_model_game_game_effect            | 2300.796 | 2.714286 | 2343.938 | 3.000000 |\n",
       "| game_type_no_game_effect                           | 2342.645 | 4.285714 | 2380.993 | 4.428571 |\n",
       "| archive_distance_no_game_effect                    | 2351.116 | 5.571429 | 2384.670 | 5.000000 |\n",
       "| archive_distance_model_game_no_game_effect         | 2345.565 | 5.000000 | 2383.913 | 5.142857 |\n",
       "| archive_distance_game_effect_no_participant_effect | 2531.014 | 7.428571 | 2564.568 | 6.714286 |\n",
       "| game_type_game_effect_no_participant_effect        | 2529.042 | 6.714286 | 2567.389 | 7.428571 |\n",
       "\n"
      ],
      "text/plain": [
       "  model                                              mean_aic mean_aic_rank mean_bic mean_bic_rank\n",
       "1 archive_distance_game_effect                       2301.782 2.714286      2340.129 1.714286     \n",
       "2 game_type_game_effect                              2299.193 1.571429      2342.335 2.571429     \n",
       "3 archive_distance_model_game_game_effect            2300.796 2.714286      2343.938 3.000000     \n",
       "4 game_type_no_game_effect                           2342.645 4.285714      2380.993 4.428571     \n",
       "5 archive_distance_no_game_effect                    2351.116 5.571429      2384.670 5.000000     \n",
       "6 archive_distance_model_game_no_game_effect         2345.565 5.000000      2383.913 5.142857     \n",
       "7 archive_distance_game_effect_no_participant_effect 2531.014 7.428571      2564.568 6.714286     \n",
       "8 game_type_game_effect_no_participant_effect        2529.042 6.714286      2567.389 7.428571     "
      ]
     },
     "metadata": {},
     "output_type": "display_data"
    }
   ],
   "source": [
    "# group by model and compute means\n",
    "model_comparison_summary_df <- model_comparison_df %>%\n",
    "    group_by(model) %>%\n",
    "    summarize(\n",
    "        mean_aic = mean(aic),\n",
    "        mean_aic_rank = mean(aic_rank),\n",
    "        mean_bic = mean(bic),\n",
    "        mean_bic_rank = mean(bic_rank)\n",
    "    ) %>%\n",
    "    arrange(mean_bic_rank);\n",
    "\n",
    "model_comparison_summary_df"
   ]
  },
  {
   "cell_type": "code",
   "execution_count": 15,
   "metadata": {
    "vscode": {
     "languageId": "r"
    }
   },
   "outputs": [
    {
     "data": {
      "text/html": [
       "<table class=\"dataframe\">\n",
       "<caption>A tibble: 8 x 5</caption>\n",
       "<thead>\n",
       "\t<tr><th scope=col>model</th><th scope=col>mean_aic</th><th scope=col>mean_aic_rank</th><th scope=col>mean_bic</th><th scope=col>mean_bic_rank</th></tr>\n",
       "\t<tr><th scope=col>&lt;chr&gt;</th><th scope=col>&lt;dbl&gt;</th><th scope=col>&lt;dbl&gt;</th><th scope=col>&lt;dbl&gt;</th><th scope=col>&lt;dbl&gt;</th></tr>\n",
       "</thead>\n",
       "<tbody>\n",
       "\t<tr><td>game_type_game_effect                             </td><td>2299.193</td><td>1.571429</td><td>2342.335</td><td>2.571429</td></tr>\n",
       "\t<tr><td>archive_distance_game_effect                      </td><td>2301.782</td><td>2.714286</td><td>2340.129</td><td>1.714286</td></tr>\n",
       "\t<tr><td>archive_distance_model_game_game_effect           </td><td>2300.796</td><td>2.714286</td><td>2343.938</td><td>3.000000</td></tr>\n",
       "\t<tr><td>game_type_no_game_effect                          </td><td>2342.645</td><td>4.285714</td><td>2380.993</td><td>4.428571</td></tr>\n",
       "\t<tr><td>archive_distance_model_game_no_game_effect        </td><td>2345.565</td><td>5.000000</td><td>2383.913</td><td>5.142857</td></tr>\n",
       "\t<tr><td>archive_distance_no_game_effect                   </td><td>2351.116</td><td>5.571429</td><td>2384.670</td><td>5.000000</td></tr>\n",
       "\t<tr><td>game_type_game_effect_no_participant_effect       </td><td>2529.042</td><td>6.714286</td><td>2567.389</td><td>7.428571</td></tr>\n",
       "\t<tr><td>archive_distance_game_effect_no_participant_effect</td><td>2531.014</td><td>7.428571</td><td>2564.568</td><td>6.714286</td></tr>\n",
       "</tbody>\n",
       "</table>\n"
      ],
      "text/latex": [
       "A tibble: 8 x 5\n",
       "\\begin{tabular}{lllll}\n",
       " model & mean\\_aic & mean\\_aic\\_rank & mean\\_bic & mean\\_bic\\_rank\\\\\n",
       " <chr> & <dbl> & <dbl> & <dbl> & <dbl>\\\\\n",
       "\\hline\n",
       "\t game\\_type\\_game\\_effect                              & 2299.193 & 1.571429 & 2342.335 & 2.571429\\\\\n",
       "\t archive\\_distance\\_game\\_effect                       & 2301.782 & 2.714286 & 2340.129 & 1.714286\\\\\n",
       "\t archive\\_distance\\_model\\_game\\_game\\_effect            & 2300.796 & 2.714286 & 2343.938 & 3.000000\\\\\n",
       "\t game\\_type\\_no\\_game\\_effect                           & 2342.645 & 4.285714 & 2380.993 & 4.428571\\\\\n",
       "\t archive\\_distance\\_model\\_game\\_no\\_game\\_effect         & 2345.565 & 5.000000 & 2383.913 & 5.142857\\\\\n",
       "\t archive\\_distance\\_no\\_game\\_effect                    & 2351.116 & 5.571429 & 2384.670 & 5.000000\\\\\n",
       "\t game\\_type\\_game\\_effect\\_no\\_participant\\_effect        & 2529.042 & 6.714286 & 2567.389 & 7.428571\\\\\n",
       "\t archive\\_distance\\_game\\_effect\\_no\\_participant\\_effect & 2531.014 & 7.428571 & 2564.568 & 6.714286\\\\\n",
       "\\end{tabular}\n"
      ],
      "text/markdown": [
       "\n",
       "A tibble: 8 x 5\n",
       "\n",
       "| model &lt;chr&gt; | mean_aic &lt;dbl&gt; | mean_aic_rank &lt;dbl&gt; | mean_bic &lt;dbl&gt; | mean_bic_rank &lt;dbl&gt; |\n",
       "|---|---|---|---|---|\n",
       "| game_type_game_effect                              | 2299.193 | 1.571429 | 2342.335 | 2.571429 |\n",
       "| archive_distance_game_effect                       | 2301.782 | 2.714286 | 2340.129 | 1.714286 |\n",
       "| archive_distance_model_game_game_effect            | 2300.796 | 2.714286 | 2343.938 | 3.000000 |\n",
       "| game_type_no_game_effect                           | 2342.645 | 4.285714 | 2380.993 | 4.428571 |\n",
       "| archive_distance_model_game_no_game_effect         | 2345.565 | 5.000000 | 2383.913 | 5.142857 |\n",
       "| archive_distance_no_game_effect                    | 2351.116 | 5.571429 | 2384.670 | 5.000000 |\n",
       "| game_type_game_effect_no_participant_effect        | 2529.042 | 6.714286 | 2567.389 | 7.428571 |\n",
       "| archive_distance_game_effect_no_participant_effect | 2531.014 | 7.428571 | 2564.568 | 6.714286 |\n",
       "\n"
      ],
      "text/plain": [
       "  model                                              mean_aic mean_aic_rank mean_bic mean_bic_rank\n",
       "1 game_type_game_effect                              2299.193 1.571429      2342.335 2.571429     \n",
       "2 archive_distance_game_effect                       2301.782 2.714286      2340.129 1.714286     \n",
       "3 archive_distance_model_game_game_effect            2300.796 2.714286      2343.938 3.000000     \n",
       "4 game_type_no_game_effect                           2342.645 4.285714      2380.993 4.428571     \n",
       "5 archive_distance_model_game_no_game_effect         2345.565 5.000000      2383.913 5.142857     \n",
       "6 archive_distance_no_game_effect                    2351.116 5.571429      2384.670 5.000000     \n",
       "7 game_type_game_effect_no_participant_effect        2529.042 6.714286      2567.389 7.428571     \n",
       "8 archive_distance_game_effect_no_participant_effect 2531.014 7.428571      2564.568 6.714286     "
      ]
     },
     "metadata": {},
     "output_type": "display_data"
    }
   ],
   "source": [
    "model_comparison_summary_df <- model_comparison_df %>%\n",
    "    group_by(model) %>%\n",
    "    summarize(\n",
    "        mean_aic = mean(aic),\n",
    "        mean_aic_rank = mean(aic_rank),\n",
    "        mean_bic = mean(bic),\n",
    "        mean_bic_rank = mean(bic_rank)\n",
    "    ) %>%\n",
    "    arrange(mean_aic_rank);\n",
    "\n",
    "model_comparison_summary_df"
   ]
  },
  {
   "cell_type": "code",
   "execution_count": 16,
   "metadata": {
    "vscode": {
     "languageId": "r"
    }
   },
   "outputs": [
    {
     "name": "stdout",
     "output_type": "stream",
     "text": [
      "For confident, adding the game ID random effects results in AIC diff: 49.03556 | Chi-squared: NULL | p-value: 9.070776e-13\n",
      "For fun_play, adding the game ID random effects results in AIC diff: 39.63944 | Chi-squared: NULL | p-value: 1.097565e-10\n",
      "For fun_watch, adding the game ID random effects results in AIC diff: 26.17496 | Chi-squared: NULL | p-value: 1.108294e-07\n",
      "For capability, adding the game ID random effects results in AIC diff: -1.977122 | Chi-squared: NULL | p-value: 0.8797742\n",
      "For goldilocks, adding the game ID random effects results in AIC diff: 108.3868 | Chi-squared: NULL | p-value: 8.062017e-26\n",
      "For creativity, adding the game ID random effects results in AIC diff: 53.75391 | Chi-squared: NULL | p-value: 8.213478e-14\n",
      "For human_likeness, adding the game ID random effects results in AIC diff: 29.1491 | Chi-squared: NULL | p-value: 2.389503e-08\n"
     ]
    }
   ],
   "source": [
    "\n",
    "\n",
    "# Iterate through attributes\n",
    "for (attr in ATTRIBUTES) {\n",
    "    attr.mm_no_game_id <- clmm(\n",
    "        formula = as.formula(glue(\"C({attr}) ~ 1 + C(game_type) + normalized_fitness + (1 | participant_id)\")),\n",
    "        data = filtered_df, Hess = TRUE\n",
    "    )\n",
    "    attr.mm_with_game_id <- clmm(\n",
    "        formula = as.formula(glue(\"C({attr}) ~ 1 + C(game_type) + normalized_fitness + (1 | participant_id) + (1 | full_game_id)\")),\n",
    "        data = filtered_df, Hess = TRUE\n",
    "    )\n",
    "\n",
    "    anova_results <- anova(attr.mm_no_game_id, attr.mm_with_game_id)\n",
    "    attr.aic_before <- anova_results$AIC[[1]]\n",
    "    attr.aic_after <- anova_results$AIC[[2]]\n",
    "    attr.aic_diff <- attr.aic_before - attr.aic_after\n",
    "    attr.chisq <- anova_results$Chisq[[2]]\n",
    "    attr.pvalue <- anova_results$`Pr(>Chisq)`[[2]] \n",
    "    \n",
    "    print(glue(\"For {attr}, adding the game ID random effects results in AIC diff: {format(attr.aic_diff, nsmall=3)} | Chi-squared: {format(attr.chisq, nsmall=3)} | p-value: {format(attr.pvalue, nsmall=3)}\"))\n",
    "}\n",
    "\n"
   ]
  },
  {
   "cell_type": "markdown",
   "metadata": {},
   "source": [
    "Conclusion: we absolutely also need a mixed effect for the games\n",
    "\n",
    "## Does a model with archive distances fit better than a model with game type categories?"
   ]
  },
  {
   "cell_type": "code",
   "execution_count": 17,
   "metadata": {
    "vscode": {
     "languageId": "r"
    }
   },
   "outputs": [
    {
     "name": "stdout",
     "output_type": "stream",
     "text": [
      "Likelihood ratio tests of cumulative link models:\n",
      " \n",
      "                      formula:                                                                                                                         link:\n",
      "attr.archive_distance as.formula(glue(\"C({attr}) ~ 1 + normalized_archive_distance + normalized_fitness + (1 | participant_id) + (1 | full_game_id)\")) logit\n",
      "attr.game_type        as.formula(glue(\"C({attr}) ~ 1 + C(game_type) + normalized_fitness + (1 | participant_id) + (1 | full_game_id)\"))                logit\n",
      "                      threshold:\n",
      "attr.archive_distance flexible  \n",
      "attr.game_type        flexible  \n",
      "\n",
      "                      no.par    AIC  logLik LR.stat df Pr(>Chisq)  \n",
      "attr.archive_distance      8 2385.5 -1184.8                        \n",
      "attr.game_type             9 2382.6 -1182.3  4.9194  1    0.02656 *\n",
      "---\n",
      "Signif. codes:  0 '***' 0.001 '**' 0.01 '*' 0.05 '.' 0.1 ' ' 1\n",
      "For confident, switching game type for archive distance results in AIC diff: 2.91938 | Chi-squared: NULL | p-value: 0.02655704\n",
      "Likelihood ratio tests of cumulative link models:\n",
      " \n",
      "                      formula:                                                                                                                         link:\n",
      "attr.archive_distance as.formula(glue(\"C({attr}) ~ 1 + normalized_archive_distance + normalized_fitness + (1 | participant_id) + (1 | full_game_id)\")) logit\n",
      "attr.game_type        as.formula(glue(\"C({attr}) ~ 1 + C(game_type) + normalized_fitness + (1 | participant_id) + (1 | full_game_id)\"))                logit\n",
      "                      threshold:\n",
      "attr.archive_distance flexible  \n",
      "attr.game_type        flexible  \n",
      "\n",
      "                      no.par    AIC  logLik LR.stat df Pr(>Chisq)  \n",
      "attr.archive_distance      8 2290.6 -1137.3                        \n",
      "attr.game_type             9 2286.9 -1134.5  5.6767  1    0.01719 *\n",
      "---\n",
      "Signif. codes:  0 '***' 0.001 '**' 0.01 '*' 0.05 '.' 0.1 ' ' 1\n",
      "For fun_play, switching game type for archive distance results in AIC diff: 3.676693 | Chi-squared: NULL | p-value: 0.01719174\n",
      "Likelihood ratio tests of cumulative link models:\n",
      " \n",
      "                      formula:                                                                                                                         link:\n",
      "attr.archive_distance as.formula(glue(\"C({attr}) ~ 1 + normalized_archive_distance + normalized_fitness + (1 | participant_id) + (1 | full_game_id)\")) logit\n",
      "attr.game_type        as.formula(glue(\"C({attr}) ~ 1 + C(game_type) + normalized_fitness + (1 | participant_id) + (1 | full_game_id)\"))                logit\n",
      "                      threshold:\n",
      "attr.archive_distance flexible  \n",
      "attr.game_type        flexible  \n",
      "\n",
      "                      no.par    AIC logLik LR.stat df Pr(>Chisq)\n",
      "attr.archive_distance      8 2170.0  -1077                      \n",
      "attr.game_type             9 2172.1  -1077 -0.1353  1          1\n",
      "For fun_watch, switching game type for archive distance results in AIC diff: -2.135293 | Chi-squared: NULL | p-value: 1.000\n",
      "Likelihood ratio tests of cumulative link models:\n",
      " \n",
      "                      formula:                                                                                                                         link:\n",
      "attr.archive_distance as.formula(glue(\"C({attr}) ~ 1 + normalized_archive_distance + normalized_fitness + (1 | participant_id) + (1 | full_game_id)\")) logit\n",
      "attr.game_type        as.formula(glue(\"C({attr}) ~ 1 + C(game_type) + normalized_fitness + (1 | participant_id) + (1 | full_game_id)\"))                logit\n",
      "                      threshold:\n",
      "attr.archive_distance flexible  \n",
      "attr.game_type        flexible  \n",
      "\n",
      "                      no.par    AIC  logLik LR.stat df Pr(>Chisq)  \n",
      "attr.archive_distance      8 2403.1 -1193.6                        \n",
      "attr.game_type             9 2400.6 -1191.3  4.4772  1    0.03435 *\n",
      "---\n",
      "Signif. codes:  0 '***' 0.001 '**' 0.01 '*' 0.05 '.' 0.1 ' ' 1\n",
      "For capability, switching game type for archive distance results in AIC diff: 2.477237 | Chi-squared: NULL | p-value: 0.03434921\n",
      "Likelihood ratio tests of cumulative link models:\n",
      " \n",
      "                      formula:                                                                                                                         link:\n",
      "attr.archive_distance as.formula(glue(\"C({attr}) ~ 1 + normalized_archive_distance + normalized_fitness + (1 | participant_id) + (1 | full_game_id)\")) logit\n",
      "attr.game_type        as.formula(glue(\"C({attr}) ~ 1 + C(game_type) + normalized_fitness + (1 | participant_id) + (1 | full_game_id)\"))                logit\n",
      "                      threshold:\n",
      "attr.archive_distance flexible  \n",
      "attr.game_type        flexible  \n",
      "\n",
      "                      no.par    AIC  logLik LR.stat df Pr(>Chisq)\n",
      "attr.archive_distance      8 2232.4 -1108.2                      \n",
      "attr.game_type             9 2231.9 -1107.0  2.5281  1     0.1118\n",
      "For goldilocks, switching game type for archive distance results in AIC diff: 0.5281376 | Chi-squared: NULL | p-value: 0.1118321\n",
      "Likelihood ratio tests of cumulative link models:\n",
      " \n",
      "                      formula:                                                                                                                         link:\n",
      "attr.archive_distance as.formula(glue(\"C({attr}) ~ 1 + normalized_archive_distance + normalized_fitness + (1 | participant_id) + (1 | full_game_id)\")) logit\n",
      "attr.game_type        as.formula(glue(\"C({attr}) ~ 1 + C(game_type) + normalized_fitness + (1 | participant_id) + (1 | full_game_id)\"))                logit\n",
      "                      threshold:\n",
      "attr.archive_distance flexible  \n",
      "attr.game_type        flexible  \n",
      "\n",
      "                      no.par    AIC  logLik LR.stat df Pr(>Chisq)  \n",
      "attr.archive_distance      8 2172.6 -1078.3                        \n",
      "attr.game_type             9 2171.6 -1076.8  2.9118  1    0.08793 .\n",
      "---\n",
      "Signif. codes:  0 '***' 0.001 '**' 0.01 '*' 0.05 '.' 0.1 ' ' 1\n",
      "For creativity, switching game type for archive distance results in AIC diff: 0.9118055 | Chi-squared: NULL | p-value: 0.08793338\n",
      "Likelihood ratio tests of cumulative link models:\n",
      " \n",
      "                      formula:                                                                                                                         link:\n",
      "attr.archive_distance as.formula(glue(\"C({attr}) ~ 1 + normalized_archive_distance + normalized_fitness + (1 | participant_id) + (1 | full_game_id)\")) logit\n",
      "attr.game_type        as.formula(glue(\"C({attr}) ~ 1 + C(game_type) + normalized_fitness + (1 | participant_id) + (1 | full_game_id)\"))                logit\n",
      "                      threshold:\n",
      "attr.archive_distance flexible  \n",
      "attr.game_type        flexible  \n",
      "\n",
      "                      no.par    AIC  logLik LR.stat df Pr(>Chisq)    \n",
      "attr.archive_distance      8 2458.3 -1221.1                          \n",
      "attr.game_type             9 2448.6 -1215.3   11.74  1  0.0006117 ***\n",
      "---\n",
      "Signif. codes:  0 '***' 0.001 '**' 0.01 '*' 0.05 '.' 0.1 ' ' 1\n",
      "For human_likeness, switching game type for archive distance results in AIC diff: 9.740073 | Chi-squared: NULL | p-value: 0.0006116861\n"
     ]
    }
   ],
   "source": [
    "# Iterate through attributes\n",
    "for (attr in ATTRIBUTES) {\n",
    "    # Create formula with current attribute\n",
    "    # attr.lmer_no_game_id <- lmer(formula = as.formula(glue(\"{attr} ~ 1 + game_type + normalized_fitness + (1 | participant_id)\")), data = filtered_df)\n",
    "    # attr.lmer_with_game_id <- update(attr.lmer_no_game_id, . ~ . + (1 + game_type | full_game_id))\n",
    "\n",
    "    attr.game_type <- clmm(\n",
    "        formula = as.formula(glue(\"C({attr}) ~ 1 + C(game_type) + normalized_fitness + (1 | participant_id) + (1 | full_game_id)\")),\n",
    "        data = filtered_df, Hess = TRUE\n",
    "    )\n",
    "    attr.archive_distance <- clmm(\n",
    "        formula = as.formula(glue(\"C({attr}) ~ 1 + normalized_archive_distance + normalized_fitness + (1 | participant_id) + (1 | full_game_id)\")),\n",
    "        data = filtered_df, Hess = TRUE\n",
    "    )\n",
    "\n",
    "    anova_results <- anova(attr.game_type, attr.archive_distance)\n",
    "    print(anova_results)\n",
    "    attr.aic_diff <- anova_results$AIC[[1]] - anova_results$AIC[[2]]\n",
    "    attr.chisq <- anova_results$Chisq[[2]]\n",
    "    attr.pvalue <- anova_results$`Pr(>Chisq)`[[2]] \n",
    "    # fixed_effects_aic <- AIC(logLik(attr.glm))\n",
    "    # mixed_effects_aic <- AIC(logLik(attr.lmer))\n",
    "    # aic_diff <- fixed_effects_aic - mixed_effects_aic\n",
    "    print(glue(\"For {attr}, switching game type for archive distance results in AIC diff: {format(attr.aic_diff, nsmall=3)} | Chi-squared: {format(attr.chisq, nsmall=3)} | p-value: {format(attr.pvalue, nsmall=3)}\"))\n",
    "}\n",
    "\n",
    "# anova(conf.model.without, conf.model.with)\n",
    "# summary(confident_model)"
   ]
  },
  {
   "cell_type": "markdown",
   "metadata": {},
   "source": [
    "Almost exactly the same\n",
    "\n",
    "## Does adding a model game indicator help further?"
   ]
  },
  {
   "cell_type": "code",
   "execution_count": 18,
   "metadata": {
    "vscode": {
     "languageId": "r"
    }
   },
   "outputs": [
    {
     "name": "stdout",
     "output_type": "stream",
     "text": [
      "For confident, adding a model game indicator results in AIC diff: 3.228613 | Chi-squared: NULL | p-value: 0.02221824\n",
      "For fun_play, adding a model game indicator results in AIC diff: 2.091675 | Chi-squared: NULL | p-value: 0.0430949\n",
      "For fun_watch, adding a model game indicator results in AIC diff: -0.6352981 | Chi-squared: NULL | p-value: 0.2427243\n",
      "For capability, adding a model game indicator results in AIC diff: -1.615036 | Chi-squared: NULL | p-value: 0.5349583\n",
      "For goldilocks, adding a model game indicator results in AIC diff: -0.5241679 | Chi-squared: NULL | p-value: 0.2244278\n",
      "For creativity, adding a model game indicator results in AIC diff: -1.880096 | Chi-squared: NULL | p-value: 0.7291388\n",
      "For human_likeness, adding a model game indicator results in AIC diff: 6.231471 | Chi-squared: NULL | p-value: 0.004117014\n"
     ]
    }
   ],
   "source": [
    "# Iterate through attributes\n",
    "for (attr in ATTRIBUTES) {\n",
    "    # Create formula with current attribute\n",
    "    # attr.lmer_no_game_id <- lmer(formula = as.formula(glue(\"{attr} ~ 1 + game_type + normalized_fitness + (1 | participant_id)\")), data = filtered_df)\n",
    "    # attr.lmer_with_game_id <- update(attr.lmer_no_game_id, . ~ . + (1 + game_type | full_game_id))\n",
    "\n",
    "    attr.no_model_game <- clmm(\n",
    "        formula = as.formula(glue(\"C({attr}) ~ 1 + normalized_archive_distance + normalized_fitness + (1 | participant_id) + (1 | full_game_id)\")),\n",
    "        data = filtered_df, Hess = TRUE\n",
    "    )\n",
    "    attr.model_game <- clmm(\n",
    "        formula = as.formula(glue(\"C({attr}) ~ 1 + normalized_archive_distance + model_game + normalized_fitness + (1 | participant_id) + (1 | full_game_id)\")),\n",
    "        data = filtered_df, Hess = TRUE\n",
    "    )\n",
    "    # attr.model_game <- clmm(\n",
    "    #     formula = as.formula(glue(\"C({attr}) ~ 1 + normalized_archive_distance + normalized_fitness + (1 | participant_id) + (1 | full_game_id)\")),\n",
    "    #     data = filtered_df, Hess = TRUE\n",
    "    # )\n",
    "\n",
    "    anova_results <- anova(attr.no_model_game, attr.model_game)\n",
    "    attr.aic_diff <- anova_results$AIC[[1]] - anova_results$AIC[[2]]\n",
    "    attr.chisq <- anova_results$Chisq[[2]]\n",
    "    attr.pvalue <- anova_results$`Pr(>Chisq)`[[2]] \n",
    "    # fixed_effects_aic <- AIC(logLik(attr.glm))\n",
    "    # mixed_effects_aic <- AIC(logLik(attr.lmer))\n",
    "    # aic_diff <- fixed_effects_aic - mixed_effects_aic\n",
    "    print(glue(\"For {attr}, adding a model game indicator results in AIC diff: {format(attr.aic_diff, nsmall=3)} | Chi-squared: {format(attr.chisq, nsmall=3)} | p-value: {format(attr.pvalue, nsmall=3)}\"))\n",
    "}\n",
    "\n",
    "# anova(conf.model.without, conf.model.with)\n",
    "# summary(confident_model)"
   ]
  },
  {
   "cell_type": "markdown",
   "metadata": {},
   "source": [
    "Not really.\n",
    "\n",
    "## Let's analyze these now"
   ]
  },
  {
   "cell_type": "code",
   "execution_count": 19,
   "metadata": {
    "vscode": {
     "languageId": "r"
    }
   },
   "outputs": [
    {
     "data": {
      "text/markdown": [
       "## confident"
      ]
     },
     "metadata": {},
     "output_type": "display_data"
    },
    {
     "data": {
      "text/markdown": [
       "### Mixed Effects Model"
      ]
     },
     "metadata": {},
     "output_type": "display_data"
    },
    {
     "data": {
      "text/plain": [
       "Cumulative Link Mixed Model fitted with the Laplace approximation\n",
       "\n",
       "formula: C(confident) ~ 1 + normalized_fitness + C(game_type) + (1 | participant_id) +      (1 | full_game_id)\n",
       "data:    analysis_df\n",
       "\n",
       " link  threshold nobs logLik   AIC     niter     max.grad cond.H \n",
       " logit flexible  892  -1182.29 2382.59 755(3012) 2.29e-04 8.8e+01\n",
       "\n",
       "Random effects:\n",
       " Groups         Name        Variance Std.Dev.\n",
       " participant_id (Intercept) 1.2831   1.1327  \n",
       " full_game_id   (Intercept) 0.7669   0.8757  \n",
       "Number of groups:  participant_id 100,  full_game_id 90 \n",
       "\n",
       "Coefficients:\n",
       "                    Estimate Std. Error z value Pr(>|z|)    \n",
       "normalized_fitness    0.8459     0.1504   5.625 1.86e-08 ***\n",
       "C(game_type)matched   0.5253     0.2974   1.766   0.0773 .  \n",
       "C(game_type)real      1.1511     0.2852   4.036 5.43e-05 ***\n",
       "---\n",
       "Signif. codes:  0 '***' 0.001 '**' 0.01 '*' 0.05 '.' 0.1 ' ' 1\n",
       "\n",
       "Threshold coefficients:\n",
       "    Estimate Std. Error z value\n",
       "1|2 -2.80972    0.26835 -10.471\n",
       "2|3 -1.36745    0.24135  -5.666\n",
       "3|4 -0.01259    0.23532  -0.054\n",
       "4|5  1.58470    0.24237   6.538"
      ]
     },
     "metadata": {},
     "output_type": "display_data"
    },
    {
     "name": "stderr",
     "output_type": "stream",
     "text": [
      "Warning message:\n",
      "\"contrasts dropped from factor C(game_type)\"\n"
     ]
    },
    {
     "data": {
      "text/markdown": [
       "### Marginal Means"
      ]
     },
     "metadata": {},
     "output_type": "display_data"
    },
    {
     "data": {
      "text/plain": [
       " contrast                   estimate    SE  df z.ratio p.value\n",
       " matched - unmatched_top_30    0.525 0.297 Inf   1.766  0.1810\n",
       " real - unmatched_top_30       1.151 0.285 Inf   4.036  0.0002\n",
       " real - matched                0.626 0.305 Inf   2.055  0.0995\n",
       "\n",
       "P value adjustment: tukey method for comparing a family of 3 estimates "
      ]
     },
     "metadata": {},
     "output_type": "display_data"
    },
    {
     "data": {
      "text/markdown": [
       "------------------"
      ]
     },
     "metadata": {},
     "output_type": "display_data"
    },
    {
     "data": {
      "text/markdown": [
       "## fun_play"
      ]
     },
     "metadata": {},
     "output_type": "display_data"
    },
    {
     "data": {
      "text/markdown": [
       "### Mixed Effects Model"
      ]
     },
     "metadata": {},
     "output_type": "display_data"
    },
    {
     "data": {
      "text/plain": [
       "Cumulative Link Mixed Model fitted with the Laplace approximation\n",
       "\n",
       "formula: C(fun_play) ~ 1 + normalized_fitness + C(game_type) + (1 | participant_id) +      (1 | full_game_id)\n",
       "data:    analysis_df\n",
       "\n",
       " link  threshold nobs logLik   AIC     niter     max.grad cond.H \n",
       " logit flexible  892  -1134.46 2286.92 699(4357) 3.32e-04 6.8e+01\n",
       "\n",
       "Random effects:\n",
       " Groups         Name        Variance Std.Dev.\n",
       " participant_id (Intercept) 2.8697   1.6940  \n",
       " full_game_id   (Intercept) 0.5779   0.7602  \n",
       "Number of groups:  participant_id 100,  full_game_id 90 \n",
       "\n",
       "Coefficients:\n",
       "                    Estimate Std. Error z value Pr(>|z|)    \n",
       "normalized_fitness    0.3956     0.1347   2.936  0.00332 ** \n",
       "C(game_type)matched   0.6287     0.2736   2.298  0.02158 *  \n",
       "C(game_type)real      1.0589     0.2633   4.021  5.8e-05 ***\n",
       "---\n",
       "Signif. codes:  0 '***' 0.001 '**' 0.01 '*' 0.05 '.' 0.1 ' ' 1\n",
       "\n",
       "Threshold coefficients:\n",
       "    Estimate Std. Error z value\n",
       "1|2  -0.9559     0.2597  -3.681\n",
       "2|3   1.1138     0.2624   4.245\n",
       "3|4   3.2945     0.2882  11.431\n",
       "4|5   5.0773     0.3411  14.887"
      ]
     },
     "metadata": {},
     "output_type": "display_data"
    },
    {
     "name": "stderr",
     "output_type": "stream",
     "text": [
      "Warning message:\n",
      "\"contrasts dropped from factor C(game_type)\"\n"
     ]
    },
    {
     "data": {
      "text/markdown": [
       "### Marginal Means"
      ]
     },
     "metadata": {},
     "output_type": "display_data"
    },
    {
     "data": {
      "text/plain": [
       " contrast                   estimate    SE  df z.ratio p.value\n",
       " matched - unmatched_top_30    0.629 0.274 Inf   2.298  0.0561\n",
       " real - unmatched_top_30       1.059 0.263 Inf   4.021  0.0002\n",
       " real - matched                0.430 0.273 Inf   1.577  0.2556\n",
       "\n",
       "P value adjustment: tukey method for comparing a family of 3 estimates "
      ]
     },
     "metadata": {},
     "output_type": "display_data"
    },
    {
     "data": {
      "text/markdown": [
       "------------------"
      ]
     },
     "metadata": {},
     "output_type": "display_data"
    },
    {
     "data": {
      "text/markdown": [
       "## fun_watch"
      ]
     },
     "metadata": {},
     "output_type": "display_data"
    },
    {
     "data": {
      "text/markdown": [
       "### Mixed Effects Model"
      ]
     },
     "metadata": {},
     "output_type": "display_data"
    },
    {
     "data": {
      "text/plain": [
       "Cumulative Link Mixed Model fitted with the Laplace approximation\n",
       "\n",
       "formula: C(fun_watch) ~ 1 + normalized_fitness + C(game_type) + (1 | participant_id) +      (1 | full_game_id)\n",
       "data:    analysis_df\n",
       "\n",
       " link  threshold nobs logLik   AIC     niter     max.grad cond.H \n",
       " logit flexible  892  -1077.05 2172.09 642(4301) 3.19e-04 6.8e+01\n",
       "\n",
       "Random effects:\n",
       " Groups         Name        Variance Std.Dev.\n",
       " participant_id (Intercept) 4.4133   2.1008  \n",
       " full_game_id   (Intercept) 0.5064   0.7116  \n",
       "Number of groups:  participant_id 100,  full_game_id 90 \n",
       "\n",
       "Coefficients:\n",
       "                    Estimate Std. Error z value Pr(>|z|)    \n",
       "normalized_fitness    0.1912     0.1302   1.469  0.14196    \n",
       "C(game_type)matched   0.6413     0.2657   2.414  0.01577 *  \n",
       "C(game_type)real      0.9118     0.2571   3.547  0.00039 ***\n",
       "---\n",
       "Signif. codes:  0 '***' 0.001 '**' 0.01 '*' 0.05 '.' 0.1 ' ' 1\n",
       "\n",
       "Threshold coefficients:\n",
       "    Estimate Std. Error z value\n",
       "1|2  -0.7974     0.2862  -2.786\n",
       "2|3   1.4145     0.2925   4.836\n",
       "3|4   3.5055     0.3199  10.958\n",
       "4|5   5.6182     0.3808  14.754"
      ]
     },
     "metadata": {},
     "output_type": "display_data"
    },
    {
     "name": "stderr",
     "output_type": "stream",
     "text": [
      "Warning message:\n",
      "\"contrasts dropped from factor C(game_type)\"\n"
     ]
    },
    {
     "data": {
      "text/markdown": [
       "### Marginal Means"
      ]
     },
     "metadata": {},
     "output_type": "display_data"
    },
    {
     "data": {
      "text/plain": [
       " contrast                   estimate    SE  df z.ratio p.value\n",
       " matched - unmatched_top_30    0.641 0.266 Inf   2.414  0.0417\n",
       " real - unmatched_top_30       0.912 0.257 Inf   3.547  0.0011\n",
       " real - matched                0.271 0.264 Inf   1.025  0.5608\n",
       "\n",
       "P value adjustment: tukey method for comparing a family of 3 estimates "
      ]
     },
     "metadata": {},
     "output_type": "display_data"
    },
    {
     "data": {
      "text/markdown": [
       "------------------"
      ]
     },
     "metadata": {},
     "output_type": "display_data"
    },
    {
     "data": {
      "text/markdown": [
       "## capability"
      ]
     },
     "metadata": {},
     "output_type": "display_data"
    },
    {
     "data": {
      "text/markdown": [
       "### Mixed Effects Model"
      ]
     },
     "metadata": {},
     "output_type": "display_data"
    },
    {
     "data": {
      "text/plain": [
       "Cumulative Link Mixed Model fitted with the Laplace approximation\n",
       "\n",
       "formula: C(capability) ~ 1 + normalized_fitness + C(game_type) + (1 |      participant_id) + (1 | full_game_id)\n",
       "data:    analysis_df\n",
       "\n",
       " link  threshold nobs logLik   AIC     niter     max.grad cond.H \n",
       " logit flexible  892  -1191.32 2400.65 688(4093) 1.16e-03 4.9e+01\n",
       "\n",
       "Random effects:\n",
       " Groups         Name        Variance Std.Dev.\n",
       " participant_id (Intercept) 3.616428 1.90169 \n",
       " full_game_id   (Intercept) 0.007948 0.08915 \n",
       "Number of groups:  participant_id 100,  full_game_id 90 \n",
       "\n",
       "Coefficients:\n",
       "                    Estimate Std. Error z value Pr(>|z|)  \n",
       "normalized_fitness  -0.18855    0.08718  -2.163   0.0306 *\n",
       "C(game_type)matched  0.34903    0.17045   2.048   0.0406 *\n",
       "C(game_type)real     0.23183    0.16090   1.441   0.1496  \n",
       "---\n",
       "Signif. codes:  0 '***' 0.001 '**' 0.01 '*' 0.05 '.' 0.1 ' ' 1\n",
       "\n",
       "Threshold coefficients:\n",
       "    Estimate Std. Error z value\n",
       "1|2  -2.9044     0.2543 -11.421\n",
       "2|3  -0.6740     0.2313  -2.914\n",
       "3|4   1.1571     0.2353   4.918\n",
       "4|5   3.0714     0.2635  11.658"
      ]
     },
     "metadata": {},
     "output_type": "display_data"
    },
    {
     "name": "stderr",
     "output_type": "stream",
     "text": [
      "Warning message:\n",
      "\"contrasts dropped from factor C(game_type)\"\n"
     ]
    },
    {
     "data": {
      "text/markdown": [
       "### Marginal Means"
      ]
     },
     "metadata": {},
     "output_type": "display_data"
    },
    {
     "data": {
      "text/plain": [
       " contrast                   estimate    SE  df z.ratio p.value\n",
       " matched - unmatched_top_30    0.349 0.170 Inf   2.048  0.1010\n",
       " real - unmatched_top_30       0.232 0.161 Inf   1.441  0.3199\n",
       " real - matched               -0.117 0.167 Inf  -0.701  0.7630\n",
       "\n",
       "P value adjustment: tukey method for comparing a family of 3 estimates "
      ]
     },
     "metadata": {},
     "output_type": "display_data"
    },
    {
     "data": {
      "text/markdown": [
       "------------------"
      ]
     },
     "metadata": {},
     "output_type": "display_data"
    },
    {
     "data": {
      "text/markdown": [
       "## goldilocks"
      ]
     },
     "metadata": {},
     "output_type": "display_data"
    },
    {
     "data": {
      "text/markdown": [
       "### Mixed Effects Model"
      ]
     },
     "metadata": {},
     "output_type": "display_data"
    },
    {
     "data": {
      "text/plain": [
       "Cumulative Link Mixed Model fitted with the Laplace approximation\n",
       "\n",
       "formula: C(goldilocks) ~ 1 + normalized_fitness + C(game_type) + (1 |      participant_id) + (1 | full_game_id)\n",
       "data:    analysis_df\n",
       "\n",
       " link  threshold nobs logLik   AIC     niter     max.grad cond.H \n",
       " logit flexible  892  -1106.95 2231.91 570(2858) 1.15e-03 8.2e+01\n",
       "\n",
       "Random effects:\n",
       " Groups         Name        Variance Std.Dev.\n",
       " participant_id (Intercept) 1.161    1.078   \n",
       " full_game_id   (Intercept) 1.256    1.121   \n",
       "Number of groups:  participant_id 100,  full_game_id 90 \n",
       "\n",
       "Coefficients:\n",
       "                    Estimate Std. Error z value Pr(>|z|)    \n",
       "normalized_fitness   -0.5878     0.1707  -3.443 0.000576 ***\n",
       "C(game_type)matched   0.3630     0.3529   1.029 0.303615    \n",
       "C(game_type)real     -0.2498     0.3377  -0.740 0.459502    \n",
       "---\n",
       "Signif. codes:  0 '***' 0.001 '**' 0.01 '*' 0.05 '.' 0.1 ' ' 1\n",
       "\n",
       "Threshold coefficients:\n",
       "    Estimate Std. Error z value\n",
       "1|2  -2.3600     0.2832  -8.335\n",
       "2|3  -0.7327     0.2700  -2.713\n",
       "3|4   2.3733     0.2841   8.353\n",
       "4|5   4.1018     0.3273  12.532"
      ]
     },
     "metadata": {},
     "output_type": "display_data"
    },
    {
     "name": "stderr",
     "output_type": "stream",
     "text": [
      "Warning message:\n",
      "\"contrasts dropped from factor C(game_type)\"\n"
     ]
    },
    {
     "data": {
      "text/markdown": [
       "### Marginal Means"
      ]
     },
     "metadata": {},
     "output_type": "display_data"
    },
    {
     "data": {
      "text/plain": [
       " contrast                   estimate    SE  df z.ratio p.value\n",
       " matched - unmatched_top_30    0.363 0.353 Inf   1.029  0.5587\n",
       " real - unmatched_top_30      -0.250 0.338 Inf  -0.740  0.7399\n",
       " real - matched               -0.613 0.355 Inf  -1.725  0.1957\n",
       "\n",
       "P value adjustment: tukey method for comparing a family of 3 estimates "
      ]
     },
     "metadata": {},
     "output_type": "display_data"
    },
    {
     "data": {
      "text/markdown": [
       "------------------"
      ]
     },
     "metadata": {},
     "output_type": "display_data"
    },
    {
     "data": {
      "text/markdown": [
       "## creativity"
      ]
     },
     "metadata": {},
     "output_type": "display_data"
    },
    {
     "data": {
      "text/markdown": [
       "### Mixed Effects Model"
      ]
     },
     "metadata": {},
     "output_type": "display_data"
    },
    {
     "data": {
      "text/plain": [
       "Cumulative Link Mixed Model fitted with the Laplace approximation\n",
       "\n",
       "formula: C(creativity) ~ 1 + normalized_fitness + C(game_type) + (1 |      participant_id) + (1 | full_game_id)\n",
       "data:    analysis_df\n",
       "\n",
       " link  threshold nobs logLik   AIC     niter     max.grad cond.H \n",
       " logit flexible  892  -1076.82 2171.64 648(3603) 5.40e-04 7.1e+01\n",
       "\n",
       "Random effects:\n",
       " Groups         Name        Variance Std.Dev.\n",
       " participant_id (Intercept) 2.9318   1.7122  \n",
       " full_game_id   (Intercept) 0.8534   0.9238  \n",
       "Number of groups:  participant_id 100,  full_game_id 90 \n",
       "\n",
       "Coefficients:\n",
       "                    Estimate Std. Error z value Pr(>|z|)   \n",
       "normalized_fitness   -0.4863     0.1524  -3.191  0.00142 **\n",
       "C(game_type)matched   0.5507     0.3101   1.776  0.07580 . \n",
       "C(game_type)real      0.4377     0.2983   1.467  0.14226   \n",
       "---\n",
       "Signif. codes:  0 '***' 0.001 '**' 0.01 '*' 0.05 '.' 0.1 ' ' 1\n",
       "\n",
       "Threshold coefficients:\n",
       "    Estimate Std. Error z value\n",
       "1|2  -1.2302     0.2820  -4.363\n",
       "2|3   1.0634     0.2822   3.769\n",
       "3|4   3.3883     0.3107  10.905\n",
       "4|5   5.5510     0.3920  14.162"
      ]
     },
     "metadata": {},
     "output_type": "display_data"
    },
    {
     "name": "stderr",
     "output_type": "stream",
     "text": [
      "Warning message:\n",
      "\"contrasts dropped from factor C(game_type)\"\n"
     ]
    },
    {
     "data": {
      "text/markdown": [
       "### Marginal Means"
      ]
     },
     "metadata": {},
     "output_type": "display_data"
    },
    {
     "data": {
      "text/plain": [
       " contrast                   estimate    SE  df z.ratio p.value\n",
       " matched - unmatched_top_30    0.551 0.310 Inf   1.776  0.1778\n",
       " real - unmatched_top_30       0.438 0.298 Inf   1.467  0.3067\n",
       " real - matched               -0.113 0.310 Inf  -0.364  0.9296\n",
       "\n",
       "P value adjustment: tukey method for comparing a family of 3 estimates "
      ]
     },
     "metadata": {},
     "output_type": "display_data"
    },
    {
     "data": {
      "text/markdown": [
       "------------------"
      ]
     },
     "metadata": {},
     "output_type": "display_data"
    },
    {
     "data": {
      "text/markdown": [
       "## human_likeness"
      ]
     },
     "metadata": {},
     "output_type": "display_data"
    },
    {
     "data": {
      "text/markdown": [
       "### Mixed Effects Model"
      ]
     },
     "metadata": {},
     "output_type": "display_data"
    },
    {
     "data": {
      "text/plain": [
       "Cumulative Link Mixed Model fitted with the Laplace approximation\n",
       "\n",
       "formula: C(human_likeness) ~ 1 + normalized_fitness + C(game_type) + (1 |      participant_id) + (1 | full_game_id)\n",
       "data:    analysis_df\n",
       "\n",
       " link  threshold nobs logLik   AIC     niter     max.grad cond.H \n",
       " logit flexible  892  -1215.28 2448.56 661(3291) 1.89e-03 7.5e+01\n",
       "\n",
       "Random effects:\n",
       " Groups         Name        Variance Std.Dev.\n",
       " participant_id (Intercept) 1.951    1.3967  \n",
       " full_game_id   (Intercept) 0.544    0.7375  \n",
       "Number of groups:  participant_id 100,  full_game_id 90 \n",
       "\n",
       "Coefficients:\n",
       "                    Estimate Std. Error z value Pr(>|z|)    \n",
       "normalized_fitness    0.5698     0.1320   4.316 1.59e-05 ***\n",
       "C(game_type)matched   0.8368     0.2676   3.128  0.00176 ** \n",
       "C(game_type)real      1.4455     0.2583   5.597 2.18e-08 ***\n",
       "---\n",
       "Signif. codes:  0 '***' 0.001 '**' 0.01 '*' 0.05 '.' 0.1 ' ' 1\n",
       "\n",
       "Threshold coefficients:\n",
       "    Estimate Std. Error z value\n",
       "1|2  -0.8014     0.2376  -3.373\n",
       "2|3   0.9950     0.2399   4.148\n",
       "3|4   2.6782     0.2566  10.439\n",
       "4|5   4.6799     0.2990  15.654"
      ]
     },
     "metadata": {},
     "output_type": "display_data"
    },
    {
     "name": "stderr",
     "output_type": "stream",
     "text": [
      "Warning message:\n",
      "\"contrasts dropped from factor C(game_type)\"\n"
     ]
    },
    {
     "data": {
      "text/markdown": [
       "### Marginal Means"
      ]
     },
     "metadata": {},
     "output_type": "display_data"
    },
    {
     "data": {
      "text/plain": [
       " contrast                   estimate    SE  df z.ratio p.value\n",
       " matched - unmatched_top_30    0.837 0.268 Inf   3.128  0.0050\n",
       " real - unmatched_top_30       1.446 0.258 Inf   5.597  <.0001\n",
       " real - matched                0.609 0.265 Inf   2.299  0.0559\n",
       "\n",
       "P value adjustment: tukey method for comparing a family of 3 estimates "
      ]
     },
     "metadata": {},
     "output_type": "display_data"
    },
    {
     "data": {
      "text/markdown": [
       "------------------"
      ]
     },
     "metadata": {},
     "output_type": "display_data"
    }
   ],
   "source": [
    "analysis_df <- data.table::copy(filtered_df)\n",
    "# analysis_df$game_type <- factor(analysis_df$game_type, levels = c('real', 'matched', 'unmatched', 'unmatched_top_30'))\n",
    "# analysis_df <- filtered_df[filtered_df$game_type != 'unmatched_top_30', ]\n",
    "# analysis_df$game_type <- droplevels(analysis_df$game_type)\n",
    "model_list <- list()\n",
    "\n",
    "for (attr in ATTRIBUTES) {\n",
    "    display_markdown(glue(\"## {attr}\"))\n",
    "\n",
    "    # Create formula with current attribute\n",
    "    # attr.lmer <- lmer(formula = as.formula(glue(\"{attr} ~ 1 + game_type + normalized_fitness + (1 | participant_id) + (game_type | full_game_id)\")), data = filtered_df)\n",
    "\n",
    "    attr.mm <- clmm(\n",
    "        formula = as.formula(glue(\"C({attr}) ~ 1  + normalized_fitness + C(game_type) + (1 | participant_id) + (1 | full_game_id)\")),\n",
    "        data = analysis_df, Hess = TRUE\n",
    "    )\n",
    "\n",
    "    model_list[[attr]] <- attr.mm\n",
    "\n",
    "    display_markdown(\"### Mixed Effects Model\")    \n",
    "    display(summary(attr.mm))\n",
    "\n",
    "    attr.marginal_means = emmeans(attr.mm, \"game_type\")\n",
    "    display_markdown(\"### Marginal Means\")\n",
    "    display(pairs(attr.marginal_means, reverse = TRUE))\n",
    "\n",
    "    # plotModelPredictions(attr.mm);\n",
    "    # ggplot()\n",
    "\n",
    "    display_markdown(\"------------------\")\n",
    "}\n"
   ]
  },
  {
   "cell_type": "code",
   "execution_count": 76,
   "metadata": {
    "vscode": {
     "languageId": "r"
    }
   },
   "outputs": [
    {
     "name": "stdout",
     "output_type": "stream",
     "text": [
      "fit_p, 1, 1.85780228530922e-08, 1e-5, \n",
      "fit_p, 2, 0.0033219048093993, neither\n",
      "fit_p, 3, 0.141956799969315, neither\n",
      "fit_p, 4, 0.0305670535911653, neither\n",
      "fit_p, 5, 0.000576317586797644, 1e-3\n",
      "fit_p, 6, 0.00141634048907872, neither\n",
      "fit_p, 7, 1.58882849621018e-05, 1e-3\n",
      "matched_p, 1, 0.0773422538445975, neither\n",
      "matched_p, 2, 0.0215813875428281, neither\n",
      "matched_p, 3, 0.0157738636438563, neither\n",
      "matched_p, 4, 0.0405917569018296, neither\n",
      "matched_p, 5, 0.303614512441827, neither\n",
      "matched_p, 6, 0.0757965447416219, neither\n",
      "matched_p, 7, 0.00176235327105234, neither\n",
      "real_p, 1, 5.43073357891209e-05, 1e-3\n",
      "real_p, 2, 5.7970184101091e-05, 1e-3\n",
      "real_p, 3, 0.000390057499242047, 1e-3\n",
      "real_p, 4, 0.149627812672313, neither\n",
      "real_p, 5, 0.459501956856266, neither\n",
      "real_p, 6, 0.142259210083196, neither\n",
      "real_p, 7, 2.17908797508669e-08, 1e-5, \n"
     ]
    },
    {
     "data": {
      "text/html": [
       "<table class=\"dataframe\">\n",
       "<caption>A data.frame: 7 x 10</caption>\n",
       "<thead>\n",
       "\t<tr><th scope=col>attribute</th><th scope=col>fit_est</th><th scope=col>fit_z</th><th scope=col>fit_p</th><th scope=col>matched_est</th><th scope=col>matched_z</th><th scope=col>matched_p</th><th scope=col>real_est</th><th scope=col>real_z</th><th scope=col>real_p</th></tr>\n",
       "\t<tr><th scope=col>&lt;chr&gt;</th><th scope=col>&lt;dbl&gt;</th><th scope=col>&lt;dbl&gt;</th><th scope=col>&lt;chr&gt;</th><th scope=col>&lt;dbl&gt;</th><th scope=col>&lt;dbl&gt;</th><th scope=col>&lt;chr&gt;</th><th scope=col>&lt;dbl&gt;</th><th scope=col>&lt;dbl&gt;</th><th scope=col>&lt;chr&gt;</th></tr>\n",
       "</thead>\n",
       "<tbody>\n",
       "\t<tr><td><span style=white-space:pre-wrap>confident     </span></td><td> 0.8458861</td><td> 5.624747</td><td>$P &lt; \\num{1e-5}^{ *** }$</td><td>0.5253317</td><td>1.766320</td><td><span style=white-space:pre-wrap>$P = 0.0773$        </span></td><td> 1.1511036</td><td> 4.0362716</td><td>$P &lt; \\num{1e-3}^{ *** }$</td></tr>\n",
       "\t<tr><td><span style=white-space:pre-wrap>fun_play      </span></td><td> 0.3956470</td><td> 2.936265</td><td><span style=white-space:pre-wrap>$P = 0.00332^{ ** }$     </span></td><td>0.6287354</td><td>2.297656</td><td><span style=white-space:pre-wrap>$P = 0.0216^{ * }$  </span></td><td> 1.0588619</td><td> 4.0209245</td><td>$P &lt; \\num{1e-3}^{ *** }$</td></tr>\n",
       "\t<tr><td><span style=white-space:pre-wrap>fun_watch     </span></td><td> 0.1912144</td><td> 1.468543</td><td><span style=white-space:pre-wrap>$P = 0.142$              </span></td><td>0.6413077</td><td>2.414106</td><td><span style=white-space:pre-wrap>$P = 0.0158^{ * }$  </span></td><td> 0.9118317</td><td> 3.5467210</td><td>$P &lt; \\num{1e-3}^{ *** }$</td></tr>\n",
       "\t<tr><td>capability    </td><td>-0.1885518</td><td>-2.162664</td><td>$P = 0.0306^{ * }$       </td><td>0.3490262</td><td>2.047676</td><td>$P = 0.0406^{ * }$  </td><td> 0.2318314</td><td> 1.4408474</td><td>$P = 0.15$               </td></tr>\n",
       "\t<tr><td><span style=white-space:pre-wrap>goldilocks    </span></td><td>-0.5877681</td><td>-3.442522</td><td>$P &lt; \\num{1e-3}^{ *** }$</td><td>0.3630300</td><td>1.028713</td><td><span style=white-space:pre-wrap>$P = 0.304$         </span></td><td>-0.2497910</td><td>-0.7396672</td><td><span style=white-space:pre-wrap>$P = 0.46$               </span></td></tr>\n",
       "\t<tr><td>creativity    </td><td>-0.4863119</td><td>-3.191300</td><td>$P = 0.00142^{ ** }$     </td><td>0.5507002</td><td>1.775614</td><td>$P = 0.0758$        </td><td> 0.4377153</td><td> 1.4674297</td><td>$P = 0.142$              </td></tr>\n",
       "\t<tr><td>human_likeness</td><td> 0.5697904</td><td> 4.315999</td><td>$P &lt; \\num{1e-3}^{ *** }$</td><td>0.8368069</td><td>3.127608</td><td>$P = 0.00176^{ ** }$</td><td> 1.4455453</td><td> 5.5971463</td><td>$P &lt; \\num{1e-5}^{ *** }$</td></tr>\n",
       "</tbody>\n",
       "</table>\n"
      ],
      "text/latex": [
       "A data.frame: 7 x 10\n",
       "\\begin{tabular}{llllllllll}\n",
       " attribute & fit\\_est & fit\\_z & fit\\_p & matched\\_est & matched\\_z & matched\\_p & real\\_est & real\\_z & real\\_p\\\\\n",
       " <chr> & <dbl> & <dbl> & <chr> & <dbl> & <dbl> & <chr> & <dbl> & <dbl> & <chr>\\\\\n",
       "\\hline\n",
       "\t confident      &  0.8458861 &  5.624747 & \\$P < \\textbackslash{}num\\{1e-5\\}\\textasciicircum{}\\{ *** \\}\\$ & 0.5253317 & 1.766320 & \\$P = 0.0773\\$         &  1.1511036 &  4.0362716 & \\$P < \\textbackslash{}num\\{1e-3\\}\\textasciicircum{}\\{ *** \\}\\$\\\\\n",
       "\t fun\\_play       &  0.3956470 &  2.936265 & \\$P = 0.00332\\textasciicircum{}\\{ ** \\}\\$      & 0.6287354 & 2.297656 & \\$P = 0.0216\\textasciicircum{}\\{ * \\}\\$   &  1.0588619 &  4.0209245 & \\$P < \\textbackslash{}num\\{1e-3\\}\\textasciicircum{}\\{ *** \\}\\$\\\\\n",
       "\t fun\\_watch      &  0.1912144 &  1.468543 & \\$P = 0.142\\$               & 0.6413077 & 2.414106 & \\$P = 0.0158\\textasciicircum{}\\{ * \\}\\$   &  0.9118317 &  3.5467210 & \\$P < \\textbackslash{}num\\{1e-3\\}\\textasciicircum{}\\{ *** \\}\\$\\\\\n",
       "\t capability     & -0.1885518 & -2.162664 & \\$P = 0.0306\\textasciicircum{}\\{ * \\}\\$        & 0.3490262 & 2.047676 & \\$P = 0.0406\\textasciicircum{}\\{ * \\}\\$   &  0.2318314 &  1.4408474 & \\$P = 0.15\\$               \\\\\n",
       "\t goldilocks     & -0.5877681 & -3.442522 & \\$P < \\textbackslash{}num\\{1e-3\\}\\textasciicircum{}\\{ *** \\}\\$ & 0.3630300 & 1.028713 & \\$P = 0.304\\$          & -0.2497910 & -0.7396672 & \\$P = 0.46\\$               \\\\\n",
       "\t creativity     & -0.4863119 & -3.191300 & \\$P = 0.00142\\textasciicircum{}\\{ ** \\}\\$      & 0.5507002 & 1.775614 & \\$P = 0.0758\\$         &  0.4377153 &  1.4674297 & \\$P = 0.142\\$              \\\\\n",
       "\t human\\_likeness &  0.5697904 &  4.315999 & \\$P < \\textbackslash{}num\\{1e-3\\}\\textasciicircum{}\\{ *** \\}\\$ & 0.8368069 & 3.127608 & \\$P = 0.00176\\textasciicircum{}\\{ ** \\}\\$ &  1.4455453 &  5.5971463 & \\$P < \\textbackslash{}num\\{1e-5\\}\\textasciicircum{}\\{ *** \\}\\$\\\\\n",
       "\\end{tabular}\n"
      ],
      "text/markdown": [
       "\n",
       "A data.frame: 7 x 10\n",
       "\n",
       "| attribute &lt;chr&gt; | fit_est &lt;dbl&gt; | fit_z &lt;dbl&gt; | fit_p &lt;chr&gt; | matched_est &lt;dbl&gt; | matched_z &lt;dbl&gt; | matched_p &lt;chr&gt; | real_est &lt;dbl&gt; | real_z &lt;dbl&gt; | real_p &lt;chr&gt; |\n",
       "|---|---|---|---|---|---|---|---|---|---|\n",
       "| confident      |  0.8458861 |  5.624747 | $P &lt; \\num{1e-5}^{ *** }$ | 0.5253317 | 1.766320 | $P = 0.0773$         |  1.1511036 |  4.0362716 | $P &lt; \\num{1e-3}^{ *** }$ |\n",
       "| fun_play       |  0.3956470 |  2.936265 | $P = 0.00332^{ ** }$      | 0.6287354 | 2.297656 | $P = 0.0216^{ * }$   |  1.0588619 |  4.0209245 | $P &lt; \\num{1e-3}^{ *** }$ |\n",
       "| fun_watch      |  0.1912144 |  1.468543 | $P = 0.142$               | 0.6413077 | 2.414106 | $P = 0.0158^{ * }$   |  0.9118317 |  3.5467210 | $P &lt; \\num{1e-3}^{ *** }$ |\n",
       "| capability     | -0.1885518 | -2.162664 | $P = 0.0306^{ * }$        | 0.3490262 | 2.047676 | $P = 0.0406^{ * }$   |  0.2318314 |  1.4408474 | $P = 0.15$                |\n",
       "| goldilocks     | -0.5877681 | -3.442522 | $P &lt; \\num{1e-3}^{ *** }$ | 0.3630300 | 1.028713 | $P = 0.304$          | -0.2497910 | -0.7396672 | $P = 0.46$                |\n",
       "| creativity     | -0.4863119 | -3.191300 | $P = 0.00142^{ ** }$      | 0.5507002 | 1.775614 | $P = 0.0758$         |  0.4377153 |  1.4674297 | $P = 0.142$               |\n",
       "| human_likeness |  0.5697904 |  4.315999 | $P &lt; \\num{1e-3}^{ *** }$ | 0.8368069 | 3.127608 | $P = 0.00176^{ ** }$ |  1.4455453 |  5.5971463 | $P &lt; \\num{1e-5}^{ *** }$ |\n",
       "\n"
      ],
      "text/plain": [
       "  attribute      fit_est    fit_z     fit_p                     matched_est matched_z matched_p            real_est   real_z     real_p                   \n",
       "1 confident       0.8458861  5.624747 $P < \\\\num{1e-5}^{ *** }$ 0.5253317   1.766320  $P = 0.0773$          1.1511036  4.0362716 $P < \\\\num{1e-3}^{ *** }$\n",
       "2 fun_play        0.3956470  2.936265 $P = 0.00332^{ ** }$      0.6287354   2.297656  $P = 0.0216^{ * }$    1.0588619  4.0209245 $P < \\\\num{1e-3}^{ *** }$\n",
       "3 fun_watch       0.1912144  1.468543 $P = 0.142$               0.6413077   2.414106  $P = 0.0158^{ * }$    0.9118317  3.5467210 $P < \\\\num{1e-3}^{ *** }$\n",
       "4 capability     -0.1885518 -2.162664 $P = 0.0306^{ * }$        0.3490262   2.047676  $P = 0.0406^{ * }$    0.2318314  1.4408474 $P = 0.15$               \n",
       "5 goldilocks     -0.5877681 -3.442522 $P < \\\\num{1e-3}^{ *** }$ 0.3630300   1.028713  $P = 0.304$          -0.2497910 -0.7396672 $P = 0.46$               \n",
       "6 creativity     -0.4863119 -3.191300 $P = 0.00142^{ ** }$      0.5507002   1.775614  $P = 0.0758$          0.4377153  1.4674297 $P = 0.142$              \n",
       "7 human_likeness  0.5697904  4.315999 $P < \\\\num{1e-3}^{ *** }$ 0.8368069   3.127608  $P = 0.00176^{ ** }$  1.4455453  5.5971463 $P < \\\\num{1e-5}^{ *** }$"
      ]
     },
     "metadata": {},
     "output_type": "display_data"
    }
   ],
   "source": [
    "results_table <- data.frame(\n",
    "    attribute = character(),\n",
    "    aic = numeric(),\n",
    "    fit_est = numeric(),\n",
    "    fit_z = numeric(),\n",
    "    fit_p = numeric(),\n",
    "    matched_est = numeric(),\n",
    "    matched_z = numeric(),\n",
    "    matched_p = numeric(),\n",
    "    real_est = numeric(),\n",
    "    real_z = numeric(),\n",
    "    real_p = numeric()\n",
    ")\n",
    "\n",
    "\n",
    "for (name in names(model_list)) {\n",
    "    model <- model_list[[name]]\n",
    "    s <- summary(model)\n",
    "    table_row <- data.frame(\n",
    "        attribute = name,\n",
    "        fit_est = s$coefficients[5, 1],\n",
    "        fit_z = s$coefficients[5, 3],\n",
    "        fit_p = s$coefficients[5, 4],\n",
    "        matched_est = s$coefficients[6, 1],\n",
    "        matched_z = s$coefficients[6, 3],\n",
    "        matched_p = s$coefficients[6, 4],\n",
    "        real_est = s$coefficients[7, 1],\n",
    "        real_z = s$coefficients[7, 3],\n",
    "        real_p = s$coefficients[7, 4]\n",
    "    )\n",
    "    results_table <- rbind(results_table, table_row)\n",
    "}\n",
    "\n",
    "\n",
    "\n",
    "# Iterate through the columns\n",
    "for (col in c(\"fit_p\", \"matched_p\", \"real_p\")) {\n",
    "    # Iterate through the cells\n",
    "    for (i in seq_len(nrow(results_table))) {\n",
    "        # Get the current value\n",
    "        value <- as.double(results_table[i, col])\n",
    "        \n",
    "        # Modify the value based on the conditions\n",
    "        if (value < 10^-5) {\n",
    "            print(glue(\"{col}, {i}, {value}, 1e-5, \"))\n",
    "            results_table[i, col] <- \"$P < \\\\num{1e-5}^{ *** }$\"\n",
    "        } else if (value < 10^-3) {\n",
    "            print(glue(\"{col}, {i}, {value}, 1e-3\"))\n",
    "            results_table[i, col] <- \"$P < \\\\num{1e-3}^{ *** }$\"\n",
    "        } else {\n",
    "            print(glue(\"{col}, {i}, {value}, neither\"))\n",
    "            v <- format(value, digits = 3, scientific = FALSE)\n",
    "            stars <- ifelse(value < 0.01, \"**\", ifelse(value < 0.05, \"*\", \"\"))\n",
    "            if (stars != \"\") {\n",
    "                results_table[i, col] <- glue(\"$P = {v}^{{ {stars} }}$\")\n",
    "            } else {\n",
    "                results_table[i, col] <- glue(\"$P = {v}$\")\n",
    "            }\n",
    "        }\n",
    "    }\n",
    "}\n",
    "\n",
    "\n",
    "results_table"
   ]
  },
  {
   "cell_type": "code",
   "execution_count": 75,
   "metadata": {
    "vscode": {
     "languageId": "r"
    }
   },
   "outputs": [
    {
     "name": "stdout",
     "output_type": "stream",
     "text": [
      "% latex table generated in R 4.3.2 by xtable 1.8-4 package\n",
      "% Mon Mar  4 20:47:32 2024\n",
      "\\begin{tabular}{lrrrlrrlrrl}\n",
      "  \\hline\n",
      "attribute & aic & fit_est & fit_z & fit_p & matched_est & matched_z & matched_p & real_est & real_z & real_p \\\\ \n",
      "  \\hline\n",
      "confident & 2382.587 & 0.846 & 5.625 & $P < \\num{1e-5}^{ *** }$ & 0.525 & 1.766 & $P = 0.0773$ & 1.151 & 4.036 & $P < \\num{1e-3}^{ *** }$ \\\\ \n",
      "  fun_play & 2286.921 & 0.396 & 2.936 & $P = 0.00332^**$ & 0.629 & 2.298 & $P = 0.0216^*$ & 1.059 & 4.021 & $P < \\num{1e-3}^{ *** }$ \\\\ \n",
      "  fun_watch & 2172.090 & 0.191 & 1.469 & $P = 0.142$ & 0.641 & 2.414 & $P = 0.0158^*$ & 0.912 & 3.547 & $P < \\num{1e-3}^{ *** }$ \\\\ \n",
      "  capability & 2400.648 & -0.189 & -2.163 & $P = 0.0306^*$ & 0.349 & 2.048 & $P = 0.0406^*$ & 0.232 & 1.441 & $P = 0.15$ \\\\ \n",
      "  goldilocks & 2231.909 & -0.588 & -3.443 & $P < \\num{1e-3}^{ *** }$ & 0.363 & 1.029 & $P = 0.304$ & -0.250 & -0.740 & $P = 0.46$ \\\\ \n",
      "  creativity & 2171.641 & -0.486 & -3.191 & $P = 0.00142^**$ & 0.551 & 1.776 & $P = 0.0758$ & 0.438 & 1.467 & $P = 0.142$ \\\\ \n",
      "  human_likeness & 2448.557 & 0.570 & 4.316 & $P < \\num{1e-3}^{ *** }$ & 0.837 & 3.128 & $P = 0.00176^**$ & 1.446 & 5.597 & $P < \\num{1e-5}^{ *** }$ \\\\ \n",
      "   \\hline\n",
      "\\end{tabular}\n"
     ]
    }
   ],
   "source": [
    "\n",
    "# Convert the dataframe to an xtable object\n",
    "table_latex <- xtable(results_table, digits = 3)\n",
    "\n",
    "# Print the LaTeX table\n",
    "print(table_latex, include.rownames = FALSE, floating = FALSE, sanitize.text.function = identity, digits=3)\n"
   ]
  },
  {
   "cell_type": "code",
   "execution_count": 148,
   "metadata": {
    "vscode": {
     "languageId": "r"
    }
   },
   "outputs": [
    {
     "name": "stderr",
     "output_type": "stream",
     "text": [
      "Warning message:\n",
      "\"contrasts dropped from factor C(game_type)\"\n"
     ]
    },
    {
     "data": {
      "text/html": [
       "<table class=\"dataframe\">\n",
       "<caption>A summary_emm: 3 x 6</caption>\n",
       "<thead>\n",
       "\t<tr><th></th><th scope=col>contrast</th><th scope=col>estimate</th><th scope=col>SE</th><th scope=col>df</th><th scope=col>z.ratio</th><th scope=col>p.value</th></tr>\n",
       "\t<tr><th></th><th scope=col>&lt;chr&gt;</th><th scope=col>&lt;dbl&gt;</th><th scope=col>&lt;dbl&gt;</th><th scope=col>&lt;dbl&gt;</th><th scope=col>&lt;dbl&gt;</th><th scope=col>&lt;dbl&gt;</th></tr>\n",
       "</thead>\n",
       "<tbody>\n",
       "\t<tr><th scope=row>1</th><td>matched - unmatched_top_30</td><td>0.5253317</td><td>0.2974160</td><td>Inf</td><td>1.766320</td><td>0.1810123898</td></tr>\n",
       "\t<tr><th scope=row>2</th><td>real - unmatched_top_30   </td><td>1.1511036</td><td>0.2851898</td><td>Inf</td><td>4.036272</td><td>0.0001605517</td></tr>\n",
       "\t<tr><th scope=row>3</th><td>real - matched            </td><td>0.6257718</td><td>0.3045627</td><td>Inf</td><td>2.054657</td><td>0.0994748132</td></tr>\n",
       "</tbody>\n",
       "</table>\n"
      ],
      "text/latex": [
       "A summary\\_emm: 3 x 6\n",
       "\\begin{tabular}{r|llllll}\n",
       "  & contrast & estimate & SE & df & z.ratio & p.value\\\\\n",
       "  & <chr> & <dbl> & <dbl> & <dbl> & <dbl> & <dbl>\\\\\n",
       "\\hline\n",
       "\t1 & matched - unmatched\\_top\\_30 & 0.5253317 & 0.2974160 & Inf & 1.766320 & 0.1810123898\\\\\n",
       "\t2 & real - unmatched\\_top\\_30    & 1.1511036 & 0.2851898 & Inf & 4.036272 & 0.0001605517\\\\\n",
       "\t3 & real - matched             & 0.6257718 & 0.3045627 & Inf & 2.054657 & 0.0994748132\\\\\n",
       "\\end{tabular}\n"
      ],
      "text/markdown": [
       "\n",
       "A summary_emm: 3 x 6\n",
       "\n",
       "| <!--/--> | contrast &lt;chr&gt; | estimate &lt;dbl&gt; | SE &lt;dbl&gt; | df &lt;dbl&gt; | z.ratio &lt;dbl&gt; | p.value &lt;dbl&gt; |\n",
       "|---|---|---|---|---|---|---|\n",
       "| 1 | matched - unmatched_top_30 | 0.5253317 | 0.2974160 | Inf | 1.766320 | 0.1810123898 |\n",
       "| 2 | real - unmatched_top_30    | 1.1511036 | 0.2851898 | Inf | 4.036272 | 0.0001605517 |\n",
       "| 3 | real - matched             | 0.6257718 | 0.3045627 | Inf | 2.054657 | 0.0994748132 |\n",
       "\n"
      ],
      "text/plain": [
       "  contrast                   estimate  SE        df  z.ratio  p.value     \n",
       "1 matched - unmatched_top_30 0.5253317 0.2974160 Inf 1.766320 0.1810123898\n",
       "2 real - unmatched_top_30    1.1511036 0.2851898 Inf 4.036272 0.0001605517\n",
       "3 real - matched             0.6257718 0.3045627 Inf 2.054657 0.0994748132"
      ]
     },
     "metadata": {},
     "output_type": "display_data"
    }
   ],
   "source": [
    "em <- emmeans(model_list$confident, \"game_type\")\n",
    "p <- pairs(em, reverse = TRUE)\n",
    "s <- summary(p)\n",
    "s\n"
   ]
  },
  {
   "cell_type": "code",
   "execution_count": 154,
   "metadata": {
    "vscode": {
     "languageId": "r"
    }
   },
   "outputs": [
    {
     "name": "stderr",
     "output_type": "stream",
     "text": [
      "Warning message:\n",
      "\"contrasts dropped from factor C(game_type)\"\n",
      "Warning message:\n",
      "\"contrasts dropped from factor C(game_type)\"\n",
      "Warning message:\n",
      "\"contrasts dropped from factor C(game_type)\"\n",
      "Warning message:\n",
      "\"contrasts dropped from factor C(game_type)\"\n",
      "Warning message:\n",
      "\"contrasts dropped from factor C(game_type)\"\n",
      "Warning message:\n",
      "\"contrasts dropped from factor C(game_type)\"\n",
      "Warning message:\n",
      "\"contrasts dropped from factor C(game_type)\"\n"
     ]
    },
    {
     "name": "stdout",
     "output_type": "stream",
     "text": [
      "m_u_p, 1, 0.181012389789048, neither\n",
      "m_u_p, 2, 0.0561173428284542, neither\n",
      "m_u_p, 3, 0.0417322801443991, neither\n",
      "m_u_p, 4, 0.101031830223043, neither\n",
      "m_u_p, 5, 0.558692214891852, neither\n",
      "m_u_p, 6, 0.177796836141712, neither\n",
      "m_u_p, 7, 0.00501333753296163, neither\n",
      "r_u_p, 1, 0.000160551650450702, 1e-3\n",
      "r_u_p, 2, 0.000171320137927755, 1e-3\n",
      "r_u_p, 3, 0.0011353811156023, neither\n",
      "r_u_p, 4, 0.319917888879621, neither\n",
      "r_u_p, 5, 0.739863313557509, neither\n",
      "r_u_p, 6, 0.306680812492611, neither\n",
      "r_u_p, 7, 6.53130137751035e-08, 1e-5, \n",
      "r_m_p, 1, 0.0994748132237283, neither\n",
      "r_m_p, 2, 0.255577580892457, neither\n",
      "r_m_p, 3, 0.560796988673304, neither\n",
      "r_m_p, 4, 0.76302008268496, neither\n",
      "r_m_p, 5, 0.195731856487346, neither\n",
      "r_m_p, 6, 0.929609083784071, neither\n",
      "r_m_p, 7, 0.0558645245395131, neither\n",
      "% latex table generated in R 4.3.2 by xtable 1.8-4 package\n",
      "% Tue Mar  5 14:40:29 2024\n",
      "\\begin{tabular}{lrrlrrlrrl}\n",
      "  \\hline\n",
      "attribute & r_m_est & r_m_z & r_m_p & r_u_est & r_u_z & r_u_p & m_u_est & m_u_z & m_u_p \\\\ \n",
      "  \\hline\n",
      "confident & 0.626 & 2.055 & $P = 0.0995$ & 1.151 & 4.036 & $P < \\num{1e-3}^{ *** }$ & 0.525 & 1.766 & $P = 0.181$ \\\\ \n",
      "  fun_play & 0.430 & 1.577 & $P = 0.256$ & 1.059 & 4.021 & $P < \\num{1e-3}^{ *** }$ & 0.629 & 2.298 & $P = 0.0561$ \\\\ \n",
      "  fun_watch & 0.271 & 1.025 & $P = 0.561$ & 0.912 & 3.547 & $P = 0.00114^{ ** }$ & 0.641 & 2.414 & $P = 0.0417^{ * }$ \\\\ \n",
      "  capability & -0.117 & -0.701 & $P = 0.763$ & 0.232 & 1.441 & $P = 0.32$ & 0.349 & 2.048 & $P = 0.101$ \\\\ \n",
      "  goldilocks & -0.613 & -1.725 & $P = 0.196$ & -0.250 & -0.740 & $P = 0.74$ & 0.363 & 1.029 & $P = 0.559$ \\\\ \n",
      "  creativity & -0.113 & -0.364 & $P = 0.93$ & 0.438 & 1.467 & $P = 0.307$ & 0.551 & 1.776 & $P = 0.178$ \\\\ \n",
      "  human_likeness & 0.609 & 2.299 & $P = 0.0559$ & 1.446 & 5.597 & $P < \\num{1e-5}^{ *** }$ & 0.837 & 3.128 & $P = 0.00501^{ ** }$ \\\\ \n",
      "   \\hline\n",
      "\\end{tabular}\n"
     ]
    }
   ],
   "source": [
    "mm_results_table <- data.frame(\n",
    "    attribute = character(),\n",
    "    r_m_est = numeric(),\n",
    "    r_m_z = numeric(),\n",
    "    r_m_p = numeric(),\n",
    "    r_u_est = numeric(),\n",
    "    r_u_z = numeric(),\n",
    "    r_u_p = numeric(),\n",
    "    m_u_est = numeric(),\n",
    "    m_u_z = numeric(),\n",
    "    m_u_p = numeric()\n",
    "    \n",
    ")\n",
    "\n",
    "\n",
    "for (name in names(model_list)) {\n",
    "    model <- model_list[[name]]\n",
    "    em <- emmeans(model, \"game_type\")\n",
    "    p <- pairs(em, reverse = TRUE)\n",
    "    s <- summary(p)\n",
    "    table_row <- data.frame(\n",
    "        attribute = name,\n",
    "        r_m_est = s[3, 2],\n",
    "        r_m_z = s[3, 5],\n",
    "        r_m_p = s[3, 6],\n",
    "        r_u_est = s[2, 2],\n",
    "        r_u_z = s[2, 5],\n",
    "        r_u_p = s[2, 6],\n",
    "        m_u_est = s[1, 2],\n",
    "        m_u_z = s[1, 5],\n",
    "        m_u_p = s[1, 6]\n",
    "    )\n",
    "    mm_results_table <- rbind(mm_results_table, table_row)\n",
    "}\n",
    "\n",
    "\n",
    "# Iterate through the columns\n",
    "for (col in c(\"m_u_p\", \"r_u_p\", \"r_m_p\")) {\n",
    "    # Iterate through the cells\n",
    "    for (i in seq_len(nrow(mm_results_table))) {\n",
    "        # Get the current value\n",
    "        value <- as.double(mm_results_table[i, col])\n",
    "\n",
    "        # Modify the value based on the conditions\n",
    "        if (value < 10^-5) {\n",
    "            print(glue(\"{col}, {i}, {value}, 1e-5, \"))\n",
    "            mm_results_table[i, col] <- \"$P < \\\\num{1e-5}^{ *** }$\"\n",
    "        } else if (value < 10^-3) {\n",
    "            print(glue(\"{col}, {i}, {value}, 1e-3\"))\n",
    "            mm_results_table[i, col] <- \"$P < \\\\num{1e-3}^{ *** }$\"\n",
    "        } else {\n",
    "            print(glue(\"{col}, {i}, {value}, neither\"))\n",
    "            v <- format(value, digits = 3, scientific = FALSE)\n",
    "            stars <- ifelse(value < 0.01, \"**\", ifelse(value < 0.05, \"*\", \"\"))\n",
    "            if (stars != \"\") {\n",
    "                mm_results_table[i, col] <- glue(\"$P = {v}^{{ {stars} }}$\")\n",
    "            } else {\n",
    "                mm_results_table[i, col] <- glue(\"$P = {v}$\")\n",
    "            }\n",
    "        }\n",
    "    }\n",
    "}\n",
    "\n",
    "\n",
    "# Convert the dataframe to an xtable object\n",
    "table_latex <- xtable(mm_results_table, digits = 3)\n",
    "\n",
    "# Print the LaTeX table\n",
    "print(table_latex, include.rownames = FALSE, floating = FALSE, sanitize.text.function = identity, digits=3)\n",
    "\n"
   ]
  },
  {
   "cell_type": "code",
   "execution_count": 35,
   "metadata": {
    "vscode": {
     "languageId": "r"
    }
   },
   "outputs": [
    {
     "data": {
      "text/html": [
       "<table class=\"dataframe\">\n",
       "<caption>A matrix: 7 x 4 of type dbl</caption>\n",
       "<thead>\n",
       "\t<tr><th></th><th scope=col>Estimate</th><th scope=col>Std. Error</th><th scope=col>z value</th><th scope=col>Pr(&gt;|z|)</th></tr>\n",
       "</thead>\n",
       "<tbody>\n",
       "\t<tr><th scope=row>1|2</th><td>-2.80971788</td><td>0.2683452</td><td>-10.47053592</td><td>1.179732e-25</td></tr>\n",
       "\t<tr><th scope=row>2|3</th><td>-1.36745124</td><td>0.2413453</td><td> -5.66595450</td><td>1.462083e-08</td></tr>\n",
       "\t<tr><th scope=row>3|4</th><td>-0.01259314</td><td>0.2353181</td><td> -0.05351539</td><td>9.573213e-01</td></tr>\n",
       "\t<tr><th scope=row>4|5</th><td> 1.58470281</td><td>0.2423721</td><td>  6.53830513</td><td>6.221989e-11</td></tr>\n",
       "\t<tr><th scope=row>normalized_fitness</th><td> 0.84588610</td><td>0.1503865</td><td>  5.62474684</td><td>1.857802e-08</td></tr>\n",
       "\t<tr><th scope=row>C(game_type)matched</th><td> 0.52533175</td><td>0.2974160</td><td>  1.76631955</td><td>7.734225e-02</td></tr>\n",
       "\t<tr><th scope=row>C(game_type)real</th><td> 1.15110358</td><td>0.2851898</td><td>  4.03627164</td><td>5.430734e-05</td></tr>\n",
       "</tbody>\n",
       "</table>\n"
      ],
      "text/latex": [
       "A matrix: 7 x 4 of type dbl\n",
       "\\begin{tabular}{r|llll}\n",
       "  & Estimate & Std. Error & z value & Pr(>\\textbar{}z\\textbar{})\\\\\n",
       "\\hline\n",
       "\t1\\textbar{}2 & -2.80971788 & 0.2683452 & -10.47053592 & 1.179732e-25\\\\\n",
       "\t2\\textbar{}3 & -1.36745124 & 0.2413453 &  -5.66595450 & 1.462083e-08\\\\\n",
       "\t3\\textbar{}4 & -0.01259314 & 0.2353181 &  -0.05351539 & 9.573213e-01\\\\\n",
       "\t4\\textbar{}5 &  1.58470281 & 0.2423721 &   6.53830513 & 6.221989e-11\\\\\n",
       "\tnormalized\\_fitness &  0.84588610 & 0.1503865 &   5.62474684 & 1.857802e-08\\\\\n",
       "\tC(game\\_type)matched &  0.52533175 & 0.2974160 &   1.76631955 & 7.734225e-02\\\\\n",
       "\tC(game\\_type)real &  1.15110358 & 0.2851898 &   4.03627164 & 5.430734e-05\\\\\n",
       "\\end{tabular}\n"
      ],
      "text/markdown": [
       "\n",
       "A matrix: 7 x 4 of type dbl\n",
       "\n",
       "| <!--/--> | Estimate | Std. Error | z value | Pr(&gt;|z|) |\n",
       "|---|---|---|---|---|\n",
       "| 1|2 | -2.80971788 | 0.2683452 | -10.47053592 | 1.179732e-25 |\n",
       "| 2|3 | -1.36745124 | 0.2413453 |  -5.66595450 | 1.462083e-08 |\n",
       "| 3|4 | -0.01259314 | 0.2353181 |  -0.05351539 | 9.573213e-01 |\n",
       "| 4|5 |  1.58470281 | 0.2423721 |   6.53830513 | 6.221989e-11 |\n",
       "| normalized_fitness |  0.84588610 | 0.1503865 |   5.62474684 | 1.857802e-08 |\n",
       "| C(game_type)matched |  0.52533175 | 0.2974160 |   1.76631955 | 7.734225e-02 |\n",
       "| C(game_type)real |  1.15110358 | 0.2851898 |   4.03627164 | 5.430734e-05 |\n",
       "\n"
      ],
      "text/plain": [
       "                    Estimate    Std. Error z value      Pr(>|z|)    \n",
       "1|2                 -2.80971788 0.2683452  -10.47053592 1.179732e-25\n",
       "2|3                 -1.36745124 0.2413453   -5.66595450 1.462083e-08\n",
       "3|4                 -0.01259314 0.2353181   -0.05351539 9.573213e-01\n",
       "4|5                  1.58470281 0.2423721    6.53830513 6.221989e-11\n",
       "normalized_fitness   0.84588610 0.1503865    5.62474684 1.857802e-08\n",
       "C(game_type)matched  0.52533175 0.2974160    1.76631955 7.734225e-02\n",
       "C(game_type)real     1.15110358 0.2851898    4.03627164 5.430734e-05"
      ]
     },
     "metadata": {},
     "output_type": "display_data"
    }
   ],
   "source": [
    "s$coefficients"
   ]
  },
  {
   "cell_type": "code",
   "execution_count": 36,
   "metadata": {
    "vscode": {
     "languageId": "r"
    }
   },
   "outputs": [
    {
     "data": {
      "text/html": [
       "0.84588609933364"
      ],
      "text/latex": [
       "0.84588609933364"
      ],
      "text/markdown": [
       "0.84588609933364"
      ],
      "text/plain": [
       "[1] 0.8458861"
      ]
     },
     "metadata": {},
     "output_type": "display_data"
    }
   ],
   "source": [
    "s$coefficients[5, 1]"
   ]
  },
  {
   "cell_type": "code",
   "execution_count": null,
   "metadata": {
    "vscode": {
     "languageId": "r"
    }
   },
   "outputs": [],
   "source": []
  },
  {
   "cell_type": "code",
   "execution_count": 137,
   "metadata": {
    "vscode": {
     "languageId": "r"
    }
   },
   "outputs": [
    {
     "name": "stderr",
     "output_type": "stream",
     "text": [
      "Warning message:\n",
      "\"contrasts dropped from factor C(game_type)\"\n"
     ]
    },
    {
     "data": {
      "image/png": "[encoded data removed]",
      "text/plain": [
       "plot without title"
      ]
     },
     "metadata": {
      "image/png": {
       "height": 480,
       "width": 1200
      }
     },
     "output_type": "display_data"
    }
   ],
   "source": [
    "emm <- emmeans(model_list$goldilocks, ~ game_type | cut, mode = \"linear.predictor\")\n",
    "mp <- rating.emmeans(emm)\n",
    "\n",
    "mp$Rating <- as.numeric(mp$Rating)\n",
    "\n",
    "ggplot(mp, aes(x = Rating, y = Prob, color = factor(game_type))) +\n",
    "    geom_line() +\n",
    "    labs(x = \"Rating\", y = \"Prob\") +\n",
    "    scale_color_manual(values = c(\"red\", \"blue\", \"green\")) +\n",
    "    theme_minimal()"
   ]
  },
  {
   "cell_type": "code",
   "execution_count": null,
   "metadata": {
    "vscode": {
     "languageId": "r"
    }
   },
   "outputs": [
    {
     "name": "stdout",
     "output_type": "stream",
     "text": [
      "normalized_archive_distance              model_gameTRUE          normalized_fitness              participant_id                full_game_id \n",
      "                 -0.3625887                  -0.7622560                   0.5774844                   1.4010910                   0.7678539 \n"
     ]
    },
    {
     "name": "stderr",
     "output_type": "stream",
     "text": [
      "Warning message in sweep(newdata, MARGIN = 2, coefs, `*`):\n",
      "\"STATS does not recycle exactly across MARGIN\"\n",
      "Warning message in Ops.factor(left, right):\n",
      "\"'*' not meaningful for factors\"\n",
      "Warning message in Ops.factor(left, right):\n",
      "\"'*' not meaningful for factors\"\n"
     ]
    },
    {
     "ename": "ERROR",
     "evalue": "Error in FUN(left, right): non-numeric argument to binary operator\n",
     "output_type": "error",
     "traceback": [
      "Error in FUN(left, right): non-numeric argument to binary operator\nTraceback:\n",
      "1. fake.predict.clmm(attr.mm, filtered_df)",
      "2. sweep(newdata, MARGIN = 2, coefs, `*`)   # at line 11 of file <text>",
      "3. Ops.data.frame(x, aperm(array(STATS, dims[perm]), order(perm)), \n .     ...)",
      "4. eval(f)",
      "5. eval(f)"
     ]
    }
   ],
   "source": [
    "fake.predict.clmm <- function(model, newdata) {\n",
    "  # Actual prediction function\n",
    "  pred <- function(eta, theta, cat = 1:(length(theta) + 1), inv.link = plogis) {\n",
    "    Theta <- c(-1000, theta, 1000)\n",
    "    sapply(cat, function(j) inv.link(Theta[j + 1] - eta) - inv.link(Theta[j] - eta))\n",
    "  }\n",
    "  \n",
    "  # Multiply each row by the coefficients\n",
    "  coefs <- c(model$beta, unlist(model$ST))\n",
    "  print(coefs);\n",
    "  xbetas <- sweep(newdata, MARGIN = 2, coefs, `*`)\n",
    "  \n",
    "#   # Make predictions\n",
    "#   pred.mat <- data.frame(pred(eta=rowSums(xbetas), theta=model$Theta))\n",
    "#   colnames(pred.mat) <- levels(model$model[,1])\n",
    "#   pred.mat\n",
    "\n",
    "    \n",
    "}\n",
    "\n",
    "fake.predict.clmm(attr.mm, filtered_df)"
   ]
  },
  {
   "cell_type": "code",
   "execution_count": null,
   "metadata": {
    "vscode": {
     "languageId": "r"
    }
   },
   "outputs": [
    {
     "name": "stdout",
     "output_type": "stream",
     "text": [
      "sweep                   package:base                   R Documentation\n",
      "\n",
      "_\bS_\bw_\be_\be_\bp _\bo_\bu_\bt _\bA_\br_\br_\ba_\by _\bS_\bu_\bm_\bm_\ba_\br_\bi_\be_\bs\n",
      "\n",
      "_\bD_\be_\bs_\bc_\br_\bi_\bp_\bt_\bi_\bo_\bn:\n",
      "\n",
      "     Return an array obtained from an input array by sweeping out a\n",
      "     summary statistic.\n",
      "\n",
      "_\bU_\bs_\ba_\bg_\be:\n",
      "\n",
      "     sweep(x, MARGIN, STATS, FUN = \"-\", check.margin = TRUE, ...)\n",
      "     \n",
      "_\bA_\br_\bg_\bu_\bm_\be_\bn_\bt_\bs:\n",
      "\n",
      "       x: an array, including a matrix.\n",
      "\n",
      "  MARGIN: a vector of indices giving the extent(s) of 'x' which\n",
      "          correspond to 'STATS'.  Where 'x' has named dimnames, it can\n",
      "          be a character vector selecting dimension names.\n",
      "\n",
      "   STATS: the summary statistic which is to be swept out.\n",
      "\n",
      "     FUN: the function to be used to carry out the sweep.\n",
      "\n",
      "check.margin: logical.  If 'TRUE' (the default), warn if the length or\n",
      "          dimensions of 'STATS' do not match the specified dimensions\n",
      "          of 'x'.  Set to 'FALSE' for a small speed gain when you\n",
      "          _know_ that dimensions match.\n",
      "\n",
      "     ...: optional arguments to 'FUN'.\n",
      "\n",
      "_\bD_\be_\bt_\ba_\bi_\bl_\bs:\n",
      "\n",
      "     'FUN' is found by a call to 'match.fun'.  As in the default,\n",
      "     binary operators can be supplied if quoted or backquoted.\n",
      "\n",
      "     'FUN' should be a function of two arguments: it will be called\n",
      "     with arguments 'x' and an array of the same dimensions generated\n",
      "     from 'STATS' by 'aperm'.\n",
      "\n",
      "     The consistency check among 'STATS', 'MARGIN' and 'x' is stricter\n",
      "     if 'STATS' is an array than if it is a vector.  In the vector\n",
      "     case, some kinds of recycling are allowed without a warning.  Use\n",
      "     'sweep(x, MARGIN, as.array(STATS))' if 'STATS' is a vector and you\n",
      "     want to be warned if any recycling occurs.\n",
      "\n",
      "_\bV_\ba_\bl_\bu_\be:\n",
      "\n",
      "     An array with the same shape as 'x', but with the summary\n",
      "     statistics swept out.\n",
      "\n",
      "_\bR_\be_\bf_\be_\br_\be_\bn_\bc_\be_\bs:\n",
      "\n",
      "     Becker, R. A., Chambers, J. M. and Wilks, A. R. (1988) _The New S\n",
      "     Language_.  Wadsworth & Brooks/Cole.\n",
      "\n",
      "_\bS_\be_\be _\bA_\bl_\bs_\bo:\n",
      "\n",
      "     'apply' on which 'sweep' used to be based; 'scale' for centering\n",
      "     and scaling.\n",
      "\n",
      "_\bE_\bx_\ba_\bm_\bp_\bl_\be_\bs:\n",
      "\n",
      "     require(stats) # for median\n",
      "     med.att <- apply(attitude, 2, median)\n",
      "     sweep(data.matrix(attitude), 2, med.att)  # subtract the column medians\n",
      "     \n",
      "     ## More sweeping:\n",
      "     A <- array(1:24, dim = 4:2)\n",
      "     \n",
      "     ## no warnings in normal use\n",
      "     sweep(A, 1, 5)\n",
      "     (A.min <- apply(A, 1, min))  # == 1:4\n",
      "     sweep(A, 1, A.min)\n",
      "     sweep(A, 1:2, apply(A, 1:2, median))\n",
      "     \n",
      "     ## warnings when mismatch\n",
      "     sweep(A, 1, 1:3)  # STATS does not recycle\n",
      "     sweep(A, 1, 6:1)  # STATS is longer\n",
      "     \n",
      "     ## exact recycling:\n",
      "     sweep(A, 1, 1:2)  # no warning\n",
      "     sweep(A, 1, as.array(1:2))  # warning\n",
      "     \n",
      "     ## Using named dimnames\n",
      "     \n",
      "     dimnames(A) <- list(fee=1:4, fie=1:3, fum=1:2)\n",
      "     \n",
      "     mn_fum_fie <- apply(A, c(\"fum\", \"fie\"), mean)\n",
      "     mn_fum_fie\n",
      "     sweep(A, c(\"fum\", \"fie\"), mn_fum_fie)\n",
      "     "
     ]
    }
   ],
   "source": [
    "help(sweep)"
   ]
  },
  {
   "cell_type": "code",
   "execution_count": null,
   "metadata": {
    "vscode": {
     "languageId": "r"
    }
   },
   "outputs": [],
   "source": []
  },
  {
   "cell_type": "code",
   "execution_count": null,
   "metadata": {
    "vscode": {
     "languageId": "r"
    }
   },
   "outputs": [
    {
     "data": {
      "text/html": [
       "<table class=\"dataframe\">\n",
       "<caption>A data.frame: 6 x 3</caption>\n",
       "<thead>\n",
       "\t<tr><th></th><th scope=col>normalized_fitness</th><th scope=col>game_type</th><th scope=col>percentile</th></tr>\n",
       "\t<tr><th></th><th scope=col>&lt;dbl&gt;</th><th scope=col>&lt;fct&gt;</th><th scope=col>&lt;fct&gt;</th></tr>\n",
       "</thead>\n",
       "<tbody>\n",
       "\t<tr><th scope=row>1</th><td>-1.806326</td><td>unmatched_top_30</td><td>20</td></tr>\n",
       "\t<tr><th scope=row>1.1</th><td>-1.806326</td><td>unmatched_top_30</td><td>50</td></tr>\n",
       "\t<tr><th scope=row>1.2</th><td>-1.806326</td><td>unmatched_top_30</td><td>80</td></tr>\n",
       "\t<tr><th scope=row>2</th><td>-1.727135</td><td>unmatched_top_30</td><td>20</td></tr>\n",
       "\t<tr><th scope=row>2.1</th><td>-1.727135</td><td>unmatched_top_30</td><td>50</td></tr>\n",
       "\t<tr><th scope=row>2.2</th><td>-1.727135</td><td>unmatched_top_30</td><td>80</td></tr>\n",
       "</tbody>\n",
       "</table>\n"
      ],
      "text/latex": [
       "A data.frame: 6 x 3\n",
       "\\begin{tabular}{r|lll}\n",
       "  & normalized\\_fitness & game\\_type & percentile\\\\\n",
       "  & <dbl> & <fct> & <fct>\\\\\n",
       "\\hline\n",
       "\t1 & -1.806326 & unmatched\\_top\\_30 & 20\\\\\n",
       "\t1.1 & -1.806326 & unmatched\\_top\\_30 & 50\\\\\n",
       "\t1.2 & -1.806326 & unmatched\\_top\\_30 & 80\\\\\n",
       "\t2 & -1.727135 & unmatched\\_top\\_30 & 20\\\\\n",
       "\t2.1 & -1.727135 & unmatched\\_top\\_30 & 50\\\\\n",
       "\t2.2 & -1.727135 & unmatched\\_top\\_30 & 80\\\\\n",
       "\\end{tabular}\n"
      ],
      "text/markdown": [
       "\n",
       "A data.frame: 6 x 3\n",
       "\n",
       "| <!--/--> | normalized_fitness &lt;dbl&gt; | game_type &lt;fct&gt; | percentile &lt;fct&gt; |\n",
       "|---|---|---|---|\n",
       "| 1 | -1.806326 | unmatched_top_30 | 20 |\n",
       "| 1.1 | -1.806326 | unmatched_top_30 | 50 |\n",
       "| 1.2 | -1.806326 | unmatched_top_30 | 80 |\n",
       "| 2 | -1.727135 | unmatched_top_30 | 20 |\n",
       "| 2.1 | -1.727135 | unmatched_top_30 | 50 |\n",
       "| 2.2 | -1.727135 | unmatched_top_30 | 80 |\n",
       "\n"
      ],
      "text/plain": [
       "    normalized_fitness game_type        percentile\n",
       "1   -1.806326          unmatched_top_30 20        \n",
       "1.1 -1.806326          unmatched_top_30 50        \n",
       "1.2 -1.806326          unmatched_top_30 80        \n",
       "2   -1.727135          unmatched_top_30 20        \n",
       "2.1 -1.727135          unmatched_top_30 50        \n",
       "2.2 -1.727135          unmatched_top_30 80        "
      ]
     },
     "metadata": {},
     "output_type": "display_data"
    }
   ],
   "source": [
    "N_POINTS = 50\n",
    "\n",
    "fitness.min <- min(filtered_df$normalized_fitness)\n",
    "fitness.max <- max(filtered_df$normalized_fitness)\n",
    "\n",
    "# Generate a sequence of numbers from 0 to 1 with 10 equally spaced points\n",
    "fitness.seq <- seq(fitness.min, fitness.max, length.out = N_POINTS)\n",
    "\n",
    "# Create a data frame with a row for each sequence of fitness values for each game type\n",
    "predict_data_df <- expand.grid(normalized_fitness = fitness.seq, game_type = levels(filtered_df$game_type))\n",
    "\n",
    "# replicate each row 3 times (once for each percentile)\n",
    "predict_data_df <- predict_data_df[rep(row.names(predict_data_df), each = 3),]\n",
    "\n",
    "\n",
    "predict_data_df <- predict_data_df %>%\n",
    "    mutate(percentile = rep(c(20, 50, 80), times = N_POINTS * 3)) %>%\n",
    "    mutate(percentile = as.factor(percentile))\n",
    "\n",
    "head(predict_data_df)\n",
    "\n",
    "\n",
    "\n"
   ]
  },
  {
   "cell_type": "code",
   "execution_count": null,
   "metadata": {
    "vscode": {
     "languageId": "r"
    }
   },
   "outputs": [
    {
     "data": {
      "text/html": [
       "<table class=\"dataframe\">\n",
       "<caption>A data.frame: 6 x 4</caption>\n",
       "<thead>\n",
       "\t<tr><th></th><th scope=col>normalized_fitness</th><th scope=col>game_type</th><th scope=col>percentile</th><th scope=col>game_effect</th></tr>\n",
       "\t<tr><th></th><th scope=col>&lt;dbl&gt;</th><th scope=col>&lt;fct&gt;</th><th scope=col>&lt;fct&gt;</th><th scope=col>&lt;dbl&gt;</th></tr>\n",
       "</thead>\n",
       "<tbody>\n",
       "\t<tr><th scope=row>1</th><td>-1.806326</td><td>unmatched_top_30</td><td>20</td><td>-0.4131830</td></tr>\n",
       "\t<tr><th scope=row>2</th><td>-1.806326</td><td>unmatched_top_30</td><td>50</td><td>-0.0247835</td></tr>\n",
       "\t<tr><th scope=row>3</th><td>-1.806326</td><td>unmatched_top_30</td><td>80</td><td> 0.4781828</td></tr>\n",
       "\t<tr><th scope=row>4</th><td>-1.727135</td><td>unmatched_top_30</td><td>20</td><td>-0.4131830</td></tr>\n",
       "\t<tr><th scope=row>5</th><td>-1.727135</td><td>unmatched_top_30</td><td>50</td><td>-0.0247835</td></tr>\n",
       "\t<tr><th scope=row>6</th><td>-1.727135</td><td>unmatched_top_30</td><td>80</td><td> 0.4781828</td></tr>\n",
       "</tbody>\n",
       "</table>\n"
      ],
      "text/latex": [
       "A data.frame: 6 x 4\n",
       "\\begin{tabular}{r|llll}\n",
       "  & normalized\\_fitness & game\\_type & percentile & game\\_effect\\\\\n",
       "  & <dbl> & <fct> & <fct> & <dbl>\\\\\n",
       "\\hline\n",
       "\t1 & -1.806326 & unmatched\\_top\\_30 & 20 & -0.4131830\\\\\n",
       "\t2 & -1.806326 & unmatched\\_top\\_30 & 50 & -0.0247835\\\\\n",
       "\t3 & -1.806326 & unmatched\\_top\\_30 & 80 &  0.4781828\\\\\n",
       "\t4 & -1.727135 & unmatched\\_top\\_30 & 20 & -0.4131830\\\\\n",
       "\t5 & -1.727135 & unmatched\\_top\\_30 & 50 & -0.0247835\\\\\n",
       "\t6 & -1.727135 & unmatched\\_top\\_30 & 80 &  0.4781828\\\\\n",
       "\\end{tabular}\n"
      ],
      "text/markdown": [
       "\n",
       "A data.frame: 6 x 4\n",
       "\n",
       "| <!--/--> | normalized_fitness &lt;dbl&gt; | game_type &lt;fct&gt; | percentile &lt;fct&gt; | game_effect &lt;dbl&gt; |\n",
       "|---|---|---|---|---|\n",
       "| 1 | -1.806326 | unmatched_top_30 | 20 | -0.4131830 |\n",
       "| 2 | -1.806326 | unmatched_top_30 | 50 | -0.0247835 |\n",
       "| 3 | -1.806326 | unmatched_top_30 | 80 |  0.4781828 |\n",
       "| 4 | -1.727135 | unmatched_top_30 | 20 | -0.4131830 |\n",
       "| 5 | -1.727135 | unmatched_top_30 | 50 | -0.0247835 |\n",
       "| 6 | -1.727135 | unmatched_top_30 | 80 |  0.4781828 |\n",
       "\n"
      ],
      "text/plain": [
       "  normalized_fitness game_type        percentile game_effect\n",
       "1 -1.806326          unmatched_top_30 20         -0.4131830 \n",
       "2 -1.806326          unmatched_top_30 50         -0.0247835 \n",
       "3 -1.806326          unmatched_top_30 80          0.4781828 \n",
       "4 -1.727135          unmatched_top_30 20         -0.4131830 \n",
       "5 -1.727135          unmatched_top_30 50         -0.0247835 \n",
       "6 -1.727135          unmatched_top_30 80          0.4781828 "
      ]
     },
     "metadata": {},
     "output_type": "display_data"
    }
   ],
   "source": [
    "attr.game_effects_df <- ranef(attr.mm)$full_game_id\n",
    "colnames(attr.game_effects_df)[1] <- c(\"effect\")\n",
    "attr.game_effects_df <- rownames_to_column(attr.game_effects_df, var = \"full_game_id\")\n",
    "attr.game_effects_df$full_game_id <- factor(attr.game_effects_df$full_game_id, levels = levels(filtered_df$full_game_id))\n",
    "\n",
    "limited_filtered_df <- filtered_df %>%\n",
    "    select(full_game_id, game_type) %>%\n",
    "    distinct()\n",
    "\n",
    "attr.game_effects_df <-\n",
    "    left_join(attr.game_effects_df, limited_filtered_df, by = \"full_game_id\")\n",
    "\n",
    "\n",
    "percentiles <- attr.game_effects_df %>%\n",
    "    group_by(game_type) %>%\n",
    "    summarize(percentile_20 = quantile(effect, 0.20),\n",
    "              percentile_50 = quantile(effect, 0.50),\n",
    "              percentile_80 = quantile(effect, 0.80)) %>%\n",
    "    pivot_longer(cols = starts_with(\"percentile\"),\n",
    "                 names_to = \"percentile\",\n",
    "                 values_to = \"game_effect\") %>%\n",
    "    mutate(percentile = gsub(\"percentile_\", \"\", percentile)) %>%\n",
    "    mutate(percentile = as.factor(percentile))\n",
    "\n",
    "predict_data_df <-\n",
    "    left_join(predict_data_df, percentiles, by = c(\"game_type\", \"percentile\"))\n",
    "    \n",
    "\n",
    "head(predict_data_df)\n"
   ]
  },
  {
   "cell_type": "code",
   "execution_count": null,
   "metadata": {
    "vscode": {
     "languageId": "r"
    }
   },
   "outputs": [
    {
     "data": {
      "text/html": [
       "<table class=\"dataframe\">\n",
       "<caption>A data.frame: 3 x 2</caption>\n",
       "<thead>\n",
       "\t<tr><th scope=col>game_type</th><th scope=col>game_type_intercept</th></tr>\n",
       "\t<tr><th scope=col>&lt;fct&gt;</th><th scope=col>&lt;dbl&gt;</th></tr>\n",
       "</thead>\n",
       "<tbody>\n",
       "\t<tr><td>matched         </td><td>0.8368229</td></tr>\n",
       "\t<tr><td>real            </td><td>1.4455301</td></tr>\n",
       "\t<tr><td>unmatched_top_30</td><td>0.0000000</td></tr>\n",
       "</tbody>\n",
       "</table>\n"
      ],
      "text/latex": [
       "A data.frame: 3 x 2\n",
       "\\begin{tabular}{ll}\n",
       " game\\_type & game\\_type\\_intercept\\\\\n",
       " <fct> & <dbl>\\\\\n",
       "\\hline\n",
       "\t matched          & 0.8368229\\\\\n",
       "\t real             & 1.4455301\\\\\n",
       "\t unmatched\\_top\\_30 & 0.0000000\\\\\n",
       "\\end{tabular}\n"
      ],
      "text/markdown": [
       "\n",
       "A data.frame: 3 x 2\n",
       "\n",
       "| game_type &lt;fct&gt; | game_type_intercept &lt;dbl&gt; |\n",
       "|---|---|\n",
       "| matched          | 0.8368229 |\n",
       "| real             | 1.4455301 |\n",
       "| unmatched_top_30 | 0.0000000 |\n",
       "\n"
      ],
      "text/plain": [
       "  game_type        game_type_intercept\n",
       "1 matched          0.8368229          \n",
       "2 real             1.4455301          \n",
       "3 unmatched_top_30 0.0000000          "
      ]
     },
     "metadata": {},
     "output_type": "display_data"
    }
   ],
   "source": [
    "attr.coef <- coef(attr.mm)\n",
    "fitness_coef <- attr.coef[length(attr.coef)]\n",
    "coef.df <- as.data.frame(attr.coef[5:(length(attr.coef) - 1)])\n",
    "colnames(coef.df)[1] <- \"game_type_intercept\"\n",
    "row_names <- rownames(coef.df)\n",
    "row_names <- gsub(\"C\\\\(game_type\\\\)\", \"\", row_names)\n",
    "rownames(coef.df) <- row_names\n",
    "\n",
    "coef.df <- rownames_to_column(coef.df, var = \"game_type\")\n",
    "coef.df <- rbind(coef.df, c(game_type = \"unmatched_top_30\", game_type_intercept = 0))\n",
    "coef.df$game_type <- as.factor(coef.df$game_type)\n",
    "coef.df$game_type_intercept <- as.numeric(coef.df$game_type_intercept)\n",
    "\n",
    "coef.df"
   ]
  },
  {
   "cell_type": "code",
   "execution_count": null,
   "metadata": {
    "vscode": {
     "languageId": "r"
    }
   },
   "outputs": [
    {
     "data": {
      "text/html": [
       "<table class=\"dataframe\">\n",
       "<caption>A data.frame: 6 x 7</caption>\n",
       "<thead>\n",
       "\t<tr><th></th><th scope=col>game_type</th><th scope=col>normalized_fitness</th><th scope=col>percentile</th><th scope=col>game_effect</th><th scope=col>game_type_intercept</th><th scope=col>prediction</th><th scope=col>bin</th></tr>\n",
       "\t<tr><th></th><th scope=col>&lt;fct&gt;</th><th scope=col>&lt;dbl&gt;</th><th scope=col>&lt;fct&gt;</th><th scope=col>&lt;dbl&gt;</th><th scope=col>&lt;dbl&gt;</th><th scope=col>&lt;dbl&gt;</th><th scope=col>&lt;dbl&gt;</th></tr>\n",
       "</thead>\n",
       "<tbody>\n",
       "\t<tr><th scope=row>1</th><td>matched</td><td>-1.806326</td><td>20</td><td>-0.5602304</td><td>0.8368229</td><td>-1.14623770</td><td>0.95</td></tr>\n",
       "\t<tr><th scope=row>2</th><td>matched</td><td>-1.806326</td><td>50</td><td> 0.1045211</td><td>0.8368229</td><td>-0.08788540</td><td>2.00</td></tr>\n",
       "\t<tr><th scope=row>3</th><td>matched</td><td>-1.806326</td><td>80</td><td> 0.4722916</td><td>0.8368229</td><td> 0.46992881</td><td>2.05</td></tr>\n",
       "\t<tr><th scope=row>4</th><td>matched</td><td>-1.727135</td><td>20</td><td>-0.5602304</td><td>0.8368229</td><td>-1.10111518</td><td>0.95</td></tr>\n",
       "\t<tr><th scope=row>5</th><td>matched</td><td>-1.727135</td><td>50</td><td> 0.1045211</td><td>0.8368229</td><td>-0.04276289</td><td>2.00</td></tr>\n",
       "\t<tr><th scope=row>6</th><td>matched</td><td>-1.727135</td><td>80</td><td> 0.4722916</td><td>0.8368229</td><td> 0.51505132</td><td>2.05</td></tr>\n",
       "</tbody>\n",
       "</table>\n"
      ],
      "text/latex": [
       "A data.frame: 6 x 7\n",
       "\\begin{tabular}{r|lllllll}\n",
       "  & game\\_type & normalized\\_fitness & percentile & game\\_effect & game\\_type\\_intercept & prediction & bin\\\\\n",
       "  & <fct> & <dbl> & <fct> & <dbl> & <dbl> & <dbl> & <dbl>\\\\\n",
       "\\hline\n",
       "\t1 & matched & -1.806326 & 20 & -0.5602304 & 0.8368229 & -1.14623770 & 0.95\\\\\n",
       "\t2 & matched & -1.806326 & 50 &  0.1045211 & 0.8368229 & -0.08788540 & 2.00\\\\\n",
       "\t3 & matched & -1.806326 & 80 &  0.4722916 & 0.8368229 &  0.46992881 & 2.05\\\\\n",
       "\t4 & matched & -1.727135 & 20 & -0.5602304 & 0.8368229 & -1.10111518 & 0.95\\\\\n",
       "\t5 & matched & -1.727135 & 50 &  0.1045211 & 0.8368229 & -0.04276289 & 2.00\\\\\n",
       "\t6 & matched & -1.727135 & 80 &  0.4722916 & 0.8368229 &  0.51505132 & 2.05\\\\\n",
       "\\end{tabular}\n"
      ],
      "text/markdown": [
       "\n",
       "A data.frame: 6 x 7\n",
       "\n",
       "| <!--/--> | game_type &lt;fct&gt; | normalized_fitness &lt;dbl&gt; | percentile &lt;fct&gt; | game_effect &lt;dbl&gt; | game_type_intercept &lt;dbl&gt; | prediction &lt;dbl&gt; | bin &lt;dbl&gt; |\n",
       "|---|---|---|---|---|---|---|---|\n",
       "| 1 | matched | -1.806326 | 20 | -0.5602304 | 0.8368229 | -1.14623770 | 0.95 |\n",
       "| 2 | matched | -1.806326 | 50 |  0.1045211 | 0.8368229 | -0.08788540 | 2.00 |\n",
       "| 3 | matched | -1.806326 | 80 |  0.4722916 | 0.8368229 |  0.46992881 | 2.05 |\n",
       "| 4 | matched | -1.727135 | 20 | -0.5602304 | 0.8368229 | -1.10111518 | 0.95 |\n",
       "| 5 | matched | -1.727135 | 50 |  0.1045211 | 0.8368229 | -0.04276289 | 2.00 |\n",
       "| 6 | matched | -1.727135 | 80 |  0.4722916 | 0.8368229 |  0.51505132 | 2.05 |\n",
       "\n"
      ],
      "text/plain": [
       "  game_type normalized_fitness percentile game_effect game_type_intercept prediction  bin \n",
       "1 matched   -1.806326          20         -0.5602304  0.8368229           -1.14623770 0.95\n",
       "2 matched   -1.806326          50          0.1045211  0.8368229           -0.08788540 2.00\n",
       "3 matched   -1.806326          80          0.4722916  0.8368229            0.46992881 2.05\n",
       "4 matched   -1.727135          20         -0.5602304  0.8368229           -1.10111518 0.95\n",
       "5 matched   -1.727135          50          0.1045211  0.8368229           -0.04276289 2.00\n",
       "6 matched   -1.727135          80          0.4722916  0.8368229            0.51505132 2.05"
      ]
     },
     "metadata": {},
     "output_type": "display_data"
    }
   ],
   "source": [
    "merged_predict_df <- \n",
    "    merge(predict_data_df, coef.df, by = \"game_type\", all.x = TRUE) %>%\n",
    "    # add the prediction\n",
    "    mutate(prediction = (merged_predict_df$game_type_intercept + fitness_coef * merged_predict_df$normalized_fitness + merged_predict_df$game_effect)) %>%\n",
    "    # bin the prediction\n",
    "    mutate(bin = cut(prediction, breaks = c(-Inf, attr.coef[1:4], Inf), labels = 1:5, include.lowest = TRUE)) %>%\n",
    "    mutate(bin = as.double(bin)) %>%\n",
    "    # Add 0.1 if game type is 'matched' and 0.2 if game type is 'real'\n",
    "    mutate(bin = ifelse(game_type == 'unmatched_top_30', bin - 0.15, bin)) %>%\n",
    "    mutate(bin = ifelse(game_type == 'real', bin + 0.15, bin)) %>%\n",
    "    mutate(bin = ifelse(percentile == 20, bin - 0.05, bin)) %>%\n",
    "    mutate(bin = ifelse(percentile == 80, bin + 0.05, bin))\n",
    "\n",
    "# View the binned dataframe\n",
    "head(merged_predict_df)"
   ]
  },
  {
   "cell_type": "code",
   "execution_count": null,
   "metadata": {
    "vscode": {
     "languageId": "r"
    }
   },
   "outputs": [
    {
     "data": {
      "image/png": "[encoded data removed]",
      "text/plain": [
       "plot without title"
      ]
     },
     "metadata": {
      "image/png": {
       "height": 420,
       "width": 420
      }
     },
     "output_type": "display_data"
    }
   ],
   "source": [
    "ggplot(merged_predict_df, aes(x = normalized_fitness, y = bin, color = game_type, linetype = percentile)) +\n",
    "    geom_line(size = 1.25) +\n",
    "    labs(x = \"Normalized Fitness\", y = attr) +\n",
    "    scale_color_manual(values = c(\"unmatched\" = \"red\", \"unmatched_top_30\" = \"blue\", \"matched\" = \"green\", \"real\" = \"purple\")) +\n",
    "    scale_linetype_manual(values = c(\"20\" = \"dashed\", \"50\" = \"solid\", \"80\" = \"dotted\")) +\n",
    "    theme_minimal() +\n",
    "    theme(\n",
    "        plot.margin = margin(2, 2, 2, 2, \"cm\"),\n",
    "        text = element_text(size = 16),\n",
    "        axis.text = element_text(size = 14),\n",
    "    ) + \n",
    "    ggtitle(glue(\"{attr} by Game Type and Percentile\"))\n"
   ]
  },
  {
   "cell_type": "code",
   "execution_count": null,
   "metadata": {
    "vscode": {
     "languageId": "r"
    }
   },
   "outputs": [
    {
     "data": {
      "text/html": [
       "2.62730385840484"
      ],
      "text/latex": [
       "2.62730385840484"
      ],
      "text/markdown": [
       "2.62730385840484"
      ],
      "text/plain": [
       "[1] 2.627304"
      ]
     },
     "metadata": {},
     "output_type": "display_data"
    }
   ],
   "source": [
    "max(merged_predict_df$prediction)"
   ]
  },
  {
   "cell_type": "code",
   "execution_count": null,
   "metadata": {
    "vscode": {
     "languageId": "r"
    }
   },
   "outputs": [],
   "source": []
  },
  {
   "cell_type": "code",
   "execution_count": null,
   "metadata": {
    "vscode": {
     "languageId": "r"
    }
   },
   "outputs": [],
   "source": [
    "strictControl <- lmerControl(optCtrl = list(\n",
    "   algorithm = \"NLOPT_LN_NELDERMEAD\",\n",
    "   xtol_abs = 1e-12,\n",
    "   ftol_abs = 1e-12))\n",
    "\n",
    "# full_normalized_confident ~ 1 + normalized_fitness + game_type + (1 | participant_id) + (1 | full_game_id), \n",
    "l <- lmer(formula = full_normalized_confident ~ 1  + game_type + (1 | full_game_id), \n",
    "    data = filtered_df, control = strictControl)\n",
    "\n",
    "summary(l)"
   ]
  },
  {
   "cell_type": "code",
   "execution_count": null,
   "metadata": {
    "vscode": {
     "languageId": "r"
    }
   },
   "outputs": [],
   "source": []
  },
  {
   "cell_type": "code",
   "execution_count": null,
   "metadata": {
    "vscode": {
     "languageId": "r"
    }
   },
   "outputs": [],
   "source": []
  },
  {
   "cell_type": "code",
   "execution_count": null,
   "metadata": {
    "vscode": {
     "languageId": "r"
    }
   },
   "outputs": [],
   "source": []
  },
  {
   "cell_type": "code",
   "execution_count": null,
   "metadata": {
    "vscode": {
     "languageId": "r"
    }
   },
   "outputs": [],
   "source": []
  },
  {
   "cell_type": "code",
   "execution_count": null,
   "metadata": {
    "vscode": {
     "languageId": "r"
    }
   },
   "outputs": [],
   "source": [
    "confident_means = emmeans(confident_model, \"game_type\")\n",
    "print(pairs(confident_means, reverse = TRUE))\n",
    "print(pwpm(confident_means, reverse = TRUE))"
   ]
  },
  {
   "cell_type": "code",
   "execution_count": null,
   "metadata": {
    "vscode": {
     "languageId": "r"
    }
   },
   "outputs": [],
   "source": [
    "mm <- clmm(C(confident) ~ C(game_type) + normalized_fitness + (1 | participant_id) + (1 | full_game_id),\n",
    "    # random = d +  , # + (1 | full_game_id), \n",
    "    data = filtered_df,\n",
    "    Hess = TRUE\n",
    "    )\n",
    "\n",
    "summary(mm)"
   ]
  },
  {
   "cell_type": "code",
   "execution_count": null,
   "metadata": {
    "vscode": {
     "languageId": "r"
    }
   },
   "outputs": [],
   "source": [
    "emmeans(mm, \"game_type\")"
   ]
  },
  {
   "cell_type": "code",
   "execution_count": null,
   "metadata": {
    "vscode": {
     "languageId": "r"
    }
   },
   "outputs": [],
   "source": []
  }
 ],
 "metadata": {
  "kernelspec": {
   "display_name": "R",
   "language": "R",
   "name": "ir"
  },
  "language_info": {
   "codemirror_mode": "r",
   "file_extension": ".r",
   "mimetype": "text/x-r-source",
   "name": "R",
   "pygments_lexer": "r",
   "version": "4.3.2"
  }
 },
 "nbformat": 4,
 "nbformat_minor": 2
}
