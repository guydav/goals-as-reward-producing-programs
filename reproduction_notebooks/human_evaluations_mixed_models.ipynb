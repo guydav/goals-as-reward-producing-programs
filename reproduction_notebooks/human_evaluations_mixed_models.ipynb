{
 "cells": [
  {
   "cell_type": "code",
   "execution_count": 1,
   "metadata": {
    "vscode": {
     "languageId": "r"
    }
   },
   "outputs": [
    {
     "name": "stderr",
     "output_type": "stream",
     "text": [
      "Loading required package: Matrix\n",
      "\n",
      "\n",
      "Attaching package: 'lmerTest'\n",
      "\n",
      "\n",
      "The following object is masked from 'package:lme4':\n",
      "\n",
      "    lmer\n",
      "\n",
      "\n",
      "The following object is masked from 'package:stats':\n",
      "\n",
      "    step\n",
      "\n",
      "\n",
      "\n",
      "Attaching package: 'IRdisplay'\n",
      "\n",
      "\n",
      "The following object is masked from 'package:performance':\n",
      "\n",
      "    display\n",
      "\n",
      "\n",
      "\n",
      "Attaching package: 'GLMMadaptive'\n",
      "\n",
      "\n",
      "The following object is masked from 'package:lme4':\n",
      "\n",
      "    negative.binomial\n",
      "\n",
      "\n",
      "\n",
      "Attaching package: 'dplyr'\n",
      "\n",
      "\n",
      "The following objects are masked from 'package:data.table':\n",
      "\n",
      "    between, first, last\n",
      "\n",
      "\n",
      "The following objects are masked from 'package:stats':\n",
      "\n",
      "    filter, lag\n",
      "\n",
      "\n",
      "The following objects are masked from 'package:base':\n",
      "\n",
      "    intersect, setdiff, setequal, union\n",
      "\n",
      "\n",
      "\n",
      "Attaching package: 'ordinal'\n",
      "\n",
      "\n",
      "The following object is masked from 'package:dplyr':\n",
      "\n",
      "    slice\n",
      "\n",
      "\n",
      "\n",
      "Attaching package: 'tidyr'\n",
      "\n",
      "\n",
      "The following objects are masked from 'package:Matrix':\n",
      "\n",
      "    expand, pack, unpack\n",
      "\n",
      "\n",
      "\n",
      "Attaching package: 'xtable'\n",
      "\n",
      "\n",
      "The following object is masked from 'package:IRdisplay':\n",
      "\n",
      "    display\n",
      "\n",
      "\n",
      "The following object is masked from 'package:performance':\n",
      "\n",
      "    display\n",
      "\n",
      "\n",
      "*** Package RVAideMemoire v 0.9-83-7 ***\n",
      "\n",
      "\n",
      "Attaching package: 'RVAideMemoire'\n",
      "\n",
      "\n",
      "The following object is masked from 'package:lme4':\n",
      "\n",
      "    dummy\n",
      "\n",
      "\n"
     ]
    }
   ],
   "source": [
    "library(lme4)\n",
    "library(lmerTest)\n",
    "library(emmeans)\n",
    "library(repr)\n",
    "library(glue)\n",
    "library(performance)\n",
    "library(IRdisplay)\n",
    "library(comprehenr)\n",
    "library(GLMMadaptive)\n",
    "library(multilevelTools)\n",
    "library(data.table)\n",
    "library(dplyr)\n",
    "library(ggplot2)\n",
    "library(ordinal)\n",
    "library(tibble)\n",
    "library(tidyr)\n",
    "library(data.table)\n",
    "library(xtable)\n",
    "library(RVAideMemoire)\n"
   ]
  },
  {
   "cell_type": "code",
   "execution_count": 2,
   "metadata": {
    "vscode": {
     "languageId": "r"
    }
   },
   "outputs": [],
   "source": [
    "options(width = 160, repr.plot.width = 20, repr.plot.height = 8)"
   ]
  },
  {
   "cell_type": "code",
   "execution_count": 3,
   "metadata": {
    "vscode": {
     "languageId": "r"
    }
   },
   "outputs": [
    {
     "name": "stdout",
     "output_type": "stream",
     "text": [
      "[1] 1292   50\n"
     ]
    },
    {
     "data": {
      "text/html": [
       "<table class=\"dataframe\">\n",
       "<caption>A data.frame: 2 x 50</caption>\n",
       "<thead>\n",
       "\t<tr><th></th><th scope=col>participant_id</th><th scope=col>game_id</th><th scope=col>real</th><th scope=col>matched</th><th scope=col>confident</th><th scope=col>fun_play</th><th scope=col>fun_watch</th><th scope=col>capability</th><th scope=col>goldilocks</th><th scope=col>creativity</th><th scope=col>...</th><th scope=col>centered_goldilocks</th><th scope=col>centered_creativity</th><th scope=col>centered_human_likeness</th><th scope=col>full_normalized_confident</th><th scope=col>full_normalized_fun_play</th><th scope=col>full_normalized_fun_watch</th><th scope=col>full_normalized_capability</th><th scope=col>full_normalized_goldilocks</th><th scope=col>full_normalized_creativity</th><th scope=col>full_normalized_human_likeness</th></tr>\n",
       "\t<tr><th></th><th scope=col>&lt;fct&gt;</th><th scope=col>&lt;fct&gt;</th><th scope=col>&lt;lgl&gt;</th><th scope=col>&lt;lgl&gt;</th><th scope=col>&lt;int&gt;</th><th scope=col>&lt;int&gt;</th><th scope=col>&lt;int&gt;</th><th scope=col>&lt;int&gt;</th><th scope=col>&lt;int&gt;</th><th scope=col>&lt;int&gt;</th><th scope=col>...</th><th scope=col>&lt;dbl&gt;</th><th scope=col>&lt;dbl&gt;</th><th scope=col>&lt;dbl&gt;</th><th scope=col>&lt;dbl&gt;</th><th scope=col>&lt;dbl&gt;</th><th scope=col>&lt;dbl&gt;</th><th scope=col>&lt;dbl&gt;</th><th scope=col>&lt;dbl&gt;</th><th scope=col>&lt;dbl&gt;</th><th scope=col>&lt;dbl&gt;</th></tr>\n",
       "</thead>\n",
       "<tbody>\n",
       "\t<tr><th scope=row>1</th><td>00c9bf44-28f3-469a-8a71-ea972af61bab-p102</td><td>(1, 1, 4, 0, 2, 0, 0, 0, 1, 0, 0, 0)</td><td>FALSE</td><td>FALSE</td><td>4</td><td>3</td><td>3</td><td>5</td><td>3</td><td>2</td><td>...</td><td>0</td><td>-1</td><td>-1</td><td>0.3349299</td><td>0.685856</td><td>0.736462</td><td>1.7028050</td><td>0.3154651</td><td>-0.1941839</td><td>-0.3231405</td></tr>\n",
       "\t<tr><th scope=row>2</th><td>00c9bf44-28f3-469a-8a71-ea972af61bab-p102</td><td>(1, 0, 2, 0, 1, 0, 0, 0, 0, 1, 0, 0)</td><td>FALSE</td><td>FALSE</td><td>4</td><td>3</td><td>3</td><td>4</td><td>3</td><td>3</td><td>...</td><td>0</td><td> 0</td><td>-1</td><td>0.3349299</td><td>0.685856</td><td>0.736462</td><td>0.8894874</td><td>0.3154651</td><td> 0.7489952</td><td>-0.3231405</td></tr>\n",
       "</tbody>\n",
       "</table>\n"
      ],
      "text/latex": [
       "A data.frame: 2 x 50\n",
       "\\begin{tabular}{r|lllllllllllllllllllll}\n",
       "  & participant\\_id & game\\_id & real & matched & confident & fun\\_play & fun\\_watch & capability & goldilocks & creativity & ... & centered\\_goldilocks & centered\\_creativity & centered\\_human\\_likeness & full\\_normalized\\_confident & full\\_normalized\\_fun\\_play & full\\_normalized\\_fun\\_watch & full\\_normalized\\_capability & full\\_normalized\\_goldilocks & full\\_normalized\\_creativity & full\\_normalized\\_human\\_likeness\\\\\n",
       "  & <fct> & <fct> & <lgl> & <lgl> & <int> & <int> & <int> & <int> & <int> & <int> & ... & <dbl> & <dbl> & <dbl> & <dbl> & <dbl> & <dbl> & <dbl> & <dbl> & <dbl> & <dbl>\\\\\n",
       "\\hline\n",
       "\t1 & 00c9bf44-28f3-469a-8a71-ea972af61bab-p102 & (1, 1, 4, 0, 2, 0, 0, 0, 1, 0, 0, 0) & FALSE & FALSE & 4 & 3 & 3 & 5 & 3 & 2 & ... & 0 & -1 & -1 & 0.3349299 & 0.685856 & 0.736462 & 1.7028050 & 0.3154651 & -0.1941839 & -0.3231405\\\\\n",
       "\t2 & 00c9bf44-28f3-469a-8a71-ea972af61bab-p102 & (1, 0, 2, 0, 1, 0, 0, 0, 0, 1, 0, 0) & FALSE & FALSE & 4 & 3 & 3 & 4 & 3 & 3 & ... & 0 &  0 & -1 & 0.3349299 & 0.685856 & 0.736462 & 0.8894874 & 0.3154651 &  0.7489952 & -0.3231405\\\\\n",
       "\\end{tabular}\n"
      ],
      "text/markdown": [
       "\n",
       "A data.frame: 2 x 50\n",
       "\n",
       "| <!--/--> | participant_id &lt;fct&gt; | game_id &lt;fct&gt; | real &lt;lgl&gt; | matched &lt;lgl&gt; | confident &lt;int&gt; | fun_play &lt;int&gt; | fun_watch &lt;int&gt; | capability &lt;int&gt; | goldilocks &lt;int&gt; | creativity &lt;int&gt; | ... ... | centered_goldilocks &lt;dbl&gt; | centered_creativity &lt;dbl&gt; | centered_human_likeness &lt;dbl&gt; | full_normalized_confident &lt;dbl&gt; | full_normalized_fun_play &lt;dbl&gt; | full_normalized_fun_watch &lt;dbl&gt; | full_normalized_capability &lt;dbl&gt; | full_normalized_goldilocks &lt;dbl&gt; | full_normalized_creativity &lt;dbl&gt; | full_normalized_human_likeness &lt;dbl&gt; |\n",
       "|---|---|---|---|---|---|---|---|---|---|---|---|---|---|---|---|---|---|---|---|---|---|\n",
       "| 1 | 00c9bf44-28f3-469a-8a71-ea972af61bab-p102 | (1, 1, 4, 0, 2, 0, 0, 0, 1, 0, 0, 0) | FALSE | FALSE | 4 | 3 | 3 | 5 | 3 | 2 | ... | 0 | -1 | -1 | 0.3349299 | 0.685856 | 0.736462 | 1.7028050 | 0.3154651 | -0.1941839 | -0.3231405 |\n",
       "| 2 | 00c9bf44-28f3-469a-8a71-ea972af61bab-p102 | (1, 0, 2, 0, 1, 0, 0, 0, 0, 1, 0, 0) | FALSE | FALSE | 4 | 3 | 3 | 4 | 3 | 3 | ... | 0 |  0 | -1 | 0.3349299 | 0.685856 | 0.736462 | 0.8894874 | 0.3154651 |  0.7489952 | -0.3231405 |\n",
       "\n"
      ],
      "text/plain": [
       "  participant_id                            game_id                              real  matched confident fun_play fun_watch capability goldilocks creativity\n",
       "1 00c9bf44-28f3-469a-8a71-ea972af61bab-p102 (1, 1, 4, 0, 2, 0, 0, 0, 1, 0, 0, 0) FALSE FALSE   4         3        3         5          3          2         \n",
       "2 00c9bf44-28f3-469a-8a71-ea972af61bab-p102 (1, 0, 2, 0, 1, 0, 0, 0, 0, 1, 0, 0) FALSE FALSE   4         3        3         4          3          3         \n",
       "  ... centered_goldilocks centered_creativity centered_human_likeness full_normalized_confident full_normalized_fun_play full_normalized_fun_watch\n",
       "1 ... 0                   -1                  -1                      0.3349299                 0.685856                 0.736462                 \n",
       "2 ... 0                    0                  -1                      0.3349299                 0.685856                 0.736462                 \n",
       "  full_normalized_capability full_normalized_goldilocks full_normalized_creativity full_normalized_human_likeness\n",
       "1 1.7028050                  0.3154651                  -0.1941839                 -0.3231405                    \n",
       "2 0.8894874                  0.3154651                   0.7489952                 -0.3231405                    "
      ]
     },
     "metadata": {},
     "output_type": "display_data"
    }
   ],
   "source": [
    "current_participants_df <- read.csv('./human_evals_data/current_participants_df.csv')\n",
    "\n",
    "# Set columns as categorical\n",
    "current_participants_df$participant_id <- as.factor(current_participants_df$participant_id)\n",
    "current_participants_df$game_id <- as.factor(current_participants_df$game_id)\n",
    "current_participants_df$game_type <- as.factor(current_participants_df$game_type)\n",
    "current_participants_df$full_game_id <- as.factor(current_participants_df$full_game_id)\n",
    "\n",
    "# Change the order of game_type levels\n",
    "current_participants_df$game_type <- factor(current_participants_df$game_type, levels = c('unmatched', 'unmatched_top_30', 'matched', 'real'))\n",
    "\n",
    "\n",
    "# Set columns as booleans\n",
    "current_participants_df$real <- as.logical(current_participants_df$real)\n",
    "current_participants_df$matched <- as.logical(current_participants_df$matched)\n",
    "current_participants_df$model_game <- (!current_participants_df$real)\n",
    "\n",
    "ATTRIBUTES <- c(\"confident\", \"fun_play\", \"fun_watch\", \"capability\", \"goldilocks\", \"creativity\", \"human_likeness\")\n",
    "NORMALIZED_ATTRIBUTES <- to_vec(for (attr in ATTRIBUTES) { glue(\"normalized_{attr}\") } )\n",
    "CENTERED_ATTRIBUTES <- to_vec(for (attr in ATTRIBUTES) { glue(\"centered_{attr}\") } )\n",
    "FULL_NORMALIZED_ATTRIBUTES <- to_vec(for (attr in ATTRIBUTES) { glue(\"full_normalized_{attr}\") })\n",
    "\n",
    "for (i in seq_along(CENTERED_ATTRIBUTES)) {\n",
    "    current_participants_df[[CENTERED_ATTRIBUTES[i]]] <- current_participants_df[[ATTRIBUTES[i]]] - 3\n",
    "}\n",
    "\n",
    "for (i in seq_along(FULL_NORMALIZED_ATTRIBUTES)) {\n",
    "    current_participants_df[[FULL_NORMALIZED_ATTRIBUTES[i]]] <- (current_participants_df[[ATTRIBUTES[i]]] - mean(current_participants_df[[ATTRIBUTES[i]]])) / sd(current_participants_df[[ATTRIBUTES[i]]])\n",
    "}\n",
    "\n",
    "\n",
    "\n",
    "print(dim(current_participants_df))\n",
    "head(current_participants_df, 2)"
   ]
  },
  {
   "cell_type": "code",
   "execution_count": 4,
   "metadata": {
    "vscode": {
     "languageId": "r"
    }
   },
   "outputs": [
    {
     "name": "stdout",
     "output_type": "stream",
     "text": [
      "[1] 892  50\n"
     ]
    },
    {
     "data": {
      "text/html": [
       "<table class=\"dataframe\">\n",
       "<caption>A data.frame: 2 x 50</caption>\n",
       "<thead>\n",
       "\t<tr><th></th><th scope=col>participant_id</th><th scope=col>game_id</th><th scope=col>real</th><th scope=col>matched</th><th scope=col>confident</th><th scope=col>fun_play</th><th scope=col>fun_watch</th><th scope=col>capability</th><th scope=col>goldilocks</th><th scope=col>creativity</th><th scope=col>...</th><th scope=col>centered_goldilocks</th><th scope=col>centered_creativity</th><th scope=col>centered_human_likeness</th><th scope=col>full_normalized_confident</th><th scope=col>full_normalized_fun_play</th><th scope=col>full_normalized_fun_watch</th><th scope=col>full_normalized_capability</th><th scope=col>full_normalized_goldilocks</th><th scope=col>full_normalized_creativity</th><th scope=col>full_normalized_human_likeness</th></tr>\n",
       "\t<tr><th></th><th scope=col>&lt;fct&gt;</th><th scope=col>&lt;fct&gt;</th><th scope=col>&lt;lgl&gt;</th><th scope=col>&lt;lgl&gt;</th><th scope=col>&lt;int&gt;</th><th scope=col>&lt;int&gt;</th><th scope=col>&lt;int&gt;</th><th scope=col>&lt;int&gt;</th><th scope=col>&lt;int&gt;</th><th scope=col>&lt;int&gt;</th><th scope=col>...</th><th scope=col>&lt;dbl&gt;</th><th scope=col>&lt;dbl&gt;</th><th scope=col>&lt;dbl&gt;</th><th scope=col>&lt;dbl&gt;</th><th scope=col>&lt;dbl&gt;</th><th scope=col>&lt;dbl&gt;</th><th scope=col>&lt;dbl&gt;</th><th scope=col>&lt;dbl&gt;</th><th scope=col>&lt;dbl&gt;</th><th scope=col>&lt;dbl&gt;</th></tr>\n",
       "</thead>\n",
       "<tbody>\n",
       "\t<tr><th scope=row>3</th><td>00c9bf44-28f3-469a-8a71-ea972af61bab-p102</td><td>(1, 0, 2, 0, 0, 0, 0, 0, 0, 0, 2, 0)</td><td> TRUE</td><td>TRUE</td><td>4</td><td>2</td><td>2</td><td>5</td><td>4</td><td>3</td><td>...</td><td> 1</td><td> 0</td><td>-1</td><td>0.3349299</td><td>-0.2092207</td><td>-0.1445648</td><td>1.70280498</td><td> 1.2524326</td><td> 0.7489952</td><td>-0.3231405</td></tr>\n",
       "\t<tr><th scope=row>4</th><td>00c9bf44-28f3-469a-8a71-ea972af61bab-p102</td><td>(1, 0, 2, 0, 0, 0, 0, 0, 0, 0, 2, 0)</td><td>FALSE</td><td>TRUE</td><td>5</td><td>4</td><td>4</td><td>3</td><td>2</td><td>2</td><td>...</td><td>-1</td><td>-1</td><td>-1</td><td>1.1049113</td><td> 1.5809328</td><td> 1.6174888</td><td>0.07616983</td><td>-0.6215025</td><td>-0.1941839</td><td>-0.3231405</td></tr>\n",
       "</tbody>\n",
       "</table>\n"
      ],
      "text/latex": [
       "A data.frame: 2 x 50\n",
       "\\begin{tabular}{r|lllllllllllllllllllll}\n",
       "  & participant\\_id & game\\_id & real & matched & confident & fun\\_play & fun\\_watch & capability & goldilocks & creativity & ... & centered\\_goldilocks & centered\\_creativity & centered\\_human\\_likeness & full\\_normalized\\_confident & full\\_normalized\\_fun\\_play & full\\_normalized\\_fun\\_watch & full\\_normalized\\_capability & full\\_normalized\\_goldilocks & full\\_normalized\\_creativity & full\\_normalized\\_human\\_likeness\\\\\n",
       "  & <fct> & <fct> & <lgl> & <lgl> & <int> & <int> & <int> & <int> & <int> & <int> & ... & <dbl> & <dbl> & <dbl> & <dbl> & <dbl> & <dbl> & <dbl> & <dbl> & <dbl> & <dbl>\\\\\n",
       "\\hline\n",
       "\t3 & 00c9bf44-28f3-469a-8a71-ea972af61bab-p102 & (1, 0, 2, 0, 0, 0, 0, 0, 0, 0, 2, 0) &  TRUE & TRUE & 4 & 2 & 2 & 5 & 4 & 3 & ... &  1 &  0 & -1 & 0.3349299 & -0.2092207 & -0.1445648 & 1.70280498 &  1.2524326 &  0.7489952 & -0.3231405\\\\\n",
       "\t4 & 00c9bf44-28f3-469a-8a71-ea972af61bab-p102 & (1, 0, 2, 0, 0, 0, 0, 0, 0, 0, 2, 0) & FALSE & TRUE & 5 & 4 & 4 & 3 & 2 & 2 & ... & -1 & -1 & -1 & 1.1049113 &  1.5809328 &  1.6174888 & 0.07616983 & -0.6215025 & -0.1941839 & -0.3231405\\\\\n",
       "\\end{tabular}\n"
      ],
      "text/markdown": [
       "\n",
       "A data.frame: 2 x 50\n",
       "\n",
       "| <!--/--> | participant_id &lt;fct&gt; | game_id &lt;fct&gt; | real &lt;lgl&gt; | matched &lt;lgl&gt; | confident &lt;int&gt; | fun_play &lt;int&gt; | fun_watch &lt;int&gt; | capability &lt;int&gt; | goldilocks &lt;int&gt; | creativity &lt;int&gt; | ... ... | centered_goldilocks &lt;dbl&gt; | centered_creativity &lt;dbl&gt; | centered_human_likeness &lt;dbl&gt; | full_normalized_confident &lt;dbl&gt; | full_normalized_fun_play &lt;dbl&gt; | full_normalized_fun_watch &lt;dbl&gt; | full_normalized_capability &lt;dbl&gt; | full_normalized_goldilocks &lt;dbl&gt; | full_normalized_creativity &lt;dbl&gt; | full_normalized_human_likeness &lt;dbl&gt; |\n",
       "|---|---|---|---|---|---|---|---|---|---|---|---|---|---|---|---|---|---|---|---|---|---|\n",
       "| 3 | 00c9bf44-28f3-469a-8a71-ea972af61bab-p102 | (1, 0, 2, 0, 0, 0, 0, 0, 0, 0, 2, 0) |  TRUE | TRUE | 4 | 2 | 2 | 5 | 4 | 3 | ... |  1 |  0 | -1 | 0.3349299 | -0.2092207 | -0.1445648 | 1.70280498 |  1.2524326 |  0.7489952 | -0.3231405 |\n",
       "| 4 | 00c9bf44-28f3-469a-8a71-ea972af61bab-p102 | (1, 0, 2, 0, 0, 0, 0, 0, 0, 0, 2, 0) | FALSE | TRUE | 5 | 4 | 4 | 3 | 2 | 2 | ... | -1 | -1 | -1 | 1.1049113 |  1.5809328 |  1.6174888 | 0.07616983 | -0.6215025 | -0.1941839 | -0.3231405 |\n",
       "\n"
      ],
      "text/plain": [
       "  participant_id                            game_id                              real  matched confident fun_play fun_watch capability goldilocks creativity\n",
       "3 00c9bf44-28f3-469a-8a71-ea972af61bab-p102 (1, 0, 2, 0, 0, 0, 0, 0, 0, 0, 2, 0)  TRUE TRUE    4         2        2         5          4          3         \n",
       "4 00c9bf44-28f3-469a-8a71-ea972af61bab-p102 (1, 0, 2, 0, 0, 0, 0, 0, 0, 0, 2, 0) FALSE TRUE    5         4        4         3          2          2         \n",
       "  ... centered_goldilocks centered_creativity centered_human_likeness full_normalized_confident full_normalized_fun_play full_normalized_fun_watch\n",
       "3 ...  1                   0                  -1                      0.3349299                 -0.2092207               -0.1445648               \n",
       "4 ... -1                  -1                  -1                      1.1049113                  1.5809328                1.6174888               \n",
       "  full_normalized_capability full_normalized_goldilocks full_normalized_creativity full_normalized_human_likeness\n",
       "3 1.70280498                  1.2524326                  0.7489952                 -0.3231405                    \n",
       "4 0.07616983                 -0.6215025                 -0.1941839                 -0.3231405                    "
      ]
     },
     "metadata": {},
     "output_type": "display_data"
    }
   ],
   "source": [
    "filtered_df <- current_participants_df[current_participants_df$game_type != 'unmatched', ]\n",
    "filtered_df$game_type <- droplevels(filtered_df$game_type)\n",
    "\n",
    "print(dim(filtered_df))\n",
    "head(filtered_df, 2)"
   ]
  },
  {
   "cell_type": "code",
   "execution_count": 5,
   "metadata": {
    "vscode": {
     "languageId": "r"
    }
   },
   "outputs": [],
   "source": [
    "# N_POINTS = 50\n",
    "\n",
    "\n",
    "# buildFitnessData <- function() {\n",
    "#     # Get the min and max of the normalized fitness\n",
    "#     fitness.min <- min(filtered_df$normalized_fitness);\n",
    "#     fitness.max <- max(filtered_df$normalized_fitness);\n",
    "#     fitness.seq <- seq(fitness.min, fitness.max, length.out = N_POINTS);\n",
    "#     # Create a data frame with a row for each sequence of fitness values for each game type\n",
    "#     predict_data_df <- expand.grid(normalized_fitness = fitness.seq, game_type = levels(filtered_df$game_type));\n",
    "#     # replicate each row 3 times (once for each percentile)\n",
    "#     predict_data_df <- predict_data_df[rep(row.names(predict_data_df), each = 3),];\n",
    "\n",
    "#     predict_data_df <- predict_data_df %>%\n",
    "#         mutate(percentile = rep(c(20, 50, 80), times = N_POINTS * 3)) %>%\n",
    "#         mutate(percentile = as.factor(percentile));\n",
    "\n",
    "#     return(predict_data_df);\n",
    "# }\n",
    "\n",
    "\n",
    "# extractGameEffects <- function(model) {\n",
    "#     if (missing(model)) {\n",
    "#         model = attr.mm;\n",
    "#     }\n",
    "\n",
    "#     attr.game_effects_df <- ranef(model)$full_game_id;\n",
    "#     colnames(attr.game_effects_df)[1] <- c(\"effect\");\n",
    "#     attr.game_effects_df <- rownames_to_column(attr.game_effects_df, var = \"full_game_id\");\n",
    "#     attr.game_effects_df$full_game_id <- factor(attr.game_effects_df$full_game_id, levels = levels(filtered_df$full_game_id));\n",
    "\n",
    "#     limited_filtered_df <- filtered_df %>%\n",
    "#         select(full_game_id, game_type) %>%\n",
    "#         distinct();\n",
    "\n",
    "#     attr.game_effects_df <- left_join(attr.game_effects_df, limited_filtered_df, by = \"full_game_id\");\n",
    "\n",
    "\n",
    "#     percentiles <- attr.game_effects_df %>%\n",
    "#         group_by(game_type) %>%\n",
    "#         summarize(percentile_20 = quantile(effect, 0.20),\n",
    "#                 percentile_50 = quantile(effect, 0.50),\n",
    "#                 percentile_80 = quantile(effect, 0.80)) %>%\n",
    "#         pivot_longer(cols = starts_with(\"percentile\"),\n",
    "#                     names_to = \"percentile\",\n",
    "#                     values_to = \"game_effect\") %>%\n",
    "#         mutate(percentile = gsub(\"percentile_\", \"\", percentile)) %>%\n",
    "#         mutate(percentile = as.factor(percentile));\n",
    "\n",
    "#     return(percentiles);\n",
    "# }\n",
    "\n",
    "\n",
    "# extractParticipantEffects <- function(model) {\n",
    "#     if (missing(model)) {\n",
    "#         model = attr.mm;\n",
    "#     }\n",
    "\n",
    "#     attr.participant_effects_df <- ranef(model)$participant_id;\n",
    "#     colnames(attr.participant_effects_df)[1] <- c(\"effect\");\n",
    "#     attr.participant_effects_df <- rownames_to_column(attr.participant_effects_df, var = \"participant_id\");\n",
    "#     attr.participant_effects_df$participant_id <- factor(attr.participant_effects_df$participant_id, levels = levels(filtered_df$participant_id));\n",
    "\n",
    "#     percentiles <- attr.participant_effects_df %>%\n",
    "#         summarize(percentile_20 = quantile(effect, 0.20),\n",
    "#                 percentile_50 = quantile(effect, 0.50),\n",
    "#                 percentile_80 = quantile(effect, 0.80)) %>%\n",
    "#         pivot_longer(cols = starts_with(\"percentile\"),\n",
    "#                     names_to = \"percentile\",\n",
    "#                     values_to = \"participant_effect\") %>%\n",
    "#         mutate(percentile = gsub(\"percentile_\", \"\", percentile)) %>%\n",
    "#         mutate(percentile = as.factor(percentile)) %>%\n",
    "#         rename(participant_percentile = percentile);\n",
    "\n",
    "#     return(percentiles);\n",
    "# }\n",
    "\n",
    "\n",
    "# extractCoefData <- function(model) {\n",
    "#     if (missing(model)) {\n",
    "#         model = attr.mm;\n",
    "#     }\n",
    "\n",
    "#     attr.coef <- coef(attr.mm);\n",
    "#     fitness_coef <- attr.coef[length(attr.coef)];\n",
    "#     coef.df <- as.data.frame(attr.coef[5:(length(attr.coef) - 1)])\n",
    "#     colnames(coef.df)[1] <- \"game_type_intercept\";\n",
    "#     row_names <- rownames(coef.df);\n",
    "#     row_names <- gsub(\"C\\\\(game_type\\\\)\", \"\", row_names);\n",
    "#     rownames(coef.df) <- row_names;\n",
    "\n",
    "#     coef.df <- rownames_to_column(coef.df, var = \"game_type\");\n",
    "#     coef.df <- rbind(coef.df, c(game_type = \"unmatched_top_30\", game_type_intercept = 0));\n",
    "#     coef.df$game_type <- as.factor(coef.df$game_type);\n",
    "#     coef.df$game_type_intercept <- as.numeric(coef.df$game_type_intercept);\n",
    "\n",
    "#     return(coef.df);\n",
    "# }\n",
    "\n",
    "# plotPredictData <- function(merged_predict_df) {\n",
    "#     participant_titles <- to_vec(for (p in levels(merged_predict_df$participant_percentile)) { glue(\"{p}th Percentile Participant\") } );\n",
    "#     names(participant_titles) <- levels(merged_predict_df$participant_percentile);\n",
    "\n",
    "#     return(print(ggplot(merged_predict_df, aes(x = normalized_fitness, y = bin, color = game_type, linetype = percentile)) +\n",
    "#         facet_wrap(vars(participant_percentile), nrow = 1, labeller = labeller(cyl = participant_titles)) +\n",
    "#         geom_line(size = 1.25) +\n",
    "#         labs(x = \"Normalized Fitness\", y = attr) +\n",
    "#         scale_color_manual(values = c(\"unmatched\" = \"red\", \"unmatched_top_30\" = \"blue\", \"matched\" = \"green\", \"real\" = \"purple\")) +\n",
    "#         scale_linetype_manual(values = c(\"20\" = \"dashed\", \"50\" = \"solid\", \"80\" = \"dotted\")) +\n",
    "#         theme_minimal() +\n",
    "#         theme(\n",
    "#             plot.margin = margin(2, 2, 2, 2, \"cm\"),\n",
    "#             text = element_text(size = 16),\n",
    "#             axis.text = element_text(size = 14),\n",
    "#         ) + \n",
    "#         ggtitle(glue(\"{attr} by Game Type and Percentile\")) \n",
    "#         ));\n",
    "\n",
    "#     # return(print(ggplot(merged_predict_df, aes(x = normalized_fitness, y = bin, color = game_type, linetype = percentile)) +\n",
    "#     #     geom_line(size = 1.25) +\n",
    "#     #     labs(x = \"Normalized Fitness\", y = attr) +\n",
    "#     #     scale_color_manual(values = c(\"unmatched\" = \"red\", \"unmatched_top_30\" = \"blue\", \"matched\" = \"green\", \"real\" = \"purple\")) +\n",
    "#     #     scale_linetype_manual(values = c(\"20\" = \"dashed\", \"50\" = \"solid\", \"80\" = \"dotted\")) +\n",
    "#     #     theme_minimal() +\n",
    "#     #     theme(\n",
    "#     #         plot.margin = margin(2, 2, 2, 2, \"cm\"),\n",
    "#     #         text = element_text(size = 16),\n",
    "#     #         axis.text = element_text(size = 14),\n",
    "#     #     ) + \n",
    "#     #     ggtitle(glue(\"{attr} by Game Type and Percentile\"))))\n",
    "# }\n",
    "\n",
    "# plotModelPredictions <- function(model) {\n",
    "#     if (missing(model)) {\n",
    "#         model = attr.mm;\n",
    "#     }\n",
    "\n",
    "#     predict_data_df <- buildFitnessData();\n",
    "#     percentiles_df <- extractGameEffects(model);\n",
    "\n",
    "#     predict_data_df <-\n",
    "#         left_join(predict_data_df, percentiles_df, by = c(\"game_type\", \"percentile\"));\n",
    "    \n",
    "#     coef_df <- extractCoefData(model);\n",
    "#     attr.coef <- coef(attr.mm);\n",
    "#     fitness_coef <- attr.coef[length(attr.coef)];\n",
    "\n",
    "#     participant_effects_df <- extractParticipantEffects(model);\n",
    "#     predict_data_df <- merge(predict_data_df, participant_effects_df, by = NULL);\n",
    "\n",
    "#     merged_predict_df <- \n",
    "#         merge(predict_data_df, coef_df, by = \"game_type\", all.x = TRUE) %>%\n",
    "#         # add the prediction\n",
    "#         mutate(prediction = (merged_predict_df$game_type_intercept + (fitness_coef * merged_predict_df$normalized_fitness) + merged_predict_df$game_effect + merged_predict_df$participant_effect)) %>%\n",
    "#         # bin the prediction\n",
    "#         mutate(bin = cut(prediction, breaks = c(-Inf, attr.coef[1:4], Inf), labels = 1:5, include.lowest = TRUE)) %>%\n",
    "#         mutate(bin = as.double(bin)) %>%\n",
    "#         # Add 0.1 if game type is 'matched' and 0.2 if game type is 'real'\n",
    "#         mutate(bin = ifelse(game_type == 'unmatched_top_30', bin - 0.15, bin)) %>%\n",
    "#         mutate(bin = ifelse(game_type == 'real', bin + 0.15, bin)) %>%\n",
    "#         mutate(bin = ifelse(percentile == 20, bin - 0.05, bin)) %>%\n",
    "#         mutate(bin = ifelse(percentile == 80, bin + 0.05, bin));\n",
    "\n",
    "#     return(plotPredictData(merged_predict_df));\n",
    "# }"
   ]
  },
  {
   "cell_type": "markdown",
   "metadata": {},
   "source": [
    "## Do we need a random effect for participants?"
   ]
  },
  {
   "cell_type": "code",
   "execution_count": 13,
   "metadata": {
    "vscode": {
     "languageId": "r"
    }
   },
   "outputs": [
    {
     "name": "stdout",
     "output_type": "stream",
     "text": [
      "For confident, adding the participant ID random effects results in AIC diff: 98.78088 | Chi-squared: NULL | p-value: 1.027435e-23\n",
      "For fun_play, adding the participant ID random effects results in AIC diff: 248.459 | Chi-squared: NULL | p-value: 2.062364e-56\n",
      "For fun_watch, adding the participant ID random effects results in AIC diff: 381.5017 | Chi-squared: NULL | p-value: 2.150804e-85\n",
      "For capability, adding the participant ID random effects results in AIC diff: 350.6805 | Chi-squared: NULL | p-value: 1.10518e-78\n",
      "For goldilocks, adding the participant ID random effects results in AIC diff: 89.72851 | Chi-squared: NULL | p-value: 9.942224e-22\n",
      "For creativity, adding the participant ID random effects results in AIC diff: 257.707 | Chi-squared: NULL | p-value: 1.987821e-58\n",
      "For human_likeness, adding the participant ID random effects results in AIC diff: 182.0796 | Chi-squared: NULL | p-value: 6.233415e-42\n"
     ]
    }
   ],
   "source": [
    "# Iterate through attributes\n",
    "for (attr in ATTRIBUTES) {\n",
    "    attr.mm_no_participant_id <- clmm(\n",
    "        formula = as.formula(glue(\"C({attr}) ~ 1 + C(game_type) + normalized_fitness + (1 | full_game_id)\")),\n",
    "        data = filtered_df, Hess = TRUE\n",
    "    )\n",
    "    attr.mm_with_participant_id <- clmm(\n",
    "        formula = as.formula(glue(\"C({attr}) ~ 1 + C(game_type) + normalized_fitness + (1 | full_game_id) + (1 | participant_id)\")),\n",
    "        data = filtered_df, Hess = TRUE\n",
    "    )\n",
    "\n",
    "    anova_results <- anova(attr.mm_no_participant_id, attr.mm_with_participant_id)\n",
    "    attr.aic_before <- anova_results$AIC[[1]]\n",
    "    attr.aic_after <- anova_results$AIC[[2]]\n",
    "    attr.aic_diff <- attr.aic_before - attr.aic_after\n",
    "    attr.chisq <- anova_results$Chisq[[2]]\n",
    "    attr.pvalue <- anova_results$`Pr(>Chisq)`[[2]] \n",
    "    \n",
    "    print(glue(\"For {attr}, adding the participant ID random effects results in AIC diff: {format(attr.aic_diff, nsmall=3)} | Chi-squared: {format(attr.chisq, nsmall=3)} | p-value: {format(attr.pvalue, nsmall=3)}\"))\n",
    "}\n",
    "\n"
   ]
  },
  {
   "cell_type": "markdown",
   "metadata": {},
   "source": [
    "Absolutely we do.\n",
    "\n",
    "## Do we need a random effect for games?"
   ]
  },
  {
   "cell_type": "code",
   "execution_count": 10,
   "metadata": {
    "vscode": {
     "languageId": "r"
    }
   },
   "outputs": [
    {
     "name": "stdout",
     "output_type": "stream",
     "text": [
      "For confident, adding the game ID random effects results in AIC diff: 49.03556 | Chi-squared: NULL | p-value: 9.070776e-13\n",
      "For fun_play, adding the game ID random effects results in AIC diff: 39.63944 | Chi-squared: NULL | p-value: 1.097565e-10\n",
      "For fun_watch, adding the game ID random effects results in AIC diff: 26.17496 | Chi-squared: NULL | p-value: 1.108294e-07\n",
      "For capability, adding the game ID random effects results in AIC diff: -1.977122 | Chi-squared: NULL | p-value: 0.8797742\n",
      "For goldilocks, adding the game ID random effects results in AIC diff: 108.3868 | Chi-squared: NULL | p-value: 8.062017e-26\n",
      "For creativity, adding the game ID random effects results in AIC diff: 53.75391 | Chi-squared: NULL | p-value: 8.213478e-14\n",
      "For human_likeness, adding the game ID random effects results in AIC diff: 29.1491 | Chi-squared: NULL | p-value: 2.389503e-08\n"
     ]
    }
   ],
   "source": [
    "\n",
    "\n",
    "# Iterate through attributes\n",
    "for (attr in ATTRIBUTES) {\n",
    "    attr.mm_no_game_id <- clmm(\n",
    "        formula = as.formula(glue(\"C({attr}) ~ 1 + C(game_type) + normalized_fitness + (1 | participant_id)\")),\n",
    "        data = filtered_df, Hess = TRUE\n",
    "    )\n",
    "    attr.mm_with_game_id <- clmm(\n",
    "        formula = as.formula(glue(\"C({attr}) ~ 1 + C(game_type) + normalized_fitness + (1 | participant_id) + (1 | full_game_id)\")),\n",
    "        data = filtered_df, Hess = TRUE\n",
    "    )\n",
    "\n",
    "    anova_results <- anova(attr.mm_no_game_id, attr.mm_with_game_id)\n",
    "    attr.aic_before <- anova_results$AIC[[1]]\n",
    "    attr.aic_after <- anova_results$AIC[[2]]\n",
    "    attr.aic_diff <- attr.aic_before - attr.aic_after\n",
    "    attr.chisq <- anova_results$Chisq[[2]]\n",
    "    attr.pvalue <- anova_results$`Pr(>Chisq)`[[2]] \n",
    "    \n",
    "    print(glue(\"For {attr}, adding the game ID random effects results in AIC diff: {format(attr.aic_diff, nsmall=3)} | Chi-squared: {format(attr.chisq, nsmall=3)} | p-value: {format(attr.pvalue, nsmall=3)}\"))\n",
    "}\n",
    "\n"
   ]
  },
  {
   "cell_type": "markdown",
   "metadata": {},
   "source": [
    "Sure seems to help in almost every attribute.\n",
    "\n",
    "## Fit and analyze the full mixed effects model"
   ]
  },
  {
   "cell_type": "code",
   "execution_count": 15,
   "metadata": {
    "vscode": {
     "languageId": "r"
    }
   },
   "outputs": [
    {
     "data": {
      "text/markdown": [
       "## confident"
      ]
     },
     "metadata": {},
     "output_type": "display_data"
    },
    {
     "data": {
      "text/markdown": [
       "### Mixed Effects Model"
      ]
     },
     "metadata": {},
     "output_type": "display_data"
    },
    {
     "name": "stdout",
     "output_type": "stream",
     "text": [
      "Cumulative Link Mixed Model fitted with the Laplace approximation\n",
      "\n",
      "formula: C(confident) ~ 1 + normalized_fitness + C(game_type) + (1 | participant_id) +      (1 | full_game_id)\n",
      "data:    analysis_df\n",
      "\n",
      " link  threshold nobs logLik   AIC     niter     max.grad cond.H \n",
      " logit flexible  892  -1182.29 2382.59 755(3012) 2.29e-04 8.8e+01\n",
      "\n",
      "Random effects:\n",
      " Groups         Name        Variance Std.Dev.\n",
      " participant_id (Intercept) 1.2831   1.1327  \n",
      " full_game_id   (Intercept) 0.7669   0.8757  \n",
      "Number of groups:  participant_id 100,  full_game_id 90 \n",
      "\n",
      "Coefficients:\n",
      "                    Estimate Std. Error z value Pr(>|z|)    \n",
      "normalized_fitness    0.8459     0.1504   5.625 1.86e-08 ***\n",
      "C(game_type)matched   0.5253     0.2974   1.766   0.0773 .  \n",
      "C(game_type)real      1.1511     0.2852   4.036 5.43e-05 ***\n",
      "---\n",
      "Signif. codes:  0 '***' 0.001 '**' 0.01 '*' 0.05 '.' 0.1 ' ' 1\n",
      "\n",
      "Threshold coefficients:\n",
      "    Estimate Std. Error z value\n",
      "1|2 -2.80972    0.26835 -10.471\n",
      "2|3 -1.36745    0.24135  -5.666\n",
      "3|4 -0.01259    0.23532  -0.054\n",
      "4|5  1.58470    0.24237   6.538\n"
     ]
    },
    {
     "name": "stderr",
     "output_type": "stream",
     "text": [
      "Warning message:\n",
      "\"contrasts dropped from factor C(game_type)\"\n"
     ]
    },
    {
     "data": {
      "text/markdown": [
       "### Marginal Means"
      ]
     },
     "metadata": {},
     "output_type": "display_data"
    },
    {
     "data": {
      "text/markdown": [
       "------------------"
      ]
     },
     "metadata": {},
     "output_type": "display_data"
    },
    {
     "data": {
      "text/markdown": [
       "## fun_play"
      ]
     },
     "metadata": {},
     "output_type": "display_data"
    },
    {
     "data": {
      "text/markdown": [
       "### Mixed Effects Model"
      ]
     },
     "metadata": {},
     "output_type": "display_data"
    },
    {
     "name": "stdout",
     "output_type": "stream",
     "text": [
      " contrast                   estimate    SE  df z.ratio p.value\n",
      " matched - unmatched_top_30    0.525 0.297 Inf   1.766  0.1810\n",
      " real - unmatched_top_30       1.151 0.285 Inf   4.036  0.0002\n",
      " real - matched                0.626 0.305 Inf   2.055  0.0995\n",
      "\n",
      "P value adjustment: tukey method for comparing a family of 3 estimates \n",
      "Cumulative Link Mixed Model fitted with the Laplace approximation\n",
      "\n",
      "formula: C(fun_play) ~ 1 + normalized_fitness + C(game_type) + (1 | participant_id) +      (1 | full_game_id)\n",
      "data:    analysis_df\n",
      "\n",
      " link  threshold nobs logLik   AIC     niter     max.grad cond.H \n",
      " logit flexible  892  -1134.46 2286.92 699(4357) 3.32e-04 6.8e+01\n",
      "\n",
      "Random effects:\n",
      " Groups         Name        Variance Std.Dev.\n",
      " participant_id (Intercept) 2.8697   1.6940  \n",
      " full_game_id   (Intercept) 0.5779   0.7602  \n",
      "Number of groups:  participant_id 100,  full_game_id 90 \n",
      "\n",
      "Coefficients:\n",
      "                    Estimate Std. Error z value Pr(>|z|)    \n",
      "normalized_fitness    0.3956     0.1347   2.936  0.00332 ** \n",
      "C(game_type)matched   0.6287     0.2736   2.298  0.02158 *  \n",
      "C(game_type)real      1.0589     0.2633   4.021  5.8e-05 ***\n",
      "---\n",
      "Signif. codes:  0 '***' 0.001 '**' 0.01 '*' 0.05 '.' 0.1 ' ' 1\n",
      "\n",
      "Threshold coefficients:\n",
      "    Estimate Std. Error z value\n",
      "1|2  -0.9559     0.2597  -3.681\n",
      "2|3   1.1138     0.2624   4.245\n",
      "3|4   3.2945     0.2882  11.431\n",
      "4|5   5.0773     0.3411  14.887\n"
     ]
    },
    {
     "name": "stderr",
     "output_type": "stream",
     "text": [
      "Warning message:\n",
      "\"contrasts dropped from factor C(game_type)\"\n"
     ]
    },
    {
     "data": {
      "text/markdown": [
       "### Marginal Means"
      ]
     },
     "metadata": {},
     "output_type": "display_data"
    },
    {
     "data": {
      "text/markdown": [
       "------------------"
      ]
     },
     "metadata": {},
     "output_type": "display_data"
    },
    {
     "data": {
      "text/markdown": [
       "## fun_watch"
      ]
     },
     "metadata": {},
     "output_type": "display_data"
    },
    {
     "data": {
      "text/markdown": [
       "### Mixed Effects Model"
      ]
     },
     "metadata": {},
     "output_type": "display_data"
    },
    {
     "name": "stdout",
     "output_type": "stream",
     "text": [
      " contrast                   estimate    SE  df z.ratio p.value\n",
      " matched - unmatched_top_30    0.629 0.274 Inf   2.298  0.0561\n",
      " real - unmatched_top_30       1.059 0.263 Inf   4.021  0.0002\n",
      " real - matched                0.430 0.273 Inf   1.577  0.2556\n",
      "\n",
      "P value adjustment: tukey method for comparing a family of 3 estimates \n",
      "Cumulative Link Mixed Model fitted with the Laplace approximation\n",
      "\n",
      "formula: C(fun_watch) ~ 1 + normalized_fitness + C(game_type) + (1 | participant_id) +      (1 | full_game_id)\n",
      "data:    analysis_df\n",
      "\n",
      " link  threshold nobs logLik   AIC     niter     max.grad cond.H \n",
      " logit flexible  892  -1077.05 2172.09 642(4301) 3.19e-04 6.8e+01\n",
      "\n",
      "Random effects:\n",
      " Groups         Name        Variance Std.Dev.\n",
      " participant_id (Intercept) 4.4133   2.1008  \n",
      " full_game_id   (Intercept) 0.5064   0.7116  \n",
      "Number of groups:  participant_id 100,  full_game_id 90 \n",
      "\n",
      "Coefficients:\n",
      "                    Estimate Std. Error z value Pr(>|z|)    \n",
      "normalized_fitness    0.1912     0.1302   1.469  0.14196    \n",
      "C(game_type)matched   0.6413     0.2657   2.414  0.01577 *  \n",
      "C(game_type)real      0.9118     0.2571   3.547  0.00039 ***\n",
      "---\n",
      "Signif. codes:  0 '***' 0.001 '**' 0.01 '*' 0.05 '.' 0.1 ' ' 1\n",
      "\n",
      "Threshold coefficients:\n",
      "    Estimate Std. Error z value\n",
      "1|2  -0.7974     0.2862  -2.786\n",
      "2|3   1.4145     0.2925   4.836\n",
      "3|4   3.5055     0.3199  10.958\n",
      "4|5   5.6182     0.3808  14.754\n"
     ]
    },
    {
     "name": "stderr",
     "output_type": "stream",
     "text": [
      "Warning message:\n",
      "\"contrasts dropped from factor C(game_type)\"\n"
     ]
    },
    {
     "data": {
      "text/markdown": [
       "### Marginal Means"
      ]
     },
     "metadata": {},
     "output_type": "display_data"
    },
    {
     "data": {
      "text/markdown": [
       "------------------"
      ]
     },
     "metadata": {},
     "output_type": "display_data"
    },
    {
     "data": {
      "text/markdown": [
       "## capability"
      ]
     },
     "metadata": {},
     "output_type": "display_data"
    },
    {
     "data": {
      "text/markdown": [
       "### Mixed Effects Model"
      ]
     },
     "metadata": {},
     "output_type": "display_data"
    },
    {
     "name": "stdout",
     "output_type": "stream",
     "text": [
      " contrast                   estimate    SE  df z.ratio p.value\n",
      " matched - unmatched_top_30    0.641 0.266 Inf   2.414  0.0417\n",
      " real - unmatched_top_30       0.912 0.257 Inf   3.547  0.0011\n",
      " real - matched                0.271 0.264 Inf   1.025  0.5608\n",
      "\n",
      "P value adjustment: tukey method for comparing a family of 3 estimates \n",
      "Cumulative Link Mixed Model fitted with the Laplace approximation\n",
      "\n",
      "formula: C(capability) ~ 1 + normalized_fitness + C(game_type) + (1 |      participant_id) + (1 | full_game_id)\n",
      "data:    analysis_df\n",
      "\n",
      " link  threshold nobs logLik   AIC     niter     max.grad cond.H \n",
      " logit flexible  892  -1191.32 2400.65 688(4093) 1.16e-03 4.9e+01\n",
      "\n",
      "Random effects:\n",
      " Groups         Name        Variance Std.Dev.\n",
      " participant_id (Intercept) 3.616428 1.90169 \n",
      " full_game_id   (Intercept) 0.007948 0.08915 \n",
      "Number of groups:  participant_id 100,  full_game_id 90 \n",
      "\n",
      "Coefficients:\n",
      "                    Estimate Std. Error z value Pr(>|z|)  \n",
      "normalized_fitness  -0.18855    0.08718  -2.163   0.0306 *\n",
      "C(game_type)matched  0.34903    0.17045   2.048   0.0406 *\n",
      "C(game_type)real     0.23183    0.16090   1.441   0.1496  \n",
      "---\n",
      "Signif. codes:  0 '***' 0.001 '**' 0.01 '*' 0.05 '.' 0.1 ' ' 1\n",
      "\n",
      "Threshold coefficients:\n",
      "    Estimate Std. Error z value\n",
      "1|2  -2.9044     0.2543 -11.421\n",
      "2|3  -0.6740     0.2313  -2.914\n",
      "3|4   1.1571     0.2353   4.918\n",
      "4|5   3.0714     0.2635  11.658\n"
     ]
    },
    {
     "name": "stderr",
     "output_type": "stream",
     "text": [
      "Warning message:\n",
      "\"contrasts dropped from factor C(game_type)\"\n"
     ]
    },
    {
     "data": {
      "text/markdown": [
       "### Marginal Means"
      ]
     },
     "metadata": {},
     "output_type": "display_data"
    },
    {
     "data": {
      "text/markdown": [
       "------------------"
      ]
     },
     "metadata": {},
     "output_type": "display_data"
    },
    {
     "data": {
      "text/markdown": [
       "## goldilocks"
      ]
     },
     "metadata": {},
     "output_type": "display_data"
    },
    {
     "data": {
      "text/markdown": [
       "### Mixed Effects Model"
      ]
     },
     "metadata": {},
     "output_type": "display_data"
    },
    {
     "name": "stdout",
     "output_type": "stream",
     "text": [
      " contrast                   estimate    SE  df z.ratio p.value\n",
      " matched - unmatched_top_30    0.349 0.170 Inf   2.048  0.1010\n",
      " real - unmatched_top_30       0.232 0.161 Inf   1.441  0.3199\n",
      " real - matched               -0.117 0.167 Inf  -0.701  0.7630\n",
      "\n",
      "P value adjustment: tukey method for comparing a family of 3 estimates \n",
      "Cumulative Link Mixed Model fitted with the Laplace approximation\n",
      "\n",
      "formula: C(goldilocks) ~ 1 + normalized_fitness + C(game_type) + (1 |      participant_id) + (1 | full_game_id)\n",
      "data:    analysis_df\n",
      "\n",
      " link  threshold nobs logLik   AIC     niter     max.grad cond.H \n",
      " logit flexible  892  -1106.95 2231.91 570(2858) 1.15e-03 8.2e+01\n",
      "\n",
      "Random effects:\n",
      " Groups         Name        Variance Std.Dev.\n",
      " participant_id (Intercept) 1.161    1.078   \n",
      " full_game_id   (Intercept) 1.256    1.121   \n",
      "Number of groups:  participant_id 100,  full_game_id 90 \n",
      "\n",
      "Coefficients:\n",
      "                    Estimate Std. Error z value Pr(>|z|)    \n",
      "normalized_fitness   -0.5878     0.1707  -3.443 0.000576 ***\n",
      "C(game_type)matched   0.3630     0.3529   1.029 0.303615    \n",
      "C(game_type)real     -0.2498     0.3377  -0.740 0.459502    \n",
      "---\n",
      "Signif. codes:  0 '***' 0.001 '**' 0.01 '*' 0.05 '.' 0.1 ' ' 1\n",
      "\n",
      "Threshold coefficients:\n",
      "    Estimate Std. Error z value\n",
      "1|2  -2.3600     0.2832  -8.335\n",
      "2|3  -0.7327     0.2700  -2.713\n",
      "3|4   2.3733     0.2841   8.353\n",
      "4|5   4.1018     0.3273  12.532\n"
     ]
    },
    {
     "name": "stderr",
     "output_type": "stream",
     "text": [
      "Warning message:\n",
      "\"contrasts dropped from factor C(game_type)\"\n"
     ]
    },
    {
     "data": {
      "text/markdown": [
       "### Marginal Means"
      ]
     },
     "metadata": {},
     "output_type": "display_data"
    },
    {
     "data": {
      "text/markdown": [
       "------------------"
      ]
     },
     "metadata": {},
     "output_type": "display_data"
    },
    {
     "data": {
      "text/markdown": [
       "## creativity"
      ]
     },
     "metadata": {},
     "output_type": "display_data"
    },
    {
     "data": {
      "text/markdown": [
       "### Mixed Effects Model"
      ]
     },
     "metadata": {},
     "output_type": "display_data"
    },
    {
     "name": "stdout",
     "output_type": "stream",
     "text": [
      " contrast                   estimate    SE  df z.ratio p.value\n",
      " matched - unmatched_top_30    0.363 0.353 Inf   1.029  0.5587\n",
      " real - unmatched_top_30      -0.250 0.338 Inf  -0.740  0.7399\n",
      " real - matched               -0.613 0.355 Inf  -1.725  0.1957\n",
      "\n",
      "P value adjustment: tukey method for comparing a family of 3 estimates \n",
      "Cumulative Link Mixed Model fitted with the Laplace approximation\n",
      "\n",
      "formula: C(creativity) ~ 1 + normalized_fitness + C(game_type) + (1 |      participant_id) + (1 | full_game_id)\n",
      "data:    analysis_df\n",
      "\n",
      " link  threshold nobs logLik   AIC     niter     max.grad cond.H \n",
      " logit flexible  892  -1076.82 2171.64 648(3603) 5.40e-04 7.1e+01\n",
      "\n",
      "Random effects:\n",
      " Groups         Name        Variance Std.Dev.\n",
      " participant_id (Intercept) 2.9318   1.7122  \n",
      " full_game_id   (Intercept) 0.8534   0.9238  \n",
      "Number of groups:  participant_id 100,  full_game_id 90 \n",
      "\n",
      "Coefficients:\n",
      "                    Estimate Std. Error z value Pr(>|z|)   \n",
      "normalized_fitness   -0.4863     0.1524  -3.191  0.00142 **\n",
      "C(game_type)matched   0.5507     0.3101   1.776  0.07580 . \n",
      "C(game_type)real      0.4377     0.2983   1.467  0.14226   \n",
      "---\n",
      "Signif. codes:  0 '***' 0.001 '**' 0.01 '*' 0.05 '.' 0.1 ' ' 1\n",
      "\n",
      "Threshold coefficients:\n",
      "    Estimate Std. Error z value\n",
      "1|2  -1.2302     0.2820  -4.363\n",
      "2|3   1.0634     0.2822   3.769\n",
      "3|4   3.3883     0.3107  10.905\n",
      "4|5   5.5510     0.3920  14.162\n"
     ]
    },
    {
     "name": "stderr",
     "output_type": "stream",
     "text": [
      "Warning message:\n",
      "\"contrasts dropped from factor C(game_type)\"\n"
     ]
    },
    {
     "data": {
      "text/markdown": [
       "### Marginal Means"
      ]
     },
     "metadata": {},
     "output_type": "display_data"
    },
    {
     "data": {
      "text/markdown": [
       "------------------"
      ]
     },
     "metadata": {},
     "output_type": "display_data"
    },
    {
     "data": {
      "text/markdown": [
       "## human_likeness"
      ]
     },
     "metadata": {},
     "output_type": "display_data"
    },
    {
     "data": {
      "text/markdown": [
       "### Mixed Effects Model"
      ]
     },
     "metadata": {},
     "output_type": "display_data"
    },
    {
     "name": "stdout",
     "output_type": "stream",
     "text": [
      " contrast                   estimate    SE  df z.ratio p.value\n",
      " matched - unmatched_top_30    0.551 0.310 Inf   1.776  0.1778\n",
      " real - unmatched_top_30       0.438 0.298 Inf   1.467  0.3067\n",
      " real - matched               -0.113 0.310 Inf  -0.364  0.9296\n",
      "\n",
      "P value adjustment: tukey method for comparing a family of 3 estimates \n",
      "Cumulative Link Mixed Model fitted with the Laplace approximation\n",
      "\n",
      "formula: C(human_likeness) ~ 1 + normalized_fitness + C(game_type) + (1 |      participant_id) + (1 | full_game_id)\n",
      "data:    analysis_df\n",
      "\n",
      " link  threshold nobs logLik   AIC     niter     max.grad cond.H \n",
      " logit flexible  892  -1215.28 2448.56 661(3291) 1.89e-03 7.5e+01\n",
      "\n",
      "Random effects:\n",
      " Groups         Name        Variance Std.Dev.\n",
      " participant_id (Intercept) 1.951    1.3967  \n",
      " full_game_id   (Intercept) 0.544    0.7375  \n",
      "Number of groups:  participant_id 100,  full_game_id 90 \n",
      "\n",
      "Coefficients:\n",
      "                    Estimate Std. Error z value Pr(>|z|)    \n",
      "normalized_fitness    0.5698     0.1320   4.316 1.59e-05 ***\n",
      "C(game_type)matched   0.8368     0.2676   3.128  0.00176 ** \n",
      "C(game_type)real      1.4455     0.2583   5.597 2.18e-08 ***\n",
      "---\n",
      "Signif. codes:  0 '***' 0.001 '**' 0.01 '*' 0.05 '.' 0.1 ' ' 1\n",
      "\n",
      "Threshold coefficients:\n",
      "    Estimate Std. Error z value\n",
      "1|2  -0.8014     0.2376  -3.373\n",
      "2|3   0.9950     0.2399   4.148\n",
      "3|4   2.6782     0.2566  10.439\n",
      "4|5   4.6799     0.2990  15.654\n"
     ]
    },
    {
     "name": "stderr",
     "output_type": "stream",
     "text": [
      "Warning message:\n",
      "\"contrasts dropped from factor C(game_type)\"\n"
     ]
    },
    {
     "data": {
      "text/markdown": [
       "### Marginal Means"
      ]
     },
     "metadata": {},
     "output_type": "display_data"
    },
    {
     "data": {
      "text/markdown": [
       "------------------"
      ]
     },
     "metadata": {},
     "output_type": "display_data"
    },
    {
     "name": "stdout",
     "output_type": "stream",
     "text": [
      " contrast                   estimate    SE  df z.ratio p.value\n",
      " matched - unmatched_top_30    0.837 0.268 Inf   3.128  0.0050\n",
      " real - unmatched_top_30       1.446 0.258 Inf   5.597  <.0001\n",
      " real - matched                0.609 0.265 Inf   2.299  0.0559\n",
      "\n",
      "P value adjustment: tukey method for comparing a family of 3 estimates \n"
     ]
    }
   ],
   "source": [
    "analysis_df <- data.table::copy(filtered_df)\n",
    "model_list <- list()\n",
    "\n",
    "for (attr in ATTRIBUTES) {\n",
    "    display_markdown(glue(\"## {attr}\"))\n",
    "\n",
    "    # Create formula with current attribute\n",
    "    attr.mm <- clmm(\n",
    "        formula = as.formula(glue(\"C({attr}) ~ 1  + normalized_fitness + C(game_type) + (1 | participant_id) + (1 | full_game_id)\")),\n",
    "        data = analysis_df, Hess = TRUE\n",
    "    )\n",
    "\n",
    "    model_list[[attr]] <- attr.mm\n",
    "\n",
    "    display_markdown(\"### Mixed Effects Model\")    \n",
    "    print(summary(attr.mm))\n",
    "\n",
    "    attr.marginal_means = emmeans(attr.mm, \"game_type\")\n",
    "    display_markdown(\"### Marginal Means\")\n",
    "    print(pairs(attr.marginal_means, reverse = TRUE))\n",
    "\n",
    "    display_markdown(\"------------------\")\n",
    "}\n"
   ]
  },
  {
   "cell_type": "markdown",
   "metadata": {},
   "source": [
    "# Mixed Effect Model Summary Table\n",
    "This code generates Table SI-3, from which Table ED-1 is derived."
   ]
  },
  {
   "cell_type": "code",
   "execution_count": 17,
   "metadata": {
    "vscode": {
     "languageId": "r"
    }
   },
   "outputs": [
    {
     "data": {
      "text/html": [
       "<table class=\"dataframe\">\n",
       "<caption>A data.frame: 7 x 10</caption>\n",
       "<thead>\n",
       "\t<tr><th scope=col>attribute</th><th scope=col>fit_est</th><th scope=col>fit_z</th><th scope=col>fit_p</th><th scope=col>matched_est</th><th scope=col>matched_z</th><th scope=col>matched_p</th><th scope=col>real_est</th><th scope=col>real_z</th><th scope=col>real_p</th></tr>\n",
       "\t<tr><th scope=col>&lt;chr&gt;</th><th scope=col>&lt;glue&gt;</th><th scope=col>&lt;chr&gt;</th><th scope=col>&lt;chr&gt;</th><th scope=col>&lt;glue&gt;</th><th scope=col>&lt;chr&gt;</th><th scope=col>&lt;chr&gt;</th><th scope=col>&lt;glue&gt;</th><th scope=col>&lt;chr&gt;</th><th scope=col>&lt;chr&gt;</th></tr>\n",
       "</thead>\n",
       "<tbody>\n",
       "\t<tr><td>confident     </td><td>$0.846 \\pm 0.150$ </td><td>5.625 </td><td>$P = \\num{1.858e-08}^{ *** }$</td><td>$0.525 \\pm 0.297$</td><td>1.766</td><td>$P = 0.077$                  </td><td>$1.151 \\pm 0.285$ </td><td>4.036 </td><td>$P = \\num{5.431e-05}^{ *** }$</td></tr>\n",
       "\t<tr><td>fun_play      </td><td>$0.396 \\pm 0.135$ </td><td>2.936 </td><td>$P = \\num{3.322e-03}^{ ** }$ </td><td>$0.629 \\pm 0.274$</td><td>2.298</td><td>$P = 0.022^{ * }$            </td><td>$1.059 \\pm 0.263$ </td><td>4.021 </td><td>$P = \\num{5.797e-05}^{ *** }$</td></tr>\n",
       "\t<tr><td>fun_watch     </td><td>$0.191 \\pm 0.130$ </td><td>1.469 </td><td>$P = 0.142$                   </td><td>$0.641 \\pm 0.266$</td><td>2.414</td><td>$P = 0.016^{ * }$            </td><td>$0.912 \\pm 0.257$ </td><td>3.547 </td><td>$P = \\num{3.901e-04}^{ *** }$</td></tr>\n",
       "\t<tr><td>capability    </td><td>$-0.189 \\pm 0.087$</td><td>-2.163</td><td>$P = 0.031^{ * }$             </td><td>$0.349 \\pm 0.170$</td><td>2.048</td><td>$P = 0.041^{ * }$            </td><td>$0.232 \\pm 0.161$ </td><td>1.441 </td><td>$P = 0.150$                   </td></tr>\n",
       "\t<tr><td>goldilocks    </td><td>$-0.588 \\pm 0.171$</td><td>-3.443</td><td>$P = \\num{5.763e-04}^{ *** }$</td><td>$0.363 \\pm 0.353$</td><td>1.029</td><td>$P = 0.304$                  </td><td>$-0.250 \\pm 0.338$</td><td>-0.740</td><td>$P = 0.460$                   </td></tr>\n",
       "\t<tr><td>creativity    </td><td>$-0.486 \\pm 0.152$</td><td>-3.191</td><td>$P = \\num{1.416e-03}^{ ** }$ </td><td>$0.551 \\pm 0.310$</td><td>1.776</td><td>$P = 0.076$                  </td><td>$0.438 \\pm 0.298$ </td><td>1.467 </td><td>$P = 0.142$                   </td></tr>\n",
       "\t<tr><td>human_likeness</td><td>$0.570 \\pm 0.132$ </td><td>4.316 </td><td>$P = \\num{1.589e-05}^{ *** }$</td><td>$0.837 \\pm 0.268$</td><td>3.128</td><td>$P = \\num{1.762e-03}^{ ** }$</td><td>$1.446 \\pm 0.258$ </td><td>5.597 </td><td>$P = \\num{2.179e-08}^{ *** }$</td></tr>\n",
       "</tbody>\n",
       "</table>\n"
      ],
      "text/latex": [
       "A data.frame: 7 x 10\n",
       "\\begin{tabular}{llllllllll}\n",
       " attribute & fit\\_est & fit\\_z & fit\\_p & matched\\_est & matched\\_z & matched\\_p & real\\_est & real\\_z & real\\_p\\\\\n",
       " <chr> & <glue> & <chr> & <chr> & <glue> & <chr> & <chr> & <glue> & <chr> & <chr>\\\\\n",
       "\\hline\n",
       "\t confident      & \\$0.846 \\textbackslash{}pm 0.150\\$  & 5.625  & \\$P = \\textbackslash{}num\\{1.858e-08\\}\\textasciicircum{}\\{ *** \\}\\$ & \\$0.525 \\textbackslash{}pm 0.297\\$ & 1.766 & \\$P = 0.077\\$                   & \\$1.151 \\textbackslash{}pm 0.285\\$  & 4.036  & \\$P = \\textbackslash{}num\\{5.431e-05\\}\\textasciicircum{}\\{ *** \\}\\$\\\\\n",
       "\t fun\\_play       & \\$0.396 \\textbackslash{}pm 0.135\\$  & 2.936  & \\$P = \\textbackslash{}num\\{3.322e-03\\}\\textasciicircum{}\\{ ** \\}\\$  & \\$0.629 \\textbackslash{}pm 0.274\\$ & 2.298 & \\$P = 0.022\\textasciicircum{}\\{ * \\}\\$             & \\$1.059 \\textbackslash{}pm 0.263\\$  & 4.021  & \\$P = \\textbackslash{}num\\{5.797e-05\\}\\textasciicircum{}\\{ *** \\}\\$\\\\\n",
       "\t fun\\_watch      & \\$0.191 \\textbackslash{}pm 0.130\\$  & 1.469  & \\$P = 0.142\\$                    & \\$0.641 \\textbackslash{}pm 0.266\\$ & 2.414 & \\$P = 0.016\\textasciicircum{}\\{ * \\}\\$             & \\$0.912 \\textbackslash{}pm 0.257\\$  & 3.547  & \\$P = \\textbackslash{}num\\{3.901e-04\\}\\textasciicircum{}\\{ *** \\}\\$\\\\\n",
       "\t capability     & \\$-0.189 \\textbackslash{}pm 0.087\\$ & -2.163 & \\$P = 0.031\\textasciicircum{}\\{ * \\}\\$              & \\$0.349 \\textbackslash{}pm 0.170\\$ & 2.048 & \\$P = 0.041\\textasciicircum{}\\{ * \\}\\$             & \\$0.232 \\textbackslash{}pm 0.161\\$  & 1.441  & \\$P = 0.150\\$                   \\\\\n",
       "\t goldilocks     & \\$-0.588 \\textbackslash{}pm 0.171\\$ & -3.443 & \\$P = \\textbackslash{}num\\{5.763e-04\\}\\textasciicircum{}\\{ *** \\}\\$ & \\$0.363 \\textbackslash{}pm 0.353\\$ & 1.029 & \\$P = 0.304\\$                   & \\$-0.250 \\textbackslash{}pm 0.338\\$ & -0.740 & \\$P = 0.460\\$                   \\\\\n",
       "\t creativity     & \\$-0.486 \\textbackslash{}pm 0.152\\$ & -3.191 & \\$P = \\textbackslash{}num\\{1.416e-03\\}\\textasciicircum{}\\{ ** \\}\\$  & \\$0.551 \\textbackslash{}pm 0.310\\$ & 1.776 & \\$P = 0.076\\$                   & \\$0.438 \\textbackslash{}pm 0.298\\$  & 1.467  & \\$P = 0.142\\$                   \\\\\n",
       "\t human\\_likeness & \\$0.570 \\textbackslash{}pm 0.132\\$  & 4.316  & \\$P = \\textbackslash{}num\\{1.589e-05\\}\\textasciicircum{}\\{ *** \\}\\$ & \\$0.837 \\textbackslash{}pm 0.268\\$ & 3.128 & \\$P = \\textbackslash{}num\\{1.762e-03\\}\\textasciicircum{}\\{ ** \\}\\$ & \\$1.446 \\textbackslash{}pm 0.258\\$  & 5.597  & \\$P = \\textbackslash{}num\\{2.179e-08\\}\\textasciicircum{}\\{ *** \\}\\$\\\\\n",
       "\\end{tabular}\n"
      ],
      "text/markdown": [
       "\n",
       "A data.frame: 7 x 10\n",
       "\n",
       "| attribute &lt;chr&gt; | fit_est &lt;glue&gt; | fit_z &lt;chr&gt; | fit_p &lt;chr&gt; | matched_est &lt;glue&gt; | matched_z &lt;chr&gt; | matched_p &lt;chr&gt; | real_est &lt;glue&gt; | real_z &lt;chr&gt; | real_p &lt;chr&gt; |\n",
       "|---|---|---|---|---|---|---|---|---|---|\n",
       "| confident      | $0.846 \\pm 0.150$  | 5.625  | $P = \\num{1.858e-08}^{ *** }$ | $0.525 \\pm 0.297$ | 1.766 | $P = 0.077$                   | $1.151 \\pm 0.285$  | 4.036  | $P = \\num{5.431e-05}^{ *** }$ |\n",
       "| fun_play       | $0.396 \\pm 0.135$  | 2.936  | $P = \\num{3.322e-03}^{ ** }$  | $0.629 \\pm 0.274$ | 2.298 | $P = 0.022^{ * }$             | $1.059 \\pm 0.263$  | 4.021  | $P = \\num{5.797e-05}^{ *** }$ |\n",
       "| fun_watch      | $0.191 \\pm 0.130$  | 1.469  | $P = 0.142$                    | $0.641 \\pm 0.266$ | 2.414 | $P = 0.016^{ * }$             | $0.912 \\pm 0.257$  | 3.547  | $P = \\num{3.901e-04}^{ *** }$ |\n",
       "| capability     | $-0.189 \\pm 0.087$ | -2.163 | $P = 0.031^{ * }$              | $0.349 \\pm 0.170$ | 2.048 | $P = 0.041^{ * }$             | $0.232 \\pm 0.161$  | 1.441  | $P = 0.150$                    |\n",
       "| goldilocks     | $-0.588 \\pm 0.171$ | -3.443 | $P = \\num{5.763e-04}^{ *** }$ | $0.363 \\pm 0.353$ | 1.029 | $P = 0.304$                   | $-0.250 \\pm 0.338$ | -0.740 | $P = 0.460$                    |\n",
       "| creativity     | $-0.486 \\pm 0.152$ | -3.191 | $P = \\num{1.416e-03}^{ ** }$  | $0.551 \\pm 0.310$ | 1.776 | $P = 0.076$                   | $0.438 \\pm 0.298$  | 1.467  | $P = 0.142$                    |\n",
       "| human_likeness | $0.570 \\pm 0.132$  | 4.316  | $P = \\num{1.589e-05}^{ *** }$ | $0.837 \\pm 0.268$ | 3.128 | $P = \\num{1.762e-03}^{ ** }$ | $1.446 \\pm 0.258$  | 5.597  | $P = \\num{2.179e-08}^{ *** }$ |\n",
       "\n"
      ],
      "text/plain": [
       "  attribute      fit_est             fit_z  fit_p                          matched_est        matched_z matched_p                     real_est           \n",
       "1 confident      $0.846 \\\\pm 0.150$  5.625  $P = \\\\num{1.858e-08}^{ *** }$ $0.525 \\\\pm 0.297$ 1.766     $P = 0.077$                   $1.151 \\\\pm 0.285$ \n",
       "2 fun_play       $0.396 \\\\pm 0.135$  2.936  $P = \\\\num{3.322e-03}^{ ** }$  $0.629 \\\\pm 0.274$ 2.298     $P = 0.022^{ * }$             $1.059 \\\\pm 0.263$ \n",
       "3 fun_watch      $0.191 \\\\pm 0.130$  1.469  $P = 0.142$                    $0.641 \\\\pm 0.266$ 2.414     $P = 0.016^{ * }$             $0.912 \\\\pm 0.257$ \n",
       "4 capability     $-0.189 \\\\pm 0.087$ -2.163 $P = 0.031^{ * }$              $0.349 \\\\pm 0.170$ 2.048     $P = 0.041^{ * }$             $0.232 \\\\pm 0.161$ \n",
       "5 goldilocks     $-0.588 \\\\pm 0.171$ -3.443 $P = \\\\num{5.763e-04}^{ *** }$ $0.363 \\\\pm 0.353$ 1.029     $P = 0.304$                   $-0.250 \\\\pm 0.338$\n",
       "6 creativity     $-0.486 \\\\pm 0.152$ -3.191 $P = \\\\num{1.416e-03}^{ ** }$  $0.551 \\\\pm 0.310$ 1.776     $P = 0.076$                   $0.438 \\\\pm 0.298$ \n",
       "7 human_likeness $0.570 \\\\pm 0.132$  4.316  $P = \\\\num{1.589e-05}^{ *** }$ $0.837 \\\\pm 0.268$ 3.128     $P = \\\\num{1.762e-03}^{ ** }$ $1.446 \\\\pm 0.258$ \n",
       "  real_z real_p                        \n",
       "1 4.036  $P = \\\\num{5.431e-05}^{ *** }$\n",
       "2 4.021  $P = \\\\num{5.797e-05}^{ *** }$\n",
       "3 3.547  $P = \\\\num{3.901e-04}^{ *** }$\n",
       "4 1.441  $P = 0.150$                   \n",
       "5 -0.740 $P = 0.460$                   \n",
       "6 1.467  $P = 0.142$                   \n",
       "7 5.597  $P = \\\\num{2.179e-08}^{ *** }$"
      ]
     },
     "metadata": {},
     "output_type": "display_data"
    }
   ],
   "source": [
    "truncate_p_values <- FALSE\n",
    "sig_figs <- 3\n",
    "\n",
    "results_table <- data.frame(\n",
    "    attribute = character(), \n",
    "    aic = numeric(),\n",
    "    fit_est = numeric(),\n",
    "    fit_z = numeric(),\n",
    "    fit_p = numeric(),\n",
    "    matched_est = numeric(),\n",
    "    matched_z = numeric(),\n",
    "    matched_p = numeric(),\n",
    "    real_est = numeric(),\n",
    "    real_z = numeric(),\n",
    "    real_p = numeric()\n",
    ")\n",
    "\n",
    "\n",
    "for (name in names(model_list)) {\n",
    "    model <- model_list[[name]]\n",
    "    s <- summary(model)\n",
    "    table_row <- data.frame(\n",
    "        attribute = name,\n",
    "        fit_est = glue(\"${formatC(s$coefficients[5, 1], digits = sig_figs, format = 'f')} \\\\pm {formatC(s$coefficients[5, 2], digits = sig_figs, format = 'f')}$\"),  # s$coefficients[5, 1],\n",
    "        fit_z = formatC(s$coefficients[5, 3], digits = sig_figs, format = 'f'),\n",
    "        fit_p = s$coefficients[5, 4],\n",
    "        matched_est = glue(\"${formatC(s$coefficients[6, 1], digits = sig_figs, format = 'f')} \\\\pm {formatC(s$coefficients[6, 2], digits = sig_figs, format = 'f')}$\"),\n",
    "        matched_z = formatC(s$coefficients[6, 3], digits = sig_figs, format = 'f'),\n",
    "        matched_p = s$coefficients[6, 4],\n",
    "        real_est = glue(\"${formatC(s$coefficients[7, 1], digits = sig_figs, format = 'f')} \\\\pm {formatC(s$coefficients[7, 2], digits = sig_figs, format = 'f')}$\"),\n",
    "        real_z = formatC(s$coefficients[7, 3], digits = sig_figs, format = 'f'),\n",
    "        real_p = s$coefficients[7, 4]\n",
    "    )\n",
    "    results_table <- rbind(results_table, table_row)\n",
    "}\n",
    "\n",
    "\n",
    "\n",
    "# Iterate through the columns\n",
    "for (col in c(\"fit_p\", \"matched_p\", \"real_p\")) {\n",
    "    # Iterate through the cells\n",
    "    for (i in seq_len(nrow(results_table))) {\n",
    "        # Get the current value\n",
    "        value <- as.double(results_table[i, col])\n",
    "        # Modify the value based on the conditions\n",
    "        if (truncate_p_values && value < 10^-5) {\n",
    "            results_table[i, col] <- \"$P < \\\\num{1e-5}^{ *** }$\"\n",
    "        } else if (truncate_p_values && value < 10^-3) {\n",
    "            results_table[i, col] <- \"$P < \\\\num{1e-3}^{ *** }$\"\n",
    "        } else {\n",
    "            use_scientific <- value < 0.01\n",
    "            v <- formatC(value, digits = sig_figs, format = ifelse(use_scientific, \"e\", \"f\"))\n",
    "            if (use_scientific) {\n",
    "                v <- glue(\"\\\\num{{{v}}}\")\n",
    "            }\n",
    "            stars <- ifelse(value < 0.001, \"***\",\n",
    "                ifelse(value < 0.01, \"**\", ifelse(value < 0.05, \"*\", \"\"))\n",
    "            )\n",
    "            if (stars != \"\") {\n",
    "                results_table[i, col] <- glue(\"$P = {v}^{{ {stars} }}$\")\n",
    "            } else {\n",
    "                results_table[i, col] <- glue(\"$P = {v}$\")\n",
    "            }\n",
    "        }\n",
    "    }\n",
    "}\n",
    "\n",
    "\n",
    "results_table"
   ]
  },
  {
   "cell_type": "code",
   "execution_count": 18,
   "metadata": {
    "vscode": {
     "languageId": "r"
    }
   },
   "outputs": [
    {
     "name": "stdout",
     "output_type": "stream",
     "text": [
      "% latex table generated in R 4.3.2 by xtable 1.8-4 package\n",
      "% Wed May 29 14:22:27 2024\n",
      "\\begin{tabular}{llllllllll}\n",
      "  \\hline\n",
      "attribute & fit_est & fit_z & fit_p & matched_est & matched_z & matched_p & real_est & real_z & real_p \\\\ \n",
      "  \\hline\n",
      "confident & $0.846 \\pm 0.150$ & 5.625 & $P = \\num{1.858e-08}^{ *** }$ & $0.525 \\pm 0.297$ & 1.766 & $P = 0.077$ & $1.151 \\pm 0.285$ & 4.036 & $P = \\num{5.431e-05}^{ *** }$ \\\\ \n",
      "  fun_play & $0.396 \\pm 0.135$ & 2.936 & $P = \\num{3.322e-03}^{ ** }$ & $0.629 \\pm 0.274$ & 2.298 & $P = 0.022^{ * }$ & $1.059 \\pm 0.263$ & 4.021 & $P = \\num{5.797e-05}^{ *** }$ \\\\ \n",
      "  fun_watch & $0.191 \\pm 0.130$ & 1.469 & $P = 0.142$ & $0.641 \\pm 0.266$ & 2.414 & $P = 0.016^{ * }$ & $0.912 \\pm 0.257$ & 3.547 & $P = \\num{3.901e-04}^{ *** }$ \\\\ \n",
      "  capability & $-0.189 \\pm 0.087$ & -2.163 & $P = 0.031^{ * }$ & $0.349 \\pm 0.170$ & 2.048 & $P = 0.041^{ * }$ & $0.232 \\pm 0.161$ & 1.441 & $P = 0.150$ \\\\ \n",
      "  goldilocks & $-0.588 \\pm 0.171$ & -3.443 & $P = \\num{5.763e-04}^{ *** }$ & $0.363 \\pm 0.353$ & 1.029 & $P = 0.304$ & $-0.250 \\pm 0.338$ & -0.740 & $P = 0.460$ \\\\ \n",
      "  creativity & $-0.486 \\pm 0.152$ & -3.191 & $P = \\num{1.416e-03}^{ ** }$ & $0.551 \\pm 0.310$ & 1.776 & $P = 0.076$ & $0.438 \\pm 0.298$ & 1.467 & $P = 0.142$ \\\\ \n",
      "  human_likeness & $0.570 \\pm 0.132$ & 4.316 & $P = \\num{1.589e-05}^{ *** }$ & $0.837 \\pm 0.268$ & 3.128 & $P = \\num{1.762e-03}^{ ** }$ & $1.446 \\pm 0.258$ & 5.597 & $P = \\num{2.179e-08}^{ *** }$ \\\\ \n",
      "   \\hline\n",
      "\\end{tabular}\n"
     ]
    }
   ],
   "source": [
    "# Convert the dataframe to an xtable object\n",
    "table_latex <- xtable(results_table, digits = 3)\n",
    "\n",
    "# Print the LaTeX table\n",
    "print(table_latex, include.rownames = FALSE, floating = FALSE, sanitize.text.function = identity, digits=3)\n"
   ]
  },
  {
   "cell_type": "markdown",
   "metadata": {
    "vscode": {
     "languageId": "r"
    }
   },
   "source": [
    "# Marginal Means Table\n",
    "This code generates Table SI-4."
   ]
  },
  {
   "cell_type": "code",
   "execution_count": 20,
   "metadata": {
    "vscode": {
     "languageId": "r"
    }
   },
   "outputs": [
    {
     "name": "stderr",
     "output_type": "stream",
     "text": [
      "Warning message:\n",
      "\"contrasts dropped from factor C(game_type)\"\n"
     ]
    },
    {
     "name": "stderr",
     "output_type": "stream",
     "text": [
      "Warning message:\n",
      "\"contrasts dropped from factor C(game_type)\"\n",
      "Warning message:\n",
      "\"contrasts dropped from factor C(game_type)\"\n",
      "Warning message:\n",
      "\"contrasts dropped from factor C(game_type)\"\n",
      "Warning message:\n",
      "\"contrasts dropped from factor C(game_type)\"\n",
      "Warning message:\n",
      "\"contrasts dropped from factor C(game_type)\"\n",
      "Warning message:\n",
      "\"contrasts dropped from factor C(game_type)\"\n"
     ]
    },
    {
     "data": {
      "text/html": [
       "<table class=\"dataframe\">\n",
       "<caption>A data.frame: 7 x 10</caption>\n",
       "<thead>\n",
       "\t<tr><th scope=col>attribute</th><th scope=col>r_m_est</th><th scope=col>r_m_z</th><th scope=col>r_m_p</th><th scope=col>r_u_est</th><th scope=col>r_u_z</th><th scope=col>r_u_p</th><th scope=col>m_u_est</th><th scope=col>m_u_z</th><th scope=col>m_u_p</th></tr>\n",
       "\t<tr><th scope=col>&lt;chr&gt;</th><th scope=col>&lt;glue&gt;</th><th scope=col>&lt;chr&gt;</th><th scope=col>&lt;chr&gt;</th><th scope=col>&lt;glue&gt;</th><th scope=col>&lt;chr&gt;</th><th scope=col>&lt;chr&gt;</th><th scope=col>&lt;glue&gt;</th><th scope=col>&lt;chr&gt;</th><th scope=col>&lt;chr&gt;</th></tr>\n",
       "</thead>\n",
       "<tbody>\n",
       "\t<tr><td>confident     </td><td>$0.626 \\pm 0.305$ </td><td>2.055 </td><td>$P = 0.099$</td><td>$1.151 \\pm 0.285$ </td><td>4.036 </td><td>$P = \\num{1.606e-04}^{ *** }$</td><td>$0.525 \\pm 0.297$</td><td>1.766</td><td>$P = 0.181$                  </td></tr>\n",
       "\t<tr><td>fun_play      </td><td>$0.430 \\pm 0.273$ </td><td>1.577 </td><td>$P = 0.256$</td><td>$1.059 \\pm 0.263$ </td><td>4.021 </td><td>$P = \\num{1.713e-04}^{ *** }$</td><td>$0.629 \\pm 0.274$</td><td>2.298</td><td>$P = 0.056$                  </td></tr>\n",
       "\t<tr><td>fun_watch     </td><td>$0.271 \\pm 0.264$ </td><td>1.025 </td><td>$P = 0.561$</td><td>$0.912 \\pm 0.257$ </td><td>3.547 </td><td>$P = \\num{1.135e-03}^{ ** }$ </td><td>$0.641 \\pm 0.266$</td><td>2.414</td><td>$P = 0.042^{ * }$            </td></tr>\n",
       "\t<tr><td>capability    </td><td>$-0.117 \\pm 0.167$</td><td>-0.701</td><td>$P = 0.763$</td><td>$0.232 \\pm 0.161$ </td><td>1.441 </td><td>$P = 0.320$                   </td><td>$0.349 \\pm 0.170$</td><td>2.048</td><td>$P = 0.101$                  </td></tr>\n",
       "\t<tr><td>goldilocks    </td><td>$-0.613 \\pm 0.355$</td><td>-1.725</td><td>$P = 0.196$</td><td>$-0.250 \\pm 0.338$</td><td>-0.740</td><td>$P = 0.740$                   </td><td>$0.363 \\pm 0.353$</td><td>1.029</td><td>$P = 0.559$                  </td></tr>\n",
       "\t<tr><td>creativity    </td><td>$-0.113 \\pm 0.310$</td><td>-0.364</td><td>$P = 0.930$</td><td>$0.438 \\pm 0.298$ </td><td>1.467 </td><td>$P = 0.307$                   </td><td>$0.551 \\pm 0.310$</td><td>1.776</td><td>$P = 0.178$                  </td></tr>\n",
       "\t<tr><td>human_likeness</td><td>$0.609 \\pm 0.265$ </td><td>2.299 </td><td>$P = 0.056$</td><td>$1.446 \\pm 0.258$ </td><td>5.597 </td><td>$P = \\num{6.531e-08}^{ *** }$</td><td>$0.837 \\pm 0.268$</td><td>3.128</td><td>$P = \\num{5.013e-03}^{ ** }$</td></tr>\n",
       "</tbody>\n",
       "</table>\n"
      ],
      "text/latex": [
       "A data.frame: 7 x 10\n",
       "\\begin{tabular}{llllllllll}\n",
       " attribute & r\\_m\\_est & r\\_m\\_z & r\\_m\\_p & r\\_u\\_est & r\\_u\\_z & r\\_u\\_p & m\\_u\\_est & m\\_u\\_z & m\\_u\\_p\\\\\n",
       " <chr> & <glue> & <chr> & <chr> & <glue> & <chr> & <chr> & <glue> & <chr> & <chr>\\\\\n",
       "\\hline\n",
       "\t confident      & \\$0.626 \\textbackslash{}pm 0.305\\$  & 2.055  & \\$P = 0.099\\$ & \\$1.151 \\textbackslash{}pm 0.285\\$  & 4.036  & \\$P = \\textbackslash{}num\\{1.606e-04\\}\\textasciicircum{}\\{ *** \\}\\$ & \\$0.525 \\textbackslash{}pm 0.297\\$ & 1.766 & \\$P = 0.181\\$                  \\\\\n",
       "\t fun\\_play       & \\$0.430 \\textbackslash{}pm 0.273\\$  & 1.577  & \\$P = 0.256\\$ & \\$1.059 \\textbackslash{}pm 0.263\\$  & 4.021  & \\$P = \\textbackslash{}num\\{1.713e-04\\}\\textasciicircum{}\\{ *** \\}\\$ & \\$0.629 \\textbackslash{}pm 0.274\\$ & 2.298 & \\$P = 0.056\\$                  \\\\\n",
       "\t fun\\_watch      & \\$0.271 \\textbackslash{}pm 0.264\\$  & 1.025  & \\$P = 0.561\\$ & \\$0.912 \\textbackslash{}pm 0.257\\$  & 3.547  & \\$P = \\textbackslash{}num\\{1.135e-03\\}\\textasciicircum{}\\{ ** \\}\\$  & \\$0.641 \\textbackslash{}pm 0.266\\$ & 2.414 & \\$P = 0.042\\textasciicircum{}\\{ * \\}\\$            \\\\\n",
       "\t capability     & \\$-0.117 \\textbackslash{}pm 0.167\\$ & -0.701 & \\$P = 0.763\\$ & \\$0.232 \\textbackslash{}pm 0.161\\$  & 1.441  & \\$P = 0.320\\$                    & \\$0.349 \\textbackslash{}pm 0.170\\$ & 2.048 & \\$P = 0.101\\$                  \\\\\n",
       "\t goldilocks     & \\$-0.613 \\textbackslash{}pm 0.355\\$ & -1.725 & \\$P = 0.196\\$ & \\$-0.250 \\textbackslash{}pm 0.338\\$ & -0.740 & \\$P = 0.740\\$                    & \\$0.363 \\textbackslash{}pm 0.353\\$ & 1.029 & \\$P = 0.559\\$                  \\\\\n",
       "\t creativity     & \\$-0.113 \\textbackslash{}pm 0.310\\$ & -0.364 & \\$P = 0.930\\$ & \\$0.438 \\textbackslash{}pm 0.298\\$  & 1.467  & \\$P = 0.307\\$                    & \\$0.551 \\textbackslash{}pm 0.310\\$ & 1.776 & \\$P = 0.178\\$                  \\\\\n",
       "\t human\\_likeness & \\$0.609 \\textbackslash{}pm 0.265\\$  & 2.299  & \\$P = 0.056\\$ & \\$1.446 \\textbackslash{}pm 0.258\\$  & 5.597  & \\$P = \\textbackslash{}num\\{6.531e-08\\}\\textasciicircum{}\\{ *** \\}\\$ & \\$0.837 \\textbackslash{}pm 0.268\\$ & 3.128 & \\$P = \\textbackslash{}num\\{5.013e-03\\}\\textasciicircum{}\\{ ** \\}\\$\\\\\n",
       "\\end{tabular}\n"
      ],
      "text/markdown": [
       "\n",
       "A data.frame: 7 x 10\n",
       "\n",
       "| attribute &lt;chr&gt; | r_m_est &lt;glue&gt; | r_m_z &lt;chr&gt; | r_m_p &lt;chr&gt; | r_u_est &lt;glue&gt; | r_u_z &lt;chr&gt; | r_u_p &lt;chr&gt; | m_u_est &lt;glue&gt; | m_u_z &lt;chr&gt; | m_u_p &lt;chr&gt; |\n",
       "|---|---|---|---|---|---|---|---|---|---|\n",
       "| confident      | $0.626 \\pm 0.305$  | 2.055  | $P = 0.099$ | $1.151 \\pm 0.285$  | 4.036  | $P = \\num{1.606e-04}^{ *** }$ | $0.525 \\pm 0.297$ | 1.766 | $P = 0.181$                   |\n",
       "| fun_play       | $0.430 \\pm 0.273$  | 1.577  | $P = 0.256$ | $1.059 \\pm 0.263$  | 4.021  | $P = \\num{1.713e-04}^{ *** }$ | $0.629 \\pm 0.274$ | 2.298 | $P = 0.056$                   |\n",
       "| fun_watch      | $0.271 \\pm 0.264$  | 1.025  | $P = 0.561$ | $0.912 \\pm 0.257$  | 3.547  | $P = \\num{1.135e-03}^{ ** }$  | $0.641 \\pm 0.266$ | 2.414 | $P = 0.042^{ * }$             |\n",
       "| capability     | $-0.117 \\pm 0.167$ | -0.701 | $P = 0.763$ | $0.232 \\pm 0.161$  | 1.441  | $P = 0.320$                    | $0.349 \\pm 0.170$ | 2.048 | $P = 0.101$                   |\n",
       "| goldilocks     | $-0.613 \\pm 0.355$ | -1.725 | $P = 0.196$ | $-0.250 \\pm 0.338$ | -0.740 | $P = 0.740$                    | $0.363 \\pm 0.353$ | 1.029 | $P = 0.559$                   |\n",
       "| creativity     | $-0.113 \\pm 0.310$ | -0.364 | $P = 0.930$ | $0.438 \\pm 0.298$  | 1.467  | $P = 0.307$                    | $0.551 \\pm 0.310$ | 1.776 | $P = 0.178$                   |\n",
       "| human_likeness | $0.609 \\pm 0.265$  | 2.299  | $P = 0.056$ | $1.446 \\pm 0.258$  | 5.597  | $P = \\num{6.531e-08}^{ *** }$ | $0.837 \\pm 0.268$ | 3.128 | $P = \\num{5.013e-03}^{ ** }$ |\n",
       "\n"
      ],
      "text/plain": [
       "  attribute      r_m_est             r_m_z  r_m_p       r_u_est             r_u_z  r_u_p                          m_u_est            m_u_z\n",
       "1 confident      $0.626 \\\\pm 0.305$  2.055  $P = 0.099$ $1.151 \\\\pm 0.285$  4.036  $P = \\\\num{1.606e-04}^{ *** }$ $0.525 \\\\pm 0.297$ 1.766\n",
       "2 fun_play       $0.430 \\\\pm 0.273$  1.577  $P = 0.256$ $1.059 \\\\pm 0.263$  4.021  $P = \\\\num{1.713e-04}^{ *** }$ $0.629 \\\\pm 0.274$ 2.298\n",
       "3 fun_watch      $0.271 \\\\pm 0.264$  1.025  $P = 0.561$ $0.912 \\\\pm 0.257$  3.547  $P = \\\\num{1.135e-03}^{ ** }$  $0.641 \\\\pm 0.266$ 2.414\n",
       "4 capability     $-0.117 \\\\pm 0.167$ -0.701 $P = 0.763$ $0.232 \\\\pm 0.161$  1.441  $P = 0.320$                    $0.349 \\\\pm 0.170$ 2.048\n",
       "5 goldilocks     $-0.613 \\\\pm 0.355$ -1.725 $P = 0.196$ $-0.250 \\\\pm 0.338$ -0.740 $P = 0.740$                    $0.363 \\\\pm 0.353$ 1.029\n",
       "6 creativity     $-0.113 \\\\pm 0.310$ -0.364 $P = 0.930$ $0.438 \\\\pm 0.298$  1.467  $P = 0.307$                    $0.551 \\\\pm 0.310$ 1.776\n",
       "7 human_likeness $0.609 \\\\pm 0.265$  2.299  $P = 0.056$ $1.446 \\\\pm 0.258$  5.597  $P = \\\\num{6.531e-08}^{ *** }$ $0.837 \\\\pm 0.268$ 3.128\n",
       "  m_u_p                        \n",
       "1 $P = 0.181$                  \n",
       "2 $P = 0.056$                  \n",
       "3 $P = 0.042^{ * }$            \n",
       "4 $P = 0.101$                  \n",
       "5 $P = 0.559$                  \n",
       "6 $P = 0.178$                  \n",
       "7 $P = \\\\num{5.013e-03}^{ ** }$"
      ]
     },
     "metadata": {},
     "output_type": "display_data"
    }
   ],
   "source": [
    "truncate_p_values <- FALSE\n",
    "sig_figs <- 3\n",
    "\n",
    "mm_results_table <- data.frame(\n",
    "    attribute = character(),\n",
    "    r_m_est = numeric(),\n",
    "    r_m_z = numeric(),\n",
    "    r_m_p = numeric(),\n",
    "    r_u_est = numeric(),\n",
    "    r_u_z = numeric(),\n",
    "    r_u_p = numeric(),\n",
    "    m_u_est = numeric(),\n",
    "    m_u_z = numeric(),\n",
    "    m_u_p = numeric()\n",
    "    \n",
    ")\n",
    "\n",
    "\n",
    "for (name in names(model_list)) {\n",
    "    model <- model_list[[name]]\n",
    "    em <- emmeans(model, \"game_type\")\n",
    "    p <- pairs(em, reverse = TRUE)\n",
    "    s <- summary(p)\n",
    "    table_row <- data.frame(\n",
    "        attribute = name,\n",
    "        r_m_est = glue(\"${formatC(s[3, 2], digits = sig_figs, format = 'f')} \\\\pm {formatC(s[3, 3], digits = sig_figs, format = 'f')}$\"),\n",
    "        r_m_z = formatC(s[3, 5], digits = sig_figs, format = \"f\"),\n",
    "        r_m_p = s[3, 6],\n",
    "        r_u_est = glue(\"${formatC(s[2, 2], digits = sig_figs, format = 'f')} \\\\pm {formatC(s[2, 3], digits = sig_figs, format = 'f')}$\"),\n",
    "        r_u_z = formatC(s[2, 5], digits = sig_figs, format = \"f\"),\n",
    "        r_u_p = s[2, 6],\n",
    "        m_u_est = glue(\"${formatC(s[1, 2], digits = sig_figs, format = 'f')} \\\\pm {formatC(s[1, 3], digits = sig_figs, format = 'f')}$\"),\n",
    "        m_u_z = formatC(s[1, 5], digits = sig_figs, format = \"f\"),\n",
    "        m_u_p = s[1, 6]\n",
    "    )\n",
    "    mm_results_table <- rbind(mm_results_table, table_row)\n",
    "}\n",
    "\n",
    "\n",
    "# Iterate through the columns\n",
    "for (col in c(\"m_u_p\", \"r_u_p\", \"r_m_p\")) {\n",
    "    # Iterate through the cells\n",
    "    for (i in seq_len(nrow(mm_results_table))) {\n",
    "        # Get the current value\n",
    "        value <- as.double(mm_results_table[i, col])\n",
    "\n",
    "        # Modify the value based on the conditions\n",
    "        if (truncate_p_values && value < 10^-5) {\n",
    "            mm_results_table[i, col] <- \"$P < \\\\num{1e-5}^{ *** }$\"\n",
    "        } else if (truncate_p_values && value < 10^-3) {\n",
    "            mm_results_table[i, col] <- \"$P < \\\\num{1e-3}^{ *** }$\"\n",
    "        } else {\n",
    "            use_scientific <- value < 0.01\n",
    "            v <- formatC(value, digits = sig_figs, format = ifelse(use_scientific, \"e\", \"f\"))\n",
    "            if (use_scientific) {\n",
    "                v <- glue(\"\\\\num{{{v}}}\")\n",
    "            }\n",
    "            stars <- ifelse(value < 0.001, \"***\",\n",
    "                ifelse(value < 0.01, \"**\", ifelse(value < 0.05, \"*\", \"\"))\n",
    "            )\n",
    "            if (stars != \"\") {\n",
    "                mm_results_table[i, col] <- glue(\"$P = {v}^{{ {stars} }}$\")\n",
    "            } else {\n",
    "                mm_results_table[i, col] <- glue(\"$P = {v}$\")\n",
    "            }\n",
    "        }\n",
    "    }\n",
    "}\n",
    "\n",
    "mm_results_table"
   ]
  },
  {
   "cell_type": "code",
   "execution_count": 21,
   "metadata": {
    "vscode": {
     "languageId": "r"
    }
   },
   "outputs": [
    {
     "name": "stdout",
     "output_type": "stream",
     "text": [
      "% latex table generated in R 4.3.2 by xtable 1.8-4 package\n",
      "% Wed May 29 14:23:36 2024\n",
      "\\begin{tabular}{llllllllll}\n",
      "  \\hline\n",
      "attribute & r_m_est & r_m_z & r_m_p & r_u_est & r_u_z & r_u_p & m_u_est & m_u_z & m_u_p \\\\ \n",
      "  \\hline\n",
      "confident & $0.626 \\pm 0.305$ & 2.055 & $P = 0.099$ & $1.151 \\pm 0.285$ & 4.036 & $P = \\num{1.606e-04}^{ *** }$ & $0.525 \\pm 0.297$ & 1.766 & $P = 0.181$ \\\\ \n",
      "  fun_play & $0.430 \\pm 0.273$ & 1.577 & $P = 0.256$ & $1.059 \\pm 0.263$ & 4.021 & $P = \\num{1.713e-04}^{ *** }$ & $0.629 \\pm 0.274$ & 2.298 & $P = 0.056$ \\\\ \n",
      "  fun_watch & $0.271 \\pm 0.264$ & 1.025 & $P = 0.561$ & $0.912 \\pm 0.257$ & 3.547 & $P = \\num{1.135e-03}^{ ** }$ & $0.641 \\pm 0.266$ & 2.414 & $P = 0.042^{ * }$ \\\\ \n",
      "  capability & $-0.117 \\pm 0.167$ & -0.701 & $P = 0.763$ & $0.232 \\pm 0.161$ & 1.441 & $P = 0.320$ & $0.349 \\pm 0.170$ & 2.048 & $P = 0.101$ \\\\ \n",
      "  goldilocks & $-0.613 \\pm 0.355$ & -1.725 & $P = 0.196$ & $-0.250 \\pm 0.338$ & -0.740 & $P = 0.740$ & $0.363 \\pm 0.353$ & 1.029 & $P = 0.559$ \\\\ \n",
      "  creativity & $-0.113 \\pm 0.310$ & -0.364 & $P = 0.930$ & $0.438 \\pm 0.298$ & 1.467 & $P = 0.307$ & $0.551 \\pm 0.310$ & 1.776 & $P = 0.178$ \\\\ \n",
      "  human_likeness & $0.609 \\pm 0.265$ & 2.299 & $P = 0.056$ & $1.446 \\pm 0.258$ & 5.597 & $P = \\num{6.531e-08}^{ *** }$ & $0.837 \\pm 0.268$ & 3.128 & $P = \\num{5.013e-03}^{ ** }$ \\\\ \n",
      "   \\hline\n",
      "\\end{tabular}\n"
     ]
    }
   ],
   "source": [
    "\n",
    "# Convert the dataframe to an xtable object\n",
    "table_latex <- xtable(mm_results_table, digits = 3)\n",
    "\n",
    "# Print the LaTeX table\n",
    "print(table_latex, include.rownames = FALSE, floating = FALSE, sanitize.text.function = identity, digits=3)\n",
    "\n"
   ]
  }
 ],
 "metadata": {
  "kernelspec": {
   "display_name": "R",
   "language": "R",
   "name": "ir"
  },
  "language_info": {
   "codemirror_mode": "r",
   "file_extension": ".r",
   "mimetype": "text/x-r-source",
   "name": "R",
   "pygments_lexer": "r",
   "version": "4.3.2"
  }
 },
 "nbformat": 4,
 "nbformat_minor": 2
}
