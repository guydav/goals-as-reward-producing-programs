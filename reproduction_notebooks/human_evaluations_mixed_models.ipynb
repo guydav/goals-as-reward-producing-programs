{
 "cells": [
  {
   "cell_type": "code",
   "execution_count": 1,
   "metadata": {
    "vscode": {
     "languageId": "r"
    }
   },
   "outputs": [
    {
     "name": "stderr",
     "output_type": "stream",
     "text": [
      "Loading required package: Matrix\n",
      "\n",
      "\n",
      "Attaching package: 'lmerTest'\n",
      "\n",
      "\n",
      "The following object is masked from 'package:lme4':\n",
      "\n",
      "    lmer\n",
      "\n",
      "\n",
      "The following object is masked from 'package:stats':\n",
      "\n",
      "    step\n",
      "\n",
      "\n",
      "\n",
      "Attaching package: 'IRdisplay'\n",
      "\n",
      "\n",
      "The following object is masked from 'package:performance':\n",
      "\n",
      "    display\n",
      "\n",
      "\n",
      "\n",
      "Attaching package: 'GLMMadaptive'\n",
      "\n",
      "\n",
      "The following object is masked from 'package:lme4':\n",
      "\n",
      "    negative.binomial\n",
      "\n",
      "\n",
      "\n",
      "Attaching package: 'dplyr'\n",
      "\n",
      "\n",
      "The following objects are masked from 'package:data.table':\n",
      "\n",
      "    between, first, last\n",
      "\n",
      "\n",
      "The following objects are masked from 'package:stats':\n",
      "\n",
      "    filter, lag\n",
      "\n",
      "\n",
      "The following objects are masked from 'package:base':\n",
      "\n",
      "    intersect, setdiff, setequal, union\n",
      "\n",
      "\n",
      "\n",
      "Attaching package: 'ordinal'\n",
      "\n",
      "\n",
      "The following object is masked from 'package:dplyr':\n",
      "\n",
      "    slice\n",
      "\n",
      "\n",
      "\n",
      "Attaching package: 'tidyr'\n",
      "\n",
      "\n",
      "The following objects are masked from 'package:Matrix':\n",
      "\n",
      "    expand, pack, unpack\n",
      "\n",
      "\n",
      "\n",
      "Attaching package: 'xtable'\n",
      "\n",
      "\n",
      "The following object is masked from 'package:IRdisplay':\n",
      "\n",
      "    display\n",
      "\n",
      "\n",
      "The following object is masked from 'package:performance':\n",
      "\n",
      "    display\n",
      "\n",
      "\n",
      "*** Package RVAideMemoire v 0.9-83-7 ***\n",
      "\n",
      "\n",
      "Attaching package: 'RVAideMemoire'\n",
      "\n",
      "\n",
      "The following object is masked from 'package:lme4':\n",
      "\n",
      "    dummy\n",
      "\n",
      "\n"
     ]
    }
   ],
   "source": [
    "library(lme4)\n",
    "library(lmerTest)\n",
    "library(emmeans)\n",
    "library(repr)\n",
    "library(glue)\n",
    "library(performance)\n",
    "library(IRdisplay)\n",
    "library(comprehenr)\n",
    "library(GLMMadaptive)\n",
    "library(multilevelTools)\n",
    "library(data.table)\n",
    "library(dplyr)\n",
    "library(ggplot2)\n",
    "library(ordinal)\n",
    "library(tibble)\n",
    "library(tidyr)\n",
    "library(data.table)\n",
    "library(xtable)\n",
    "library(RVAideMemoire)\n"
   ]
  },
  {
   "cell_type": "code",
   "execution_count": 2,
   "metadata": {
    "vscode": {
     "languageId": "r"
    }
   },
   "outputs": [],
   "source": [
    "options(width = 160, repr.plot.width = 20, repr.plot.height = 8)"
   ]
  },
  {
   "cell_type": "code",
   "execution_count": 3,
   "metadata": {
    "vscode": {
     "languageId": "r"
    }
   },
   "outputs": [
    {
     "name": "stdout",
     "output_type": "stream",
     "text": [
      "[1] 1292   50\n"
     ]
    },
    {
     "data": {
      "text/html": [
       "<table class=\"dataframe\">\n",
       "<caption>A data.frame: 2 x 50</caption>\n",
       "<thead>\n",
       "\t<tr><th></th><th scope=col>participant_id</th><th scope=col>game_id</th><th scope=col>real</th><th scope=col>matched</th><th scope=col>confident</th><th scope=col>fun_play</th><th scope=col>fun_watch</th><th scope=col>capability</th><th scope=col>goldilocks</th><th scope=col>creativity</th><th scope=col>...</th><th scope=col>centered_goldilocks</th><th scope=col>centered_creativity</th><th scope=col>centered_human_likeness</th><th scope=col>full_normalized_confident</th><th scope=col>full_normalized_fun_play</th><th scope=col>full_normalized_fun_watch</th><th scope=col>full_normalized_capability</th><th scope=col>full_normalized_goldilocks</th><th scope=col>full_normalized_creativity</th><th scope=col>full_normalized_human_likeness</th></tr>\n",
       "\t<tr><th></th><th scope=col>&lt;fct&gt;</th><th scope=col>&lt;fct&gt;</th><th scope=col>&lt;lgl&gt;</th><th scope=col>&lt;lgl&gt;</th><th scope=col>&lt;int&gt;</th><th scope=col>&lt;int&gt;</th><th scope=col>&lt;int&gt;</th><th scope=col>&lt;int&gt;</th><th scope=col>&lt;int&gt;</th><th scope=col>&lt;int&gt;</th><th scope=col>...</th><th scope=col>&lt;dbl&gt;</th><th scope=col>&lt;dbl&gt;</th><th scope=col>&lt;dbl&gt;</th><th scope=col>&lt;dbl&gt;</th><th scope=col>&lt;dbl&gt;</th><th scope=col>&lt;dbl&gt;</th><th scope=col>&lt;dbl&gt;</th><th scope=col>&lt;dbl&gt;</th><th scope=col>&lt;dbl&gt;</th><th scope=col>&lt;dbl&gt;</th></tr>\n",
       "</thead>\n",
       "<tbody>\n",
       "\t<tr><th scope=row>1</th><td>00c9bf44-28f3-469a-8a71-ea972af61bab-p102</td><td>(1, 1, 4, 0, 2, 0, 0, 0, 1, 0, 0, 0)</td><td>FALSE</td><td>FALSE</td><td>4</td><td>3</td><td>3</td><td>5</td><td>3</td><td>2</td><td>...</td><td>0</td><td>-1</td><td>-1</td><td>0.3349299</td><td>0.685856</td><td>0.736462</td><td>1.7028050</td><td>0.3154651</td><td>-0.1941839</td><td>-0.3231405</td></tr>\n",
       "\t<tr><th scope=row>2</th><td>00c9bf44-28f3-469a-8a71-ea972af61bab-p102</td><td>(1, 0, 2, 0, 1, 0, 0, 0, 0, 1, 0, 0)</td><td>FALSE</td><td>FALSE</td><td>4</td><td>3</td><td>3</td><td>4</td><td>3</td><td>3</td><td>...</td><td>0</td><td> 0</td><td>-1</td><td>0.3349299</td><td>0.685856</td><td>0.736462</td><td>0.8894874</td><td>0.3154651</td><td> 0.7489952</td><td>-0.3231405</td></tr>\n",
       "</tbody>\n",
       "</table>\n"
      ],
      "text/latex": [
       "A data.frame: 2 x 50\n",
       "\\begin{tabular}{r|lllllllllllllllllllll}\n",
       "  & participant\\_id & game\\_id & real & matched & confident & fun\\_play & fun\\_watch & capability & goldilocks & creativity & ... & centered\\_goldilocks & centered\\_creativity & centered\\_human\\_likeness & full\\_normalized\\_confident & full\\_normalized\\_fun\\_play & full\\_normalized\\_fun\\_watch & full\\_normalized\\_capability & full\\_normalized\\_goldilocks & full\\_normalized\\_creativity & full\\_normalized\\_human\\_likeness\\\\\n",
       "  & <fct> & <fct> & <lgl> & <lgl> & <int> & <int> & <int> & <int> & <int> & <int> & ... & <dbl> & <dbl> & <dbl> & <dbl> & <dbl> & <dbl> & <dbl> & <dbl> & <dbl> & <dbl>\\\\\n",
       "\\hline\n",
       "\t1 & 00c9bf44-28f3-469a-8a71-ea972af61bab-p102 & (1, 1, 4, 0, 2, 0, 0, 0, 1, 0, 0, 0) & FALSE & FALSE & 4 & 3 & 3 & 5 & 3 & 2 & ... & 0 & -1 & -1 & 0.3349299 & 0.685856 & 0.736462 & 1.7028050 & 0.3154651 & -0.1941839 & -0.3231405\\\\\n",
       "\t2 & 00c9bf44-28f3-469a-8a71-ea972af61bab-p102 & (1, 0, 2, 0, 1, 0, 0, 0, 0, 1, 0, 0) & FALSE & FALSE & 4 & 3 & 3 & 4 & 3 & 3 & ... & 0 &  0 & -1 & 0.3349299 & 0.685856 & 0.736462 & 0.8894874 & 0.3154651 &  0.7489952 & -0.3231405\\\\\n",
       "\\end{tabular}\n"
      ],
      "text/markdown": [
       "\n",
       "A data.frame: 2 x 50\n",
       "\n",
       "| <!--/--> | participant_id &lt;fct&gt; | game_id &lt;fct&gt; | real &lt;lgl&gt; | matched &lt;lgl&gt; | confident &lt;int&gt; | fun_play &lt;int&gt; | fun_watch &lt;int&gt; | capability &lt;int&gt; | goldilocks &lt;int&gt; | creativity &lt;int&gt; | ... ... | centered_goldilocks &lt;dbl&gt; | centered_creativity &lt;dbl&gt; | centered_human_likeness &lt;dbl&gt; | full_normalized_confident &lt;dbl&gt; | full_normalized_fun_play &lt;dbl&gt; | full_normalized_fun_watch &lt;dbl&gt; | full_normalized_capability &lt;dbl&gt; | full_normalized_goldilocks &lt;dbl&gt; | full_normalized_creativity &lt;dbl&gt; | full_normalized_human_likeness &lt;dbl&gt; |\n",
       "|---|---|---|---|---|---|---|---|---|---|---|---|---|---|---|---|---|---|---|---|---|---|\n",
       "| 1 | 00c9bf44-28f3-469a-8a71-ea972af61bab-p102 | (1, 1, 4, 0, 2, 0, 0, 0, 1, 0, 0, 0) | FALSE | FALSE | 4 | 3 | 3 | 5 | 3 | 2 | ... | 0 | -1 | -1 | 0.3349299 | 0.685856 | 0.736462 | 1.7028050 | 0.3154651 | -0.1941839 | -0.3231405 |\n",
       "| 2 | 00c9bf44-28f3-469a-8a71-ea972af61bab-p102 | (1, 0, 2, 0, 1, 0, 0, 0, 0, 1, 0, 0) | FALSE | FALSE | 4 | 3 | 3 | 4 | 3 | 3 | ... | 0 |  0 | -1 | 0.3349299 | 0.685856 | 0.736462 | 0.8894874 | 0.3154651 |  0.7489952 | -0.3231405 |\n",
       "\n"
      ],
      "text/plain": [
       "  participant_id                            game_id                              real  matched confident fun_play fun_watch capability goldilocks creativity\n",
       "1 00c9bf44-28f3-469a-8a71-ea972af61bab-p102 (1, 1, 4, 0, 2, 0, 0, 0, 1, 0, 0, 0) FALSE FALSE   4         3        3         5          3          2         \n",
       "2 00c9bf44-28f3-469a-8a71-ea972af61bab-p102 (1, 0, 2, 0, 1, 0, 0, 0, 0, 1, 0, 0) FALSE FALSE   4         3        3         4          3          3         \n",
       "  ... centered_goldilocks centered_creativity centered_human_likeness full_normalized_confident full_normalized_fun_play full_normalized_fun_watch\n",
       "1 ... 0                   -1                  -1                      0.3349299                 0.685856                 0.736462                 \n",
       "2 ... 0                    0                  -1                      0.3349299                 0.685856                 0.736462                 \n",
       "  full_normalized_capability full_normalized_goldilocks full_normalized_creativity full_normalized_human_likeness\n",
       "1 1.7028050                  0.3154651                  -0.1941839                 -0.3231405                    \n",
       "2 0.8894874                  0.3154651                   0.7489952                 -0.3231405                    "
      ]
     },
     "metadata": {},
     "output_type": "display_data"
    }
   ],
   "source": [
    "current_participants_df <- read.csv('./human_evals_data/current_participants_df.csv')\n",
    "\n",
    "# Set columns as categorical\n",
    "current_participants_df$participant_id <- as.factor(current_participants_df$participant_id)\n",
    "current_participants_df$game_id <- as.factor(current_participants_df$game_id)\n",
    "current_participants_df$game_type <- as.factor(current_participants_df$game_type)\n",
    "current_participants_df$full_game_id <- as.factor(current_participants_df$full_game_id)\n",
    "\n",
    "# Change the order of game_type levels\n",
    "current_participants_df$game_type <- factor(current_participants_df$game_type, levels = c('unmatched', 'unmatched_top_30', 'matched', 'real'))\n",
    "\n",
    "\n",
    "# Set columns as booleans\n",
    "current_participants_df$real <- as.logical(current_participants_df$real)\n",
    "current_participants_df$matched <- as.logical(current_participants_df$matched)\n",
    "current_participants_df$model_game <- (!current_participants_df$real)\n",
    "\n",
    "ATTRIBUTES <- c(\"confident\", \"fun_play\", \"fun_watch\", \"capability\", \"goldilocks\", \"creativity\", \"human_likeness\")\n",
    "NORMALIZED_ATTRIBUTES <- to_vec(for (attr in ATTRIBUTES) { glue(\"normalized_{attr}\") } )\n",
    "CENTERED_ATTRIBUTES <- to_vec(for (attr in ATTRIBUTES) { glue(\"centered_{attr}\") } )\n",
    "FULL_NORMALIZED_ATTRIBUTES <- to_vec(for (attr in ATTRIBUTES) { glue(\"full_normalized_{attr}\") })\n",
    "\n",
    "for (i in seq_along(CENTERED_ATTRIBUTES)) {\n",
    "    current_participants_df[[CENTERED_ATTRIBUTES[i]]] <- current_participants_df[[ATTRIBUTES[i]]] - 3\n",
    "}\n",
    "\n",
    "for (i in seq_along(FULL_NORMALIZED_ATTRIBUTES)) {\n",
    "    current_participants_df[[FULL_NORMALIZED_ATTRIBUTES[i]]] <- (current_participants_df[[ATTRIBUTES[i]]] - mean(current_participants_df[[ATTRIBUTES[i]]])) / sd(current_participants_df[[ATTRIBUTES[i]]])\n",
    "}\n",
    "\n",
    "\n",
    "\n",
    "print(dim(current_participants_df))\n",
    "head(current_participants_df, 2)"
   ]
  },
  {
   "cell_type": "code",
   "execution_count": 4,
   "metadata": {
    "vscode": {
     "languageId": "r"
    }
   },
   "outputs": [
    {
     "name": "stdout",
     "output_type": "stream",
     "text": [
      "[1] 892  50\n"
     ]
    },
    {
     "data": {
      "text/html": [
       "<table class=\"dataframe\">\n",
       "<caption>A data.frame: 2 x 50</caption>\n",
       "<thead>\n",
       "\t<tr><th></th><th scope=col>participant_id</th><th scope=col>game_id</th><th scope=col>real</th><th scope=col>matched</th><th scope=col>confident</th><th scope=col>fun_play</th><th scope=col>fun_watch</th><th scope=col>capability</th><th scope=col>goldilocks</th><th scope=col>creativity</th><th scope=col>...</th><th scope=col>centered_goldilocks</th><th scope=col>centered_creativity</th><th scope=col>centered_human_likeness</th><th scope=col>full_normalized_confident</th><th scope=col>full_normalized_fun_play</th><th scope=col>full_normalized_fun_watch</th><th scope=col>full_normalized_capability</th><th scope=col>full_normalized_goldilocks</th><th scope=col>full_normalized_creativity</th><th scope=col>full_normalized_human_likeness</th></tr>\n",
       "\t<tr><th></th><th scope=col>&lt;fct&gt;</th><th scope=col>&lt;fct&gt;</th><th scope=col>&lt;lgl&gt;</th><th scope=col>&lt;lgl&gt;</th><th scope=col>&lt;int&gt;</th><th scope=col>&lt;int&gt;</th><th scope=col>&lt;int&gt;</th><th scope=col>&lt;int&gt;</th><th scope=col>&lt;int&gt;</th><th scope=col>&lt;int&gt;</th><th scope=col>...</th><th scope=col>&lt;dbl&gt;</th><th scope=col>&lt;dbl&gt;</th><th scope=col>&lt;dbl&gt;</th><th scope=col>&lt;dbl&gt;</th><th scope=col>&lt;dbl&gt;</th><th scope=col>&lt;dbl&gt;</th><th scope=col>&lt;dbl&gt;</th><th scope=col>&lt;dbl&gt;</th><th scope=col>&lt;dbl&gt;</th><th scope=col>&lt;dbl&gt;</th></tr>\n",
       "</thead>\n",
       "<tbody>\n",
       "\t<tr><th scope=row>3</th><td>00c9bf44-28f3-469a-8a71-ea972af61bab-p102</td><td>(1, 0, 2, 0, 0, 0, 0, 0, 0, 0, 2, 0)</td><td> TRUE</td><td>TRUE</td><td>4</td><td>2</td><td>2</td><td>5</td><td>4</td><td>3</td><td>...</td><td> 1</td><td> 0</td><td>-1</td><td>0.3349299</td><td>-0.2092207</td><td>-0.1445648</td><td>1.70280498</td><td> 1.2524326</td><td> 0.7489952</td><td>-0.3231405</td></tr>\n",
       "\t<tr><th scope=row>4</th><td>00c9bf44-28f3-469a-8a71-ea972af61bab-p102</td><td>(1, 0, 2, 0, 0, 0, 0, 0, 0, 0, 2, 0)</td><td>FALSE</td><td>TRUE</td><td>5</td><td>4</td><td>4</td><td>3</td><td>2</td><td>2</td><td>...</td><td>-1</td><td>-1</td><td>-1</td><td>1.1049113</td><td> 1.5809328</td><td> 1.6174888</td><td>0.07616983</td><td>-0.6215025</td><td>-0.1941839</td><td>-0.3231405</td></tr>\n",
       "</tbody>\n",
       "</table>\n"
      ],
      "text/latex": [
       "A data.frame: 2 x 50\n",
       "\\begin{tabular}{r|lllllllllllllllllllll}\n",
       "  & participant\\_id & game\\_id & real & matched & confident & fun\\_play & fun\\_watch & capability & goldilocks & creativity & ... & centered\\_goldilocks & centered\\_creativity & centered\\_human\\_likeness & full\\_normalized\\_confident & full\\_normalized\\_fun\\_play & full\\_normalized\\_fun\\_watch & full\\_normalized\\_capability & full\\_normalized\\_goldilocks & full\\_normalized\\_creativity & full\\_normalized\\_human\\_likeness\\\\\n",
       "  & <fct> & <fct> & <lgl> & <lgl> & <int> & <int> & <int> & <int> & <int> & <int> & ... & <dbl> & <dbl> & <dbl> & <dbl> & <dbl> & <dbl> & <dbl> & <dbl> & <dbl> & <dbl>\\\\\n",
       "\\hline\n",
       "\t3 & 00c9bf44-28f3-469a-8a71-ea972af61bab-p102 & (1, 0, 2, 0, 0, 0, 0, 0, 0, 0, 2, 0) &  TRUE & TRUE & 4 & 2 & 2 & 5 & 4 & 3 & ... &  1 &  0 & -1 & 0.3349299 & -0.2092207 & -0.1445648 & 1.70280498 &  1.2524326 &  0.7489952 & -0.3231405\\\\\n",
       "\t4 & 00c9bf44-28f3-469a-8a71-ea972af61bab-p102 & (1, 0, 2, 0, 0, 0, 0, 0, 0, 0, 2, 0) & FALSE & TRUE & 5 & 4 & 4 & 3 & 2 & 2 & ... & -1 & -1 & -1 & 1.1049113 &  1.5809328 &  1.6174888 & 0.07616983 & -0.6215025 & -0.1941839 & -0.3231405\\\\\n",
       "\\end{tabular}\n"
      ],
      "text/markdown": [
       "\n",
       "A data.frame: 2 x 50\n",
       "\n",
       "| <!--/--> | participant_id &lt;fct&gt; | game_id &lt;fct&gt; | real &lt;lgl&gt; | matched &lt;lgl&gt; | confident &lt;int&gt; | fun_play &lt;int&gt; | fun_watch &lt;int&gt; | capability &lt;int&gt; | goldilocks &lt;int&gt; | creativity &lt;int&gt; | ... ... | centered_goldilocks &lt;dbl&gt; | centered_creativity &lt;dbl&gt; | centered_human_likeness &lt;dbl&gt; | full_normalized_confident &lt;dbl&gt; | full_normalized_fun_play &lt;dbl&gt; | full_normalized_fun_watch &lt;dbl&gt; | full_normalized_capability &lt;dbl&gt; | full_normalized_goldilocks &lt;dbl&gt; | full_normalized_creativity &lt;dbl&gt; | full_normalized_human_likeness &lt;dbl&gt; |\n",
       "|---|---|---|---|---|---|---|---|---|---|---|---|---|---|---|---|---|---|---|---|---|---|\n",
       "| 3 | 00c9bf44-28f3-469a-8a71-ea972af61bab-p102 | (1, 0, 2, 0, 0, 0, 0, 0, 0, 0, 2, 0) |  TRUE | TRUE | 4 | 2 | 2 | 5 | 4 | 3 | ... |  1 |  0 | -1 | 0.3349299 | -0.2092207 | -0.1445648 | 1.70280498 |  1.2524326 |  0.7489952 | -0.3231405 |\n",
       "| 4 | 00c9bf44-28f3-469a-8a71-ea972af61bab-p102 | (1, 0, 2, 0, 0, 0, 0, 0, 0, 0, 2, 0) | FALSE | TRUE | 5 | 4 | 4 | 3 | 2 | 2 | ... | -1 | -1 | -1 | 1.1049113 |  1.5809328 |  1.6174888 | 0.07616983 | -0.6215025 | -0.1941839 | -0.3231405 |\n",
       "\n"
      ],
      "text/plain": [
       "  participant_id                            game_id                              real  matched confident fun_play fun_watch capability goldilocks creativity\n",
       "3 00c9bf44-28f3-469a-8a71-ea972af61bab-p102 (1, 0, 2, 0, 0, 0, 0, 0, 0, 0, 2, 0)  TRUE TRUE    4         2        2         5          4          3         \n",
       "4 00c9bf44-28f3-469a-8a71-ea972af61bab-p102 (1, 0, 2, 0, 0, 0, 0, 0, 0, 0, 2, 0) FALSE TRUE    5         4        4         3          2          2         \n",
       "  ... centered_goldilocks centered_creativity centered_human_likeness full_normalized_confident full_normalized_fun_play full_normalized_fun_watch\n",
       "3 ...  1                   0                  -1                      0.3349299                 -0.2092207               -0.1445648               \n",
       "4 ... -1                  -1                  -1                      1.1049113                  1.5809328                1.6174888               \n",
       "  full_normalized_capability full_normalized_goldilocks full_normalized_creativity full_normalized_human_likeness\n",
       "3 1.70280498                  1.2524326                  0.7489952                 -0.3231405                    \n",
       "4 0.07616983                 -0.6215025                 -0.1941839                 -0.3231405                    "
      ]
     },
     "metadata": {},
     "output_type": "display_data"
    }
   ],
   "source": [
    "filtered_df <- current_participants_df[current_participants_df$game_type != 'unmatched', ]\n",
    "filtered_df$game_type <- droplevels(filtered_df$game_type)\n",
    "\n",
    "print(dim(filtered_df))\n",
    "head(filtered_df, 2)"
   ]
  },
  {
   "cell_type": "markdown",
   "metadata": {},
   "source": [
    "## Do we need a random effect for participants?"
   ]
  },
  {
   "cell_type": "code",
   "execution_count": 13,
   "metadata": {
    "vscode": {
     "languageId": "r"
    }
   },
   "outputs": [
    {
     "name": "stdout",
     "output_type": "stream",
     "text": [
      "For confident, adding the participant ID random effects results in AIC diff: 98.78088 | Chi-squared: NULL | p-value: 1.027435e-23\n",
      "For fun_play, adding the participant ID random effects results in AIC diff: 248.459 | Chi-squared: NULL | p-value: 2.062364e-56\n",
      "For fun_watch, adding the participant ID random effects results in AIC diff: 381.5017 | Chi-squared: NULL | p-value: 2.150804e-85\n",
      "For capability, adding the participant ID random effects results in AIC diff: 350.6805 | Chi-squared: NULL | p-value: 1.10518e-78\n",
      "For goldilocks, adding the participant ID random effects results in AIC diff: 89.72851 | Chi-squared: NULL | p-value: 9.942224e-22\n",
      "For creativity, adding the participant ID random effects results in AIC diff: 257.707 | Chi-squared: NULL | p-value: 1.987821e-58\n",
      "For human_likeness, adding the participant ID random effects results in AIC diff: 182.0796 | Chi-squared: NULL | p-value: 6.233415e-42\n"
     ]
    }
   ],
   "source": [
    "# Iterate through attributes\n",
    "for (attr in ATTRIBUTES) {\n",
    "    attr.mm_no_participant_id <- clmm(\n",
    "        formula = as.formula(glue(\"C({attr}) ~ 1 + C(game_type) + normalized_fitness + (1 | full_game_id)\")),\n",
    "        data = filtered_df, Hess = TRUE\n",
    "    )\n",
    "    attr.mm_with_participant_id <- clmm(\n",
    "        formula = as.formula(glue(\"C({attr}) ~ 1 + C(game_type) + normalized_fitness + (1 | full_game_id) + (1 | participant_id)\")),\n",
    "        data = filtered_df, Hess = TRUE\n",
    "    )\n",
    "\n",
    "    anova_results <- anova(attr.mm_no_participant_id, attr.mm_with_participant_id)\n",
    "    attr.aic_before <- anova_results$AIC[[1]]\n",
    "    attr.aic_after <- anova_results$AIC[[2]]\n",
    "    attr.aic_diff <- attr.aic_before - attr.aic_after\n",
    "    attr.chisq <- anova_results$Chisq[[2]]\n",
    "    attr.pvalue <- anova_results$`Pr(>Chisq)`[[2]] \n",
    "    \n",
    "    print(glue(\"For {attr}, adding the participant ID random effects results in AIC diff: {format(attr.aic_diff, nsmall=3)} | Chi-squared: {format(attr.chisq, nsmall=3)} | p-value: {format(attr.pvalue, nsmall=3)}\"))\n",
    "}\n",
    "\n"
   ]
  },
  {
   "cell_type": "markdown",
   "metadata": {},
   "source": [
    "Absolutely we do.\n",
    "\n",
    "## Do we need a random effect for games?"
   ]
  },
  {
   "cell_type": "code",
   "execution_count": 10,
   "metadata": {
    "vscode": {
     "languageId": "r"
    }
   },
   "outputs": [
    {
     "name": "stdout",
     "output_type": "stream",
     "text": [
      "For confident, adding the game ID random effects results in AIC diff: 49.03556 | Chi-squared: NULL | p-value: 9.070776e-13\n",
      "For fun_play, adding the game ID random effects results in AIC diff: 39.63944 | Chi-squared: NULL | p-value: 1.097565e-10\n",
      "For fun_watch, adding the game ID random effects results in AIC diff: 26.17496 | Chi-squared: NULL | p-value: 1.108294e-07\n",
      "For capability, adding the game ID random effects results in AIC diff: -1.977122 | Chi-squared: NULL | p-value: 0.8797742\n",
      "For goldilocks, adding the game ID random effects results in AIC diff: 108.3868 | Chi-squared: NULL | p-value: 8.062017e-26\n",
      "For creativity, adding the game ID random effects results in AIC diff: 53.75391 | Chi-squared: NULL | p-value: 8.213478e-14\n",
      "For human_likeness, adding the game ID random effects results in AIC diff: 29.1491 | Chi-squared: NULL | p-value: 2.389503e-08\n"
     ]
    }
   ],
   "source": [
    "\n",
    "\n",
    "# Iterate through attributes\n",
    "for (attr in ATTRIBUTES) {\n",
    "    attr.mm_no_game_id <- clmm(\n",
    "        formula = as.formula(glue(\"C({attr}) ~ 1 + C(game_type) + normalized_fitness + (1 | participant_id)\")),\n",
    "        data = filtered_df, Hess = TRUE\n",
    "    )\n",
    "    attr.mm_with_game_id <- clmm(\n",
    "        formula = as.formula(glue(\"C({attr}) ~ 1 + C(game_type) + normalized_fitness + (1 | participant_id) + (1 | full_game_id)\")),\n",
    "        data = filtered_df, Hess = TRUE\n",
    "    )\n",
    "\n",
    "    anova_results <- anova(attr.mm_no_game_id, attr.mm_with_game_id)\n",
    "    attr.aic_before <- anova_results$AIC[[1]]\n",
    "    attr.aic_after <- anova_results$AIC[[2]]\n",
    "    attr.aic_diff <- attr.aic_before - attr.aic_after\n",
    "    attr.chisq <- anova_results$Chisq[[2]]\n",
    "    attr.pvalue <- anova_results$`Pr(>Chisq)`[[2]] \n",
    "    \n",
    "    print(glue(\"For {attr}, adding the game ID random effects results in AIC diff: {format(attr.aic_diff, nsmall=3)} | Chi-squared: {format(attr.chisq, nsmall=3)} | p-value: {format(attr.pvalue, nsmall=3)}\"))\n",
    "}\n",
    "\n"
   ]
  },
  {
   "cell_type": "markdown",
   "metadata": {},
   "source": [
    "Sure seems to help in almost every attribute.\n",
    "\n",
    "## Given the two random effects, do we need both fixed effects?\n"
   ]
  },
  {
   "cell_type": "code",
   "execution_count": 11,
   "metadata": {
    "vscode": {
     "languageId": "r"
    }
   },
   "outputs": [
    {
     "data": {
      "text/plain": [
       "For confident, adding the fitness fixed effect results in AIC diff: 27.00703 | Chi-squared: NULL | p-value: 7.211615e-08"
      ]
     },
     "metadata": {},
     "output_type": "display_data"
    },
    {
     "data": {
      "text/plain": [
       "For fun_play, adding the fitness fixed effect results in AIC diff: 6.39548 | Chi-squared: NULL | p-value: 0.003761551"
      ]
     },
     "metadata": {},
     "output_type": "display_data"
    },
    {
     "data": {
      "text/plain": [
       "For fun_watch, adding the fitness fixed effect results in AIC diff: 0.1528605 | Chi-squared: NULL | p-value: 0.1423045"
      ]
     },
     "metadata": {},
     "output_type": "display_data"
    },
    {
     "data": {
      "text/plain": [
       "For capability, adding the fitness fixed effect results in AIC diff: 2.6284 | Chi-squared: NULL | p-value: 0.03144689"
      ]
     },
     "metadata": {},
     "output_type": "display_data"
    },
    {
     "data": {
      "text/plain": [
       "For goldilocks, adding the fitness fixed effect results in AIC diff: 9.235787 | Chi-squared: NULL | p-value: 0.0008023506"
      ]
     },
     "metadata": {},
     "output_type": "display_data"
    },
    {
     "data": {
      "text/plain": [
       "For creativity, adding the fitness fixed effect results in AIC diff: 7.793806 | Chi-squared: NULL | p-value: 0.001751007"
      ]
     },
     "metadata": {},
     "output_type": "display_data"
    },
    {
     "data": {
      "text/plain": [
       "For human_likeness, adding the fitness fixed effect results in AIC diff: 15.69761 | Chi-squared: NULL | p-value: 2.589511e-05"
      ]
     },
     "metadata": {},
     "output_type": "display_data"
    }
   ],
   "source": [
    "\n",
    "# Iterate through attributes\n",
    "for (attr in ATTRIBUTES) {\n",
    "    attr.mm_no_game_id <- clmm(\n",
    "        formula = as.formula(glue(\"C({attr}) ~ 1 + C(game_type) + (1 | participant_id)+ (1 | full_game_id)\")),\n",
    "        data = filtered_df, Hess = TRUE\n",
    "    )\n",
    "    attr.mm_with_game_id <- clmm(\n",
    "        formula = as.formula(glue(\"C({attr}) ~ 1 + C(game_type) + normalized_fitness + (1 | participant_id) + (1 | full_game_id)\")),\n",
    "        data = filtered_df, Hess = TRUE\n",
    "    )\n",
    "\n",
    "    anova_results <- anova(attr.mm_no_game_id, attr.mm_with_game_id)\n",
    "    attr.aic_before <- anova_results$AIC[[1]]\n",
    "    attr.aic_after <- anova_results$AIC[[2]]\n",
    "    attr.aic_diff <- attr.aic_before - attr.aic_after\n",
    "    attr.chisq <- anova_results$Chisq[[2]]\n",
    "    attr.pvalue <- anova_results$`Pr(>Chisq)`[[2]] \n",
    "\n",
    "    display_text(glue(\"For {attr}, adding the fitness fixed effect results in AIC diff: {format(attr.aic_diff, nsmall=3)} | Chi-squared: {format(attr.chisq, nsmall=3)} | p-value: {format(attr.pvalue, nsmall=3)}\"))\n",
    "}\n"
   ]
  },
  {
   "cell_type": "code",
   "execution_count": 12,
   "metadata": {
    "vscode": {
     "languageId": "r"
    }
   },
   "outputs": [
    {
     "data": {
      "text/plain": [
       "For confident, adding the game type fixed effect results in AIC diff: 10.92737 | Chi-squared: NULL | p-value: 0.0005735382"
      ]
     },
     "metadata": {},
     "output_type": "display_data"
    },
    {
     "data": {
      "text/plain": [
       "For fun_play, adding the game type fixed effect results in AIC diff: 11.43894 | Chi-squared: NULL | p-value: 0.0004440957"
      ]
     },
     "metadata": {},
     "output_type": "display_data"
    },
    {
     "data": {
      "text/plain": [
       "For fun_watch, adding the game type fixed effect results in AIC diff: 8.654934 | Chi-squared: NULL | p-value: 0.001786554"
      ]
     },
     "metadata": {},
     "output_type": "display_data"
    },
    {
     "data": {
      "text/plain": [
       "For capability, adding the game type fixed effect results in AIC diff: 0.4869532 | Chi-squared: NULL | p-value: 0.106089"
      ]
     },
     "metadata": {},
     "output_type": "display_data"
    },
    {
     "data": {
      "text/plain": [
       "For goldilocks, adding the game type fixed effect results in AIC diff: -1.05349 | Chi-squared: NULL | p-value: 0.2291783"
      ]
     },
     "metadata": {},
     "output_type": "display_data"
    },
    {
     "data": {
      "text/plain": [
       "For creativity, adding the game type fixed effect results in AIC diff: -0.4096395 | Chi-squared: NULL | p-value: 0.1660975"
      ]
     },
     "metadata": {},
     "output_type": "display_data"
    },
    {
     "data": {
      "text/plain": [
       "For human_likeness, adding the game type fixed effect results in AIC diff: 23.48259 | Chi-squared: NULL | p-value: 1.077041e-06"
      ]
     },
     "metadata": {},
     "output_type": "display_data"
    }
   ],
   "source": [
    "# Iterate through attributes\n",
    "for (attr in ATTRIBUTES) {\n",
    "    attr.mm_no_game_id <- clmm(\n",
    "        formula = as.formula(glue(\"C({attr}) ~ 1 + normalized_fitness + (1 | participant_id)+ (1 | full_game_id)\")),\n",
    "        data = filtered_df, Hess = TRUE\n",
    "    )\n",
    "    attr.mm_with_game_id <- clmm(\n",
    "        formula = as.formula(glue(\"C({attr}) ~ 1 + C(game_type) + normalized_fitness + (1 | participant_id) + (1 | full_game_id)\")),\n",
    "        data = filtered_df, Hess = TRUE\n",
    "    )\n",
    "\n",
    "    anova_results <- anova(attr.mm_no_game_id, attr.mm_with_game_id)\n",
    "    attr.aic_before <- anova_results$AIC[[1]]\n",
    "    attr.aic_after <- anova_results$AIC[[2]]\n",
    "    attr.aic_diff <- attr.aic_before - attr.aic_after\n",
    "    attr.chisq <- anova_results$Chisq[[2]]\n",
    "    attr.pvalue <- anova_results$`Pr(>Chisq)`[[2]] \n",
    "    \n",
    "    display_text(glue(\"For {attr}, adding the game type fixed effect results in AIC diff: {format(attr.aic_diff, nsmall=3)} | Chi-squared: {format(attr.chisq, nsmall=3)} | p-value: {format(attr.pvalue, nsmall=3)}\"))\n",
    "}\n",
    "\n"
   ]
  },
  {
   "cell_type": "markdown",
   "metadata": {},
   "source": [
    "\n",
    "## Fit and analyze the full mixed effects model"
   ]
  },
  {
   "cell_type": "code",
   "execution_count": 15,
   "metadata": {
    "vscode": {
     "languageId": "r"
    }
   },
   "outputs": [
    {
     "data": {
      "text/markdown": [
       "## confident"
      ]
     },
     "metadata": {},
     "output_type": "display_data"
    },
    {
     "data": {
      "text/markdown": [
       "### Mixed Effects Model"
      ]
     },
     "metadata": {},
     "output_type": "display_data"
    },
    {
     "name": "stdout",
     "output_type": "stream",
     "text": [
      "Cumulative Link Mixed Model fitted with the Laplace approximation\n",
      "\n",
      "formula: C(confident) ~ 1 + normalized_fitness + C(game_type) + (1 | participant_id) +      (1 | full_game_id)\n",
      "data:    analysis_df\n",
      "\n",
      " link  threshold nobs logLik   AIC     niter     max.grad cond.H \n",
      " logit flexible  892  -1182.29 2382.59 755(3012) 2.29e-04 8.8e+01\n",
      "\n",
      "Random effects:\n",
      " Groups         Name        Variance Std.Dev.\n",
      " participant_id (Intercept) 1.2831   1.1327  \n",
      " full_game_id   (Intercept) 0.7669   0.8757  \n",
      "Number of groups:  participant_id 100,  full_game_id 90 \n",
      "\n",
      "Coefficients:\n",
      "                    Estimate Std. Error z value Pr(>|z|)    \n",
      "normalized_fitness    0.8459     0.1504   5.625 1.86e-08 ***\n",
      "C(game_type)matched   0.5253     0.2974   1.766   0.0773 .  \n",
      "C(game_type)real      1.1511     0.2852   4.036 5.43e-05 ***\n",
      "---\n",
      "Signif. codes:  0 '***' 0.001 '**' 0.01 '*' 0.05 '.' 0.1 ' ' 1\n",
      "\n",
      "Threshold coefficients:\n",
      "    Estimate Std. Error z value\n",
      "1|2 -2.80972    0.26835 -10.471\n",
      "2|3 -1.36745    0.24135  -5.666\n",
      "3|4 -0.01259    0.23532  -0.054\n",
      "4|5  1.58470    0.24237   6.538\n"
     ]
    },
    {
     "name": "stderr",
     "output_type": "stream",
     "text": [
      "Warning message:\n",
      "\"contrasts dropped from factor C(game_type)\"\n"
     ]
    },
    {
     "data": {
      "text/markdown": [
       "### Marginal Means"
      ]
     },
     "metadata": {},
     "output_type": "display_data"
    },
    {
     "data": {
      "text/markdown": [
       "------------------"
      ]
     },
     "metadata": {},
     "output_type": "display_data"
    },
    {
     "data": {
      "text/markdown": [
       "## fun_play"
      ]
     },
     "metadata": {},
     "output_type": "display_data"
    },
    {
     "data": {
      "text/markdown": [
       "### Mixed Effects Model"
      ]
     },
     "metadata": {},
     "output_type": "display_data"
    },
    {
     "name": "stdout",
     "output_type": "stream",
     "text": [
      " contrast                   estimate    SE  df z.ratio p.value\n",
      " matched - unmatched_top_30    0.525 0.297 Inf   1.766  0.1810\n",
      " real - unmatched_top_30       1.151 0.285 Inf   4.036  0.0002\n",
      " real - matched                0.626 0.305 Inf   2.055  0.0995\n",
      "\n",
      "P value adjustment: tukey method for comparing a family of 3 estimates \n",
      "Cumulative Link Mixed Model fitted with the Laplace approximation\n",
      "\n",
      "formula: C(fun_play) ~ 1 + normalized_fitness + C(game_type) + (1 | participant_id) +      (1 | full_game_id)\n",
      "data:    analysis_df\n",
      "\n",
      " link  threshold nobs logLik   AIC     niter     max.grad cond.H \n",
      " logit flexible  892  -1134.46 2286.92 699(4357) 3.32e-04 6.8e+01\n",
      "\n",
      "Random effects:\n",
      " Groups         Name        Variance Std.Dev.\n",
      " participant_id (Intercept) 2.8697   1.6940  \n",
      " full_game_id   (Intercept) 0.5779   0.7602  \n",
      "Number of groups:  participant_id 100,  full_game_id 90 \n",
      "\n",
      "Coefficients:\n",
      "                    Estimate Std. Error z value Pr(>|z|)    \n",
      "normalized_fitness    0.3956     0.1347   2.936  0.00332 ** \n",
      "C(game_type)matched   0.6287     0.2736   2.298  0.02158 *  \n",
      "C(game_type)real      1.0589     0.2633   4.021  5.8e-05 ***\n",
      "---\n",
      "Signif. codes:  0 '***' 0.001 '**' 0.01 '*' 0.05 '.' 0.1 ' ' 1\n",
      "\n",
      "Threshold coefficients:\n",
      "    Estimate Std. Error z value\n",
      "1|2  -0.9559     0.2597  -3.681\n",
      "2|3   1.1138     0.2624   4.245\n",
      "3|4   3.2945     0.2882  11.431\n",
      "4|5   5.0773     0.3411  14.887\n"
     ]
    },
    {
     "name": "stderr",
     "output_type": "stream",
     "text": [
      "Warning message:\n",
      "\"contrasts dropped from factor C(game_type)\"\n"
     ]
    },
    {
     "data": {
      "text/markdown": [
       "### Marginal Means"
      ]
     },
     "metadata": {},
     "output_type": "display_data"
    },
    {
     "data": {
      "text/markdown": [
       "------------------"
      ]
     },
     "metadata": {},
     "output_type": "display_data"
    },
    {
     "data": {
      "text/markdown": [
       "## fun_watch"
      ]
     },
     "metadata": {},
     "output_type": "display_data"
    },
    {
     "data": {
      "text/markdown": [
       "### Mixed Effects Model"
      ]
     },
     "metadata": {},
     "output_type": "display_data"
    },
    {
     "name": "stdout",
     "output_type": "stream",
     "text": [
      " contrast                   estimate    SE  df z.ratio p.value\n",
      " matched - unmatched_top_30    0.629 0.274 Inf   2.298  0.0561\n",
      " real - unmatched_top_30       1.059 0.263 Inf   4.021  0.0002\n",
      " real - matched                0.430 0.273 Inf   1.577  0.2556\n",
      "\n",
      "P value adjustment: tukey method for comparing a family of 3 estimates \n",
      "Cumulative Link Mixed Model fitted with the Laplace approximation\n",
      "\n",
      "formula: C(fun_watch) ~ 1 + normalized_fitness + C(game_type) + (1 | participant_id) +      (1 | full_game_id)\n",
      "data:    analysis_df\n",
      "\n",
      " link  threshold nobs logLik   AIC     niter     max.grad cond.H \n",
      " logit flexible  892  -1077.05 2172.09 642(4301) 3.19e-04 6.8e+01\n",
      "\n",
      "Random effects:\n",
      " Groups         Name        Variance Std.Dev.\n",
      " participant_id (Intercept) 4.4133   2.1008  \n",
      " full_game_id   (Intercept) 0.5064   0.7116  \n",
      "Number of groups:  participant_id 100,  full_game_id 90 \n",
      "\n",
      "Coefficients:\n",
      "                    Estimate Std. Error z value Pr(>|z|)    \n",
      "normalized_fitness    0.1912     0.1302   1.469  0.14196    \n",
      "C(game_type)matched   0.6413     0.2657   2.414  0.01577 *  \n",
      "C(game_type)real      0.9118     0.2571   3.547  0.00039 ***\n",
      "---\n",
      "Signif. codes:  0 '***' 0.001 '**' 0.01 '*' 0.05 '.' 0.1 ' ' 1\n",
      "\n",
      "Threshold coefficients:\n",
      "    Estimate Std. Error z value\n",
      "1|2  -0.7974     0.2862  -2.786\n",
      "2|3   1.4145     0.2925   4.836\n",
      "3|4   3.5055     0.3199  10.958\n",
      "4|5   5.6182     0.3808  14.754\n"
     ]
    },
    {
     "name": "stderr",
     "output_type": "stream",
     "text": [
      "Warning message:\n",
      "\"contrasts dropped from factor C(game_type)\"\n"
     ]
    },
    {
     "data": {
      "text/markdown": [
       "### Marginal Means"
      ]
     },
     "metadata": {},
     "output_type": "display_data"
    },
    {
     "data": {
      "text/markdown": [
       "------------------"
      ]
     },
     "metadata": {},
     "output_type": "display_data"
    },
    {
     "data": {
      "text/markdown": [
       "## capability"
      ]
     },
     "metadata": {},
     "output_type": "display_data"
    },
    {
     "data": {
      "text/markdown": [
       "### Mixed Effects Model"
      ]
     },
     "metadata": {},
     "output_type": "display_data"
    },
    {
     "name": "stdout",
     "output_type": "stream",
     "text": [
      " contrast                   estimate    SE  df z.ratio p.value\n",
      " matched - unmatched_top_30    0.641 0.266 Inf   2.414  0.0417\n",
      " real - unmatched_top_30       0.912 0.257 Inf   3.547  0.0011\n",
      " real - matched                0.271 0.264 Inf   1.025  0.5608\n",
      "\n",
      "P value adjustment: tukey method for comparing a family of 3 estimates \n",
      "Cumulative Link Mixed Model fitted with the Laplace approximation\n",
      "\n",
      "formula: C(capability) ~ 1 + normalized_fitness + C(game_type) + (1 |      participant_id) + (1 | full_game_id)\n",
      "data:    analysis_df\n",
      "\n",
      " link  threshold nobs logLik   AIC     niter     max.grad cond.H \n",
      " logit flexible  892  -1191.32 2400.65 688(4093) 1.16e-03 4.9e+01\n",
      "\n",
      "Random effects:\n",
      " Groups         Name        Variance Std.Dev.\n",
      " participant_id (Intercept) 3.616428 1.90169 \n",
      " full_game_id   (Intercept) 0.007948 0.08915 \n",
      "Number of groups:  participant_id 100,  full_game_id 90 \n",
      "\n",
      "Coefficients:\n",
      "                    Estimate Std. Error z value Pr(>|z|)  \n",
      "normalized_fitness  -0.18855    0.08718  -2.163   0.0306 *\n",
      "C(game_type)matched  0.34903    0.17045   2.048   0.0406 *\n",
      "C(game_type)real     0.23183    0.16090   1.441   0.1496  \n",
      "---\n",
      "Signif. codes:  0 '***' 0.001 '**' 0.01 '*' 0.05 '.' 0.1 ' ' 1\n",
      "\n",
      "Threshold coefficients:\n",
      "    Estimate Std. Error z value\n",
      "1|2  -2.9044     0.2543 -11.421\n",
      "2|3  -0.6740     0.2313  -2.914\n",
      "3|4   1.1571     0.2353   4.918\n",
      "4|5   3.0714     0.2635  11.658\n"
     ]
    },
    {
     "name": "stderr",
     "output_type": "stream",
     "text": [
      "Warning message:\n",
      "\"contrasts dropped from factor C(game_type)\"\n"
     ]
    },
    {
     "data": {
      "text/markdown": [
       "### Marginal Means"
      ]
     },
     "metadata": {},
     "output_type": "display_data"
    },
    {
     "data": {
      "text/markdown": [
       "------------------"
      ]
     },
     "metadata": {},
     "output_type": "display_data"
    },
    {
     "data": {
      "text/markdown": [
       "## goldilocks"
      ]
     },
     "metadata": {},
     "output_type": "display_data"
    },
    {
     "data": {
      "text/markdown": [
       "### Mixed Effects Model"
      ]
     },
     "metadata": {},
     "output_type": "display_data"
    },
    {
     "name": "stdout",
     "output_type": "stream",
     "text": [
      " contrast                   estimate    SE  df z.ratio p.value\n",
      " matched - unmatched_top_30    0.349 0.170 Inf   2.048  0.1010\n",
      " real - unmatched_top_30       0.232 0.161 Inf   1.441  0.3199\n",
      " real - matched               -0.117 0.167 Inf  -0.701  0.7630\n",
      "\n",
      "P value adjustment: tukey method for comparing a family of 3 estimates \n",
      "Cumulative Link Mixed Model fitted with the Laplace approximation\n",
      "\n",
      "formula: C(goldilocks) ~ 1 + normalized_fitness + C(game_type) + (1 |      participant_id) + (1 | full_game_id)\n",
      "data:    analysis_df\n",
      "\n",
      " link  threshold nobs logLik   AIC     niter     max.grad cond.H \n",
      " logit flexible  892  -1106.95 2231.91 570(2858) 1.15e-03 8.2e+01\n",
      "\n",
      "Random effects:\n",
      " Groups         Name        Variance Std.Dev.\n",
      " participant_id (Intercept) 1.161    1.078   \n",
      " full_game_id   (Intercept) 1.256    1.121   \n",
      "Number of groups:  participant_id 100,  full_game_id 90 \n",
      "\n",
      "Coefficients:\n",
      "                    Estimate Std. Error z value Pr(>|z|)    \n",
      "normalized_fitness   -0.5878     0.1707  -3.443 0.000576 ***\n",
      "C(game_type)matched   0.3630     0.3529   1.029 0.303615    \n",
      "C(game_type)real     -0.2498     0.3377  -0.740 0.459502    \n",
      "---\n",
      "Signif. codes:  0 '***' 0.001 '**' 0.01 '*' 0.05 '.' 0.1 ' ' 1\n",
      "\n",
      "Threshold coefficients:\n",
      "    Estimate Std. Error z value\n",
      "1|2  -2.3600     0.2832  -8.335\n",
      "2|3  -0.7327     0.2700  -2.713\n",
      "3|4   2.3733     0.2841   8.353\n",
      "4|5   4.1018     0.3273  12.532\n"
     ]
    },
    {
     "name": "stderr",
     "output_type": "stream",
     "text": [
      "Warning message:\n",
      "\"contrasts dropped from factor C(game_type)\"\n"
     ]
    },
    {
     "data": {
      "text/markdown": [
       "### Marginal Means"
      ]
     },
     "metadata": {},
     "output_type": "display_data"
    },
    {
     "data": {
      "text/markdown": [
       "------------------"
      ]
     },
     "metadata": {},
     "output_type": "display_data"
    },
    {
     "data": {
      "text/markdown": [
       "## creativity"
      ]
     },
     "metadata": {},
     "output_type": "display_data"
    },
    {
     "data": {
      "text/markdown": [
       "### Mixed Effects Model"
      ]
     },
     "metadata": {},
     "output_type": "display_data"
    },
    {
     "name": "stdout",
     "output_type": "stream",
     "text": [
      " contrast                   estimate    SE  df z.ratio p.value\n",
      " matched - unmatched_top_30    0.363 0.353 Inf   1.029  0.5587\n",
      " real - unmatched_top_30      -0.250 0.338 Inf  -0.740  0.7399\n",
      " real - matched               -0.613 0.355 Inf  -1.725  0.1957\n",
      "\n",
      "P value adjustment: tukey method for comparing a family of 3 estimates \n",
      "Cumulative Link Mixed Model fitted with the Laplace approximation\n",
      "\n",
      "formula: C(creativity) ~ 1 + normalized_fitness + C(game_type) + (1 |      participant_id) + (1 | full_game_id)\n",
      "data:    analysis_df\n",
      "\n",
      " link  threshold nobs logLik   AIC     niter     max.grad cond.H \n",
      " logit flexible  892  -1076.82 2171.64 648(3603) 5.40e-04 7.1e+01\n",
      "\n",
      "Random effects:\n",
      " Groups         Name        Variance Std.Dev.\n",
      " participant_id (Intercept) 2.9318   1.7122  \n",
      " full_game_id   (Intercept) 0.8534   0.9238  \n",
      "Number of groups:  participant_id 100,  full_game_id 90 \n",
      "\n",
      "Coefficients:\n",
      "                    Estimate Std. Error z value Pr(>|z|)   \n",
      "normalized_fitness   -0.4863     0.1524  -3.191  0.00142 **\n",
      "C(game_type)matched   0.5507     0.3101   1.776  0.07580 . \n",
      "C(game_type)real      0.4377     0.2983   1.467  0.14226   \n",
      "---\n",
      "Signif. codes:  0 '***' 0.001 '**' 0.01 '*' 0.05 '.' 0.1 ' ' 1\n",
      "\n",
      "Threshold coefficients:\n",
      "    Estimate Std. Error z value\n",
      "1|2  -1.2302     0.2820  -4.363\n",
      "2|3   1.0634     0.2822   3.769\n",
      "3|4   3.3883     0.3107  10.905\n",
      "4|5   5.5510     0.3920  14.162\n"
     ]
    },
    {
     "name": "stderr",
     "output_type": "stream",
     "text": [
      "Warning message:\n",
      "\"contrasts dropped from factor C(game_type)\"\n"
     ]
    },
    {
     "data": {
      "text/markdown": [
       "### Marginal Means"
      ]
     },
     "metadata": {},
     "output_type": "display_data"
    },
    {
     "data": {
      "text/markdown": [
       "------------------"
      ]
     },
     "metadata": {},
     "output_type": "display_data"
    },
    {
     "data": {
      "text/markdown": [
       "## human_likeness"
      ]
     },
     "metadata": {},
     "output_type": "display_data"
    },
    {
     "data": {
      "text/markdown": [
       "### Mixed Effects Model"
      ]
     },
     "metadata": {},
     "output_type": "display_data"
    },
    {
     "name": "stdout",
     "output_type": "stream",
     "text": [
      " contrast                   estimate    SE  df z.ratio p.value\n",
      " matched - unmatched_top_30    0.551 0.310 Inf   1.776  0.1778\n",
      " real - unmatched_top_30       0.438 0.298 Inf   1.467  0.3067\n",
      " real - matched               -0.113 0.310 Inf  -0.364  0.9296\n",
      "\n",
      "P value adjustment: tukey method for comparing a family of 3 estimates \n",
      "Cumulative Link Mixed Model fitted with the Laplace approximation\n",
      "\n",
      "formula: C(human_likeness) ~ 1 + normalized_fitness + C(game_type) + (1 |      participant_id) + (1 | full_game_id)\n",
      "data:    analysis_df\n",
      "\n",
      " link  threshold nobs logLik   AIC     niter     max.grad cond.H \n",
      " logit flexible  892  -1215.28 2448.56 661(3291) 1.89e-03 7.5e+01\n",
      "\n",
      "Random effects:\n",
      " Groups         Name        Variance Std.Dev.\n",
      " participant_id (Intercept) 1.951    1.3967  \n",
      " full_game_id   (Intercept) 0.544    0.7375  \n",
      "Number of groups:  participant_id 100,  full_game_id 90 \n",
      "\n",
      "Coefficients:\n",
      "                    Estimate Std. Error z value Pr(>|z|)    \n",
      "normalized_fitness    0.5698     0.1320   4.316 1.59e-05 ***\n",
      "C(game_type)matched   0.8368     0.2676   3.128  0.00176 ** \n",
      "C(game_type)real      1.4455     0.2583   5.597 2.18e-08 ***\n",
      "---\n",
      "Signif. codes:  0 '***' 0.001 '**' 0.01 '*' 0.05 '.' 0.1 ' ' 1\n",
      "\n",
      "Threshold coefficients:\n",
      "    Estimate Std. Error z value\n",
      "1|2  -0.8014     0.2376  -3.373\n",
      "2|3   0.9950     0.2399   4.148\n",
      "3|4   2.6782     0.2566  10.439\n",
      "4|5   4.6799     0.2990  15.654\n"
     ]
    },
    {
     "name": "stderr",
     "output_type": "stream",
     "text": [
      "Warning message:\n",
      "\"contrasts dropped from factor C(game_type)\"\n"
     ]
    },
    {
     "data": {
      "text/markdown": [
       "### Marginal Means"
      ]
     },
     "metadata": {},
     "output_type": "display_data"
    },
    {
     "data": {
      "text/markdown": [
       "------------------"
      ]
     },
     "metadata": {},
     "output_type": "display_data"
    },
    {
     "name": "stdout",
     "output_type": "stream",
     "text": [
      " contrast                   estimate    SE  df z.ratio p.value\n",
      " matched - unmatched_top_30    0.837 0.268 Inf   3.128  0.0050\n",
      " real - unmatched_top_30       1.446 0.258 Inf   5.597  <.0001\n",
      " real - matched                0.609 0.265 Inf   2.299  0.0559\n",
      "\n",
      "P value adjustment: tukey method for comparing a family of 3 estimates \n"
     ]
    }
   ],
   "source": [
    "analysis_df <- data.table::copy(filtered_df)\n",
    "model_list <- list()\n",
    "\n",
    "for (attr in ATTRIBUTES) {\n",
    "    display_markdown(glue(\"## {attr}\"))\n",
    "\n",
    "    # Create formula with current attribute\n",
    "    attr.mm <- clmm(\n",
    "        formula = as.formula(glue(\"C({attr}) ~ 1  + normalized_fitness + C(game_type) + (1 | participant_id) + (1 | full_game_id)\")),\n",
    "        data = analysis_df, Hess = TRUE\n",
    "    )\n",
    "\n",
    "    model_list[[attr]] <- attr.mm\n",
    "\n",
    "    display_markdown(\"### Mixed Effects Model\")    \n",
    "    s <- capture.output(\n",
    "        print(summary(attr.mm))\n",
    "    )\n",
    "    display_text(s)\n",
    "\n",
    "    attr.marginal_means = emmeans(attr.mm, \"game_type\")\n",
    "    display_markdown(\"### Marginal Means\")\n",
    "    s <- capture.output(\n",
    "        print(pairs(attr.marginal_means, reverse = TRUE))\n",
    "    )\n",
    "    display_text(s)\n",
    "\n",
    "    display_markdown(\"------------------\")\n",
    "}\n"
   ]
  },
  {
   "cell_type": "markdown",
   "metadata": {},
   "source": [
    "# Mixed Effect Model Summary Table\n",
    "This code generates Table SI-3, from which Table ED-2 is derived."
   ]
  },
  {
   "cell_type": "code",
   "execution_count": 17,
   "metadata": {
    "vscode": {
     "languageId": "r"
    }
   },
   "outputs": [
    {
     "data": {
      "text/html": [
       "<table class=\"dataframe\">\n",
       "<caption>A data.frame: 7 x 10</caption>\n",
       "<thead>\n",
       "\t<tr><th scope=col>attribute</th><th scope=col>fit_est</th><th scope=col>fit_z</th><th scope=col>fit_p</th><th scope=col>matched_est</th><th scope=col>matched_z</th><th scope=col>matched_p</th><th scope=col>real_est</th><th scope=col>real_z</th><th scope=col>real_p</th></tr>\n",
       "\t<tr><th scope=col>&lt;chr&gt;</th><th scope=col>&lt;glue&gt;</th><th scope=col>&lt;chr&gt;</th><th scope=col>&lt;chr&gt;</th><th scope=col>&lt;glue&gt;</th><th scope=col>&lt;chr&gt;</th><th scope=col>&lt;chr&gt;</th><th scope=col>&lt;glue&gt;</th><th scope=col>&lt;chr&gt;</th><th scope=col>&lt;chr&gt;</th></tr>\n",
       "</thead>\n",
       "<tbody>\n",
       "\t<tr><td>confident     </td><td>$0.846 \\pm 0.150$ </td><td>5.625 </td><td>$P = \\num{1.858e-08}^{ *** }$</td><td>$0.525 \\pm 0.297$</td><td>1.766</td><td>$P = 0.077$                  </td><td>$1.151 \\pm 0.285$ </td><td>4.036 </td><td>$P = \\num{5.431e-05}^{ *** }$</td></tr>\n",
       "\t<tr><td>fun_play      </td><td>$0.396 \\pm 0.135$ </td><td>2.936 </td><td>$P = \\num{3.322e-03}^{ ** }$ </td><td>$0.629 \\pm 0.274$</td><td>2.298</td><td>$P = 0.022^{ * }$            </td><td>$1.059 \\pm 0.263$ </td><td>4.021 </td><td>$P = \\num{5.797e-05}^{ *** }$</td></tr>\n",
       "\t<tr><td>fun_watch     </td><td>$0.191 \\pm 0.130$ </td><td>1.469 </td><td>$P = 0.142$                   </td><td>$0.641 \\pm 0.266$</td><td>2.414</td><td>$P = 0.016^{ * }$            </td><td>$0.912 \\pm 0.257$ </td><td>3.547 </td><td>$P = \\num{3.901e-04}^{ *** }$</td></tr>\n",
       "\t<tr><td>capability    </td><td>$-0.189 \\pm 0.087$</td><td>-2.163</td><td>$P = 0.031^{ * }$             </td><td>$0.349 \\pm 0.170$</td><td>2.048</td><td>$P = 0.041^{ * }$            </td><td>$0.232 \\pm 0.161$ </td><td>1.441 </td><td>$P = 0.150$                   </td></tr>\n",
       "\t<tr><td>goldilocks    </td><td>$-0.588 \\pm 0.171$</td><td>-3.443</td><td>$P = \\num{5.763e-04}^{ *** }$</td><td>$0.363 \\pm 0.353$</td><td>1.029</td><td>$P = 0.304$                  </td><td>$-0.250 \\pm 0.338$</td><td>-0.740</td><td>$P = 0.460$                   </td></tr>\n",
       "\t<tr><td>creativity    </td><td>$-0.486 \\pm 0.152$</td><td>-3.191</td><td>$P = \\num{1.416e-03}^{ ** }$ </td><td>$0.551 \\pm 0.310$</td><td>1.776</td><td>$P = 0.076$                  </td><td>$0.438 \\pm 0.298$ </td><td>1.467 </td><td>$P = 0.142$                   </td></tr>\n",
       "\t<tr><td>human_likeness</td><td>$0.570 \\pm 0.132$ </td><td>4.316 </td><td>$P = \\num{1.589e-05}^{ *** }$</td><td>$0.837 \\pm 0.268$</td><td>3.128</td><td>$P = \\num{1.762e-03}^{ ** }$</td><td>$1.446 \\pm 0.258$ </td><td>5.597 </td><td>$P = \\num{2.179e-08}^{ *** }$</td></tr>\n",
       "</tbody>\n",
       "</table>\n"
      ],
      "text/latex": [
       "A data.frame: 7 x 10\n",
       "\\begin{tabular}{llllllllll}\n",
       " attribute & fit\\_est & fit\\_z & fit\\_p & matched\\_est & matched\\_z & matched\\_p & real\\_est & real\\_z & real\\_p\\\\\n",
       " <chr> & <glue> & <chr> & <chr> & <glue> & <chr> & <chr> & <glue> & <chr> & <chr>\\\\\n",
       "\\hline\n",
       "\t confident      & \\$0.846 \\textbackslash{}pm 0.150\\$  & 5.625  & \\$P = \\textbackslash{}num\\{1.858e-08\\}\\textasciicircum{}\\{ *** \\}\\$ & \\$0.525 \\textbackslash{}pm 0.297\\$ & 1.766 & \\$P = 0.077\\$                   & \\$1.151 \\textbackslash{}pm 0.285\\$  & 4.036  & \\$P = \\textbackslash{}num\\{5.431e-05\\}\\textasciicircum{}\\{ *** \\}\\$\\\\\n",
       "\t fun\\_play       & \\$0.396 \\textbackslash{}pm 0.135\\$  & 2.936  & \\$P = \\textbackslash{}num\\{3.322e-03\\}\\textasciicircum{}\\{ ** \\}\\$  & \\$0.629 \\textbackslash{}pm 0.274\\$ & 2.298 & \\$P = 0.022\\textasciicircum{}\\{ * \\}\\$             & \\$1.059 \\textbackslash{}pm 0.263\\$  & 4.021  & \\$P = \\textbackslash{}num\\{5.797e-05\\}\\textasciicircum{}\\{ *** \\}\\$\\\\\n",
       "\t fun\\_watch      & \\$0.191 \\textbackslash{}pm 0.130\\$  & 1.469  & \\$P = 0.142\\$                    & \\$0.641 \\textbackslash{}pm 0.266\\$ & 2.414 & \\$P = 0.016\\textasciicircum{}\\{ * \\}\\$             & \\$0.912 \\textbackslash{}pm 0.257\\$  & 3.547  & \\$P = \\textbackslash{}num\\{3.901e-04\\}\\textasciicircum{}\\{ *** \\}\\$\\\\\n",
       "\t capability     & \\$-0.189 \\textbackslash{}pm 0.087\\$ & -2.163 & \\$P = 0.031\\textasciicircum{}\\{ * \\}\\$              & \\$0.349 \\textbackslash{}pm 0.170\\$ & 2.048 & \\$P = 0.041\\textasciicircum{}\\{ * \\}\\$             & \\$0.232 \\textbackslash{}pm 0.161\\$  & 1.441  & \\$P = 0.150\\$                   \\\\\n",
       "\t goldilocks     & \\$-0.588 \\textbackslash{}pm 0.171\\$ & -3.443 & \\$P = \\textbackslash{}num\\{5.763e-04\\}\\textasciicircum{}\\{ *** \\}\\$ & \\$0.363 \\textbackslash{}pm 0.353\\$ & 1.029 & \\$P = 0.304\\$                   & \\$-0.250 \\textbackslash{}pm 0.338\\$ & -0.740 & \\$P = 0.460\\$                   \\\\\n",
       "\t creativity     & \\$-0.486 \\textbackslash{}pm 0.152\\$ & -3.191 & \\$P = \\textbackslash{}num\\{1.416e-03\\}\\textasciicircum{}\\{ ** \\}\\$  & \\$0.551 \\textbackslash{}pm 0.310\\$ & 1.776 & \\$P = 0.076\\$                   & \\$0.438 \\textbackslash{}pm 0.298\\$  & 1.467  & \\$P = 0.142\\$                   \\\\\n",
       "\t human\\_likeness & \\$0.570 \\textbackslash{}pm 0.132\\$  & 4.316  & \\$P = \\textbackslash{}num\\{1.589e-05\\}\\textasciicircum{}\\{ *** \\}\\$ & \\$0.837 \\textbackslash{}pm 0.268\\$ & 3.128 & \\$P = \\textbackslash{}num\\{1.762e-03\\}\\textasciicircum{}\\{ ** \\}\\$ & \\$1.446 \\textbackslash{}pm 0.258\\$  & 5.597  & \\$P = \\textbackslash{}num\\{2.179e-08\\}\\textasciicircum{}\\{ *** \\}\\$\\\\\n",
       "\\end{tabular}\n"
      ],
      "text/markdown": [
       "\n",
       "A data.frame: 7 x 10\n",
       "\n",
       "| attribute &lt;chr&gt; | fit_est &lt;glue&gt; | fit_z &lt;chr&gt; | fit_p &lt;chr&gt; | matched_est &lt;glue&gt; | matched_z &lt;chr&gt; | matched_p &lt;chr&gt; | real_est &lt;glue&gt; | real_z &lt;chr&gt; | real_p &lt;chr&gt; |\n",
       "|---|---|---|---|---|---|---|---|---|---|\n",
       "| confident      | $0.846 \\pm 0.150$  | 5.625  | $P = \\num{1.858e-08}^{ *** }$ | $0.525 \\pm 0.297$ | 1.766 | $P = 0.077$                   | $1.151 \\pm 0.285$  | 4.036  | $P = \\num{5.431e-05}^{ *** }$ |\n",
       "| fun_play       | $0.396 \\pm 0.135$  | 2.936  | $P = \\num{3.322e-03}^{ ** }$  | $0.629 \\pm 0.274$ | 2.298 | $P = 0.022^{ * }$             | $1.059 \\pm 0.263$  | 4.021  | $P = \\num{5.797e-05}^{ *** }$ |\n",
       "| fun_watch      | $0.191 \\pm 0.130$  | 1.469  | $P = 0.142$                    | $0.641 \\pm 0.266$ | 2.414 | $P = 0.016^{ * }$             | $0.912 \\pm 0.257$  | 3.547  | $P = \\num{3.901e-04}^{ *** }$ |\n",
       "| capability     | $-0.189 \\pm 0.087$ | -2.163 | $P = 0.031^{ * }$              | $0.349 \\pm 0.170$ | 2.048 | $P = 0.041^{ * }$             | $0.232 \\pm 0.161$  | 1.441  | $P = 0.150$                    |\n",
       "| goldilocks     | $-0.588 \\pm 0.171$ | -3.443 | $P = \\num{5.763e-04}^{ *** }$ | $0.363 \\pm 0.353$ | 1.029 | $P = 0.304$                   | $-0.250 \\pm 0.338$ | -0.740 | $P = 0.460$                    |\n",
       "| creativity     | $-0.486 \\pm 0.152$ | -3.191 | $P = \\num{1.416e-03}^{ ** }$  | $0.551 \\pm 0.310$ | 1.776 | $P = 0.076$                   | $0.438 \\pm 0.298$  | 1.467  | $P = 0.142$                    |\n",
       "| human_likeness | $0.570 \\pm 0.132$  | 4.316  | $P = \\num{1.589e-05}^{ *** }$ | $0.837 \\pm 0.268$ | 3.128 | $P = \\num{1.762e-03}^{ ** }$ | $1.446 \\pm 0.258$  | 5.597  | $P = \\num{2.179e-08}^{ *** }$ |\n",
       "\n"
      ],
      "text/plain": [
       "  attribute      fit_est             fit_z  fit_p                          matched_est        matched_z matched_p                     real_est           \n",
       "1 confident      $0.846 \\\\pm 0.150$  5.625  $P = \\\\num{1.858e-08}^{ *** }$ $0.525 \\\\pm 0.297$ 1.766     $P = 0.077$                   $1.151 \\\\pm 0.285$ \n",
       "2 fun_play       $0.396 \\\\pm 0.135$  2.936  $P = \\\\num{3.322e-03}^{ ** }$  $0.629 \\\\pm 0.274$ 2.298     $P = 0.022^{ * }$             $1.059 \\\\pm 0.263$ \n",
       "3 fun_watch      $0.191 \\\\pm 0.130$  1.469  $P = 0.142$                    $0.641 \\\\pm 0.266$ 2.414     $P = 0.016^{ * }$             $0.912 \\\\pm 0.257$ \n",
       "4 capability     $-0.189 \\\\pm 0.087$ -2.163 $P = 0.031^{ * }$              $0.349 \\\\pm 0.170$ 2.048     $P = 0.041^{ * }$             $0.232 \\\\pm 0.161$ \n",
       "5 goldilocks     $-0.588 \\\\pm 0.171$ -3.443 $P = \\\\num{5.763e-04}^{ *** }$ $0.363 \\\\pm 0.353$ 1.029     $P = 0.304$                   $-0.250 \\\\pm 0.338$\n",
       "6 creativity     $-0.486 \\\\pm 0.152$ -3.191 $P = \\\\num{1.416e-03}^{ ** }$  $0.551 \\\\pm 0.310$ 1.776     $P = 0.076$                   $0.438 \\\\pm 0.298$ \n",
       "7 human_likeness $0.570 \\\\pm 0.132$  4.316  $P = \\\\num{1.589e-05}^{ *** }$ $0.837 \\\\pm 0.268$ 3.128     $P = \\\\num{1.762e-03}^{ ** }$ $1.446 \\\\pm 0.258$ \n",
       "  real_z real_p                        \n",
       "1 4.036  $P = \\\\num{5.431e-05}^{ *** }$\n",
       "2 4.021  $P = \\\\num{5.797e-05}^{ *** }$\n",
       "3 3.547  $P = \\\\num{3.901e-04}^{ *** }$\n",
       "4 1.441  $P = 0.150$                   \n",
       "5 -0.740 $P = 0.460$                   \n",
       "6 1.467  $P = 0.142$                   \n",
       "7 5.597  $P = \\\\num{2.179e-08}^{ *** }$"
      ]
     },
     "metadata": {},
     "output_type": "display_data"
    }
   ],
   "source": [
    "truncate_p_values <- FALSE\n",
    "sig_figs <- 3\n",
    "\n",
    "results_table <- data.frame(\n",
    "    attribute = character(), \n",
    "    aic = numeric(),\n",
    "    fit_est = numeric(),\n",
    "    fit_z = numeric(),\n",
    "    fit_p = numeric(),\n",
    "    matched_est = numeric(),\n",
    "    matched_z = numeric(),\n",
    "    matched_p = numeric(),\n",
    "    real_est = numeric(),\n",
    "    real_z = numeric(),\n",
    "    real_p = numeric()\n",
    ")\n",
    "\n",
    "\n",
    "for (name in names(model_list)) {\n",
    "    model <- model_list[[name]]\n",
    "    s <- summary(model)\n",
    "    table_row <- data.frame(\n",
    "        attribute = name,\n",
    "        fit_est = glue(\"${formatC(s$coefficients[5, 1], digits = sig_figs, format = 'f')} \\\\pm {formatC(s$coefficients[5, 2], digits = sig_figs, format = 'f')}$\"),  # s$coefficients[5, 1],\n",
    "        fit_z = formatC(s$coefficients[5, 3], digits = sig_figs, format = 'f'),\n",
    "        fit_p = s$coefficients[5, 4],\n",
    "        matched_est = glue(\"${formatC(s$coefficients[6, 1], digits = sig_figs, format = 'f')} \\\\pm {formatC(s$coefficients[6, 2], digits = sig_figs, format = 'f')}$\"),\n",
    "        matched_z = formatC(s$coefficients[6, 3], digits = sig_figs, format = 'f'),\n",
    "        matched_p = s$coefficients[6, 4],\n",
    "        real_est = glue(\"${formatC(s$coefficients[7, 1], digits = sig_figs, format = 'f')} \\\\pm {formatC(s$coefficients[7, 2], digits = sig_figs, format = 'f')}$\"),\n",
    "        real_z = formatC(s$coefficients[7, 3], digits = sig_figs, format = 'f'),\n",
    "        real_p = s$coefficients[7, 4]\n",
    "    )\n",
    "    results_table <- rbind(results_table, table_row)\n",
    "}\n",
    "\n",
    "\n",
    "\n",
    "# Iterate through the columns\n",
    "for (col in c(\"fit_p\", \"matched_p\", \"real_p\")) {\n",
    "    # Iterate through the cells\n",
    "    for (i in seq_len(nrow(results_table))) {\n",
    "        # Get the current value\n",
    "        value <- as.double(results_table[i, col])\n",
    "        # Modify the value based on the conditions\n",
    "        if (truncate_p_values && value < 10^-5) {\n",
    "            results_table[i, col] <- \"$P < \\\\num{1e-5}^{ *** }$\"\n",
    "        } else if (truncate_p_values && value < 10^-3) {\n",
    "            results_table[i, col] <- \"$P < \\\\num{1e-3}^{ *** }$\"\n",
    "        } else {\n",
    "            use_scientific <- value < 0.01\n",
    "            v <- formatC(value, digits = sig_figs, format = ifelse(use_scientific, \"e\", \"f\"))\n",
    "            if (use_scientific) {\n",
    "                v <- glue(\"\\\\num{{{v}}}\")\n",
    "            }\n",
    "            stars <- ifelse(value < 0.001, \"***\",\n",
    "                ifelse(value < 0.01, \"**\", ifelse(value < 0.05, \"*\", \"\"))\n",
    "            )\n",
    "            if (stars != \"\") {\n",
    "                results_table[i, col] <- glue(\"$P = {v}^{{ {stars} }}$\")\n",
    "            } else {\n",
    "                results_table[i, col] <- glue(\"$P = {v}$\")\n",
    "            }\n",
    "        }\n",
    "    }\n",
    "}\n",
    "\n",
    "\n",
    "results_table"
   ]
  },
  {
   "cell_type": "code",
   "execution_count": 18,
   "metadata": {
    "vscode": {
     "languageId": "r"
    }
   },
   "outputs": [
    {
     "name": "stdout",
     "output_type": "stream",
     "text": [
      "% latex table generated in R 4.3.2 by xtable 1.8-4 package\n",
      "% Wed May 29 14:22:27 2024\n",
      "\\begin{tabular}{llllllllll}\n",
      "  \\hline\n",
      "attribute & fit_est & fit_z & fit_p & matched_est & matched_z & matched_p & real_est & real_z & real_p \\\\ \n",
      "  \\hline\n",
      "confident & $0.846 \\pm 0.150$ & 5.625 & $P = \\num{1.858e-08}^{ *** }$ & $0.525 \\pm 0.297$ & 1.766 & $P = 0.077$ & $1.151 \\pm 0.285$ & 4.036 & $P = \\num{5.431e-05}^{ *** }$ \\\\ \n",
      "  fun_play & $0.396 \\pm 0.135$ & 2.936 & $P = \\num{3.322e-03}^{ ** }$ & $0.629 \\pm 0.274$ & 2.298 & $P = 0.022^{ * }$ & $1.059 \\pm 0.263$ & 4.021 & $P = \\num{5.797e-05}^{ *** }$ \\\\ \n",
      "  fun_watch & $0.191 \\pm 0.130$ & 1.469 & $P = 0.142$ & $0.641 \\pm 0.266$ & 2.414 & $P = 0.016^{ * }$ & $0.912 \\pm 0.257$ & 3.547 & $P = \\num{3.901e-04}^{ *** }$ \\\\ \n",
      "  capability & $-0.189 \\pm 0.087$ & -2.163 & $P = 0.031^{ * }$ & $0.349 \\pm 0.170$ & 2.048 & $P = 0.041^{ * }$ & $0.232 \\pm 0.161$ & 1.441 & $P = 0.150$ \\\\ \n",
      "  goldilocks & $-0.588 \\pm 0.171$ & -3.443 & $P = \\num{5.763e-04}^{ *** }$ & $0.363 \\pm 0.353$ & 1.029 & $P = 0.304$ & $-0.250 \\pm 0.338$ & -0.740 & $P = 0.460$ \\\\ \n",
      "  creativity & $-0.486 \\pm 0.152$ & -3.191 & $P = \\num{1.416e-03}^{ ** }$ & $0.551 \\pm 0.310$ & 1.776 & $P = 0.076$ & $0.438 \\pm 0.298$ & 1.467 & $P = 0.142$ \\\\ \n",
      "  human_likeness & $0.570 \\pm 0.132$ & 4.316 & $P = \\num{1.589e-05}^{ *** }$ & $0.837 \\pm 0.268$ & 3.128 & $P = \\num{1.762e-03}^{ ** }$ & $1.446 \\pm 0.258$ & 5.597 & $P = \\num{2.179e-08}^{ *** }$ \\\\ \n",
      "   \\hline\n",
      "\\end{tabular}\n"
     ]
    }
   ],
   "source": [
    "# Convert the dataframe to an xtable object\n",
    "table_latex <- xtable(results_table, digits = 3)\n",
    "\n",
    "# Print the LaTeX table\n",
    "print(table_latex, include.rownames = FALSE, floating = FALSE, sanitize.text.function = identity, digits=3)\n"
   ]
  },
  {
   "cell_type": "markdown",
   "metadata": {
    "vscode": {
     "languageId": "r"
    }
   },
   "source": [
    "# Marginal Means Table\n",
    "This code generates Table SI-4, from which Table 1 is derived"
   ]
  },
  {
   "cell_type": "code",
   "execution_count": 20,
   "metadata": {
    "vscode": {
     "languageId": "r"
    }
   },
   "outputs": [
    {
     "name": "stderr",
     "output_type": "stream",
     "text": [
      "Warning message:\n",
      "\"contrasts dropped from factor C(game_type)\"\n"
     ]
    },
    {
     "name": "stderr",
     "output_type": "stream",
     "text": [
      "Warning message:\n",
      "\"contrasts dropped from factor C(game_type)\"\n",
      "Warning message:\n",
      "\"contrasts dropped from factor C(game_type)\"\n",
      "Warning message:\n",
      "\"contrasts dropped from factor C(game_type)\"\n",
      "Warning message:\n",
      "\"contrasts dropped from factor C(game_type)\"\n",
      "Warning message:\n",
      "\"contrasts dropped from factor C(game_type)\"\n",
      "Warning message:\n",
      "\"contrasts dropped from factor C(game_type)\"\n"
     ]
    },
    {
     "data": {
      "text/html": [
       "<table class=\"dataframe\">\n",
       "<caption>A data.frame: 7 x 10</caption>\n",
       "<thead>\n",
       "\t<tr><th scope=col>attribute</th><th scope=col>r_m_est</th><th scope=col>r_m_z</th><th scope=col>r_m_p</th><th scope=col>r_u_est</th><th scope=col>r_u_z</th><th scope=col>r_u_p</th><th scope=col>m_u_est</th><th scope=col>m_u_z</th><th scope=col>m_u_p</th></tr>\n",
       "\t<tr><th scope=col>&lt;chr&gt;</th><th scope=col>&lt;glue&gt;</th><th scope=col>&lt;chr&gt;</th><th scope=col>&lt;chr&gt;</th><th scope=col>&lt;glue&gt;</th><th scope=col>&lt;chr&gt;</th><th scope=col>&lt;chr&gt;</th><th scope=col>&lt;glue&gt;</th><th scope=col>&lt;chr&gt;</th><th scope=col>&lt;chr&gt;</th></tr>\n",
       "</thead>\n",
       "<tbody>\n",
       "\t<tr><td>confident     </td><td>$0.626 \\pm 0.305$ </td><td>2.055 </td><td>$P = 0.099$</td><td>$1.151 \\pm 0.285$ </td><td>4.036 </td><td>$P = \\num{1.606e-04}^{ *** }$</td><td>$0.525 \\pm 0.297$</td><td>1.766</td><td>$P = 0.181$                  </td></tr>\n",
       "\t<tr><td>fun_play      </td><td>$0.430 \\pm 0.273$ </td><td>1.577 </td><td>$P = 0.256$</td><td>$1.059 \\pm 0.263$ </td><td>4.021 </td><td>$P = \\num{1.713e-04}^{ *** }$</td><td>$0.629 \\pm 0.274$</td><td>2.298</td><td>$P = 0.056$                  </td></tr>\n",
       "\t<tr><td>fun_watch     </td><td>$0.271 \\pm 0.264$ </td><td>1.025 </td><td>$P = 0.561$</td><td>$0.912 \\pm 0.257$ </td><td>3.547 </td><td>$P = \\num{1.135e-03}^{ ** }$ </td><td>$0.641 \\pm 0.266$</td><td>2.414</td><td>$P = 0.042^{ * }$            </td></tr>\n",
       "\t<tr><td>capability    </td><td>$-0.117 \\pm 0.167$</td><td>-0.701</td><td>$P = 0.763$</td><td>$0.232 \\pm 0.161$ </td><td>1.441 </td><td>$P = 0.320$                   </td><td>$0.349 \\pm 0.170$</td><td>2.048</td><td>$P = 0.101$                  </td></tr>\n",
       "\t<tr><td>goldilocks    </td><td>$-0.613 \\pm 0.355$</td><td>-1.725</td><td>$P = 0.196$</td><td>$-0.250 \\pm 0.338$</td><td>-0.740</td><td>$P = 0.740$                   </td><td>$0.363 \\pm 0.353$</td><td>1.029</td><td>$P = 0.559$                  </td></tr>\n",
       "\t<tr><td>creativity    </td><td>$-0.113 \\pm 0.310$</td><td>-0.364</td><td>$P = 0.930$</td><td>$0.438 \\pm 0.298$ </td><td>1.467 </td><td>$P = 0.307$                   </td><td>$0.551 \\pm 0.310$</td><td>1.776</td><td>$P = 0.178$                  </td></tr>\n",
       "\t<tr><td>human_likeness</td><td>$0.609 \\pm 0.265$ </td><td>2.299 </td><td>$P = 0.056$</td><td>$1.446 \\pm 0.258$ </td><td>5.597 </td><td>$P = \\num{6.531e-08}^{ *** }$</td><td>$0.837 \\pm 0.268$</td><td>3.128</td><td>$P = \\num{5.013e-03}^{ ** }$</td></tr>\n",
       "</tbody>\n",
       "</table>\n"
      ],
      "text/latex": [
       "A data.frame: 7 x 10\n",
       "\\begin{tabular}{llllllllll}\n",
       " attribute & r\\_m\\_est & r\\_m\\_z & r\\_m\\_p & r\\_u\\_est & r\\_u\\_z & r\\_u\\_p & m\\_u\\_est & m\\_u\\_z & m\\_u\\_p\\\\\n",
       " <chr> & <glue> & <chr> & <chr> & <glue> & <chr> & <chr> & <glue> & <chr> & <chr>\\\\\n",
       "\\hline\n",
       "\t confident      & \\$0.626 \\textbackslash{}pm 0.305\\$  & 2.055  & \\$P = 0.099\\$ & \\$1.151 \\textbackslash{}pm 0.285\\$  & 4.036  & \\$P = \\textbackslash{}num\\{1.606e-04\\}\\textasciicircum{}\\{ *** \\}\\$ & \\$0.525 \\textbackslash{}pm 0.297\\$ & 1.766 & \\$P = 0.181\\$                  \\\\\n",
       "\t fun\\_play       & \\$0.430 \\textbackslash{}pm 0.273\\$  & 1.577  & \\$P = 0.256\\$ & \\$1.059 \\textbackslash{}pm 0.263\\$  & 4.021  & \\$P = \\textbackslash{}num\\{1.713e-04\\}\\textasciicircum{}\\{ *** \\}\\$ & \\$0.629 \\textbackslash{}pm 0.274\\$ & 2.298 & \\$P = 0.056\\$                  \\\\\n",
       "\t fun\\_watch      & \\$0.271 \\textbackslash{}pm 0.264\\$  & 1.025  & \\$P = 0.561\\$ & \\$0.912 \\textbackslash{}pm 0.257\\$  & 3.547  & \\$P = \\textbackslash{}num\\{1.135e-03\\}\\textasciicircum{}\\{ ** \\}\\$  & \\$0.641 \\textbackslash{}pm 0.266\\$ & 2.414 & \\$P = 0.042\\textasciicircum{}\\{ * \\}\\$            \\\\\n",
       "\t capability     & \\$-0.117 \\textbackslash{}pm 0.167\\$ & -0.701 & \\$P = 0.763\\$ & \\$0.232 \\textbackslash{}pm 0.161\\$  & 1.441  & \\$P = 0.320\\$                    & \\$0.349 \\textbackslash{}pm 0.170\\$ & 2.048 & \\$P = 0.101\\$                  \\\\\n",
       "\t goldilocks     & \\$-0.613 \\textbackslash{}pm 0.355\\$ & -1.725 & \\$P = 0.196\\$ & \\$-0.250 \\textbackslash{}pm 0.338\\$ & -0.740 & \\$P = 0.740\\$                    & \\$0.363 \\textbackslash{}pm 0.353\\$ & 1.029 & \\$P = 0.559\\$                  \\\\\n",
       "\t creativity     & \\$-0.113 \\textbackslash{}pm 0.310\\$ & -0.364 & \\$P = 0.930\\$ & \\$0.438 \\textbackslash{}pm 0.298\\$  & 1.467  & \\$P = 0.307\\$                    & \\$0.551 \\textbackslash{}pm 0.310\\$ & 1.776 & \\$P = 0.178\\$                  \\\\\n",
       "\t human\\_likeness & \\$0.609 \\textbackslash{}pm 0.265\\$  & 2.299  & \\$P = 0.056\\$ & \\$1.446 \\textbackslash{}pm 0.258\\$  & 5.597  & \\$P = \\textbackslash{}num\\{6.531e-08\\}\\textasciicircum{}\\{ *** \\}\\$ & \\$0.837 \\textbackslash{}pm 0.268\\$ & 3.128 & \\$P = \\textbackslash{}num\\{5.013e-03\\}\\textasciicircum{}\\{ ** \\}\\$\\\\\n",
       "\\end{tabular}\n"
      ],
      "text/markdown": [
       "\n",
       "A data.frame: 7 x 10\n",
       "\n",
       "| attribute &lt;chr&gt; | r_m_est &lt;glue&gt; | r_m_z &lt;chr&gt; | r_m_p &lt;chr&gt; | r_u_est &lt;glue&gt; | r_u_z &lt;chr&gt; | r_u_p &lt;chr&gt; | m_u_est &lt;glue&gt; | m_u_z &lt;chr&gt; | m_u_p &lt;chr&gt; |\n",
       "|---|---|---|---|---|---|---|---|---|---|\n",
       "| confident      | $0.626 \\pm 0.305$  | 2.055  | $P = 0.099$ | $1.151 \\pm 0.285$  | 4.036  | $P = \\num{1.606e-04}^{ *** }$ | $0.525 \\pm 0.297$ | 1.766 | $P = 0.181$                   |\n",
       "| fun_play       | $0.430 \\pm 0.273$  | 1.577  | $P = 0.256$ | $1.059 \\pm 0.263$  | 4.021  | $P = \\num{1.713e-04}^{ *** }$ | $0.629 \\pm 0.274$ | 2.298 | $P = 0.056$                   |\n",
       "| fun_watch      | $0.271 \\pm 0.264$  | 1.025  | $P = 0.561$ | $0.912 \\pm 0.257$  | 3.547  | $P = \\num{1.135e-03}^{ ** }$  | $0.641 \\pm 0.266$ | 2.414 | $P = 0.042^{ * }$             |\n",
       "| capability     | $-0.117 \\pm 0.167$ | -0.701 | $P = 0.763$ | $0.232 \\pm 0.161$  | 1.441  | $P = 0.320$                    | $0.349 \\pm 0.170$ | 2.048 | $P = 0.101$                   |\n",
       "| goldilocks     | $-0.613 \\pm 0.355$ | -1.725 | $P = 0.196$ | $-0.250 \\pm 0.338$ | -0.740 | $P = 0.740$                    | $0.363 \\pm 0.353$ | 1.029 | $P = 0.559$                   |\n",
       "| creativity     | $-0.113 \\pm 0.310$ | -0.364 | $P = 0.930$ | $0.438 \\pm 0.298$  | 1.467  | $P = 0.307$                    | $0.551 \\pm 0.310$ | 1.776 | $P = 0.178$                   |\n",
       "| human_likeness | $0.609 \\pm 0.265$  | 2.299  | $P = 0.056$ | $1.446 \\pm 0.258$  | 5.597  | $P = \\num{6.531e-08}^{ *** }$ | $0.837 \\pm 0.268$ | 3.128 | $P = \\num{5.013e-03}^{ ** }$ |\n",
       "\n"
      ],
      "text/plain": [
       "  attribute      r_m_est             r_m_z  r_m_p       r_u_est             r_u_z  r_u_p                          m_u_est            m_u_z\n",
       "1 confident      $0.626 \\\\pm 0.305$  2.055  $P = 0.099$ $1.151 \\\\pm 0.285$  4.036  $P = \\\\num{1.606e-04}^{ *** }$ $0.525 \\\\pm 0.297$ 1.766\n",
       "2 fun_play       $0.430 \\\\pm 0.273$  1.577  $P = 0.256$ $1.059 \\\\pm 0.263$  4.021  $P = \\\\num{1.713e-04}^{ *** }$ $0.629 \\\\pm 0.274$ 2.298\n",
       "3 fun_watch      $0.271 \\\\pm 0.264$  1.025  $P = 0.561$ $0.912 \\\\pm 0.257$  3.547  $P = \\\\num{1.135e-03}^{ ** }$  $0.641 \\\\pm 0.266$ 2.414\n",
       "4 capability     $-0.117 \\\\pm 0.167$ -0.701 $P = 0.763$ $0.232 \\\\pm 0.161$  1.441  $P = 0.320$                    $0.349 \\\\pm 0.170$ 2.048\n",
       "5 goldilocks     $-0.613 \\\\pm 0.355$ -1.725 $P = 0.196$ $-0.250 \\\\pm 0.338$ -0.740 $P = 0.740$                    $0.363 \\\\pm 0.353$ 1.029\n",
       "6 creativity     $-0.113 \\\\pm 0.310$ -0.364 $P = 0.930$ $0.438 \\\\pm 0.298$  1.467  $P = 0.307$                    $0.551 \\\\pm 0.310$ 1.776\n",
       "7 human_likeness $0.609 \\\\pm 0.265$  2.299  $P = 0.056$ $1.446 \\\\pm 0.258$  5.597  $P = \\\\num{6.531e-08}^{ *** }$ $0.837 \\\\pm 0.268$ 3.128\n",
       "  m_u_p                        \n",
       "1 $P = 0.181$                  \n",
       "2 $P = 0.056$                  \n",
       "3 $P = 0.042^{ * }$            \n",
       "4 $P = 0.101$                  \n",
       "5 $P = 0.559$                  \n",
       "6 $P = 0.178$                  \n",
       "7 $P = \\\\num{5.013e-03}^{ ** }$"
      ]
     },
     "metadata": {},
     "output_type": "display_data"
    }
   ],
   "source": [
    "truncate_p_values <- FALSE\n",
    "sig_figs <- 3\n",
    "\n",
    "mm_results_table <- data.frame(\n",
    "    attribute = character(),\n",
    "    r_m_est = numeric(),\n",
    "    r_m_z = numeric(),\n",
    "    r_m_p = numeric(),\n",
    "    r_u_est = numeric(),\n",
    "    r_u_z = numeric(),\n",
    "    r_u_p = numeric(),\n",
    "    m_u_est = numeric(),\n",
    "    m_u_z = numeric(),\n",
    "    m_u_p = numeric()\n",
    "    \n",
    ")\n",
    "\n",
    "\n",
    "for (name in names(model_list)) {\n",
    "    model <- model_list[[name]]\n",
    "    em <- emmeans(model, \"game_type\")\n",
    "    p <- pairs(em, reverse = TRUE)\n",
    "    s <- summary(p)\n",
    "    table_row <- data.frame(\n",
    "        attribute = name,\n",
    "        r_m_est = glue(\"${formatC(s[3, 2], digits = sig_figs, format = 'f')} \\\\pm {formatC(s[3, 3], digits = sig_figs, format = 'f')}$\"),\n",
    "        r_m_z = formatC(s[3, 5], digits = sig_figs, format = \"f\"),\n",
    "        r_m_p = s[3, 6],\n",
    "        r_u_est = glue(\"${formatC(s[2, 2], digits = sig_figs, format = 'f')} \\\\pm {formatC(s[2, 3], digits = sig_figs, format = 'f')}$\"),\n",
    "        r_u_z = formatC(s[2, 5], digits = sig_figs, format = \"f\"),\n",
    "        r_u_p = s[2, 6],\n",
    "        m_u_est = glue(\"${formatC(s[1, 2], digits = sig_figs, format = 'f')} \\\\pm {formatC(s[1, 3], digits = sig_figs, format = 'f')}$\"),\n",
    "        m_u_z = formatC(s[1, 5], digits = sig_figs, format = \"f\"),\n",
    "        m_u_p = s[1, 6]\n",
    "    )\n",
    "    mm_results_table <- rbind(mm_results_table, table_row)\n",
    "}\n",
    "\n",
    "\n",
    "# Iterate through the columns\n",
    "for (col in c(\"m_u_p\", \"r_u_p\", \"r_m_p\")) {\n",
    "    # Iterate through the cells\n",
    "    for (i in seq_len(nrow(mm_results_table))) {\n",
    "        # Get the current value\n",
    "        value <- as.double(mm_results_table[i, col])\n",
    "\n",
    "        # Modify the value based on the conditions\n",
    "        if (truncate_p_values && value < 10^-5) {\n",
    "            mm_results_table[i, col] <- \"$P < \\\\num{1e-5}^{ *** }$\"\n",
    "        } else if (truncate_p_values && value < 10^-3) {\n",
    "            mm_results_table[i, col] <- \"$P < \\\\num{1e-3}^{ *** }$\"\n",
    "        } else {\n",
    "            use_scientific <- value < 0.01\n",
    "            v <- formatC(value, digits = sig_figs, format = ifelse(use_scientific, \"e\", \"f\"))\n",
    "            if (use_scientific) {\n",
    "                v <- glue(\"\\\\num{{{v}}}\")\n",
    "            }\n",
    "            stars <- ifelse(value < 0.001, \"***\",\n",
    "                ifelse(value < 0.01, \"**\", ifelse(value < 0.05, \"*\", \"\"))\n",
    "            )\n",
    "            if (stars != \"\") {\n",
    "                mm_results_table[i, col] <- glue(\"$P = {v}^{{ {stars} }}$\")\n",
    "            } else {\n",
    "                mm_results_table[i, col] <- glue(\"$P = {v}$\")\n",
    "            }\n",
    "        }\n",
    "    }\n",
    "}\n",
    "\n",
    "mm_results_table"
   ]
  },
  {
   "cell_type": "code",
   "execution_count": 21,
   "metadata": {
    "vscode": {
     "languageId": "r"
    }
   },
   "outputs": [
    {
     "name": "stdout",
     "output_type": "stream",
     "text": [
      "% latex table generated in R 4.3.2 by xtable 1.8-4 package\n",
      "% Wed May 29 14:23:36 2024\n",
      "\\begin{tabular}{llllllllll}\n",
      "  \\hline\n",
      "attribute & r_m_est & r_m_z & r_m_p & r_u_est & r_u_z & r_u_p & m_u_est & m_u_z & m_u_p \\\\ \n",
      "  \\hline\n",
      "confident & $0.626 \\pm 0.305$ & 2.055 & $P = 0.099$ & $1.151 \\pm 0.285$ & 4.036 & $P = \\num{1.606e-04}^{ *** }$ & $0.525 \\pm 0.297$ & 1.766 & $P = 0.181$ \\\\ \n",
      "  fun_play & $0.430 \\pm 0.273$ & 1.577 & $P = 0.256$ & $1.059 \\pm 0.263$ & 4.021 & $P = \\num{1.713e-04}^{ *** }$ & $0.629 \\pm 0.274$ & 2.298 & $P = 0.056$ \\\\ \n",
      "  fun_watch & $0.271 \\pm 0.264$ & 1.025 & $P = 0.561$ & $0.912 \\pm 0.257$ & 3.547 & $P = \\num{1.135e-03}^{ ** }$ & $0.641 \\pm 0.266$ & 2.414 & $P = 0.042^{ * }$ \\\\ \n",
      "  capability & $-0.117 \\pm 0.167$ & -0.701 & $P = 0.763$ & $0.232 \\pm 0.161$ & 1.441 & $P = 0.320$ & $0.349 \\pm 0.170$ & 2.048 & $P = 0.101$ \\\\ \n",
      "  goldilocks & $-0.613 \\pm 0.355$ & -1.725 & $P = 0.196$ & $-0.250 \\pm 0.338$ & -0.740 & $P = 0.740$ & $0.363 \\pm 0.353$ & 1.029 & $P = 0.559$ \\\\ \n",
      "  creativity & $-0.113 \\pm 0.310$ & -0.364 & $P = 0.930$ & $0.438 \\pm 0.298$ & 1.467 & $P = 0.307$ & $0.551 \\pm 0.310$ & 1.776 & $P = 0.178$ \\\\ \n",
      "  human_likeness & $0.609 \\pm 0.265$ & 2.299 & $P = 0.056$ & $1.446 \\pm 0.258$ & 5.597 & $P = \\num{6.531e-08}^{ *** }$ & $0.837 \\pm 0.268$ & 3.128 & $P = \\num{5.013e-03}^{ ** }$ \\\\ \n",
      "   \\hline\n",
      "\\end{tabular}\n"
     ]
    }
   ],
   "source": [
    "\n",
    "# Convert the dataframe to an xtable object\n",
    "table_latex <- xtable(mm_results_table, digits = 3)\n",
    "\n",
    "# Print the LaTeX table\n",
    "print(table_latex, include.rownames = FALSE, floating = FALSE, sanitize.text.function = identity, digits=3)\n",
    "\n"
   ]
  },
  {
   "cell_type": "markdown",
   "metadata": {},
   "source": [
    "## Print the keys with the largest negative random effects for human likeness"
   ]
  },
  {
   "cell_type": "code",
   "execution_count": null,
   "metadata": {
    "vscode": {
     "languageId": "r"
    }
   },
   "outputs": [],
   "source": [
    "game_human_likeness_ranef_df <- ranef(model_list$human_likeness)$full_game_id\n",
    "game_human_likeness_ranef_df$index <- rownames(game_human_likeness_ranef_df)\n",
    "\n",
    "# Split the index column into two separate columns\n",
    "game_human_likeness_ranef_df <- game_human_likeness_ranef_df %>%\n",
    "    separate(index, into = c(\"key\", \"group\"), sep = \"-\") %>%\n",
    "    mutate(group = as.factor(group)) %>%\n",
    "    rename(effect = `(Intercept)`)\n",
    "\n",
    "n <- 4\n",
    "largest_negative_random_effects <- game_human_likeness_ranef_df %>%\n",
    "    group_by(group) %>%\n",
    "    top_n(-n, effect) %>%\n",
    "    arrange(group, effect)\n",
    "\n",
    "write.csv(largest_negative_random_effects, file = \"./human_evals_data/human_likeness_largest_negative_ranef.csv\", row.names = FALSE)\n",
    "\n",
    "largest_negative_random_effects"
   ]
  },
  {
   "cell_type": "markdown",
   "metadata": {},
   "source": [
    "# Repeat the mixed effect model, but only with unmatched games\n",
    "\n",
    "Reporeted in Table SI-5 under Supplementary Information I.6"
   ]
  },
  {
   "cell_type": "code",
   "execution_count": 5,
   "metadata": {
    "vscode": {
     "languageId": "r"
    }
   },
   "outputs": [
    {
     "data": {
      "text/markdown": [
       "## confident"
      ]
     },
     "metadata": {},
     "output_type": "display_data"
    },
    {
     "data": {
      "text/markdown": [
       "### Mixed Effects Model"
      ]
     },
     "metadata": {},
     "output_type": "display_data"
    },
    {
     "data": {
      "text/markdown": [
       "------------------"
      ]
     },
     "metadata": {},
     "output_type": "display_data"
    },
    {
     "data": {
      "text/markdown": [
       "## fun_play"
      ]
     },
     "metadata": {},
     "output_type": "display_data"
    },
    {
     "data": {
      "text/markdown": [
       "### Mixed Effects Model"
      ]
     },
     "metadata": {},
     "output_type": "display_data"
    },
    {
     "data": {
      "text/markdown": [
       "------------------"
      ]
     },
     "metadata": {},
     "output_type": "display_data"
    },
    {
     "data": {
      "text/markdown": [
       "## fun_watch"
      ]
     },
     "metadata": {},
     "output_type": "display_data"
    },
    {
     "data": {
      "text/markdown": [
       "### Mixed Effects Model"
      ]
     },
     "metadata": {},
     "output_type": "display_data"
    },
    {
     "data": {
      "text/markdown": [
       "------------------"
      ]
     },
     "metadata": {},
     "output_type": "display_data"
    },
    {
     "data": {
      "text/markdown": [
       "## capability"
      ]
     },
     "metadata": {},
     "output_type": "display_data"
    },
    {
     "data": {
      "text/markdown": [
       "### Mixed Effects Model"
      ]
     },
     "metadata": {},
     "output_type": "display_data"
    },
    {
     "data": {
      "text/markdown": [
       "------------------"
      ]
     },
     "metadata": {},
     "output_type": "display_data"
    },
    {
     "data": {
      "text/markdown": [
       "## goldilocks"
      ]
     },
     "metadata": {},
     "output_type": "display_data"
    },
    {
     "data": {
      "text/markdown": [
       "### Mixed Effects Model"
      ]
     },
     "metadata": {},
     "output_type": "display_data"
    },
    {
     "data": {
      "text/markdown": [
       "------------------"
      ]
     },
     "metadata": {},
     "output_type": "display_data"
    },
    {
     "data": {
      "text/markdown": [
       "## creativity"
      ]
     },
     "metadata": {},
     "output_type": "display_data"
    },
    {
     "data": {
      "text/markdown": [
       "### Mixed Effects Model"
      ]
     },
     "metadata": {},
     "output_type": "display_data"
    },
    {
     "data": {
      "text/markdown": [
       "------------------"
      ]
     },
     "metadata": {},
     "output_type": "display_data"
    },
    {
     "data": {
      "text/markdown": [
       "## human_likeness"
      ]
     },
     "metadata": {},
     "output_type": "display_data"
    },
    {
     "data": {
      "text/markdown": [
       "### Mixed Effects Model"
      ]
     },
     "metadata": {},
     "output_type": "display_data"
    },
    {
     "data": {
      "text/markdown": [
       "------------------"
      ]
     },
     "metadata": {},
     "output_type": "display_data"
    },
    {
     "name": "stdout",
     "output_type": "stream",
     "text": [
      "Cumulative Link Mixed Model fitted with the Laplace approximation\n",
      "\n",
      "formula: C(confident) ~ 1 + normalized_fitness + (1 | participant_id) +      (1 | full_game_id)\n",
      "data:    unmatched_only_analysis_df\n",
      "\n",
      " link  threshold nobs logLik  AIC    niter     max.grad cond.H \n",
      " logit flexible  293  -440.08 894.15 376(1156) 2.44e-04 1.9e+01\n",
      "\n",
      "Random effects:\n",
      " Groups         Name        Variance Std.Dev.\n",
      " participant_id (Intercept) 1.391    1.179   \n",
      " full_game_id   (Intercept) 0.126    0.355   \n",
      "Number of groups:  participant_id 100,  full_game_id 30 \n",
      "\n",
      "Coefficients:\n",
      "                   Estimate Std. Error z value Pr(>|z|)    \n",
      "normalized_fitness   0.7237     0.2035   3.556 0.000377 ***\n",
      "---\n",
      "Signif. codes:  0 '***' 0.001 '**' 0.01 '*' 0.05 '.' 0.1 ' ' 1\n",
      "\n",
      "Threshold coefficients:\n",
      "    Estimate Std. Error z value\n",
      "1|2  -2.9261     0.3036  -9.638\n",
      "2|3  -1.2157     0.2167  -5.610\n",
      "3|4   0.1280     0.1947   0.657\n",
      "4|5   1.5574     0.2245   6.936\n",
      "Cumulative Link Mixed Model fitted with the Laplace approximation\n",
      "\n",
      "formula: C(fun_play) ~ 1 + normalized_fitness + (1 | participant_id) +      (1 | full_game_id)\n",
      "data:    unmatched_only_analysis_df\n",
      "\n",
      " link  threshold nobs logLik  AIC    niter     max.grad cond.H \n",
      " logit flexible  293  -369.51 753.01 354(1775) 1.47e-04 3.1e+01\n",
      "\n",
      "Random effects:\n",
      " Groups         Name        Variance Std.Dev.\n",
      " participant_id (Intercept) 3.1755   1.7820  \n",
      " full_game_id   (Intercept) 0.4206   0.6485  \n",
      "Number of groups:  participant_id 100,  full_game_id 30 \n",
      "\n",
      "Coefficients:\n",
      "                   Estimate Std. Error z value Pr(>|z|)  \n",
      "normalized_fitness   0.6158     0.2607   2.362   0.0182 *\n",
      "---\n",
      "Signif. codes:  0 '***' 0.001 '**' 0.01 '*' 0.05 '.' 0.1 ' ' 1\n",
      "\n",
      "Threshold coefficients:\n",
      "    Estimate Std. Error z value\n",
      "1|2  -0.9106     0.2752  -3.309\n",
      "2|3   1.3164     0.2869   4.588\n",
      "3|4   3.3149     0.3893   8.515\n",
      "4|5   5.0764     0.5835   8.700\n",
      "Cumulative Link Mixed Model fitted with the Laplace approximation\n",
      "\n",
      "formula: C(fun_watch) ~ 1 + normalized_fitness + (1 | participant_id) +      (1 | full_game_id)\n",
      "data:    unmatched_only_analysis_df\n",
      "\n",
      " link  threshold nobs logLik  AIC    niter     max.grad cond.H \n",
      " logit flexible  293  -355.22 724.45 317(2180) 1.51e-04 3.6e+01\n",
      "\n",
      "Random effects:\n",
      " Groups         Name        Variance Std.Dev.\n",
      " participant_id (Intercept) 5.3753   2.318   \n",
      " full_game_id   (Intercept) 0.8464   0.920   \n",
      "Number of groups:  participant_id 100,  full_game_id 30 \n",
      "\n",
      "Coefficients:\n",
      "                   Estimate Std. Error z value Pr(>|z|)\n",
      "normalized_fitness   0.3817     0.3211   1.189    0.235\n",
      "\n",
      "Threshold coefficients:\n",
      "    Estimate Std. Error z value\n",
      "1|2  -0.7679     0.3429  -2.239\n",
      "2|3   1.6995     0.3716   4.573\n",
      "3|4   3.8251     0.4812   7.950\n",
      "4|5   6.0918     0.7020   8.678\n",
      "Cumulative Link Mixed Model fitted with the Laplace approximation\n",
      "\n",
      "formula: C(capability) ~ 1 + normalized_fitness + (1 | participant_id) +      (1 | full_game_id)\n",
      "data:    unmatched_only_analysis_df\n",
      "\n",
      " link  threshold nobs logLik  AIC    niter     max.grad cond.H \n",
      " logit flexible  293  -425.98 865.96 294(1674) 1.71e-04 1.7e+01\n",
      "\n",
      "Random effects:\n",
      " Groups         Name        Variance Std.Dev.\n",
      " participant_id (Intercept) 3.136    1.771   \n",
      " full_game_id   (Intercept) 0.000    0.000   \n",
      "Number of groups:  participant_id 100,  full_game_id 30 \n",
      "\n",
      "Coefficients:\n",
      "                   Estimate Std. Error z value Pr(>|z|)\n",
      "normalized_fitness  -0.2333     0.1793  -1.301    0.193\n",
      "\n",
      "Threshold coefficients:\n",
      "    Estimate Std. Error z value\n",
      "1|2  -2.7901     0.3084  -9.048\n",
      "2|3  -0.3446     0.2338  -1.474\n",
      "3|4   1.0696     0.2422   4.416\n",
      "4|5   2.7227     0.3105   8.768\n",
      "Cumulative Link Mixed Model fitted with the Laplace approximation\n",
      "\n",
      "formula: C(goldilocks) ~ 1 + normalized_fitness + (1 | participant_id) +      (1 | full_game_id)\n",
      "data:    unmatched_only_analysis_df\n",
      "\n",
      " link  threshold nobs logLik  AIC    niter     max.grad cond.H \n",
      " logit flexible  293  -394.85 803.70 342(1359) 2.05e-04 2.1e+01\n",
      "\n",
      "Random effects:\n",
      " Groups         Name        Variance Std.Dev.\n",
      " participant_id (Intercept) 2.059    1.435   \n",
      " full_game_id   (Intercept) 1.098    1.048   \n",
      "Number of groups:  participant_id 100,  full_game_id 30 \n",
      "\n",
      "Coefficients:\n",
      "                   Estimate Std. Error z value Pr(>|z|)  \n",
      "normalized_fitness  -0.6739     0.3324  -2.027   0.0426 *\n",
      "---\n",
      "Signif. codes:  0 '***' 0.001 '**' 0.01 '*' 0.05 '.' 0.1 ' ' 1\n",
      "\n",
      "Threshold coefficients:\n",
      "    Estimate Std. Error z value\n",
      "1|2  -2.3423     0.3390  -6.909\n",
      "2|3  -0.6480     0.2923  -2.217\n",
      "3|4   2.1557     0.3311   6.511\n",
      "4|5   3.9153     0.4341   9.019\n",
      "Cumulative Link Mixed Model fitted with the Laplace approximation\n",
      "\n",
      "formula: C(creativity) ~ 1 + normalized_fitness + (1 | participant_id) +      (1 | full_game_id)\n",
      "data:    unmatched_only_analysis_df\n",
      "\n",
      " link  threshold nobs logLik  AIC    niter     max.grad cond.H \n",
      " logit flexible  293  -377.11 768.23 315(1572) 3.15e-05 3.1e+01\n",
      "\n",
      "Random effects:\n",
      " Groups         Name        Variance Std.Dev.\n",
      " participant_id (Intercept) 3.5219   1.8767  \n",
      " full_game_id   (Intercept) 0.9276   0.9631  \n",
      "Number of groups:  participant_id 100,  full_game_id 30 \n",
      "\n",
      "Coefficients:\n",
      "                   Estimate Std. Error z value Pr(>|z|)\n",
      "normalized_fitness  -0.2144     0.3200   -0.67    0.503\n",
      "\n",
      "Threshold coefficients:\n",
      "    Estimate Std. Error z value\n",
      "1|2  -1.1238     0.3189  -3.524\n",
      "2|3   1.1058     0.3206   3.449\n",
      "3|4   3.2676     0.4120   7.932\n",
      "4|5   5.1208     0.5694   8.993\n",
      "Cumulative Link Mixed Model fitted with the Laplace approximation\n",
      "\n",
      "formula: C(human_likeness) ~ 1 + normalized_fitness + (1 | participant_id) +      (1 | full_game_id)\n",
      "data:    unmatched_only_analysis_df\n",
      "\n",
      " link  threshold nobs logLik  AIC    niter     max.grad cond.H \n",
      " logit flexible  293  -372.29 758.58 360(1750) 2.04e-05 2.7e+01\n",
      "\n",
      "Random effects:\n",
      " Groups         Name        Variance Std.Dev.\n",
      " participant_id (Intercept) 3.9654   1.9913  \n",
      " full_game_id   (Intercept) 0.2127   0.4611  \n",
      "Number of groups:  participant_id 100,  full_game_id 30 \n",
      "\n",
      "Coefficients:\n",
      "                   Estimate Std. Error z value Pr(>|z|)    \n",
      "normalized_fitness   0.7978     0.2392   3.335 0.000852 ***\n",
      "---\n",
      "Signif. codes:  0 '***' 0.001 '**' 0.01 '*' 0.05 '.' 0.1 ' ' 1\n",
      "\n",
      "Threshold coefficients:\n",
      "    Estimate Std. Error z value\n",
      "1|2  -0.8956     0.2813  -3.183\n",
      "2|3   1.1941     0.2901   4.116\n",
      "3|4   2.9978     0.3703   8.096\n",
      "4|5   4.8926     0.5191   9.426\n"
     ]
    }
   ],
   "source": [
    "unmatched_only_analysis_df <- data.table::copy(filtered_df)\n",
    "unmatched_only_analysis_df <- unmatched_only_analysis_df[unmatched_only_analysis_df$matched == FALSE, ]\n",
    "\n",
    "# analysis_df$game_type <- factor(analysis_df$game_type, levels = c('real', 'matched', 'unmatched', 'unmatched_top_30'))\n",
    "# analysis_df <- filtered_df[filtered_df$game_type != 'unmatched_top_30', ]\n",
    "# analysis_df$game_type <- droplevels(analysis_df$game_type)\n",
    "unmatched_only_model_list <- list()\n",
    "\n",
    "for (attr in ATTRIBUTES) {\n",
    "    display_markdown(glue(\"## {attr}\"))\n",
    "\n",
    "    # Create formula with current attribute\n",
    "    # attr.lmer <- lmer(formula = as.formula(glue(\"{attr} ~ 1 + game_type + normalized_fitness + (1 | participant_id) + (game_type | full_game_id)\")), data = filtered_df)\n",
    "\n",
    "    attr.mm <- clmm(\n",
    "        formula = as.formula(glue(\"C({attr}) ~ 1  + normalized_fitness + (1 | participant_id) + (1 | full_game_id)\")),\n",
    "        data = unmatched_only_analysis_df, Hess = TRUE\n",
    "    )\n",
    "\n",
    "    unmatched_only_model_list[[attr]] <- attr.mm\n",
    "\n",
    "    display_markdown(\"### Mixed Effects Model\")    \n",
    "    \n",
    "    s <- capture.output(\n",
    "        print(summary(attr.mm))\n",
    "    )\n",
    "    display_text(s)\n",
    "\n",
    "    # plotModelPredictions(attr.mm);\n",
    "    # ggplot()\n",
    "\n",
    "    display_markdown(\"------------------\")\n",
    "}\n"
   ]
  },
  {
   "cell_type": "code",
   "execution_count": 9,
   "metadata": {
    "vscode": {
     "languageId": "r"
    }
   },
   "outputs": [
    {
     "data": {
      "text/html": [
       "<table class=\"dataframe\">\n",
       "<caption>A data.frame: 7 x 4</caption>\n",
       "<thead>\n",
       "\t<tr><th scope=col>attribute</th><th scope=col>fit_est</th><th scope=col>fit_z</th><th scope=col>fit_p</th></tr>\n",
       "\t<tr><th scope=col>&lt;chr&gt;</th><th scope=col>&lt;glue&gt;</th><th scope=col>&lt;chr&gt;</th><th scope=col>&lt;chr&gt;</th></tr>\n",
       "</thead>\n",
       "<tbody>\n",
       "\t<tr><td>confident     </td><td>$0.724 \\pm 0.204$ </td><td>3.556 </td><td>$P = \\num{3.771e-04}^{ *** }$</td></tr>\n",
       "\t<tr><td>fun_play      </td><td>$0.616 \\pm 0.261$ </td><td>2.362 </td><td>$P = 0.018^{ * }$             </td></tr>\n",
       "\t<tr><td>fun_watch     </td><td>$0.382 \\pm 0.321$ </td><td>1.189 </td><td>$P = 0.235$                   </td></tr>\n",
       "\t<tr><td>capability    </td><td>$-0.233 \\pm 0.179$</td><td>-1.301</td><td>$P = 0.193$                   </td></tr>\n",
       "\t<tr><td>goldilocks    </td><td>$-0.674 \\pm 0.332$</td><td>-2.027</td><td>$P = 0.043^{ * }$             </td></tr>\n",
       "\t<tr><td>creativity    </td><td>$-0.214 \\pm 0.320$</td><td>-0.670</td><td>$P = 0.503$                   </td></tr>\n",
       "\t<tr><td>human_likeness</td><td>$0.798 \\pm 0.239$ </td><td>3.335 </td><td>$P = \\num{8.518e-04}^{ *** }$</td></tr>\n",
       "</tbody>\n",
       "</table>\n"
      ],
      "text/latex": [
       "A data.frame: 7 x 4\n",
       "\\begin{tabular}{llll}\n",
       " attribute & fit\\_est & fit\\_z & fit\\_p\\\\\n",
       " <chr> & <glue> & <chr> & <chr>\\\\\n",
       "\\hline\n",
       "\t confident      & \\$0.724 \\textbackslash{}pm 0.204\\$  & 3.556  & \\$P = \\textbackslash{}num\\{3.771e-04\\}\\textasciicircum{}\\{ *** \\}\\$\\\\\n",
       "\t fun\\_play       & \\$0.616 \\textbackslash{}pm 0.261\\$  & 2.362  & \\$P = 0.018\\textasciicircum{}\\{ * \\}\\$             \\\\\n",
       "\t fun\\_watch      & \\$0.382 \\textbackslash{}pm 0.321\\$  & 1.189  & \\$P = 0.235\\$                   \\\\\n",
       "\t capability     & \\$-0.233 \\textbackslash{}pm 0.179\\$ & -1.301 & \\$P = 0.193\\$                   \\\\\n",
       "\t goldilocks     & \\$-0.674 \\textbackslash{}pm 0.332\\$ & -2.027 & \\$P = 0.043\\textasciicircum{}\\{ * \\}\\$             \\\\\n",
       "\t creativity     & \\$-0.214 \\textbackslash{}pm 0.320\\$ & -0.670 & \\$P = 0.503\\$                   \\\\\n",
       "\t human\\_likeness & \\$0.798 \\textbackslash{}pm 0.239\\$  & 3.335  & \\$P = \\textbackslash{}num\\{8.518e-04\\}\\textasciicircum{}\\{ *** \\}\\$\\\\\n",
       "\\end{tabular}\n"
      ],
      "text/markdown": [
       "\n",
       "A data.frame: 7 x 4\n",
       "\n",
       "| attribute &lt;chr&gt; | fit_est &lt;glue&gt; | fit_z &lt;chr&gt; | fit_p &lt;chr&gt; |\n",
       "|---|---|---|---|\n",
       "| confident      | $0.724 \\pm 0.204$  | 3.556  | $P = \\num{3.771e-04}^{ *** }$ |\n",
       "| fun_play       | $0.616 \\pm 0.261$  | 2.362  | $P = 0.018^{ * }$              |\n",
       "| fun_watch      | $0.382 \\pm 0.321$  | 1.189  | $P = 0.235$                    |\n",
       "| capability     | $-0.233 \\pm 0.179$ | -1.301 | $P = 0.193$                    |\n",
       "| goldilocks     | $-0.674 \\pm 0.332$ | -2.027 | $P = 0.043^{ * }$              |\n",
       "| creativity     | $-0.214 \\pm 0.320$ | -0.670 | $P = 0.503$                    |\n",
       "| human_likeness | $0.798 \\pm 0.239$  | 3.335  | $P = \\num{8.518e-04}^{ *** }$ |\n",
       "\n"
      ],
      "text/plain": [
       "  attribute      fit_est             fit_z  fit_p                         \n",
       "1 confident      $0.724 \\\\pm 0.204$  3.556  $P = \\\\num{3.771e-04}^{ *** }$\n",
       "2 fun_play       $0.616 \\\\pm 0.261$  2.362  $P = 0.018^{ * }$             \n",
       "3 fun_watch      $0.382 \\\\pm 0.321$  1.189  $P = 0.235$                   \n",
       "4 capability     $-0.233 \\\\pm 0.179$ -1.301 $P = 0.193$                   \n",
       "5 goldilocks     $-0.674 \\\\pm 0.332$ -2.027 $P = 0.043^{ * }$             \n",
       "6 creativity     $-0.214 \\\\pm 0.320$ -0.670 $P = 0.503$                   \n",
       "7 human_likeness $0.798 \\\\pm 0.239$  3.335  $P = \\\\num{8.518e-04}^{ *** }$"
      ]
     },
     "metadata": {},
     "output_type": "display_data"
    }
   ],
   "source": [
    "truncate_p_values <- FALSE\n",
    "sig_figs <- 3\n",
    "\n",
    "unmatched_only_results_table <- data.frame(\n",
    "    attribute = character(), \n",
    "    aic = numeric(),\n",
    "    fit_est = numeric(),\n",
    "    fit_z = numeric(),\n",
    "    fit_p = numeric()\n",
    ")\n",
    "\n",
    "\n",
    "for (name in names(unmatched_only_model_list)) {\n",
    "    model <- unmatched_only_model_list[[name]]\n",
    "    s <- summary(model)\n",
    "    table_row <- data.frame(\n",
    "        attribute = name,\n",
    "        fit_est = glue(\"${formatC(s$coefficients[5, 1], digits = sig_figs, format = 'f')} \\\\pm {formatC(s$coefficients[5, 2], digits = sig_figs, format = 'f')}$\"),  # s$coefficients[5, 1],\n",
    "        fit_z = formatC(s$coefficients[5, 3], digits = sig_figs, format = 'f'),\n",
    "        fit_p = s$coefficients[5, 4]\n",
    "    )\n",
    "    unmatched_only_results_table <- rbind(unmatched_only_results_table, table_row)\n",
    "}\n",
    "\n",
    "\n",
    "\n",
    "# Iterate through the columns\n",
    "\n",
    "col <- \"fit_p\"\n",
    "# Iterate through the cells\n",
    "for (i in seq_len(nrow(unmatched_only_results_table))) {\n",
    "    # Get the current value\n",
    "    value <- as.double(unmatched_only_results_table[i, col])\n",
    "    # Modify the value based on the conditions\n",
    "    if (truncate_p_values && value < 10^-5) {\n",
    "        unmatched_only_results_table[i, col] <- \"$P < \\\\num{1e-5}^{ *** }$\"\n",
    "    } else if (truncate_p_values && value < 10^-3) {\n",
    "        unmatched_only_results_table[i, col] <- \"$P < \\\\num{1e-3}^{ *** }$\"\n",
    "    } else {\n",
    "        use_scientific <- value < 0.01\n",
    "        v <- formatC(value, digits = sig_figs, format = ifelse(use_scientific, \"e\", \"f\"))\n",
    "        if (use_scientific) {\n",
    "            v <- glue(\"\\\\num{{{v}}}\")\n",
    "        }\n",
    "        stars <- ifelse(value < 0.001, \"***\",\n",
    "            ifelse(value < 0.01, \"**\", ifelse(value < 0.05, \"*\", \"\"))\n",
    "        )\n",
    "        if (stars != \"\") {\n",
    "            unmatched_only_results_table[i, col] <- glue(\"$P = {v}^{{ {stars} }}$\")\n",
    "        } else {\n",
    "            unmatched_only_results_table[i, col] <- glue(\"$P = {v}$\")\n",
    "        }\n",
    "    }\n",
    "}\n",
    "\n",
    "\n",
    "\n",
    "unmatched_only_results_table"
   ]
  },
  {
   "cell_type": "code",
   "execution_count": 10,
   "metadata": {
    "vscode": {
     "languageId": "r"
    }
   },
   "outputs": [
    {
     "name": "stdout",
     "output_type": "stream",
     "text": [
      "% latex table generated in R 4.3.2 by xtable 1.8-4 package\n",
      "% Thu Aug 22 11:19:09 2024\n",
      "\\begin{tabular}{llll}\n",
      "  \\hline\n",
      "attribute & fit_est & fit_z & fit_p \\\\ \n",
      "  \\hline\n",
      "confident & $0.724 \\pm 0.204$ & 3.556 & $P = \\num{3.771e-04}^{ *** }$ \\\\ \n",
      "  fun_play & $0.616 \\pm 0.261$ & 2.362 & $P = 0.018^{ * }$ \\\\ \n",
      "  fun_watch & $0.382 \\pm 0.321$ & 1.189 & $P = 0.235$ \\\\ \n",
      "  capability & $-0.233 \\pm 0.179$ & -1.301 & $P = 0.193$ \\\\ \n",
      "  goldilocks & $-0.674 \\pm 0.332$ & -2.027 & $P = 0.043^{ * }$ \\\\ \n",
      "  creativity & $-0.214 \\pm 0.320$ & -0.670 & $P = 0.503$ \\\\ \n",
      "  human_likeness & $0.798 \\pm 0.239$ & 3.335 & $P = \\num{8.518e-04}^{ *** }$ \\\\ \n",
      "   \\hline\n",
      "\\end{tabular}\n"
     ]
    }
   ],
   "source": [
    "# Convert the dataframe to an xtable object\n",
    "unmatched_only_table_latex <- xtable(unmatched_only_results_table, digits = 3)\n",
    "\n",
    "# Print the LaTeX table\n",
    "print(unmatched_only_table_latex, include.rownames = FALSE, floating = FALSE, sanitize.text.function = identity, digits=3)\n"
   ]
  },
  {
   "cell_type": "markdown",
   "metadata": {},
   "source": [
    "## Repeat the mixed effects model without the fitness fixed effect\n",
    "To verify that the (null) difference we're observing are not driven by the inclusion of the fitness effect"
   ]
  },
  {
   "cell_type": "code",
   "execution_count": 32,
   "metadata": {
    "vscode": {
     "languageId": "r"
    }
   },
   "outputs": [
    {
     "data": {
      "text/markdown": [
       "## confident"
      ]
     },
     "metadata": {},
     "output_type": "display_data"
    },
    {
     "data": {
      "text/markdown": [
       "### Mixed Effects Model"
      ]
     },
     "metadata": {},
     "output_type": "display_data"
    },
    {
     "data": {
      "text/plain": [
       "Cumulative Link Mixed Model fitted with the Laplace approximation\n",
       "\n",
       "formula: C(confident) ~ 1 + C(game_type) + (1 | participant_id) + (1 |      full_game_id)\n",
       "data:    game_type_only_analysis_df\n",
       "\n",
       " link  threshold nobs logLik   AIC     niter     max.grad cond.H \n",
       " logit flexible  892  -1196.80 2409.59 533(2623) 5.38e-04 1.2e+02\n",
       "\n",
       "Random effects:\n",
       " Groups         Name        Variance Std.Dev.\n",
       " participant_id (Intercept) 1.272    1.128   \n",
       " full_game_id   (Intercept) 1.204    1.097   \n",
       "Number of groups:  participant_id 100,  full_game_id 90 \n",
       "\n",
       "Coefficients:\n",
       "                    Estimate Std. Error z value Pr(>|z|)   \n",
       "C(game_type)matched   1.0424     0.3327   3.133  0.00173 **\n",
       "C(game_type)real      1.0415     0.3319   3.138  0.00170 **\n",
       "---\n",
       "Signif. codes:  0 '***' 0.001 '**' 0.01 '*' 0.05 '.' 0.1 ' ' 1\n",
       "\n",
       "Threshold coefficients:\n",
       "    Estimate Std. Error z value\n",
       "1|2 -2.82110    0.29479  -9.570\n",
       "2|3 -1.38372    0.27033  -5.119\n",
       "3|4 -0.02803    0.26491  -0.106\n",
       "4|5  1.57209    0.27118   5.797"
      ]
     },
     "metadata": {},
     "output_type": "display_data"
    },
    {
     "name": "stderr",
     "output_type": "stream",
     "text": [
      "Warning message:\n",
      "\"contrasts dropped from factor C(game_type)\"\n"
     ]
    },
    {
     "data": {
      "text/markdown": [
       "### Marginal Means"
      ]
     },
     "metadata": {},
     "output_type": "display_data"
    },
    {
     "data": {
      "text/plain": [
       " contrast                    estimate    SE  df z.ratio p.value\n",
       " matched - unmatched_top_30  1.042423 0.333 Inf   3.133  0.0049\n",
       " real - unmatched_top_30     1.041540 0.332 Inf   3.138  0.0048\n",
       " real - matched             -0.000883 0.331 Inf  -0.003  1.0000\n",
       "\n",
       "P value adjustment: tukey method for comparing a family of 3 estimates "
      ]
     },
     "metadata": {},
     "output_type": "display_data"
    },
    {
     "data": {
      "text/markdown": [
       "------------------"
      ]
     },
     "metadata": {},
     "output_type": "display_data"
    },
    {
     "data": {
      "text/markdown": [
       "## fun_play"
      ]
     },
     "metadata": {},
     "output_type": "display_data"
    },
    {
     "data": {
      "text/markdown": [
       "### Mixed Effects Model"
      ]
     },
     "metadata": {},
     "output_type": "display_data"
    },
    {
     "data": {
      "text/plain": [
       "Cumulative Link Mixed Model fitted with the Laplace approximation\n",
       "\n",
       "formula: C(fun_play) ~ 1 + C(game_type) + (1 | participant_id) + (1 |      full_game_id)\n",
       "data:    game_type_only_analysis_df\n",
       "\n",
       " link  threshold nobs logLik   AIC     niter     max.grad cond.H \n",
       " logit flexible  892  -1138.66 2293.32 483(3594) 6.49e-04 7.2e+01\n",
       "\n",
       "Random effects:\n",
       " Groups         Name        Variance Std.Dev.\n",
       " participant_id (Intercept) 2.8181   1.6787  \n",
       " full_game_id   (Intercept) 0.6669   0.8167  \n",
       "Number of groups:  participant_id 100,  full_game_id 90 \n",
       "\n",
       "Coefficients:\n",
       "                    Estimate Std. Error z value Pr(>|z|)    \n",
       "C(game_type)matched   0.8767     0.2731   3.210 0.001325 ** \n",
       "C(game_type)real      1.0199     0.2740   3.722 0.000198 ***\n",
       "---\n",
       "Signif. codes:  0 '***' 0.001 '**' 0.01 '*' 0.05 '.' 0.1 ' ' 1\n",
       "\n",
       "Threshold coefficients:\n",
       "    Estimate Std. Error z value\n",
       "1|2  -0.9652     0.2645  -3.649\n",
       "2|3   1.1012     0.2671   4.123\n",
       "3|4   3.2808     0.2924  11.219\n",
       "4|5   5.0604     0.3446  14.685"
      ]
     },
     "metadata": {},
     "output_type": "display_data"
    },
    {
     "name": "stderr",
     "output_type": "stream",
     "text": [
      "Warning message:\n",
      "\"contrasts dropped from factor C(game_type)\"\n"
     ]
    },
    {
     "data": {
      "text/markdown": [
       "### Marginal Means"
      ]
     },
     "metadata": {},
     "output_type": "display_data"
    },
    {
     "data": {
      "text/plain": [
       " contrast                   estimate    SE  df z.ratio p.value\n",
       " matched - unmatched_top_30    0.877 0.273 Inf   3.210  0.0038\n",
       " real - unmatched_top_30       1.020 0.274 Inf   3.722  0.0006\n",
       " real - matched                0.143 0.266 Inf   0.538  0.8526\n",
       "\n",
       "P value adjustment: tukey method for comparing a family of 3 estimates "
      ]
     },
     "metadata": {},
     "output_type": "display_data"
    },
    {
     "data": {
      "text/markdown": [
       "------------------"
      ]
     },
     "metadata": {},
     "output_type": "display_data"
    },
    {
     "data": {
      "text/markdown": [
       "## fun_watch"
      ]
     },
     "metadata": {},
     "output_type": "display_data"
    },
    {
     "data": {
      "text/markdown": [
       "### Mixed Effects Model"
      ]
     },
     "metadata": {},
     "output_type": "display_data"
    },
    {
     "data": {
      "text/plain": [
       "Cumulative Link Mixed Model fitted with the Laplace approximation\n",
       "\n",
       "formula: C(fun_watch) ~ 1 + C(game_type) + (1 | participant_id) + (1 |      full_game_id)\n",
       "data:    game_type_only_analysis_df\n",
       "\n",
       " link  threshold nobs logLik   AIC     niter     max.grad cond.H \n",
       " logit flexible  892  -1078.12 2172.24 491(3410) 1.45e-04 6.9e+01\n",
       "\n",
       "Random effects:\n",
       " Groups         Name        Variance Std.Dev.\n",
       " participant_id (Intercept) 4.3887   2.095   \n",
       " full_game_id   (Intercept) 0.5242   0.724   \n",
       "Number of groups:  participant_id 100,  full_game_id 90 \n",
       "\n",
       "Coefficients:\n",
       "                    Estimate Std. Error z value Pr(>|z|)    \n",
       "C(game_type)matched   0.7566     0.2570   2.944 0.003235 ** \n",
       "C(game_type)real      0.8919     0.2588   3.446 0.000569 ***\n",
       "---\n",
       "Signif. codes:  0 '***' 0.001 '**' 0.01 '*' 0.05 '.' 0.1 ' ' 1\n",
       "\n",
       "Threshold coefficients:\n",
       "    Estimate Std. Error z value\n",
       "1|2  -0.8049     0.2867  -2.808\n",
       "2|3   1.4066     0.2929   4.802\n",
       "3|4   3.4984     0.3203  10.922\n",
       "4|5   5.6074     0.3810  14.718"
      ]
     },
     "metadata": {},
     "output_type": "display_data"
    },
    {
     "name": "stderr",
     "output_type": "stream",
     "text": [
      "Warning message:\n",
      "\"contrasts dropped from factor C(game_type)\"\n"
     ]
    },
    {
     "data": {
      "text/markdown": [
       "### Marginal Means"
      ]
     },
     "metadata": {},
     "output_type": "display_data"
    },
    {
     "data": {
      "text/plain": [
       " contrast                   estimate    SE  df z.ratio p.value\n",
       " matched - unmatched_top_30    0.757 0.257 Inf   2.944  0.0091\n",
       " real - unmatched_top_30       0.892 0.259 Inf   3.446  0.0016\n",
       " real - matched                0.135 0.250 Inf   0.542  0.8505\n",
       "\n",
       "P value adjustment: tukey method for comparing a family of 3 estimates "
      ]
     },
     "metadata": {},
     "output_type": "display_data"
    },
    {
     "data": {
      "text/markdown": [
       "------------------"
      ]
     },
     "metadata": {},
     "output_type": "display_data"
    },
    {
     "data": {
      "text/markdown": [
       "## capability"
      ]
     },
     "metadata": {},
     "output_type": "display_data"
    },
    {
     "data": {
      "text/markdown": [
       "### Mixed Effects Model"
      ]
     },
     "metadata": {},
     "output_type": "display_data"
    },
    {
     "data": {
      "text/plain": [
       "Cumulative Link Mixed Model fitted with the Laplace approximation\n",
       "\n",
       "formula: C(capability) ~ 1 + C(game_type) + (1 | participant_id) + (1 |      full_game_id)\n",
       "data:    game_type_only_analysis_df\n",
       "\n",
       " link  threshold nobs logLik   AIC     niter     max.grad cond.H \n",
       " logit flexible  892  -1193.64 2403.28 503(2989) 4.58e-04 5.0e+01\n",
       "\n",
       "Random effects:\n",
       " Groups         Name        Variance Std.Dev.\n",
       " participant_id (Intercept) 3.66001  1.9131  \n",
       " full_game_id   (Intercept) 0.02585  0.1608  \n",
       "Number of groups:  participant_id 100,  full_game_id 90 \n",
       "\n",
       "Coefficients:\n",
       "                    Estimate Std. Error z value Pr(>|z|)\n",
       "C(game_type)matched   0.2355     0.1652   1.426    0.154\n",
       "C(game_type)real      0.2511     0.1651   1.521    0.128\n",
       "\n",
       "Threshold coefficients:\n",
       "    Estimate Std. Error z value\n",
       "1|2  -2.8929     0.2565 -11.278\n",
       "2|3  -0.6587     0.2337  -2.819\n",
       "3|4   1.1709     0.2377   4.926\n",
       "4|5   3.0829     0.2655  11.610"
      ]
     },
     "metadata": {},
     "output_type": "display_data"
    },
    {
     "name": "stderr",
     "output_type": "stream",
     "text": [
      "Warning message:\n",
      "\"contrasts dropped from factor C(game_type)\"\n"
     ]
    },
    {
     "data": {
      "text/markdown": [
       "### Marginal Means"
      ]
     },
     "metadata": {},
     "output_type": "display_data"
    },
    {
     "data": {
      "text/plain": [
       " contrast                   estimate    SE  df z.ratio p.value\n",
       " matched - unmatched_top_30   0.2355 0.165 Inf   1.426  0.3276\n",
       " real - unmatched_top_30      0.2511 0.165 Inf   1.521  0.2811\n",
       " real - matched               0.0155 0.159 Inf   0.097  0.9948\n",
       "\n",
       "P value adjustment: tukey method for comparing a family of 3 estimates "
      ]
     },
     "metadata": {},
     "output_type": "display_data"
    },
    {
     "data": {
      "text/markdown": [
       "------------------"
      ]
     },
     "metadata": {},
     "output_type": "display_data"
    },
    {
     "data": {
      "text/markdown": [
       "## goldilocks"
      ]
     },
     "metadata": {},
     "output_type": "display_data"
    },
    {
     "data": {
      "text/markdown": [
       "### Mixed Effects Model"
      ]
     },
     "metadata": {},
     "output_type": "display_data"
    },
    {
     "data": {
      "text/plain": [
       "Cumulative Link Mixed Model fitted with the Laplace approximation\n",
       "\n",
       "formula: C(goldilocks) ~ 1 + C(game_type) + (1 | participant_id) + (1 |      full_game_id)\n",
       "data:    game_type_only_analysis_df\n",
       "\n",
       " link  threshold nobs logLik   AIC     niter     max.grad cond.H \n",
       " logit flexible  892  -1112.57 2241.14 458(2279) 7.97e-05 9.2e+01\n",
       "\n",
       "Random effects:\n",
       " Groups         Name        Variance Std.Dev.\n",
       " participant_id (Intercept) 1.171    1.082   \n",
       " full_game_id   (Intercept) 1.497    1.224   \n",
       "Number of groups:  participant_id 100,  full_game_id 90 \n",
       "\n",
       "Coefficients:\n",
       "                     Estimate Std. Error z value Pr(>|z|)\n",
       "C(game_type)matched  0.005749   0.360617   0.016    0.987\n",
       "C(game_type)real    -0.193831   0.360594  -0.538    0.591\n",
       "\n",
       "Threshold coefficients:\n",
       "    Estimate Std. Error z value\n",
       "1|2  -2.3521     0.2974  -7.909\n",
       "2|3  -0.7184     0.2849  -2.522\n",
       "3|4   2.3871     0.2983   8.003\n",
       "4|5   4.1087     0.3395  12.100"
      ]
     },
     "metadata": {},
     "output_type": "display_data"
    },
    {
     "name": "stderr",
     "output_type": "stream",
     "text": [
      "Warning message:\n",
      "\"contrasts dropped from factor C(game_type)\"\n"
     ]
    },
    {
     "data": {
      "text/markdown": [
       "### Marginal Means"
      ]
     },
     "metadata": {},
     "output_type": "display_data"
    },
    {
     "data": {
      "text/plain": [
       " contrast                   estimate    SE  df z.ratio p.value\n",
       " matched - unmatched_top_30  0.00575 0.361 Inf   0.016  0.9999\n",
       " real - unmatched_top_30    -0.19383 0.361 Inf  -0.538  0.8528\n",
       " real - matched             -0.19958 0.357 Inf  -0.559  0.8420\n",
       "\n",
       "P value adjustment: tukey method for comparing a family of 3 estimates "
      ]
     },
     "metadata": {},
     "output_type": "display_data"
    },
    {
     "data": {
      "text/markdown": [
       "------------------"
      ]
     },
     "metadata": {},
     "output_type": "display_data"
    },
    {
     "data": {
      "text/markdown": [
       "## creativity"
      ]
     },
     "metadata": {},
     "output_type": "display_data"
    },
    {
     "data": {
      "text/markdown": [
       "### Mixed Effects Model"
      ]
     },
     "metadata": {},
     "output_type": "display_data"
    },
    {
     "data": {
      "text/plain": [
       "Cumulative Link Mixed Model fitted with the Laplace approximation\n",
       "\n",
       "formula: C(creativity) ~ 1 + C(game_type) + (1 | participant_id) + (1 |      full_game_id)\n",
       "data:    game_type_only_analysis_df\n",
       "\n",
       " link  threshold nobs logLik   AIC     niter     max.grad cond.H \n",
       " logit flexible  892  -1081.72 2179.44 478(2961) 3.26e-04 7.6e+01\n",
       "\n",
       "Random effects:\n",
       " Groups         Name        Variance Std.Dev.\n",
       " participant_id (Intercept) 2.975    1.725   \n",
       " full_game_id   (Intercept) 1.016    1.008   \n",
       "Number of groups:  participant_id 100,  full_game_id 90 \n",
       "\n",
       "Coefficients:\n",
       "                    Estimate Std. Error z value Pr(>|z|)\n",
       "C(game_type)matched   0.2614     0.3143   0.832    0.405\n",
       "C(game_type)real      0.4894     0.3162   1.548    0.122\n",
       "\n",
       "Threshold coefficients:\n",
       "    Estimate Std. Error z value\n",
       "1|2  -1.2148     0.2924  -4.155\n",
       "2|3   1.0818     0.2925   3.699\n",
       "3|4   3.4037     0.3197  10.645\n",
       "4|5   5.5735     0.3996  13.949"
      ]
     },
     "metadata": {},
     "output_type": "display_data"
    },
    {
     "name": "stderr",
     "output_type": "stream",
     "text": [
      "Warning message:\n",
      "\"contrasts dropped from factor C(game_type)\"\n"
     ]
    },
    {
     "data": {
      "text/markdown": [
       "### Marginal Means"
      ]
     },
     "metadata": {},
     "output_type": "display_data"
    },
    {
     "data": {
      "text/plain": [
       " contrast                   estimate    SE  df z.ratio p.value\n",
       " matched - unmatched_top_30    0.261 0.314 Inf   0.832  0.6832\n",
       " real - unmatched_top_30       0.489 0.316 Inf   1.548  0.2685\n",
       " real - matched                0.228 0.310 Inf   0.736  0.7421\n",
       "\n",
       "P value adjustment: tukey method for comparing a family of 3 estimates "
      ]
     },
     "metadata": {},
     "output_type": "display_data"
    },
    {
     "data": {
      "text/markdown": [
       "------------------"
      ]
     },
     "metadata": {},
     "output_type": "display_data"
    },
    {
     "data": {
      "text/markdown": [
       "## human_likeness"
      ]
     },
     "metadata": {},
     "output_type": "display_data"
    },
    {
     "data": {
      "text/markdown": [
       "### Mixed Effects Model"
      ]
     },
     "metadata": {},
     "output_type": "display_data"
    },
    {
     "data": {
      "text/plain": [
       "Cumulative Link Mixed Model fitted with the Laplace approximation\n",
       "\n",
       "formula: C(human_likeness) ~ 1 + C(game_type) + (1 | participant_id) +      (1 | full_game_id)\n",
       "data:    game_type_only_analysis_df\n",
       "\n",
       " link  threshold nobs logLik   AIC     niter     max.grad cond.H \n",
       " logit flexible  892  -1224.13 2464.25 509(2533) 2.15e-04 8.7e+01\n",
       "\n",
       "Random effects:\n",
       " Groups         Name        Variance Std.Dev.\n",
       " participant_id (Intercept) 1.9040   1.3798  \n",
       " full_game_id   (Intercept) 0.7481   0.8649  \n",
       "Number of groups:  participant_id 100,  full_game_id 90 \n",
       "\n",
       "Coefficients:\n",
       "                    Estimate Std. Error z value Pr(>|z|)    \n",
       "C(game_type)matched   1.1968     0.2832   4.225 2.39e-05 ***\n",
       "C(game_type)real      1.3960     0.2833   4.927 8.34e-07 ***\n",
       "---\n",
       "Signif. codes:  0 '***' 0.001 '**' 0.01 '*' 0.05 '.' 0.1 ' ' 1\n",
       "\n",
       "Threshold coefficients:\n",
       "    Estimate Std. Error z value\n",
       "1|2  -0.8110     0.2511  -3.230\n",
       "2|3   0.9829     0.2532   3.882\n",
       "3|4   2.6680     0.2690   9.919\n",
       "4|5   4.6675     0.3097  15.073"
      ]
     },
     "metadata": {},
     "output_type": "display_data"
    },
    {
     "name": "stderr",
     "output_type": "stream",
     "text": [
      "Warning message:\n",
      "\"contrasts dropped from factor C(game_type)\"\n"
     ]
    },
    {
     "data": {
      "text/markdown": [
       "### Marginal Means"
      ]
     },
     "metadata": {},
     "output_type": "display_data"
    },
    {
     "data": {
      "text/plain": [
       " contrast                   estimate    SE  df z.ratio p.value\n",
       " matched - unmatched_top_30    1.197 0.283 Inf   4.225  0.0001\n",
       " real - unmatched_top_30       1.396 0.283 Inf   4.927  <.0001\n",
       " real - matched                0.199 0.274 Inf   0.727  0.7478\n",
       "\n",
       "P value adjustment: tukey method for comparing a family of 3 estimates "
      ]
     },
     "metadata": {},
     "output_type": "display_data"
    },
    {
     "data": {
      "text/markdown": [
       "------------------"
      ]
     },
     "metadata": {},
     "output_type": "display_data"
    }
   ],
   "source": [
    "game_type_only_analysis_df <- data.table::copy(filtered_df)\n",
    "\n",
    "# analysis_df$game_type <- factor(analysis_df$game_type, levels = c('real', 'matched', 'unmatched', 'unmatched_top_30'))\n",
    "# analysis_df <- filtered_df[filtered_df$game_type != 'unmatched_top_30', ]\n",
    "# analysis_df$game_type <- droplevels(analysis_df$game_type)\n",
    "game_type_only_model_list <- list()\n",
    "\n",
    "for (attr in ATTRIBUTES) {\n",
    "    display_markdown(glue(\"## {attr}\"))\n",
    "\n",
    "    # Create formula with current attribute\n",
    "    # attr.lmer <- lmer(formula = as.formula(glue(\"{attr} ~ 1 + game_type + normalized_fitness + (1 | participant_id) + (game_type | full_game_id)\")), data = filtered_df)\n",
    "\n",
    "    attr.mm <- clmm(\n",
    "        formula = as.formula(glue(\"C({attr}) ~ 1 + C(game_type) + (1 | participant_id) + (1 | full_game_id)\")),\n",
    "        data = game_type_only_analysis_df, Hess = TRUE\n",
    "    )\n",
    "\n",
    "    game_type_only_model_list[[attr]] <- attr.mm\n",
    "\n",
    "    display_markdown(\"### Mixed Effects Model\")    \n",
    "    \n",
    "    s <- capture.output(\n",
    "        print(summary(attr.mm))\n",
    "    )\n",
    "    display_text(s)\n",
    "\n",
    "    attr.marginal_means = emmeans(attr.mm, \"game_type\")\n",
    "    display_markdown(\"### Marginal Means\")\n",
    "    s <- capture.output(\n",
    "        print(pairs(attr.marginal_means, reverse = TRUE))\n",
    "    )\n",
    "    display_text(s)\n",
    "\n",
    "    display_markdown(\"------------------\")\n",
    "}\n"
   ]
  },
  {
   "cell_type": "markdown",
   "metadata": {},
   "source": [
    "### Summary table without fitness scores"
   ]
  },
  {
   "cell_type": "code",
   "execution_count": 30,
   "metadata": {
    "vscode": {
     "languageId": "r"
    }
   },
   "outputs": [
    {
     "data": {
      "text/html": [
       "<table class=\"dataframe\">\n",
       "<caption>A data.frame: 7 x 7</caption>\n",
       "<thead>\n",
       "\t<tr><th scope=col>attribute</th><th scope=col>matched_est</th><th scope=col>matched_z</th><th scope=col>matched_p</th><th scope=col>real_est</th><th scope=col>real_z</th><th scope=col>real_p</th></tr>\n",
       "\t<tr><th scope=col>&lt;chr&gt;</th><th scope=col>&lt;glue&gt;</th><th scope=col>&lt;chr&gt;</th><th scope=col>&lt;chr&gt;</th><th scope=col>&lt;glue&gt;</th><th scope=col>&lt;chr&gt;</th><th scope=col>&lt;chr&gt;</th></tr>\n",
       "</thead>\n",
       "<tbody>\n",
       "\t<tr><td>confident     </td><td>$1.042 \\pm 0.333$</td><td>3.133</td><td>$P = \\num{1.731e-03}^{ ** }$ </td><td>$1.042 \\pm 0.332$ </td><td>3.138 </td><td>$P = \\num{1.699e-03}^{ ** }$ </td></tr>\n",
       "\t<tr><td>fun_play      </td><td>$0.877 \\pm 0.273$</td><td>3.210</td><td>$P = \\num{1.325e-03}^{ ** }$ </td><td>$1.020 \\pm 0.274$ </td><td>3.722 </td><td>$P = \\num{1.976e-04}^{ *** }$</td></tr>\n",
       "\t<tr><td>fun_watch     </td><td>$0.757 \\pm 0.257$</td><td>2.944</td><td>$P = \\num{3.235e-03}^{ ** }$ </td><td>$0.892 \\pm 0.259$ </td><td>3.446 </td><td>$P = \\num{5.693e-04}^{ *** }$</td></tr>\n",
       "\t<tr><td>capability    </td><td>$0.236 \\pm 0.165$</td><td>1.426</td><td>$P = 0.154$                   </td><td>$0.251 \\pm 0.165$ </td><td>1.521 </td><td>$P = 0.128$                   </td></tr>\n",
       "\t<tr><td>goldilocks    </td><td>$0.006 \\pm 0.361$</td><td>0.016</td><td>$P = 0.987$                   </td><td>$-0.194 \\pm 0.361$</td><td>-0.538</td><td>$P = 0.591$                   </td></tr>\n",
       "\t<tr><td>creativity    </td><td>$0.261 \\pm 0.314$</td><td>0.832</td><td>$P = 0.405$                   </td><td>$0.489 \\pm 0.316$ </td><td>1.548 </td><td>$P = 0.122$                   </td></tr>\n",
       "\t<tr><td>human_likeness</td><td>$1.197 \\pm 0.283$</td><td>4.225</td><td>$P = \\num{2.388e-05}^{ *** }$</td><td>$1.396 \\pm 0.283$ </td><td>4.927 </td><td>$P = \\num{8.343e-07}^{ *** }$</td></tr>\n",
       "</tbody>\n",
       "</table>\n"
      ],
      "text/latex": [
       "A data.frame: 7 x 7\n",
       "\\begin{tabular}{lllllll}\n",
       " attribute & matched\\_est & matched\\_z & matched\\_p & real\\_est & real\\_z & real\\_p\\\\\n",
       " <chr> & <glue> & <chr> & <chr> & <glue> & <chr> & <chr>\\\\\n",
       "\\hline\n",
       "\t confident      & \\$1.042 \\textbackslash{}pm 0.333\\$ & 3.133 & \\$P = \\textbackslash{}num\\{1.731e-03\\}\\textasciicircum{}\\{ ** \\}\\$  & \\$1.042 \\textbackslash{}pm 0.332\\$  & 3.138  & \\$P = \\textbackslash{}num\\{1.699e-03\\}\\textasciicircum{}\\{ ** \\}\\$ \\\\\n",
       "\t fun\\_play       & \\$0.877 \\textbackslash{}pm 0.273\\$ & 3.210 & \\$P = \\textbackslash{}num\\{1.325e-03\\}\\textasciicircum{}\\{ ** \\}\\$  & \\$1.020 \\textbackslash{}pm 0.274\\$  & 3.722  & \\$P = \\textbackslash{}num\\{1.976e-04\\}\\textasciicircum{}\\{ *** \\}\\$\\\\\n",
       "\t fun\\_watch      & \\$0.757 \\textbackslash{}pm 0.257\\$ & 2.944 & \\$P = \\textbackslash{}num\\{3.235e-03\\}\\textasciicircum{}\\{ ** \\}\\$  & \\$0.892 \\textbackslash{}pm 0.259\\$  & 3.446  & \\$P = \\textbackslash{}num\\{5.693e-04\\}\\textasciicircum{}\\{ *** \\}\\$\\\\\n",
       "\t capability     & \\$0.236 \\textbackslash{}pm 0.165\\$ & 1.426 & \\$P = 0.154\\$                    & \\$0.251 \\textbackslash{}pm 0.165\\$  & 1.521  & \\$P = 0.128\\$                   \\\\\n",
       "\t goldilocks     & \\$0.006 \\textbackslash{}pm 0.361\\$ & 0.016 & \\$P = 0.987\\$                    & \\$-0.194 \\textbackslash{}pm 0.361\\$ & -0.538 & \\$P = 0.591\\$                   \\\\\n",
       "\t creativity     & \\$0.261 \\textbackslash{}pm 0.314\\$ & 0.832 & \\$P = 0.405\\$                    & \\$0.489 \\textbackslash{}pm 0.316\\$  & 1.548  & \\$P = 0.122\\$                   \\\\\n",
       "\t human\\_likeness & \\$1.197 \\textbackslash{}pm 0.283\\$ & 4.225 & \\$P = \\textbackslash{}num\\{2.388e-05\\}\\textasciicircum{}\\{ *** \\}\\$ & \\$1.396 \\textbackslash{}pm 0.283\\$  & 4.927  & \\$P = \\textbackslash{}num\\{8.343e-07\\}\\textasciicircum{}\\{ *** \\}\\$\\\\\n",
       "\\end{tabular}\n"
      ],
      "text/markdown": [
       "\n",
       "A data.frame: 7 x 7\n",
       "\n",
       "| attribute &lt;chr&gt; | matched_est &lt;glue&gt; | matched_z &lt;chr&gt; | matched_p &lt;chr&gt; | real_est &lt;glue&gt; | real_z &lt;chr&gt; | real_p &lt;chr&gt; |\n",
       "|---|---|---|---|---|---|---|\n",
       "| confident      | $1.042 \\pm 0.333$ | 3.133 | $P = \\num{1.731e-03}^{ ** }$  | $1.042 \\pm 0.332$  | 3.138  | $P = \\num{1.699e-03}^{ ** }$  |\n",
       "| fun_play       | $0.877 \\pm 0.273$ | 3.210 | $P = \\num{1.325e-03}^{ ** }$  | $1.020 \\pm 0.274$  | 3.722  | $P = \\num{1.976e-04}^{ *** }$ |\n",
       "| fun_watch      | $0.757 \\pm 0.257$ | 2.944 | $P = \\num{3.235e-03}^{ ** }$  | $0.892 \\pm 0.259$  | 3.446  | $P = \\num{5.693e-04}^{ *** }$ |\n",
       "| capability     | $0.236 \\pm 0.165$ | 1.426 | $P = 0.154$                    | $0.251 \\pm 0.165$  | 1.521  | $P = 0.128$                    |\n",
       "| goldilocks     | $0.006 \\pm 0.361$ | 0.016 | $P = 0.987$                    | $-0.194 \\pm 0.361$ | -0.538 | $P = 0.591$                    |\n",
       "| creativity     | $0.261 \\pm 0.314$ | 0.832 | $P = 0.405$                    | $0.489 \\pm 0.316$  | 1.548  | $P = 0.122$                    |\n",
       "| human_likeness | $1.197 \\pm 0.283$ | 4.225 | $P = \\num{2.388e-05}^{ *** }$ | $1.396 \\pm 0.283$  | 4.927  | $P = \\num{8.343e-07}^{ *** }$ |\n",
       "\n"
      ],
      "text/plain": [
       "  attribute      matched_est        matched_z matched_p                      real_est            real_z real_p                        \n",
       "1 confident      $1.042 \\\\pm 0.333$ 3.133     $P = \\\\num{1.731e-03}^{ ** }$  $1.042 \\\\pm 0.332$  3.138  $P = \\\\num{1.699e-03}^{ ** }$ \n",
       "2 fun_play       $0.877 \\\\pm 0.273$ 3.210     $P = \\\\num{1.325e-03}^{ ** }$  $1.020 \\\\pm 0.274$  3.722  $P = \\\\num{1.976e-04}^{ *** }$\n",
       "3 fun_watch      $0.757 \\\\pm 0.257$ 2.944     $P = \\\\num{3.235e-03}^{ ** }$  $0.892 \\\\pm 0.259$  3.446  $P = \\\\num{5.693e-04}^{ *** }$\n",
       "4 capability     $0.236 \\\\pm 0.165$ 1.426     $P = 0.154$                    $0.251 \\\\pm 0.165$  1.521  $P = 0.128$                   \n",
       "5 goldilocks     $0.006 \\\\pm 0.361$ 0.016     $P = 0.987$                    $-0.194 \\\\pm 0.361$ -0.538 $P = 0.591$                   \n",
       "6 creativity     $0.261 \\\\pm 0.314$ 0.832     $P = 0.405$                    $0.489 \\\\pm 0.316$  1.548  $P = 0.122$                   \n",
       "7 human_likeness $1.197 \\\\pm 0.283$ 4.225     $P = \\\\num{2.388e-05}^{ *** }$ $1.396 \\\\pm 0.283$  4.927  $P = \\\\num{8.343e-07}^{ *** }$"
      ]
     },
     "metadata": {},
     "output_type": "display_data"
    }
   ],
   "source": [
    "truncate_p_values <- FALSE\n",
    "sig_figs <- 3\n",
    "\n",
    "game_type_only_results_table <- data.frame(\n",
    "    attribute = character(), \n",
    "    aic = numeric(),\n",
    "    matched_est = numeric(),\n",
    "    matched_z = numeric(),\n",
    "    matched_p = numeric(),\n",
    "    real_est = numeric(),\n",
    "    real_z = numeric(),\n",
    "    real_p = numeric()\n",
    ")\n",
    "\n",
    "\n",
    "for (name in names(game_type_only_model_list)) {\n",
    "    model <- game_type_only_model_list[[name]]\n",
    "    s <- summary(model)\n",
    "    table_row <- data.frame(\n",
    "        attribute = name,\n",
    "        matched_est = glue(\"${formatC(s$coefficients[5, 1], digits = sig_figs, format = 'f')} \\\\pm {formatC(s$coefficients[5, 2], digits = sig_figs, format = 'f')}$\"),\n",
    "        matched_z = formatC(s$coefficients[5, 3], digits = sig_figs, format = 'f'),\n",
    "        matched_p = s$coefficients[5, 4],\n",
    "        real_est = glue(\"${formatC(s$coefficients[6, 1], digits = sig_figs, format = 'f')} \\\\pm {formatC(s$coefficients[6, 2], digits = sig_figs, format = 'f')}$\"),\n",
    "        real_z = formatC(s$coefficients[6, 3], digits = sig_figs, format = 'f'),\n",
    "        real_p = s$coefficients[6, 4]\n",
    "    )\n",
    "    game_type_only_results_table <- rbind(game_type_only_results_table, table_row)\n",
    "}\n",
    "\n",
    "\n",
    "\n",
    "# Iterate through the columns\n",
    "for (col in c(\"matched_p\", \"real_p\")) {\n",
    "    # Iterate through the cells\n",
    "    for (i in seq_len(nrow(game_type_only_results_table))) {\n",
    "        # Get the current value\n",
    "        value <- as.double(game_type_only_results_table[i, col])\n",
    "        # Modify the value based on the conditions\n",
    "        if (truncate_p_values && value < 10^-5) {\n",
    "            game_type_only_results_table[i, col] <- \"$P < \\\\num{1e-5}^{ *** }$\"\n",
    "        } else if (truncate_p_values && value < 10^-3) {\n",
    "            game_type_only_results_table[i, col] <- \"$P < \\\\num{1e-3}^{ *** }$\"\n",
    "        } else {\n",
    "            use_scientific <- value < 0.01\n",
    "            v <- formatC(value, digits = sig_figs, format = ifelse(use_scientific, \"e\", \"f\"))\n",
    "            if (use_scientific) {\n",
    "                v <- glue(\"\\\\num{{{v}}}\")\n",
    "            }\n",
    "            stars <- ifelse(value < 0.001, \"***\",\n",
    "                ifelse(value < 0.01, \"**\", ifelse(value < 0.05, \"*\", \"\"))\n",
    "            )\n",
    "            if (stars != \"\") {\n",
    "                game_type_only_results_table[i, col] <- glue(\"$P = {v}^{{ {stars} }}$\")\n",
    "            } else {\n",
    "                game_type_only_results_table[i, col] <- glue(\"$P = {v}$\")\n",
    "            }\n",
    "        }\n",
    "    }\n",
    "}\n",
    "\n",
    "\n",
    "game_type_only_results_table"
   ]
  },
  {
   "cell_type": "code",
   "execution_count": 31,
   "metadata": {
    "vscode": {
     "languageId": "r"
    }
   },
   "outputs": [
    {
     "name": "stdout",
     "output_type": "stream",
     "text": [
      "% latex table generated in R 4.3.2 by xtable 1.8-4 package\n",
      "% Thu Aug 22 17:05:38 2024\n",
      "\\begin{tabular}{lllllll}\n",
      "  \\hline\n",
      "attribute & matched_est & matched_z & matched_p & real_est & real_z & real_p \\\\ \n",
      "  \\hline\n",
      "confident & $1.042 \\pm 0.333$ & 3.133 & $P = \\num{1.731e-03}^{ ** }$ & $1.042 \\pm 0.332$ & 3.138 & $P = \\num{1.699e-03}^{ ** }$ \\\\ \n",
      "  fun_play & $0.877 \\pm 0.273$ & 3.210 & $P = \\num{1.325e-03}^{ ** }$ & $1.020 \\pm 0.274$ & 3.722 & $P = \\num{1.976e-04}^{ *** }$ \\\\ \n",
      "  fun_watch & $0.757 \\pm 0.257$ & 2.944 & $P = \\num{3.235e-03}^{ ** }$ & $0.892 \\pm 0.259$ & 3.446 & $P = \\num{5.693e-04}^{ *** }$ \\\\ \n",
      "  capability & $0.236 \\pm 0.165$ & 1.426 & $P = 0.154$ & $0.251 \\pm 0.165$ & 1.521 & $P = 0.128$ \\\\ \n",
      "  goldilocks & $0.006 \\pm 0.361$ & 0.016 & $P = 0.987$ & $-0.194 \\pm 0.361$ & -0.538 & $P = 0.591$ \\\\ \n",
      "  creativity & $0.261 \\pm 0.314$ & 0.832 & $P = 0.405$ & $0.489 \\pm 0.316$ & 1.548 & $P = 0.122$ \\\\ \n",
      "  human_likeness & $1.197 \\pm 0.283$ & 4.225 & $P = \\num{2.388e-05}^{ *** }$ & $1.396 \\pm 0.283$ & 4.927 & $P = \\num{8.343e-07}^{ *** }$ \\\\ \n",
      "   \\hline\n",
      "\\end{tabular}\n"
     ]
    }
   ],
   "source": [
    "# Convert the dataframe to an xtable object\n",
    "game_type_only_results_table_latex <- xtable(game_type_only_results_table, digits = 3)\n",
    "\n",
    "# Print the LaTeX table\n",
    "print(game_type_only_results_table_latex, include.rownames = FALSE, floating = FALSE, sanitize.text.function = identity, digits=3)\n"
   ]
  },
  {
   "cell_type": "markdown",
   "metadata": {},
   "source": [
    "### Marginal means without the fitness scores"
   ]
  },
  {
   "cell_type": "code",
   "execution_count": 15,
   "metadata": {
    "vscode": {
     "languageId": "r"
    }
   },
   "outputs": [
    {
     "name": "stderr",
     "output_type": "stream",
     "text": [
      "Warning message:\n",
      "\"contrasts dropped from factor C(game_type)\"\n",
      "Warning message:\n",
      "\"contrasts dropped from factor C(game_type)\"\n",
      "Warning message:\n",
      "\"contrasts dropped from factor C(game_type)\"\n",
      "Warning message:\n",
      "\"contrasts dropped from factor C(game_type)\"\n",
      "Warning message:\n",
      "\"contrasts dropped from factor C(game_type)\"\n",
      "Warning message:\n",
      "\"contrasts dropped from factor C(game_type)\"\n",
      "Warning message:\n",
      "\"contrasts dropped from factor C(game_type)\"\n"
     ]
    },
    {
     "data": {
      "text/html": [
       "<table class=\"dataframe\">\n",
       "<caption>A data.frame: 7 x 10</caption>\n",
       "<thead>\n",
       "\t<tr><th scope=col>attribute</th><th scope=col>r_m_est</th><th scope=col>r_m_z</th><th scope=col>r_m_p</th><th scope=col>r_u_est</th><th scope=col>r_u_z</th><th scope=col>r_u_p</th><th scope=col>m_u_est</th><th scope=col>m_u_z</th><th scope=col>m_u_p</th></tr>\n",
       "\t<tr><th scope=col>&lt;chr&gt;</th><th scope=col>&lt;glue&gt;</th><th scope=col>&lt;chr&gt;</th><th scope=col>&lt;chr&gt;</th><th scope=col>&lt;glue&gt;</th><th scope=col>&lt;chr&gt;</th><th scope=col>&lt;chr&gt;</th><th scope=col>&lt;glue&gt;</th><th scope=col>&lt;chr&gt;</th><th scope=col>&lt;chr&gt;</th></tr>\n",
       "</thead>\n",
       "<tbody>\n",
       "\t<tr><td>confident     </td><td>$-0.001 \\pm 0.331$</td><td>-0.003</td><td>$P = 1.000$</td><td>$1.042 \\pm 0.332$ </td><td>3.138 </td><td>$P = \\num{4.837e-03}^{ ** }$ </td><td>$1.042 \\pm 0.333$</td><td>3.133</td><td>$P = \\num{4.927e-03}^{ ** }$ </td></tr>\n",
       "\t<tr><td>fun_play      </td><td>$0.143 \\pm 0.266$ </td><td>0.538 </td><td>$P = 0.853$</td><td>$1.020 \\pm 0.274$ </td><td>3.722 </td><td>$P = \\num{5.791e-04}^{ *** }$</td><td>$0.877 \\pm 0.273$</td><td>3.210</td><td>$P = \\num{3.791e-03}^{ ** }$ </td></tr>\n",
       "\t<tr><td>fun_watch     </td><td>$0.135 \\pm 0.250$ </td><td>0.542 </td><td>$P = 0.850$</td><td>$0.892 \\pm 0.259$ </td><td>3.446 </td><td>$P = \\num{1.650e-03}^{ ** }$ </td><td>$0.757 \\pm 0.257$</td><td>2.944</td><td>$P = \\num{9.076e-03}^{ ** }$ </td></tr>\n",
       "\t<tr><td>capability    </td><td>$0.016 \\pm 0.159$ </td><td>0.097 </td><td>$P = 0.995$</td><td>$0.251 \\pm 0.165$ </td><td>1.521 </td><td>$P = 0.281$                   </td><td>$0.236 \\pm 0.165$</td><td>1.426</td><td>$P = 0.328$                   </td></tr>\n",
       "\t<tr><td>goldilocks    </td><td>$-0.200 \\pm 0.357$</td><td>-0.559</td><td>$P = 0.842$</td><td>$-0.194 \\pm 0.361$</td><td>-0.538</td><td>$P = 0.853$                   </td><td>$0.006 \\pm 0.361$</td><td>0.016</td><td>$P = 1.000$                   </td></tr>\n",
       "\t<tr><td>creativity    </td><td>$0.228 \\pm 0.310$ </td><td>0.736 </td><td>$P = 0.742$</td><td>$0.489 \\pm 0.316$ </td><td>1.548 </td><td>$P = 0.269$                   </td><td>$0.261 \\pm 0.314$</td><td>0.832</td><td>$P = 0.683$                   </td></tr>\n",
       "\t<tr><td>human_likeness</td><td>$0.199 \\pm 0.274$ </td><td>0.727 </td><td>$P = 0.748$</td><td>$1.396 \\pm 0.283$ </td><td>4.927 </td><td>$P = \\num{2.495e-06}^{ *** }$</td><td>$1.197 \\pm 0.283$</td><td>4.225</td><td>$P = \\num{7.088e-05}^{ *** }$</td></tr>\n",
       "</tbody>\n",
       "</table>\n"
      ],
      "text/latex": [
       "A data.frame: 7 x 10\n",
       "\\begin{tabular}{llllllllll}\n",
       " attribute & r\\_m\\_est & r\\_m\\_z & r\\_m\\_p & r\\_u\\_est & r\\_u\\_z & r\\_u\\_p & m\\_u\\_est & m\\_u\\_z & m\\_u\\_p\\\\\n",
       " <chr> & <glue> & <chr> & <chr> & <glue> & <chr> & <chr> & <glue> & <chr> & <chr>\\\\\n",
       "\\hline\n",
       "\t confident      & \\$-0.001 \\textbackslash{}pm 0.331\\$ & -0.003 & \\$P = 1.000\\$ & \\$1.042 \\textbackslash{}pm 0.332\\$  & 3.138  & \\$P = \\textbackslash{}num\\{4.837e-03\\}\\textasciicircum{}\\{ ** \\}\\$  & \\$1.042 \\textbackslash{}pm 0.333\\$ & 3.133 & \\$P = \\textbackslash{}num\\{4.927e-03\\}\\textasciicircum{}\\{ ** \\}\\$ \\\\\n",
       "\t fun\\_play       & \\$0.143 \\textbackslash{}pm 0.266\\$  & 0.538  & \\$P = 0.853\\$ & \\$1.020 \\textbackslash{}pm 0.274\\$  & 3.722  & \\$P = \\textbackslash{}num\\{5.791e-04\\}\\textasciicircum{}\\{ *** \\}\\$ & \\$0.877 \\textbackslash{}pm 0.273\\$ & 3.210 & \\$P = \\textbackslash{}num\\{3.791e-03\\}\\textasciicircum{}\\{ ** \\}\\$ \\\\\n",
       "\t fun\\_watch      & \\$0.135 \\textbackslash{}pm 0.250\\$  & 0.542  & \\$P = 0.850\\$ & \\$0.892 \\textbackslash{}pm 0.259\\$  & 3.446  & \\$P = \\textbackslash{}num\\{1.650e-03\\}\\textasciicircum{}\\{ ** \\}\\$  & \\$0.757 \\textbackslash{}pm 0.257\\$ & 2.944 & \\$P = \\textbackslash{}num\\{9.076e-03\\}\\textasciicircum{}\\{ ** \\}\\$ \\\\\n",
       "\t capability     & \\$0.016 \\textbackslash{}pm 0.159\\$  & 0.097  & \\$P = 0.995\\$ & \\$0.251 \\textbackslash{}pm 0.165\\$  & 1.521  & \\$P = 0.281\\$                    & \\$0.236 \\textbackslash{}pm 0.165\\$ & 1.426 & \\$P = 0.328\\$                   \\\\\n",
       "\t goldilocks     & \\$-0.200 \\textbackslash{}pm 0.357\\$ & -0.559 & \\$P = 0.842\\$ & \\$-0.194 \\textbackslash{}pm 0.361\\$ & -0.538 & \\$P = 0.853\\$                    & \\$0.006 \\textbackslash{}pm 0.361\\$ & 0.016 & \\$P = 1.000\\$                   \\\\\n",
       "\t creativity     & \\$0.228 \\textbackslash{}pm 0.310\\$  & 0.736  & \\$P = 0.742\\$ & \\$0.489 \\textbackslash{}pm 0.316\\$  & 1.548  & \\$P = 0.269\\$                    & \\$0.261 \\textbackslash{}pm 0.314\\$ & 0.832 & \\$P = 0.683\\$                   \\\\\n",
       "\t human\\_likeness & \\$0.199 \\textbackslash{}pm 0.274\\$  & 0.727  & \\$P = 0.748\\$ & \\$1.396 \\textbackslash{}pm 0.283\\$  & 4.927  & \\$P = \\textbackslash{}num\\{2.495e-06\\}\\textasciicircum{}\\{ *** \\}\\$ & \\$1.197 \\textbackslash{}pm 0.283\\$ & 4.225 & \\$P = \\textbackslash{}num\\{7.088e-05\\}\\textasciicircum{}\\{ *** \\}\\$\\\\\n",
       "\\end{tabular}\n"
      ],
      "text/markdown": [
       "\n",
       "A data.frame: 7 x 10\n",
       "\n",
       "| attribute &lt;chr&gt; | r_m_est &lt;glue&gt; | r_m_z &lt;chr&gt; | r_m_p &lt;chr&gt; | r_u_est &lt;glue&gt; | r_u_z &lt;chr&gt; | r_u_p &lt;chr&gt; | m_u_est &lt;glue&gt; | m_u_z &lt;chr&gt; | m_u_p &lt;chr&gt; |\n",
       "|---|---|---|---|---|---|---|---|---|---|\n",
       "| confident      | $-0.001 \\pm 0.331$ | -0.003 | $P = 1.000$ | $1.042 \\pm 0.332$  | 3.138  | $P = \\num{4.837e-03}^{ ** }$  | $1.042 \\pm 0.333$ | 3.133 | $P = \\num{4.927e-03}^{ ** }$  |\n",
       "| fun_play       | $0.143 \\pm 0.266$  | 0.538  | $P = 0.853$ | $1.020 \\pm 0.274$  | 3.722  | $P = \\num{5.791e-04}^{ *** }$ | $0.877 \\pm 0.273$ | 3.210 | $P = \\num{3.791e-03}^{ ** }$  |\n",
       "| fun_watch      | $0.135 \\pm 0.250$  | 0.542  | $P = 0.850$ | $0.892 \\pm 0.259$  | 3.446  | $P = \\num{1.650e-03}^{ ** }$  | $0.757 \\pm 0.257$ | 2.944 | $P = \\num{9.076e-03}^{ ** }$  |\n",
       "| capability     | $0.016 \\pm 0.159$  | 0.097  | $P = 0.995$ | $0.251 \\pm 0.165$  | 1.521  | $P = 0.281$                    | $0.236 \\pm 0.165$ | 1.426 | $P = 0.328$                    |\n",
       "| goldilocks     | $-0.200 \\pm 0.357$ | -0.559 | $P = 0.842$ | $-0.194 \\pm 0.361$ | -0.538 | $P = 0.853$                    | $0.006 \\pm 0.361$ | 0.016 | $P = 1.000$                    |\n",
       "| creativity     | $0.228 \\pm 0.310$  | 0.736  | $P = 0.742$ | $0.489 \\pm 0.316$  | 1.548  | $P = 0.269$                    | $0.261 \\pm 0.314$ | 0.832 | $P = 0.683$                    |\n",
       "| human_likeness | $0.199 \\pm 0.274$  | 0.727  | $P = 0.748$ | $1.396 \\pm 0.283$  | 4.927  | $P = \\num{2.495e-06}^{ *** }$ | $1.197 \\pm 0.283$ | 4.225 | $P = \\num{7.088e-05}^{ *** }$ |\n",
       "\n"
      ],
      "text/plain": [
       "  attribute      r_m_est             r_m_z  r_m_p       r_u_est             r_u_z  r_u_p                          m_u_est            m_u_z\n",
       "1 confident      $-0.001 \\\\pm 0.331$ -0.003 $P = 1.000$ $1.042 \\\\pm 0.332$  3.138  $P = \\\\num{4.837e-03}^{ ** }$  $1.042 \\\\pm 0.333$ 3.133\n",
       "2 fun_play       $0.143 \\\\pm 0.266$  0.538  $P = 0.853$ $1.020 \\\\pm 0.274$  3.722  $P = \\\\num{5.791e-04}^{ *** }$ $0.877 \\\\pm 0.273$ 3.210\n",
       "3 fun_watch      $0.135 \\\\pm 0.250$  0.542  $P = 0.850$ $0.892 \\\\pm 0.259$  3.446  $P = \\\\num{1.650e-03}^{ ** }$  $0.757 \\\\pm 0.257$ 2.944\n",
       "4 capability     $0.016 \\\\pm 0.159$  0.097  $P = 0.995$ $0.251 \\\\pm 0.165$  1.521  $P = 0.281$                    $0.236 \\\\pm 0.165$ 1.426\n",
       "5 goldilocks     $-0.200 \\\\pm 0.357$ -0.559 $P = 0.842$ $-0.194 \\\\pm 0.361$ -0.538 $P = 0.853$                    $0.006 \\\\pm 0.361$ 0.016\n",
       "6 creativity     $0.228 \\\\pm 0.310$  0.736  $P = 0.742$ $0.489 \\\\pm 0.316$  1.548  $P = 0.269$                    $0.261 \\\\pm 0.314$ 0.832\n",
       "7 human_likeness $0.199 \\\\pm 0.274$  0.727  $P = 0.748$ $1.396 \\\\pm 0.283$  4.927  $P = \\\\num{2.495e-06}^{ *** }$ $1.197 \\\\pm 0.283$ 4.225\n",
       "  m_u_p                         \n",
       "1 $P = \\\\num{4.927e-03}^{ ** }$ \n",
       "2 $P = \\\\num{3.791e-03}^{ ** }$ \n",
       "3 $P = \\\\num{9.076e-03}^{ ** }$ \n",
       "4 $P = 0.328$                   \n",
       "5 $P = 1.000$                   \n",
       "6 $P = 0.683$                   \n",
       "7 $P = \\\\num{7.088e-05}^{ *** }$"
      ]
     },
     "metadata": {},
     "output_type": "display_data"
    }
   ],
   "source": [
    "truncate_p_values <- FALSE\n",
    "sig_figs <- 3\n",
    "\n",
    "game_type_only_mm_results_table <- data.frame(\n",
    "    attribute = character(),\n",
    "    r_m_est = numeric(),\n",
    "    r_m_z = numeric(),\n",
    "    r_m_p = numeric(),\n",
    "    r_u_est = numeric(),\n",
    "    r_u_z = numeric(),\n",
    "    r_u_p = numeric(),\n",
    "    m_u_est = numeric(),\n",
    "    m_u_z = numeric(),\n",
    "    m_u_p = numeric()\n",
    "    \n",
    ")\n",
    "\n",
    "\n",
    "for (name in names(game_type_only_model_list)) {\n",
    "    model <- game_type_only_model_list[[name]]\n",
    "    em <- emmeans(model, \"game_type\")\n",
    "    p <- pairs(em, reverse = TRUE)\n",
    "    s <- summary(p)\n",
    "    table_row <- data.frame(\n",
    "        attribute = name,\n",
    "        r_m_est = glue(\"${formatC(s[3, 2], digits = sig_figs, format = 'f')} \\\\pm {formatC(s[3, 3], digits = sig_figs, format = 'f')}$\"),\n",
    "        r_m_z = formatC(s[3, 5], digits = sig_figs, format = \"f\"),\n",
    "        r_m_p = s[3, 6],\n",
    "        r_u_est = glue(\"${formatC(s[2, 2], digits = sig_figs, format = 'f')} \\\\pm {formatC(s[2, 3], digits = sig_figs, format = 'f')}$\"),\n",
    "        r_u_z = formatC(s[2, 5], digits = sig_figs, format = \"f\"),\n",
    "        r_u_p = s[2, 6],\n",
    "        m_u_est = glue(\"${formatC(s[1, 2], digits = sig_figs, format = 'f')} \\\\pm {formatC(s[1, 3], digits = sig_figs, format = 'f')}$\"),\n",
    "        m_u_z = formatC(s[1, 5], digits = sig_figs, format = \"f\"),\n",
    "        m_u_p = s[1, 6]\n",
    "    )\n",
    "    game_type_only_mm_results_table <- rbind(game_type_only_mm_results_table, table_row)\n",
    "}\n",
    "\n",
    "\n",
    "# Iterate through the columns\n",
    "for (col in c(\"m_u_p\", \"r_u_p\", \"r_m_p\")) {\n",
    "    # Iterate through the cells\n",
    "    for (i in seq_len(nrow(game_type_only_mm_results_table))) {\n",
    "        # Get the current value\n",
    "        value <- as.double(game_type_only_mm_results_table[i, col])\n",
    "\n",
    "        # Modify the value based on the conditions\n",
    "        if (truncate_p_values && value < 10^-5) {\n",
    "            game_type_only_mm_results_table[i, col] <- \"$P < \\\\num{1e-5}^{ *** }$\"\n",
    "        } else if (truncate_p_values && value < 10^-3) {\n",
    "            game_type_only_mm_results_table[i, col] <- \"$P < \\\\num{1e-3}^{ *** }$\"\n",
    "        } else {\n",
    "            use_scientific <- value < 0.01\n",
    "            v <- formatC(value, digits = sig_figs, format = ifelse(use_scientific, \"e\", \"f\"))\n",
    "            if (use_scientific) {\n",
    "                v <- glue(\"\\\\num{{{v}}}\")\n",
    "            }\n",
    "            stars <- ifelse(value < 0.001, \"***\",\n",
    "                ifelse(value < 0.01, \"**\", ifelse(value < 0.05, \"*\", \"\"))\n",
    "            )\n",
    "            if (stars != \"\") {\n",
    "                game_type_only_mm_results_table[i, col] <- glue(\"$P = {v}^{{ {stars} }}$\")\n",
    "            } else {\n",
    "                game_type_only_mm_results_table[i, col] <- glue(\"$P = {v}$\")\n",
    "            }\n",
    "        }\n",
    "    }\n",
    "}\n",
    "\n",
    "game_type_only_mm_results_table"
   ]
  },
  {
   "cell_type": "code",
   "execution_count": 16,
   "metadata": {
    "vscode": {
     "languageId": "r"
    }
   },
   "outputs": [
    {
     "name": "stdout",
     "output_type": "stream",
     "text": [
      "% latex table generated in R 4.3.2 by xtable 1.8-4 package\n",
      "% Thu Aug 22 17:00:47 2024\n",
      "\\begin{tabular}{llllllllll}\n",
      "  \\hline\n",
      "attribute & r_m_est & r_m_z & r_m_p & r_u_est & r_u_z & r_u_p & m_u_est & m_u_z & m_u_p \\\\ \n",
      "  \\hline\n",
      "confident & $-0.001 \\pm 0.331$ & -0.003 & $P = 1.000$ & $1.042 \\pm 0.332$ & 3.138 & $P = \\num{4.837e-03}^{ ** }$ & $1.042 \\pm 0.333$ & 3.133 & $P = \\num{4.927e-03}^{ ** }$ \\\\ \n",
      "  fun_play & $0.143 \\pm 0.266$ & 0.538 & $P = 0.853$ & $1.020 \\pm 0.274$ & 3.722 & $P = \\num{5.791e-04}^{ *** }$ & $0.877 \\pm 0.273$ & 3.210 & $P = \\num{3.791e-03}^{ ** }$ \\\\ \n",
      "  fun_watch & $0.135 \\pm 0.250$ & 0.542 & $P = 0.850$ & $0.892 \\pm 0.259$ & 3.446 & $P = \\num{1.650e-03}^{ ** }$ & $0.757 \\pm 0.257$ & 2.944 & $P = \\num{9.076e-03}^{ ** }$ \\\\ \n",
      "  capability & $0.016 \\pm 0.159$ & 0.097 & $P = 0.995$ & $0.251 \\pm 0.165$ & 1.521 & $P = 0.281$ & $0.236 \\pm 0.165$ & 1.426 & $P = 0.328$ \\\\ \n",
      "  goldilocks & $-0.200 \\pm 0.357$ & -0.559 & $P = 0.842$ & $-0.194 \\pm 0.361$ & -0.538 & $P = 0.853$ & $0.006 \\pm 0.361$ & 0.016 & $P = 1.000$ \\\\ \n",
      "  creativity & $0.228 \\pm 0.310$ & 0.736 & $P = 0.742$ & $0.489 \\pm 0.316$ & 1.548 & $P = 0.269$ & $0.261 \\pm 0.314$ & 0.832 & $P = 0.683$ \\\\ \n",
      "  human_likeness & $0.199 \\pm 0.274$ & 0.727 & $P = 0.748$ & $1.396 \\pm 0.283$ & 4.927 & $P = \\num{2.495e-06}^{ *** }$ & $1.197 \\pm 0.283$ & 4.225 & $P = \\num{7.088e-05}^{ *** }$ \\\\ \n",
      "   \\hline\n",
      "\\end{tabular}\n"
     ]
    }
   ],
   "source": [
    "# Convert the dataframe to an xtable object\n",
    "game_type_only_mm_results_table_latex <- xtable(game_type_only_mm_results_table, digits = 3)\n",
    "\n",
    "# Print the LaTeX table\n",
    "print(game_type_only_mm_results_table_latex, include.rownames = FALSE, floating = FALSE, sanitize.text.function = identity, digits=3)\n"
   ]
  }
 ],
 "metadata": {
  "kernelspec": {
   "display_name": "R",
   "language": "R",
   "name": "ir"
  },
  "language_info": {
   "codemirror_mode": "r",
   "file_extension": ".r",
   "mimetype": "text/x-r-source",
   "name": "R",
   "pygments_lexer": "r",
   "version": "4.3.2"
  }
 },
 "nbformat": 4,
 "nbformat_minor": 2
}
