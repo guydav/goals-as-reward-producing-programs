{
 "cells": [
  {
   "cell_type": "code",
   "execution_count": 1,
   "metadata": {},
   "outputs": [],
   "source": [
    "%autoreload 2"
   ]
  },
  {
   "cell_type": "code",
   "execution_count": 2,
   "metadata": {},
   "outputs": [
    {
     "name": "stderr",
     "output_type": "stream",
     "text": [
      "2024-08-16 17:38:02 - ast_utils - DEBUG    - Using cache folder: /Users/guydavidson/tmp/game_generation_cache\n"
     ]
    }
   ],
   "source": [
    "from collections import defaultdict\n",
    "import json\n",
    "import os\n",
    "import sys\n",
    "\n",
    "\n",
    "import logging\n",
    "logging.getLogger('matplotlib').setLevel(logging.WARNING)\n",
    "\n",
    "\n",
    "import tatsu\n",
    "import tatsu.ast\n",
    "\n",
    "sys.path.append(os.path.abspath('..'))\n",
    "sys.path.append(os.path.abspath('../src'))\n",
    "from src.fitness_energy_utils import  load_data\n",
    "from src.fitness_features import *\n",
    "from src.ast_counter_sampler import *\n",
    "from src.evolutionary_sampler import *\n",
    "from src import fitness_features_by_category, latest_model_paths"
   ]
  },
  {
   "cell_type": "code",
   "execution_count": 3,
   "metadata": {},
   "outputs": [
    {
     "name": "stderr",
     "output_type": "stream",
     "text": [
      "2024-08-16 17:38:05 - ast_utils - INFO     - Loading from cache file: /Users/guydavidson/tmp/game_generation_cache/interactive-beta-cache.pkl.gz\n",
      "2024-08-16 17:38:05 - ast_utils - INFO     - Finished loading cache file: /Users/guydavidson/tmp/game_generation_cache/interactive-beta-cache.pkl.gz\n"
     ]
    }
   ],
   "source": [
    "grammar = open('../dsl/dsl.ebnf').read()\n",
    "grammar_parser = tatsu.compile(grammar)\n",
    "game_asts = list(cached_load_and_parse_games_from_file('../dsl/interactive-beta.pddl', grammar_parser, False, relative_path='..'))\n",
    "all_game_ids = [ast[1].game_name for ast in game_asts]\n",
    "total_games = len(all_game_ids)\n",
    "\n",
    "human_games_trace_filter_data = load_data('', 'samples', f'/trace_filter_results_interactive-beta.pddl_2024_03_19', relative_path='..')"
   ]
  },
  {
   "cell_type": "markdown",
   "metadata": {},
   "source": [
    "## Load a mapping of game IDs to trace IDs"
   ]
  },
  {
   "cell_type": "code",
   "execution_count": 4,
   "metadata": {},
   "outputs": [],
   "source": [
    "GAME_TO_TRACES_MAPPING_PATH =  '../data/game_to_trace_id.json'\n",
    "\n",
    "with open(GAME_TO_TRACES_MAPPING_PATH) as f:\n",
    "    game_to_traces_mapping = json.load(f)"
   ]
  },
  {
   "cell_type": "markdown",
   "metadata": {},
   "source": [
    "## Check the 'reward machine evaluation results from all particpants' interactions"
   ]
  },
  {
   "cell_type": "code",
   "execution_count": 5,
   "metadata": {},
   "outputs": [
    {
     "name": "stdout",
     "output_type": "stream",
     "text": [
      "Of the 98 games in our dataset, 95 have at least one component satisfied, while 15 have at least one component unsatisfied\n",
      "Of the 249 total components across the 98 games in our dataset, 23 unique components are never satisfied\n"
     ]
    }
   ],
   "source": [
    "total_game_components = 0\n",
    "unsatisfied_game_components = []\n",
    "games_with_satisfied_components = set()\n",
    "games_with_unsatisfied_components = set()\n",
    "\n",
    "for index, game_id in enumerate(all_game_ids):\n",
    "    game_trace_filter_results = human_games_trace_filter_data['full'][index]\n",
    "    for game_component_name, trace_id_to_count in game_trace_filter_results.items():\n",
    "        total_game_components += 1\n",
    "\n",
    "        if not trace_id_to_count:\n",
    "            unsatisfied_game_components.append((index, game_id, game_component_name))\n",
    "            games_with_unsatisfied_components.add(game_id)\n",
    "\n",
    "        else:\n",
    "            games_with_satisfied_components.add(game_id)\n",
    "\n",
    "print(f'Of the {total_games} games in our dataset, {len(games_with_satisfied_components)} have at least one component satisfied, while {len(games_with_unsatisfied_components)} have at least one component unsatisfied')\n",
    "print(f'Of the {total_game_components} total components across the {len(all_game_ids)} games in our dataset, {len(unsatisfied_game_components)} unique components are never satisfied')"
   ]
  },
  {
   "cell_type": "markdown",
   "metadata": {},
   "source": [
    "## Check the 'reward machine' evaluation results from the creating participant's interactions"
   ]
  },
  {
   "cell_type": "code",
   "execution_count": 6,
   "metadata": {},
   "outputs": [],
   "source": [
    "same_participant_trace_filter_results = defaultdict(dict)\n",
    "\n",
    "for index, game_id in enumerate(all_game_ids):\n",
    "    game_trace_filter_results = human_games_trace_filter_data['full'][index]\n",
    "    for game_component_name, trace_id_to_count in game_trace_filter_results.items():\n",
    "        trace_ids = [trace_id.split('-')[0] for trace_id in trace_id_to_count]\n",
    "        section_firestore_ids = set(trace_ids)\n",
    "        participant_db_ids = set(game_to_traces_mapping[game_id])\n",
    "        shared_ids = participant_db_ids & section_firestore_ids\n",
    "        same_participant_trace_filter_results[game_id][game_component_name] = len(shared_ids)\n",
    "\n",
    "    same_participant_trace_filter_results[game_id]['all'] = all(same_participant_trace_filter_results[game_id].values())\n",
    "    same_participant_trace_filter_results[game_id]['any'] = any(same_participant_trace_filter_results[game_id].values())\n"
   ]
  },
  {
   "cell_type": "code",
   "execution_count": 7,
   "metadata": {},
   "outputs": [
    {
     "name": "stdout",
     "output_type": "stream",
     "text": [
      "Of the 98 games in our dataset, 86 (87.76%) have at least one component satisfied by the participant who created the game\n",
      "Of the 98 games in our dataset, 56 (57.14%) have all of their components satisfied by the participant who created the game\n"
     ]
    }
   ],
   "source": [
    "any_count = sum([v['any'] for v in same_participant_trace_filter_results.values()])\n",
    "all_count = sum([v['all'] for v in same_participant_trace_filter_results.values()])\n",
    "\n",
    "\n",
    "print(f'Of the {total_games} games in our dataset, {any_count} ({any_count / total_games * 100:.2f}%) have at least one component satisfied by the participant who created the game')\n",
    "print(f'Of the {len(all_game_ids)} games in our dataset, {all_count} ({all_count / total_games * 100:.2f}%) have all of their components satisfied by the participant who created the game')"
   ]
  }
 ],
 "metadata": {
  "kernelspec": {
   "display_name": "game-gen",
   "language": "python",
   "name": "python3"
  },
  "language_info": {
   "codemirror_mode": {
    "name": "ipython",
    "version": 3
   },
   "file_extension": ".py",
   "mimetype": "text/x-python",
   "name": "python",
   "nbconvert_exporter": "python",
   "pygments_lexer": "ipython3",
   "version": "3.10.8"
  }
 },
 "nbformat": 4,
 "nbformat_minor": 2
}
